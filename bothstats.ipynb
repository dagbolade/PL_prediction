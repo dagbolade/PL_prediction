{
 "cells": [
  {
   "cell_type": "code",
   "execution_count": 6,
   "id": "initial_id",
   "metadata": {
    "collapsed": true,
    "ExecuteTime": {
     "end_time": "2023-12-27T15:31:08.967591100Z",
     "start_time": "2023-12-27T15:31:08.369092300Z"
    }
   },
   "outputs": [
    {
     "data": {
      "text/plain": "      Id            Name  Weight(kg)  Height(cm)   Age  Citizenship  \\\n0     28  Erling Haaland      87.168      193.04  23.0       Norway   \n18    29  Julián Álvarez      71.278      170.18  23.0    Argentina   \n28    17  Bernardo Silva      63.106      172.72  29.0     Portugal   \n30    20      Phil Foden      69.008      170.18  23.0      England   \n38    19           Rodri      82.174      190.50  27.0        Spain   \n52   744     Jérémy Doku      66.284      172.72  21.0      Belgium   \n56     7      Nathan Aké      74.002      180.34  28.0  Netherlands   \n73    10   Manuel Akanji      91.254      185.42  28.0  Switzerland   \n194    5     Kyle Walker      78.996      177.80  33.0      England   \n202   16   Jack Grealish      76.272      175.26  28.0      England   \n\n            HomeTeam  Jersey    Position  Total Play Time(min)  ...  \\\n0    Manchester City     9.0     Forward                  1196  ...   \n18   Manchester City    19.0     Forward                  1134  ...   \n28   Manchester City    20.0  Midfielder                   889  ...   \n30   Manchester City    47.0  Midfielder                  1092  ...   \n38   Manchester City    16.0  Midfielder                   979  ...   \n52   Manchester City    11.0     Forward                   681  ...   \n56   Manchester City     6.0    Defender                   693  ...   \n73   Manchester City    25.0    Defender                   977  ...   \n194  Manchester City     2.0    Defender                  1267  ...   \n202  Manchester City    10.0  Midfielder                   376  ...   \n\n     yellowCards  redCards  goalAssists  shotsOnTarget  totalShots  \\\n0              0         0            3             24          45   \n18             2         0            4             10          37   \n28             3         0            3              4           6   \n30             1         0            3             12          26   \n38             4         1            2             10          19   \n52             2         0            5              6          16   \n56             0         0            1              2           7   \n73             2         1            0              3           6   \n194            1         0            1              1           5   \n202            4         0            1              1          10   \n\n     totalGoals  goalsConceded  shotsFaced  saves         Update Time  \n0            14             11           0      0 2023-11-28 07:26:46  \n18            4              9           0      0 2023-11-28 07:26:46  \n28            3             10           0      0 2023-11-28 07:26:46  \n30            3             11           0      0 2023-11-28 07:26:46  \n38            3              9           0      0 2023-11-28 07:26:46  \n52            2              9           0      0 2023-11-28 07:26:46  \n56            2              6           0      0 2023-11-28 07:26:46  \n73            2             10           0      0 2023-11-28 07:26:46  \n194           0             12           0      0 2023-11-28 07:26:46  \n202           0              3           0      0 2023-11-28 07:26:46  \n\n[10 rows x 27 columns]",
      "text/html": "<div>\n<style scoped>\n    .dataframe tbody tr th:only-of-type {\n        vertical-align: middle;\n    }\n\n    .dataframe tbody tr th {\n        vertical-align: top;\n    }\n\n    .dataframe thead th {\n        text-align: right;\n    }\n</style>\n<table border=\"1\" class=\"dataframe\">\n  <thead>\n    <tr style=\"text-align: right;\">\n      <th></th>\n      <th>Id</th>\n      <th>Name</th>\n      <th>Weight(kg)</th>\n      <th>Height(cm)</th>\n      <th>Age</th>\n      <th>Citizenship</th>\n      <th>HomeTeam</th>\n      <th>Jersey</th>\n      <th>Position</th>\n      <th>Total Play Time(min)</th>\n      <th>...</th>\n      <th>yellowCards</th>\n      <th>redCards</th>\n      <th>goalAssists</th>\n      <th>shotsOnTarget</th>\n      <th>totalShots</th>\n      <th>totalGoals</th>\n      <th>goalsConceded</th>\n      <th>shotsFaced</th>\n      <th>saves</th>\n      <th>Update Time</th>\n    </tr>\n  </thead>\n  <tbody>\n    <tr>\n      <th>0</th>\n      <td>28</td>\n      <td>Erling Haaland</td>\n      <td>87.168</td>\n      <td>193.04</td>\n      <td>23.0</td>\n      <td>Norway</td>\n      <td>Manchester City</td>\n      <td>9.0</td>\n      <td>Forward</td>\n      <td>1196</td>\n      <td>...</td>\n      <td>0</td>\n      <td>0</td>\n      <td>3</td>\n      <td>24</td>\n      <td>45</td>\n      <td>14</td>\n      <td>11</td>\n      <td>0</td>\n      <td>0</td>\n      <td>2023-11-28 07:26:46</td>\n    </tr>\n    <tr>\n      <th>18</th>\n      <td>29</td>\n      <td>Julián Álvarez</td>\n      <td>71.278</td>\n      <td>170.18</td>\n      <td>23.0</td>\n      <td>Argentina</td>\n      <td>Manchester City</td>\n      <td>19.0</td>\n      <td>Forward</td>\n      <td>1134</td>\n      <td>...</td>\n      <td>2</td>\n      <td>0</td>\n      <td>4</td>\n      <td>10</td>\n      <td>37</td>\n      <td>4</td>\n      <td>9</td>\n      <td>0</td>\n      <td>0</td>\n      <td>2023-11-28 07:26:46</td>\n    </tr>\n    <tr>\n      <th>28</th>\n      <td>17</td>\n      <td>Bernardo Silva</td>\n      <td>63.106</td>\n      <td>172.72</td>\n      <td>29.0</td>\n      <td>Portugal</td>\n      <td>Manchester City</td>\n      <td>20.0</td>\n      <td>Midfielder</td>\n      <td>889</td>\n      <td>...</td>\n      <td>3</td>\n      <td>0</td>\n      <td>3</td>\n      <td>4</td>\n      <td>6</td>\n      <td>3</td>\n      <td>10</td>\n      <td>0</td>\n      <td>0</td>\n      <td>2023-11-28 07:26:46</td>\n    </tr>\n    <tr>\n      <th>30</th>\n      <td>20</td>\n      <td>Phil Foden</td>\n      <td>69.008</td>\n      <td>170.18</td>\n      <td>23.0</td>\n      <td>England</td>\n      <td>Manchester City</td>\n      <td>47.0</td>\n      <td>Midfielder</td>\n      <td>1092</td>\n      <td>...</td>\n      <td>1</td>\n      <td>0</td>\n      <td>3</td>\n      <td>12</td>\n      <td>26</td>\n      <td>3</td>\n      <td>11</td>\n      <td>0</td>\n      <td>0</td>\n      <td>2023-11-28 07:26:46</td>\n    </tr>\n    <tr>\n      <th>38</th>\n      <td>19</td>\n      <td>Rodri</td>\n      <td>82.174</td>\n      <td>190.50</td>\n      <td>27.0</td>\n      <td>Spain</td>\n      <td>Manchester City</td>\n      <td>16.0</td>\n      <td>Midfielder</td>\n      <td>979</td>\n      <td>...</td>\n      <td>4</td>\n      <td>1</td>\n      <td>2</td>\n      <td>10</td>\n      <td>19</td>\n      <td>3</td>\n      <td>9</td>\n      <td>0</td>\n      <td>0</td>\n      <td>2023-11-28 07:26:46</td>\n    </tr>\n    <tr>\n      <th>52</th>\n      <td>744</td>\n      <td>Jérémy Doku</td>\n      <td>66.284</td>\n      <td>172.72</td>\n      <td>21.0</td>\n      <td>Belgium</td>\n      <td>Manchester City</td>\n      <td>11.0</td>\n      <td>Forward</td>\n      <td>681</td>\n      <td>...</td>\n      <td>2</td>\n      <td>0</td>\n      <td>5</td>\n      <td>6</td>\n      <td>16</td>\n      <td>2</td>\n      <td>9</td>\n      <td>0</td>\n      <td>0</td>\n      <td>2023-11-28 07:26:46</td>\n    </tr>\n    <tr>\n      <th>56</th>\n      <td>7</td>\n      <td>Nathan Aké</td>\n      <td>74.002</td>\n      <td>180.34</td>\n      <td>28.0</td>\n      <td>Netherlands</td>\n      <td>Manchester City</td>\n      <td>6.0</td>\n      <td>Defender</td>\n      <td>693</td>\n      <td>...</td>\n      <td>0</td>\n      <td>0</td>\n      <td>1</td>\n      <td>2</td>\n      <td>7</td>\n      <td>2</td>\n      <td>6</td>\n      <td>0</td>\n      <td>0</td>\n      <td>2023-11-28 07:26:46</td>\n    </tr>\n    <tr>\n      <th>73</th>\n      <td>10</td>\n      <td>Manuel Akanji</td>\n      <td>91.254</td>\n      <td>185.42</td>\n      <td>28.0</td>\n      <td>Switzerland</td>\n      <td>Manchester City</td>\n      <td>25.0</td>\n      <td>Defender</td>\n      <td>977</td>\n      <td>...</td>\n      <td>2</td>\n      <td>1</td>\n      <td>0</td>\n      <td>3</td>\n      <td>6</td>\n      <td>2</td>\n      <td>10</td>\n      <td>0</td>\n      <td>0</td>\n      <td>2023-11-28 07:26:46</td>\n    </tr>\n    <tr>\n      <th>194</th>\n      <td>5</td>\n      <td>Kyle Walker</td>\n      <td>78.996</td>\n      <td>177.80</td>\n      <td>33.0</td>\n      <td>England</td>\n      <td>Manchester City</td>\n      <td>2.0</td>\n      <td>Defender</td>\n      <td>1267</td>\n      <td>...</td>\n      <td>1</td>\n      <td>0</td>\n      <td>1</td>\n      <td>1</td>\n      <td>5</td>\n      <td>0</td>\n      <td>12</td>\n      <td>0</td>\n      <td>0</td>\n      <td>2023-11-28 07:26:46</td>\n    </tr>\n    <tr>\n      <th>202</th>\n      <td>16</td>\n      <td>Jack Grealish</td>\n      <td>76.272</td>\n      <td>175.26</td>\n      <td>28.0</td>\n      <td>England</td>\n      <td>Manchester City</td>\n      <td>10.0</td>\n      <td>Midfielder</td>\n      <td>376</td>\n      <td>...</td>\n      <td>4</td>\n      <td>0</td>\n      <td>1</td>\n      <td>1</td>\n      <td>10</td>\n      <td>0</td>\n      <td>3</td>\n      <td>0</td>\n      <td>0</td>\n      <td>2023-11-28 07:26:46</td>\n    </tr>\n  </tbody>\n</table>\n<p>10 rows × 27 columns</p>\n</div>"
     },
     "execution_count": 6,
     "metadata": {},
     "output_type": "execute_result"
    }
   ],
   "source": [
    "# Importing necessary libraries\n",
    "import pandas as pd\n",
    "\n",
    "# Load the first file (Premier League player stats)\n",
    "player_stats_path = 'Soccer-Stats-Premier-League-2023-2024_20231128.xlsx'\n",
    "\n",
    "# Load the 'PlayerStatsExport' sheet from the Excel file\n",
    "player_stats_df = pd.read_excel(player_stats_path, sheet_name='PlayerStatsExport')\n",
    "\n",
    "# Load the second file (Team stats)\n",
    "team_stats_path = 'E0_cleaned.csv'\n",
    "team_stats_df = pd.read_csv(team_stats_path)\n",
    "\n",
    "# Renaming the 'Team' column in player stats to match the team name columns in the team stats dataframe\n",
    "player_stats_df.rename(columns={'Team': 'HomeTeam'}, inplace=True)\n",
    "\n",
    "# Renaming the 'Team' column in player stats to match the team name columns in the team stats dataframe\n",
    "player_stats_df.rename(columns={'Team': 'HomeTeam'}, inplace=True)\n",
    "\n",
    "# Performing the join\n",
    "combined_df = pd.merge(team_stats_df, player_stats_df, on='HomeTeam', how='left')\n",
    "\n",
    "# Filtering the player stats dataframe for Manchester City players\n",
    "man_city_player_stats = player_stats_df[player_stats_df['HomeTeam'] == 'Manchester City']\n",
    "\n",
    "# Displaying the statistics for Manchester City players\n",
    "man_city_player_stats.head(10)"
   ]
  },
  {
   "cell_type": "code",
   "execution_count": 7,
   "outputs": [
    {
     "data": {
      "text/plain": "(2635, 132)"
     },
     "execution_count": 7,
     "metadata": {},
     "output_type": "execute_result"
    }
   ],
   "source": [
    "combined_df.shape"
   ],
   "metadata": {
    "collapsed": false,
    "ExecuteTime": {
     "end_time": "2023-12-27T15:31:41.603226Z",
     "start_time": "2023-12-27T15:31:41.596512Z"
    }
   },
   "id": "b2d95272ff1f48fa"
  },
  {
   "cell_type": "code",
   "execution_count": 8,
   "outputs": [
    {
     "data": {
      "text/plain": "Index(['Div', 'Date', 'Time', 'HomeTeam', 'AwayTeam', 'FTHG', 'FTAG', 'FTR',\n       'HTHG', 'HTAG',\n       ...\n       'yellowCards', 'redCards', 'goalAssists', 'shotsOnTarget', 'totalShots',\n       'totalGoals', 'goalsConceded', 'shotsFaced', 'saves', 'Update Time'],\n      dtype='object', length=132)"
     },
     "execution_count": 8,
     "metadata": {},
     "output_type": "execute_result"
    }
   ],
   "source": [
    "# get the column names\n",
    "combined_df.columns"
   ],
   "metadata": {
    "collapsed": false,
    "ExecuteTime": {
     "end_time": "2023-12-27T15:31:54.103898600Z",
     "start_time": "2023-12-27T15:31:54.082397400Z"
    }
   },
   "id": "726a502e749b452f"
  },
  {
   "cell_type": "code",
   "execution_count": 9,
   "outputs": [
    {
     "data": {
      "text/plain": "Div               0\nDate              0\nTime              0\nHomeTeam          0\nAwayTeam          0\n                 ..\ntotalGoals       88\ngoalsConceded    88\nshotsFaced       88\nsaves            88\nUpdate Time      88\nLength: 132, dtype: int64"
     },
     "execution_count": 9,
     "metadata": {},
     "output_type": "execute_result"
    }
   ],
   "source": [
    "# check for null values\n",
    "combined_df.isnull().sum()\n"
   ],
   "metadata": {
    "collapsed": false,
    "ExecuteTime": {
     "end_time": "2023-12-27T15:32:14.943281200Z",
     "start_time": "2023-12-27T15:32:14.925027600Z"
    }
   },
   "id": "24a8f9e911b7541b"
  },
  {
   "cell_type": "code",
   "execution_count": 11,
   "outputs": [
    {
     "data": {
      "text/plain": "              FTHG         FTAG         HTHG         HTAG           HS  \\\ncount  2635.000000  2635.000000  2635.000000  2635.000000  2635.000000   \nmean      1.699051     1.388994     0.709677     0.522581    14.779127   \nmin       0.000000     0.000000     0.000000     0.000000     3.000000   \n25%       0.000000     0.000000     0.000000     0.000000    10.000000   \n50%       1.000000     1.000000     1.000000     0.000000    14.000000   \n75%       3.000000     2.000000     1.000000     1.000000    19.000000   \nmax       6.000000     8.000000     3.000000     3.000000    34.000000   \nstd       1.466708     1.306528     0.812979     0.752976     5.752800   \n\n                AS          HST          AST          HF           AF  ...  \\\ncount  2635.000000  2635.000000  2635.000000  2635.00000  2635.000000  ...   \nmean     11.408349     5.029981     4.089564    10.97723    11.220114  ...   \nmin       2.000000     1.000000     0.000000     4.00000     2.000000  ...   \n25%       8.000000     3.000000     2.000000     9.00000     9.000000  ...   \n50%      11.000000     5.000000     4.000000    11.00000    12.000000  ...   \n75%      15.000000     7.000000     5.000000    13.00000    13.000000  ...   \nmax      30.000000    13.000000    15.000000    19.00000    21.000000  ...   \nstd       5.055223     2.675476     2.654409     3.35739     3.370015  ...   \n\n       yellowCards     redCards  goalAssists  shotsOnTarget   totalShots  \\\ncount  2547.000000  2547.000000  2547.000000    2547.000000  2547.000000   \nmean      1.049470     0.053004     0.416961       1.833922     5.826855   \nmin       0.000000     0.000000     0.000000       0.000000     0.000000   \n25%       0.000000     0.000000     0.000000       0.000000     0.000000   \n50%       0.000000     0.000000     0.000000       1.000000     3.000000   \n75%       2.000000     0.000000     1.000000       2.000000     8.000000   \nmax       7.000000     1.000000     6.000000      17.000000    39.000000   \nstd       1.362696     0.224085     0.879456       2.952009     7.855896   \n\n        totalGoals  goalsConceded   shotsFaced        saves  \\\ncount  2547.000000    2547.000000  2547.000000  2547.000000   \nmean      0.621908       7.455830     4.911661     1.385159   \nmin       0.000000       0.000000     0.000000     0.000000   \n25%       0.000000       0.000000     0.000000     0.000000   \n50%       0.000000       5.000000     0.000000     0.000000   \n75%       1.000000      13.000000     0.000000     0.000000   \nmax      10.000000      33.000000   212.000000    66.000000   \nstd       1.324863       7.559551    25.588449     7.489274   \n\n                         Update Time  \ncount                           2547  \nmean   2023-11-28 07:26:50.109540352  \nmin              2023-11-28 07:26:46  \n25%              2023-11-28 07:26:49  \n50%              2023-11-28 07:26:50  \n75%              2023-11-28 07:26:52  \nmax              2023-11-28 07:26:53  \nstd                              NaN  \n\n[8 rows x 121 columns]",
      "text/html": "<div>\n<style scoped>\n    .dataframe tbody tr th:only-of-type {\n        vertical-align: middle;\n    }\n\n    .dataframe tbody tr th {\n        vertical-align: top;\n    }\n\n    .dataframe thead th {\n        text-align: right;\n    }\n</style>\n<table border=\"1\" class=\"dataframe\">\n  <thead>\n    <tr style=\"text-align: right;\">\n      <th></th>\n      <th>FTHG</th>\n      <th>FTAG</th>\n      <th>HTHG</th>\n      <th>HTAG</th>\n      <th>HS</th>\n      <th>AS</th>\n      <th>HST</th>\n      <th>AST</th>\n      <th>HF</th>\n      <th>AF</th>\n      <th>...</th>\n      <th>yellowCards</th>\n      <th>redCards</th>\n      <th>goalAssists</th>\n      <th>shotsOnTarget</th>\n      <th>totalShots</th>\n      <th>totalGoals</th>\n      <th>goalsConceded</th>\n      <th>shotsFaced</th>\n      <th>saves</th>\n      <th>Update Time</th>\n    </tr>\n  </thead>\n  <tbody>\n    <tr>\n      <th>count</th>\n      <td>2635.000000</td>\n      <td>2635.000000</td>\n      <td>2635.000000</td>\n      <td>2635.000000</td>\n      <td>2635.000000</td>\n      <td>2635.000000</td>\n      <td>2635.000000</td>\n      <td>2635.000000</td>\n      <td>2635.00000</td>\n      <td>2635.000000</td>\n      <td>...</td>\n      <td>2547.000000</td>\n      <td>2547.000000</td>\n      <td>2547.000000</td>\n      <td>2547.000000</td>\n      <td>2547.000000</td>\n      <td>2547.000000</td>\n      <td>2547.000000</td>\n      <td>2547.000000</td>\n      <td>2547.000000</td>\n      <td>2547</td>\n    </tr>\n    <tr>\n      <th>mean</th>\n      <td>1.699051</td>\n      <td>1.388994</td>\n      <td>0.709677</td>\n      <td>0.522581</td>\n      <td>14.779127</td>\n      <td>11.408349</td>\n      <td>5.029981</td>\n      <td>4.089564</td>\n      <td>10.97723</td>\n      <td>11.220114</td>\n      <td>...</td>\n      <td>1.049470</td>\n      <td>0.053004</td>\n      <td>0.416961</td>\n      <td>1.833922</td>\n      <td>5.826855</td>\n      <td>0.621908</td>\n      <td>7.455830</td>\n      <td>4.911661</td>\n      <td>1.385159</td>\n      <td>2023-11-28 07:26:50.109540352</td>\n    </tr>\n    <tr>\n      <th>min</th>\n      <td>0.000000</td>\n      <td>0.000000</td>\n      <td>0.000000</td>\n      <td>0.000000</td>\n      <td>3.000000</td>\n      <td>2.000000</td>\n      <td>1.000000</td>\n      <td>0.000000</td>\n      <td>4.00000</td>\n      <td>2.000000</td>\n      <td>...</td>\n      <td>0.000000</td>\n      <td>0.000000</td>\n      <td>0.000000</td>\n      <td>0.000000</td>\n      <td>0.000000</td>\n      <td>0.000000</td>\n      <td>0.000000</td>\n      <td>0.000000</td>\n      <td>0.000000</td>\n      <td>2023-11-28 07:26:46</td>\n    </tr>\n    <tr>\n      <th>25%</th>\n      <td>0.000000</td>\n      <td>0.000000</td>\n      <td>0.000000</td>\n      <td>0.000000</td>\n      <td>10.000000</td>\n      <td>8.000000</td>\n      <td>3.000000</td>\n      <td>2.000000</td>\n      <td>9.00000</td>\n      <td>9.000000</td>\n      <td>...</td>\n      <td>0.000000</td>\n      <td>0.000000</td>\n      <td>0.000000</td>\n      <td>0.000000</td>\n      <td>0.000000</td>\n      <td>0.000000</td>\n      <td>0.000000</td>\n      <td>0.000000</td>\n      <td>0.000000</td>\n      <td>2023-11-28 07:26:49</td>\n    </tr>\n    <tr>\n      <th>50%</th>\n      <td>1.000000</td>\n      <td>1.000000</td>\n      <td>1.000000</td>\n      <td>0.000000</td>\n      <td>14.000000</td>\n      <td>11.000000</td>\n      <td>5.000000</td>\n      <td>4.000000</td>\n      <td>11.00000</td>\n      <td>12.000000</td>\n      <td>...</td>\n      <td>0.000000</td>\n      <td>0.000000</td>\n      <td>0.000000</td>\n      <td>1.000000</td>\n      <td>3.000000</td>\n      <td>0.000000</td>\n      <td>5.000000</td>\n      <td>0.000000</td>\n      <td>0.000000</td>\n      <td>2023-11-28 07:26:50</td>\n    </tr>\n    <tr>\n      <th>75%</th>\n      <td>3.000000</td>\n      <td>2.000000</td>\n      <td>1.000000</td>\n      <td>1.000000</td>\n      <td>19.000000</td>\n      <td>15.000000</td>\n      <td>7.000000</td>\n      <td>5.000000</td>\n      <td>13.00000</td>\n      <td>13.000000</td>\n      <td>...</td>\n      <td>2.000000</td>\n      <td>0.000000</td>\n      <td>1.000000</td>\n      <td>2.000000</td>\n      <td>8.000000</td>\n      <td>1.000000</td>\n      <td>13.000000</td>\n      <td>0.000000</td>\n      <td>0.000000</td>\n      <td>2023-11-28 07:26:52</td>\n    </tr>\n    <tr>\n      <th>max</th>\n      <td>6.000000</td>\n      <td>8.000000</td>\n      <td>3.000000</td>\n      <td>3.000000</td>\n      <td>34.000000</td>\n      <td>30.000000</td>\n      <td>13.000000</td>\n      <td>15.000000</td>\n      <td>19.00000</td>\n      <td>21.000000</td>\n      <td>...</td>\n      <td>7.000000</td>\n      <td>1.000000</td>\n      <td>6.000000</td>\n      <td>17.000000</td>\n      <td>39.000000</td>\n      <td>10.000000</td>\n      <td>33.000000</td>\n      <td>212.000000</td>\n      <td>66.000000</td>\n      <td>2023-11-28 07:26:53</td>\n    </tr>\n    <tr>\n      <th>std</th>\n      <td>1.466708</td>\n      <td>1.306528</td>\n      <td>0.812979</td>\n      <td>0.752976</td>\n      <td>5.752800</td>\n      <td>5.055223</td>\n      <td>2.675476</td>\n      <td>2.654409</td>\n      <td>3.35739</td>\n      <td>3.370015</td>\n      <td>...</td>\n      <td>1.362696</td>\n      <td>0.224085</td>\n      <td>0.879456</td>\n      <td>2.952009</td>\n      <td>7.855896</td>\n      <td>1.324863</td>\n      <td>7.559551</td>\n      <td>25.588449</td>\n      <td>7.489274</td>\n      <td>NaN</td>\n    </tr>\n  </tbody>\n</table>\n<p>8 rows × 121 columns</p>\n</div>"
     },
     "execution_count": 11,
     "metadata": {},
     "output_type": "execute_result"
    }
   ],
   "source": [
    "# analyze the data\n",
    "combined_df.describe()\n"
   ],
   "metadata": {
    "collapsed": false,
    "ExecuteTime": {
     "end_time": "2023-12-27T15:39:24.143330100Z",
     "start_time": "2023-12-27T15:39:23.859928400Z"
    }
   },
   "id": "53238cb1245a46ee"
  },
  {
   "cell_type": "markdown",
   "source": [
    "Data Analysis"
   ],
   "metadata": {
    "collapsed": false
   },
   "id": "3e4bb9236f0fcb4c"
  },
  {
   "cell_type": "code",
   "execution_count": 14,
   "outputs": [
    {
     "data": {
      "text/plain": "(      HomeTeam  avg_goals_scored  avg_goals_conceded\n 0      Arsenal          2.444444            0.888889\n 1  Aston Villa          2.888889            0.666667\n 2  Bournemouth          1.000000            1.500000\n 3    Brentford          1.777778            1.555556\n 4     Brighton          2.000000            1.333333,\n              Name           HomeTeam  totalGoals\n 0  Erling Haaland    Manchester City          14\n 1   Mohamed Salah          Liverpool          10\n 2    Jarrod Bowen    West Ham United           8\n 3   Son Heung-Min  Tottenham Hotspur           8\n 4   Ollie Watkins        Aston Villa           7)"
     },
     "execution_count": 14,
     "metadata": {},
     "output_type": "execute_result"
    }
   ],
   "source": [
    "\n",
    "# Team Performance Metrics: Average goals scored and conceded per game\n",
    "team_performance = combined_df.groupby('HomeTeam').agg(\n",
    "    avg_goals_scored=pd.NamedAgg(column='FTHG', aggfunc='mean'),\n",
    "    avg_goals_conceded=pd.NamedAgg(column='FTAG', aggfunc='mean')\n",
    ").reset_index()\n",
    "\n",
    "# 2. Player Impact: Top goal scorers and their influence on match outcomes\n",
    "# First, find the top goal scorers\n",
    "top_scorers = player_stats_df[player_stats_df['totalGoals'] > 0].sort_values(by='totalGoals', ascending=False)\n",
    "# Then, analyze the correlation of their presence with match outcomes (for simplicity, consider presence as having played in the match)\n",
    "\n",
    "# Displaying the results of these analyses\n",
    "team_performance.head(), top_scorers[['Name', 'HomeTeam', 'totalGoals']].head()\n"
   ],
   "metadata": {
    "collapsed": false,
    "ExecuteTime": {
     "end_time": "2023-12-27T15:42:35.763136900Z",
     "start_time": "2023-12-27T15:42:35.739403700Z"
    }
   },
   "id": "3ddf164155435a0c"
  },
  {
   "cell_type": "code",
   "execution_count": null,
   "outputs": [],
   "source": [],
   "metadata": {
    "collapsed": false
   },
   "id": "595edbdeed80649d"
  }
 ],
 "metadata": {
  "kernelspec": {
   "display_name": "Python 3",
   "language": "python",
   "name": "python3"
  },
  "language_info": {
   "codemirror_mode": {
    "name": "ipython",
    "version": 2
   },
   "file_extension": ".py",
   "mimetype": "text/x-python",
   "name": "python",
   "nbconvert_exporter": "python",
   "pygments_lexer": "ipython2",
   "version": "2.7.6"
  }
 },
 "nbformat": 4,
 "nbformat_minor": 5
}
