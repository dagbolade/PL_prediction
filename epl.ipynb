{
 "cells": [
  {
   "cell_type": "markdown",
   "source": [
    "# Premier League 2023/24 predictions"
   ],
   "metadata": {
    "collapsed": false
   },
   "id": "baffb21ee741de4f"
  },
  {
   "cell_type": "markdown",
   "source": [
    "## Importing libraries"
   ],
   "metadata": {
    "collapsed": false
   },
   "id": "5e632784a4a65bae"
  },
  {
   "cell_type": "code",
   "execution_count": 209,
   "outputs": [
    {
     "data": {
      "text/plain": "    Div        Date   Time       HomeTeam     AwayTeam  FTHG  FTAG FTR  HTHG  \\\n173  E0  23/12/2023  15:00          Luton    Newcastle     1     0   H     1   \n174  E0  23/12/2023  15:00  Nott'm Forest  Bournemouth     2     3   A     0   \n175  E0  23/12/2023  15:00      Tottenham      Everton     2     1   H     2   \n176  E0  23/12/2023  17:30      Liverpool      Arsenal     1     1   D     1   \n177  E0  24/12/2023  13:00         Wolves      Chelsea     2     1   H     0   \n\n     HTAG  ... AvgC<2.5  AHCh  B365CAHH  B365CAHA  PCAHH  PCAHA  MaxCAHH  \\\n173     0  ...     2.02  1.00      1.82      2.11   1.76   2.18     1.88   \n174     0  ...     1.93  0.00      2.13      1.81   2.13   1.82     2.17   \n175     0  ...     2.49 -0.75      1.89      2.04   1.89   2.03     1.95   \n176     1  ...     2.30  0.00      1.86      2.07   1.86   2.07     1.89   \n177     0  ...     2.09  0.25      1.98      1.95   2.01   1.92     2.06   \n\n     MaxCAHA  AvgCAHH  AvgCAHA  \n173     2.18     1.80     2.08  \n174     1.83     2.08     1.80  \n175     2.12     1.86     2.00  \n176     2.17     1.82     2.07  \n177     1.95     1.96     1.89  \n\n[5 rows x 106 columns]",
      "text/html": "<div>\n<style scoped>\n    .dataframe tbody tr th:only-of-type {\n        vertical-align: middle;\n    }\n\n    .dataframe tbody tr th {\n        vertical-align: top;\n    }\n\n    .dataframe thead th {\n        text-align: right;\n    }\n</style>\n<table border=\"1\" class=\"dataframe\">\n  <thead>\n    <tr style=\"text-align: right;\">\n      <th></th>\n      <th>Div</th>\n      <th>Date</th>\n      <th>Time</th>\n      <th>HomeTeam</th>\n      <th>AwayTeam</th>\n      <th>FTHG</th>\n      <th>FTAG</th>\n      <th>FTR</th>\n      <th>HTHG</th>\n      <th>HTAG</th>\n      <th>...</th>\n      <th>AvgC&lt;2.5</th>\n      <th>AHCh</th>\n      <th>B365CAHH</th>\n      <th>B365CAHA</th>\n      <th>PCAHH</th>\n      <th>PCAHA</th>\n      <th>MaxCAHH</th>\n      <th>MaxCAHA</th>\n      <th>AvgCAHH</th>\n      <th>AvgCAHA</th>\n    </tr>\n  </thead>\n  <tbody>\n    <tr>\n      <th>173</th>\n      <td>E0</td>\n      <td>23/12/2023</td>\n      <td>15:00</td>\n      <td>Luton</td>\n      <td>Newcastle</td>\n      <td>1</td>\n      <td>0</td>\n      <td>H</td>\n      <td>1</td>\n      <td>0</td>\n      <td>...</td>\n      <td>2.02</td>\n      <td>1.00</td>\n      <td>1.82</td>\n      <td>2.11</td>\n      <td>1.76</td>\n      <td>2.18</td>\n      <td>1.88</td>\n      <td>2.18</td>\n      <td>1.80</td>\n      <td>2.08</td>\n    </tr>\n    <tr>\n      <th>174</th>\n      <td>E0</td>\n      <td>23/12/2023</td>\n      <td>15:00</td>\n      <td>Nott'm Forest</td>\n      <td>Bournemouth</td>\n      <td>2</td>\n      <td>3</td>\n      <td>A</td>\n      <td>0</td>\n      <td>0</td>\n      <td>...</td>\n      <td>1.93</td>\n      <td>0.00</td>\n      <td>2.13</td>\n      <td>1.81</td>\n      <td>2.13</td>\n      <td>1.82</td>\n      <td>2.17</td>\n      <td>1.83</td>\n      <td>2.08</td>\n      <td>1.80</td>\n    </tr>\n    <tr>\n      <th>175</th>\n      <td>E0</td>\n      <td>23/12/2023</td>\n      <td>15:00</td>\n      <td>Tottenham</td>\n      <td>Everton</td>\n      <td>2</td>\n      <td>1</td>\n      <td>H</td>\n      <td>2</td>\n      <td>0</td>\n      <td>...</td>\n      <td>2.49</td>\n      <td>-0.75</td>\n      <td>1.89</td>\n      <td>2.04</td>\n      <td>1.89</td>\n      <td>2.03</td>\n      <td>1.95</td>\n      <td>2.12</td>\n      <td>1.86</td>\n      <td>2.00</td>\n    </tr>\n    <tr>\n      <th>176</th>\n      <td>E0</td>\n      <td>23/12/2023</td>\n      <td>17:30</td>\n      <td>Liverpool</td>\n      <td>Arsenal</td>\n      <td>1</td>\n      <td>1</td>\n      <td>D</td>\n      <td>1</td>\n      <td>1</td>\n      <td>...</td>\n      <td>2.30</td>\n      <td>0.00</td>\n      <td>1.86</td>\n      <td>2.07</td>\n      <td>1.86</td>\n      <td>2.07</td>\n      <td>1.89</td>\n      <td>2.17</td>\n      <td>1.82</td>\n      <td>2.07</td>\n    </tr>\n    <tr>\n      <th>177</th>\n      <td>E0</td>\n      <td>24/12/2023</td>\n      <td>13:00</td>\n      <td>Wolves</td>\n      <td>Chelsea</td>\n      <td>2</td>\n      <td>1</td>\n      <td>H</td>\n      <td>0</td>\n      <td>0</td>\n      <td>...</td>\n      <td>2.09</td>\n      <td>0.25</td>\n      <td>1.98</td>\n      <td>1.95</td>\n      <td>2.01</td>\n      <td>1.92</td>\n      <td>2.06</td>\n      <td>1.95</td>\n      <td>1.96</td>\n      <td>1.89</td>\n    </tr>\n  </tbody>\n</table>\n<p>5 rows × 106 columns</p>\n</div>"
     },
     "execution_count": 209,
     "metadata": {},
     "output_type": "execute_result"
    }
   ],
   "source": [
    "import pandas as pd\n",
    "\n",
    "# Load the dataset from the excel file\n",
    "#file_path = 'all-euro-data-2023-2024.xlsx'\n",
    "#df = pd.read_excel(file_path, sheet_name='E0')\n",
    "\n",
    "# updating the dataset with the recent games played\n",
    "df = pd.read_csv('E0.csv')\n",
    "\n",
    "# Display the first few rows of the dataset\n",
    "df.tail()\n"
   ],
   "metadata": {
    "collapsed": false,
    "ExecuteTime": {
     "end_time": "2023-12-25T17:41:24.704207200Z",
     "start_time": "2023-12-25T17:41:24.486628200Z"
    }
   },
   "id": "79b87f51e58715a9"
  },
  {
   "cell_type": "markdown",
   "source": [
    "## Data cleaning"
   ],
   "metadata": {
    "collapsed": false
   },
   "id": "e5f7fe372ecbbe43"
  },
  {
   "cell_type": "code",
   "execution_count": 210,
   "id": "initial_id",
   "metadata": {
    "collapsed": true,
    "ExecuteTime": {
     "end_time": "2023-12-25T17:41:24.759136500Z",
     "start_time": "2023-12-25T17:41:24.699205800Z"
    }
   },
   "outputs": [
    {
     "data": {
      "text/plain": "(Div         0\n Date        0\n Time        0\n HomeTeam    0\n AwayTeam    0\n            ..\n PCAHA       0\n MaxCAHH     1\n MaxCAHA     1\n AvgCAHH     0\n AvgCAHA     0\n Length: 106, dtype: int64,\n 0)"
     },
     "execution_count": 210,
     "metadata": {},
     "output_type": "execute_result"
    }
   ],
   "source": [
    "# steps:\n",
    "# 1. Check for missing values\n",
    "missing_values = df.isnull().sum()\n",
    "\n",
    "# 2. Check for duplicates\n",
    "duplicate_rows = df.duplicated().sum()\n",
    "\n",
    "# Display the results of the checks\n",
    "missing_values, duplicate_rows"
   ]
  },
  {
   "cell_type": "code",
   "execution_count": 211,
   "outputs": [
    {
     "name": "stdout",
     "output_type": "stream",
     "text": [
      "<class 'pandas.core.frame.DataFrame'>\n",
      "RangeIndex: 178 entries, 0 to 177\n",
      "Columns: 106 entries, Div to AvgCAHA\n",
      "dtypes: datetime64[ns](1), float64(82), int64(16), object(7)\n",
      "memory usage: 147.5+ KB\n"
     ]
    },
    {
     "data": {
      "text/plain": "  Div       Date   Time     HomeTeam       AwayTeam  FTHG  FTAG FTR  HTHG  \\\n0  E0 2023-08-11  20:00      Burnley       Man City     0     3   A     0   \n1  E0 2023-08-12  12:30      Arsenal  Nott'm Forest     2     1   H     2   \n2  E0 2023-08-12  15:00  Bournemouth       West Ham     1     1   D     0   \n3  E0 2023-08-12  15:00     Brighton          Luton     4     1   H     1   \n4  E0 2023-08-12  15:00      Everton         Fulham     0     1   A     0   \n\n   HTAG  ... AvgC<2.5  AHCh  B365CAHH  B365CAHA  PCAHH  PCAHA  MaxCAHH  \\\n0     2  ...     2.28  1.50      1.95      1.98   1.95   1.97     2.02   \n1     0  ...     2.63 -2.00      1.95      1.98   1.93   1.97     2.01   \n2     0  ...     2.12  0.00      2.02      1.91   2.01   1.92     2.06   \n3     0  ...     2.48 -1.75      2.01      1.92   2.00   1.91     2.14   \n4     0  ...     1.71 -0.25      2.06      1.87   2.04   1.88     2.08   \n\n   MaxCAHA  AvgCAHH  AvgCAHA  \n0     2.00     1.92     1.95  \n1     2.09     1.95     1.92  \n2     1.96     1.96     1.91  \n3     1.93     2.00     1.86  \n4     1.99     1.98     1.88  \n\n[5 rows x 106 columns]",
      "text/html": "<div>\n<style scoped>\n    .dataframe tbody tr th:only-of-type {\n        vertical-align: middle;\n    }\n\n    .dataframe tbody tr th {\n        vertical-align: top;\n    }\n\n    .dataframe thead th {\n        text-align: right;\n    }\n</style>\n<table border=\"1\" class=\"dataframe\">\n  <thead>\n    <tr style=\"text-align: right;\">\n      <th></th>\n      <th>Div</th>\n      <th>Date</th>\n      <th>Time</th>\n      <th>HomeTeam</th>\n      <th>AwayTeam</th>\n      <th>FTHG</th>\n      <th>FTAG</th>\n      <th>FTR</th>\n      <th>HTHG</th>\n      <th>HTAG</th>\n      <th>...</th>\n      <th>AvgC&lt;2.5</th>\n      <th>AHCh</th>\n      <th>B365CAHH</th>\n      <th>B365CAHA</th>\n      <th>PCAHH</th>\n      <th>PCAHA</th>\n      <th>MaxCAHH</th>\n      <th>MaxCAHA</th>\n      <th>AvgCAHH</th>\n      <th>AvgCAHA</th>\n    </tr>\n  </thead>\n  <tbody>\n    <tr>\n      <th>0</th>\n      <td>E0</td>\n      <td>2023-08-11</td>\n      <td>20:00</td>\n      <td>Burnley</td>\n      <td>Man City</td>\n      <td>0</td>\n      <td>3</td>\n      <td>A</td>\n      <td>0</td>\n      <td>2</td>\n      <td>...</td>\n      <td>2.28</td>\n      <td>1.50</td>\n      <td>1.95</td>\n      <td>1.98</td>\n      <td>1.95</td>\n      <td>1.97</td>\n      <td>2.02</td>\n      <td>2.00</td>\n      <td>1.92</td>\n      <td>1.95</td>\n    </tr>\n    <tr>\n      <th>1</th>\n      <td>E0</td>\n      <td>2023-08-12</td>\n      <td>12:30</td>\n      <td>Arsenal</td>\n      <td>Nott'm Forest</td>\n      <td>2</td>\n      <td>1</td>\n      <td>H</td>\n      <td>2</td>\n      <td>0</td>\n      <td>...</td>\n      <td>2.63</td>\n      <td>-2.00</td>\n      <td>1.95</td>\n      <td>1.98</td>\n      <td>1.93</td>\n      <td>1.97</td>\n      <td>2.01</td>\n      <td>2.09</td>\n      <td>1.95</td>\n      <td>1.92</td>\n    </tr>\n    <tr>\n      <th>2</th>\n      <td>E0</td>\n      <td>2023-08-12</td>\n      <td>15:00</td>\n      <td>Bournemouth</td>\n      <td>West Ham</td>\n      <td>1</td>\n      <td>1</td>\n      <td>D</td>\n      <td>0</td>\n      <td>0</td>\n      <td>...</td>\n      <td>2.12</td>\n      <td>0.00</td>\n      <td>2.02</td>\n      <td>1.91</td>\n      <td>2.01</td>\n      <td>1.92</td>\n      <td>2.06</td>\n      <td>1.96</td>\n      <td>1.96</td>\n      <td>1.91</td>\n    </tr>\n    <tr>\n      <th>3</th>\n      <td>E0</td>\n      <td>2023-08-12</td>\n      <td>15:00</td>\n      <td>Brighton</td>\n      <td>Luton</td>\n      <td>4</td>\n      <td>1</td>\n      <td>H</td>\n      <td>1</td>\n      <td>0</td>\n      <td>...</td>\n      <td>2.48</td>\n      <td>-1.75</td>\n      <td>2.01</td>\n      <td>1.92</td>\n      <td>2.00</td>\n      <td>1.91</td>\n      <td>2.14</td>\n      <td>1.93</td>\n      <td>2.00</td>\n      <td>1.86</td>\n    </tr>\n    <tr>\n      <th>4</th>\n      <td>E0</td>\n      <td>2023-08-12</td>\n      <td>15:00</td>\n      <td>Everton</td>\n      <td>Fulham</td>\n      <td>0</td>\n      <td>1</td>\n      <td>A</td>\n      <td>0</td>\n      <td>0</td>\n      <td>...</td>\n      <td>1.71</td>\n      <td>-0.25</td>\n      <td>2.06</td>\n      <td>1.87</td>\n      <td>2.04</td>\n      <td>1.88</td>\n      <td>2.08</td>\n      <td>1.99</td>\n      <td>1.98</td>\n      <td>1.88</td>\n    </tr>\n  </tbody>\n</table>\n<p>5 rows × 106 columns</p>\n</div>"
     },
     "execution_count": 211,
     "metadata": {},
     "output_type": "execute_result"
    }
   ],
   "source": [
    "# Dropping columns with a high number of missing values or irrelevant to our analysis\n",
    "irrelevant_columns = df.columns[df.isnull().sum() > (0.5 * len(df))]  # Columns with more than 50% missing values\n",
    "df_cleaned = df.drop(columns=irrelevant_columns)\n",
    "\n",
    "# Convert 'Date' to datetime\n",
    "df_cleaned['Date'] = pd.to_datetime(df_cleaned['Date'], format='%d/%m/%Y')\n",
    "\n",
    "# Fill missing values in other relevant columns with appropriate values (like median or mode)\n",
    "# For numerical columns, we use median and for categorical, we use mode\n",
    "for column in df_cleaned.columns:\n",
    "    if df_cleaned[column].dtype == 'object':\n",
    "        df_cleaned[column].fillna(df_cleaned[column].mode()[0], inplace=True)\n",
    "    else:\n",
    "        df_cleaned[column].fillna(df_cleaned[column].median(), inplace=True)\n",
    "\n",
    "# Recheck for missing values\n",
    "remaining_missing_values = df_cleaned.isnull().sum().sum()\n",
    "\n",
    "# Basic information after cleaning\n",
    "remaining_missing_values, df_cleaned.info()\n",
    "\n",
    "df_cleaned.head()\n"
   ],
   "metadata": {
    "collapsed": false,
    "ExecuteTime": {
     "end_time": "2023-12-25T17:41:24.871405700Z",
     "start_time": "2023-12-25T17:41:24.727420300Z"
    }
   },
   "id": "6cb7cecf0d962cfc"
  },
  {
   "cell_type": "markdown",
   "source": [
    "## Feature engineering\n",
    "\n",
    "### steps:\n",
    "* Encode Team Names: Use label encoding for 'HomeTeam' and 'AwayTeam'. This will convert team names into numeric values, making them usable for the model.\n",
    "\n",
    "* Recent Form: Calculate the recent form for each team based on the last 5 matches. We'll use the 'FTR' column to determine wins (W), losses (L), and draws (D). This feature will provide insight into the current performance of the teams.\n",
    "\n",
    "* Average Goals per Game: Compute the average goals scored per game for both home and away teams. This feature helps understand the offensive strength of the teams.\n",
    "\n",
    "* Team Points: Calculate the total points accumulated by each team so far in the season. Points are awarded based on wins (3 points), draws (1 point), and losses (0 points).\n",
    "\n",
    "* Head-to-Head Statistics: Analyze the outcomes of matches between the same pairs of teams earlier in the season.\n",
    "\n",
    "* Other Statistical Features: Depending on the data available, we can include additional features like average possession, number of shots on target, defensive strength, etc."
   ],
   "metadata": {
    "collapsed": false
   },
   "id": "42e90ef27df5a84d"
  },
  {
   "cell_type": "markdown",
   "source": [
    "## Encode team names"
   ],
   "metadata": {
    "collapsed": false
   },
   "id": "90a4cf9baa0697fb"
  },
  {
   "cell_type": "code",
   "execution_count": 212,
   "outputs": [],
   "source": [
    "# Import the LabelEncoder class from the sklearn library\n",
    "from sklearn.preprocessing import LabelEncoder\n",
    "\n",
    "# Encode the team names\n",
    "label_encoder = LabelEncoder()\n",
    "df_cleaned['HomeTeamEncoded'] = label_encoder.fit_transform(df_cleaned['HomeTeam'])\n",
    "df_cleaned['AwayTeamEncoded'] = label_encoder.transform(df_cleaned['AwayTeam'])\n"
   ],
   "metadata": {
    "collapsed": false,
    "ExecuteTime": {
     "end_time": "2023-12-25T17:41:24.885142800Z",
     "start_time": "2023-12-25T17:41:24.777951500Z"
    }
   },
   "id": "41e159a547fd0959"
  },
  {
   "cell_type": "markdown",
   "source": [
    "## Recent form"
   ],
   "metadata": {
    "collapsed": false
   },
   "id": "1ca09767512e1ab4"
  },
  {
   "cell_type": "code",
   "execution_count": 213,
   "outputs": [],
   "source": [
    "# function to calculate recent form\n",
    "def calculate_form_points(team, df_cleaned, num_matches=5):\n",
    "    # Filter the matches for the team\n",
    "    team_matches = df_cleaned[(df_cleaned['HomeTeam'] == team) | (df_cleaned['AwayTeam'] == team)]\n",
    "    # Sort by date to get the most recent matches\n",
    "    team_matches = team_matches.sort_values(by='Date', ascending=False)\n",
    "    # Get the last 'num_matches' matches\n",
    "    recent_matches = team_matches.head(num_matches)\n",
    "    # Calculate form points\n",
    "    form_points = 0\n",
    "    for _, row in recent_matches.iterrows():\n",
    "        if row['HomeTeam'] == team and row['FTR'] == 'H':\n",
    "            form_points += 3\n",
    "        elif row['AwayTeam'] == team and row['FTR'] == 'A':\n",
    "            form_points += 3\n",
    "        elif row['FTR'] == 'D':\n",
    "            form_points += 1\n",
    "    return form_points\n",
    "\n",
    "# Apply the function to get recent form for each team in each match\n",
    "df_cleaned['HomeTeamRecentForm'] = df_cleaned.apply(lambda x: calculate_form_points(x['HomeTeam'], df_cleaned), axis=1)\n",
    "df_cleaned['AwayTeamRecentForm'] = df_cleaned.apply(lambda x: calculate_form_points(x['AwayTeam'], df_cleaned), axis=1)\n",
    "\n",
    "# Average Goals per Game\n",
    "df_cleaned['HomeTeamAvgGoals'] = df_cleaned.groupby('HomeTeam')['FTHG'].transform('mean')\n",
    "df_cleaned['AwayTeamAvgGoals'] = df_cleaned.groupby('AwayTeam')['FTAG'].transform('mean')\n",
    "\n"
   ],
   "metadata": {
    "collapsed": false,
    "ExecuteTime": {
     "end_time": "2023-12-25T17:41:25.380624300Z",
     "start_time": "2023-12-25T17:41:24.879806200Z"
    }
   },
   "id": "81e5da0ff5d5dfdc"
  },
  {
   "cell_type": "markdown",
   "source": [
    "## Team Points"
   ],
   "metadata": {
    "collapsed": false
   },
   "id": "6924b8357152763"
  },
  {
   "cell_type": "code",
   "execution_count": 214,
   "outputs": [],
   "source": [
    "# Points will be calculated similar to form but for the whole season\n",
    "def calculate_team_points(team, df_cleaned):\n",
    "    team_matches = df_cleaned[(df_cleaned['HomeTeam'] == team) | (df_cleaned['AwayTeam'] == team)]\n",
    "    points = 0\n",
    "    for _, row in team_matches.iterrows():\n",
    "        if row['HomeTeam'] == team and row['FTR'] == 'H':\n",
    "            points += 3\n",
    "        elif row['AwayTeam'] == team and row['FTR'] == 'A':\n",
    "            points += 3\n",
    "        elif row['FTR'] == 'D':\n",
    "            points += 1\n",
    "    return points\n",
    "\n",
    "df_cleaned['HomeTeamPoints'] = df_cleaned.apply(lambda x: calculate_team_points(x['HomeTeam'], df_cleaned), axis=1)\n",
    "df_cleaned['AwayTeamPoints'] = df_cleaned.apply(lambda x: calculate_team_points(x['AwayTeam'], df_cleaned), axis=1)\n"
   ],
   "metadata": {
    "collapsed": false,
    "ExecuteTime": {
     "end_time": "2023-12-25T17:41:25.969530400Z",
     "start_time": "2023-12-25T17:41:25.364084800Z"
    }
   },
   "id": "45b0f7be38c83d77"
  },
  {
   "cell_type": "markdown",
   "source": [
    "## Head-to-Head Statistics"
   ],
   "metadata": {
    "collapsed": false
   },
   "id": "b2b4ebfc5a1ba710"
  },
  {
   "cell_type": "code",
   "execution_count": 215,
   "outputs": [],
   "source": [
    "# Head-to-Head Statistics\n",
    "# For simplicity, we can count the number of wins, draws, and losses in matches between the same teams\n",
    "# Note: This implementation is simplified for demonstration purposes\n",
    "def head_to_head_stats(home_team, away_team, df_cleaned):\n",
    "    head_to_head_matches = df_cleaned[(df_cleaned['HomeTeam'] == home_team) & (df['AwayTeam'] == away_team)]\n",
    "    wins = len(head_to_head_matches[head_to_head_matches['FTR'] == 'H'])\n",
    "    draws = len(head_to_head_matches[head_to_head_matches['FTR'] == 'D'])\n",
    "    losses = len(head_to_head_matches[head_to_head_matches['FTR'] == 'A'])\n",
    "    return wins, draws, losses\n",
    "\n",
    "# Apply the head-to-head stats function\n",
    "df_cleaned['HeadToHeadWins'], df_cleaned['HeadToHeadDraws'], df_cleaned['HeadToHeadLosses'] = zip(*df_cleaned.apply(lambda x: head_to_head_stats(x['HomeTeam'], x['AwayTeam'], df_cleaned), axis=1))"
   ],
   "metadata": {
    "collapsed": false,
    "ExecuteTime": {
     "end_time": "2023-12-25T17:41:26.255666300Z",
     "start_time": "2023-12-25T17:41:25.973534800Z"
    }
   },
   "id": "e4a486ca2eadd77f"
  },
  {
   "cell_type": "code",
   "execution_count": 216,
   "outputs": [
    {
     "name": "stdout",
     "output_type": "stream",
     "text": [
      "      HomeTeam  HomeTeamWinPercentage       AwayTeam  AwayTeamWinPercentage\n",
      "0      Burnley               0.111111       Man City               0.555556\n",
      "1      Arsenal               0.777778  Nott'm Forest               0.111111\n",
      "2  Bournemouth               0.250000       West Ham               0.444444\n",
      "3     Brighton               0.444444          Luton               0.125000\n",
      "4      Everton               0.333333         Fulham               0.111111\n"
     ]
    }
   ],
   "source": [
    "# Calculate Home Team Win Percentage\n",
    "home_team_wins = df_cleaned[df_cleaned['FTR'] == 'H'].groupby('HomeTeam').size()\n",
    "total_home_matches = df_cleaned.groupby('HomeTeam').size()\n",
    "home_team_win_percentage = home_team_wins / total_home_matches\n",
    "# \n",
    "# Calculate Away Team Win Percentage\n",
    "away_team_wins = df_cleaned[df_cleaned['FTR'] == 'A'].groupby('AwayTeam').size()\n",
    "total_away_matches = df_cleaned.groupby('AwayTeam').size()\n",
    "away_team_win_percentage = away_team_wins / total_away_matches\n",
    "# \n",
    "# Create mappings for win percentages\n",
    "home_team_win_percentage_map = home_team_win_percentage.to_dict()\n",
    "away_team_win_percentage_map = away_team_win_percentage.to_dict()\n",
    "# \n",
    "# Map the win percentages to the original DataFrame\n",
    "df_cleaned['HomeTeamWinPercentage'] = df_cleaned['HomeTeam'].map(home_team_win_percentage_map).fillna(0)\n",
    "df_cleaned['AwayTeamWinPercentage'] = df_cleaned['AwayTeam'].map(away_team_win_percentage_map).fillna(0)\n",
    "# \n",
    "# Check the first few rows to confirm the new features\n",
    "print(df_cleaned[['HomeTeam', 'HomeTeamWinPercentage', 'AwayTeam', 'AwayTeamWinPercentage']].head())"
   ],
   "metadata": {
    "collapsed": false,
    "ExecuteTime": {
     "end_time": "2023-12-25T17:41:26.283956300Z",
     "start_time": "2023-12-25T17:41:26.256660400Z"
    }
   },
   "id": "2232605c57a1431a"
  },
  {
   "cell_type": "code",
   "execution_count": 217,
   "outputs": [
    {
     "data": {
      "text/plain": "  Div       Date   Time     HomeTeam       AwayTeam  FTHG  FTAG FTR  HTHG  \\\n0  E0 2023-08-11  20:00      Burnley       Man City     0     3   A     0   \n1  E0 2023-08-12  12:30      Arsenal  Nott'm Forest     2     1   H     2   \n2  E0 2023-08-12  15:00  Bournemouth       West Ham     1     1   D     0   \n3  E0 2023-08-12  15:00     Brighton          Luton     4     1   H     1   \n4  E0 2023-08-12  15:00      Everton         Fulham     0     1   A     0   \n\n   HTAG  ... AwayTeamRecentForm HomeTeamAvgGoals  AwayTeamAvgGoals  \\\n0     2  ...                  6         1.111111          2.000000   \n1     0  ...                  1         2.444444          0.777778   \n2     0  ...                 10         1.000000          1.555556   \n3     0  ...                  6         2.000000          0.875000   \n4     0  ...                  6         1.111111          1.000000   \n\n   HomeTeamPoints  AwayTeamPoints  HeadToHeadWins  HeadToHeadDraws  \\\n0              11              34               0                0   \n1              40              14               1                0   \n2              22              30               0                1   \n3              27              12               1                0   \n4              26              21               0                0   \n\n   HeadToHeadLosses  HomeTeamWinPercentage  AwayTeamWinPercentage  \n0                 1               0.111111               0.555556  \n1                 0               0.777778               0.111111  \n2                 0               0.250000               0.444444  \n3                 0               0.444444               0.125000  \n4                 1               0.333333               0.111111  \n\n[5 rows x 119 columns]",
      "text/html": "<div>\n<style scoped>\n    .dataframe tbody tr th:only-of-type {\n        vertical-align: middle;\n    }\n\n    .dataframe tbody tr th {\n        vertical-align: top;\n    }\n\n    .dataframe thead th {\n        text-align: right;\n    }\n</style>\n<table border=\"1\" class=\"dataframe\">\n  <thead>\n    <tr style=\"text-align: right;\">\n      <th></th>\n      <th>Div</th>\n      <th>Date</th>\n      <th>Time</th>\n      <th>HomeTeam</th>\n      <th>AwayTeam</th>\n      <th>FTHG</th>\n      <th>FTAG</th>\n      <th>FTR</th>\n      <th>HTHG</th>\n      <th>HTAG</th>\n      <th>...</th>\n      <th>AwayTeamRecentForm</th>\n      <th>HomeTeamAvgGoals</th>\n      <th>AwayTeamAvgGoals</th>\n      <th>HomeTeamPoints</th>\n      <th>AwayTeamPoints</th>\n      <th>HeadToHeadWins</th>\n      <th>HeadToHeadDraws</th>\n      <th>HeadToHeadLosses</th>\n      <th>HomeTeamWinPercentage</th>\n      <th>AwayTeamWinPercentage</th>\n    </tr>\n  </thead>\n  <tbody>\n    <tr>\n      <th>0</th>\n      <td>E0</td>\n      <td>2023-08-11</td>\n      <td>20:00</td>\n      <td>Burnley</td>\n      <td>Man City</td>\n      <td>0</td>\n      <td>3</td>\n      <td>A</td>\n      <td>0</td>\n      <td>2</td>\n      <td>...</td>\n      <td>6</td>\n      <td>1.111111</td>\n      <td>2.000000</td>\n      <td>11</td>\n      <td>34</td>\n      <td>0</td>\n      <td>0</td>\n      <td>1</td>\n      <td>0.111111</td>\n      <td>0.555556</td>\n    </tr>\n    <tr>\n      <th>1</th>\n      <td>E0</td>\n      <td>2023-08-12</td>\n      <td>12:30</td>\n      <td>Arsenal</td>\n      <td>Nott'm Forest</td>\n      <td>2</td>\n      <td>1</td>\n      <td>H</td>\n      <td>2</td>\n      <td>0</td>\n      <td>...</td>\n      <td>1</td>\n      <td>2.444444</td>\n      <td>0.777778</td>\n      <td>40</td>\n      <td>14</td>\n      <td>1</td>\n      <td>0</td>\n      <td>0</td>\n      <td>0.777778</td>\n      <td>0.111111</td>\n    </tr>\n    <tr>\n      <th>2</th>\n      <td>E0</td>\n      <td>2023-08-12</td>\n      <td>15:00</td>\n      <td>Bournemouth</td>\n      <td>West Ham</td>\n      <td>1</td>\n      <td>1</td>\n      <td>D</td>\n      <td>0</td>\n      <td>0</td>\n      <td>...</td>\n      <td>10</td>\n      <td>1.000000</td>\n      <td>1.555556</td>\n      <td>22</td>\n      <td>30</td>\n      <td>0</td>\n      <td>1</td>\n      <td>0</td>\n      <td>0.250000</td>\n      <td>0.444444</td>\n    </tr>\n    <tr>\n      <th>3</th>\n      <td>E0</td>\n      <td>2023-08-12</td>\n      <td>15:00</td>\n      <td>Brighton</td>\n      <td>Luton</td>\n      <td>4</td>\n      <td>1</td>\n      <td>H</td>\n      <td>1</td>\n      <td>0</td>\n      <td>...</td>\n      <td>6</td>\n      <td>2.000000</td>\n      <td>0.875000</td>\n      <td>27</td>\n      <td>12</td>\n      <td>1</td>\n      <td>0</td>\n      <td>0</td>\n      <td>0.444444</td>\n      <td>0.125000</td>\n    </tr>\n    <tr>\n      <th>4</th>\n      <td>E0</td>\n      <td>2023-08-12</td>\n      <td>15:00</td>\n      <td>Everton</td>\n      <td>Fulham</td>\n      <td>0</td>\n      <td>1</td>\n      <td>A</td>\n      <td>0</td>\n      <td>0</td>\n      <td>...</td>\n      <td>6</td>\n      <td>1.111111</td>\n      <td>1.000000</td>\n      <td>26</td>\n      <td>21</td>\n      <td>0</td>\n      <td>0</td>\n      <td>1</td>\n      <td>0.333333</td>\n      <td>0.111111</td>\n    </tr>\n  </tbody>\n</table>\n<p>5 rows × 119 columns</p>\n</div>"
     },
     "execution_count": 217,
     "metadata": {},
     "output_type": "execute_result"
    }
   ],
   "source": [
    "df_cleaned.head()"
   ],
   "metadata": {
    "collapsed": false,
    "ExecuteTime": {
     "end_time": "2023-12-25T17:41:26.319869800Z",
     "start_time": "2023-12-25T17:41:26.275511800Z"
    }
   },
   "id": "3515a8783f129764"
  },
  {
   "cell_type": "code",
   "execution_count": 243,
   "outputs": [
    {
     "name": "stdout",
     "output_type": "stream",
     "text": [
      "Chelsea is currently in position: 10\n"
     ]
    },
    {
     "data": {
      "text/plain": "(                Points  GoalDiff  GoalsScored\n Arsenal             40        20           36\n Liverpool           39        21           37\n Aston Villa         39        16           38\n Tottenham           36        13           37\n Man City            34        20           40\n West Ham            30         1           31\n Newcastle           29        14           36\n Man United          28        -5           18\n Brighton            27         3           34\n Chelsea             22         1           29\n Wolves              22        -7           23\n Bournemouth         22        -8           24\n Fulham              21        -5           26\n Brentford           19         0           24\n Crystal Palace      18        -8           18\n Everton             16         1           23\n Nott'm Forest       14       -14           19\n Luton               12       -14           18\n Burnley             11       -18           18\n Sheffield Utd        9       -31           13,\n 10)"
     },
     "execution_count": 243,
     "metadata": {},
     "output_type": "execute_result"
    }
   ],
   "source": [
    "# get the current position and calculate points for chelsea and the rest of the teams\n",
    "def calculate_points_goals(row):\n",
    "    home_points, away_points = 0, 0\n",
    "    home_goal_diff = row['FTHG'] - row['FTAG']\n",
    "    away_goal_diff = row['FTAG'] - row['FTHG']\n",
    "\n",
    "    if row['FTR'] == 'H':\n",
    "        home_points = 3\n",
    "    elif row['FTR'] == 'A':\n",
    "        away_points = 3\n",
    "    else:\n",
    "        home_points = away_points = 1\n",
    "\n",
    "    return pd.Series([home_points, away_points, home_goal_diff, away_goal_diff, row['FTHG'], row['FTAG']])\n",
    "\n",
    "# List of teams\n",
    "teams = df_cleaned['HomeTeam'].unique()\n",
    "\n",
    "# Applying the function to the dataset\n",
    "df_cleaned[['HomePoints', 'AwayPoints', 'HomeGoalDiff', 'AwayGoalDiff', 'HomeGoals', 'AwayGoals']] = df_cleaned.apply(calculate_points_goals, axis=1)\n",
    "\n",
    "# Summarizing the data for each team\n",
    "team_stats = pd.DataFrame(index=teams)\n",
    "\n",
    "# Calculating total points, goal difference, and goals scored for each team\n",
    "team_stats['Points'] = df_cleaned.groupby('HomeTeam')['HomePoints'].sum() + df_cleaned.groupby('AwayTeam')['AwayPoints'].sum()\n",
    "team_stats['GoalDiff'] = df_cleaned.groupby('HomeTeam')['HomeGoalDiff'].sum() + df_cleaned.groupby('AwayTeam')['AwayGoalDiff'].sum()\n",
    "team_stats['GoalsScored'] = df_cleaned.groupby('HomeTeam')['HomeGoals'].sum() + df_cleaned.groupby('AwayTeam')['AwayGoals'].sum()\n",
    "\n",
    "# Deducting 10 points from Everton for misconduct\n",
    "team_stats.loc['Everton', 'Points'] = team_stats.loc['Everton', 'Points'] - 10\n",
    "\n",
    "# Sorting the teams based on Points, Goal Difference, and Goals Scored\n",
    "sorted_teams = team_stats.sort_values(by=['Points', 'GoalDiff', 'GoalsScored'], ascending=[False, False, False])\n",
    "\n",
    "# Finding Chelsea's position\n",
    "chelsea_position_updated = sorted_teams.index.get_loc('Chelsea') + 1\n",
    "print('Chelsea is currently in position:', chelsea_position_updated)\n",
    "sorted_teams.head(20), chelsea_position_updated\n"
   ],
   "metadata": {
    "collapsed": false,
    "ExecuteTime": {
     "end_time": "2023-12-25T18:06:34.929710500Z",
     "start_time": "2023-12-25T18:06:34.856523100Z"
    }
   },
   "id": "50d21ab026b0e87a"
  },
  {
   "cell_type": "markdown",
   "source": [
    "## Data Preprocessing\n",
    "### steps:\n",
    "* Scaling Numeric Features: We'll scale features like recent form, average goals, and points using StandardScaler.\n",
    "* Handling Categorical Variables: We have already encoded team names. We'll ensure other categorical features, if any, are properly encoded.\n",
    "* Splitting the Data: We'll split the data into training and test sets. We'll use the training set to train the model and the test set to evaluate the model's performance on unseen data."
   ],
   "metadata": {
    "collapsed": false
   },
   "id": "935ae9aec680a4b1"
  },
  {
   "cell_type": "code",
   "execution_count": 219,
   "outputs": [],
   "source": [
    "from sklearn.preprocessing import StandardScaler\n",
    "from sklearn.model_selection import train_test_split\n",
    "from imblearn.over_sampling import SMOTE\n",
    "\n",
    "# select relevant columns or features\n",
    "features = ['HomeTeamEncoded', 'AwayTeamEncoded', 'HomeTeamRecentForm', 'AwayTeamRecentForm', 'HomeTeamAvgGoals', 'AwayTeamAvgGoals', 'HomeTeamPoints', 'AwayTeamPoints', 'HomeTeamWinPercentage', 'AwayTeamWinPercentage']\n",
    "target = 'FTR'\n",
    "\n",
    "# Split the data into training and test sets\n",
    "X = df_cleaned[features]\n",
    "y = df_cleaned[target]\n",
    "X_train, X_test, y_train, y_test = train_test_split(X, y, test_size=0.2, random_state=42)\n",
    "\n",
    "# Addressing Class Imbalance\n",
    "smote = SMOTE(random_state=42)\n",
    "X_train_smote, y_train_smote = smote.fit_resample(X_train, y_train)\n",
    "\n",
    "# Scaling the features\n",
    "scaler = StandardScaler()\n",
    "X_train_scaled = scaler.fit_transform(X_train_smote)\n",
    "X_test_scaled = scaler.transform(X_test)"
   ],
   "metadata": {
    "collapsed": false,
    "ExecuteTime": {
     "end_time": "2023-12-25T17:41:26.408274300Z",
     "start_time": "2023-12-25T17:41:26.337376400Z"
    }
   },
   "id": "fb111238645ec9fd"
  },
  {
   "cell_type": "markdown",
   "source": [
    "## Hyperparameter Tuning"
   ],
   "metadata": {
    "collapsed": false
   },
   "id": "7321b3b954c0744"
  },
  {
   "cell_type": "code",
   "execution_count": 220,
   "outputs": [],
   "source": [
    "from hyperopt import hp\n",
    "import numpy as np\n",
    "# Define the hyperparameter space\n",
    "space = {\n",
    "    'iterations': hp.quniform('iterations', 100, 1000, 50),\n",
    "    'depth': hp.choice('depth', np.arange(3, 11, dtype=int)),\n",
    "    'learning_rate': hp.loguniform('learning_rate', np.log(0.01), np.log(0.2)),\n",
    "    'l2_leaf_reg': hp.uniform('l2_leaf_reg', 1, 10),\n",
    "    'bagging_temperature': hp.uniform('bagging_temperature', 0, 1),\n",
    "    'random_strength': hp.uniform('random_strength', 0, 1)\n",
    "    \n",
    "}\n"
   ],
   "metadata": {
    "collapsed": false,
    "ExecuteTime": {
     "end_time": "2023-12-25T17:41:26.462544600Z",
     "start_time": "2023-12-25T17:41:26.357698400Z"
    }
   },
   "id": "92b9b0b0d8632992"
  },
  {
   "cell_type": "markdown",
   "source": [
    "## Creating the Objective Function so that we can use it in the hyperparameter optimization"
   ],
   "metadata": {
    "collapsed": false
   },
   "id": "484517077549ebb2"
  },
  {
   "cell_type": "code",
   "execution_count": 221,
   "outputs": [],
   "source": [
    "from hyperopt import STATUS_OK\n",
    "from sklearn.model_selection import train_test_split, StratifiedKFold, cross_val_score\n",
    "from catboost import CatBoostClassifier\n",
    "\n",
    "def objective(params):\n",
    "    params['iterations'] = int(params['iterations'])\n",
    "    clf = CatBoostClassifier(**params, loss_function='MultiClass', verbose=False)\n",
    "    score = cross_val_score(clf, X_train_scaled, y_train_smote, scoring='accuracy', cv=StratifiedKFold(3)).mean()\n",
    "    return {'loss': -score, 'status': STATUS_OK}\n",
    "\n"
   ],
   "metadata": {
    "collapsed": false,
    "ExecuteTime": {
     "end_time": "2023-12-25T17:41:26.489209500Z",
     "start_time": "2023-12-25T17:41:26.367671800Z"
    }
   },
   "id": "2b9a0a9c6c9ee1"
  },
  {
   "cell_type": "code",
   "execution_count": 222,
   "outputs": [
    {
     "name": "stdout",
     "output_type": "stream",
     "text": [
      "100%|██████████| 20/20 [01:22<00:00,  4.13s/trial, best loss: -0.625]  \n"
     ]
    }
   ],
   "source": [
    "# run the hyperparameter optimization\n",
    "from hyperopt import tpe, Trials, fmin\n",
    "\n",
    "trials = Trials()\n",
    "best = fmin(fn=objective, space=space, algo=tpe.suggest, max_evals=20, trials=trials)\n"
   ],
   "metadata": {
    "collapsed": false,
    "ExecuteTime": {
     "end_time": "2023-12-25T17:42:48.919092100Z",
     "start_time": "2023-12-25T17:41:26.377374Z"
    }
   },
   "id": "8cb5f76b44edce88"
  },
  {
   "cell_type": "code",
   "execution_count": 223,
   "outputs": [
    {
     "name": "stdout",
     "output_type": "stream",
     "text": [
      "              precision    recall  f1-score   support\n",
      "\n",
      "           A       0.56      0.75      0.64        12\n",
      "           D       0.00      0.00      0.00         5\n",
      "           H       0.87      0.68      0.76        19\n",
      "\n",
      "    accuracy                           0.61        36\n",
      "   macro avg       0.48      0.48      0.47        36\n",
      "weighted avg       0.64      0.61      0.62        36\n"
     ]
    }
   ],
   "source": [
    "from sklearn.metrics import classification_report\n",
    "\n",
    "best_params = {k: int(v) if k in ['iterations', 'depth'] else v for k, v in best.items()}\n",
    "final_model = CatBoostClassifier(**best_params, loss_function='MultiClass', eval_metric='Accuracy', verbose=False)\n",
    "final_model.fit(X_train_scaled, y_train_smote)\n",
    "\n",
    "# Evaluate the model\n",
    "y_pred = final_model.predict(X_test_scaled)\n",
    "print(classification_report(y_test, y_pred, zero_division=0))\n"
   ],
   "metadata": {
    "collapsed": false,
    "ExecuteTime": {
     "end_time": "2023-12-25T17:42:49.036356400Z",
     "start_time": "2023-12-25T17:42:48.919092100Z"
    }
   },
   "id": "c492c6fc709b27c8"
  },
  {
   "cell_type": "code",
   "execution_count": 224,
   "outputs": [
    {
     "name": "stdout",
     "output_type": "stream",
     "text": [
      "Average Cross-Validation Score: 0.5885416666666666\n"
     ]
    }
   ],
   "source": [
    "# check for overfitting\n",
    "from sklearn.model_selection import cross_val_score\n",
    "\n",
    "# Perform cross-validation\n",
    "cv_scores = cross_val_score(final_model, X_train_scaled, y_train_smote, cv=6)\n",
    "\n",
    "# Print the average score\n",
    "print(f\"Average Cross-Validation Score: {cv_scores.mean()}\")\n"
   ],
   "metadata": {
    "collapsed": false,
    "ExecuteTime": {
     "end_time": "2023-12-25T17:42:49.662476700Z",
     "start_time": "2023-12-25T17:42:49.038431800Z"
    }
   },
   "id": "469475eb5751fba0"
  },
  {
   "cell_type": "code",
   "execution_count": 225,
   "outputs": [
    {
     "data": {
      "text/plain": "<Figure size 1000x600 with 1 Axes>",
      "image/png": "[encoded data removed]"
     },
     "metadata": {},
     "output_type": "display_data"
    }
   ],
   "source": [
    "import matplotlib.pyplot as plt\n",
    "\n",
    "# Get feature importances\n",
    "feature_importances = final_model.get_feature_importance()\n",
    "\n",
    "# Create a bar plot\n",
    "plt.figure(figsize=(10, 6))\n",
    "plt.barh(features, feature_importances)\n",
    "plt.xlabel('Importance')\n",
    "plt.ylabel('Feature')\n",
    "plt.title('Feature Importance')\n",
    "plt.show()\n"
   ],
   "metadata": {
    "collapsed": false,
    "ExecuteTime": {
     "end_time": "2023-12-25T17:42:49.867754400Z",
     "start_time": "2023-12-25T17:42:49.664518Z"
    }
   },
   "id": "f536f84532fae061"
  },
  {
   "cell_type": "code",
   "execution_count": 226,
   "outputs": [
    {
     "name": "stdout",
     "output_type": "stream",
     "text": [
      "Newcastle win probability: 0.016827087658742988\n",
      "Nott'm Forest win probability: 0.9004650652908501\n",
      "Draw probability: 0.08270784705040682\n",
      "Bournemouth win probability: 0.40439012442259825\n",
      "Fulham win probability: 0.21546056595400803\n",
      "Draw probability: 0.38014930962339377\n",
      "Sheffield United win probability: 0.44116161761735495\n",
      "Luton win probability: 0.25310654015598305\n",
      "Draw probability: 0.30573184222666183\n",
      "Burnley win probability: 0.6648168863476827\n",
      "Liverpool win probability: 0.04851296139093849\n",
      "Draw probability: 0.28667015226137893\n",
      "Man United win probability: 0.5700848214950055\n",
      "Aston Villa win probability: 0.31781755793868754\n",
      "Draw probability: 0.11209762056630691\n"
     ]
    },
    {
     "data": {
      "text/plain": "(0.5700848214950055, 0.31781755793868754, 0.11209762056630691)"
     },
     "execution_count": 226,
     "metadata": {},
     "output_type": "execute_result"
    }
   ],
   "source": [
    "# make predictions for the 2023/24 season\n",
    "def predict_match(home_team, away_team, final_model, scaler):\n",
    "    # Create a dataframe with the appropriate format\n",
    "    match = pd.DataFrame(columns=['HomeTeamEncoded', 'AwayTeamEncoded', 'HomeTeamRecentForm', 'AwayTeamRecentForm', 'HomeTeamAvgGoals', 'AwayTeamAvgGoals', 'HomeTeamPoints', 'AwayTeamPoints', 'HomeTeamWinPercentage', 'AwayTeamWinPercentage'])\n",
    "    match.loc[0] = [label_encoder.transform([home_team])[0], label_encoder.transform([away_team])[0], calculate_form_points(home_team, df_cleaned), calculate_form_points(away_team, df_cleaned), df_cleaned[df_cleaned['HomeTeam'] == home_team]['HomeTeamAvgGoals'].values[0], df_cleaned[df_cleaned['AwayTeam'] == away_team]['AwayTeamAvgGoals'].values[0], calculate_team_points(home_team, df_cleaned), calculate_team_points(away_team, df_cleaned), home_team_win_percentage[home_team], away_team_win_percentage[away_team]]\n",
    "    # Scale the features\n",
    "    match_scaled = scaler.transform(match)\n",
    "    # Make predictions\n",
    "    home_team_win_prob = final_model.predict_proba(match_scaled)[0][0]\n",
    "    away_team_win_prob = final_model.predict_proba(match_scaled)[0][2]\n",
    "    draw_prob = final_model.predict_proba(match_scaled)[0][1]\n",
    "    # Print the results\n",
    "    print(f\"{home_team} win probability: {home_team_win_prob}\")\n",
    "    print(f\"{away_team} win probability: {away_team_win_prob}\")\n",
    "    print(f\"Draw probability: {draw_prob}\")\n",
    "    \n",
    "    return home_team_win_prob, away_team_win_prob, draw_prob\n",
    "\n",
    "# newcastle vs nott'm forest\n",
    "predict_match('Newcastle', \"Nott'm Forest\", final_model, scaler)\n",
    "\n",
    "# bournemouth vs fulham\n",
    "predict_match('Bournemouth', 'Fulham', final_model, scaler)\n",
    "\n",
    "# sheffield vs luton\n",
    "predict_match('Sheffield United', 'Luton', final_model, scaler)\n",
    "\n",
    "# burnley vs liverpool\n",
    "predict_match('Burnley', 'Liverpool', final_model, scaler)\n",
    "\n",
    "# manchester utd vs aston villa\n",
    "predict_match('Man United', 'Aston Villa', final_model, scaler)\n",
    "\n"
   ],
   "metadata": {
    "collapsed": false,
    "ExecuteTime": {
     "end_time": "2023-12-25T17:42:49.973192700Z",
     "start_time": "2023-12-25T17:42:49.868752400Z"
    }
   },
   "id": "466a379df799b300"
  },
  {
   "cell_type": "code",
   "execution_count": 227,
   "outputs": [
    {
     "name": "stdout",
     "output_type": "stream",
     "text": [
      "              precision    recall  f1-score   support\n",
      "\n",
      "           A       0.58      0.92      0.71        12\n",
      "           D       0.25      0.20      0.22         5\n",
      "           H       0.92      0.63      0.75        19\n",
      "\n",
      "    accuracy                           0.67        36\n",
      "   macro avg       0.58      0.58      0.56        36\n",
      "weighted avg       0.71      0.67      0.66        36\n"
     ]
    }
   ],
   "source": [
    "from sklearn.ensemble import RandomForestClassifier\n",
    "from imblearn.over_sampling import SMOTE\n",
    "from sklearn.model_selection import GridSearchCV\n",
    "\n",
    "# Addressing Class Imbalance\n",
    "smote = SMOTE(random_state=42)\n",
    "X_train_smote, y_train_smote = smote.fit_resample(X_train, y_train)\n",
    "\n",
    "# Scaling the features\n",
    "scaler = StandardScaler()\n",
    "X_train_scaled = scaler.fit_transform(X_train_smote)\n",
    "X_test_scaled = scaler.transform(X_test)\n",
    "\n",
    "# Hyperparameter Tuning\n",
    "model = RandomForestClassifier(random_state=42)\n",
    "param_grid = {\n",
    "    'n_estimators': [100, 200, 300],\n",
    "    'max_depth': [None, 10, 20, 30],\n",
    "    'min_samples_split': [2, 5, 10],\n",
    "    'min_samples_leaf': [1, 2, 4]\n",
    "    \n",
    "}\n",
    "grid_search = GridSearchCV(model, param_grid, cv=3, scoring='f1_macro')\n",
    "grid_search.fit(X_train_scaled, y_train_smote)\n",
    "\n",
    "# Best Model Evaluation\n",
    "best_model = grid_search.best_estimator_\n",
    "y_pred = best_model.predict(X_test_scaled)\n",
    "print(classification_report(y_test, y_pred))"
   ],
   "metadata": {
    "collapsed": false,
    "ExecuteTime": {
     "end_time": "2023-12-25T17:44:18.233743Z",
     "start_time": "2023-12-25T17:42:49.946062200Z"
    }
   },
   "id": "18bce7a7c93c20cc"
  },
  {
   "cell_type": "code",
   "execution_count": 228,
   "outputs": [
    {
     "name": "stdout",
     "output_type": "stream",
     "text": [
      "Average Cross-Validation Score: 0.625\n"
     ]
    }
   ],
   "source": [
    "# check for overfitting\n",
    "from sklearn.model_selection import cross_val_score\n",
    "\n",
    "# Perform cross-validation\n",
    "cv_scores = cross_val_score(best_model, X_train_scaled, y_train_smote, cv=6)\n",
    "\n",
    "# Print the average score\n",
    "print(f\"Average Cross-Validation Score: {cv_scores.mean()}\")\n"
   ],
   "metadata": {
    "collapsed": false,
    "ExecuteTime": {
     "end_time": "2023-12-25T17:44:20.731375300Z",
     "start_time": "2023-12-25T17:44:18.234744100Z"
    }
   },
   "id": "66a94522869054e"
  },
  {
   "cell_type": "code",
   "execution_count": 229,
   "outputs": [
    {
     "data": {
      "text/plain": "<Figure size 1000x600 with 1 Axes>",
      "image/png": "[encoded data removed]"
     },
     "metadata": {},
     "output_type": "display_data"
    }
   ],
   "source": [
    "# Get feature importances\n",
    "feature_importances = best_model.feature_importances_\n",
    "\n",
    "# Create a bar plot\n",
    "plt.figure(figsize=(10, 6))\n",
    "plt.barh(features, feature_importances)\n",
    "plt.xlabel('Importance')\n",
    "plt.ylabel('Feature')\n",
    "plt.title('Feature Importance')\n",
    "plt.show()"
   ],
   "metadata": {
    "collapsed": false,
    "ExecuteTime": {
     "end_time": "2023-12-25T17:44:20.934457300Z",
     "start_time": "2023-12-25T17:44:20.724378100Z"
    }
   },
   "id": "276172cf85bdf498"
  },
  {
   "cell_type": "code",
   "execution_count": 230,
   "outputs": [
    {
     "name": "stdout",
     "output_type": "stream",
     "text": [
      "Newcastle win probability: 0.006666666666666667\n",
      "Nott'm Forest win probability: 0.9333333333333333\n",
      "Draw probability: 0.06\n",
      "Bournemouth win probability: 0.4533333333333333\n",
      "Fulham win probability: 0.16666666666666666\n",
      "Draw probability: 0.38\n",
      "Sheffield United win probability: 0.43\n",
      "Luton win probability: 0.32\n",
      "Draw probability: 0.25\n",
      "Burnley win probability: 0.7633333333333333\n",
      "Liverpool win probability: 0.0033333333333333335\n",
      "Draw probability: 0.23333333333333334\n",
      "Man United win probability: 0.5966666666666667\n",
      "Aston Villa win probability: 0.20333333333333334\n",
      "Draw probability: 0.2\n"
     ]
    },
    {
     "data": {
      "text/plain": "(0.5966666666666667, 0.20333333333333334, 0.2)"
     },
     "execution_count": 230,
     "metadata": {},
     "output_type": "execute_result"
    }
   ],
   "source": [
    "# make predictions for the 2023/24 season\n",
    "def predict_match(home_team, away_team, best_model, scaler):\n",
    "    # Create a dataframe with the appropriate format\n",
    "    match = pd.DataFrame(columns=['HomeTeamEncoded', 'AwayTeamEncoded', 'HomeTeamRecentForm', 'AwayTeamRecentForm', 'HomeTeamAvgGoals', 'AwayTeamAvgGoals', 'HomeTeamPoints', 'AwayTeamPoints', 'HomeTeamWinPercentage', 'AwayTeamWinPercentage'])\n",
    "    match.loc[0] = [label_encoder.transform([home_team])[0], label_encoder.transform([away_team])[0], calculate_form_points(home_team, df_cleaned), calculate_form_points(away_team, df_cleaned), df_cleaned[df_cleaned['HomeTeam'] == home_team]['HomeTeamAvgGoals'].values[0], df_cleaned[df_cleaned['AwayTeam'] == away_team]['AwayTeamAvgGoals'].values[0], calculate_team_points(home_team, df_cleaned), calculate_team_points(away_team, df_cleaned), home_team_win_percentage[home_team], away_team_win_percentage[away_team]]\n",
    "    # Scale the features\n",
    "    match_scaled = scaler.transform(match)\n",
    "    # Make predictions\n",
    "    home_team_win_prob = best_model.predict_proba(match_scaled)[0][0]\n",
    "    away_team_win_prob = best_model.predict_proba(match_scaled)[0][2]\n",
    "    draw_prob = best_model.predict_proba(match_scaled)[0][1]\n",
    "    # Print the results\n",
    "    print(f\"{home_team} win probability: {home_team_win_prob}\")\n",
    "    print(f\"{away_team} win probability: {away_team_win_prob}\")\n",
    "    print(f\"Draw probability: {draw_prob}\")\n",
    "    \n",
    "    return home_team_win_prob, away_team_win_prob, draw_prob\n",
    "\n",
    "# newcastle vs nott'm forest\n",
    "predict_match('Newcastle', \"Nott'm Forest\", best_model, scaler)\n",
    "\n",
    "# bournemouth vs fulham\n",
    "predict_match('Bournemouth', 'Fulham', best_model, scaler)\n",
    "\n",
    "# sheffield vs luton\n",
    "predict_match('Sheffield United', 'Luton', best_model, scaler)\n",
    "\n",
    "# burnley vs liverpool\n",
    "predict_match('Burnley', 'Liverpool', best_model, scaler)\n",
    "\n",
    "# manchester utd vs aston villa\n",
    "predict_match('Man United', 'Aston Villa', best_model, scaler)\n"
   ],
   "metadata": {
    "collapsed": false,
    "ExecuteTime": {
     "end_time": "2023-12-25T17:44:21.199597400Z",
     "start_time": "2023-12-25T17:44:20.934457300Z"
    }
   },
   "id": "864cf4cbe4d554f"
  },
  {
   "cell_type": "code",
   "execution_count": 231,
   "outputs": [
    {
     "name": "stdout",
     "output_type": "stream",
     "text": [
      "              precision    recall  f1-score   support\n",
      "\n",
      "           A       0.56      0.75      0.64        12\n",
      "           D       0.00      0.00      0.00         5\n",
      "           H       0.87      0.68      0.76        19\n",
      "\n",
      "    accuracy                           0.61        36\n",
      "   macro avg       0.48      0.48      0.47        36\n",
      "weighted avg       0.64      0.61      0.62        36\n",
      "\n",
      "              precision    recall  f1-score   support\n",
      "\n",
      "           A       0.58      0.92      0.71        12\n",
      "           D       0.25      0.20      0.22         5\n",
      "           H       0.92      0.63      0.75        19\n",
      "\n",
      "    accuracy                           0.67        36\n",
      "   macro avg       0.58      0.58      0.56        36\n",
      "weighted avg       0.71      0.67      0.66        36\n"
     ]
    }
   ],
   "source": [
    "# compare the two models\n",
    "from sklearn.metrics import classification_report\n",
    "\n",
    "# Evaluate the model\n",
    "y_pred = final_model.predict(X_test_scaled)\n",
    "print(classification_report(y_test, y_pred, zero_division=0))\n",
    "\n",
    "# Evaluate the model\n",
    "y_pred = best_model.predict(X_test_scaled)\n",
    "print(classification_report(y_test, y_pred, zero_division=0))\n"
   ],
   "metadata": {
    "collapsed": false,
    "ExecuteTime": {
     "end_time": "2023-12-25T17:44:21.261311300Z",
     "start_time": "2023-12-25T17:44:21.200597Z"
    }
   },
   "id": "81fb003a328da524"
  },
  {
   "cell_type": "code",
   "execution_count": 233,
   "outputs": [],
   "source": [
    "# save the model\n",
    "import pickle\n",
    "\n",
    "pickle.dump(best_model, open('best_model.pkl', 'wb'))\n",
    "pickle.dump(scaler, open('scaler.pkl', 'wb'))\n",
    "pickle.dump(label_encoder, open('label_encoder.pkl', 'wb'))\n",
    "\n"
   ],
   "metadata": {
    "collapsed": false,
    "ExecuteTime": {
     "end_time": "2023-12-25T17:44:21.321990500Z",
     "start_time": "2023-12-25T17:44:21.295375300Z"
    }
   },
   "id": "13c9fde2d5ef4582"
  },
  {
   "cell_type": "code",
   "execution_count": 234,
   "outputs": [],
   "source": [
    "# load the model\n",
    "import pickle\n",
    "\n",
    "best_model = pickle.load(open('best_model.pkl', 'rb'))\n",
    "scaler = pickle.load(open('scaler.pkl', 'rb'))\n",
    "label_encoder = pickle.load(open('label_encoder.pkl', 'rb'))\n",
    "\n"
   ],
   "metadata": {
    "collapsed": false,
    "ExecuteTime": {
     "end_time": "2023-12-25T17:44:21.377661500Z",
     "start_time": "2023-12-25T17:44:21.316004800Z"
    }
   },
   "id": "2d2d6c7c3a7918de"
  },
  {
   "cell_type": "code",
   "execution_count": 235,
   "outputs": [
    {
     "data": {
      "text/plain": "   Match Number  Round Number              Date          Location  \\\n0             1             1  11/08/2023 20:00         Turf Moor   \n1             2             1  12/08/2023 13:00  Emirates Stadium   \n2             3             1  12/08/2023 15:00  Vitality Stadium   \n3             4             1  12/08/2023 15:00      Amex Stadium   \n4             5             1  12/08/2023 15:00     Goodison Park   \n\n     Home Team          Away Team Result  \n0      Burnley           Man City  0 - 3  \n1      Arsenal  Nottingham Forest  2 - 1  \n2  Bournemouth           West Ham  1 - 1  \n3     Brighton              Luton  4 - 1  \n4      Everton             Fulham  0 - 1  ",
      "text/html": "<div>\n<style scoped>\n    .dataframe tbody tr th:only-of-type {\n        vertical-align: middle;\n    }\n\n    .dataframe tbody tr th {\n        vertical-align: top;\n    }\n\n    .dataframe thead th {\n        text-align: right;\n    }\n</style>\n<table border=\"1\" class=\"dataframe\">\n  <thead>\n    <tr style=\"text-align: right;\">\n      <th></th>\n      <th>Match Number</th>\n      <th>Round Number</th>\n      <th>Date</th>\n      <th>Location</th>\n      <th>Home Team</th>\n      <th>Away Team</th>\n      <th>Result</th>\n    </tr>\n  </thead>\n  <tbody>\n    <tr>\n      <th>0</th>\n      <td>1</td>\n      <td>1</td>\n      <td>11/08/2023 20:00</td>\n      <td>Turf Moor</td>\n      <td>Burnley</td>\n      <td>Man City</td>\n      <td>0 - 3</td>\n    </tr>\n    <tr>\n      <th>1</th>\n      <td>2</td>\n      <td>1</td>\n      <td>12/08/2023 13:00</td>\n      <td>Emirates Stadium</td>\n      <td>Arsenal</td>\n      <td>Nottingham Forest</td>\n      <td>2 - 1</td>\n    </tr>\n    <tr>\n      <th>2</th>\n      <td>3</td>\n      <td>1</td>\n      <td>12/08/2023 15:00</td>\n      <td>Vitality Stadium</td>\n      <td>Bournemouth</td>\n      <td>West Ham</td>\n      <td>1 - 1</td>\n    </tr>\n    <tr>\n      <th>3</th>\n      <td>4</td>\n      <td>1</td>\n      <td>12/08/2023 15:00</td>\n      <td>Amex Stadium</td>\n      <td>Brighton</td>\n      <td>Luton</td>\n      <td>4 - 1</td>\n    </tr>\n    <tr>\n      <th>4</th>\n      <td>5</td>\n      <td>1</td>\n      <td>12/08/2023 15:00</td>\n      <td>Goodison Park</td>\n      <td>Everton</td>\n      <td>Fulham</td>\n      <td>0 - 1</td>\n    </tr>\n  </tbody>\n</table>\n</div>"
     },
     "execution_count": 235,
     "metadata": {},
     "output_type": "execute_result"
    }
   ],
   "source": [
    "# predict the final league table after the first 17 games\n",
    "# load the fixtures which contains the first 17 games and the rest of the games\n",
    "fixtures = pd.read_csv('epl-fixtures.csv')\n",
    "fixtures.head()"
   ],
   "metadata": {
    "collapsed": false,
    "ExecuteTime": {
     "end_time": "2023-12-25T17:44:21.403665300Z",
     "start_time": "2023-12-25T17:44:21.349961300Z"
    }
   },
   "id": "6ecb92b1734bd60e"
  },
  {
   "cell_type": "code",
   "execution_count": 244,
   "outputs": [
    {
     "data": {
      "text/plain": "LabelEncoder()",
      "text/html": "<style>#sk-container-id-3 {color: black;}#sk-container-id-3 pre{padding: 0;}#sk-container-id-3 div.sk-toggleable {background-color: white;}#sk-container-id-3 label.sk-toggleable__label {cursor: pointer;display: block;width: 100%;margin-bottom: 0;padding: 0.3em;box-sizing: border-box;text-align: center;}#sk-container-id-3 label.sk-toggleable__label-arrow:before {content: \"▸\";float: left;margin-right: 0.25em;color: #696969;}#sk-container-id-3 label.sk-toggleable__label-arrow:hover:before {color: black;}#sk-container-id-3 div.sk-estimator:hover label.sk-toggleable__label-arrow:before {color: black;}#sk-container-id-3 div.sk-toggleable__content {max-height: 0;max-width: 0;overflow: hidden;text-align: left;background-color: #f0f8ff;}#sk-container-id-3 div.sk-toggleable__content pre {margin: 0.2em;color: black;border-radius: 0.25em;background-color: #f0f8ff;}#sk-container-id-3 input.sk-toggleable__control:checked~div.sk-toggleable__content {max-height: 200px;max-width: 100%;overflow: auto;}#sk-container-id-3 input.sk-toggleable__control:checked~label.sk-toggleable__label-arrow:before {content: \"▾\";}#sk-container-id-3 div.sk-estimator input.sk-toggleable__control:checked~label.sk-toggleable__label {background-color: #d4ebff;}#sk-container-id-3 div.sk-label input.sk-toggleable__control:checked~label.sk-toggleable__label {background-color: #d4ebff;}#sk-container-id-3 input.sk-hidden--visually {border: 0;clip: rect(1px 1px 1px 1px);clip: rect(1px, 1px, 1px, 1px);height: 1px;margin: -1px;overflow: hidden;padding: 0;position: absolute;width: 1px;}#sk-container-id-3 div.sk-estimator {font-family: monospace;background-color: #f0f8ff;border: 1px dotted black;border-radius: 0.25em;box-sizing: border-box;margin-bottom: 0.5em;}#sk-container-id-3 div.sk-estimator:hover {background-color: #d4ebff;}#sk-container-id-3 div.sk-parallel-item::after {content: \"\";width: 100%;border-bottom: 1px solid gray;flex-grow: 1;}#sk-container-id-3 div.sk-label:hover label.sk-toggleable__label {background-color: #d4ebff;}#sk-container-id-3 div.sk-serial::before {content: \"\";position: absolute;border-left: 1px solid gray;box-sizing: border-box;top: 0;bottom: 0;left: 50%;z-index: 0;}#sk-container-id-3 div.sk-serial {display: flex;flex-direction: column;align-items: center;background-color: white;padding-right: 0.2em;padding-left: 0.2em;position: relative;}#sk-container-id-3 div.sk-item {position: relative;z-index: 1;}#sk-container-id-3 div.sk-parallel {display: flex;align-items: stretch;justify-content: center;background-color: white;position: relative;}#sk-container-id-3 div.sk-item::before, #sk-container-id-3 div.sk-parallel-item::before {content: \"\";position: absolute;border-left: 1px solid gray;box-sizing: border-box;top: 0;bottom: 0;left: 50%;z-index: -1;}#sk-container-id-3 div.sk-parallel-item {display: flex;flex-direction: column;z-index: 1;position: relative;background-color: white;}#sk-container-id-3 div.sk-parallel-item:first-child::after {align-self: flex-end;width: 50%;}#sk-container-id-3 div.sk-parallel-item:last-child::after {align-self: flex-start;width: 50%;}#sk-container-id-3 div.sk-parallel-item:only-child::after {width: 0;}#sk-container-id-3 div.sk-dashed-wrapped {border: 1px dashed gray;margin: 0 0.4em 0.5em 0.4em;box-sizing: border-box;padding-bottom: 0.4em;background-color: white;}#sk-container-id-3 div.sk-label label {font-family: monospace;font-weight: bold;display: inline-block;line-height: 1.2em;}#sk-container-id-3 div.sk-label-container {text-align: center;}#sk-container-id-3 div.sk-container {/* jupyter's `normalize.less` sets `[hidden] { display: none; }` but bootstrap.min.css set `[hidden] { display: none !important; }` so we also need the `!important` here to be able to override the default hidden behavior on the sphinx rendered scikit-learn.org. See: https://github.com/scikit-learn/scikit-learn/issues/21755 */display: inline-block !important;position: relative;}#sk-container-id-3 div.sk-text-repr-fallback {display: none;}</style><div id=\"sk-container-id-3\" class=\"sk-top-container\"><div class=\"sk-text-repr-fallback\"><pre>LabelEncoder()</pre><b>In a Jupyter environment, please rerun this cell to show the HTML representation or trust the notebook. <br />On GitHub, the HTML representation is unable to render, please try loading this page with nbviewer.org.</b></div><div class=\"sk-container\" hidden><div class=\"sk-item\"><div class=\"sk-estimator sk-toggleable\"><input class=\"sk-toggleable__control sk-hidden--visually\" id=\"sk-estimator-id-3\" type=\"checkbox\" checked><label for=\"sk-estimator-id-3\" class=\"sk-toggleable__label sk-toggleable__label-arrow\">LabelEncoder</label><div class=\"sk-toggleable__content\"><pre>LabelEncoder()</pre></div></div></div></div></div>"
     },
     "execution_count": 244,
     "metadata": {},
     "output_type": "execute_result"
    }
   ],
   "source": [
    "# map the team names to the team names in the fixtures\n",
    "name_mapping = {\n",
    "    'Sheffield United': 'Sheffield Utd',\n",
    "    'Tottenham': 'Spurs',\n",
    "    'Man United': 'Man Utd',\n",
    "    'Nott\\'m Forest': 'Nottingham Forest',\n",
    "}\n",
    "\n",
    "# Apply name mapping to both datasets\n",
    "df_cleaned['HomeTeam'] = df_cleaned['HomeTeam'].replace(name_mapping)\n",
    "df_cleaned['AwayTeam'] = df_cleaned['AwayTeam'].replace(name_mapping)\n",
    "fixtures['Home Team'] = fixtures['Home Team'].replace(name_mapping)\n",
    "fixtures['Away Team'] = fixtures['Away Team'].replace(name_mapping)\n",
    "\n",
    "# Combine team names from both datasets\n",
    "all_teams = pd.concat([df_cleaned['HomeTeam'], df_cleaned['AwayTeam'], fixtures['Home Team'], fixtures['Away Team']]).unique()\n",
    "\n",
    "# Refit the label encoder\n",
    "\n",
    "label_encoder.fit(all_teams)\n"
   ],
   "metadata": {
    "collapsed": false,
    "ExecuteTime": {
     "end_time": "2023-12-25T18:08:35.663303300Z",
     "start_time": "2023-12-25T18:08:35.641033300Z"
    }
   },
   "id": "ed173d6d7349bf9a"
  },
  {
   "cell_type": "code",
   "execution_count": 245,
   "outputs": [],
   "source": [
    "def preprocess_fixtures(fixtures):\n",
    "    # Encode the team names\n",
    "    fixtures['HomeTeamEncoded'] = label_encoder.transform(fixtures['Home Team'])\n",
    "    fixtures['AwayTeamEncoded'] = label_encoder.transform(fixtures['Away Team'])\n",
    "\n",
    "    # Calculate recent form\n",
    "    fixtures['HomeTeamRecentForm'] = fixtures.apply(lambda x: calculate_form_points(x['Home Team'], df_cleaned), axis=1)\n",
    "    fixtures['AwayTeamRecentForm'] = fixtures.apply(lambda x: calculate_form_points(x['Away Team'], df_cleaned), axis=1)\n",
    "\n",
    "    # Calculate average goals\n",
    "    fixtures['HomeTeamAvgGoals'] = fixtures.apply(\n",
    "        lambda x: df_cleaned[df_cleaned['HomeTeam'] == x['Home Team']]['HomeTeamAvgGoals'].values[0] \n",
    "                  if len(df_cleaned[df_cleaned['HomeTeam'] == x['Home Team']]['HomeTeamAvgGoals']) > 0 \n",
    "                  else 0, \n",
    "        axis=1\n",
    "    )\n",
    "    fixtures['AwayTeamAvgGoals'] = fixtures.apply(\n",
    "        lambda x: df_cleaned[df_cleaned['AwayTeam'] == x['Away Team']]['AwayTeamAvgGoals'].values[0] \n",
    "                  if len(df_cleaned[df_cleaned['AwayTeam'] == x['Away Team']]['AwayTeamAvgGoals']) > 0 \n",
    "                  else 0, \n",
    "        axis=1\n",
    "    )\n",
    "\n",
    "    # Calculate team points\n",
    "    fixtures['HomeTeamPoints'] = fixtures.apply(lambda x: calculate_team_points(x['Home Team'], df_cleaned), axis=1)\n",
    "    fixtures['AwayTeamPoints'] = fixtures.apply(lambda x: calculate_team_points(x['Away Team'], df_cleaned), axis=1)\n",
    "\n",
    "    # Calculate win percentage\n",
    "    fixtures['HomeTeamWinPercentage'] = fixtures['Home Team'].map(home_team_win_percentage_map).fillna(0)\n",
    "    fixtures['AwayTeamWinPercentage'] = fixtures['Away Team'].map(away_team_win_percentage_map).fillna(0)\n",
    "\n",
    "    return fixtures\n"
   ],
   "metadata": {
    "collapsed": false,
    "ExecuteTime": {
     "end_time": "2023-12-25T18:08:36.762036500Z",
     "start_time": "2023-12-25T18:08:36.736740700Z"
    }
   },
   "id": "ab769a40f2ef1f0e"
  },
  {
   "cell_type": "code",
   "execution_count": 246,
   "outputs": [
    {
     "name": "stdout",
     "output_type": "stream",
     "text": [
      "Index(['Match Number', 'Round Number', 'Date', 'Location', 'Home Team',\n",
      "       'Away Team', 'Result', 'HomeTeamEncoded', 'AwayTeamEncoded',\n",
      "       'HomeTeamRecentForm', 'AwayTeamRecentForm', 'HomeTeamAvgGoals',\n",
      "       'AwayTeamAvgGoals', 'HomeTeamPoints', 'AwayTeamPoints',\n",
      "       'HomeTeamWinPercentage', 'AwayTeamWinPercentage'],\n",
      "      dtype='object')\n"
     ]
    }
   ],
   "source": [
    "print(fixtures.columns)"
   ],
   "metadata": {
    "collapsed": false,
    "ExecuteTime": {
     "end_time": "2023-12-25T18:08:38.117721700Z",
     "start_time": "2023-12-25T18:08:38.085757Z"
    }
   },
   "id": "6aebdf58e0fc0c9c"
  },
  {
   "cell_type": "code",
   "execution_count": 247,
   "outputs": [
    {
     "data": {
      "text/plain": "   Match Number  Round Number              Date          Location  \\\n0             1             1  11/08/2023 20:00         Turf Moor   \n1             2             1  12/08/2023 13:00  Emirates Stadium   \n2             3             1  12/08/2023 15:00  Vitality Stadium   \n3             4             1  12/08/2023 15:00      Amex Stadium   \n4             5             1  12/08/2023 15:00     Goodison Park   \n\n     Home Team          Away Team Result  HomeTeamEncoded  AwayTeamEncoded  \\\n0      Burnley           Man City  0 - 3                5               12   \n1      Arsenal  Nottingham Forest  2 - 1                0               15   \n2  Bournemouth           West Ham  1 - 1                2               18   \n3     Brighton              Luton  4 - 1                4               11   \n4      Everton             Fulham  0 - 1                8                9   \n\n   HomeTeamRecentForm  AwayTeamRecentForm  HomeTeamAvgGoals  AwayTeamAvgGoals  \\\n0                   7                   6          1.111111          2.000000   \n1                  10                   1          2.444444          0.777778   \n2                  13                  10          1.000000          1.555556   \n3                   5                   6          2.000000          0.875000   \n4                  12                   6          1.111111          1.000000   \n\n   HomeTeamPoints  AwayTeamPoints  HomeTeamWinPercentage  \\\n0              11              34               0.111111   \n1              40              14               0.777778   \n2              22              30               0.250000   \n3              27              12               0.444444   \n4              26              21               0.333333   \n\n   AwayTeamWinPercentage  \n0               0.555556  \n1               0.000000  \n2               0.444444  \n3               0.125000  \n4               0.111111  ",
      "text/html": "<div>\n<style scoped>\n    .dataframe tbody tr th:only-of-type {\n        vertical-align: middle;\n    }\n\n    .dataframe tbody tr th {\n        vertical-align: top;\n    }\n\n    .dataframe thead th {\n        text-align: right;\n    }\n</style>\n<table border=\"1\" class=\"dataframe\">\n  <thead>\n    <tr style=\"text-align: right;\">\n      <th></th>\n      <th>Match Number</th>\n      <th>Round Number</th>\n      <th>Date</th>\n      <th>Location</th>\n      <th>Home Team</th>\n      <th>Away Team</th>\n      <th>Result</th>\n      <th>HomeTeamEncoded</th>\n      <th>AwayTeamEncoded</th>\n      <th>HomeTeamRecentForm</th>\n      <th>AwayTeamRecentForm</th>\n      <th>HomeTeamAvgGoals</th>\n      <th>AwayTeamAvgGoals</th>\n      <th>HomeTeamPoints</th>\n      <th>AwayTeamPoints</th>\n      <th>HomeTeamWinPercentage</th>\n      <th>AwayTeamWinPercentage</th>\n    </tr>\n  </thead>\n  <tbody>\n    <tr>\n      <th>0</th>\n      <td>1</td>\n      <td>1</td>\n      <td>11/08/2023 20:00</td>\n      <td>Turf Moor</td>\n      <td>Burnley</td>\n      <td>Man City</td>\n      <td>0 - 3</td>\n      <td>5</td>\n      <td>12</td>\n      <td>7</td>\n      <td>6</td>\n      <td>1.111111</td>\n      <td>2.000000</td>\n      <td>11</td>\n      <td>34</td>\n      <td>0.111111</td>\n      <td>0.555556</td>\n    </tr>\n    <tr>\n      <th>1</th>\n      <td>2</td>\n      <td>1</td>\n      <td>12/08/2023 13:00</td>\n      <td>Emirates Stadium</td>\n      <td>Arsenal</td>\n      <td>Nottingham Forest</td>\n      <td>2 - 1</td>\n      <td>0</td>\n      <td>15</td>\n      <td>10</td>\n      <td>1</td>\n      <td>2.444444</td>\n      <td>0.777778</td>\n      <td>40</td>\n      <td>14</td>\n      <td>0.777778</td>\n      <td>0.000000</td>\n    </tr>\n    <tr>\n      <th>2</th>\n      <td>3</td>\n      <td>1</td>\n      <td>12/08/2023 15:00</td>\n      <td>Vitality Stadium</td>\n      <td>Bournemouth</td>\n      <td>West Ham</td>\n      <td>1 - 1</td>\n      <td>2</td>\n      <td>18</td>\n      <td>13</td>\n      <td>10</td>\n      <td>1.000000</td>\n      <td>1.555556</td>\n      <td>22</td>\n      <td>30</td>\n      <td>0.250000</td>\n      <td>0.444444</td>\n    </tr>\n    <tr>\n      <th>3</th>\n      <td>4</td>\n      <td>1</td>\n      <td>12/08/2023 15:00</td>\n      <td>Amex Stadium</td>\n      <td>Brighton</td>\n      <td>Luton</td>\n      <td>4 - 1</td>\n      <td>4</td>\n      <td>11</td>\n      <td>5</td>\n      <td>6</td>\n      <td>2.000000</td>\n      <td>0.875000</td>\n      <td>27</td>\n      <td>12</td>\n      <td>0.444444</td>\n      <td>0.125000</td>\n    </tr>\n    <tr>\n      <th>4</th>\n      <td>5</td>\n      <td>1</td>\n      <td>12/08/2023 15:00</td>\n      <td>Goodison Park</td>\n      <td>Everton</td>\n      <td>Fulham</td>\n      <td>0 - 1</td>\n      <td>8</td>\n      <td>9</td>\n      <td>12</td>\n      <td>6</td>\n      <td>1.111111</td>\n      <td>1.000000</td>\n      <td>26</td>\n      <td>21</td>\n      <td>0.333333</td>\n      <td>0.111111</td>\n    </tr>\n  </tbody>\n</table>\n</div>"
     },
     "execution_count": 247,
     "metadata": {},
     "output_type": "execute_result"
    }
   ],
   "source": [
    "# preprocess the fixtures\n",
    "fixtures = preprocess_fixtures(fixtures)\n",
    "fixtures.head()"
   ],
   "metadata": {
    "collapsed": false,
    "ExecuteTime": {
     "end_time": "2023-12-25T18:08:51.428482600Z",
     "start_time": "2023-12-25T18:08:40.623834100Z"
    }
   },
   "id": "88e205fefcda0555"
  },
  {
   "cell_type": "code",
   "execution_count": 250,
   "outputs": [
    {
     "data": {
      "text/plain": "                 Team  Points\n0            Man City      62\n1             Arsenal      62\n2         Aston Villa      60\n3           Liverpool      55\n4              Wolves      55\n5           Newcastle      54\n6              Fulham      54\n7            West Ham      51\n8            Brighton      50\n9           Brentford      47\n10            Chelsea      47\n11              Luton      42\n12            Burnley      41\n13      Sheffield Utd      39\n14            Everton      39\n15        Bournemouth      39\n16     Crystal Palace      38\n17            Man Utd      19\n18              Spurs      19\n19  Nottingham Forest      19",
      "text/html": "<div>\n<style scoped>\n    .dataframe tbody tr th:only-of-type {\n        vertical-align: middle;\n    }\n\n    .dataframe tbody tr th {\n        vertical-align: top;\n    }\n\n    .dataframe thead th {\n        text-align: right;\n    }\n</style>\n<table border=\"1\" class=\"dataframe\">\n  <thead>\n    <tr style=\"text-align: right;\">\n      <th></th>\n      <th>Team</th>\n      <th>Points</th>\n    </tr>\n  </thead>\n  <tbody>\n    <tr>\n      <th>0</th>\n      <td>Man City</td>\n      <td>62</td>\n    </tr>\n    <tr>\n      <th>1</th>\n      <td>Arsenal</td>\n      <td>62</td>\n    </tr>\n    <tr>\n      <th>2</th>\n      <td>Aston Villa</td>\n      <td>60</td>\n    </tr>\n    <tr>\n      <th>3</th>\n      <td>Liverpool</td>\n      <td>55</td>\n    </tr>\n    <tr>\n      <th>4</th>\n      <td>Wolves</td>\n      <td>55</td>\n    </tr>\n    <tr>\n      <th>5</th>\n      <td>Newcastle</td>\n      <td>54</td>\n    </tr>\n    <tr>\n      <th>6</th>\n      <td>Fulham</td>\n      <td>54</td>\n    </tr>\n    <tr>\n      <th>7</th>\n      <td>West Ham</td>\n      <td>51</td>\n    </tr>\n    <tr>\n      <th>8</th>\n      <td>Brighton</td>\n      <td>50</td>\n    </tr>\n    <tr>\n      <th>9</th>\n      <td>Brentford</td>\n      <td>47</td>\n    </tr>\n    <tr>\n      <th>10</th>\n      <td>Chelsea</td>\n      <td>47</td>\n    </tr>\n    <tr>\n      <th>11</th>\n      <td>Luton</td>\n      <td>42</td>\n    </tr>\n    <tr>\n      <th>12</th>\n      <td>Burnley</td>\n      <td>41</td>\n    </tr>\n    <tr>\n      <th>13</th>\n      <td>Sheffield Utd</td>\n      <td>39</td>\n    </tr>\n    <tr>\n      <th>14</th>\n      <td>Everton</td>\n      <td>39</td>\n    </tr>\n    <tr>\n      <th>15</th>\n      <td>Bournemouth</td>\n      <td>39</td>\n    </tr>\n    <tr>\n      <th>16</th>\n      <td>Crystal Palace</td>\n      <td>38</td>\n    </tr>\n    <tr>\n      <th>17</th>\n      <td>Man Utd</td>\n      <td>19</td>\n    </tr>\n    <tr>\n      <th>18</th>\n      <td>Spurs</td>\n      <td>19</td>\n    </tr>\n    <tr>\n      <th>19</th>\n      <td>Nottingham Forest</td>\n      <td>19</td>\n    </tr>\n  </tbody>\n</table>\n</div>"
     },
     "execution_count": 250,
     "metadata": {},
     "output_type": "execute_result"
    }
   ],
   "source": [
    "# generate predictions for unplayed matches\n",
    "\n",
    "for index, row in fixtures.iterrows():\n",
    "    if pd.isna(row['Result']):\n",
    "        processed_fixture = preprocess_fixtures(pd.DataFrame([row]))\n",
    "        \n",
    "        prediction = final_model.predict(processed_fixture[['HomeTeamEncoded', 'AwayTeamEncoded', 'HomeTeamRecentForm', 'AwayTeamRecentForm', 'HomeTeamAvgGoals', 'AwayTeamAvgGoals', 'HomeTeamPoints', 'AwayTeamPoints', 'HomeTeamWinPercentage', 'AwayTeamWinPercentage']])\n",
    "        \n",
    "        fixtures.at[index, 'Result'] = prediction[0]\n",
    "        \n",
    "# Update the league table\n",
    "league_table = pd.DataFrame({'Team': fixtures['Home Team'].unique(), 'Points': 0})\n",
    "\n",
    "# create function to update points for each match\n",
    "def update_points(row, standings):\n",
    "    if row['Result'] == 'H':\n",
    "        standings.loc[league_table['Team'] == row['Home Team'], 'Points'] += 3\n",
    "    elif row['Result'] == 'A':\n",
    "        standings.loc[league_table['Team'] == row['Away Team'], 'Points'] += 3\n",
    "    else:\n",
    "        standings.loc[league_table['Team'] == row['Home Team'], 'Points'] += 1\n",
    "        standings.loc[league_table['Team'] == row['Away Team'], 'Points'] += 1\n",
    "\n",
    "# update points for each match\n",
    "for index, row in fixtures.iterrows():\n",
    "    update_points(row, league_table)\n",
    "    \n",
    "# sort the league table\n",
    "final_league_table = league_table.sort_values(by=['Points'], ascending=False).reset_index(drop=True)\n",
    "final_league_table.head(20)\n",
    "        \n",
    "            \n",
    "\n"
   ],
   "metadata": {
    "collapsed": false,
    "ExecuteTime": {
     "end_time": "2023-12-25T18:10:48.724056200Z",
     "start_time": "2023-12-25T18:10:48.369754900Z"
    }
   },
   "id": "198218ce585520b0"
  },
  {
   "cell_type": "code",
   "execution_count": 251,
   "outputs": [
    {
     "data": {
      "text/plain": "                 Team  Points\n0             Arsenal     102\n1         Aston Villa      99\n2            Man City      96\n3           Liverpool      94\n4           Newcastle      83\n5            West Ham      81\n6            Brighton      77\n7              Wolves      77\n8              Fulham      75\n9             Chelsea      69\n10          Brentford      66\n11        Bournemouth      61\n12     Crystal Palace      56\n13            Everton      55\n14              Spurs      55\n15              Luton      54\n16            Burnley      52\n17      Sheffield Utd      48\n18            Man Utd      47\n19  Nottingham Forest      33",
      "text/html": "<div>\n<style scoped>\n    .dataframe tbody tr th:only-of-type {\n        vertical-align: middle;\n    }\n\n    .dataframe tbody tr th {\n        vertical-align: top;\n    }\n\n    .dataframe thead th {\n        text-align: right;\n    }\n</style>\n<table border=\"1\" class=\"dataframe\">\n  <thead>\n    <tr style=\"text-align: right;\">\n      <th></th>\n      <th>Team</th>\n      <th>Points</th>\n    </tr>\n  </thead>\n  <tbody>\n    <tr>\n      <th>0</th>\n      <td>Arsenal</td>\n      <td>102</td>\n    </tr>\n    <tr>\n      <th>1</th>\n      <td>Aston Villa</td>\n      <td>99</td>\n    </tr>\n    <tr>\n      <th>2</th>\n      <td>Man City</td>\n      <td>96</td>\n    </tr>\n    <tr>\n      <th>3</th>\n      <td>Liverpool</td>\n      <td>94</td>\n    </tr>\n    <tr>\n      <th>4</th>\n      <td>Newcastle</td>\n      <td>83</td>\n    </tr>\n    <tr>\n      <th>5</th>\n      <td>West Ham</td>\n      <td>81</td>\n    </tr>\n    <tr>\n      <th>6</th>\n      <td>Brighton</td>\n      <td>77</td>\n    </tr>\n    <tr>\n      <th>7</th>\n      <td>Wolves</td>\n      <td>77</td>\n    </tr>\n    <tr>\n      <th>8</th>\n      <td>Fulham</td>\n      <td>75</td>\n    </tr>\n    <tr>\n      <th>9</th>\n      <td>Chelsea</td>\n      <td>69</td>\n    </tr>\n    <tr>\n      <th>10</th>\n      <td>Brentford</td>\n      <td>66</td>\n    </tr>\n    <tr>\n      <th>11</th>\n      <td>Bournemouth</td>\n      <td>61</td>\n    </tr>\n    <tr>\n      <th>12</th>\n      <td>Crystal Palace</td>\n      <td>56</td>\n    </tr>\n    <tr>\n      <th>13</th>\n      <td>Everton</td>\n      <td>55</td>\n    </tr>\n    <tr>\n      <th>14</th>\n      <td>Spurs</td>\n      <td>55</td>\n    </tr>\n    <tr>\n      <th>15</th>\n      <td>Luton</td>\n      <td>54</td>\n    </tr>\n    <tr>\n      <th>16</th>\n      <td>Burnley</td>\n      <td>52</td>\n    </tr>\n    <tr>\n      <th>17</th>\n      <td>Sheffield Utd</td>\n      <td>48</td>\n    </tr>\n    <tr>\n      <th>18</th>\n      <td>Man Utd</td>\n      <td>47</td>\n    </tr>\n    <tr>\n      <th>19</th>\n      <td>Nottingham Forest</td>\n      <td>33</td>\n    </tr>\n  </tbody>\n</table>\n</div>"
     },
     "execution_count": 251,
     "metadata": {},
     "output_type": "execute_result"
    }
   ],
   "source": [
    "team_stats.index = team_stats.index.to_series().replace(name_mapping)\n",
    "\n",
    "# Update the points in the league_table with the actual points from team_stats\n",
    "for team in league_table['Team']:\n",
    "    standardized_team_name = name_mapping.get(team, team)  # Standardize team name if needed\n",
    "    if standardized_team_name in team_stats.index:\n",
    "        league_table.loc[league_table['Team'] == team, 'Points'] += team_stats.loc[standardized_team_name, 'Points']\n",
    "\n",
    "# Now, league_table should contain the sum of actual and predicted points\n",
    "final_league_table = league_table.sort_values(by=['Points'], ascending=False).reset_index(drop=True)\n",
    "final_league_table.head(20)\n"
   ],
   "metadata": {
    "collapsed": false,
    "ExecuteTime": {
     "end_time": "2023-12-25T18:10:55.026580100Z",
     "start_time": "2023-12-25T18:10:54.969077Z"
    }
   },
   "id": "e21e2fa94ff09fb6"
  },
  {
   "cell_type": "code",
   "execution_count": 241,
   "outputs": [],
   "source": [],
   "metadata": {
    "collapsed": false,
    "ExecuteTime": {
     "end_time": "2023-12-25T17:44:31.424594800Z",
     "start_time": "2023-12-25T17:44:31.392337200Z"
    }
   },
   "id": "d5f2692896dda653"
  }
 ],
 "metadata": {
  "kernelspec": {
   "display_name": "Python 3",
   "language": "python",
   "name": "python3"
  },
  "language_info": {
   "codemirror_mode": {
    "name": "ipython",
    "version": 2
   },
   "file_extension": ".py",
   "mimetype": "text/x-python",
   "name": "python",
   "nbconvert_exporter": "python",
   "pygments_lexer": "ipython2",
   "version": "2.7.6"
  }
 },
 "nbformat": 4,
 "nbformat_minor": 5
}
