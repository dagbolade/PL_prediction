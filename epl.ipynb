{
 "cells": [
  {
   "cell_type": "markdown",
   "source": [
    "# Premier League 2023/24 predictions"
   ],
   "metadata": {
    "collapsed": false
   },
   "id": "baffb21ee741de4f"
  },
  {
   "cell_type": "markdown",
   "source": [
    "## Importing libraries"
   ],
   "metadata": {
    "collapsed": false
   },
   "id": "5e632784a4a65bae"
  },
  {
   "cell_type": "code",
   "execution_count": 7,
   "outputs": [
    {
     "data": {
      "text/plain": "  Div       Date      Time     HomeTeam       AwayTeam  FTHG  FTAG FTR  HTHG  \\\n0  E0 2023-08-11  20:00:00      Burnley       Man City     0     3   A     0   \n1  E0 2023-08-12  12:30:00      Arsenal  Nott'm Forest     2     1   H     2   \n2  E0 2023-08-12  15:00:00  Bournemouth       West Ham     1     1   D     0   \n3  E0 2023-08-12  15:00:00     Brighton          Luton     4     1   H     1   \n4  E0 2023-08-12  15:00:00      Everton         Fulham     0     1   A     0   \n\n   HTAG  ... AvgC<2.5  AHCh  B365CAHH  B365CAHA  PCAHH  PCAHA  MaxCAHH  \\\n0     2  ...     2.28  1.50      1.95      1.98   1.95   1.97      NaN   \n1     0  ...     2.63 -2.00      1.95      1.98   1.93   1.97     2.01   \n2     0  ...     2.12  0.00      2.02      1.91   2.01   1.92     2.06   \n3     0  ...     2.48 -1.75      2.01      1.92   2.00   1.91     2.14   \n4     0  ...     1.71 -0.25      2.06      1.87   2.04   1.88     2.08   \n\n   MaxCAHA  AvgCAHH  AvgCAHA  \n0      NaN     1.92     1.95  \n1     2.09     1.95     1.92  \n2     1.96     1.96     1.91  \n3     1.93     2.00     1.86  \n4     1.99     1.98     1.88  \n\n[5 rows x 106 columns]",
      "text/html": "<div>\n<style scoped>\n    .dataframe tbody tr th:only-of-type {\n        vertical-align: middle;\n    }\n\n    .dataframe tbody tr th {\n        vertical-align: top;\n    }\n\n    .dataframe thead th {\n        text-align: right;\n    }\n</style>\n<table border=\"1\" class=\"dataframe\">\n  <thead>\n    <tr style=\"text-align: right;\">\n      <th></th>\n      <th>Div</th>\n      <th>Date</th>\n      <th>Time</th>\n      <th>HomeTeam</th>\n      <th>AwayTeam</th>\n      <th>FTHG</th>\n      <th>FTAG</th>\n      <th>FTR</th>\n      <th>HTHG</th>\n      <th>HTAG</th>\n      <th>...</th>\n      <th>AvgC&lt;2.5</th>\n      <th>AHCh</th>\n      <th>B365CAHH</th>\n      <th>B365CAHA</th>\n      <th>PCAHH</th>\n      <th>PCAHA</th>\n      <th>MaxCAHH</th>\n      <th>MaxCAHA</th>\n      <th>AvgCAHH</th>\n      <th>AvgCAHA</th>\n    </tr>\n  </thead>\n  <tbody>\n    <tr>\n      <th>0</th>\n      <td>E0</td>\n      <td>2023-08-11</td>\n      <td>20:00:00</td>\n      <td>Burnley</td>\n      <td>Man City</td>\n      <td>0</td>\n      <td>3</td>\n      <td>A</td>\n      <td>0</td>\n      <td>2</td>\n      <td>...</td>\n      <td>2.28</td>\n      <td>1.50</td>\n      <td>1.95</td>\n      <td>1.98</td>\n      <td>1.95</td>\n      <td>1.97</td>\n      <td>NaN</td>\n      <td>NaN</td>\n      <td>1.92</td>\n      <td>1.95</td>\n    </tr>\n    <tr>\n      <th>1</th>\n      <td>E0</td>\n      <td>2023-08-12</td>\n      <td>12:30:00</td>\n      <td>Arsenal</td>\n      <td>Nott'm Forest</td>\n      <td>2</td>\n      <td>1</td>\n      <td>H</td>\n      <td>2</td>\n      <td>0</td>\n      <td>...</td>\n      <td>2.63</td>\n      <td>-2.00</td>\n      <td>1.95</td>\n      <td>1.98</td>\n      <td>1.93</td>\n      <td>1.97</td>\n      <td>2.01</td>\n      <td>2.09</td>\n      <td>1.95</td>\n      <td>1.92</td>\n    </tr>\n    <tr>\n      <th>2</th>\n      <td>E0</td>\n      <td>2023-08-12</td>\n      <td>15:00:00</td>\n      <td>Bournemouth</td>\n      <td>West Ham</td>\n      <td>1</td>\n      <td>1</td>\n      <td>D</td>\n      <td>0</td>\n      <td>0</td>\n      <td>...</td>\n      <td>2.12</td>\n      <td>0.00</td>\n      <td>2.02</td>\n      <td>1.91</td>\n      <td>2.01</td>\n      <td>1.92</td>\n      <td>2.06</td>\n      <td>1.96</td>\n      <td>1.96</td>\n      <td>1.91</td>\n    </tr>\n    <tr>\n      <th>3</th>\n      <td>E0</td>\n      <td>2023-08-12</td>\n      <td>15:00:00</td>\n      <td>Brighton</td>\n      <td>Luton</td>\n      <td>4</td>\n      <td>1</td>\n      <td>H</td>\n      <td>1</td>\n      <td>0</td>\n      <td>...</td>\n      <td>2.48</td>\n      <td>-1.75</td>\n      <td>2.01</td>\n      <td>1.92</td>\n      <td>2.00</td>\n      <td>1.91</td>\n      <td>2.14</td>\n      <td>1.93</td>\n      <td>2.00</td>\n      <td>1.86</td>\n    </tr>\n    <tr>\n      <th>4</th>\n      <td>E0</td>\n      <td>2023-08-12</td>\n      <td>15:00:00</td>\n      <td>Everton</td>\n      <td>Fulham</td>\n      <td>0</td>\n      <td>1</td>\n      <td>A</td>\n      <td>0</td>\n      <td>0</td>\n      <td>...</td>\n      <td>1.71</td>\n      <td>-0.25</td>\n      <td>2.06</td>\n      <td>1.87</td>\n      <td>2.04</td>\n      <td>1.88</td>\n      <td>2.08</td>\n      <td>1.99</td>\n      <td>1.98</td>\n      <td>1.88</td>\n    </tr>\n  </tbody>\n</table>\n<p>5 rows × 106 columns</p>\n</div>"
     },
     "execution_count": 7,
     "metadata": {},
     "output_type": "execute_result"
    }
   ],
   "source": [
    "import pandas as pd\n",
    "\n",
    "# Load the dataset from the excel file\n",
    "file_path = 'all-euro-data-2023-2024.xlsx'\n",
    "df = pd.read_excel(file_path, sheet_name='E0')\n",
    "\n",
    "# Display the first few rows of the dataset\n",
    "df.head()\n"
   ],
   "metadata": {
    "collapsed": false,
    "ExecuteTime": {
     "end_time": "2023-12-24T21:10:49.810884800Z",
     "start_time": "2023-12-24T21:10:48.948526100Z"
    }
   },
   "id": "79b87f51e58715a9"
  },
  {
   "cell_type": "markdown",
   "source": [
    "## Data cleaning"
   ],
   "metadata": {
    "collapsed": false
   },
   "id": "e5f7fe372ecbbe43"
  },
  {
   "cell_type": "code",
   "execution_count": 8,
   "id": "initial_id",
   "metadata": {
    "collapsed": true,
    "ExecuteTime": {
     "end_time": "2023-12-24T21:10:49.835655700Z",
     "start_time": "2023-12-24T21:10:49.782236900Z"
    }
   },
   "outputs": [
    {
     "data": {
      "text/plain": "(Div         0\n Date        0\n Time        0\n HomeTeam    0\n AwayTeam    0\n            ..\n PCAHA       0\n MaxCAHH     1\n MaxCAHA     1\n AvgCAHH     0\n AvgCAHA     0\n Length: 106, dtype: int64,\n 0)"
     },
     "execution_count": 8,
     "metadata": {},
     "output_type": "execute_result"
    }
   ],
   "source": [
    "# steps:\n",
    "# 1. Check for missing values\n",
    "missing_values = df.isnull().sum()\n",
    "\n",
    "# 2. Check for duplicates\n",
    "duplicate_rows = df.duplicated().sum()\n",
    "\n",
    "# Display the results of the checks\n",
    "missing_values, duplicate_rows"
   ]
  },
  {
   "cell_type": "code",
   "execution_count": 9,
   "outputs": [
    {
     "name": "stdout",
     "output_type": "stream",
     "text": [
      "<class 'pandas.core.frame.DataFrame'>\n",
      "RangeIndex: 169 entries, 0 to 168\n",
      "Columns: 106 entries, Div to AvgCAHA\n",
      "dtypes: datetime64[ns](1), float64(82), int64(16), object(7)\n",
      "memory usage: 140.1+ KB\n"
     ]
    },
    {
     "data": {
      "text/plain": "  Div       Date      Time     HomeTeam       AwayTeam  FTHG  FTAG FTR  HTHG  \\\n0  E0 2023-08-11  20:00:00      Burnley       Man City     0     3   A     0   \n1  E0 2023-08-12  12:30:00      Arsenal  Nott'm Forest     2     1   H     2   \n2  E0 2023-08-12  15:00:00  Bournemouth       West Ham     1     1   D     0   \n3  E0 2023-08-12  15:00:00     Brighton          Luton     4     1   H     1   \n4  E0 2023-08-12  15:00:00      Everton         Fulham     0     1   A     0   \n\n   HTAG  ... AvgC<2.5  AHCh  B365CAHH  B365CAHA  PCAHH  PCAHA  MaxCAHH  \\\n0     2  ...     2.28  1.50      1.95      1.98   1.95   1.97    2.015   \n1     0  ...     2.63 -2.00      1.95      1.98   1.93   1.97    2.010   \n2     0  ...     2.12  0.00      2.02      1.91   2.01   1.92    2.060   \n3     0  ...     2.48 -1.75      2.01      1.92   2.00   1.91    2.140   \n4     0  ...     1.71 -0.25      2.06      1.87   2.04   1.88    2.080   \n\n   MaxCAHA  AvgCAHH  AvgCAHA  \n0     2.00     1.92     1.95  \n1     2.09     1.95     1.92  \n2     1.96     1.96     1.91  \n3     1.93     2.00     1.86  \n4     1.99     1.98     1.88  \n\n[5 rows x 106 columns]",
      "text/html": "<div>\n<style scoped>\n    .dataframe tbody tr th:only-of-type {\n        vertical-align: middle;\n    }\n\n    .dataframe tbody tr th {\n        vertical-align: top;\n    }\n\n    .dataframe thead th {\n        text-align: right;\n    }\n</style>\n<table border=\"1\" class=\"dataframe\">\n  <thead>\n    <tr style=\"text-align: right;\">\n      <th></th>\n      <th>Div</th>\n      <th>Date</th>\n      <th>Time</th>\n      <th>HomeTeam</th>\n      <th>AwayTeam</th>\n      <th>FTHG</th>\n      <th>FTAG</th>\n      <th>FTR</th>\n      <th>HTHG</th>\n      <th>HTAG</th>\n      <th>...</th>\n      <th>AvgC&lt;2.5</th>\n      <th>AHCh</th>\n      <th>B365CAHH</th>\n      <th>B365CAHA</th>\n      <th>PCAHH</th>\n      <th>PCAHA</th>\n      <th>MaxCAHH</th>\n      <th>MaxCAHA</th>\n      <th>AvgCAHH</th>\n      <th>AvgCAHA</th>\n    </tr>\n  </thead>\n  <tbody>\n    <tr>\n      <th>0</th>\n      <td>E0</td>\n      <td>2023-08-11</td>\n      <td>20:00:00</td>\n      <td>Burnley</td>\n      <td>Man City</td>\n      <td>0</td>\n      <td>3</td>\n      <td>A</td>\n      <td>0</td>\n      <td>2</td>\n      <td>...</td>\n      <td>2.28</td>\n      <td>1.50</td>\n      <td>1.95</td>\n      <td>1.98</td>\n      <td>1.95</td>\n      <td>1.97</td>\n      <td>2.015</td>\n      <td>2.00</td>\n      <td>1.92</td>\n      <td>1.95</td>\n    </tr>\n    <tr>\n      <th>1</th>\n      <td>E0</td>\n      <td>2023-08-12</td>\n      <td>12:30:00</td>\n      <td>Arsenal</td>\n      <td>Nott'm Forest</td>\n      <td>2</td>\n      <td>1</td>\n      <td>H</td>\n      <td>2</td>\n      <td>0</td>\n      <td>...</td>\n      <td>2.63</td>\n      <td>-2.00</td>\n      <td>1.95</td>\n      <td>1.98</td>\n      <td>1.93</td>\n      <td>1.97</td>\n      <td>2.010</td>\n      <td>2.09</td>\n      <td>1.95</td>\n      <td>1.92</td>\n    </tr>\n    <tr>\n      <th>2</th>\n      <td>E0</td>\n      <td>2023-08-12</td>\n      <td>15:00:00</td>\n      <td>Bournemouth</td>\n      <td>West Ham</td>\n      <td>1</td>\n      <td>1</td>\n      <td>D</td>\n      <td>0</td>\n      <td>0</td>\n      <td>...</td>\n      <td>2.12</td>\n      <td>0.00</td>\n      <td>2.02</td>\n      <td>1.91</td>\n      <td>2.01</td>\n      <td>1.92</td>\n      <td>2.060</td>\n      <td>1.96</td>\n      <td>1.96</td>\n      <td>1.91</td>\n    </tr>\n    <tr>\n      <th>3</th>\n      <td>E0</td>\n      <td>2023-08-12</td>\n      <td>15:00:00</td>\n      <td>Brighton</td>\n      <td>Luton</td>\n      <td>4</td>\n      <td>1</td>\n      <td>H</td>\n      <td>1</td>\n      <td>0</td>\n      <td>...</td>\n      <td>2.48</td>\n      <td>-1.75</td>\n      <td>2.01</td>\n      <td>1.92</td>\n      <td>2.00</td>\n      <td>1.91</td>\n      <td>2.140</td>\n      <td>1.93</td>\n      <td>2.00</td>\n      <td>1.86</td>\n    </tr>\n    <tr>\n      <th>4</th>\n      <td>E0</td>\n      <td>2023-08-12</td>\n      <td>15:00:00</td>\n      <td>Everton</td>\n      <td>Fulham</td>\n      <td>0</td>\n      <td>1</td>\n      <td>A</td>\n      <td>0</td>\n      <td>0</td>\n      <td>...</td>\n      <td>1.71</td>\n      <td>-0.25</td>\n      <td>2.06</td>\n      <td>1.87</td>\n      <td>2.04</td>\n      <td>1.88</td>\n      <td>2.080</td>\n      <td>1.99</td>\n      <td>1.98</td>\n      <td>1.88</td>\n    </tr>\n  </tbody>\n</table>\n<p>5 rows × 106 columns</p>\n</div>"
     },
     "execution_count": 9,
     "metadata": {},
     "output_type": "execute_result"
    }
   ],
   "source": [
    "# Dropping columns with a high number of missing values or irrelevant to our analysis\n",
    "irrelevant_columns = df.columns[df.isnull().sum() > (0.5 * len(df))]  # Columns with more than 50% missing values\n",
    "df_cleaned = df.drop(columns=irrelevant_columns)\n",
    "\n",
    "# Convert 'Date' to datetime\n",
    "df_cleaned['Date'] = pd.to_datetime(df_cleaned['Date'])\n",
    "\n",
    "# Fill missing values in other relevant columns with appropriate values (like median or mode)\n",
    "# For numerical columns, we use median and for categorical, we use mode\n",
    "for column in df_cleaned.columns:\n",
    "    if df_cleaned[column].dtype == 'object':\n",
    "        df_cleaned[column].fillna(df_cleaned[column].mode()[0], inplace=True)\n",
    "    else:\n",
    "        df_cleaned[column].fillna(df_cleaned[column].median(), inplace=True)\n",
    "\n",
    "# Recheck for missing values\n",
    "remaining_missing_values = df_cleaned.isnull().sum().sum()\n",
    "\n",
    "# Basic information after cleaning\n",
    "remaining_missing_values, df_cleaned.info()\n",
    "\n",
    "df_cleaned.head()\n"
   ],
   "metadata": {
    "collapsed": false,
    "ExecuteTime": {
     "end_time": "2023-12-24T21:10:49.977519700Z",
     "start_time": "2023-12-24T21:10:49.815140700Z"
    }
   },
   "id": "6cb7cecf0d962cfc"
  },
  {
   "cell_type": "markdown",
   "source": [
    "## Feature engineering\n",
    "\n",
    "### steps:\n",
    "* Encode Team Names: Use label encoding for 'HomeTeam' and 'AwayTeam'. This will convert team names into numeric values, making them usable for the model.\n",
    "\n",
    "* Recent Form: Calculate the recent form for each team based on the last 5 matches. We'll use the 'FTR' column to determine wins (W), losses (L), and draws (D). This feature will provide insight into the current performance of the teams.\n",
    "\n",
    "* Average Goals per Game: Compute the average goals scored per game for both home and away teams. This feature helps understand the offensive strength of the teams.\n",
    "\n",
    "* Team Points: Calculate the total points accumulated by each team so far in the season. Points are awarded based on wins (3 points), draws (1 point), and losses (0 points).\n",
    "\n",
    "* Head-to-Head Statistics: Analyze the outcomes of matches between the same pairs of teams earlier in the season.\n",
    "\n",
    "* Other Statistical Features: Depending on the data available, we can include additional features like average possession, number of shots on target, defensive strength, etc."
   ],
   "metadata": {
    "collapsed": false
   },
   "id": "42e90ef27df5a84d"
  },
  {
   "cell_type": "markdown",
   "source": [
    "## Encode team names"
   ],
   "metadata": {
    "collapsed": false
   },
   "id": "90a4cf9baa0697fb"
  },
  {
   "cell_type": "code",
   "execution_count": 10,
   "outputs": [],
   "source": [
    "# Import the LabelEncoder class from the sklearn library\n",
    "from sklearn.preprocessing import LabelEncoder\n",
    "\n",
    "# Encode the team names\n",
    "label_encoder = LabelEncoder()\n",
    "df_cleaned['HomeTeamEncoded'] = label_encoder.fit_transform(df_cleaned['HomeTeam'])\n",
    "df_cleaned['AwayTeamEncoded'] = label_encoder.transform(df_cleaned['AwayTeam'])\n"
   ],
   "metadata": {
    "collapsed": false,
    "ExecuteTime": {
     "end_time": "2023-12-24T21:10:49.979326100Z",
     "start_time": "2023-12-24T21:10:49.886656600Z"
    }
   },
   "id": "41e159a547fd0959"
  },
  {
   "cell_type": "markdown",
   "source": [
    "## Recent form"
   ],
   "metadata": {
    "collapsed": false
   },
   "id": "1ca09767512e1ab4"
  },
  {
   "cell_type": "code",
   "execution_count": 11,
   "outputs": [],
   "source": [
    "# function to calculate recent form\n",
    "def calculate_form_points(team, df_cleaned, num_matches=5):\n",
    "    # Filter the matches for the team\n",
    "    team_matches = df_cleaned[(df_cleaned['HomeTeam'] == team) | (df_cleaned['AwayTeam'] == team)]\n",
    "    # Sort by date to get the most recent matches\n",
    "    team_matches = team_matches.sort_values(by='Date', ascending=False)\n",
    "    # Get the last 'num_matches' matches\n",
    "    recent_matches = team_matches.head(num_matches)\n",
    "    # Calculate form points\n",
    "    form_points = 0\n",
    "    for _, row in recent_matches.iterrows():\n",
    "        if row['HomeTeam'] == team and row['FTR'] == 'H':\n",
    "            form_points += 3\n",
    "        elif row['AwayTeam'] == team and row['FTR'] == 'A':\n",
    "            form_points += 3\n",
    "        elif row['FTR'] == 'D':\n",
    "            form_points += 1\n",
    "    return form_points\n",
    "\n",
    "# Apply the function to get recent form for each team in each match\n",
    "df_cleaned['HomeTeamRecentForm'] = df_cleaned.apply(lambda x: calculate_form_points(x['HomeTeam'], df_cleaned), axis=1)\n",
    "df_cleaned['AwayTeamRecentForm'] = df_cleaned.apply(lambda x: calculate_form_points(x['AwayTeam'], df_cleaned), axis=1)\n",
    "\n",
    "# Average Goals per Game\n",
    "df_cleaned['HomeTeamAvgGoals'] = df_cleaned.groupby('HomeTeam')['FTHG'].transform('mean')\n",
    "df_cleaned['AwayTeamAvgGoals'] = df_cleaned.groupby('AwayTeam')['FTAG'].transform('mean')\n",
    "\n"
   ],
   "metadata": {
    "collapsed": false,
    "ExecuteTime": {
     "end_time": "2023-12-24T21:10:50.765122600Z",
     "start_time": "2023-12-24T21:10:49.899016900Z"
    }
   },
   "id": "81e5da0ff5d5dfdc"
  },
  {
   "cell_type": "markdown",
   "source": [
    "## Team Points"
   ],
   "metadata": {
    "collapsed": false
   },
   "id": "6924b8357152763"
  },
  {
   "cell_type": "code",
   "execution_count": 12,
   "outputs": [],
   "source": [
    "# Points will be calculated similar to form but for the whole season\n",
    "def calculate_team_points(team, df_cleaned):\n",
    "    team_matches = df_cleaned[(df_cleaned['HomeTeam'] == team) | (df_cleaned['AwayTeam'] == team)]\n",
    "    points = 0\n",
    "    for _, row in team_matches.iterrows():\n",
    "        if row['HomeTeam'] == team and row['FTR'] == 'H':\n",
    "            points += 3\n",
    "        elif row['AwayTeam'] == team and row['FTR'] == 'A':\n",
    "            points += 3\n",
    "        elif row['FTR'] == 'D':\n",
    "            points += 1\n",
    "    return points\n",
    "\n",
    "df_cleaned['HomeTeamPoints'] = df_cleaned.apply(lambda x: calculate_team_points(x['HomeTeam'], df_cleaned), axis=1)\n",
    "df_cleaned['AwayTeamPoints'] = df_cleaned.apply(lambda x: calculate_team_points(x['AwayTeam'], df_cleaned), axis=1)\n"
   ],
   "metadata": {
    "collapsed": false,
    "ExecuteTime": {
     "end_time": "2023-12-24T21:10:52.310161200Z",
     "start_time": "2023-12-24T21:10:50.768285600Z"
    }
   },
   "id": "45b0f7be38c83d77"
  },
  {
   "cell_type": "markdown",
   "source": [
    "## Head-to-Head Statistics"
   ],
   "metadata": {
    "collapsed": false
   },
   "id": "b2b4ebfc5a1ba710"
  },
  {
   "cell_type": "code",
   "execution_count": 13,
   "outputs": [],
   "source": [
    "# Head-to-Head Statistics\n",
    "# For simplicity, we can count the number of wins, draws, and losses in matches between the same teams\n",
    "# Note: This implementation is simplified for demonstration purposes\n",
    "def head_to_head_stats(home_team, away_team, df_cleaned):\n",
    "    head_to_head_matches = df_cleaned[(df_cleaned['HomeTeam'] == home_team) & (df['AwayTeam'] == away_team)]\n",
    "    wins = len(head_to_head_matches[head_to_head_matches['FTR'] == 'H'])\n",
    "    draws = len(head_to_head_matches[head_to_head_matches['FTR'] == 'D'])\n",
    "    losses = len(head_to_head_matches[head_to_head_matches['FTR'] == 'A'])\n",
    "    return wins, draws, losses\n",
    "\n",
    "# Apply the head-to-head stats function\n",
    "df_cleaned['HeadToHeadWins'], df_cleaned['HeadToHeadDraws'], df_cleaned['HeadToHeadLosses'] = zip(*df_cleaned.apply(lambda x: head_to_head_stats(x['HomeTeam'], x['AwayTeam'], df_cleaned), axis=1))"
   ],
   "metadata": {
    "collapsed": false,
    "ExecuteTime": {
     "end_time": "2023-12-24T21:10:52.833848Z",
     "start_time": "2023-12-24T21:10:52.265516800Z"
    }
   },
   "id": "e4a486ca2eadd77f"
  },
  {
   "cell_type": "code",
   "execution_count": 14,
   "outputs": [
    {
     "name": "stdout",
     "output_type": "stream",
     "text": [
      "      HomeTeam  HomeTeamWinPercentage       AwayTeam  AwayTeamWinPercentage\n",
      "0      Burnley               0.111111       Man City               0.555556\n",
      "1      Arsenal               0.777778  Nott'm Forest               0.111111\n",
      "2  Bournemouth               0.250000       West Ham               0.444444\n",
      "3     Brighton               0.444444          Luton               0.125000\n",
      "4      Everton               0.333333         Fulham               0.111111\n"
     ]
    }
   ],
   "source": [
    "# Calculate Home Team Win Percentage\n",
    "home_team_wins = df_cleaned[df_cleaned['FTR'] == 'H'].groupby('HomeTeam').size()\n",
    "total_home_matches = df_cleaned.groupby('HomeTeam').size()\n",
    "home_team_win_percentage = home_team_wins / total_home_matches\n",
    "# \n",
    "# Calculate Away Team Win Percentage\n",
    "away_team_wins = df_cleaned[df_cleaned['FTR'] == 'A'].groupby('AwayTeam').size()\n",
    "total_away_matches = df_cleaned.groupby('AwayTeam').size()\n",
    "away_team_win_percentage = away_team_wins / total_away_matches\n",
    "# \n",
    "# Create mappings for win percentages\n",
    "home_team_win_percentage_map = home_team_win_percentage.to_dict()\n",
    "away_team_win_percentage_map = away_team_win_percentage.to_dict()\n",
    "# \n",
    "# Map the win percentages to the original DataFrame\n",
    "df_cleaned['HomeTeamWinPercentage'] = df_cleaned['HomeTeam'].map(home_team_win_percentage_map).fillna(0)\n",
    "df_cleaned['AwayTeamWinPercentage'] = df_cleaned['AwayTeam'].map(away_team_win_percentage_map).fillna(0)\n",
    "# \n",
    "# Check the first few rows to confirm the new features\n",
    "print(df_cleaned[['HomeTeam', 'HomeTeamWinPercentage', 'AwayTeam', 'AwayTeamWinPercentage']].head())"
   ],
   "metadata": {
    "collapsed": false,
    "ExecuteTime": {
     "end_time": "2023-12-24T21:10:52.909612900Z",
     "start_time": "2023-12-24T21:10:52.839072300Z"
    }
   },
   "id": "2232605c57a1431a"
  },
  {
   "cell_type": "code",
   "execution_count": 15,
   "outputs": [
    {
     "data": {
      "text/plain": "  Div       Date      Time     HomeTeam       AwayTeam  FTHG  FTAG FTR  HTHG  \\\n0  E0 2023-08-11  20:00:00      Burnley       Man City     0     3   A     0   \n1  E0 2023-08-12  12:30:00      Arsenal  Nott'm Forest     2     1   H     2   \n2  E0 2023-08-12  15:00:00  Bournemouth       West Ham     1     1   D     0   \n3  E0 2023-08-12  15:00:00     Brighton          Luton     4     1   H     1   \n4  E0 2023-08-12  15:00:00      Everton         Fulham     0     1   A     0   \n\n   HTAG  ... AwayTeamRecentForm HomeTeamAvgGoals  AwayTeamAvgGoals  \\\n0     2  ...                  6         1.111111          2.000000   \n1     0  ...                  1         2.444444          0.777778   \n2     0  ...                 10         1.000000          1.555556   \n3     0  ...                  3         2.000000          0.875000   \n4     0  ...                  9         1.111111          1.000000   \n\n   HomeTeamPoints  AwayTeamPoints  HeadToHeadWins  HeadToHeadDraws  \\\n0               8              34               0                0   \n1              39              14               1                0   \n2              19              27               0                1   \n3              26               9               1                0   \n4              26              21               0                0   \n\n   HeadToHeadLosses  HomeTeamWinPercentage  AwayTeamWinPercentage  \n0                 1               0.111111               0.555556  \n1                 0               0.777778               0.111111  \n2                 0               0.250000               0.444444  \n3                 0               0.444444               0.125000  \n4                 1               0.333333               0.111111  \n\n[5 rows x 119 columns]",
      "text/html": "<div>\n<style scoped>\n    .dataframe tbody tr th:only-of-type {\n        vertical-align: middle;\n    }\n\n    .dataframe tbody tr th {\n        vertical-align: top;\n    }\n\n    .dataframe thead th {\n        text-align: right;\n    }\n</style>\n<table border=\"1\" class=\"dataframe\">\n  <thead>\n    <tr style=\"text-align: right;\">\n      <th></th>\n      <th>Div</th>\n      <th>Date</th>\n      <th>Time</th>\n      <th>HomeTeam</th>\n      <th>AwayTeam</th>\n      <th>FTHG</th>\n      <th>FTAG</th>\n      <th>FTR</th>\n      <th>HTHG</th>\n      <th>HTAG</th>\n      <th>...</th>\n      <th>AwayTeamRecentForm</th>\n      <th>HomeTeamAvgGoals</th>\n      <th>AwayTeamAvgGoals</th>\n      <th>HomeTeamPoints</th>\n      <th>AwayTeamPoints</th>\n      <th>HeadToHeadWins</th>\n      <th>HeadToHeadDraws</th>\n      <th>HeadToHeadLosses</th>\n      <th>HomeTeamWinPercentage</th>\n      <th>AwayTeamWinPercentage</th>\n    </tr>\n  </thead>\n  <tbody>\n    <tr>\n      <th>0</th>\n      <td>E0</td>\n      <td>2023-08-11</td>\n      <td>20:00:00</td>\n      <td>Burnley</td>\n      <td>Man City</td>\n      <td>0</td>\n      <td>3</td>\n      <td>A</td>\n      <td>0</td>\n      <td>2</td>\n      <td>...</td>\n      <td>6</td>\n      <td>1.111111</td>\n      <td>2.000000</td>\n      <td>8</td>\n      <td>34</td>\n      <td>0</td>\n      <td>0</td>\n      <td>1</td>\n      <td>0.111111</td>\n      <td>0.555556</td>\n    </tr>\n    <tr>\n      <th>1</th>\n      <td>E0</td>\n      <td>2023-08-12</td>\n      <td>12:30:00</td>\n      <td>Arsenal</td>\n      <td>Nott'm Forest</td>\n      <td>2</td>\n      <td>1</td>\n      <td>H</td>\n      <td>2</td>\n      <td>0</td>\n      <td>...</td>\n      <td>1</td>\n      <td>2.444444</td>\n      <td>0.777778</td>\n      <td>39</td>\n      <td>14</td>\n      <td>1</td>\n      <td>0</td>\n      <td>0</td>\n      <td>0.777778</td>\n      <td>0.111111</td>\n    </tr>\n    <tr>\n      <th>2</th>\n      <td>E0</td>\n      <td>2023-08-12</td>\n      <td>15:00:00</td>\n      <td>Bournemouth</td>\n      <td>West Ham</td>\n      <td>1</td>\n      <td>1</td>\n      <td>D</td>\n      <td>0</td>\n      <td>0</td>\n      <td>...</td>\n      <td>10</td>\n      <td>1.000000</td>\n      <td>1.555556</td>\n      <td>19</td>\n      <td>27</td>\n      <td>0</td>\n      <td>1</td>\n      <td>0</td>\n      <td>0.250000</td>\n      <td>0.444444</td>\n    </tr>\n    <tr>\n      <th>3</th>\n      <td>E0</td>\n      <td>2023-08-12</td>\n      <td>15:00:00</td>\n      <td>Brighton</td>\n      <td>Luton</td>\n      <td>4</td>\n      <td>1</td>\n      <td>H</td>\n      <td>1</td>\n      <td>0</td>\n      <td>...</td>\n      <td>3</td>\n      <td>2.000000</td>\n      <td>0.875000</td>\n      <td>26</td>\n      <td>9</td>\n      <td>1</td>\n      <td>0</td>\n      <td>0</td>\n      <td>0.444444</td>\n      <td>0.125000</td>\n    </tr>\n    <tr>\n      <th>4</th>\n      <td>E0</td>\n      <td>2023-08-12</td>\n      <td>15:00:00</td>\n      <td>Everton</td>\n      <td>Fulham</td>\n      <td>0</td>\n      <td>1</td>\n      <td>A</td>\n      <td>0</td>\n      <td>0</td>\n      <td>...</td>\n      <td>9</td>\n      <td>1.111111</td>\n      <td>1.000000</td>\n      <td>26</td>\n      <td>21</td>\n      <td>0</td>\n      <td>0</td>\n      <td>1</td>\n      <td>0.333333</td>\n      <td>0.111111</td>\n    </tr>\n  </tbody>\n</table>\n<p>5 rows × 119 columns</p>\n</div>"
     },
     "execution_count": 15,
     "metadata": {},
     "output_type": "execute_result"
    }
   ],
   "source": [
    "df_cleaned.head()"
   ],
   "metadata": {
    "collapsed": false,
    "ExecuteTime": {
     "end_time": "2023-12-24T21:10:52.941586500Z",
     "start_time": "2023-12-24T21:10:52.858856700Z"
    }
   },
   "id": "3515a8783f129764"
  },
  {
   "cell_type": "code",
   "execution_count": 16,
   "outputs": [
    {
     "name": "stdout",
     "output_type": "stream",
     "text": [
      "Chelsea is currently in position: 11\n"
     ]
    },
    {
     "data": {
      "text/plain": "(             Points  GoalDiff  GoalsScored\n Arsenal          39        20           35\n Liverpool        38        21           36\n Aston Villa      38        16           37\n Man City         34        20           40\n Tottenham        33        12           35,\n 11)"
     },
     "execution_count": 16,
     "metadata": {},
     "output_type": "execute_result"
    }
   ],
   "source": [
    "# get the current position and calculate points for chelsea and the rest of the teams\n",
    "def calculate_points_goals(row):\n",
    "    home_points, away_points = 0, 0\n",
    "    home_goal_diff = row['FTHG'] - row['FTAG']\n",
    "    away_goal_diff = row['FTAG'] - row['FTHG']\n",
    "\n",
    "    if row['FTR'] == 'H':\n",
    "        home_points = 3\n",
    "    elif row['FTR'] == 'A':\n",
    "        away_points = 3\n",
    "    else:\n",
    "        home_points = away_points = 1\n",
    "\n",
    "    return pd.Series([home_points, away_points, home_goal_diff, away_goal_diff, row['FTHG'], row['FTAG']])\n",
    "\n",
    "# List of teams\n",
    "teams = df_cleaned['HomeTeam'].unique()\n",
    "\n",
    "# Applying the function to the dataset\n",
    "df_cleaned[['HomePoints', 'AwayPoints', 'HomeGoalDiff', 'AwayGoalDiff', 'HomeGoals', 'AwayGoals']] = df_cleaned.apply(calculate_points_goals, axis=1)\n",
    "\n",
    "# Summarizing the data for each team\n",
    "team_stats = pd.DataFrame(index=teams)\n",
    "\n",
    "# Calculating total points, goal difference, and goals scored for each team\n",
    "team_stats['Points'] = df_cleaned.groupby('HomeTeam')['HomePoints'].sum() + df_cleaned.groupby('AwayTeam')['AwayPoints'].sum()\n",
    "team_stats['GoalDiff'] = df_cleaned.groupby('HomeTeam')['HomeGoalDiff'].sum() + df_cleaned.groupby('AwayTeam')['AwayGoalDiff'].sum()\n",
    "team_stats['GoalsScored'] = df_cleaned.groupby('HomeTeam')['HomeGoals'].sum() + df_cleaned.groupby('AwayTeam')['AwayGoals'].sum()\n",
    "\n",
    "# Sorting the teams based on Points, Goal Difference, and Goals Scored\n",
    "sorted_teams = team_stats.sort_values(by=['Points', 'GoalDiff', 'GoalsScored'], ascending=[False, False, False])\n",
    "\n",
    "# Finding Chelsea's position\n",
    "chelsea_position_updated = sorted_teams.index.get_loc('Chelsea') + 1\n",
    "print('Chelsea is currently in position:', chelsea_position_updated)\n",
    "sorted_teams.head(), chelsea_position_updated\n"
   ],
   "metadata": {
    "collapsed": false,
    "ExecuteTime": {
     "end_time": "2023-12-24T21:10:53.024753700Z",
     "start_time": "2023-12-24T21:10:52.919604800Z"
    }
   },
   "id": "50d21ab026b0e87a"
  },
  {
   "cell_type": "markdown",
   "source": [
    "## Data Preprocessing\n",
    "### steps:\n",
    "* Scaling Numeric Features: We'll scale features like recent form, average goals, and points using StandardScaler.\n",
    "* Handling Categorical Variables: We have already encoded team names. We'll ensure other categorical features, if any, are properly encoded.\n",
    "* Splitting the Data: We'll split the data into training and test sets. We'll use the training set to train the model and the test set to evaluate the model's performance on unseen data."
   ],
   "metadata": {
    "collapsed": false
   },
   "id": "935ae9aec680a4b1"
  },
  {
   "cell_type": "code",
   "execution_count": 17,
   "outputs": [],
   "source": [
    "from sklearn.preprocessing import StandardScaler\n",
    "from sklearn.model_selection import train_test_split\n",
    "from imblearn.over_sampling import SMOTE\n",
    "\n",
    "# select relevant columns or features\n",
    "features = ['HomeTeamEncoded', 'AwayTeamEncoded', 'HomeTeamRecentForm', 'AwayTeamRecentForm', 'HomeTeamAvgGoals', 'AwayTeamAvgGoals', 'HomeTeamPoints', 'AwayTeamPoints', 'HomeTeamWinPercentage', 'AwayTeamWinPercentage']\n",
    "target = 'FTR'\n",
    "\n",
    "# Split the data into training and test sets\n",
    "X = df_cleaned[features]\n",
    "y = df_cleaned[target]\n",
    "X_train, X_test, y_train, y_test = train_test_split(X, y, test_size=0.2, random_state=42)\n",
    "\n",
    "# Addressing Class Imbalance\n",
    "smote = SMOTE(random_state=42)\n",
    "X_train_smote, y_train_smote = smote.fit_resample(X_train, y_train)\n",
    "\n",
    "# Scaling the features\n",
    "scaler = StandardScaler()\n",
    "X_train_scaled = scaler.fit_transform(X_train_smote)\n",
    "X_test_scaled = scaler.transform(X_test)"
   ],
   "metadata": {
    "collapsed": false,
    "ExecuteTime": {
     "end_time": "2023-12-24T21:10:53.569599800Z",
     "start_time": "2023-12-24T21:10:52.989674600Z"
    }
   },
   "id": "fb111238645ec9fd"
  },
  {
   "cell_type": "markdown",
   "source": [
    "## Hyperparameter Tuning"
   ],
   "metadata": {
    "collapsed": false
   },
   "id": "7321b3b954c0744"
  },
  {
   "cell_type": "code",
   "execution_count": 18,
   "outputs": [],
   "source": [
    "from hyperopt import hp\n",
    "import numpy as np\n",
    "# Define the hyperparameter space\n",
    "space = {\n",
    "    'iterations': hp.quniform('iterations', 100, 1000, 50),\n",
    "    'depth': hp.choice('depth', np.arange(3, 11, dtype=int)),\n",
    "    'learning_rate': hp.loguniform('learning_rate', np.log(0.01), np.log(0.2)),\n",
    "    'l2_leaf_reg': hp.uniform('l2_leaf_reg', 1, 10),\n",
    "    'bagging_temperature': hp.uniform('bagging_temperature', 0, 1),\n",
    "    'random_strength': hp.uniform('random_strength', 0, 1)\n",
    "    \n",
    "}\n"
   ],
   "metadata": {
    "collapsed": false,
    "ExecuteTime": {
     "end_time": "2023-12-24T21:10:54.200923500Z",
     "start_time": "2023-12-24T21:10:53.569599800Z"
    }
   },
   "id": "92b9b0b0d8632992"
  },
  {
   "cell_type": "markdown",
   "source": [
    "## Creating the Objective Function so that we can use it in the hyperparameter optimization"
   ],
   "metadata": {
    "collapsed": false
   },
   "id": "484517077549ebb2"
  },
  {
   "cell_type": "code",
   "execution_count": 19,
   "outputs": [],
   "source": [
    "from hyperopt import STATUS_OK\n",
    "from sklearn.model_selection import train_test_split, StratifiedKFold, cross_val_score\n",
    "from catboost import CatBoostClassifier\n",
    "\n",
    "def objective(params):\n",
    "    params['iterations'] = int(params['iterations'])\n",
    "    clf = CatBoostClassifier(**params, loss_function='MultiClass', verbose=False)\n",
    "    score = cross_val_score(clf, X_train_scaled, y_train_smote, scoring='accuracy', cv=StratifiedKFold(6)).mean()\n",
    "    return {'loss': -score, 'status': STATUS_OK}\n",
    "\n"
   ],
   "metadata": {
    "collapsed": false,
    "ExecuteTime": {
     "end_time": "2023-12-24T21:10:54.896841800Z",
     "start_time": "2023-12-24T21:10:54.198754500Z"
    }
   },
   "id": "2b9a0a9c6c9ee1"
  },
  {
   "cell_type": "code",
   "execution_count": 20,
   "outputs": [
    {
     "name": "stdout",
     "output_type": "stream",
     "text": [
      "100%|██████████| 20/20 [03:04<00:00,  9.21s/trial, best loss: -0.6995967741935485]\n"
     ]
    }
   ],
   "source": [
    "# run the hyperparameter optimization\n",
    "from hyperopt import tpe, Trials, fmin\n",
    "\n",
    "trials = Trials()\n",
    "best = fmin(fn=objective, space=space, algo=tpe.suggest, max_evals=20, trials=trials)\n"
   ],
   "metadata": {
    "collapsed": false,
    "ExecuteTime": {
     "end_time": "2023-12-24T21:13:59.176810300Z",
     "start_time": "2023-12-24T21:10:54.885493800Z"
    }
   },
   "id": "8cb5f76b44edce88"
  },
  {
   "cell_type": "code",
   "execution_count": 21,
   "outputs": [
    {
     "name": "stdout",
     "output_type": "stream",
     "text": [
      "              precision    recall  f1-score   support\n",
      "\n",
      "           A       0.56      0.56      0.56         9\n",
      "           D       0.38      0.33      0.35         9\n",
      "           H       0.71      0.75      0.73        16\n",
      "\n",
      "    accuracy                           0.59        34\n",
      "   macro avg       0.55      0.55      0.55        34\n",
      "weighted avg       0.58      0.59      0.58        34\n"
     ]
    }
   ],
   "source": [
    "from sklearn.metrics import classification_report\n",
    "\n",
    "best_params = {k: int(v) if k in ['iterations', 'depth'] else v for k, v in best.items()}\n",
    "final_model = CatBoostClassifier(**best_params, loss_function='MultiClass', eval_metric='Accuracy', verbose=False)\n",
    "final_model.fit(X_train_scaled, y_train_smote)\n",
    "\n",
    "# Evaluate the model\n",
    "y_pred = final_model.predict(X_test_scaled)\n",
    "print(classification_report(y_test, y_pred, zero_division=0))\n"
   ],
   "metadata": {
    "collapsed": false,
    "ExecuteTime": {
     "end_time": "2023-12-24T21:13:59.953553700Z",
     "start_time": "2023-12-24T21:13:59.170098100Z"
    }
   },
   "id": "c492c6fc709b27c8"
  },
  {
   "cell_type": "code",
   "execution_count": 22,
   "outputs": [
    {
     "name": "stdout",
     "output_type": "stream",
     "text": [
      "Average Cross-Validation Score: 0.6466733870967741\n"
     ]
    }
   ],
   "source": [
    "# check for overfitting\n",
    "from sklearn.model_selection import cross_val_score\n",
    "\n",
    "# Perform cross-validation\n",
    "cv_scores = cross_val_score(final_model, X_train_scaled, y_train_smote, cv=6)\n",
    "\n",
    "# Print the average score\n",
    "print(f\"Average Cross-Validation Score: {cv_scores.mean()}\")\n"
   ],
   "metadata": {
    "collapsed": false,
    "ExecuteTime": {
     "end_time": "2023-12-24T21:14:04.102388200Z",
     "start_time": "2023-12-24T21:13:59.948244700Z"
    }
   },
   "id": "469475eb5751fba0"
  },
  {
   "cell_type": "code",
   "execution_count": 23,
   "outputs": [
    {
     "data": {
      "text/plain": "<Figure size 1000x600 with 1 Axes>",
      "image/png": "[encoded data removed]"
     },
     "metadata": {},
     "output_type": "display_data"
    }
   ],
   "source": [
    "import matplotlib.pyplot as plt\n",
    "\n",
    "# Get feature importances\n",
    "feature_importances = final_model.get_feature_importance()\n",
    "\n",
    "# Create a bar plot\n",
    "plt.figure(figsize=(10, 6))\n",
    "plt.barh(features, feature_importances)\n",
    "plt.xlabel('Importance')\n",
    "plt.ylabel('Feature')\n",
    "plt.title('Feature Importance')\n",
    "plt.show()\n"
   ],
   "metadata": {
    "collapsed": false,
    "ExecuteTime": {
     "end_time": "2023-12-24T21:14:04.403420200Z",
     "start_time": "2023-12-24T21:14:04.104571300Z"
    }
   },
   "id": "f536f84532fae061"
  },
  {
   "cell_type": "code",
   "execution_count": 24,
   "outputs": [
    {
     "name": "stdout",
     "output_type": "stream",
     "text": [
      "West Ham win probability: 0.48276330868736533\n",
      "Man United win probability: 0.3588813969916493\n",
      "Draw probability: 0.1583552943209853\n",
      "Tottenham win probability: 0.6427287685837604\n",
      "Everton win probability: 0.29755310491321124\n",
      "Draw probability: 0.05971812650302826\n",
      "Nott'm Forest win probability: 0.5845838912844826\n",
      "Bournemouth win probability: 0.1546229875422383\n",
      "Draw probability: 0.2607931211732792\n",
      "Luton win probability: 0.6173875987592067\n",
      "Newcastle win probability: 0.12978597087617855\n",
      "Draw probability: 0.2528264303646148\n",
      "Liverpool win probability: 0.06008179885703565\n",
      "Arsenal win probability: 0.8690288077959072\n",
      "Draw probability: 0.0708893933470572\n",
      "Wolves win probability: 0.5517292781149753\n",
      "Chelsea win probability: 0.18593773921904155\n",
      "Draw probability: 0.26233298266598315\n"
     ]
    },
    {
     "data": {
      "text/plain": "(0.5517292781149753, 0.18593773921904155, 0.26233298266598315)"
     },
     "execution_count": 24,
     "metadata": {},
     "output_type": "execute_result"
    }
   ],
   "source": [
    "# make predictions for the 2023/24 season\n",
    "def predict_match(home_team, away_team, final_model, scaler):\n",
    "    # Create a dataframe with the appropriate format\n",
    "    match = pd.DataFrame(columns=['HomeTeamEncoded', 'AwayTeamEncoded', 'HomeTeamRecentForm', 'AwayTeamRecentForm', 'HomeTeamAvgGoals', 'AwayTeamAvgGoals', 'HomeTeamPoints', 'AwayTeamPoints', 'HomeTeamWinPercentage', 'AwayTeamWinPercentage'])\n",
    "    match.loc[0] = [label_encoder.transform([home_team])[0], label_encoder.transform([away_team])[0], calculate_form_points(home_team, df_cleaned), calculate_form_points(away_team, df_cleaned), df_cleaned[df_cleaned['HomeTeam'] == home_team]['HomeTeamAvgGoals'].values[0], df_cleaned[df_cleaned['AwayTeam'] == away_team]['AwayTeamAvgGoals'].values[0], calculate_team_points(home_team, df_cleaned), calculate_team_points(away_team, df_cleaned), home_team_win_percentage[home_team], away_team_win_percentage[away_team]]\n",
    "    # Scale the features\n",
    "    match_scaled = scaler.transform(match)\n",
    "    # Make predictions\n",
    "    home_team_win_prob = final_model.predict_proba(match_scaled)[0][0]\n",
    "    away_team_win_prob = final_model.predict_proba(match_scaled)[0][2]\n",
    "    draw_prob = final_model.predict_proba(match_scaled)[0][1]\n",
    "    # Print the results\n",
    "    print(f\"{home_team} win probability: {home_team_win_prob}\")\n",
    "    print(f\"{away_team} win probability: {away_team_win_prob}\")\n",
    "    print(f\"Draw probability: {draw_prob}\")\n",
    "    \n",
    "    return home_team_win_prob, away_team_win_prob, draw_prob\n",
    "\n",
    "predict_match('West Ham', 'Man United', final_model, scaler)\n",
    "predict_match('Tottenham', 'Everton', final_model, scaler)\n",
    "predict_match(\"Nott'm Forest\", 'Bournemouth', final_model, scaler)\n",
    "predict_match('Luton', 'Newcastle', final_model, scaler)\n",
    "predict_match('Liverpool', 'Arsenal', final_model, scaler)\n",
    "predict_match('Wolves', 'Chelsea', final_model, scaler)\n",
    "\n"
   ],
   "metadata": {
    "collapsed": false,
    "ExecuteTime": {
     "end_time": "2023-12-24T21:14:04.537500600Z",
     "start_time": "2023-12-24T21:14:04.408363900Z"
    }
   },
   "id": "466a379df799b300"
  },
  {
   "cell_type": "code",
   "execution_count": 25,
   "outputs": [
    {
     "name": "stdout",
     "output_type": "stream",
     "text": [
      "              precision    recall  f1-score   support\n",
      "\n",
      "           A       0.42      0.56      0.48         9\n",
      "           D       0.75      0.33      0.46         9\n",
      "           H       0.72      0.81      0.76        16\n",
      "\n",
      "    accuracy                           0.62        34\n",
      "   macro avg       0.63      0.57      0.57        34\n",
      "weighted avg       0.65      0.62      0.61        34\n"
     ]
    }
   ],
   "source": [
    "from sklearn.ensemble import RandomForestClassifier\n",
    "from imblearn.over_sampling import SMOTE\n",
    "from sklearn.model_selection import GridSearchCV\n",
    "\n",
    "# Addressing Class Imbalance\n",
    "smote = SMOTE(random_state=42)\n",
    "X_train_smote, y_train_smote = smote.fit_resample(X_train, y_train)\n",
    "\n",
    "# Scaling the features\n",
    "scaler = StandardScaler()\n",
    "X_train_scaled = scaler.fit_transform(X_train_smote)\n",
    "X_test_scaled = scaler.transform(X_test)\n",
    "\n",
    "# Hyperparameter Tuning\n",
    "model = RandomForestClassifier(random_state=42)\n",
    "param_grid = {\n",
    "    'n_estimators': [100, 200, 300],\n",
    "    'max_depth': [None, 10, 20, 30],\n",
    "    'min_samples_split': [2, 5, 10],\n",
    "    'min_samples_leaf': [1, 2, 4]\n",
    "    \n",
    "}\n",
    "grid_search = GridSearchCV(model, param_grid, cv=3, scoring='f1_macro')\n",
    "grid_search.fit(X_train_scaled, y_train_smote)\n",
    "\n",
    "# Best Model Evaluation\n",
    "best_model = grid_search.best_estimator_\n",
    "y_pred = best_model.predict(X_test_scaled)\n",
    "print(classification_report(y_test, y_pred))"
   ],
   "metadata": {
    "collapsed": false,
    "ExecuteTime": {
     "end_time": "2023-12-24T21:15:25.967450Z",
     "start_time": "2023-12-24T21:14:04.493666600Z"
    }
   },
   "id": "18bce7a7c93c20cc"
  },
  {
   "cell_type": "code",
   "execution_count": 26,
   "outputs": [
    {
     "name": "stdout",
     "output_type": "stream",
     "text": [
      "Average Cross-Validation Score: 0.67372311827957\n"
     ]
    }
   ],
   "source": [
    "# check for overfitting\n",
    "from sklearn.model_selection import cross_val_score\n",
    "\n",
    "# Perform cross-validation\n",
    "cv_scores = cross_val_score(best_model, X_train_scaled, y_train_smote, cv=6)\n",
    "\n",
    "# Print the average score\n",
    "print(f\"Average Cross-Validation Score: {cv_scores.mean()}\")\n"
   ],
   "metadata": {
    "collapsed": false,
    "ExecuteTime": {
     "end_time": "2023-12-24T21:15:27.713583100Z",
     "start_time": "2023-12-24T21:15:25.967450Z"
    }
   },
   "id": "66a94522869054e"
  },
  {
   "cell_type": "code",
   "execution_count": 27,
   "outputs": [
    {
     "data": {
      "text/plain": "<Figure size 1000x600 with 1 Axes>",
      "image/png": "[encoded data removed]"
     },
     "metadata": {},
     "output_type": "display_data"
    }
   ],
   "source": [
    "# Get feature importances\n",
    "feature_importances = best_model.feature_importances_\n",
    "\n",
    "# Create a bar plot\n",
    "plt.figure(figsize=(10, 6))\n",
    "plt.barh(features, feature_importances)\n",
    "plt.xlabel('Importance')\n",
    "plt.ylabel('Feature')\n",
    "plt.title('Feature Importance')\n",
    "plt.show()"
   ],
   "metadata": {
    "collapsed": false,
    "ExecuteTime": {
     "end_time": "2023-12-24T21:15:27.929469600Z",
     "start_time": "2023-12-24T21:15:27.712558700Z"
    }
   },
   "id": "276172cf85bdf498"
  },
  {
   "cell_type": "code",
   "execution_count": 28,
   "outputs": [
    {
     "name": "stdout",
     "output_type": "stream",
     "text": [
      "West Ham win probability: 0.515\n",
      "Man United win probability: 0.35\n",
      "Draw probability: 0.135\n",
      "Tottenham win probability: 0.555\n",
      "Everton win probability: 0.395\n",
      "Draw probability: 0.05\n",
      "Nott'm Forest win probability: 0.265\n",
      "Bournemouth win probability: 0.315\n",
      "Draw probability: 0.42\n",
      "Luton win probability: 0.55\n",
      "Newcastle win probability: 0.15\n",
      "Draw probability: 0.3\n",
      "Liverpool win probability: 0.02\n",
      "Arsenal win probability: 0.88\n",
      "Draw probability: 0.1\n"
     ]
    },
    {
     "data": {
      "text/plain": "(0.02, 0.88, 0.1)"
     },
     "execution_count": 28,
     "metadata": {},
     "output_type": "execute_result"
    }
   ],
   "source": [
    "# make predictions for the 2023/24 season\n",
    "def predict_match(home_team, away_team, best_model, scaler):\n",
    "    # Create a dataframe with the appropriate format\n",
    "    match = pd.DataFrame(columns=['HomeTeamEncoded', 'AwayTeamEncoded', 'HomeTeamRecentForm', 'AwayTeamRecentForm', 'HomeTeamAvgGoals', 'AwayTeamAvgGoals', 'HomeTeamPoints', 'AwayTeamPoints', 'HomeTeamWinPercentage', 'AwayTeamWinPercentage'])\n",
    "    match.loc[0] = [label_encoder.transform([home_team])[0], label_encoder.transform([away_team])[0], calculate_form_points(home_team, df_cleaned), calculate_form_points(away_team, df_cleaned), df_cleaned[df_cleaned['HomeTeam'] == home_team]['HomeTeamAvgGoals'].values[0], df_cleaned[df_cleaned['AwayTeam'] == away_team]['AwayTeamAvgGoals'].values[0], calculate_team_points(home_team, df_cleaned), calculate_team_points(away_team, df_cleaned), home_team_win_percentage[home_team], away_team_win_percentage[away_team]]\n",
    "    # Scale the features\n",
    "    match_scaled = scaler.transform(match)\n",
    "    # Make predictions\n",
    "    home_team_win_prob = best_model.predict_proba(match_scaled)[0][0]\n",
    "    away_team_win_prob = best_model.predict_proba(match_scaled)[0][2]\n",
    "    draw_prob = best_model.predict_proba(match_scaled)[0][1]\n",
    "    # Print the results\n",
    "    print(f\"{home_team} win probability: {home_team_win_prob}\")\n",
    "    print(f\"{away_team} win probability: {away_team_win_prob}\")\n",
    "    print(f\"Draw probability: {draw_prob}\")\n",
    "    \n",
    "    return home_team_win_prob, away_team_win_prob, draw_prob\n",
    "\n",
    "predict_match('West Ham', 'Man United', best_model, scaler)\n",
    "predict_match('Tottenham', 'Everton', best_model, scaler)\n",
    "predict_match(\"Nott'm Forest\", 'Bournemouth', best_model, scaler)\n",
    "predict_match('Luton', 'Newcastle', best_model, scaler)\n",
    "predict_match('Liverpool', 'Arsenal', best_model, scaler)\n"
   ],
   "metadata": {
    "collapsed": false,
    "ExecuteTime": {
     "end_time": "2023-12-24T21:15:28.146483400Z",
     "start_time": "2023-12-24T21:15:27.936240100Z"
    }
   },
   "id": "864cf4cbe4d554f"
  },
  {
   "cell_type": "code",
   "execution_count": 29,
   "outputs": [
    {
     "name": "stdout",
     "output_type": "stream",
     "text": [
      "              precision    recall  f1-score   support\n",
      "\n",
      "           A       0.56      0.56      0.56         9\n",
      "           D       0.38      0.33      0.35         9\n",
      "           H       0.71      0.75      0.73        16\n",
      "\n",
      "    accuracy                           0.59        34\n",
      "   macro avg       0.55      0.55      0.55        34\n",
      "weighted avg       0.58      0.59      0.58        34\n",
      "\n",
      "              precision    recall  f1-score   support\n",
      "\n",
      "           A       0.42      0.56      0.48         9\n",
      "           D       0.75      0.33      0.46         9\n",
      "           H       0.72      0.81      0.76        16\n",
      "\n",
      "    accuracy                           0.62        34\n",
      "   macro avg       0.63      0.57      0.57        34\n",
      "weighted avg       0.65      0.62      0.61        34\n"
     ]
    }
   ],
   "source": [
    "# compare the two models\n",
    "from sklearn.metrics import classification_report\n",
    "\n",
    "# Evaluate the model\n",
    "y_pred = final_model.predict(X_test_scaled)\n",
    "print(classification_report(y_test, y_pred, zero_division=0))\n",
    "\n",
    "# Evaluate the model\n",
    "y_pred = best_model.predict(X_test_scaled)\n",
    "print(classification_report(y_test, y_pred, zero_division=0))\n"
   ],
   "metadata": {
    "collapsed": false,
    "ExecuteTime": {
     "end_time": "2023-12-24T21:15:28.200128400Z",
     "start_time": "2023-12-24T21:15:28.140366700Z"
    }
   },
   "id": "81fb003a328da524"
  },
  {
   "cell_type": "code",
   "execution_count": 30,
   "outputs": [
    {
     "data": {
      "text/plain": "<Figure size 800x600 with 1 Axes>",
      "image/png": "[encoded data removed]"
     },
     "metadata": {},
     "output_type": "display_data"
    }
   ],
   "source": [
    "# plot the model comparison\n",
    "import matplotlib.pyplot as plt\n",
    "import seaborn as sns\n",
    "\n",
    "# Create a DataFrame with the results\n",
    "model_comparison = pd.DataFrame({'model': ['CatBoost', 'Random Forest'], 'accuracy': [0.59, 0.62]})\n",
    "# Plot the results\n",
    "plt.figure(figsize=(8, 6))\n",
    "\n",
    "sns.barplot(x='model', y='accuracy', data=model_comparison)\n",
    "plt.ylim(0, 1)\n",
    "plt.title('Model Comparison')\n",
    "plt.show()\n",
    "\n"
   ],
   "metadata": {
    "collapsed": false,
    "ExecuteTime": {
     "end_time": "2023-12-24T21:15:28.311227300Z",
     "start_time": "2023-12-24T21:15:28.167701200Z"
    }
   },
   "id": "1282d2e4b6d950b"
  },
  {
   "cell_type": "code",
   "execution_count": 31,
   "outputs": [
    {
     "name": "stdout",
     "output_type": "stream",
     "text": [
      "Wolves win probability: 0.345\n",
      "Chelsea win probability: 0.24\n",
      "Draw probability: 0.415\n"
     ]
    },
    {
     "data": {
      "text/plain": "(0.345, 0.24, 0.415)"
     },
     "execution_count": 31,
     "metadata": {},
     "output_type": "execute_result"
    }
   ],
   "source": [
    "predict_match('Wolves', 'Chelsea', best_model, scaler)\n"
   ],
   "metadata": {
    "collapsed": false,
    "ExecuteTime": {
     "end_time": "2023-12-24T21:15:28.412232300Z",
     "start_time": "2023-12-24T21:15:28.314236300Z"
    }
   },
   "id": "26c9ebba88da09f2"
  },
  {
   "cell_type": "code",
   "execution_count": 32,
   "outputs": [],
   "source": [
    "# save the model\n",
    "import pickle\n",
    "\n",
    "pickle.dump(best_model, open('best_model.pkl', 'wb'))\n",
    "pickle.dump(scaler, open('scaler.pkl', 'wb'))\n",
    "pickle.dump(label_encoder, open('label_encoder.pkl', 'wb'))\n",
    "\n"
   ],
   "metadata": {
    "collapsed": false,
    "ExecuteTime": {
     "end_time": "2023-12-24T21:15:28.412232300Z",
     "start_time": "2023-12-24T21:15:28.356038700Z"
    }
   },
   "id": "13c9fde2d5ef4582"
  },
  {
   "cell_type": "code",
   "execution_count": 33,
   "outputs": [],
   "source": [
    "# load the model\n",
    "import pickle\n",
    "\n",
    "best_model = pickle.load(open('best_model.pkl', 'rb'))\n",
    "scaler = pickle.load(open('scaler.pkl', 'rb'))\n",
    "label_encoder = pickle.load(open('label_encoder.pkl', 'rb'))\n",
    "\n"
   ],
   "metadata": {
    "collapsed": false,
    "ExecuteTime": {
     "end_time": "2023-12-24T21:15:28.453039100Z",
     "start_time": "2023-12-24T21:15:28.371802200Z"
    }
   },
   "id": "2d2d6c7c3a7918de"
  },
  {
   "cell_type": "code",
   "execution_count": 34,
   "outputs": [
    {
     "name": "stdout",
     "output_type": "stream",
     "text": [
      "Wolves win probability: 0.345\n",
      "Chelsea win probability: 0.24\n",
      "Draw probability: 0.415\n"
     ]
    },
    {
     "data": {
      "text/plain": "(0.345, 0.24, 0.415)"
     },
     "execution_count": 34,
     "metadata": {},
     "output_type": "execute_result"
    }
   ],
   "source": [
    "predict_match('Wolves', 'Chelsea', best_model, scaler)"
   ],
   "metadata": {
    "collapsed": false,
    "ExecuteTime": {
     "end_time": "2023-12-24T21:15:28.469566900Z",
     "start_time": "2023-12-24T21:15:28.397752600Z"
    }
   },
   "id": "42f37e08dbfbb327"
  },
  {
   "cell_type": "code",
   "execution_count": 36,
   "outputs": [
    {
     "ename": "NotFittedError",
     "evalue": "This LabelEncoder instance is not fitted yet. Call 'fit' with appropriate arguments before using this estimator.",
     "output_type": "error",
     "traceback": [
      "\u001B[1;31m---------------------------------------------------------------------------\u001B[0m",
      "\u001B[1;31mNotFittedError\u001B[0m                            Traceback (most recent call last)",
      "Cell \u001B[1;32mIn[36], line 17\u001B[0m\n\u001B[0;32m     13\u001B[0m     \u001B[38;5;28mprint\u001B[39m(\u001B[38;5;124mf\u001B[39m\u001B[38;5;124m\"\u001B[39m\u001B[38;5;132;01m{\u001B[39;00maway_team\u001B[38;5;132;01m}\u001B[39;00m\u001B[38;5;124m average goals: \u001B[39m\u001B[38;5;132;01m{\u001B[39;00maway_team_avg_goals\u001B[38;5;132;01m}\u001B[39;00m\u001B[38;5;124m\"\u001B[39m)\n\u001B[0;32m     15\u001B[0m     \u001B[38;5;28;01mreturn\u001B[39;00m home_team_avg_goals, away_team_avg_goals\n\u001B[1;32m---> 17\u001B[0m \u001B[43mpredict_goals\u001B[49m\u001B[43m(\u001B[49m\u001B[38;5;124;43m'\u001B[39;49m\u001B[38;5;124;43mWolves\u001B[39;49m\u001B[38;5;124;43m'\u001B[39;49m\u001B[43m,\u001B[49m\u001B[43m \u001B[49m\u001B[38;5;124;43m'\u001B[39;49m\u001B[38;5;124;43mChelsea\u001B[39;49m\u001B[38;5;124;43m'\u001B[39;49m\u001B[43m,\u001B[49m\u001B[43m \u001B[49m\u001B[43mbest_model\u001B[49m\u001B[43m,\u001B[49m\u001B[43m \u001B[49m\u001B[43mscaler\u001B[49m\u001B[43m)\u001B[49m\n",
      "Cell \u001B[1;32mIn[36], line 5\u001B[0m, in \u001B[0;36mpredict_goals\u001B[1;34m(home_team, away_team, best_model, scaler)\u001B[0m\n\u001B[0;32m      2\u001B[0m \u001B[38;5;28;01mdef\u001B[39;00m \u001B[38;5;21mpredict_goals\u001B[39m(home_team, away_team, best_model, scaler):\n\u001B[0;32m      3\u001B[0m     \u001B[38;5;66;03m# Create a dataframe with the appropriate format\u001B[39;00m\n\u001B[0;32m      4\u001B[0m     match \u001B[38;5;241m=\u001B[39m pd\u001B[38;5;241m.\u001B[39mDataFrame(columns\u001B[38;5;241m=\u001B[39m[\u001B[38;5;124m'\u001B[39m\u001B[38;5;124mHomeTeamEncoded\u001B[39m\u001B[38;5;124m'\u001B[39m, \u001B[38;5;124m'\u001B[39m\u001B[38;5;124mAwayTeamEncoded\u001B[39m\u001B[38;5;124m'\u001B[39m, \u001B[38;5;124m'\u001B[39m\u001B[38;5;124mHomeTeamRecentForm\u001B[39m\u001B[38;5;124m'\u001B[39m, \u001B[38;5;124m'\u001B[39m\u001B[38;5;124mAwayTeamRecentForm\u001B[39m\u001B[38;5;124m'\u001B[39m, \u001B[38;5;124m'\u001B[39m\u001B[38;5;124mHomeTeamAvgGoals\u001B[39m\u001B[38;5;124m'\u001B[39m, \u001B[38;5;124m'\u001B[39m\u001B[38;5;124mAwayTeamAvgGoals\u001B[39m\u001B[38;5;124m'\u001B[39m, \u001B[38;5;124m'\u001B[39m\u001B[38;5;124mHomeTeamPoints\u001B[39m\u001B[38;5;124m'\u001B[39m, \u001B[38;5;124m'\u001B[39m\u001B[38;5;124mAwayTeamPoints\u001B[39m\u001B[38;5;124m'\u001B[39m, \u001B[38;5;124m'\u001B[39m\u001B[38;5;124mHomeTeamWinPercentage\u001B[39m\u001B[38;5;124m'\u001B[39m, \u001B[38;5;124m'\u001B[39m\u001B[38;5;124mAwayTeamWinPercentage\u001B[39m\u001B[38;5;124m'\u001B[39m])\n\u001B[1;32m----> 5\u001B[0m     \u001B[38;5;28;01mmatch\u001B[39;00m\u001B[38;5;241m.\u001B[39mloc[\u001B[38;5;241m0\u001B[39m] \u001B[38;5;241m=\u001B[39m [\u001B[43mlabel_encoder\u001B[49m\u001B[38;5;241;43m.\u001B[39;49m\u001B[43mtransform\u001B[49m\u001B[43m(\u001B[49m\u001B[43m[\u001B[49m\u001B[43mhome_team\u001B[49m\u001B[43m]\u001B[49m\u001B[43m)\u001B[49m[\u001B[38;5;241m0\u001B[39m], label_encoder\u001B[38;5;241m.\u001B[39mtransform([away_team])[\u001B[38;5;241m0\u001B[39m], calculate_form_points(home_team, df_cleaned), calculate_form_points(away_team, df_cleaned), df_cleaned[df_cleaned[\u001B[38;5;124m'\u001B[39m\u001B[38;5;124mHomeTeam\u001B[39m\u001B[38;5;124m'\u001B[39m] \u001B[38;5;241m==\u001B[39m home_team][\u001B[38;5;124m'\u001B[39m\u001B[38;5;124mHomeTeamAvgGoals\u001B[39m\u001B[38;5;124m'\u001B[39m]\u001B[38;5;241m.\u001B[39mvalues[\u001B[38;5;241m0\u001B[39m], df_cleaned[df_cleaned[\u001B[38;5;124m'\u001B[39m\u001B[38;5;124mAwayTeam\u001B[39m\u001B[38;5;124m'\u001B[39m] \u001B[38;5;241m==\u001B[39m away_team][\u001B[38;5;124m'\u001B[39m\u001B[38;5;124mAwayTeamAvgGoals\u001B[39m\u001B[38;5;124m'\u001B[39m]\u001B[38;5;241m.\u001B[39mvalues[\u001B[38;5;241m0\u001B[39m], calculate_team_points(home_team, df_cleaned), calculate_team_points(away_team, df_cleaned), home_team_win_percentage[home_team], away_team_win_percentage[away_team]]\n\u001B[0;32m      6\u001B[0m     \u001B[38;5;66;03m# Scale the features\u001B[39;00m\n\u001B[0;32m      7\u001B[0m     match_scaled \u001B[38;5;241m=\u001B[39m scaler\u001B[38;5;241m.\u001B[39mtransform(match)\n",
      "File \u001B[1;32m~\\AppData\\Local\\Programs\\Python\\Python311\\Lib\\site-packages\\sklearn\\preprocessing\\_label.py:131\u001B[0m, in \u001B[0;36mLabelEncoder.transform\u001B[1;34m(self, y)\u001B[0m\n\u001B[0;32m    118\u001B[0m \u001B[38;5;28;01mdef\u001B[39;00m \u001B[38;5;21mtransform\u001B[39m(\u001B[38;5;28mself\u001B[39m, y):\n\u001B[0;32m    119\u001B[0m \u001B[38;5;250m    \u001B[39m\u001B[38;5;124;03m\"\"\"Transform labels to normalized encoding.\u001B[39;00m\n\u001B[0;32m    120\u001B[0m \n\u001B[0;32m    121\u001B[0m \u001B[38;5;124;03m    Parameters\u001B[39;00m\n\u001B[1;32m   (...)\u001B[0m\n\u001B[0;32m    129\u001B[0m \u001B[38;5;124;03m        Labels as normalized encodings.\u001B[39;00m\n\u001B[0;32m    130\u001B[0m \u001B[38;5;124;03m    \"\"\"\u001B[39;00m\n\u001B[1;32m--> 131\u001B[0m     \u001B[43mcheck_is_fitted\u001B[49m\u001B[43m(\u001B[49m\u001B[38;5;28;43mself\u001B[39;49m\u001B[43m)\u001B[49m\n\u001B[0;32m    132\u001B[0m     y \u001B[38;5;241m=\u001B[39m column_or_1d(y, dtype\u001B[38;5;241m=\u001B[39m\u001B[38;5;28mself\u001B[39m\u001B[38;5;241m.\u001B[39mclasses_\u001B[38;5;241m.\u001B[39mdtype, warn\u001B[38;5;241m=\u001B[39m\u001B[38;5;28;01mTrue\u001B[39;00m)\n\u001B[0;32m    133\u001B[0m     \u001B[38;5;66;03m# transform of empty array is empty array\u001B[39;00m\n",
      "File \u001B[1;32m~\\AppData\\Local\\Programs\\Python\\Python311\\Lib\\site-packages\\sklearn\\utils\\validation.py:1461\u001B[0m, in \u001B[0;36mcheck_is_fitted\u001B[1;34m(estimator, attributes, msg, all_or_any)\u001B[0m\n\u001B[0;32m   1458\u001B[0m     \u001B[38;5;28;01mraise\u001B[39;00m \u001B[38;5;167;01mTypeError\u001B[39;00m(\u001B[38;5;124m\"\u001B[39m\u001B[38;5;132;01m%s\u001B[39;00m\u001B[38;5;124m is not an estimator instance.\u001B[39m\u001B[38;5;124m\"\u001B[39m \u001B[38;5;241m%\u001B[39m (estimator))\n\u001B[0;32m   1460\u001B[0m \u001B[38;5;28;01mif\u001B[39;00m \u001B[38;5;129;01mnot\u001B[39;00m _is_fitted(estimator, attributes, all_or_any):\n\u001B[1;32m-> 1461\u001B[0m     \u001B[38;5;28;01mraise\u001B[39;00m NotFittedError(msg \u001B[38;5;241m%\u001B[39m {\u001B[38;5;124m\"\u001B[39m\u001B[38;5;124mname\u001B[39m\u001B[38;5;124m\"\u001B[39m: \u001B[38;5;28mtype\u001B[39m(estimator)\u001B[38;5;241m.\u001B[39m\u001B[38;5;18m__name__\u001B[39m})\n",
      "\u001B[1;31mNotFittedError\u001B[0m: This LabelEncoder instance is not fitted yet. Call 'fit' with appropriate arguments before using this estimator."
     ]
    }
   ],
   "source": [
    "\n",
    "\n",
    "# predicting the number of goals in a match\n",
    "def predict_goals(home_team, away_team, best_model, scaler):\n",
    "    # Create a dataframe with the appropriate format\n",
    "    match = pd.DataFrame(columns=['HomeTeamEncoded', 'AwayTeamEncoded', 'HomeTeamRecentForm', 'AwayTeamRecentForm', 'HomeTeamAvgGoals', 'AwayTeamAvgGoals', 'HomeTeamPoints', 'AwayTeamPoints', 'HomeTeamWinPercentage', 'AwayTeamWinPercentage'])\n",
    "    match.loc[0] = [label_encoder.transform([home_team])[0], label_encoder.transform([away_team])[0], calculate_form_points(home_team, df_cleaned), calculate_form_points(away_team, df_cleaned), df_cleaned[df_cleaned['HomeTeam'] == home_team]['HomeTeamAvgGoals'].values[0], df_cleaned[df_cleaned['AwayTeam'] == away_team]['AwayTeamAvgGoals'].values[0], calculate_team_points(home_team, df_cleaned), calculate_team_points(away_team, df_cleaned), home_team_win_percentage[home_team], away_team_win_percentage[away_team]]\n",
    "    # Scale the features\n",
    "    match_scaled = scaler.transform(match)\n",
    "    # Make predictions\n",
    "    home_team_avg_goals = best_model.predict(match_scaled)[0][0]\n",
    "    away_team_avg_goals = best_model.predict(match_scaled)[0][1]\n",
    "    # Print the results\n",
    "    print(f\"{home_team} average goals: {home_team_avg_goals}\")\n",
    "    print(f\"{away_team} average goals: {away_team_avg_goals}\")\n",
    "    \n",
    "    return home_team_avg_goals, away_team_avg_goals\n",
    "\n",
    "predict_goals('Wolves', 'Chelsea', best_model, scaler)"
   ],
   "metadata": {
    "collapsed": false,
    "ExecuteTime": {
     "end_time": "2023-12-24T21:18:31.323948500Z",
     "start_time": "2023-12-24T21:18:31.253151Z"
    }
   },
   "id": "8178bab4c65e43b7"
  },
  {
   "cell_type": "code",
   "execution_count": null,
   "outputs": [],
   "source": [],
   "metadata": {
    "collapsed": false,
    "ExecuteTime": {
     "start_time": "2023-12-24T21:15:28.603595600Z"
    }
   },
   "id": "54f3d6054a56383a"
  }
 ],
 "metadata": {
  "kernelspec": {
   "display_name": "Python 3",
   "language": "python",
   "name": "python3"
  },
  "language_info": {
   "codemirror_mode": {
    "name": "ipython",
    "version": 2
   },
   "file_extension": ".py",
   "mimetype": "text/x-python",
   "name": "python",
   "nbconvert_exporter": "python",
   "pygments_lexer": "ipython2",
   "version": "2.7.6"
  }
 },
 "nbformat": 4,
 "nbformat_minor": 5
}
