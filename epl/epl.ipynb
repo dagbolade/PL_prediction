{
 "cells": [
  {
   "cell_type": "markdown",
   "source": [
    "# Premier League 2023/24 predictions"
   ],
   "metadata": {
    "collapsed": false
   },
   "id": "baffb21ee741de4f"
  },
  {
   "cell_type": "markdown",
   "source": [
    "## Importing libraries"
   ],
   "metadata": {
    "collapsed": false
   },
   "id": "5e632784a4a65bae"
  },
  {
   "cell_type": "code",
   "execution_count": 139,
   "outputs": [
    {
     "data": {
      "text/plain": "    Div        Date   Time    HomeTeam        AwayTeam  FTHG  FTAG FTR  HTHG  \\\n181  E0  26/12/2023  17:30     Burnley       Liverpool     0     2   A     0   \n182  E0  26/12/2023  20:00  Man United     Aston Villa     3     2   H     0   \n183  E0  27/12/2023  19:30   Brentford          Wolves     1     4   A     1   \n184  E0  27/12/2023  19:30     Chelsea  Crystal Palace     2     1   H     1   \n185  E0  27/12/2023  20:15     Everton        Man City     1     3   A     1   \n\n     HTAG  ... AvgC<2.5  AHCh  B365CAHH  B365CAHA  PCAHH  PCAHA  MaxCAHH  \\\n181     1  ...     2.72  1.50      1.84      2.09   1.83   2.08     1.98   \n182     2  ...     2.46 -0.25      2.04      1.89   2.06   1.88     2.12   \n183     3  ...     1.79 -0.25      1.94      1.99   1.93   1.98     1.99   \n184     1  ...     1.90 -0.75      2.07      1.86   2.07   1.86     2.08   \n185     0  ...     1.92  1.00      1.68      2.15   1.73   2.23     1.89   \n\n     MaxCAHA  AvgCAHH  AvgCAHA  \n181     2.12     1.84     2.03  \n182     1.90     2.02     1.84  \n183     2.05     1.89     1.97  \n184     1.92     1.98     1.86  \n185     2.25     1.78     2.09  \n\n[5 rows x 106 columns]",
      "text/html": "<div>\n<style scoped>\n    .dataframe tbody tr th:only-of-type {\n        vertical-align: middle;\n    }\n\n    .dataframe tbody tr th {\n        vertical-align: top;\n    }\n\n    .dataframe thead th {\n        text-align: right;\n    }\n</style>\n<table border=\"1\" class=\"dataframe\">\n  <thead>\n    <tr style=\"text-align: right;\">\n      <th></th>\n      <th>Div</th>\n      <th>Date</th>\n      <th>Time</th>\n      <th>HomeTeam</th>\n      <th>AwayTeam</th>\n      <th>FTHG</th>\n      <th>FTAG</th>\n      <th>FTR</th>\n      <th>HTHG</th>\n      <th>HTAG</th>\n      <th>...</th>\n      <th>AvgC&lt;2.5</th>\n      <th>AHCh</th>\n      <th>B365CAHH</th>\n      <th>B365CAHA</th>\n      <th>PCAHH</th>\n      <th>PCAHA</th>\n      <th>MaxCAHH</th>\n      <th>MaxCAHA</th>\n      <th>AvgCAHH</th>\n      <th>AvgCAHA</th>\n    </tr>\n  </thead>\n  <tbody>\n    <tr>\n      <th>181</th>\n      <td>E0</td>\n      <td>26/12/2023</td>\n      <td>17:30</td>\n      <td>Burnley</td>\n      <td>Liverpool</td>\n      <td>0</td>\n      <td>2</td>\n      <td>A</td>\n      <td>0</td>\n      <td>1</td>\n      <td>...</td>\n      <td>2.72</td>\n      <td>1.50</td>\n      <td>1.84</td>\n      <td>2.09</td>\n      <td>1.83</td>\n      <td>2.08</td>\n      <td>1.98</td>\n      <td>2.12</td>\n      <td>1.84</td>\n      <td>2.03</td>\n    </tr>\n    <tr>\n      <th>182</th>\n      <td>E0</td>\n      <td>26/12/2023</td>\n      <td>20:00</td>\n      <td>Man United</td>\n      <td>Aston Villa</td>\n      <td>3</td>\n      <td>2</td>\n      <td>H</td>\n      <td>0</td>\n      <td>2</td>\n      <td>...</td>\n      <td>2.46</td>\n      <td>-0.25</td>\n      <td>2.04</td>\n      <td>1.89</td>\n      <td>2.06</td>\n      <td>1.88</td>\n      <td>2.12</td>\n      <td>1.90</td>\n      <td>2.02</td>\n      <td>1.84</td>\n    </tr>\n    <tr>\n      <th>183</th>\n      <td>E0</td>\n      <td>27/12/2023</td>\n      <td>19:30</td>\n      <td>Brentford</td>\n      <td>Wolves</td>\n      <td>1</td>\n      <td>4</td>\n      <td>A</td>\n      <td>1</td>\n      <td>3</td>\n      <td>...</td>\n      <td>1.79</td>\n      <td>-0.25</td>\n      <td>1.94</td>\n      <td>1.99</td>\n      <td>1.93</td>\n      <td>1.98</td>\n      <td>1.99</td>\n      <td>2.05</td>\n      <td>1.89</td>\n      <td>1.97</td>\n    </tr>\n    <tr>\n      <th>184</th>\n      <td>E0</td>\n      <td>27/12/2023</td>\n      <td>19:30</td>\n      <td>Chelsea</td>\n      <td>Crystal Palace</td>\n      <td>2</td>\n      <td>1</td>\n      <td>H</td>\n      <td>1</td>\n      <td>1</td>\n      <td>...</td>\n      <td>1.90</td>\n      <td>-0.75</td>\n      <td>2.07</td>\n      <td>1.86</td>\n      <td>2.07</td>\n      <td>1.86</td>\n      <td>2.08</td>\n      <td>1.92</td>\n      <td>1.98</td>\n      <td>1.86</td>\n    </tr>\n    <tr>\n      <th>185</th>\n      <td>E0</td>\n      <td>27/12/2023</td>\n      <td>20:15</td>\n      <td>Everton</td>\n      <td>Man City</td>\n      <td>1</td>\n      <td>3</td>\n      <td>A</td>\n      <td>1</td>\n      <td>0</td>\n      <td>...</td>\n      <td>1.92</td>\n      <td>1.00</td>\n      <td>1.68</td>\n      <td>2.15</td>\n      <td>1.73</td>\n      <td>2.23</td>\n      <td>1.89</td>\n      <td>2.25</td>\n      <td>1.78</td>\n      <td>2.09</td>\n    </tr>\n  </tbody>\n</table>\n<p>5 rows × 106 columns</p>\n</div>"
     },
     "execution_count": 139,
     "metadata": {},
     "output_type": "execute_result"
    }
   ],
   "source": [
    "import pandas as pd\n",
    "\n",
    "# Load the dataset from the excel file\n",
    "#file_path = 'all-euro-data-2023-2024.xlsx'\n",
    "#df = pd.read_excel(file_path, sheet_name='E0')\n",
    "\n",
    "# updating the dataset with the recent games played\n",
    "df = pd.read_csv('E0.csv')\n",
    "#df = pd.read_csv('E0 4.csv')\n",
    "\n",
    "# Display the first few rows of the dataset\n",
    "df.tail()\n"
   ],
   "metadata": {
    "collapsed": false,
    "ExecuteTime": {
     "end_time": "2024-01-19T16:15:02.873971400Z",
     "start_time": "2024-01-19T16:15:02.611656700Z"
    }
   },
   "id": "79b87f51e58715a9"
  },
  {
   "cell_type": "code",
   "execution_count": 140,
   "outputs": [
    {
     "name": "stdout",
     "output_type": "stream",
     "text": [
      "Index(['Div', 'Date', 'Time', 'HomeTeam', 'AwayTeam', 'FTHG', 'FTAG', 'FTR',\n",
      "       'HTHG', 'HTAG',\n",
      "       ...\n",
      "       'AvgC<2.5', 'AHCh', 'B365CAHH', 'B365CAHA', 'PCAHH', 'PCAHA', 'MaxCAHH',\n",
      "       'MaxCAHA', 'AvgCAHH', 'AvgCAHA'],\n",
      "      dtype='object', length=106)\n"
     ]
    }
   ],
   "source": [
    "print(df.columns)"
   ],
   "metadata": {
    "collapsed": false,
    "ExecuteTime": {
     "end_time": "2024-01-19T16:15:02.917465400Z",
     "start_time": "2024-01-19T16:15:02.876140300Z"
    }
   },
   "id": "10f8ed427cf2825e"
  },
  {
   "cell_type": "markdown",
   "source": [
    "## Data cleaning"
   ],
   "metadata": {
    "collapsed": false
   },
   "id": "e5f7fe372ecbbe43"
  },
  {
   "cell_type": "code",
   "execution_count": 141,
   "id": "initial_id",
   "metadata": {
    "collapsed": true,
    "ExecuteTime": {
     "end_time": "2024-01-19T16:15:02.966309300Z",
     "start_time": "2024-01-19T16:15:02.900998600Z"
    }
   },
   "outputs": [
    {
     "data": {
      "text/plain": "(Div         0\n Date        0\n Time        0\n HomeTeam    0\n AwayTeam    0\n            ..\n PCAHA       0\n MaxCAHH     1\n MaxCAHA     1\n AvgCAHH     0\n AvgCAHA     0\n Length: 106, dtype: int64,\n 0)"
     },
     "execution_count": 141,
     "metadata": {},
     "output_type": "execute_result"
    }
   ],
   "source": [
    "# steps:\n",
    "# 1. Check for missing values\n",
    "missing_values = df.isnull().sum()\n",
    "\n",
    "# 2. Check for duplicates\n",
    "duplicate_rows = df.duplicated().sum()\n",
    "\n",
    "# Display the results of the checks\n",
    "missing_values, duplicate_rows"
   ]
  },
  {
   "cell_type": "code",
   "execution_count": 142,
   "outputs": [
    {
     "name": "stdout",
     "output_type": "stream",
     "text": [
      "<class 'pandas.core.frame.DataFrame'>\n",
      "RangeIndex: 186 entries, 0 to 185\n",
      "Columns: 106 entries, Div to AvgCAHA\n",
      "dtypes: float64(82), int64(16), object(8)\n",
      "memory usage: 154.2+ KB\n"
     ]
    },
    {
     "data": {
      "text/plain": "  Div        Date   Time     HomeTeam       AwayTeam  FTHG  FTAG FTR  HTHG  \\\n0  E0  11/08/2023  20:00      Burnley       Man City     0     3   A     0   \n1  E0  12/08/2023  12:30      Arsenal  Nott'm Forest     2     1   H     2   \n2  E0  12/08/2023  15:00  Bournemouth       West Ham     1     1   D     0   \n3  E0  12/08/2023  15:00     Brighton          Luton     4     1   H     1   \n4  E0  12/08/2023  15:00      Everton         Fulham     0     1   A     0   \n\n   HTAG  ... AvgC<2.5  AHCh  B365CAHH  B365CAHA  PCAHH  PCAHA  MaxCAHH  \\\n0     2  ...     2.28  1.50      1.95      1.98   1.95   1.97     2.01   \n1     0  ...     2.63 -2.00      1.95      1.98   1.93   1.97     2.01   \n2     0  ...     2.12  0.00      2.02      1.91   2.01   1.92     2.06   \n3     0  ...     2.48 -1.75      2.01      1.92   2.00   1.91     2.14   \n4     0  ...     1.71 -0.25      2.06      1.87   2.04   1.88     2.08   \n\n   MaxCAHA  AvgCAHH  AvgCAHA  \n0     2.00     1.92     1.95  \n1     2.09     1.95     1.92  \n2     1.96     1.96     1.91  \n3     1.93     2.00     1.86  \n4     1.99     1.98     1.88  \n\n[5 rows x 106 columns]",
      "text/html": "<div>\n<style scoped>\n    .dataframe tbody tr th:only-of-type {\n        vertical-align: middle;\n    }\n\n    .dataframe tbody tr th {\n        vertical-align: top;\n    }\n\n    .dataframe thead th {\n        text-align: right;\n    }\n</style>\n<table border=\"1\" class=\"dataframe\">\n  <thead>\n    <tr style=\"text-align: right;\">\n      <th></th>\n      <th>Div</th>\n      <th>Date</th>\n      <th>Time</th>\n      <th>HomeTeam</th>\n      <th>AwayTeam</th>\n      <th>FTHG</th>\n      <th>FTAG</th>\n      <th>FTR</th>\n      <th>HTHG</th>\n      <th>HTAG</th>\n      <th>...</th>\n      <th>AvgC&lt;2.5</th>\n      <th>AHCh</th>\n      <th>B365CAHH</th>\n      <th>B365CAHA</th>\n      <th>PCAHH</th>\n      <th>PCAHA</th>\n      <th>MaxCAHH</th>\n      <th>MaxCAHA</th>\n      <th>AvgCAHH</th>\n      <th>AvgCAHA</th>\n    </tr>\n  </thead>\n  <tbody>\n    <tr>\n      <th>0</th>\n      <td>E0</td>\n      <td>11/08/2023</td>\n      <td>20:00</td>\n      <td>Burnley</td>\n      <td>Man City</td>\n      <td>0</td>\n      <td>3</td>\n      <td>A</td>\n      <td>0</td>\n      <td>2</td>\n      <td>...</td>\n      <td>2.28</td>\n      <td>1.50</td>\n      <td>1.95</td>\n      <td>1.98</td>\n      <td>1.95</td>\n      <td>1.97</td>\n      <td>2.01</td>\n      <td>2.00</td>\n      <td>1.92</td>\n      <td>1.95</td>\n    </tr>\n    <tr>\n      <th>1</th>\n      <td>E0</td>\n      <td>12/08/2023</td>\n      <td>12:30</td>\n      <td>Arsenal</td>\n      <td>Nott'm Forest</td>\n      <td>2</td>\n      <td>1</td>\n      <td>H</td>\n      <td>2</td>\n      <td>0</td>\n      <td>...</td>\n      <td>2.63</td>\n      <td>-2.00</td>\n      <td>1.95</td>\n      <td>1.98</td>\n      <td>1.93</td>\n      <td>1.97</td>\n      <td>2.01</td>\n      <td>2.09</td>\n      <td>1.95</td>\n      <td>1.92</td>\n    </tr>\n    <tr>\n      <th>2</th>\n      <td>E0</td>\n      <td>12/08/2023</td>\n      <td>15:00</td>\n      <td>Bournemouth</td>\n      <td>West Ham</td>\n      <td>1</td>\n      <td>1</td>\n      <td>D</td>\n      <td>0</td>\n      <td>0</td>\n      <td>...</td>\n      <td>2.12</td>\n      <td>0.00</td>\n      <td>2.02</td>\n      <td>1.91</td>\n      <td>2.01</td>\n      <td>1.92</td>\n      <td>2.06</td>\n      <td>1.96</td>\n      <td>1.96</td>\n      <td>1.91</td>\n    </tr>\n    <tr>\n      <th>3</th>\n      <td>E0</td>\n      <td>12/08/2023</td>\n      <td>15:00</td>\n      <td>Brighton</td>\n      <td>Luton</td>\n      <td>4</td>\n      <td>1</td>\n      <td>H</td>\n      <td>1</td>\n      <td>0</td>\n      <td>...</td>\n      <td>2.48</td>\n      <td>-1.75</td>\n      <td>2.01</td>\n      <td>1.92</td>\n      <td>2.00</td>\n      <td>1.91</td>\n      <td>2.14</td>\n      <td>1.93</td>\n      <td>2.00</td>\n      <td>1.86</td>\n    </tr>\n    <tr>\n      <th>4</th>\n      <td>E0</td>\n      <td>12/08/2023</td>\n      <td>15:00</td>\n      <td>Everton</td>\n      <td>Fulham</td>\n      <td>0</td>\n      <td>1</td>\n      <td>A</td>\n      <td>0</td>\n      <td>0</td>\n      <td>...</td>\n      <td>1.71</td>\n      <td>-0.25</td>\n      <td>2.06</td>\n      <td>1.87</td>\n      <td>2.04</td>\n      <td>1.88</td>\n      <td>2.08</td>\n      <td>1.99</td>\n      <td>1.98</td>\n      <td>1.88</td>\n    </tr>\n  </tbody>\n</table>\n<p>5 rows × 106 columns</p>\n</div>"
     },
     "execution_count": 142,
     "metadata": {},
     "output_type": "execute_result"
    }
   ],
   "source": [
    "# Dropping columns with a high number of missing values or irrelevant to our analysis\n",
    "irrelevant_columns = df.columns[df.isnull().sum() > (0.5 * len(df))]  # Columns with more than 50% missing values\n",
    "df_cleaned = df.drop(columns=irrelevant_columns)\n",
    "\n",
    "# Convert 'Date' to datetime\n",
    "#df_cleaned['Date'] = pd.to_datetime(df_cleaned['Date'], format='%d/%m/%Y')\n",
    "\n",
    "# Fill missing values in other relevant columns with appropriate values (like median or mode)\n",
    "# For numerical columns, we use median and for categorical, we use mode\n",
    "for column in df_cleaned.columns:\n",
    "    if df_cleaned[column].dtype == 'object':\n",
    "        df_cleaned[column].fillna(df_cleaned[column].mode()[0], inplace=True)\n",
    "    else:\n",
    "        df_cleaned[column].fillna(df_cleaned[column].median(), inplace=True)\n",
    "\n",
    "# Recheck for missing values\n",
    "remaining_missing_values = df_cleaned.isnull().sum().sum()\n",
    "\n",
    "# Basic information after cleaning\n",
    "remaining_missing_values, df_cleaned.info()\n",
    "\n",
    "df_cleaned.head()\n"
   ],
   "metadata": {
    "collapsed": false,
    "ExecuteTime": {
     "end_time": "2024-01-19T16:15:03.127497900Z",
     "start_time": "2024-01-19T16:15:02.956569Z"
    }
   },
   "id": "6cb7cecf0d962cfc"
  },
  {
   "cell_type": "markdown",
   "source": [
    "## Feature engineering\n",
    "\n",
    "### steps:\n",
    "* Encode Team Names: Use label encoding for 'HomeTeam' and 'AwayTeam'. This will convert team names into numeric values, making them usable for the model.\n",
    "\n",
    "* Recent Form: Calculate the recent form for each team based on the last 5 matches. We'll use the 'FTR' column to determine wins (W), losses (L), and draws (D). This feature will provide insight into the current performance of the teams.\n",
    "\n",
    "* Average Goals per Game: Compute the average goals scored per game for both home and away teams. This feature helps understand the offensive strength of the teams.\n",
    "\n",
    "* Team Points: Calculate the total points accumulated by each team so far in the season. Points are awarded based on wins (3 points), draws (1 point), and losses (0 points).\n",
    "\n",
    "* Head-to-Head Statistics: Analyze the outcomes of matches between the same pairs of teams earlier in the season.\n",
    "\n",
    "* Other Statistical Features: Depending on the data available, we can include additional features like average possession, number of shots on target, defensive strength, etc."
   ],
   "metadata": {
    "collapsed": false
   },
   "id": "42e90ef27df5a84d"
  },
  {
   "cell_type": "markdown",
   "source": [
    "## Encode team names"
   ],
   "metadata": {
    "collapsed": false
   },
   "id": "90a4cf9baa0697fb"
  },
  {
   "cell_type": "code",
   "execution_count": 143,
   "outputs": [],
   "source": [
    "# Import the LabelEncoder class from the sklearn library\n",
    "from sklearn.preprocessing import LabelEncoder\n",
    "\n",
    "# Encode the team names\n",
    "label_encoder = LabelEncoder()\n",
    "df_cleaned['HomeTeamEncoded'] = label_encoder.fit_transform(df_cleaned['HomeTeam'])\n",
    "df_cleaned['AwayTeamEncoded'] = label_encoder.transform(df_cleaned['AwayTeam'])\n"
   ],
   "metadata": {
    "collapsed": false,
    "ExecuteTime": {
     "end_time": "2024-01-19T16:15:03.139534200Z",
     "start_time": "2024-01-19T16:15:03.021125900Z"
    }
   },
   "id": "41e159a547fd0959"
  },
  {
   "cell_type": "markdown",
   "source": [
    "## Recent form"
   ],
   "metadata": {
    "collapsed": false
   },
   "id": "1ca09767512e1ab4"
  },
  {
   "cell_type": "code",
   "execution_count": 144,
   "outputs": [],
   "source": [
    "# function to calculate recent form\n",
    "def calculate_form_points(team, df_cleaned, num_matches=5):\n",
    "    # Filter the matches for the team\n",
    "    team_matches = df_cleaned[(df_cleaned['HomeTeam'] == team) | (df_cleaned['AwayTeam'] == team)]\n",
    "    # Sort by date to get the most recent matches\n",
    "    team_matches = team_matches.sort_values(by='Date', ascending=False)\n",
    "    # Get the last 'num_matches' matches\n",
    "    recent_matches = team_matches.head(num_matches)\n",
    "    # Calculate form points\n",
    "    form_points = 0\n",
    "    for _, row in recent_matches.iterrows():\n",
    "        if row['HomeTeam'] == team and row['FTR'] == 'H':\n",
    "            form_points += 3\n",
    "        elif row['AwayTeam'] == team and row['FTR'] == 'A':\n",
    "            form_points += 3\n",
    "        elif row['FTR'] == 'D':\n",
    "            form_points += 1\n",
    "    return form_points\n",
    "\n",
    "# Apply the function to get recent form for each team in each match\n",
    "df_cleaned['HomeTeamRecentForm'] = df_cleaned.apply(lambda x: calculate_form_points(x['HomeTeam'], df_cleaned), axis=1)\n",
    "df_cleaned['AwayTeamRecentForm'] = df_cleaned.apply(lambda x: calculate_form_points(x['AwayTeam'], df_cleaned), axis=1)\n",
    "\n",
    "# Average Goals per Game\n",
    "df_cleaned['HomeTeamAvgGoals'] = df_cleaned.groupby('HomeTeam')['FTHG'].transform('mean')\n",
    "df_cleaned['AwayTeamAvgGoals'] = df_cleaned.groupby('AwayTeam')['FTAG'].transform('mean')\n",
    "\n",
    "# half time average goals\n",
    "df_cleaned['HomeTeamAvgGoalsHT'] = df_cleaned.groupby('HomeTeam')['HTHG'].transform('mean')\n",
    "df_cleaned['AwayTeamAvgGoalsHT'] = df_cleaned.groupby('AwayTeam')['HTAG'].transform('mean')\n",
    "\n",
    "\n",
    "\n"
   ],
   "metadata": {
    "collapsed": false,
    "ExecuteTime": {
     "end_time": "2024-01-19T16:15:03.677354500Z",
     "start_time": "2024-01-19T16:15:03.135099Z"
    }
   },
   "id": "81e5da0ff5d5dfdc"
  },
  {
   "cell_type": "markdown",
   "source": [
    "## Team Points"
   ],
   "metadata": {
    "collapsed": false
   },
   "id": "6924b8357152763"
  },
  {
   "cell_type": "code",
   "execution_count": 145,
   "outputs": [],
   "source": [
    "# Points will be calculated similar to form but for the whole season\n",
    "def calculate_team_points(team, df_cleaned):\n",
    "    team_matches = df_cleaned[(df_cleaned['HomeTeam'] == team) | (df_cleaned['AwayTeam'] == team)]\n",
    "    points = 0\n",
    "    for _, row in team_matches.iterrows():\n",
    "        if row['HomeTeam'] == team and row['FTR'] == 'H':\n",
    "            points += 3\n",
    "        elif row['AwayTeam'] == team and row['FTR'] == 'A':\n",
    "            points += 3\n",
    "        elif row['FTR'] == 'D':\n",
    "            points += 1\n",
    "    return points\n",
    "\n",
    "df_cleaned['HomeTeamPoints'] = df_cleaned.apply(lambda x: calculate_team_points(x['HomeTeam'], df_cleaned), axis=1)\n",
    "df_cleaned['AwayTeamPoints'] = df_cleaned.apply(lambda x: calculate_team_points(x['AwayTeam'], df_cleaned), axis=1)\n"
   ],
   "metadata": {
    "collapsed": false,
    "ExecuteTime": {
     "end_time": "2024-01-19T16:15:04.225043Z",
     "start_time": "2024-01-19T16:15:03.636866600Z"
    }
   },
   "id": "45b0f7be38c83d77"
  },
  {
   "cell_type": "markdown",
   "source": [
    "## Head-to-Head Statistics"
   ],
   "metadata": {
    "collapsed": false
   },
   "id": "b2b4ebfc5a1ba710"
  },
  {
   "cell_type": "code",
   "execution_count": 146,
   "outputs": [],
   "source": [
    "# Head-to-Head Statistics\n",
    "# For simplicity, we can count the number of wins, draws, and losses in matches between the same teams\n",
    "# Note: This implementation is simplified for demonstration purposes\n",
    "def head_to_head_stats(home_team, away_team, df_cleaned):\n",
    "    head_to_head_matches = df_cleaned[(df_cleaned['HomeTeam'] == home_team) & (df['AwayTeam'] == away_team)]\n",
    "    wins = len(head_to_head_matches[head_to_head_matches['FTR'] == 'H'])\n",
    "    draws = len(head_to_head_matches[head_to_head_matches['FTR'] == 'D'])\n",
    "    losses = len(head_to_head_matches[head_to_head_matches['FTR'] == 'A'])\n",
    "    return wins, draws, losses\n",
    "\n",
    "# Apply the head-to-head stats function\n",
    "df_cleaned['HeadToHeadWins'], df_cleaned['HeadToHeadDraws'], df_cleaned['HeadToHeadLosses'] = zip(*df_cleaned.apply(lambda x: head_to_head_stats(x['HomeTeam'], x['AwayTeam'], df_cleaned), axis=1))"
   ],
   "metadata": {
    "collapsed": false,
    "ExecuteTime": {
     "end_time": "2024-01-19T16:15:04.499223700Z",
     "start_time": "2024-01-19T16:15:04.228280400Z"
    }
   },
   "id": "e4a486ca2eadd77f"
  },
  {
   "cell_type": "code",
   "execution_count": 147,
   "outputs": [
    {
     "name": "stdout",
     "output_type": "stream",
     "text": [
      "      HomeTeam  HomeTeamWinPercentage       AwayTeam  AwayTeamWinPercentage  \\\n",
      "0      Burnley               0.100000       Man City               0.600000   \n",
      "1      Arsenal               0.777778  Nott'm Forest               0.200000   \n",
      "2  Bournemouth               0.333333       West Ham               0.444444   \n",
      "3     Brighton               0.444444          Luton               0.222222   \n",
      "4      Everton               0.300000         Fulham               0.100000   \n",
      "\n",
      "   HomeTeamAvgShotsOnTarget  AwayTeamAvgShotsOnTarget  HomeTeamAvgGoalsHT  \\\n",
      "0                  3.300000                  7.800000            0.400000   \n",
      "1                  6.666667                  3.200000            0.888889   \n",
      "2                  4.888889                  3.555556            0.444444   \n",
      "3                  7.333333                  2.444444            0.777778   \n",
      "4                  5.300000                  3.900000            0.500000   \n",
      "\n",
      "   AwayTeamAvgGoalsHT  \n",
      "0            0.500000  \n",
      "1            0.500000  \n",
      "2            0.555556  \n",
      "3            0.333333  \n",
      "4            0.400000  \n"
     ]
    }
   ],
   "source": [
    "# Calculate Home Team Win Percentage\n",
    "home_team_wins = df_cleaned[df_cleaned['FTR'] == 'H'].groupby('HomeTeam').size()\n",
    "total_home_matches = df_cleaned.groupby('HomeTeam').size()\n",
    "home_team_win_percentage = home_team_wins / total_home_matches\n",
    "# \n",
    "# Calculate Away Team Win Percentage\n",
    "away_team_wins = df_cleaned[df_cleaned['FTR'] == 'A'].groupby('AwayTeam').size()\n",
    "total_away_matches = df_cleaned.groupby('AwayTeam').size()\n",
    "away_team_win_percentage = away_team_wins / total_away_matches\n",
    "# \n",
    "# Create mappings for win percentages\n",
    "home_team_win_percentage_map = home_team_win_percentage.to_dict()\n",
    "away_team_win_percentage_map = away_team_win_percentage.to_dict()\n",
    "# \n",
    "# Map the win percentages to the original DataFrame\n",
    "df_cleaned['HomeTeamWinPercentage'] = df_cleaned['HomeTeam'].map(home_team_win_percentage_map).fillna(0)\n",
    "df_cleaned['AwayTeamWinPercentage'] = df_cleaned['AwayTeam'].map(away_team_win_percentage_map).fillna(0)\n",
    "\n",
    "# calculate the average shots on target for home and away teams\n",
    "df_cleaned['HomeTeamAvgShotsOnTarget'] = df_cleaned.groupby('HomeTeam')['HST'].transform('mean')\n",
    "df_cleaned['AwayTeamAvgShotsOnTarget'] = df_cleaned.groupby('AwayTeam')['AST'].transform('mean')\n",
    " \n",
    "# Check the first few rows to confirm the new features\n",
    "print(df_cleaned[['HomeTeam', 'HomeTeamWinPercentage', 'AwayTeam', 'AwayTeamWinPercentage','HomeTeamAvgShotsOnTarget','AwayTeamAvgShotsOnTarget', 'HomeTeamAvgGoalsHT', 'AwayTeamAvgGoalsHT']].head())"
   ],
   "metadata": {
    "collapsed": false,
    "ExecuteTime": {
     "end_time": "2024-01-19T16:15:04.521069600Z",
     "start_time": "2024-01-19T16:15:04.502479900Z"
    }
   },
   "id": "2232605c57a1431a"
  },
  {
   "cell_type": "code",
   "execution_count": 148,
   "outputs": [
    {
     "data": {
      "text/plain": "  Div        Date   Time     HomeTeam       AwayTeam  FTHG  FTAG FTR  HTHG  \\\n0  E0  11/08/2023  20:00      Burnley       Man City     0     3   A     0   \n1  E0  12/08/2023  12:30      Arsenal  Nott'm Forest     2     1   H     2   \n2  E0  12/08/2023  15:00  Bournemouth       West Ham     1     1   D     0   \n3  E0  12/08/2023  15:00     Brighton          Luton     4     1   H     1   \n4  E0  12/08/2023  15:00      Everton         Fulham     0     1   A     0   \n\n   HTAG  ... AwayTeamAvgGoalsHT HomeTeamPoints  AwayTeamPoints  \\\n0     2  ...           0.500000             11              37   \n1     0  ...           0.500000             40              17   \n2     0  ...           0.555556             25              30   \n3     0  ...           0.333333             27              15   \n4     0  ...           0.400000             26              21   \n\n   HeadToHeadWins  HeadToHeadDraws  HeadToHeadLosses  HomeTeamWinPercentage  \\\n0               0                0                 1               0.100000   \n1               1                0                 0               0.777778   \n2               0                1                 0               0.333333   \n3               1                0                 0               0.444444   \n4               0                0                 1               0.300000   \n\n   AwayTeamWinPercentage  HomeTeamAvgShotsOnTarget  AwayTeamAvgShotsOnTarget  \n0               0.600000                  3.300000                  7.800000  \n1               0.200000                  6.666667                  3.200000  \n2               0.444444                  4.888889                  3.555556  \n3               0.222222                  7.333333                  2.444444  \n4               0.100000                  5.300000                  3.900000  \n\n[5 rows x 123 columns]",
      "text/html": "<div>\n<style scoped>\n    .dataframe tbody tr th:only-of-type {\n        vertical-align: middle;\n    }\n\n    .dataframe tbody tr th {\n        vertical-align: top;\n    }\n\n    .dataframe thead th {\n        text-align: right;\n    }\n</style>\n<table border=\"1\" class=\"dataframe\">\n  <thead>\n    <tr style=\"text-align: right;\">\n      <th></th>\n      <th>Div</th>\n      <th>Date</th>\n      <th>Time</th>\n      <th>HomeTeam</th>\n      <th>AwayTeam</th>\n      <th>FTHG</th>\n      <th>FTAG</th>\n      <th>FTR</th>\n      <th>HTHG</th>\n      <th>HTAG</th>\n      <th>...</th>\n      <th>AwayTeamAvgGoalsHT</th>\n      <th>HomeTeamPoints</th>\n      <th>AwayTeamPoints</th>\n      <th>HeadToHeadWins</th>\n      <th>HeadToHeadDraws</th>\n      <th>HeadToHeadLosses</th>\n      <th>HomeTeamWinPercentage</th>\n      <th>AwayTeamWinPercentage</th>\n      <th>HomeTeamAvgShotsOnTarget</th>\n      <th>AwayTeamAvgShotsOnTarget</th>\n    </tr>\n  </thead>\n  <tbody>\n    <tr>\n      <th>0</th>\n      <td>E0</td>\n      <td>11/08/2023</td>\n      <td>20:00</td>\n      <td>Burnley</td>\n      <td>Man City</td>\n      <td>0</td>\n      <td>3</td>\n      <td>A</td>\n      <td>0</td>\n      <td>2</td>\n      <td>...</td>\n      <td>0.500000</td>\n      <td>11</td>\n      <td>37</td>\n      <td>0</td>\n      <td>0</td>\n      <td>1</td>\n      <td>0.100000</td>\n      <td>0.600000</td>\n      <td>3.300000</td>\n      <td>7.800000</td>\n    </tr>\n    <tr>\n      <th>1</th>\n      <td>E0</td>\n      <td>12/08/2023</td>\n      <td>12:30</td>\n      <td>Arsenal</td>\n      <td>Nott'm Forest</td>\n      <td>2</td>\n      <td>1</td>\n      <td>H</td>\n      <td>2</td>\n      <td>0</td>\n      <td>...</td>\n      <td>0.500000</td>\n      <td>40</td>\n      <td>17</td>\n      <td>1</td>\n      <td>0</td>\n      <td>0</td>\n      <td>0.777778</td>\n      <td>0.200000</td>\n      <td>6.666667</td>\n      <td>3.200000</td>\n    </tr>\n    <tr>\n      <th>2</th>\n      <td>E0</td>\n      <td>12/08/2023</td>\n      <td>15:00</td>\n      <td>Bournemouth</td>\n      <td>West Ham</td>\n      <td>1</td>\n      <td>1</td>\n      <td>D</td>\n      <td>0</td>\n      <td>0</td>\n      <td>...</td>\n      <td>0.555556</td>\n      <td>25</td>\n      <td>30</td>\n      <td>0</td>\n      <td>1</td>\n      <td>0</td>\n      <td>0.333333</td>\n      <td>0.444444</td>\n      <td>4.888889</td>\n      <td>3.555556</td>\n    </tr>\n    <tr>\n      <th>3</th>\n      <td>E0</td>\n      <td>12/08/2023</td>\n      <td>15:00</td>\n      <td>Brighton</td>\n      <td>Luton</td>\n      <td>4</td>\n      <td>1</td>\n      <td>H</td>\n      <td>1</td>\n      <td>0</td>\n      <td>...</td>\n      <td>0.333333</td>\n      <td>27</td>\n      <td>15</td>\n      <td>1</td>\n      <td>0</td>\n      <td>0</td>\n      <td>0.444444</td>\n      <td>0.222222</td>\n      <td>7.333333</td>\n      <td>2.444444</td>\n    </tr>\n    <tr>\n      <th>4</th>\n      <td>E0</td>\n      <td>12/08/2023</td>\n      <td>15:00</td>\n      <td>Everton</td>\n      <td>Fulham</td>\n      <td>0</td>\n      <td>1</td>\n      <td>A</td>\n      <td>0</td>\n      <td>0</td>\n      <td>...</td>\n      <td>0.400000</td>\n      <td>26</td>\n      <td>21</td>\n      <td>0</td>\n      <td>0</td>\n      <td>1</td>\n      <td>0.300000</td>\n      <td>0.100000</td>\n      <td>5.300000</td>\n      <td>3.900000</td>\n    </tr>\n  </tbody>\n</table>\n<p>5 rows × 123 columns</p>\n</div>"
     },
     "execution_count": 148,
     "metadata": {},
     "output_type": "execute_result"
    }
   ],
   "source": [
    "df_cleaned.head()"
   ],
   "metadata": {
    "collapsed": false,
    "ExecuteTime": {
     "end_time": "2024-01-19T16:15:04.548541Z",
     "start_time": "2024-01-19T16:15:04.520001500Z"
    }
   },
   "id": "3515a8783f129764"
  },
  {
   "cell_type": "code",
   "execution_count": 149,
   "outputs": [
    {
     "name": "stdout",
     "output_type": "stream",
     "text": [
      "Chelsea is currently in position: 10\n"
     ]
    },
    {
     "data": {
      "text/plain": "(                  Points  GoalDiff  GoalsScored\n Liverpool             42        23           39\n Arsenal               40        20           36\n Aston Villa           39        15           40\n Man City              37        22           43\n Tottenham             36        13           37\n Man United            31        -4           21\n West Ham              30         1           31\n Newcastle             29        12           37\n Brighton              27         3           34\n Chelsea               25         2           31\n Wolves                25        -4           27\n Bournemouth           25        -5           27\n Fulham                21        -8           26\n Brentford             19        -3           25\n Crystal Palace        18        -9           19\n Nott'm Forest         17       -12           22\n Everton               16        -1           24\n Luton                 15       -13           21\n Burnley               11       -20           18\n Sheffield United       9       -32           15,\n 10)"
     },
     "execution_count": 149,
     "metadata": {},
     "output_type": "execute_result"
    }
   ],
   "source": [
    "# get the current position and calculate points for chelsea and the rest of the teams\n",
    "def calculate_points_goals(row):\n",
    "    home_points, away_points = 0, 0\n",
    "    home_goal_diff = row['FTHG'] - row['FTAG']\n",
    "    away_goal_diff = row['FTAG'] - row['FTHG']\n",
    "\n",
    "    if row['FTR'] == 'H':\n",
    "        home_points = 3\n",
    "    elif row['FTR'] == 'A':\n",
    "        away_points = 3\n",
    "    else:\n",
    "        home_points = away_points = 1\n",
    "\n",
    "    return pd.Series([home_points, away_points, home_goal_diff, away_goal_diff, row['FTHG'], row['FTAG']])\n",
    "\n",
    "# List of teams\n",
    "teams = df_cleaned['HomeTeam'].unique()\n",
    "\n",
    "# Applying the function to the dataset\n",
    "df_cleaned[['HomePoints', 'AwayPoints', 'HomeGoalDiff', 'AwayGoalDiff', 'HomeGoals', 'AwayGoals']] = df_cleaned.apply(calculate_points_goals, axis=1)\n",
    "\n",
    "# Summarizing the data for each team\n",
    "team_stats = pd.DataFrame(index=teams)\n",
    "\n",
    "# Calculating total points, goal difference, and goals scored for each team\n",
    "team_stats['Points'] = df_cleaned.groupby('HomeTeam')['HomePoints'].sum() + df_cleaned.groupby('AwayTeam')['AwayPoints'].sum()\n",
    "team_stats['GoalDiff'] = df_cleaned.groupby('HomeTeam')['HomeGoalDiff'].sum() + df_cleaned.groupby('AwayTeam')['AwayGoalDiff'].sum()\n",
    "team_stats['GoalsScored'] = df_cleaned.groupby('HomeTeam')['HomeGoals'].sum() + df_cleaned.groupby('AwayTeam')['AwayGoals'].sum()\n",
    "\n",
    "# Deducting 10 points from Everton for misconduct\n",
    "team_stats.loc['Everton', 'Points'] = team_stats.loc['Everton', 'Points'] - 10\n",
    "\n",
    "# Sorting the teams based on Points, Goal Difference, and Goals Scored\n",
    "sorted_teams = team_stats.sort_values(by=['Points', 'GoalDiff', 'GoalsScored'], ascending=[False, False, False])\n",
    "\n",
    "# Finding Chelsea's position\n",
    "chelsea_position_updated = sorted_teams.index.get_loc('Chelsea') + 1\n",
    "print('Chelsea is currently in position:', chelsea_position_updated)\n",
    "sorted_teams.head(20), chelsea_position_updated\n"
   ],
   "metadata": {
    "collapsed": false,
    "ExecuteTime": {
     "end_time": "2024-01-19T16:15:04.600455300Z",
     "start_time": "2024-01-19T16:15:04.535233400Z"
    }
   },
   "id": "50d21ab026b0e87a"
  },
  {
   "cell_type": "code",
   "execution_count": 150,
   "outputs": [],
   "source": [
    "# get the half time results \n",
    "def calculate_half_time_results(row):\n",
    "    home_points, away_points = 0, 0\n",
    "    home_goal_diff = row['HTHG'] - row['HTAG']\n",
    "    away_goal_diff = row['HTAG'] - row['HTHG']\n",
    "\n",
    "    if row['HTR'] == 'H':\n",
    "        home_points = 3\n",
    "    elif row['HTR'] == 'A':\n",
    "        away_points = 3\n",
    "    else:\n",
    "        home_points = away_points = 1\n",
    "\n",
    "    return pd.Series([home_points, away_points, home_goal_diff, away_goal_diff, row['HTHG'], row['HTAG']])\n",
    "\n",
    "#"
   ],
   "metadata": {
    "collapsed": false,
    "ExecuteTime": {
     "end_time": "2024-01-19T16:15:04.629794600Z",
     "start_time": "2024-01-19T16:15:04.577983300Z"
    }
   },
   "id": "c9cdca7a44a2c00a"
  },
  {
   "cell_type": "markdown",
   "source": [
    "## Data Preprocessing\n",
    "### steps:\n",
    "* Scaling Numeric Features: We'll scale features like recent form, average goals, and points using StandardScaler.\n",
    "* Handling Categorical Variables: We have already encoded team names. We'll ensure other categorical features, if any, are properly encoded.\n",
    "* Splitting the Data: We'll split the data into training and test sets. We'll use the training set to train the model and the test set to evaluate the model's performance on unseen data."
   ],
   "metadata": {
    "collapsed": false
   },
   "id": "935ae9aec680a4b1"
  },
  {
   "cell_type": "code",
   "execution_count": 151,
   "outputs": [],
   "source": [
    "from sklearn.preprocessing import StandardScaler\n",
    "from sklearn.model_selection import train_test_split\n",
    "from imblearn.over_sampling import SMOTE\n",
    "\n",
    "# select relevant columns or features\n",
    "features = ['HomeTeamEncoded', 'AwayTeamEncoded', 'HomeTeamRecentForm', 'AwayTeamRecentForm', 'HomeTeamAvgGoals', 'AwayTeamAvgGoals', 'HomeTeamPoints', 'AwayTeamPoints', 'HomeTeamWinPercentage', 'AwayTeamWinPercentage', 'HomeTeamAvgShotsOnTarget', 'AwayTeamAvgShotsOnTarget', 'HomeTeamAvgGoalsHT', 'AwayTeamAvgGoalsHT']\n",
    "target = 'FTR'\n",
    "\n",
    "# Split the data into training and test sets\n",
    "X = df_cleaned[features]\n",
    "y = df_cleaned[target]\n",
    "X_train, X_test, y_train, y_test = train_test_split(X, y, test_size=0.3, random_state=42)\n",
    "\n",
    "# Addressing Class Imbalance\n",
    "smote = SMOTE(random_state=42)\n",
    "X_train_smote, y_train_smote = smote.fit_resample(X_train, y_train)\n",
    "\n",
    "# Scaling the features\n",
    "scaler = StandardScaler()\n",
    "X_train_scaled = scaler.fit_transform(X_train_smote)\n",
    "X_test_scaled = scaler.transform(X_test)"
   ],
   "metadata": {
    "collapsed": false,
    "ExecuteTime": {
     "end_time": "2024-01-19T16:15:04.730301Z",
     "start_time": "2024-01-19T16:15:04.586357800Z"
    }
   },
   "id": "fb111238645ec9fd"
  },
  {
   "cell_type": "markdown",
   "source": [],
   "metadata": {
    "collapsed": false
   },
   "id": "c5390d45d2a87efc"
  },
  {
   "cell_type": "markdown",
   "source": [
    "## Hyperparameter Tuning"
   ],
   "metadata": {
    "collapsed": false
   },
   "id": "7321b3b954c0744"
  },
  {
   "cell_type": "code",
   "execution_count": 152,
   "outputs": [],
   "source": [
    "from hyperopt import hp\n",
    "import numpy as np\n",
    "# Define the hyperparameter space\n",
    "space = {\n",
    "    'iterations': hp.quniform('iterations', 100, 1000, 50),\n",
    "    'depth': hp.choice('depth', np.arange(3, 11, dtype=int)),\n",
    "    'learning_rate': hp.loguniform('learning_rate', np.log(0.01), np.log(0.2)),\n",
    "    'l2_leaf_reg': hp.uniform('l2_leaf_reg', 1, 10),\n",
    "    'bagging_temperature': hp.uniform('bagging_temperature', 0, 1),\n",
    "    'random_strength': hp.uniform('random_strength', 0, 1),\n",
    "\n",
    "    \n",
    "    \n",
    "    \n",
    "}\n"
   ],
   "metadata": {
    "collapsed": false,
    "ExecuteTime": {
     "end_time": "2024-01-19T16:15:04.732774100Z",
     "start_time": "2024-01-19T16:15:04.613698800Z"
    }
   },
   "id": "92b9b0b0d8632992"
  },
  {
   "cell_type": "markdown",
   "source": [
    "## Creating the Objective Function so that we can use it in the hyperparameter optimization"
   ],
   "metadata": {
    "collapsed": false
   },
   "id": "484517077549ebb2"
  },
  {
   "cell_type": "code",
   "execution_count": 153,
   "outputs": [],
   "source": [
    "from hyperopt import STATUS_OK\n",
    "from sklearn.model_selection import train_test_split, StratifiedKFold, cross_val_score\n",
    "from catboost import CatBoostClassifier\n",
    "\n",
    "def objective(params):\n",
    "    params['iterations'] = int(params['iterations'])\n",
    "    clf = CatBoostClassifier(**params, loss_function='MultiClass', verbose=False)\n",
    "    score = cross_val_score(clf, X_train_scaled, y_train_smote, scoring='accuracy', cv=StratifiedKFold(10)).mean()\n",
    "    return {'loss': -score, 'status': STATUS_OK}\n",
    "\n"
   ],
   "metadata": {
    "collapsed": false,
    "ExecuteTime": {
     "end_time": "2024-01-19T16:15:04.774830500Z",
     "start_time": "2024-01-19T16:15:04.624451200Z"
    }
   },
   "id": "2b9a0a9c6c9ee1"
  },
  {
   "cell_type": "code",
   "execution_count": 154,
   "outputs": [
    {
     "name": "stdout",
     "output_type": "stream",
     "text": [
      "100%|██████████| 10/10 [05:29<00:00, 32.97s/trial, best loss: -0.6117647058823529]\n"
     ]
    }
   ],
   "source": [
    "# run the hyperparameter optimization\n",
    "from hyperopt import tpe, Trials, fmin\n",
    "\n",
    "trials = Trials()\n",
    "best = fmin(fn=objective, space=space, algo=tpe.suggest, max_evals=10, trials=trials)\n"
   ],
   "metadata": {
    "collapsed": false,
    "ExecuteTime": {
     "end_time": "2024-01-19T16:20:34.354966100Z",
     "start_time": "2024-01-19T16:15:04.634411800Z"
    }
   },
   "id": "8cb5f76b44edce88"
  },
  {
   "cell_type": "code",
   "execution_count": 155,
   "outputs": [
    {
     "name": "stdout",
     "output_type": "stream",
     "text": [
      "              precision    recall  f1-score   support\n",
      "\n",
      "           A       0.40      0.57      0.47        14\n",
      "           D       0.17      0.20      0.18        10\n",
      "           H       0.83      0.62      0.71        32\n",
      "\n",
      "    accuracy                           0.54        56\n",
      "   macro avg       0.47      0.47      0.46        56\n",
      "weighted avg       0.61      0.54      0.56        56\n"
     ]
    }
   ],
   "source": [
    "from sklearn.metrics import classification_report\n",
    "\n",
    "best_params = {k: int(v) if k in ['iterations', 'depth'] else v for k, v in best.items()}\n",
    "final_model = CatBoostClassifier(**best_params, loss_function='MultiClass', eval_metric='Accuracy', verbose=False)\n",
    "final_model.fit(X_train_scaled, y_train_smote)\n",
    "\n",
    "# Evaluate the model\n",
    "y_pred = final_model.predict(X_test_scaled)\n",
    "print(classification_report(y_test, y_pred, zero_division=0))\n"
   ],
   "metadata": {
    "collapsed": false,
    "ExecuteTime": {
     "end_time": "2024-01-19T16:20:35.628076500Z",
     "start_time": "2024-01-19T16:20:34.340102600Z"
    }
   },
   "id": "c492c6fc709b27c8"
  },
  {
   "cell_type": "code",
   "execution_count": 156,
   "outputs": [
    {
     "name": "stdout",
     "output_type": "stream",
     "text": [
      "Average Cross-Validation Score: 0.5925925925925926\n"
     ]
    }
   ],
   "source": [
    "# check for overfitting\n",
    "from sklearn.model_selection import cross_val_score\n",
    "\n",
    "# Perform cross-validation\n",
    "cv_scores = cross_val_score(final_model, X_train_scaled, y_train_smote, cv=6)\n",
    "\n",
    "# Print the average score\n",
    "print(f\"Average Cross-Validation Score: {cv_scores.mean()}\")\n"
   ],
   "metadata": {
    "collapsed": false,
    "ExecuteTime": {
     "end_time": "2024-01-19T16:20:42.550343700Z",
     "start_time": "2024-01-19T16:20:35.630388100Z"
    }
   },
   "id": "469475eb5751fba0"
  },
  {
   "cell_type": "code",
   "execution_count": 157,
   "outputs": [
    {
     "data": {
      "text/plain": "<Figure size 1000x600 with 1 Axes>",
      "image/png": "[encoded data removed]"
     },
     "metadata": {},
     "output_type": "display_data"
    }
   ],
   "source": [
    "import matplotlib.pyplot as plt\n",
    "\n",
    "# Get feature importances\n",
    "feature_importances = final_model.get_feature_importance()\n",
    "\n",
    "# Create a bar plot\n",
    "plt.figure(figsize=(10, 6))\n",
    "plt.barh(features, feature_importances)\n",
    "plt.xlabel('Importance')\n",
    "plt.ylabel('Feature')\n",
    "plt.title('Feature Importance')\n",
    "plt.show()\n"
   ],
   "metadata": {
    "collapsed": false,
    "ExecuteTime": {
     "end_time": "2024-01-19T16:20:42.963217100Z",
     "start_time": "2024-01-19T16:20:42.551634900Z"
    }
   },
   "id": "f536f84532fae061"
  },
  {
   "cell_type": "code",
   "execution_count": 158,
   "outputs": [
    {
     "name": "stdout",
     "output_type": "stream",
     "text": [
      "##########################\n",
      "Today's matches\n",
      "Arsenal win probability: 0.0009062855810323891\n",
      "Crystal Palace win probability: 0.7988865858467289\n",
      "Draw probability: 0.2002071285722387\n"
     ]
    },
    {
     "data": {
      "text/plain": "(0.0009062855810323891, 0.7988865858467289, 0.2002071285722387)"
     },
     "execution_count": 158,
     "metadata": {},
     "output_type": "execute_result"
    }
   ],
   "source": [
    "# make predictions for the 2023/24 season\n",
    "def predict_match(home_team, away_team, final_model, scaler):\n",
    "    # Create a dataframe with the appropriate format\n",
    "    match = pd.DataFrame(columns=['HomeTeamEncoded', 'AwayTeamEncoded', 'HomeTeamRecentForm', 'AwayTeamRecentForm', 'HomeTeamAvgGoals', 'AwayTeamAvgGoals', 'HomeTeamPoints', 'AwayTeamPoints', 'HomeTeamWinPercentage', 'AwayTeamWinPercentage', 'HomeTeamAvgShotsOnTarget', 'AwayTeamAvgShotsOnTarget', 'HomeTeamAvgGoalsHT', 'AwayTeamAvgGoalsHT'])\n",
    "    match.loc[0] = [label_encoder.transform([home_team])[0], label_encoder.transform([away_team])[0], calculate_form_points(home_team, df_cleaned), calculate_form_points(away_team, df_cleaned), df_cleaned[df_cleaned['HomeTeam'] == home_team]['HomeTeamAvgGoals'].values[0], df_cleaned[df_cleaned['AwayTeam'] == away_team]['AwayTeamAvgGoals'].values[0], calculate_team_points(home_team, df_cleaned), calculate_team_points(away_team, df_cleaned), home_team_win_percentage[home_team], away_team_win_percentage[away_team], df_cleaned[df_cleaned['HomeTeam'] == home_team]['HomeTeamAvgShotsOnTarget'].values[0], df_cleaned[df_cleaned['AwayTeam'] == away_team]['AwayTeamAvgShotsOnTarget'].values[0], df_cleaned[df_cleaned['HomeTeam'] == home_team]['HomeTeamAvgGoalsHT'].values[0], df_cleaned[df_cleaned['AwayTeam'] == away_team]['AwayTeamAvgGoalsHT'].values[0]]\n",
    "    # Scale the features\n",
    "    match_scaled = scaler.transform(match)\n",
    "    # Make predictions\n",
    "    home_team_win_prob = final_model.predict_proba(match_scaled)[0][0]\n",
    "    away_team_win_prob = final_model.predict_proba(match_scaled)[0][2]\n",
    "    draw_prob = final_model.predict_proba(match_scaled)[0][1]\n",
    "    # Print the results\n",
    "    print(f\"{home_team} win probability: {home_team_win_prob}\")\n",
    "    print(f\"{away_team} win probability: {away_team_win_prob}\")\n",
    "    print(f\"Draw probability: {draw_prob}\")\n",
    "    \n",
    "    return home_team_win_prob, away_team_win_prob, draw_prob\n",
    "\n",
    "\n",
    "print('##########################')\n",
    "print('Today\\'s matches')\n",
    "\n",
    "predict_match('Arsenal', 'Crystal Palace', final_model, scaler)\n",
    "\n",
    "\n",
    "\n"
   ],
   "metadata": {
    "collapsed": false,
    "ExecuteTime": {
     "end_time": "2024-01-19T16:20:43.177170100Z",
     "start_time": "2024-01-19T16:20:42.963217100Z"
    }
   },
   "id": "e0596ed5bd952255"
  },
  {
   "cell_type": "code",
   "execution_count": 159,
   "outputs": [
    {
     "name": "stdout",
     "output_type": "stream",
     "text": [
      "              precision    recall  f1-score   support\n",
      "\n",
      "           A       0.43      0.64      0.51        14\n",
      "           D       0.20      0.20      0.20        10\n",
      "           H       0.84      0.66      0.74        32\n",
      "\n",
      "    accuracy                           0.57        56\n",
      "   macro avg       0.49      0.50      0.48        56\n",
      "weighted avg       0.62      0.57      0.59        56\n"
     ]
    }
   ],
   "source": [
    "from sklearn.ensemble import RandomForestClassifier\n",
    "from imblearn.over_sampling import SMOTE\n",
    "from sklearn.model_selection import GridSearchCV\n",
    "\n",
    "# Addressing Class Imbalance\n",
    "smote = SMOTE(random_state=42)\n",
    "X_train_smote, y_train_smote = smote.fit_resample(X_train, y_train)\n",
    "\n",
    "# Scaling the features\n",
    "scaler = StandardScaler()\n",
    "X_train_scaled = scaler.fit_transform(X_train_smote)\n",
    "X_test_scaled = scaler.transform(X_test)\n",
    "\n",
    "# Hyperparameter Tuning\n",
    "model = RandomForestClassifier(random_state=42)\n",
    "param_grid = {\n",
    "    'n_estimators': [100, 200, 300],\n",
    "    'max_depth': [None, 10, 20, 30],\n",
    "    'min_samples_split': [2, 5, 10],\n",
    "    'min_samples_leaf': [1, 2, 4]\n",
    "    \n",
    "}\n",
    "grid_search = GridSearchCV(model, param_grid, cv=3, scoring='f1_macro')\n",
    "grid_search.fit(X_train_scaled, y_train_smote)\n",
    "\n",
    "# Best Model Evaluation\n",
    "best_model = grid_search.best_estimator_\n",
    "y_pred = best_model.predict(X_test_scaled)\n",
    "print(classification_report(y_test, y_pred))"
   ],
   "metadata": {
    "collapsed": false,
    "ExecuteTime": {
     "end_time": "2024-01-19T16:23:32.476431700Z",
     "start_time": "2024-01-19T16:20:43.031794200Z"
    }
   },
   "id": "18bce7a7c93c20cc"
  },
  {
   "cell_type": "code",
   "execution_count": 160,
   "outputs": [
    {
     "name": "stdout",
     "output_type": "stream",
     "text": [
      "Average Cross-Validation Score: 0.5740740740740741\n"
     ]
    }
   ],
   "source": [
    "# check for overfitting\n",
    "from sklearn.model_selection import cross_val_score\n",
    "\n",
    "# Perform cross-validation\n",
    "cv_scores = cross_val_score(best_model, X_train_scaled, y_train_smote, cv=6)\n",
    "\n",
    "# Print the average score\n",
    "print(f\"Average Cross-Validation Score: {cv_scores.mean()}\")\n"
   ],
   "metadata": {
    "collapsed": false,
    "ExecuteTime": {
     "end_time": "2024-01-19T16:23:38.127823500Z",
     "start_time": "2024-01-19T16:23:32.479859700Z"
    }
   },
   "id": "66a94522869054e"
  },
  {
   "cell_type": "code",
   "execution_count": 161,
   "outputs": [
    {
     "data": {
      "text/plain": "<Figure size 1000x600 with 1 Axes>",
      "image/png": "[encoded data removed]"
     },
     "metadata": {},
     "output_type": "display_data"
    }
   ],
   "source": [
    "# Get feature importances\n",
    "feature_importances = best_model.feature_importances_\n",
    "\n",
    "# Create a bar plot\n",
    "plt.figure(figsize=(10, 6))\n",
    "plt.barh(features, feature_importances)\n",
    "plt.xlabel('Importance')\n",
    "plt.ylabel('Feature')\n",
    "plt.title('Feature Importance')\n",
    "plt.show()"
   ],
   "metadata": {
    "collapsed": false,
    "ExecuteTime": {
     "end_time": "2024-01-19T16:23:38.577587100Z",
     "start_time": "2024-01-19T16:23:38.133374900Z"
    }
   },
   "id": "276172cf85bdf498"
  },
  {
   "cell_type": "code",
   "execution_count": 162,
   "outputs": [
    {
     "name": "stdout",
     "output_type": "stream",
     "text": [
      "##########################\n",
      "Today's matches\n"
     ]
    },
    {
     "ename": "IndexError",
     "evalue": "string index out of range",
     "output_type": "error",
     "traceback": [
      "\u001B[1;31m---------------------------------------------------------------------------\u001B[0m",
      "\u001B[1;31mIndexError\u001B[0m                                Traceback (most recent call last)",
      "Cell \u001B[1;32mIn[162], line 23\u001B[0m\n\u001B[0;32m     20\u001B[0m \u001B[38;5;28mprint\u001B[39m(\u001B[38;5;124m'\u001B[39m\u001B[38;5;124m##########################\u001B[39m\u001B[38;5;124m'\u001B[39m)\n\u001B[0;32m     21\u001B[0m \u001B[38;5;28mprint\u001B[39m(\u001B[38;5;124m'\u001B[39m\u001B[38;5;124mToday\u001B[39m\u001B[38;5;130;01m\\'\u001B[39;00m\u001B[38;5;124ms matches\u001B[39m\u001B[38;5;124m'\u001B[39m)\n\u001B[1;32m---> 23\u001B[0m \u001B[43mpredict_match\u001B[49m\u001B[43m(\u001B[49m\u001B[38;5;124;43m'\u001B[39;49m\u001B[38;5;124;43mArsenal\u001B[39;49m\u001B[38;5;124;43m'\u001B[39;49m\u001B[43m,\u001B[49m\u001B[43m \u001B[49m\u001B[38;5;124;43m'\u001B[39;49m\u001B[38;5;124;43mCrystal Palace\u001B[39;49m\u001B[38;5;124;43m'\u001B[39;49m\u001B[43m,\u001B[49m\u001B[43m \u001B[49m\u001B[43mbest_model\u001B[49m\u001B[43m,\u001B[49m\u001B[43m \u001B[49m\u001B[43mscaler\u001B[49m\u001B[43m)\u001B[49m\n",
      "Cell \u001B[1;32mIn[162], line 10\u001B[0m, in \u001B[0;36mpredict_match\u001B[1;34m(home_team, away_team, best_model, scaler)\u001B[0m\n\u001B[0;32m      8\u001B[0m \u001B[38;5;66;03m# Make predictions\u001B[39;00m\n\u001B[0;32m      9\u001B[0m home_team_win_prob \u001B[38;5;241m=\u001B[39m best_model\u001B[38;5;241m.\u001B[39mpredict(match_scaled)[\u001B[38;5;241m0\u001B[39m][\u001B[38;5;241m0\u001B[39m]\n\u001B[1;32m---> 10\u001B[0m away_team_win_prob \u001B[38;5;241m=\u001B[39m \u001B[43mbest_model\u001B[49m\u001B[38;5;241;43m.\u001B[39;49m\u001B[43mpredict\u001B[49m\u001B[43m(\u001B[49m\u001B[43mmatch_scaled\u001B[49m\u001B[43m)\u001B[49m\u001B[43m[\u001B[49m\u001B[38;5;241;43m0\u001B[39;49m\u001B[43m]\u001B[49m\u001B[43m[\u001B[49m\u001B[38;5;241;43m2\u001B[39;49m\u001B[43m]\u001B[49m\n\u001B[0;32m     11\u001B[0m draw_prob \u001B[38;5;241m=\u001B[39m best_model\u001B[38;5;241m.\u001B[39mpredict(match_scaled)[\u001B[38;5;241m0\u001B[39m][\u001B[38;5;241m1\u001B[39m]\n\u001B[0;32m     12\u001B[0m \u001B[38;5;66;03m# Print the results\u001B[39;00m\n",
      "\u001B[1;31mIndexError\u001B[0m: string index out of range"
     ]
    }
   ],
   "source": [
    "# make predictions for the 2023/24 season\n",
    "def predict_match(home_team, away_team, best_model, scaler):\n",
    "    # Create a dataframe with the appropriate format\n",
    "    match = pd.DataFrame(columns=['HomeTeamEncoded', 'AwayTeamEncoded', 'HomeTeamRecentForm', 'AwayTeamRecentForm', 'HomeTeamAvgGoals', 'AwayTeamAvgGoals', 'HomeTeamPoints', 'AwayTeamPoints', 'HomeTeamWinPercentage', 'AwayTeamWinPercentage', 'HomeTeamAvgShotsOnTarget', 'AwayTeamAvgShotsOnTarget', 'HomeTeamAvgGoalsHT', 'AwayTeamAvgGoalsHT'])\n",
    "    match.loc[0] = [label_encoder.transform([home_team])[0], label_encoder.transform([away_team])[0], calculate_form_points(home_team, df_cleaned), calculate_form_points(away_team, df_cleaned), df_cleaned[df_cleaned['HomeTeam'] == home_team]['HomeTeamAvgGoals'].values[0], df_cleaned[df_cleaned['AwayTeam'] == away_team]['AwayTeamAvgGoals'].values[0], calculate_team_points(home_team, df_cleaned), calculate_team_points(away_team, df_cleaned), home_team_win_percentage[home_team], away_team_win_percentage[away_team], df_cleaned[df_cleaned['HomeTeam'] == home_team]['HomeTeamAvgShotsOnTarget'].values[0], df_cleaned[df_cleaned['AwayTeam'] == away_team]['AwayTeamAvgShotsOnTarget'].values[0], df_cleaned[df_cleaned['HomeTeam'] == home_team]['HomeTeamAvgGoalsHT'].values[0], df_cleaned[df_cleaned['AwayTeam'] == away_team]['AwayTeamAvgGoalsHT'].values[0]]\n",
    "    # Scale the features\n",
    "    match_scaled = scaler.transform(match)\n",
    "    # Make predictions\n",
    "    home_team_win_prob = best_model.predict(match_scaled)[0][0]\n",
    "    away_team_win_prob = best_model.predict(match_scaled)[0][2]\n",
    "    draw_prob = best_model.predict(match_scaled)[0][1]\n",
    "    # Print the results\n",
    "    print(f\"{home_team} win probability: {home_team_win_prob}\")\n",
    "    print(f\"{away_team} win probability: {away_team_win_prob}\")\n",
    "    print(f\"Draw probability: {draw_prob}\")\n",
    "    \n",
    "    return home_team_win_prob, away_team_win_prob, draw_prob\n",
    "\n",
    "\n",
    "print('##########################')\n",
    "print('Today\\'s matches')\n",
    "\n",
    "predict_match('Arsenal', 'Crystal Palace', best_model, scaler)\n",
    "\n"
   ],
   "metadata": {
    "collapsed": false,
    "ExecuteTime": {
     "end_time": "2024-01-19T16:23:38.789233Z",
     "start_time": "2024-01-19T16:23:38.567082Z"
    }
   },
   "id": "864cf4cbe4d554f"
  },
  {
   "cell_type": "code",
   "execution_count": null,
   "outputs": [],
   "source": [
    "from sklearn.metrics import roc_auc_score\n",
    "# compare the two models\n",
    "from sklearn.metrics import classification_report\n",
    "\n",
    "# Evaluate the model\n",
    "y_pred = final_model.predict(X_test_scaled)\n",
    "print(classification_report(y_test, y_pred, zero_division=0))\n",
    "\n",
    "# Evaluate the model\n",
    "y_pred = best_model.predict(X_test_scaled)\n",
    "print(classification_report(y_test, y_pred, zero_division=0))\n",
    "\n",
    "\n"
   ],
   "metadata": {
    "collapsed": false,
    "ExecuteTime": {
     "start_time": "2024-01-19T16:23:38.738388500Z"
    }
   },
   "id": "81fb003a328da524"
  },
  {
   "cell_type": "code",
   "execution_count": null,
   "outputs": [],
   "source": [
    "from sklearn.preprocessing import StandardScaler, LabelEncoder\n",
    "from sklearn.model_selection import train_test_split\n",
    "from imblearn.over_sampling import SMOTE\n",
    "\n",
    "# Select relevant columns or features\n",
    "features = ['HomeTeam', 'AwayTeam', 'HomeTeamRecentForm', 'AwayTeamRecentForm', 'HomeTeamAvgGoals', 'AwayTeamAvgGoals', 'HomeTeamPoints', 'AwayTeamPoints', 'HomeTeamWinPercentage', 'AwayTeamWinPercentage', 'HomeTeamAvgShotsOnTarget', 'AwayTeamAvgShotsOnTarget', 'HomeTeamAvgGoalsHT', 'AwayTeamAvgGoalsHT']\n",
    "target = 'FTR'\n",
    "\n",
    "# Create a comprehensive list of all teams\n",
    "all_teams = sorted(list(set(df_cleaned['HomeTeam'].unique()) | set(df_cleaned['AwayTeam'].unique())))\n",
    "\n",
    "# Fit the label encoder on this comprehensive list\n",
    "team_encoder = LabelEncoder()\n",
    "team_encoder.fit(all_teams)\n",
    "\n",
    "# Encode team names\n",
    "df_cleaned['HomeTeamEncoded'] = team_encoder.transform(df_cleaned['HomeTeam'])\n",
    "df_cleaned['AwayTeamEncoded'] = team_encoder.transform(df_cleaned['AwayTeam'])\n",
    "\n",
    "# Update features list to use encoded team names\n",
    "features = ['HomeTeamEncoded', 'AwayTeamEncoded', 'HomeTeamRecentForm', 'AwayTeamRecentForm', 'HomeTeamAvgGoals', 'AwayTeamAvgGoals', 'HomeTeamPoints', 'AwayTeamPoints', 'HomeTeamWinPercentage', 'AwayTeamWinPercentage', 'HomeTeamAvgShotsOnTarget', 'AwayTeamAvgShotsOnTarget', 'HomeTeamAvgGoalsHT', 'AwayTeamAvgGoalsHT']\n",
    "\n",
    "# If the target variable is categorical, encode it separately\n",
    "if df_cleaned[target].dtype == 'object':\n",
    "    label_encoder = LabelEncoder()\n",
    "    df_cleaned[target] = label_encoder.fit_transform(df_cleaned[target])\n",
    "\n",
    "# Split the data into training and test sets\n",
    "X = df_cleaned[features]\n",
    "y = df_cleaned[target]\n",
    "X_train, X_test, y_train, y_test = train_test_split(X, y, test_size=0.2, random_state=42)\n",
    "\n",
    "# Addressing Class Imbalance\n",
    "smote = SMOTE(random_state=42)\n",
    "X_train_smote, y_train_smote = smote.fit_resample(X_train, y_train)\n",
    "\n",
    "# Scaling the features\n",
    "scaler = StandardScaler()\n",
    "X_train_scaled = scaler.fit_transform(X_train_smote)\n",
    "X_test_scaled = scaler.transform(X_test)"
   ],
   "metadata": {
    "collapsed": false,
    "ExecuteTime": {
     "start_time": "2024-01-19T16:23:38.742965900Z"
    }
   },
   "id": "b5f855c283391564"
  },
  {
   "cell_type": "code",
   "execution_count": null,
   "outputs": [],
   "source": [
    "# hyperparameter tuning for xgboost using hyperopt\n",
    "from hyperopt import hp\n",
    "import numpy as np\n",
    "# Define the hyperparameter space\n",
    "\n",
    "space = {\n",
    "    'n_estimators': hp.quniform('n_estimators', 100, 1000, 50),\n",
    "    'max_depth': hp.choice('max_depth', np.arange(3, 11, dtype=int)),\n",
    "    'learning_rate': hp.loguniform('learning_rate', np.log(0.01), np.log(0.2)),\n",
    "    'reg_lambda': hp.uniform('reg_lambda', 1, 10),\n",
    "    'reg_alpha': hp.uniform('reg_alpha', 1, 10),\n",
    "    'gamma': hp.uniform('gamma', 0, 1),\n",
    "    'min_child_weight': hp.uniform('min_child_weight', 0, 10)\n",
    "    \n",
    "}"
   ],
   "metadata": {
    "collapsed": false,
    "ExecuteTime": {
     "start_time": "2024-01-19T16:23:38.747473600Z"
    }
   },
   "id": "c70503db619e181b"
  },
  {
   "cell_type": "code",
   "execution_count": null,
   "outputs": [],
   "source": [
    "# Creating the Objective Function so that we can use it in the hyperparameter optimization\n",
    "\n",
    "from hyperopt import STATUS_OK\n",
    "from sklearn.model_selection import train_test_split, StratifiedKFold, cross_val_score\n",
    "from xgboost import XGBClassifier\n",
    "\n",
    "def objective(params):\n",
    "    params['n_estimators'] = int(params['n_estimators'])\n",
    "    clf = XGBClassifier(**params, objective='multi:softmax', num_class=3, eval_metric='mlogloss', verbosity=0)\n",
    "    score = cross_val_score(clf, X_train_scaled, y_train_smote, scoring='accuracy', cv=StratifiedKFold(10)).mean()\n",
    "    return {'loss': -score, 'status': STATUS_OK}\n",
    "\n"
   ],
   "metadata": {
    "collapsed": false,
    "ExecuteTime": {
     "start_time": "2024-01-19T16:23:38.753100500Z"
    }
   },
   "id": "16e6f9a787cc15ba"
  },
  {
   "cell_type": "code",
   "execution_count": null,
   "outputs": [],
   "source": [
    "# run the hyperparameter optimization\n",
    "from hyperopt import tpe, Trials, fmin\n",
    "\n",
    "trials = Trials()\n",
    "best = fmin(fn=objective, space=space, algo=tpe.suggest, max_evals=10, trials=trials)\n",
    "\n"
   ],
   "metadata": {
    "collapsed": false,
    "ExecuteTime": {
     "start_time": "2024-01-19T16:23:38.758771300Z"
    }
   },
   "id": "e241f7a9b6ed8aa"
  },
  {
   "cell_type": "code",
   "execution_count": null,
   "outputs": [],
   "source": [
    "from sklearn.metrics import classification_report\n",
    "\n",
    "best_params = {k: int(v) if k in ['n_estimators', 'max_depth'] else v for k, v in best.items()}\n",
    "best_model_2 = XGBClassifier(**best_params, objective='multi:softmax', num_class=3, eval_metric='mlogloss', verbosity=0)\n",
    "best_model_2.fit(X_train_scaled, y_train_smote)\n"
   ],
   "metadata": {
    "collapsed": false,
    "ExecuteTime": {
     "start_time": "2024-01-19T16:23:38.763202900Z"
    }
   },
   "id": "c0883e3b97651ca9"
  },
  {
   "cell_type": "code",
   "execution_count": null,
   "outputs": [],
   "source": [
    "# Evaluate the model\n",
    "y_pred = best_model_2.predict(X_test_scaled)\n",
    "print(classification_report(y_test, y_pred, zero_division=0))\n",
    "\n",
    "# check the auc score\n",
    "auc = roc_auc_score(y_test, y_pred)\n",
    "print('AUC: %.2f' % auc)\n",
    "      \n"
   ],
   "metadata": {
    "collapsed": false,
    "ExecuteTime": {
     "start_time": "2024-01-19T16:23:38.771297400Z"
    }
   },
   "id": "7dcedf9d6cbdb6a5"
  },
  {
   "cell_type": "code",
   "execution_count": null,
   "outputs": [],
   "source": [
    "# get new predictions using the xgboost model\n",
    "def predict_match(home_team, away_team, best_model_2, scaler):\n",
    "    # Create a dataframe with the appropriate format\n",
    "    match = pd.DataFrame(columns=['HomeTeamEncoded', 'AwayTeamEncoded', 'HomeTeamRecentForm', 'AwayTeamRecentForm', 'HomeTeamAvgGoals', 'AwayTeamAvgGoals', 'HomeTeamPoints', 'AwayTeamPoints', 'HomeTeamWinPercentage', 'AwayTeamWinPercentage', 'HomeTeamAvgShotsOnTarget', 'AwayTeamAvgShotsOnTarget', 'HomeTeamAvgGoalsHT', 'AwayTeamAvgGoalsHT'])\n",
    "    match.loc[0] = [team_encoder.transform([home_team])[0], team_encoder.transform([away_team])[0], calculate_form_points(home_team, df_cleaned), calculate_form_points(away_team, df_cleaned), df_cleaned[df_cleaned['HomeTeam'] == home_team]['HomeTeamAvgGoals'].values[0], df_cleaned[df_cleaned['AwayTeam'] == away_team]['AwayTeamAvgGoals'].values[0], calculate_team_points(home_team, df_cleaned), calculate_team_points(away_team, df_cleaned), home_team_win_percentage[home_team], away_team_win_percentage[away_team], df_cleaned[df_cleaned['HomeTeam'] == home_team]['HomeTeamAvgShotsOnTarget'].values[0], df_cleaned[df_cleaned['AwayTeam'] == away_team]['AwayTeamAvgShotsOnTarget'].values[0], df_cleaned[df_cleaned['HomeTeam'] == home_team]['HomeTeamAvgGoalsHT'].values[0], df_cleaned[df_cleaned['AwayTeam'] == away_team]['AwayTeamAvgGoalsHT'].values[0]]\n",
    "    # Scale the features\n",
    "    match_scaled = scaler.transform(match)\n",
    "    # Make predictions\n",
    "    home_team_win_prob = best_model_2.predict_proba(match_scaled)[0][0]\n",
    "    away_team_win_prob = best_model_2.predict_proba(match_scaled)[0][2]\n",
    "    draw_prob = best_model_2.predict_proba(match_scaled)[0][1]\n",
    "    # Print the results\n",
    "    print(f\"{home_team} win probability: {home_team_win_prob}\")\n",
    "    print(f\"{away_team} win probability: {away_team_win_prob}\")\n",
    "    print(f\"Draw probability: {draw_prob}\")\n",
    "    \n",
    "    return home_team_win_prob, away_team_win_prob, draw_prob\n",
    "\n",
    "\n",
    "predict_match('Arsenal', 'Crystal Palace', best_model_2, scaler)\n"
   ],
   "metadata": {
    "collapsed": false,
    "ExecuteTime": {
     "start_time": "2024-01-19T16:23:38.776843Z"
    }
   },
   "id": "c6e6f54ad0a0bb40"
  },
  {
   "cell_type": "code",
   "execution_count": null,
   "outputs": [],
   "source": [
    "# import matplotlib.pyplot as plt\n",
    "# \n",
    "# def plot_match_prediction(probabilities, match_title):\n",
    "#     teams = ['Home Win', 'Away Win', 'Draw']\n",
    "#     plt.figure(figsize=(10, 6))\n",
    "#     plt.bar(teams, probabilities)\n",
    "#     plt.xlabel('Outcome')\n",
    "#     plt.ylabel('Probability')\n",
    "#     plt.title(f'Predicted Match Outcome - {match_title}')\n",
    "#     plt.ylim(0, 1)  # Set y-axis limit to 0-1 for probability\n",
    "#     for i, prob in enumerate(probabilities):\n",
    "#         plt.text(i, prob + 0.02, f'{prob:.2f}', ha='center')\n",
    "#     plt.show()\n",
    "# \n",
    "# # Brighton vs. Tottenham\n",
    "# plot_match_prediction([0.2022, 0.3850, 0.4128], 'Brighton vs. Tottenham - XGBoost')\n",
    "# plot_match_prediction([0.3364, 0.1976, 0.4661], 'Brighton vs. Tottenham - Random Forest')\n",
    "# plot_match_prediction([0.1774, 0.0935, 0.7291], 'Brighton vs. Tottenham - CatBoost')\n",
    "# \n",
    "# # Arsenal vs. West Ham\n",
    "# plot_match_prediction([0.1326, 0.5867, 0.2807], 'Arsenal vs. West Ham - XGBoost')\n",
    "# plot_match_prediction([0.1283, 0.5955, 0.2762], 'Arsenal vs. West Ham - Random Forest')\n",
    "# plot_match_prediction([0.1060, 0.7360, 0.1580], 'Arsenal vs. West Ham - CatBoost')\n"
   ],
   "metadata": {
    "collapsed": false,
    "ExecuteTime": {
     "start_time": "2024-01-19T16:23:38.781332200Z"
    }
   },
   "id": "a398a60e036250fa"
  },
  {
   "cell_type": "code",
   "execution_count": null,
   "outputs": [],
   "source": [
    "import shap\n",
    "\n",
    "# Explain model's predictions using SHAP\n",
    "explainer = shap.TreeExplainer(best_model_2)\n",
    "shap_values = explainer.shap_values(X_test_scaled)\n",
    "\n",
    "# Plot summary plot\n",
    "shap.summary_plot(shap_values, X_test_scaled, feature_names=features)\n"
   ],
   "metadata": {
    "collapsed": false,
    "ExecuteTime": {
     "start_time": "2024-01-19T16:23:38.788097400Z"
    }
   },
   "id": "b9302c37fda88433"
  },
  {
   "cell_type": "code",
   "execution_count": null,
   "outputs": [],
   "source": [
    "import xgboost as xgb\n",
    "import matplotlib.pyplot as plt\n",
    "\n",
    "# Assuming best_model_2 is your trained XGBoost model\n",
    "# show features names\n",
    "xgb.plot_importance(best_model_2, importance_type='gain')\n",
    "plt.show()\n",
    "\n",
    "\n"
   ],
   "metadata": {
    "collapsed": false,
    "ExecuteTime": {
     "end_time": "2024-01-19T16:23:38.971877400Z",
     "start_time": "2024-01-19T16:23:38.791763800Z"
    }
   },
   "id": "9f5e6e355cb40518"
  },
  {
   "cell_type": "code",
   "execution_count": null,
   "outputs": [],
   "source": [
    "# making predictions for total goals in a game\n",
    "\n",
    "#calculate recrent form in terms of goals scored\n",
    "df_cleaned['HomeTeamRecentGoals'] = df_cleaned.groupby('HomeTeam')['FTHG'].rolling(window=5, min_periods=1).sum().reset_index(drop=True)\n",
    "df_cleaned['AwayTeamRecentGoals'] = df_cleaned.groupby('AwayTeam')['FTAG'].rolling(window=5, min_periods=1).sum().reset_index(drop=True)\n",
    "\n",
    "#calculate average goals scored\n",
    "df_cleaned['HomeTeamAvgGoals'] = df_cleaned.groupby('HomeTeam')['FTHG'].transform('mean')\n",
    "df_cleaned['AwayTeamAvgGoals'] = df_cleaned.groupby('AwayTeam')['FTAG'].transform('mean')\n",
    "\n",
    "#calculate average goals conceded\n",
    "df_cleaned['HomeTeamAvgGoalsConceded'] = df_cleaned.groupby('HomeTeam')['FTAG'].transform('mean')\n",
    "df_cleaned['AwayTeamAvgGoalsConceded'] = df_cleaned.groupby('AwayTeam')['FTHG'].transform('mean')\n",
    "\n"
   ],
   "metadata": {
    "collapsed": false,
    "ExecuteTime": {
     "start_time": "2024-01-19T16:23:38.796130300Z"
    }
   },
   "id": "5cfb3f7c516a5967"
  },
  {
   "cell_type": "code",
   "execution_count": null,
   "outputs": [],
   "source": [
    "# select relevant columns or features\n",
    "features = ['HomeTeamEncoded', 'AwayTeamEncoded', 'HomeTeamRecentForm', 'AwayTeamRecentForm', 'HomeTeamAvgGoals', 'AwayTeamAvgGoals', 'HomeTeamPoints', 'AwayTeamPoints', 'HomeTeamWinPercentage', 'AwayTeamWinPercentage', 'HomeTeamAvgShotsOnTarget', 'AwayTeamAvgShotsOnTarget','HomeTeamAvgGoals', 'AwayTeamAvgGoals', 'HomeTeamAvgGoalsConceded', 'AwayTeamAvgGoalsConceded', 'HomeTeamRecentGoals', 'AwayTeamRecentGoals']\n",
    "x = df_cleaned[features]\n",
    "\n",
    "# target variables for total goals in a game\n",
    "y = df_cleaned['FTHG'] + df_cleaned['FTAG']\n",
    "\n",
    "# Split the data into training and test sets\n",
    "X_train, X_test, y_train, y_test = train_test_split(x, y, test_size=0.2, random_state=42)\n",
    "\n",
    "\n",
    "# scaling the features\n",
    "scaler = StandardScaler()\n",
    "X_train_scaled = scaler.fit_transform(X_train)\n",
    "X_test_scaled = scaler.transform(X_test)\n",
    "\n"
   ],
   "metadata": {
    "collapsed": false,
    "ExecuteTime": {
     "start_time": "2024-01-19T16:23:38.802007200Z"
    }
   },
   "id": "af0ac0ae56d1d328"
  },
  {
   "cell_type": "code",
   "execution_count": null,
   "outputs": [],
   "source": [
    "# Hyperparameter Tuning\n",
    "from sklearn.ensemble import RandomForestRegressor\n",
    "\n",
    "model = RandomForestRegressor(random_state=42)\n",
    "model.fit(X_train_scaled, y_train)\n"
   ],
   "metadata": {
    "collapsed": false,
    "ExecuteTime": {
     "start_time": "2024-01-19T16:23:38.805205200Z"
    }
   },
   "id": "57a970ec8a547059"
  },
  {
   "cell_type": "code",
   "execution_count": null,
   "outputs": [],
   "source": [
    "# make predictions\n",
    "predicted_goals = model.predict(X_test_scaled)\n",
    "\n",
    "# determine over/under 1.5 goals\n",
    "over_under_1_5 = ['Over 1.5' if goals > 1.5 else 'Under 1.5' for goals in predicted_goals]\n",
    "\n"
   ],
   "metadata": {
    "collapsed": false,
    "ExecuteTime": {
     "start_time": "2024-01-19T16:23:38.808663700Z"
    }
   },
   "id": "f1c6d5bf62098903"
  }
 ],
 "metadata": {
  "kernelspec": {
   "display_name": "Python 3",
   "language": "python",
   "name": "python3"
  },
  "language_info": {
   "codemirror_mode": {
    "name": "ipython",
    "version": 2
   },
   "file_extension": ".py",
   "mimetype": "text/x-python",
   "name": "python",
   "nbconvert_exporter": "python",
   "pygments_lexer": "ipython2",
   "version": "2.7.6"
  }
 },
 "nbformat": 4,
 "nbformat_minor": 5
}
