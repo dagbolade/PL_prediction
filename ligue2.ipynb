{
 "cells": [
  {
   "cell_type": "markdown",
   "source": [
    "# Championship 2023-2024 Predictions"
   ],
   "metadata": {
    "collapsed": false
   },
   "id": "2043b1fe4e1c4d13"
  },
  {
   "cell_type": "code",
   "execution_count": 344,
   "id": "initial_id",
   "metadata": {
    "collapsed": true,
    "ExecuteTime": {
     "end_time": "2024-02-02T22:25:41.617278300Z",
     "start_time": "2024-02-02T22:25:41.269143500Z"
    }
   },
   "outputs": [
    {
     "data": {
      "text/plain": "    Div        Date   Time        HomeTeam          AwayTeam  FTHG  FTAG FTR  \\\n211  E0  30/01/2024  20:00  Crystal Palace  Sheffield United     3     2   H   \n212  E0  30/01/2024  20:15     Aston Villa         Newcastle     1     3   A   \n213  E0  31/01/2024  19:30        Man City           Burnley     3     1   H   \n214  E0  31/01/2024  19:30       Tottenham         Brentford     3     2   H   \n215  E0  31/01/2024  20:15       Liverpool           Chelsea     4     1   H   \n\n     HTHG  HTAG  ... AvgC<2.5 AHCh  B365CAHH  B365CAHA  PCAHH  PCAHA  MaxCAHH  \\\n211     2     2  ...     1.85 -1.0      2.11      1.82   2.10   1.84     2.14   \n212     0     2  ...     2.47 -0.5      1.85      2.08   1.87   2.06     1.88   \n213     2     0  ...     3.38 -2.5      2.00      1.80   2.04   1.87     2.09   \n214     0     1  ...     2.79 -1.0      2.00      1.90   2.00   1.92     2.15   \n215     2     0  ...     2.68 -1.0      2.06      1.84   2.10   1.84     2.14   \n\n     MaxCAHA  AvgCAHH  AvgCAHA  \n211     1.87     2.08     1.81  \n212     2.09     1.86     2.03  \n213     1.95     2.00     1.86  \n214     1.96     2.02     1.86  \n215     1.88     2.05     1.83  \n\n[5 rows x 106 columns]",
      "text/html": "<div>\n<style scoped>\n    .dataframe tbody tr th:only-of-type {\n        vertical-align: middle;\n    }\n\n    .dataframe tbody tr th {\n        vertical-align: top;\n    }\n\n    .dataframe thead th {\n        text-align: right;\n    }\n</style>\n<table border=\"1\" class=\"dataframe\">\n  <thead>\n    <tr style=\"text-align: right;\">\n      <th></th>\n      <th>Div</th>\n      <th>Date</th>\n      <th>Time</th>\n      <th>HomeTeam</th>\n      <th>AwayTeam</th>\n      <th>FTHG</th>\n      <th>FTAG</th>\n      <th>FTR</th>\n      <th>HTHG</th>\n      <th>HTAG</th>\n      <th>...</th>\n      <th>AvgC&lt;2.5</th>\n      <th>AHCh</th>\n      <th>B365CAHH</th>\n      <th>B365CAHA</th>\n      <th>PCAHH</th>\n      <th>PCAHA</th>\n      <th>MaxCAHH</th>\n      <th>MaxCAHA</th>\n      <th>AvgCAHH</th>\n      <th>AvgCAHA</th>\n    </tr>\n  </thead>\n  <tbody>\n    <tr>\n      <th>211</th>\n      <td>E0</td>\n      <td>30/01/2024</td>\n      <td>20:00</td>\n      <td>Crystal Palace</td>\n      <td>Sheffield United</td>\n      <td>3</td>\n      <td>2</td>\n      <td>H</td>\n      <td>2</td>\n      <td>2</td>\n      <td>...</td>\n      <td>1.85</td>\n      <td>-1.0</td>\n      <td>2.11</td>\n      <td>1.82</td>\n      <td>2.10</td>\n      <td>1.84</td>\n      <td>2.14</td>\n      <td>1.87</td>\n      <td>2.08</td>\n      <td>1.81</td>\n    </tr>\n    <tr>\n      <th>212</th>\n      <td>E0</td>\n      <td>30/01/2024</td>\n      <td>20:15</td>\n      <td>Aston Villa</td>\n      <td>Newcastle</td>\n      <td>1</td>\n      <td>3</td>\n      <td>A</td>\n      <td>0</td>\n      <td>2</td>\n      <td>...</td>\n      <td>2.47</td>\n      <td>-0.5</td>\n      <td>1.85</td>\n      <td>2.08</td>\n      <td>1.87</td>\n      <td>2.06</td>\n      <td>1.88</td>\n      <td>2.09</td>\n      <td>1.86</td>\n      <td>2.03</td>\n    </tr>\n    <tr>\n      <th>213</th>\n      <td>E0</td>\n      <td>31/01/2024</td>\n      <td>19:30</td>\n      <td>Man City</td>\n      <td>Burnley</td>\n      <td>3</td>\n      <td>1</td>\n      <td>H</td>\n      <td>2</td>\n      <td>0</td>\n      <td>...</td>\n      <td>3.38</td>\n      <td>-2.5</td>\n      <td>2.00</td>\n      <td>1.80</td>\n      <td>2.04</td>\n      <td>1.87</td>\n      <td>2.09</td>\n      <td>1.95</td>\n      <td>2.00</td>\n      <td>1.86</td>\n    </tr>\n    <tr>\n      <th>214</th>\n      <td>E0</td>\n      <td>31/01/2024</td>\n      <td>19:30</td>\n      <td>Tottenham</td>\n      <td>Brentford</td>\n      <td>3</td>\n      <td>2</td>\n      <td>H</td>\n      <td>0</td>\n      <td>1</td>\n      <td>...</td>\n      <td>2.79</td>\n      <td>-1.0</td>\n      <td>2.00</td>\n      <td>1.90</td>\n      <td>2.00</td>\n      <td>1.92</td>\n      <td>2.15</td>\n      <td>1.96</td>\n      <td>2.02</td>\n      <td>1.86</td>\n    </tr>\n    <tr>\n      <th>215</th>\n      <td>E0</td>\n      <td>31/01/2024</td>\n      <td>20:15</td>\n      <td>Liverpool</td>\n      <td>Chelsea</td>\n      <td>4</td>\n      <td>1</td>\n      <td>H</td>\n      <td>2</td>\n      <td>0</td>\n      <td>...</td>\n      <td>2.68</td>\n      <td>-1.0</td>\n      <td>2.06</td>\n      <td>1.84</td>\n      <td>2.10</td>\n      <td>1.84</td>\n      <td>2.14</td>\n      <td>1.88</td>\n      <td>2.05</td>\n      <td>1.83</td>\n    </tr>\n  </tbody>\n</table>\n<p>5 rows × 106 columns</p>\n</div>"
     },
     "execution_count": 344,
     "metadata": {},
     "output_type": "execute_result"
    }
   ],
   "source": [
    "# import data\n",
    "import pandas as pd\n",
    "import numpy as np\n",
    "\n",
    "#df = pd.read_csv('F2.csv')\n",
    "#df = pd.read_csv('ligue_2.csv')\n",
    "df = pd.read_csv('scrapers/football_scraper/englandm/E0.csv')\n",
    "#df = pd.read_csv('scrapers/football_scraper/belgiumm/B1.csv')\n",
    "#df = pd.read_csv('f2_new.csv')\n",
    "df.tail()"
   ]
  },
  {
   "cell_type": "code",
   "execution_count": 345,
   "outputs": [],
   "source": [
    "## Data Cleaning"
   ],
   "metadata": {
    "collapsed": false,
    "ExecuteTime": {
     "end_time": "2024-02-02T22:25:41.662832900Z",
     "start_time": "2024-02-02T22:25:41.592507400Z"
    }
   },
   "id": "c27a39651ea01908"
  },
  {
   "cell_type": "code",
   "outputs": [
    {
     "data": {
      "text/plain": "(Div         0\n Date        0\n Time        0\n HomeTeam    0\n AwayTeam    0\n            ..\n PCAHA       0\n MaxCAHH     1\n MaxCAHA     1\n AvgCAHH     0\n AvgCAHA     0\n Length: 106, dtype: int64,\n 0)"
     },
     "execution_count": 346,
     "metadata": {},
     "output_type": "execute_result"
    }
   ],
   "source": [
    "# steps:\n",
    "# 1. Check for missing values\n",
    "missing_values = df.isnull().sum()\n",
    "\n",
    "# 2. Check for duplicates\n",
    "duplicate_rows = df.duplicated().sum()\n",
    "\n",
    "# Display the results of the checks\n",
    "missing_values, duplicate_rows"
   ],
   "metadata": {
    "collapsed": false,
    "ExecuteTime": {
     "end_time": "2024-02-02T22:25:41.792839200Z",
     "start_time": "2024-02-02T22:25:41.664834Z"
    }
   },
   "id": "594bb92f2a11837b",
   "execution_count": 346
  },
  {
   "cell_type": "code",
   "execution_count": 347,
   "outputs": [
    {
     "data": {
      "text/plain": "(Div         0\n Date        0\n Time        0\n HomeTeam    0\n AwayTeam    0\n            ..\n PCAHA       0\n MaxCAHH     1\n MaxCAHA     1\n AvgCAHH     0\n AvgCAHA     0\n Length: 106, dtype: int64,\n FTR\n H    103\n A     70\n D     43\n Name: count, dtype: int64)"
     },
     "execution_count": 347,
     "metadata": {},
     "output_type": "execute_result"
    }
   ],
   "source": [
    "# Checking for missing values\n",
    "missing_values = df.isnull().sum()\n",
    "\n",
    "\n",
    "\n",
    "\n",
    "# Checking the balance of the target variable 'FTR'\n",
    "target_distribution = df['FTR'].value_counts()\n",
    "\n",
    "# drop the div column\n",
    "df.drop('Div', axis=1, inplace=True)\n",
    "df.drop('Time', axis=1, inplace=True)\n",
    "\n",
    "missing_values, target_distribution\n"
   ],
   "metadata": {
    "collapsed": false,
    "ExecuteTime": {
     "end_time": "2024-02-02T22:25:41.890427Z",
     "start_time": "2024-02-02T22:25:41.750760200Z"
    }
   },
   "id": "598e531010defdf9"
  },
  {
   "cell_type": "code",
   "outputs": [],
   "source": [
    "# covert date to datetime\n",
    "df['Date'] = pd.to_datetime(df['Date'], format='%d/%m/%Y')"
   ],
   "metadata": {
    "collapsed": false,
    "ExecuteTime": {
     "end_time": "2024-02-02T22:25:42.019038200Z",
     "start_time": "2024-02-02T22:25:41.892428500Z"
    }
   },
   "id": "e670089d22767e09",
   "execution_count": 348
  },
  {
   "cell_type": "markdown",
   "source": [
    "## Feature engineering\n",
    "\n",
    "### steps:\n",
    "* Encode Team Names: Use label encoding for 'HomeTeam' and 'AwayTeam'. This will convert team names into numeric values, making them usable for the model.\n",
    "\n",
    "* Recent Form: Calculate the recent form for each team based on the last 5 matches. We'll use the 'FTR' column to determine wins (W), losses (L), and draws (D). This feature will provide insight into the current performance of the teams.\n",
    "\n",
    "* Average Goals per Game: Compute the average goals scored per game for both home and away teams. This feature helps understand the offensive strength of the teams.\n",
    "\n",
    "* Team Points: Calculate the total points accumulated by each team so far in the season. Points are awarded based on wins (3 points), draws (1 point), and losses (0 points).\n",
    "\n",
    "* Head-to-Head Statistics: Analyze the outcomes of matches between the same pairs of teams earlier in the season.\n",
    "\n",
    "* Other Statistical Features: Depending on the data available, we can include additional features like average possession, number of shots on target, defensive strength, etc."
   ],
   "metadata": {
    "collapsed": false
   },
   "id": "2d8eb8645de65cd7"
  },
  {
   "cell_type": "code",
   "execution_count": 349,
   "outputs": [],
   "source": [
    "# Reset the index of the DataFrame (if necessary)\n",
    "df.reset_index(drop=True, inplace=True)\n",
    "\n",
    "# Rolling averages for goals\n",
    "window_sizes = [3, 5]\n",
    "for window in window_sizes:\n",
    "    df[f'HomeGoalsScoredAvg_{window}'] = df.groupby('HomeTeam')['FTHG'].transform(lambda x: x.rolling(window, min_periods=1).mean())\n",
    "    df[f'AwayGoalsScoredAvg_{window}'] = df.groupby('AwayTeam')['FTAG'].transform(lambda x: x.rolling(window, min_periods=1).mean())\n",
    "    df[f'HomeGoalsConcededAvg_{window}'] = df.groupby('HomeTeam')['FTAG'].transform(lambda x: x.rolling(window, min_periods=1).mean())\n",
    "    df[f'AwayGoalsConcededAvg_{window}'] = df.groupby('AwayTeam')['FTHG'].transform(lambda x: x.rolling(window, min_periods=1).mean())\n",
    "\n"
   ],
   "metadata": {
    "collapsed": false,
    "ExecuteTime": {
     "end_time": "2024-02-02T22:25:42.125067400Z",
     "start_time": "2024-02-02T22:25:41.983027700Z"
    }
   },
   "id": "555cad6dc030dab3"
  },
  {
   "cell_type": "code",
   "outputs": [],
   "source": [
    "\n",
    "# Variance in team performance\n",
    "df['HomeGoalsScoredVariance'] = df.groupby('HomeTeam')['FTHG'].transform(lambda x: x.rolling(5, min_periods=1).var())\n",
    "df['AwayGoalsScoredVariance'] = df.groupby('AwayTeam')['FTAG'].transform(lambda x: x.rolling(5, min_periods=1).var())\n",
    "\n",
    "\n"
   ],
   "metadata": {
    "collapsed": false,
    "ExecuteTime": {
     "end_time": "2024-02-02T22:25:42.158803800Z",
     "start_time": "2024-02-02T22:25:42.123065500Z"
    }
   },
   "id": "b3bf9df58be1de92",
   "execution_count": 350
  },
  {
   "cell_type": "code",
   "outputs": [
    {
     "name": "stdout",
     "output_type": "stream",
     "text": [
      "['Arsenal' 'Aston Villa' 'Bournemouth' 'Brentford' 'Brighton' 'Burnley'\n",
      " 'Chelsea' 'Crystal Palace' 'Everton' 'Fulham' 'Liverpool' 'Luton'\n",
      " 'Man City' 'Man United' 'Newcastle' \"Nott'm Forest\" 'Sheffield United'\n",
      " 'Tottenham' 'West Ham' 'Wolves']\n"
     ]
    }
   ],
   "source": [
    "\n",
    "\n",
    "from sklearn.preprocessing import LabelEncoder\n",
    "\n",
    "# Initialize the LabelEncoder\n",
    "label_encoder = LabelEncoder()\n",
    "\n",
    "# Combine all unique team names from both HomeTeam and AwayTeam columns\n",
    "all_teams = pd.concat([df['HomeTeam'], df['AwayTeam']]).unique()\n",
    "\n",
    "# Fit the LabelEncoder with all unique team names\n",
    "label_encoder.fit(all_teams)\n",
    "\n",
    "# Transform both HomeTeam and AwayTeam using the fitted LabelEncoder\n",
    "df['HomeTeam_encoded'] = label_encoder.transform(df['HomeTeam'])\n",
    "df['AwayTeam_encoded'] = label_encoder.transform(df['AwayTeam'])\n",
    "\n",
    "# # Now you can transform individual team names\n",
    "# home_team_encoded = label_encoder.transform(['St Etienne'])[0]\n",
    "# away_team_encoded = label_encoder.transform(['Laval'])[0]\n",
    "\n",
    "# # Debugging: Print encoded values\n",
    "# print(f\"Encoded Home Team: {home_team_encoded}, Encoded Away Team: {away_team_encoded}\")\n",
    "\n",
    "print(label_encoder.classes_)\n"
   ],
   "metadata": {
    "collapsed": false,
    "ExecuteTime": {
     "end_time": "2024-02-02T22:25:42.230071500Z",
     "start_time": "2024-02-02T22:25:42.164740Z"
    }
   },
   "id": "2b1a8cf45ea677d9",
   "execution_count": 351
  },
  {
   "cell_type": "code",
   "outputs": [
    {
     "data": {
      "text/plain": "          Date        HomeTeam          AwayTeam  FTHG  FTAG FTR  HTHG  HTAG  \\\n211 2024-01-30  Crystal Palace  Sheffield United     3     2   H     2     2   \n212 2024-01-30     Aston Villa         Newcastle     1     3   A     0     2   \n213 2024-01-31        Man City           Burnley     3     1   H     2     0   \n214 2024-01-31       Tottenham         Brentford     3     2   H     0     1   \n215 2024-01-31       Liverpool           Chelsea     4     1   H     2     0   \n\n    HTR       Referee  ...  HomeGoalsConcededAvg_3  AwayGoalsConcededAvg_3  \\\n211   D  T Harrington  ...                1.333333                2.000000   \n212   A      J Brooks  ...                2.000000                2.000000   \n213   H     S Barrott  ...                1.000000                2.000000   \n214   A       D Coote  ...                1.333333                2.333333   \n215   H     P Tierney  ...                1.333333                2.666667   \n\n     HomeGoalsScoredAvg_5  AwayGoalsScoredAvg_5  HomeGoalsConcededAvg_5  \\\n211                   1.6                   0.6                     1.6   \n212                   1.4                   1.2                     1.2   \n213                   2.2                   1.2                     1.4   \n214                   2.6                   0.8                     1.4   \n215                   2.6                   1.2                     1.4   \n\n     AwayGoalsConcededAvg_5  HomeGoalsScoredVariance  AwayGoalsScoredVariance  \\\n211                     2.6                      1.8                      0.8   \n212                     2.6                      0.8                      1.7   \n213                     1.6                      0.7                      0.7   \n214                     2.4                      1.3                      0.7   \n215                     2.4                      3.8                      1.2   \n\n     HomeTeam_encoded  AwayTeam_encoded  \n211                 7                16  \n212                 1                14  \n213                12                 5  \n214                17                 3  \n215                10                 6  \n\n[5 rows x 116 columns]",
      "text/html": "<div>\n<style scoped>\n    .dataframe tbody tr th:only-of-type {\n        vertical-align: middle;\n    }\n\n    .dataframe tbody tr th {\n        vertical-align: top;\n    }\n\n    .dataframe thead th {\n        text-align: right;\n    }\n</style>\n<table border=\"1\" class=\"dataframe\">\n  <thead>\n    <tr style=\"text-align: right;\">\n      <th></th>\n      <th>Date</th>\n      <th>HomeTeam</th>\n      <th>AwayTeam</th>\n      <th>FTHG</th>\n      <th>FTAG</th>\n      <th>FTR</th>\n      <th>HTHG</th>\n      <th>HTAG</th>\n      <th>HTR</th>\n      <th>Referee</th>\n      <th>...</th>\n      <th>HomeGoalsConcededAvg_3</th>\n      <th>AwayGoalsConcededAvg_3</th>\n      <th>HomeGoalsScoredAvg_5</th>\n      <th>AwayGoalsScoredAvg_5</th>\n      <th>HomeGoalsConcededAvg_5</th>\n      <th>AwayGoalsConcededAvg_5</th>\n      <th>HomeGoalsScoredVariance</th>\n      <th>AwayGoalsScoredVariance</th>\n      <th>HomeTeam_encoded</th>\n      <th>AwayTeam_encoded</th>\n    </tr>\n  </thead>\n  <tbody>\n    <tr>\n      <th>211</th>\n      <td>2024-01-30</td>\n      <td>Crystal Palace</td>\n      <td>Sheffield United</td>\n      <td>3</td>\n      <td>2</td>\n      <td>H</td>\n      <td>2</td>\n      <td>2</td>\n      <td>D</td>\n      <td>T Harrington</td>\n      <td>...</td>\n      <td>1.333333</td>\n      <td>2.000000</td>\n      <td>1.6</td>\n      <td>0.6</td>\n      <td>1.6</td>\n      <td>2.6</td>\n      <td>1.8</td>\n      <td>0.8</td>\n      <td>7</td>\n      <td>16</td>\n    </tr>\n    <tr>\n      <th>212</th>\n      <td>2024-01-30</td>\n      <td>Aston Villa</td>\n      <td>Newcastle</td>\n      <td>1</td>\n      <td>3</td>\n      <td>A</td>\n      <td>0</td>\n      <td>2</td>\n      <td>A</td>\n      <td>J Brooks</td>\n      <td>...</td>\n      <td>2.000000</td>\n      <td>2.000000</td>\n      <td>1.4</td>\n      <td>1.2</td>\n      <td>1.2</td>\n      <td>2.6</td>\n      <td>0.8</td>\n      <td>1.7</td>\n      <td>1</td>\n      <td>14</td>\n    </tr>\n    <tr>\n      <th>213</th>\n      <td>2024-01-31</td>\n      <td>Man City</td>\n      <td>Burnley</td>\n      <td>3</td>\n      <td>1</td>\n      <td>H</td>\n      <td>2</td>\n      <td>0</td>\n      <td>H</td>\n      <td>S Barrott</td>\n      <td>...</td>\n      <td>1.000000</td>\n      <td>2.000000</td>\n      <td>2.2</td>\n      <td>1.2</td>\n      <td>1.4</td>\n      <td>1.6</td>\n      <td>0.7</td>\n      <td>0.7</td>\n      <td>12</td>\n      <td>5</td>\n    </tr>\n    <tr>\n      <th>214</th>\n      <td>2024-01-31</td>\n      <td>Tottenham</td>\n      <td>Brentford</td>\n      <td>3</td>\n      <td>2</td>\n      <td>H</td>\n      <td>0</td>\n      <td>1</td>\n      <td>A</td>\n      <td>D Coote</td>\n      <td>...</td>\n      <td>1.333333</td>\n      <td>2.333333</td>\n      <td>2.6</td>\n      <td>0.8</td>\n      <td>1.4</td>\n      <td>2.4</td>\n      <td>1.3</td>\n      <td>0.7</td>\n      <td>17</td>\n      <td>3</td>\n    </tr>\n    <tr>\n      <th>215</th>\n      <td>2024-01-31</td>\n      <td>Liverpool</td>\n      <td>Chelsea</td>\n      <td>4</td>\n      <td>1</td>\n      <td>H</td>\n      <td>2</td>\n      <td>0</td>\n      <td>H</td>\n      <td>P Tierney</td>\n      <td>...</td>\n      <td>1.333333</td>\n      <td>2.666667</td>\n      <td>2.6</td>\n      <td>1.2</td>\n      <td>1.4</td>\n      <td>2.4</td>\n      <td>3.8</td>\n      <td>1.2</td>\n      <td>10</td>\n      <td>6</td>\n    </tr>\n  </tbody>\n</table>\n<p>5 rows × 116 columns</p>\n</div>"
     },
     "execution_count": 352,
     "metadata": {},
     "output_type": "execute_result"
    }
   ],
   "source": [
    "df.tail()"
   ],
   "metadata": {
    "collapsed": false,
    "ExecuteTime": {
     "end_time": "2024-02-02T22:25:42.307017500Z",
     "start_time": "2024-02-02T22:25:42.208757500Z"
    }
   },
   "id": "68ab9522885d1ebc",
   "execution_count": 352
  },
  {
   "cell_type": "code",
   "outputs": [],
   "source": [
    "# Encoding the target variable 'FTR'\n",
    "from sklearn.preprocessing import LabelEncoder\n",
    "\n",
    "# Initialize the LabelEncoder\n",
    "label_encoder = LabelEncoder()\n",
    "\n",
    "# Fit and transform the target variable using label_encoder_y\n",
    "df['FTR_encoded'] = label_encoder.fit_transform(df['FTR'])\n",
    "\n",
    "\n"
   ],
   "metadata": {
    "collapsed": false,
    "ExecuteTime": {
     "end_time": "2024-02-02T22:25:42.371582100Z",
     "start_time": "2024-02-02T22:25:42.284005400Z"
    }
   },
   "id": "fdeeda8cbb73755a",
   "execution_count": 353
  },
  {
   "cell_type": "code",
   "outputs": [],
   "source": [
    "\n",
    "# Average points per game\n",
    "df['HomeTeamPoints'] = df.groupby('HomeTeam')['FTR_encoded'].transform(lambda x: x.expanding().sum().shift(1)) / df.groupby('HomeTeam')['FTR_encoded'].transform(lambda x: x.expanding().count().shift(1))\n",
    "df['AwayTeamPoints'] = df.groupby('AwayTeam')['FTR_encoded'].transform(lambda x: x.expanding().sum().shift(1)) / df.groupby('AwayTeam')['FTR_encoded'].transform(lambda x: x.expanding().count().shift(1))\n",
    "\n"
   ],
   "metadata": {
    "collapsed": false,
    "ExecuteTime": {
     "end_time": "2024-02-02T22:25:42.508792700Z",
     "start_time": "2024-02-02T22:25:42.377582700Z"
    }
   },
   "id": "a5308beebd3622e1",
   "execution_count": 354
  },
  {
   "cell_type": "code",
   "outputs": [],
   "source": [
    "# Average goals per game\n",
    "df['HomeTeamAvgGoals'] = df.groupby('HomeTeam')['FTHG'].transform(lambda x: x.expanding().mean().shift(1)) # Average goals scored by the home team\n",
    "df['AwayTeamAvgGoals'] = df.groupby('AwayTeam')['FTAG'].transform(lambda x: x.expanding().mean().shift(1)) # Average goals scored by the away team\n",
    "\n"
   ],
   "metadata": {
    "collapsed": false,
    "ExecuteTime": {
     "end_time": "2024-02-02T22:25:42.614355400Z",
     "start_time": "2024-02-02T22:25:42.451317900Z"
    }
   },
   "id": "a9226672bfa2d435",
   "execution_count": 355
  },
  {
   "cell_type": "code",
   "outputs": [],
   "source": [
    "# recent form\n",
    "def calculate_form_points(team, df):\n",
    "    # Get the last 5 matches of the home and away teams\n",
    "    home_matches = df[df['HomeTeam'] == team].tail(5)\n",
    "    away_matches = df[df['AwayTeam'] == team].tail(5)\n",
    "\n",
    "    # Calculate the points obtained in the last 5 matches\n",
    "    home_points = home_matches['FTR_encoded'].sum()\n",
    "    away_points = away_matches['FTR_encoded'].sum()\n",
    "\n",
    "    # Calculate the average points obtained\n",
    "    home_avg_points = home_points / 15\n",
    "    away_avg_points = away_points / 15\n",
    "\n",
    "    # Return the average points\n",
    "    return home_avg_points, away_avg_points\n",
    "\n",
    "# Calculate the average points obtained by each team in the last 5 matches\n",
    "df['HomeTeamRecentForm'], df['AwayTeamRecentForm'] = zip(*df['HomeTeam'].apply(lambda x: calculate_form_points(x, df)))\n",
    "\n"
   ],
   "metadata": {
    "collapsed": false,
    "ExecuteTime": {
     "end_time": "2024-02-02T22:25:42.932105200Z",
     "start_time": "2024-02-02T22:25:42.601364100Z"
    }
   },
   "id": "7433bf2c3ef3a5e7",
   "execution_count": 356
  },
  {
   "cell_type": "markdown",
   "source": [],
   "metadata": {
    "collapsed": false
   },
   "id": "6b8611cb69bd65f5"
  },
  {
   "cell_type": "markdown",
   "source": [
    "## League Standings"
   ],
   "metadata": {
    "collapsed": false
   },
   "id": "79c062e3818b2c0"
  },
  {
   "cell_type": "code",
   "outputs": [
    {
     "data": {
      "text/plain": "          Date          HomeTeam          AwayTeam  FTHG  FTAG FTR  HTHG  \\\n196 2024-01-01         Liverpool         Newcastle     4     2   H     0   \n197 2024-01-02          West Ham          Brighton     0     0   D     0   \n198 2024-01-12           Burnley             Luton     1     1   D     1   \n199 2024-01-13           Chelsea            Fulham     1     0   H     1   \n200 2024-01-13         Newcastle          Man City     2     3   A     2   \n201 2024-01-14           Everton       Aston Villa     0     0   D     0   \n202 2024-01-14        Man United         Tottenham     2     2   D     2   \n203 2024-01-20           Arsenal    Crystal Palace     5     0   H     2   \n204 2024-01-20         Brentford     Nott'm Forest     3     2   H     1   \n205 2024-01-21  Sheffield United          West Ham     2     2   D     1   \n206 2024-01-21       Bournemouth         Liverpool     0     4   A     0   \n207 2024-01-22          Brighton            Wolves     0     0   D     0   \n208 2024-01-30     Nott'm Forest           Arsenal     1     2   A     0   \n209 2024-01-30            Fulham           Everton     0     0   D     0   \n210 2024-01-30             Luton          Brighton     4     0   H     3   \n211 2024-01-30    Crystal Palace  Sheffield United     3     2   H     2   \n212 2024-01-30       Aston Villa         Newcastle     1     3   A     0   \n213 2024-01-31          Man City           Burnley     3     1   H     2   \n214 2024-01-31         Tottenham         Brentford     3     2   H     0   \n215 2024-01-31         Liverpool           Chelsea     4     1   H     2   \n\n     HTAG HTR       Referee  ...  AwayTeamAvgGoals  HomeTeamRecentForm  \\\n196     0   D      A Taylor  ...          1.555556            0.533333   \n197     0   D     S Barrott  ...          1.777778            0.533333   \n198     0   H  T Harrington  ...          1.111111            0.200000   \n199     0   H      A Taylor  ...          0.900000            0.600000   \n200     1   H    C Kavanagh  ...          2.100000            0.400000   \n201     0   D       D Coote  ...          1.400000            0.333333   \n202     1   H      J Brooks  ...          2.200000            0.466667   \n203     0   H     P Tierney  ...          1.100000            0.533333   \n204     1   D     D England  ...          1.000000            0.266667   \n205     1   D   M Salisbury  ...          1.600000            0.200000   \n206     0   D      A Madley  ...          1.700000            0.466667   \n207     0   D      C Pawson  ...          1.400000            0.466667   \n208     0   D      S Hooper  ...          1.500000            0.133333   \n209     0   D     T Bramall  ...          1.300000            0.466667   \n210     0   H       R Jones  ...          1.600000            0.266667   \n211     2   D  T Harrington  ...          0.500000            0.333333   \n212     2   A      J Brooks  ...          1.600000            0.466667   \n213     0   H     S Barrott  ...          1.000000            0.466667   \n214     1   A       D Coote  ...          1.000000            0.533333   \n215     0   H     P Tierney  ...          1.700000            0.533333   \n\n     AwayTeamRecentForm  HomeWin  AwayWin   Draw  HomePoints  AwayPoints  \\\n196            0.066667     True    False  False           3           0   \n197            0.200000    False    False   True           1           1   \n198            0.466667    False    False   True           1           1   \n199            0.533333     True    False  False           3           0   \n200            0.533333    False     True  False           0           3   \n201            0.333333    False    False   True           1           1   \n202            0.466667    False    False   True           1           1   \n203            0.333333     True    False  False           3           0   \n204            0.666667     True    False  False           3           0   \n205            0.600000    False    False   True           1           1   \n206            0.133333    False     True  False           0           3   \n207            0.533333    False    False   True           1           1   \n208            0.466667    False     True  False           0           3   \n209            0.666667    False    False   True           1           1   \n210            0.466667     True    False  False           3           0   \n211            0.533333     True    False  False           3           0   \n212            0.266667    False     True  False           0           3   \n213            0.200000     True    False  False           3           0   \n214            0.400000     True    False  False           3           0   \n215            0.066667     True    False  False           3           0   \n\n     HomeTeamStandingBeforeMatch  AwayTeamStandingBeforeMatch  \n196                           42                           29  \n197                           33                           30  \n198                           11                           15  \n199                           28                           24  \n200                           29                           40  \n201                           26                           42  \n202                           31                           39  \n203                           40                           21  \n204                           19                           20  \n205                            9                           34  \n206                           25                           45  \n207                           31                           28  \n208                           20                           43  \n209                           24                           27  \n210                           16                           32  \n211                           21                           10  \n212                           43                           29  \n213                           43                           12  \n214                           40                           22  \n215                           48                           31  \n\n[20 rows x 130 columns]",
      "text/html": "<div>\n<style scoped>\n    .dataframe tbody tr th:only-of-type {\n        vertical-align: middle;\n    }\n\n    .dataframe tbody tr th {\n        vertical-align: top;\n    }\n\n    .dataframe thead th {\n        text-align: right;\n    }\n</style>\n<table border=\"1\" class=\"dataframe\">\n  <thead>\n    <tr style=\"text-align: right;\">\n      <th></th>\n      <th>Date</th>\n      <th>HomeTeam</th>\n      <th>AwayTeam</th>\n      <th>FTHG</th>\n      <th>FTAG</th>\n      <th>FTR</th>\n      <th>HTHG</th>\n      <th>HTAG</th>\n      <th>HTR</th>\n      <th>Referee</th>\n      <th>...</th>\n      <th>AwayTeamAvgGoals</th>\n      <th>HomeTeamRecentForm</th>\n      <th>AwayTeamRecentForm</th>\n      <th>HomeWin</th>\n      <th>AwayWin</th>\n      <th>Draw</th>\n      <th>HomePoints</th>\n      <th>AwayPoints</th>\n      <th>HomeTeamStandingBeforeMatch</th>\n      <th>AwayTeamStandingBeforeMatch</th>\n    </tr>\n  </thead>\n  <tbody>\n    <tr>\n      <th>196</th>\n      <td>2024-01-01</td>\n      <td>Liverpool</td>\n      <td>Newcastle</td>\n      <td>4</td>\n      <td>2</td>\n      <td>H</td>\n      <td>0</td>\n      <td>0</td>\n      <td>D</td>\n      <td>A Taylor</td>\n      <td>...</td>\n      <td>1.555556</td>\n      <td>0.533333</td>\n      <td>0.066667</td>\n      <td>True</td>\n      <td>False</td>\n      <td>False</td>\n      <td>3</td>\n      <td>0</td>\n      <td>42</td>\n      <td>29</td>\n    </tr>\n    <tr>\n      <th>197</th>\n      <td>2024-01-02</td>\n      <td>West Ham</td>\n      <td>Brighton</td>\n      <td>0</td>\n      <td>0</td>\n      <td>D</td>\n      <td>0</td>\n      <td>0</td>\n      <td>D</td>\n      <td>S Barrott</td>\n      <td>...</td>\n      <td>1.777778</td>\n      <td>0.533333</td>\n      <td>0.200000</td>\n      <td>False</td>\n      <td>False</td>\n      <td>True</td>\n      <td>1</td>\n      <td>1</td>\n      <td>33</td>\n      <td>30</td>\n    </tr>\n    <tr>\n      <th>198</th>\n      <td>2024-01-12</td>\n      <td>Burnley</td>\n      <td>Luton</td>\n      <td>1</td>\n      <td>1</td>\n      <td>D</td>\n      <td>1</td>\n      <td>0</td>\n      <td>H</td>\n      <td>T Harrington</td>\n      <td>...</td>\n      <td>1.111111</td>\n      <td>0.200000</td>\n      <td>0.466667</td>\n      <td>False</td>\n      <td>False</td>\n      <td>True</td>\n      <td>1</td>\n      <td>1</td>\n      <td>11</td>\n      <td>15</td>\n    </tr>\n    <tr>\n      <th>199</th>\n      <td>2024-01-13</td>\n      <td>Chelsea</td>\n      <td>Fulham</td>\n      <td>1</td>\n      <td>0</td>\n      <td>H</td>\n      <td>1</td>\n      <td>0</td>\n      <td>H</td>\n      <td>A Taylor</td>\n      <td>...</td>\n      <td>0.900000</td>\n      <td>0.600000</td>\n      <td>0.533333</td>\n      <td>True</td>\n      <td>False</td>\n      <td>False</td>\n      <td>3</td>\n      <td>0</td>\n      <td>28</td>\n      <td>24</td>\n    </tr>\n    <tr>\n      <th>200</th>\n      <td>2024-01-13</td>\n      <td>Newcastle</td>\n      <td>Man City</td>\n      <td>2</td>\n      <td>3</td>\n      <td>A</td>\n      <td>2</td>\n      <td>1</td>\n      <td>H</td>\n      <td>C Kavanagh</td>\n      <td>...</td>\n      <td>2.100000</td>\n      <td>0.400000</td>\n      <td>0.533333</td>\n      <td>False</td>\n      <td>True</td>\n      <td>False</td>\n      <td>0</td>\n      <td>3</td>\n      <td>29</td>\n      <td>40</td>\n    </tr>\n    <tr>\n      <th>201</th>\n      <td>2024-01-14</td>\n      <td>Everton</td>\n      <td>Aston Villa</td>\n      <td>0</td>\n      <td>0</td>\n      <td>D</td>\n      <td>0</td>\n      <td>0</td>\n      <td>D</td>\n      <td>D Coote</td>\n      <td>...</td>\n      <td>1.400000</td>\n      <td>0.333333</td>\n      <td>0.333333</td>\n      <td>False</td>\n      <td>False</td>\n      <td>True</td>\n      <td>1</td>\n      <td>1</td>\n      <td>26</td>\n      <td>42</td>\n    </tr>\n    <tr>\n      <th>202</th>\n      <td>2024-01-14</td>\n      <td>Man United</td>\n      <td>Tottenham</td>\n      <td>2</td>\n      <td>2</td>\n      <td>D</td>\n      <td>2</td>\n      <td>1</td>\n      <td>H</td>\n      <td>J Brooks</td>\n      <td>...</td>\n      <td>2.200000</td>\n      <td>0.466667</td>\n      <td>0.466667</td>\n      <td>False</td>\n      <td>False</td>\n      <td>True</td>\n      <td>1</td>\n      <td>1</td>\n      <td>31</td>\n      <td>39</td>\n    </tr>\n    <tr>\n      <th>203</th>\n      <td>2024-01-20</td>\n      <td>Arsenal</td>\n      <td>Crystal Palace</td>\n      <td>5</td>\n      <td>0</td>\n      <td>H</td>\n      <td>2</td>\n      <td>0</td>\n      <td>H</td>\n      <td>P Tierney</td>\n      <td>...</td>\n      <td>1.100000</td>\n      <td>0.533333</td>\n      <td>0.333333</td>\n      <td>True</td>\n      <td>False</td>\n      <td>False</td>\n      <td>3</td>\n      <td>0</td>\n      <td>40</td>\n      <td>21</td>\n    </tr>\n    <tr>\n      <th>204</th>\n      <td>2024-01-20</td>\n      <td>Brentford</td>\n      <td>Nott'm Forest</td>\n      <td>3</td>\n      <td>2</td>\n      <td>H</td>\n      <td>1</td>\n      <td>1</td>\n      <td>D</td>\n      <td>D England</td>\n      <td>...</td>\n      <td>1.000000</td>\n      <td>0.266667</td>\n      <td>0.666667</td>\n      <td>True</td>\n      <td>False</td>\n      <td>False</td>\n      <td>3</td>\n      <td>0</td>\n      <td>19</td>\n      <td>20</td>\n    </tr>\n    <tr>\n      <th>205</th>\n      <td>2024-01-21</td>\n      <td>Sheffield United</td>\n      <td>West Ham</td>\n      <td>2</td>\n      <td>2</td>\n      <td>D</td>\n      <td>1</td>\n      <td>1</td>\n      <td>D</td>\n      <td>M Salisbury</td>\n      <td>...</td>\n      <td>1.600000</td>\n      <td>0.200000</td>\n      <td>0.600000</td>\n      <td>False</td>\n      <td>False</td>\n      <td>True</td>\n      <td>1</td>\n      <td>1</td>\n      <td>9</td>\n      <td>34</td>\n    </tr>\n    <tr>\n      <th>206</th>\n      <td>2024-01-21</td>\n      <td>Bournemouth</td>\n      <td>Liverpool</td>\n      <td>0</td>\n      <td>4</td>\n      <td>A</td>\n      <td>0</td>\n      <td>0</td>\n      <td>D</td>\n      <td>A Madley</td>\n      <td>...</td>\n      <td>1.700000</td>\n      <td>0.466667</td>\n      <td>0.133333</td>\n      <td>False</td>\n      <td>True</td>\n      <td>False</td>\n      <td>0</td>\n      <td>3</td>\n      <td>25</td>\n      <td>45</td>\n    </tr>\n    <tr>\n      <th>207</th>\n      <td>2024-01-22</td>\n      <td>Brighton</td>\n      <td>Wolves</td>\n      <td>0</td>\n      <td>0</td>\n      <td>D</td>\n      <td>0</td>\n      <td>0</td>\n      <td>D</td>\n      <td>C Pawson</td>\n      <td>...</td>\n      <td>1.400000</td>\n      <td>0.466667</td>\n      <td>0.533333</td>\n      <td>False</td>\n      <td>False</td>\n      <td>True</td>\n      <td>1</td>\n      <td>1</td>\n      <td>31</td>\n      <td>28</td>\n    </tr>\n    <tr>\n      <th>208</th>\n      <td>2024-01-30</td>\n      <td>Nott'm Forest</td>\n      <td>Arsenal</td>\n      <td>1</td>\n      <td>2</td>\n      <td>A</td>\n      <td>0</td>\n      <td>0</td>\n      <td>D</td>\n      <td>S Hooper</td>\n      <td>...</td>\n      <td>1.500000</td>\n      <td>0.133333</td>\n      <td>0.466667</td>\n      <td>False</td>\n      <td>True</td>\n      <td>False</td>\n      <td>0</td>\n      <td>3</td>\n      <td>20</td>\n      <td>43</td>\n    </tr>\n    <tr>\n      <th>209</th>\n      <td>2024-01-30</td>\n      <td>Fulham</td>\n      <td>Everton</td>\n      <td>0</td>\n      <td>0</td>\n      <td>D</td>\n      <td>0</td>\n      <td>0</td>\n      <td>D</td>\n      <td>T Bramall</td>\n      <td>...</td>\n      <td>1.300000</td>\n      <td>0.466667</td>\n      <td>0.666667</td>\n      <td>False</td>\n      <td>False</td>\n      <td>True</td>\n      <td>1</td>\n      <td>1</td>\n      <td>24</td>\n      <td>27</td>\n    </tr>\n    <tr>\n      <th>210</th>\n      <td>2024-01-30</td>\n      <td>Luton</td>\n      <td>Brighton</td>\n      <td>4</td>\n      <td>0</td>\n      <td>H</td>\n      <td>3</td>\n      <td>0</td>\n      <td>H</td>\n      <td>R Jones</td>\n      <td>...</td>\n      <td>1.600000</td>\n      <td>0.266667</td>\n      <td>0.466667</td>\n      <td>True</td>\n      <td>False</td>\n      <td>False</td>\n      <td>3</td>\n      <td>0</td>\n      <td>16</td>\n      <td>32</td>\n    </tr>\n    <tr>\n      <th>211</th>\n      <td>2024-01-30</td>\n      <td>Crystal Palace</td>\n      <td>Sheffield United</td>\n      <td>3</td>\n      <td>2</td>\n      <td>H</td>\n      <td>2</td>\n      <td>2</td>\n      <td>D</td>\n      <td>T Harrington</td>\n      <td>...</td>\n      <td>0.500000</td>\n      <td>0.333333</td>\n      <td>0.533333</td>\n      <td>True</td>\n      <td>False</td>\n      <td>False</td>\n      <td>3</td>\n      <td>0</td>\n      <td>21</td>\n      <td>10</td>\n    </tr>\n    <tr>\n      <th>212</th>\n      <td>2024-01-30</td>\n      <td>Aston Villa</td>\n      <td>Newcastle</td>\n      <td>1</td>\n      <td>3</td>\n      <td>A</td>\n      <td>0</td>\n      <td>2</td>\n      <td>A</td>\n      <td>J Brooks</td>\n      <td>...</td>\n      <td>1.600000</td>\n      <td>0.466667</td>\n      <td>0.266667</td>\n      <td>False</td>\n      <td>True</td>\n      <td>False</td>\n      <td>0</td>\n      <td>3</td>\n      <td>43</td>\n      <td>29</td>\n    </tr>\n    <tr>\n      <th>213</th>\n      <td>2024-01-31</td>\n      <td>Man City</td>\n      <td>Burnley</td>\n      <td>3</td>\n      <td>1</td>\n      <td>H</td>\n      <td>2</td>\n      <td>0</td>\n      <td>H</td>\n      <td>S Barrott</td>\n      <td>...</td>\n      <td>1.000000</td>\n      <td>0.466667</td>\n      <td>0.200000</td>\n      <td>True</td>\n      <td>False</td>\n      <td>False</td>\n      <td>3</td>\n      <td>0</td>\n      <td>43</td>\n      <td>12</td>\n    </tr>\n    <tr>\n      <th>214</th>\n      <td>2024-01-31</td>\n      <td>Tottenham</td>\n      <td>Brentford</td>\n      <td>3</td>\n      <td>2</td>\n      <td>H</td>\n      <td>0</td>\n      <td>1</td>\n      <td>A</td>\n      <td>D Coote</td>\n      <td>...</td>\n      <td>1.000000</td>\n      <td>0.533333</td>\n      <td>0.400000</td>\n      <td>True</td>\n      <td>False</td>\n      <td>False</td>\n      <td>3</td>\n      <td>0</td>\n      <td>40</td>\n      <td>22</td>\n    </tr>\n    <tr>\n      <th>215</th>\n      <td>2024-01-31</td>\n      <td>Liverpool</td>\n      <td>Chelsea</td>\n      <td>4</td>\n      <td>1</td>\n      <td>H</td>\n      <td>2</td>\n      <td>0</td>\n      <td>H</td>\n      <td>P Tierney</td>\n      <td>...</td>\n      <td>1.700000</td>\n      <td>0.533333</td>\n      <td>0.066667</td>\n      <td>True</td>\n      <td>False</td>\n      <td>False</td>\n      <td>3</td>\n      <td>0</td>\n      <td>48</td>\n      <td>31</td>\n    </tr>\n  </tbody>\n</table>\n<p>20 rows × 130 columns</p>\n</div>"
     },
     "execution_count": 357,
     "metadata": {},
     "output_type": "execute_result"
    }
   ],
   "source": [
    "# Assuming df is your DataFrame with the match data\n",
    "df['HomeWin'] = df['FTHG'] > df['FTAG']\n",
    "df['AwayWin'] = df['FTAG'] > df['FTHG']\n",
    "df['Draw'] = df['FTHG'] == df['FTAG']\n",
    "\n",
    "# Assign points based on outcomes\n",
    "df['HomePoints'] = df['HomeWin'] * 3 + df['Draw'] * 1\n",
    "df['AwayPoints'] = df['AwayWin'] * 3 + df['Draw'] * 1\n",
    "\n",
    "# Combine home and away games into a single DataFrame for point calculation\n",
    "points_df = pd.concat([\n",
    "    df[['Date', 'HomeTeam', 'HomePoints']].rename(columns={'HomeTeam': 'Team', 'HomePoints': 'Points'}),\n",
    "    df[['Date', 'AwayTeam', 'AwayPoints']].rename(columns={'AwayTeam': 'Team', 'AwayPoints': 'Points'})\n",
    "])\n",
    "\n",
    "# Sort by match date to ensure chronological order\n",
    "points_df.sort_values(by=['Date'], inplace=True)\n",
    "\n",
    "# Calculate cumulative points for each team\n",
    "points_df['CumulativePoints'] = points_df.groupby('Team')['Points'].cumsum()\n",
    "\n",
    "# Prepare for merging by shifting cumulative points to represent standings before the match\n",
    "points_df['CumulativePoints'] = points_df.groupby('Team')['CumulativePoints'].shift(fill_value=0)\n",
    "\n",
    "# Merge back into the original DataFrame to associate standings with each match\n",
    "df = df.merge(points_df[['Date', 'Team', 'CumulativePoints']], \n",
    "              left_on=['Date', 'HomeTeam'], \n",
    "              right_on=['Date', 'Team'], \n",
    "              how='left').rename(columns={'CumulativePoints': 'HomeTeamStandingBeforeMatch'}).drop('Team', axis=1)\n",
    "\n",
    "df = df.merge(points_df[['Date', 'Team', 'CumulativePoints']], \n",
    "              left_on=['Date', 'AwayTeam'], \n",
    "              right_on=['Date', 'Team'], \n",
    "              how='left').rename(columns={'CumulativePoints': 'AwayTeamStandingBeforeMatch'}).drop('Team', axis=1)\n",
    "\n",
    "# Display the updated DataFrame with team standings before each match\n",
    "\n",
    "# Display the DataFrame \n",
    "df.tail(20)\n",
    "\n",
    "# get the league standings\n",
    "\n",
    "\n"
   ],
   "metadata": {
    "collapsed": false,
    "ExecuteTime": {
     "end_time": "2024-02-02T22:25:43.001842400Z",
     "start_time": "2024-02-02T22:25:42.888464900Z"
    }
   },
   "id": "5e021638426d6750",
   "execution_count": 357
  },
  {
   "cell_type": "markdown",
   "source": [
    "### League standings"
   ],
   "metadata": {
    "collapsed": false
   },
   "id": "8f21cce905c91424"
  },
  {
   "cell_type": "code",
   "outputs": [
    {
     "name": "stdout",
     "output_type": "stream",
     "text": [
      "                Team  TotalPoints  GoalDifference\n",
      "0          Liverpool           51              32\n",
      "1           Man City           46              27\n",
      "2            Arsenal           46              23\n",
      "3        Aston Villa           43              14\n",
      "4          Tottenham           43              14\n",
      "5           West Ham           35               3\n",
      "6          Newcastle           32              11\n",
      "7           Brighton           32               1\n",
      "8         Man United           32              -5\n",
      "9            Chelsea           31               1\n",
      "10            Wolves           29              -1\n",
      "11           Everton           28              -4\n",
      "12            Fulham           25              -8\n",
      "13       Bournemouth           25             -11\n",
      "14    Crystal Palace           24             -11\n",
      "15         Brentford           22              -5\n",
      "16     Nott'm Forest           20             -13\n",
      "17             Luton           19             -10\n",
      "18           Burnley           12             -23\n",
      "19  Sheffield United           10             -35\n"
     ]
    }
   ],
   "source": [
    "# getting the league standings\n",
    "# Aggregate points for each team\n",
    "home_points = df.groupby('HomeTeam')['HomePoints'].sum().reset_index()\n",
    "away_points = df.groupby('AwayTeam')['AwayPoints'].sum().reset_index()\n",
    "\n",
    "# Merge and sum the points for total points\n",
    "points = pd.merge(home_points, away_points, left_on='HomeTeam', right_on='AwayTeam', how='outer', suffixes=('_home', '_away')).fillna(0)\n",
    "points['Team'] = points['HomeTeam'].combine_first(points['AwayTeam'])\n",
    "points['TotalPoints'] = points['HomePoints'] + points['AwayPoints']\n",
    "\n",
    "# Calculate goal difference for tiebreakers\n",
    "home_goals = df.groupby('HomeTeam').agg({'FTHG':'sum', 'FTAG':'sum'}).reset_index().rename(columns={'FTHG': 'GoalsFor_home', 'FTAG': 'GoalsAgainst_home'})\n",
    "away_goals = df.groupby('AwayTeam').agg({'FTAG':'sum', 'FTHG':'sum'}).reset_index().rename(columns={'FTAG': 'GoalsFor_away', 'FTHG': 'GoalsAgainst_away'})\n",
    "\n",
    "goals = pd.merge(home_goals, away_goals, left_on='HomeTeam', right_on='AwayTeam', how='outer', suffixes=('_home', '_away')).fillna(0)\n",
    "goals['Team'] = goals['HomeTeam'].combine_first(goals['AwayTeam'])\n",
    "goals['GoalDifference'] = (goals['GoalsFor_home'] + goals['GoalsFor_away']) - (goals['GoalsAgainst_home'] + goals['GoalsAgainst_away'])\n",
    "\n",
    "# Merge points and goals to get a complete standing\n",
    "standings = pd.merge(points[['Team', 'TotalPoints']], goals[['Team', 'GoalDifference']], on='Team')\n",
    "\n",
    "# Sort teams by Total Points and Goal Difference\n",
    "standings.sort_values(by=['TotalPoints', 'GoalDifference'], ascending=[False, False], inplace=True)\n",
    "\n",
    "# Reset index to get ranking\n",
    "standings.reset_index(drop=True, inplace=True)\n",
    "\n",
    "# Display the league standings\n",
    "print(standings.head(20))"
   ],
   "metadata": {
    "collapsed": false,
    "ExecuteTime": {
     "end_time": "2024-02-02T22:25:43.029690400Z",
     "start_time": "2024-02-02T22:25:42.936109500Z"
    }
   },
   "id": "ddae4df515f8a719",
   "execution_count": 358
  },
  {
   "cell_type": "code",
   "outputs": [
    {
     "data": {
      "text/plain": "          Date        HomeTeam          AwayTeam  FTHG  FTAG FTR  HTHG  HTAG  \\\n211 2024-01-30  Crystal Palace  Sheffield United     3     2   H     2     2   \n212 2024-01-30     Aston Villa         Newcastle     1     3   A     0     2   \n213 2024-01-31        Man City           Burnley     3     1   H     2     0   \n214 2024-01-31       Tottenham         Brentford     3     2   H     0     1   \n215 2024-01-31       Liverpool           Chelsea     4     1   H     2     0   \n\n    HTR       Referee  ...  AwayTeamRecentForm  HomeWin  AwayWin   Draw  \\\n211   D  T Harrington  ...            0.533333     True    False  False   \n212   A      J Brooks  ...            0.266667    False     True  False   \n213   H     S Barrott  ...            0.200000     True    False  False   \n214   A       D Coote  ...            0.400000     True    False  False   \n215   H     P Tierney  ...            0.066667     True    False  False   \n\n     HomePoints  AwayPoints  HomeTeamStandingBeforeMatch  \\\n211           3           0                           21   \n212           0           3                           43   \n213           3           0                           43   \n214           3           0                           40   \n215           3           0                           48   \n\n     AwayTeamStandingBeforeMatch  HomeTeamPosition  AwayTeamPosition  \n211                           10                15                20  \n212                           29                 4                 7  \n213                           12                 2                19  \n214                           22                 5                16  \n215                           31                 1                10  \n\n[5 rows x 132 columns]",
      "text/html": "<div>\n<style scoped>\n    .dataframe tbody tr th:only-of-type {\n        vertical-align: middle;\n    }\n\n    .dataframe tbody tr th {\n        vertical-align: top;\n    }\n\n    .dataframe thead th {\n        text-align: right;\n    }\n</style>\n<table border=\"1\" class=\"dataframe\">\n  <thead>\n    <tr style=\"text-align: right;\">\n      <th></th>\n      <th>Date</th>\n      <th>HomeTeam</th>\n      <th>AwayTeam</th>\n      <th>FTHG</th>\n      <th>FTAG</th>\n      <th>FTR</th>\n      <th>HTHG</th>\n      <th>HTAG</th>\n      <th>HTR</th>\n      <th>Referee</th>\n      <th>...</th>\n      <th>AwayTeamRecentForm</th>\n      <th>HomeWin</th>\n      <th>AwayWin</th>\n      <th>Draw</th>\n      <th>HomePoints</th>\n      <th>AwayPoints</th>\n      <th>HomeTeamStandingBeforeMatch</th>\n      <th>AwayTeamStandingBeforeMatch</th>\n      <th>HomeTeamPosition</th>\n      <th>AwayTeamPosition</th>\n    </tr>\n  </thead>\n  <tbody>\n    <tr>\n      <th>211</th>\n      <td>2024-01-30</td>\n      <td>Crystal Palace</td>\n      <td>Sheffield United</td>\n      <td>3</td>\n      <td>2</td>\n      <td>H</td>\n      <td>2</td>\n      <td>2</td>\n      <td>D</td>\n      <td>T Harrington</td>\n      <td>...</td>\n      <td>0.533333</td>\n      <td>True</td>\n      <td>False</td>\n      <td>False</td>\n      <td>3</td>\n      <td>0</td>\n      <td>21</td>\n      <td>10</td>\n      <td>15</td>\n      <td>20</td>\n    </tr>\n    <tr>\n      <th>212</th>\n      <td>2024-01-30</td>\n      <td>Aston Villa</td>\n      <td>Newcastle</td>\n      <td>1</td>\n      <td>3</td>\n      <td>A</td>\n      <td>0</td>\n      <td>2</td>\n      <td>A</td>\n      <td>J Brooks</td>\n      <td>...</td>\n      <td>0.266667</td>\n      <td>False</td>\n      <td>True</td>\n      <td>False</td>\n      <td>0</td>\n      <td>3</td>\n      <td>43</td>\n      <td>29</td>\n      <td>4</td>\n      <td>7</td>\n    </tr>\n    <tr>\n      <th>213</th>\n      <td>2024-01-31</td>\n      <td>Man City</td>\n      <td>Burnley</td>\n      <td>3</td>\n      <td>1</td>\n      <td>H</td>\n      <td>2</td>\n      <td>0</td>\n      <td>H</td>\n      <td>S Barrott</td>\n      <td>...</td>\n      <td>0.200000</td>\n      <td>True</td>\n      <td>False</td>\n      <td>False</td>\n      <td>3</td>\n      <td>0</td>\n      <td>43</td>\n      <td>12</td>\n      <td>2</td>\n      <td>19</td>\n    </tr>\n    <tr>\n      <th>214</th>\n      <td>2024-01-31</td>\n      <td>Tottenham</td>\n      <td>Brentford</td>\n      <td>3</td>\n      <td>2</td>\n      <td>H</td>\n      <td>0</td>\n      <td>1</td>\n      <td>A</td>\n      <td>D Coote</td>\n      <td>...</td>\n      <td>0.400000</td>\n      <td>True</td>\n      <td>False</td>\n      <td>False</td>\n      <td>3</td>\n      <td>0</td>\n      <td>40</td>\n      <td>22</td>\n      <td>5</td>\n      <td>16</td>\n    </tr>\n    <tr>\n      <th>215</th>\n      <td>2024-01-31</td>\n      <td>Liverpool</td>\n      <td>Chelsea</td>\n      <td>4</td>\n      <td>1</td>\n      <td>H</td>\n      <td>2</td>\n      <td>0</td>\n      <td>H</td>\n      <td>P Tierney</td>\n      <td>...</td>\n      <td>0.066667</td>\n      <td>True</td>\n      <td>False</td>\n      <td>False</td>\n      <td>3</td>\n      <td>0</td>\n      <td>48</td>\n      <td>31</td>\n      <td>1</td>\n      <td>10</td>\n    </tr>\n  </tbody>\n</table>\n<p>5 rows × 132 columns</p>\n</div>"
     },
     "execution_count": 359,
     "metadata": {},
     "output_type": "execute_result"
    }
   ],
   "source": [
    "# Assuming 'standings' DataFrame is already sorted by TotalPoints and GoalDifference\n",
    "\n",
    "# Add a 'Position' column based on the sorted standings\n",
    "standings['Position'] = standings.reset_index().index + 1\n",
    "\n",
    "# Create a dictionary to map team names to their positions\n",
    "team_position_map = standings.set_index('Team')['Position'].to_dict()\n",
    "\n",
    "# Map the home and away team positions for each match in the original DataFrame\n",
    "df['HomeTeamPosition'] = df['HomeTeam'].map(team_position_map)\n",
    "df['AwayTeamPosition'] = df['AwayTeam'].map(team_position_map)\n",
    "\n",
    "# Now, 'df' includes the league positions of both home and away teams for each match\n",
    "#print(df[['Date', 'HomeTeam', 'AwayTeam', 'HomeTeamPosition', 'AwayTeamPosition']].head())\n",
    "\n",
    "df.tail()\n"
   ],
   "metadata": {
    "collapsed": false,
    "ExecuteTime": {
     "end_time": "2024-02-02T22:25:43.031701400Z",
     "start_time": "2024-02-02T22:25:42.950263700Z"
    }
   },
   "id": "8c3ab04a70d38b8c",
   "execution_count": 359
  },
  {
   "cell_type": "code",
   "execution_count": 360,
   "outputs": [],
   "source": [
    "from sklearn.model_selection import train_test_split\n",
    "\n",
    "# Convert 'Date' to datetime and extract useful features\n",
    "df['Date'] = pd.to_datetime(df['Date'], format='%d/%m/%Y')\n",
    "df['DayOfWeek'] = df['Date'].dt.dayofweek  # 0: Monday, 6: Sunday\n",
    "df['IsWeekend'] = df['DayOfWeek'].isin([5, 6]).astype(int)  # 1 for weekend, 0 for weekdays\n",
    "\n"
   ],
   "metadata": {
    "collapsed": false,
    "ExecuteTime": {
     "end_time": "2024-02-02T22:25:43.085225200Z",
     "start_time": "2024-02-02T22:25:42.968666600Z"
    }
   },
   "id": "e80b6e05d39f4181"
  },
  {
   "cell_type": "code",
   "outputs": [],
   "source": [],
   "metadata": {
    "collapsed": false,
    "ExecuteTime": {
     "end_time": "2024-02-02T22:25:43.087226600Z",
     "start_time": "2024-02-02T22:25:42.983034500Z"
    }
   },
   "id": "3df868f314128140",
   "execution_count": 360
  },
  {
   "cell_type": "code",
   "outputs": [],
   "source": [
    "#select relevant columns or features and the target\n",
    "features = [\n",
    "    'HomeTeam_encoded', 'AwayTeam_encoded', 'HomeTeamRecentForm', 'AwayTeamRecentForm', \n",
    "    'HomeTeamAvgGoals', 'AwayTeamAvgGoals', 'HomeTeamPoints', 'AwayTeamPoints', 'HomeGoalsScoredVariance', 'AwayGoalsScoredVariance', 'HomeGoalsScoredAvg_3', 'AwayGoalsScoredAvg_3', 'HomeGoalsConcededAvg_3', 'AwayGoalsConcededAvg_3', 'HomeGoalsScoredAvg_5', 'AwayGoalsScoredAvg_5', 'HomeGoalsConcededAvg_5', 'AwayGoalsConcededAvg_5', 'HomeTeamPosition', 'AwayTeamPosition', 'HomeTeamStandingBeforeMatch', 'AwayTeamStandingBeforeMatch',\n",
    "]\n",
    "\n",
    "target = 'FTR_encoded'\n",
    "\n",
    "# Split the data into training and test sets\n",
    "X = df[features]\n",
    "y = df[target]\n",
    "\n",
    "X_train, X_test, y_train, y_test = train_test_split(X, y, test_size=0.2, random_state=42)\n",
    "train_test_split(X, y, test_size=0.2, random_state=42)\n",
    "\n",
    "# Previewing the processed features\n",
    "X_train.head(7), y_train.head(7)\n",
    "\n",
    "# encoding the categorical variables\n",
    "from sklearn.preprocessing import LabelEncoder\n",
    "\n",
    "# Initialize the LabelEncoder\n",
    "label_encoder = LabelEncoder()\n",
    "\n",
    "# Fit and transform the target variable using label_encoder_y\n",
    "y_train_encoded = label_encoder.fit_transform(y_train)\n",
    "y_test_encoded = label_encoder.transform(y_test)\n"
   ],
   "metadata": {
    "collapsed": false,
    "ExecuteTime": {
     "end_time": "2024-02-02T22:25:43.153962900Z",
     "start_time": "2024-02-02T22:25:43.004844Z"
    }
   },
   "id": "5c1fefe366e02665",
   "execution_count": 361
  },
  {
   "cell_type": "code",
   "outputs": [],
   "source": [
    "# scaling the features\n",
    "from sklearn.preprocessing import StandardScaler\n",
    "\n",
    "# Initialize the StandardScaler\n",
    "scaler = StandardScaler()\n",
    "\n",
    "# Fit the StandardScaler\n",
    "scaler.fit(X_train)\n",
    "\n",
    "# Transform both the training and testing sets\n",
    "X_train_scaled = scaler.transform(X_train)\n",
    "X_test_scaled = scaler.transform(X_test)\n",
    "\n"
   ],
   "metadata": {
    "collapsed": false,
    "ExecuteTime": {
     "end_time": "2024-02-02T22:25:43.333515700Z",
     "start_time": "2024-02-02T22:25:43.130240600Z"
    }
   },
   "id": "474e0ec0b8de5c52",
   "execution_count": 362
  },
  {
   "cell_type": "markdown",
   "source": [
    "### Create Model\n"
   ],
   "metadata": {
    "collapsed": false
   },
   "id": "e1ad0e76308763b7"
  },
  {
   "cell_type": "code",
   "execution_count": 363,
   "outputs": [
    {
     "name": "stdout",
     "output_type": "stream",
     "text": [
      "[LightGBM] [Info] Auto-choosing col-wise multi-threading, the overhead of testing was 0.000117 seconds.\n",
      "You can set `force_col_wise=true` to remove the overhead.\n",
      "[LightGBM] [Info] Total Bins 494\n",
      "[LightGBM] [Info] Number of data points in the train set: 172, number of used features: 22\n",
      "[LightGBM] [Info] Start training from score -0.988611\n",
      "[LightGBM] [Info] Start training from score -1.681759\n",
      "[LightGBM] [Info] Start training from score -0.816761\n",
      "[LightGBM] [Warning] No further splits with positive gain, best gain: -inf\n",
      "[LightGBM] [Warning] No further splits with positive gain, best gain: -inf\n",
      "[LightGBM] [Warning] No further splits with positive gain, best gain: -inf\n",
      "[LightGBM] [Warning] No further splits with positive gain, best gain: -inf\n",
      "[LightGBM] [Warning] No further splits with positive gain, best gain: -inf\n",
      "[LightGBM] [Warning] No further splits with positive gain, best gain: -inf\n",
      "[LightGBM] [Warning] No further splits with positive gain, best gain: -inf\n",
      "[LightGBM] [Warning] No further splits with positive gain, best gain: -inf\n",
      "[LightGBM] [Warning] No further splits with positive gain, best gain: -inf\n",
      "[LightGBM] [Warning] No further splits with positive gain, best gain: -inf\n",
      "[LightGBM] [Warning] No further splits with positive gain, best gain: -inf\n",
      "[LightGBM] [Warning] No further splits with positive gain, best gain: -inf\n",
      "[LightGBM] [Warning] No further splits with positive gain, best gain: -inf\n",
      "[LightGBM] [Warning] No further splits with positive gain, best gain: -inf\n",
      "[LightGBM] [Warning] No further splits with positive gain, best gain: -inf\n",
      "[LightGBM] [Warning] No further splits with positive gain, best gain: -inf\n",
      "[LightGBM] [Warning] No further splits with positive gain, best gain: -inf\n",
      "[LightGBM] [Warning] No further splits with positive gain, best gain: -inf\n",
      "[LightGBM] [Warning] No further splits with positive gain, best gain: -inf\n",
      "[LightGBM] [Warning] No further splits with positive gain, best gain: -inf\n",
      "[LightGBM] [Warning] No further splits with positive gain, best gain: -inf\n",
      "[LightGBM] [Warning] No further splits with positive gain, best gain: -inf\n",
      "[LightGBM] [Warning] No further splits with positive gain, best gain: -inf\n",
      "[LightGBM] [Warning] No further splits with positive gain, best gain: -inf\n",
      "[LightGBM] [Warning] No further splits with positive gain, best gain: -inf\n",
      "[LightGBM] [Warning] No further splits with positive gain, best gain: -inf\n",
      "[LightGBM] [Warning] No further splits with positive gain, best gain: -inf\n",
      "[LightGBM] [Warning] No further splits with positive gain, best gain: -inf\n",
      "[LightGBM] [Warning] No further splits with positive gain, best gain: -inf\n",
      "[LightGBM] [Warning] No further splits with positive gain, best gain: -inf\n",
      "[LightGBM] [Warning] No further splits with positive gain, best gain: -inf\n",
      "[LightGBM] [Warning] No further splits with positive gain, best gain: -inf\n",
      "[LightGBM] [Warning] No further splits with positive gain, best gain: -inf\n",
      "[LightGBM] [Warning] No further splits with positive gain, best gain: -inf\n",
      "[LightGBM] [Warning] No further splits with positive gain, best gain: -inf\n",
      "[LightGBM] [Warning] No further splits with positive gain, best gain: -inf\n",
      "[LightGBM] [Warning] No further splits with positive gain, best gain: -inf\n",
      "[LightGBM] [Warning] No further splits with positive gain, best gain: -inf\n",
      "[LightGBM] [Warning] No further splits with positive gain, best gain: -inf\n",
      "[LightGBM] [Warning] No further splits with positive gain, best gain: -inf\n",
      "[LightGBM] [Warning] No further splits with positive gain, best gain: -inf\n",
      "[LightGBM] [Warning] No further splits with positive gain, best gain: -inf\n",
      "[LightGBM] [Warning] No further splits with positive gain, best gain: -inf\n",
      "[LightGBM] [Warning] No further splits with positive gain, best gain: -inf\n",
      "[LightGBM] [Warning] No further splits with positive gain, best gain: -inf\n",
      "[LightGBM] [Warning] No further splits with positive gain, best gain: -inf\n",
      "[LightGBM] [Warning] No further splits with positive gain, best gain: -inf\n",
      "[LightGBM] [Warning] No further splits with positive gain, best gain: -inf\n",
      "[LightGBM] [Warning] No further splits with positive gain, best gain: -inf\n",
      "[LightGBM] [Warning] No further splits with positive gain, best gain: -inf\n",
      "[LightGBM] [Warning] No further splits with positive gain, best gain: -inf\n",
      "[LightGBM] [Warning] No further splits with positive gain, best gain: -inf\n",
      "[LightGBM] [Warning] No further splits with positive gain, best gain: -inf\n",
      "[LightGBM] [Warning] No further splits with positive gain, best gain: -inf\n",
      "[LightGBM] [Warning] No further splits with positive gain, best gain: -inf\n",
      "[LightGBM] [Warning] No further splits with positive gain, best gain: -inf\n",
      "[LightGBM] [Warning] No further splits with positive gain, best gain: -inf\n",
      "[LightGBM] [Warning] No further splits with positive gain, best gain: -inf\n",
      "[LightGBM] [Warning] No further splits with positive gain, best gain: -inf\n",
      "[LightGBM] [Warning] No further splits with positive gain, best gain: -inf\n",
      "[LightGBM] [Warning] No further splits with positive gain, best gain: -inf\n",
      "[LightGBM] [Warning] No further splits with positive gain, best gain: -inf\n",
      "[LightGBM] [Warning] No further splits with positive gain, best gain: -inf\n",
      "[LightGBM] [Warning] No further splits with positive gain, best gain: -inf\n",
      "[LightGBM] [Warning] No further splits with positive gain, best gain: -inf\n",
      "[LightGBM] [Warning] No further splits with positive gain, best gain: -inf\n",
      "[LightGBM] [Warning] No further splits with positive gain, best gain: -inf\n",
      "[LightGBM] [Warning] No further splits with positive gain, best gain: -inf\n",
      "[LightGBM] [Warning] No further splits with positive gain, best gain: -inf\n",
      "[LightGBM] [Warning] No further splits with positive gain, best gain: -inf\n",
      "[LightGBM] [Warning] No further splits with positive gain, best gain: -inf\n",
      "[LightGBM] [Warning] No further splits with positive gain, best gain: -inf\n",
      "[LightGBM] [Warning] No further splits with positive gain, best gain: -inf\n",
      "[LightGBM] [Warning] No further splits with positive gain, best gain: -inf\n",
      "[LightGBM] [Warning] No further splits with positive gain, best gain: -inf\n",
      "[LightGBM] [Warning] No further splits with positive gain, best gain: -inf\n",
      "[LightGBM] [Warning] No further splits with positive gain, best gain: -inf\n",
      "[LightGBM] [Warning] No further splits with positive gain, best gain: -inf\n",
      "[LightGBM] [Warning] No further splits with positive gain, best gain: -inf\n",
      "[LightGBM] [Warning] No further splits with positive gain, best gain: -inf\n",
      "[LightGBM] [Warning] No further splits with positive gain, best gain: -inf\n",
      "[LightGBM] [Warning] No further splits with positive gain, best gain: -inf\n",
      "[LightGBM] [Warning] No further splits with positive gain, best gain: -inf\n",
      "[LightGBM] [Warning] No further splits with positive gain, best gain: -inf\n",
      "[LightGBM] [Warning] No further splits with positive gain, best gain: -inf\n",
      "[LightGBM] [Warning] No further splits with positive gain, best gain: -inf\n",
      "[LightGBM] [Warning] No further splits with positive gain, best gain: -inf\n",
      "[LightGBM] [Warning] No further splits with positive gain, best gain: -inf\n",
      "[LightGBM] [Warning] No further splits with positive gain, best gain: -inf\n",
      "[LightGBM] [Warning] No further splits with positive gain, best gain: -inf\n",
      "[LightGBM] [Warning] No further splits with positive gain, best gain: -inf\n",
      "[LightGBM] [Warning] No further splits with positive gain, best gain: -inf\n",
      "[LightGBM] [Warning] No further splits with positive gain, best gain: -inf\n",
      "[LightGBM] [Warning] No further splits with positive gain, best gain: -inf\n",
      "[LightGBM] [Warning] No further splits with positive gain, best gain: -inf\n",
      "[LightGBM] [Warning] No further splits with positive gain, best gain: -inf\n",
      "[LightGBM] [Warning] No further splits with positive gain, best gain: -inf\n",
      "[LightGBM] [Warning] No further splits with positive gain, best gain: -inf\n",
      "[LightGBM] [Warning] No further splits with positive gain, best gain: -inf\n",
      "[LightGBM] [Warning] No further splits with positive gain, best gain: -inf\n",
      "[LightGBM] [Warning] No further splits with positive gain, best gain: -inf\n",
      "[LightGBM] [Warning] No further splits with positive gain, best gain: -inf\n",
      "[LightGBM] [Warning] No further splits with positive gain, best gain: -inf\n",
      "[LightGBM] [Warning] No further splits with positive gain, best gain: -inf\n",
      "[LightGBM] [Warning] No further splits with positive gain, best gain: -inf\n",
      "[LightGBM] [Warning] No further splits with positive gain, best gain: -inf\n",
      "[LightGBM] [Warning] No further splits with positive gain, best gain: -inf\n",
      "[LightGBM] [Warning] No further splits with positive gain, best gain: -inf\n",
      "[LightGBM] [Warning] No further splits with positive gain, best gain: -inf\n",
      "[LightGBM] [Warning] No further splits with positive gain, best gain: -inf\n",
      "[LightGBM] [Warning] No further splits with positive gain, best gain: -inf\n",
      "[LightGBM] [Warning] No further splits with positive gain, best gain: -inf\n",
      "[LightGBM] [Warning] No further splits with positive gain, best gain: -inf\n",
      "[LightGBM] [Warning] No further splits with positive gain, best gain: -inf\n",
      "[LightGBM] [Warning] No further splits with positive gain, best gain: -inf\n",
      "[LightGBM] [Warning] No further splits with positive gain, best gain: -inf\n",
      "[LightGBM] [Warning] No further splits with positive gain, best gain: -inf\n",
      "[LightGBM] [Warning] No further splits with positive gain, best gain: -inf\n",
      "[LightGBM] [Warning] No further splits with positive gain, best gain: -inf\n",
      "[LightGBM] [Warning] No further splits with positive gain, best gain: -inf\n",
      "[LightGBM] [Warning] No further splits with positive gain, best gain: -inf\n",
      "[LightGBM] [Warning] No further splits with positive gain, best gain: -inf\n",
      "[LightGBM] [Warning] No further splits with positive gain, best gain: -inf\n",
      "[LightGBM] [Warning] No further splits with positive gain, best gain: -inf\n",
      "[LightGBM] [Warning] No further splits with positive gain, best gain: -inf\n",
      "[LightGBM] [Warning] No further splits with positive gain, best gain: -inf\n",
      "[LightGBM] [Warning] No further splits with positive gain, best gain: -inf\n",
      "[LightGBM] [Warning] No further splits with positive gain, best gain: -inf\n",
      "[LightGBM] [Warning] No further splits with positive gain, best gain: -inf\n",
      "[LightGBM] [Warning] No further splits with positive gain, best gain: -inf\n",
      "[LightGBM] [Warning] No further splits with positive gain, best gain: -inf\n",
      "[LightGBM] [Warning] No further splits with positive gain, best gain: -inf\n",
      "[LightGBM] [Warning] No further splits with positive gain, best gain: -inf\n",
      "[LightGBM] [Warning] No further splits with positive gain, best gain: -inf\n",
      "[LightGBM] [Warning] No further splits with positive gain, best gain: -inf\n",
      "[LightGBM] [Warning] No further splits with positive gain, best gain: -inf\n",
      "[LightGBM] [Warning] No further splits with positive gain, best gain: -inf\n",
      "[LightGBM] [Warning] No further splits with positive gain, best gain: -inf\n",
      "[LightGBM] [Warning] No further splits with positive gain, best gain: -inf\n",
      "[LightGBM] [Warning] No further splits with positive gain, best gain: -inf\n",
      "[LightGBM] [Warning] No further splits with positive gain, best gain: -inf\n",
      "[LightGBM] [Warning] No further splits with positive gain, best gain: -inf\n",
      "[LightGBM] [Warning] No further splits with positive gain, best gain: -inf\n",
      "[LightGBM] [Warning] No further splits with positive gain, best gain: -inf\n",
      "[LightGBM] [Warning] No further splits with positive gain, best gain: -inf\n",
      "[LightGBM] [Warning] No further splits with positive gain, best gain: -inf\n",
      "[LightGBM] [Warning] No further splits with positive gain, best gain: -inf\n",
      "[LightGBM] [Warning] No further splits with positive gain, best gain: -inf\n",
      "[LightGBM] [Warning] No further splits with positive gain, best gain: -inf\n",
      "[LightGBM] [Warning] No further splits with positive gain, best gain: -inf\n",
      "[LightGBM] [Warning] No further splits with positive gain, best gain: -inf\n",
      "[LightGBM] [Warning] No further splits with positive gain, best gain: -inf\n",
      "[LightGBM] [Warning] No further splits with positive gain, best gain: -inf\n",
      "[LightGBM] [Warning] No further splits with positive gain, best gain: -inf\n",
      "[LightGBM] [Warning] No further splits with positive gain, best gain: -inf\n",
      "[LightGBM] [Warning] No further splits with positive gain, best gain: -inf\n",
      "[LightGBM] [Warning] No further splits with positive gain, best gain: -inf\n",
      "[LightGBM] [Warning] No further splits with positive gain, best gain: -inf\n",
      "[LightGBM] [Warning] No further splits with positive gain, best gain: -inf\n",
      "[LightGBM] [Warning] No further splits with positive gain, best gain: -inf\n",
      "[LightGBM] [Warning] No further splits with positive gain, best gain: -inf\n",
      "[LightGBM] [Warning] No further splits with positive gain, best gain: -inf\n",
      "[LightGBM] [Warning] No further splits with positive gain, best gain: -inf\n",
      "[LightGBM] [Warning] No further splits with positive gain, best gain: -inf\n",
      "[LightGBM] [Warning] No further splits with positive gain, best gain: -inf\n",
      "[LightGBM] [Warning] No further splits with positive gain, best gain: -inf\n",
      "[LightGBM] [Warning] No further splits with positive gain, best gain: -inf\n",
      "[LightGBM] [Warning] No further splits with positive gain, best gain: -inf\n",
      "[LightGBM] [Warning] No further splits with positive gain, best gain: -inf\n",
      "[LightGBM] [Warning] No further splits with positive gain, best gain: -inf\n",
      "[LightGBM] [Warning] No further splits with positive gain, best gain: -inf\n",
      "[LightGBM] [Warning] No further splits with positive gain, best gain: -inf\n",
      "[LightGBM] [Warning] No further splits with positive gain, best gain: -inf\n",
      "[LightGBM] [Warning] No further splits with positive gain, best gain: -inf\n",
      "[LightGBM] [Warning] No further splits with positive gain, best gain: -inf\n",
      "[LightGBM] [Warning] No further splits with positive gain, best gain: -inf\n",
      "[LightGBM] [Warning] No further splits with positive gain, best gain: -inf\n",
      "[LightGBM] [Warning] No further splits with positive gain, best gain: -inf\n",
      "[LightGBM] [Warning] No further splits with positive gain, best gain: -inf\n",
      "[LightGBM] [Warning] No further splits with positive gain, best gain: -inf\n",
      "[LightGBM] [Warning] No further splits with positive gain, best gain: -inf\n",
      "[LightGBM] [Warning] No further splits with positive gain, best gain: -inf\n",
      "[LightGBM] [Warning] No further splits with positive gain, best gain: -inf\n",
      "[LightGBM] [Warning] No further splits with positive gain, best gain: -inf\n",
      "[LightGBM] [Warning] No further splits with positive gain, best gain: -inf\n",
      "[LightGBM] [Warning] No further splits with positive gain, best gain: -inf\n",
      "[LightGBM] [Warning] No further splits with positive gain, best gain: -inf\n",
      "[LightGBM] [Warning] No further splits with positive gain, best gain: -inf\n",
      "[LightGBM] [Warning] No further splits with positive gain, best gain: -inf\n",
      "[LightGBM] [Warning] No further splits with positive gain, best gain: -inf\n",
      "[LightGBM] [Warning] No further splits with positive gain, best gain: -inf\n",
      "[LightGBM] [Warning] No further splits with positive gain, best gain: -inf\n",
      "[LightGBM] [Warning] No further splits with positive gain, best gain: -inf\n",
      "[LightGBM] [Warning] No further splits with positive gain, best gain: -inf\n",
      "[LightGBM] [Warning] No further splits with positive gain, best gain: -inf\n",
      "[LightGBM] [Warning] No further splits with positive gain, best gain: -inf\n",
      "[LightGBM] [Warning] No further splits with positive gain, best gain: -inf\n",
      "[LightGBM] [Warning] No further splits with positive gain, best gain: -inf\n",
      "[LightGBM] [Warning] No further splits with positive gain, best gain: -inf\n",
      "[LightGBM] [Warning] No further splits with positive gain, best gain: -inf\n",
      "[LightGBM] [Warning] No further splits with positive gain, best gain: -inf\n",
      "[LightGBM] [Warning] No further splits with positive gain, best gain: -inf\n",
      "[LightGBM] [Warning] No further splits with positive gain, best gain: -inf\n",
      "[LightGBM] [Warning] No further splits with positive gain, best gain: -inf\n",
      "[LightGBM] [Warning] No further splits with positive gain, best gain: -inf\n",
      "[LightGBM] [Warning] No further splits with positive gain, best gain: -inf\n",
      "[LightGBM] [Warning] No further splits with positive gain, best gain: -inf\n",
      "[LightGBM] [Warning] No further splits with positive gain, best gain: -inf\n",
      "[LightGBM] [Warning] No further splits with positive gain, best gain: -inf\n",
      "[LightGBM] [Warning] No further splits with positive gain, best gain: -inf\n",
      "[LightGBM] [Warning] No further splits with positive gain, best gain: -inf\n",
      "[LightGBM] [Warning] No further splits with positive gain, best gain: -inf\n",
      "[LightGBM] [Warning] No further splits with positive gain, best gain: -inf\n",
      "[LightGBM] [Warning] No further splits with positive gain, best gain: -inf\n",
      "[LightGBM] [Warning] No further splits with positive gain, best gain: -inf\n",
      "[LightGBM] [Warning] No further splits with positive gain, best gain: -inf\n",
      "[LightGBM] [Warning] No further splits with positive gain, best gain: -inf\n",
      "[LightGBM] [Warning] No further splits with positive gain, best gain: -inf\n",
      "[LightGBM] [Warning] No further splits with positive gain, best gain: -inf\n",
      "[LightGBM] [Warning] No further splits with positive gain, best gain: -inf\n",
      "[LightGBM] [Warning] No further splits with positive gain, best gain: -inf\n",
      "[LightGBM] [Warning] No further splits with positive gain, best gain: -inf\n",
      "[LightGBM] [Warning] No further splits with positive gain, best gain: -inf\n",
      "[LightGBM] [Warning] No further splits with positive gain, best gain: -inf\n",
      "[LightGBM] [Warning] No further splits with positive gain, best gain: -inf\n",
      "[LightGBM] [Warning] No further splits with positive gain, best gain: -inf\n",
      "[LightGBM] [Warning] No further splits with positive gain, best gain: -inf\n",
      "[LightGBM] [Warning] No further splits with positive gain, best gain: -inf\n",
      "[LightGBM] [Warning] No further splits with positive gain, best gain: -inf\n",
      "[LightGBM] [Warning] No further splits with positive gain, best gain: -inf\n",
      "[LightGBM] [Warning] No further splits with positive gain, best gain: -inf\n",
      "[LightGBM] [Warning] No further splits with positive gain, best gain: -inf\n",
      "[LightGBM] [Warning] No further splits with positive gain, best gain: -inf\n",
      "[LightGBM] [Warning] No further splits with positive gain, best gain: -inf\n",
      "[LightGBM] [Warning] No further splits with positive gain, best gain: -inf\n",
      "[LightGBM] [Warning] No further splits with positive gain, best gain: -inf\n",
      "[LightGBM] [Warning] No further splits with positive gain, best gain: -inf\n",
      "[LightGBM] [Warning] No further splits with positive gain, best gain: -inf\n",
      "[LightGBM] [Warning] No further splits with positive gain, best gain: -inf\n",
      "[LightGBM] [Warning] No further splits with positive gain, best gain: -inf\n",
      "[LightGBM] [Warning] No further splits with positive gain, best gain: -inf\n",
      "[LightGBM] [Warning] No further splits with positive gain, best gain: -inf\n",
      "[LightGBM] [Warning] No further splits with positive gain, best gain: -inf\n",
      "[LightGBM] [Warning] No further splits with positive gain, best gain: -inf\n",
      "[LightGBM] [Warning] No further splits with positive gain, best gain: -inf\n",
      "[LightGBM] [Warning] No further splits with positive gain, best gain: -inf\n",
      "[LightGBM] [Warning] No further splits with positive gain, best gain: -inf\n",
      "[LightGBM] [Warning] No further splits with positive gain, best gain: -inf\n",
      "[LightGBM] [Warning] No further splits with positive gain, best gain: -inf\n",
      "[LightGBM] [Warning] No further splits with positive gain, best gain: -inf\n",
      "[LightGBM] [Warning] No further splits with positive gain, best gain: -inf\n",
      "[LightGBM] [Warning] No further splits with positive gain, best gain: -inf\n",
      "[LightGBM] [Warning] No further splits with positive gain, best gain: -inf\n",
      "[LightGBM] [Warning] No further splits with positive gain, best gain: -inf\n",
      "[LightGBM] [Warning] No further splits with positive gain, best gain: -inf\n",
      "[LightGBM] [Warning] No further splits with positive gain, best gain: -inf\n",
      "[LightGBM] [Warning] No further splits with positive gain, best gain: -inf\n",
      "[LightGBM] [Warning] No further splits with positive gain, best gain: -inf\n",
      "[LightGBM] [Warning] No further splits with positive gain, best gain: -inf\n",
      "[LightGBM] [Warning] No further splits with positive gain, best gain: -inf\n",
      "[LightGBM] [Warning] No further splits with positive gain, best gain: -inf\n",
      "[LightGBM] [Warning] No further splits with positive gain, best gain: -inf\n",
      "[LightGBM] [Warning] No further splits with positive gain, best gain: -inf\n",
      "[LightGBM] [Warning] No further splits with positive gain, best gain: -inf\n",
      "[LightGBM] [Warning] No further splits with positive gain, best gain: -inf\n",
      "[LightGBM] [Warning] No further splits with positive gain, best gain: -inf\n",
      "[LightGBM] [Warning] No further splits with positive gain, best gain: -inf\n",
      "[LightGBM] [Warning] No further splits with positive gain, best gain: -inf\n",
      "[LightGBM] [Warning] No further splits with positive gain, best gain: -inf\n",
      "[LightGBM] [Warning] No further splits with positive gain, best gain: -inf\n",
      "[LightGBM] [Warning] No further splits with positive gain, best gain: -inf\n",
      "[LightGBM] [Warning] No further splits with positive gain, best gain: -inf\n",
      "[LightGBM] [Warning] No further splits with positive gain, best gain: -inf\n",
      "[LightGBM] [Warning] No further splits with positive gain, best gain: -inf\n",
      "[LightGBM] [Warning] No further splits with positive gain, best gain: -inf\n",
      "[LightGBM] [Warning] No further splits with positive gain, best gain: -inf\n",
      "[LightGBM] [Warning] No further splits with positive gain, best gain: -inf\n",
      "[LightGBM] [Warning] No further splits with positive gain, best gain: -inf\n",
      "[LightGBM] [Warning] No further splits with positive gain, best gain: -inf\n",
      "[LightGBM] [Warning] No further splits with positive gain, best gain: -inf\n",
      "[LightGBM] [Warning] No further splits with positive gain, best gain: -inf\n",
      "[LightGBM] [Warning] No further splits with positive gain, best gain: -inf\n",
      "[LightGBM] [Warning] No further splits with positive gain, best gain: -inf\n",
      "[LightGBM] [Warning] No further splits with positive gain, best gain: -inf\n",
      "[LightGBM] [Warning] No further splits with positive gain, best gain: -inf\n",
      "[LightGBM] [Warning] No further splits with positive gain, best gain: -inf\n",
      "[LightGBM] [Warning] No further splits with positive gain, best gain: -inf\n",
      "[LightGBM] [Warning] No further splits with positive gain, best gain: -inf\n",
      "[LightGBM] [Warning] No further splits with positive gain, best gain: -inf\n",
      "[LightGBM] [Warning] No further splits with positive gain, best gain: -inf\n",
      "[LightGBM] [Warning] No further splits with positive gain, best gain: -inf\n",
      "[LightGBM] [Warning] No further splits with positive gain, best gain: -inf\n",
      "[LightGBM] [Warning] No further splits with positive gain, best gain: -inf\n",
      "[LightGBM] [Warning] No further splits with positive gain, best gain: -inf\n",
      "[LightGBM] [Warning] No further splits with positive gain, best gain: -inf\n",
      "[LightGBM] [Warning] No further splits with positive gain, best gain: -inf\n",
      "[LightGBM] [Warning] No further splits with positive gain, best gain: -inf\n",
      "[LightGBM] [Warning] No further splits with positive gain, best gain: -inf\n",
      "[LightGBM] [Warning] No further splits with positive gain, best gain: -inf\n",
      "[LightGBM] [Warning] No further splits with positive gain, best gain: -inf\n"
     ]
    },
    {
     "data": {
      "text/plain": "<catboost.core.CatBoostClassifier at 0x26a83ae9050>"
     },
     "execution_count": 363,
     "metadata": {},
     "output_type": "execute_result"
    }
   ],
   "source": [
    "from sklearn.ensemble import RandomForestClassifier, AdaBoostClassifier\n",
    "from xgboost import XGBClassifier\n",
    "from lightgbm import LGBMClassifier\n",
    "from catboost import CatBoostClassifier\n",
    "from sklearn.metrics import accuracy_score, precision_score, recall_score, f1_score\n",
    "\n",
    "# Initialize the models\n",
    "rf_model = RandomForestClassifier(random_state=42)\n",
    "xgb_model = XGBClassifier(random_state=42, use_label_encoder=False, eval_metric='mlogloss')\n",
    "lgbm_model = LGBMClassifier(random_state=42)   \n",
    "catboost_model = CatBoostClassifier(random_state=42, verbose=False)\n",
    "\n",
    "\n",
    "# Train the models\n",
    "#rf_model.fit(X_train, y_train_encoded)\n",
    "xgb_model.fit(X_train_scaled, y_train_encoded)\n",
    "lgbm_model.fit(X_train_scaled, y_train_encoded)\n",
    "catboost_model.fit(X_train_scaled, y_train_encoded)\n",
    "\n",
    "\n",
    "\n",
    "\n",
    "\n"
   ],
   "metadata": {
    "collapsed": false,
    "ExecuteTime": {
     "end_time": "2024-02-02T22:25:53.621878500Z",
     "start_time": "2024-02-02T22:25:43.306502Z"
    }
   },
   "id": "8b40589ac3bdd675"
  },
  {
   "cell_type": "code",
   "outputs": [
    {
     "name": "stdout",
     "output_type": "stream",
     "text": [
      "XGBoost Model Metrics\n",
      "Accuracy: 0.5681818181818182\n",
      "Precision: 0.41568627450980394\n",
      "Recall: 0.4130190796857463\n",
      "F1 Score: 0.40331594634873325\n",
      "ROC AUC: 0.590347923681257\n",
      "\n",
      "\n",
      "LightGBM Model Metrics\n",
      "Accuracy: 0.6136363636363636\n",
      "Precision: 0.20930232558139536\n",
      "Recall: 0.3333333333333333\n",
      "F1 Score: 0.2571428571428572\n",
      "ROC AUC: 0.5726711560044894\n",
      "\n",
      "\n",
      "CatBoost Model Metrics\n",
      "Accuracy: 0.6136363636363636\n",
      "Precision: 0.3729166666666666\n",
      "Recall: 0.5061728395061729\n",
      "F1 Score: 0.42655367231638414\n",
      "ROC AUC: 0.650579872802095\n"
     ]
    }
   ],
   "source": [
    "from sklearn.metrics import roc_auc_score\n",
    "\n",
    "#evaluate the models using the metrics\n",
    "models = [ xgb_model, lgbm_model, catboost_model]\n",
    "model_names = [ 'XGBoost', 'LightGBM', 'CatBoost']\n",
    "\n",
    "# Calculate ROC AUC Score\n",
    "\n",
    "for model, name in zip(models, model_names):\n",
    "    # Predict class labels for the test set\n",
    "    y_pred = model.predict(X_test)\n",
    "    \n",
    "    # Get probabilities instead of predicted labels for ROC AUC\n",
    "    y_prob = model.predict_proba(X_test)\n",
    "    \n",
    "    # Calculate metrics\n",
    "    accuracy = accuracy_score(y_test, y_pred)\n",
    "    precision = precision_score(y_test, y_pred, average='macro', zero_division=0)\n",
    "    recall = recall_score(y_test, y_pred, average='macro', zero_division=0)\n",
    "    f1 = f1_score(y_test, y_pred, average='macro', zero_division=0)\n",
    "    \n",
    "    # Calculate ROC AUC score using probabilities\n",
    "    # Note: Ensure y_test is properly encoded if necessary\n",
    "    roc_auc = roc_auc_score(y_test, y_prob, multi_class='ovo')\n",
    "    \n",
    "    print(f\"{name} Model Metrics\")\n",
    "    print(f\"Accuracy: {accuracy}\")\n",
    "    print(f\"Precision: {precision}\")\n",
    "    print(f\"Recall: {recall}\")\n",
    "    print(f\"F1 Score: {f1}\")\n",
    "    print(f\"ROC AUC: {roc_auc}\")\n",
    "    print(\"\\n\")\n",
    "    \n",
    "    "
   ],
   "metadata": {
    "collapsed": false,
    "ExecuteTime": {
     "end_time": "2024-02-02T22:25:53.720729100Z",
     "start_time": "2024-02-02T22:25:53.619331800Z"
    }
   },
   "id": "70ee9938150d56d0",
   "execution_count": 364
  },
  {
   "cell_type": "markdown",
   "source": [
    "# Feature Importance with recursive feature elimination"
   ],
   "metadata": {
    "collapsed": false
   },
   "id": "bc948154c714130"
  },
  {
   "cell_type": "code",
   "outputs": [
    {
     "name": "stdout",
     "output_type": "stream",
     "text": [
      "Selected features: ['AwayTeam_encoded', 'AwayTeamPoints', 'HomeGoalsScoredAvg_3', 'AwayGoalsScoredAvg_3', 'HomeGoalsConcededAvg_3', 'AwayGoalsConcededAvg_3', 'HomeGoalsScoredAvg_5', 'AwayGoalsConcededAvg_5', 'AwayTeamPosition', 'HomeTeamStandingBeforeMatch']\n",
      "Feature rankings: [ 2  1 10  7  5 12  9  1  4  6  1  1  1  1  1  3  8  1 11  1  1 13]\n"
     ]
    }
   ],
   "source": [
    "from sklearn.feature_selection import RFE\n",
    "import xgboost as xgb\n",
    "\n",
    "# Assuming X_train is your features DataFrame and y_train is the target series\n",
    "xgb_estimator = xgb.XGBClassifier(objective='binary:logistic', eval_metric='logloss', use_label_encoder=False)\n",
    "\n",
    "# Create the RFE object and rank each feature\n",
    "rfe = RFE(estimator=xgb_estimator, n_features_to_select=10, step=1)\n",
    "rfe.fit(X_train, y_train)\n",
    "\n",
    "# Selected features are marked as True in rfe.support_ and their ranking is in rfe.ranking_\n",
    "print('Selected features:', list(X_train.columns[rfe.support_]))\n",
    "print('Feature rankings:', rfe.ranking_)\n"
   ],
   "metadata": {
    "collapsed": false,
    "ExecuteTime": {
     "end_time": "2024-02-02T22:34:09.018176700Z",
     "start_time": "2024-02-02T22:33:57.656055Z"
    }
   },
   "id": "f17f5a2bea1d927d",
   "execution_count": 383
  },
  {
   "cell_type": "code",
   "outputs": [
    {
     "name": "stdout",
     "output_type": "stream",
     "text": [
      "Selected features: ['HomeTeam_encoded', 'AwayGoalsScoredVariance', 'HomeGoalsScoredAvg_3', 'AwayGoalsScoredAvg_3', 'HomeGoalsConcededAvg_3', 'AwayGoalsConcededAvg_3', 'HomeGoalsScoredAvg_5', 'HomeGoalsConcededAvg_5', 'AwayGoalsConcededAvg_5', 'AwayTeamStandingBeforeMatch']\n",
      "Feature rankings: [ 1  5  3 13  6 11 12  9  2  1  1  1  1  1  1  8  1  1  7  4 10  1]\n"
     ]
    }
   ],
   "source": [
    "from sklearn.feature_selection import RFE\n",
    "from catboost import CatBoostClassifier\n",
    "\n",
    "# Assuming X_train is your features DataFrame and y_train is the target series\n",
    "cat_estimator = CatBoostClassifier(verbose=0)\n",
    "\n",
    "# Create the RFE object and rank each feature\n",
    "rfe = RFE(estimator=cat_estimator, n_features_to_select=10, step=1)\n",
    "rfe.fit(X_train, y_train)\n",
    "\n",
    "# Selected features are marked as True in rfe.support_ and their ranking is in rfe.ranking_\n",
    "print('Selected features:', list(X_train.columns[rfe.support_]))\n",
    "print('Feature rankings:', rfe.ranking_)\n"
   ],
   "metadata": {
    "collapsed": false,
    "ExecuteTime": {
     "end_time": "2024-02-02T22:37:43.557872100Z",
     "start_time": "2024-02-02T22:37:01.460843100Z"
    }
   },
   "id": "3d4fdb40362cc428",
   "execution_count": 384
  },
  {
   "cell_type": "code",
   "outputs": [
    {
     "data": {
      "text/plain": "<Figure size 1000x600 with 1 Axes>",
      "image/png": "[encoded data removed]"
     },
     "metadata": {},
     "output_type": "display_data"
    },
    {
     "data": {
      "text/plain": "<Figure size 1000x600 with 1 Axes>",
      "image/png": "[encoded data removed]"
     },
     "metadata": {},
     "output_type": "display_data"
    },
    {
     "data": {
      "text/plain": "<Figure size 1000x600 with 1 Axes>",
      "image/png": "[encoded data removed]"
     },
     "metadata": {},
     "output_type": "display_data"
    }
   ],
   "source": [
    "import numpy as np\n",
    "import matplotlib.pyplot as plt\n",
    "\n",
    "def plot_feature_importances(importances, model_name, feature_names):\n",
    "    indices = np.argsort(importances)[::-1]\n",
    "    plt.figure(figsize=(10, 6))\n",
    "    plt.title(f'{model_name} Feature Importances')\n",
    "    plt.barh(range(len(indices)), importances[indices], color='b', align='center')\n",
    "    plt.yticks(range(len(indices)), [feature_names[i] for i in indices])\n",
    "    plt.gca().invert_yaxis()  # Invert y-axis to have the most important feature on top\n",
    "    plt.show()\n",
    "\n",
    "# Assuming X_train is your feature DataFrame with proper column names\n",
    "feature_names = X_train.columns\n",
    "\n",
    "# Your models list\n",
    "models = [xgb_model, lgbm_model, catboost_model]\n",
    "model_names = ['XGBoost', 'LightGBM', 'CatBoost']  # Ensure this matches your models list\n",
    "\n",
    "for model, name in zip(models, model_names):\n",
    "    # CatBoost has a different method for getting feature importance\n",
    "    if name == 'CatBoost':\n",
    "        importances = model.get_feature_importance()\n",
    "    else:  # This works for XGBoost, LightGBM, and potentially others like RandomForest\n",
    "        importances = model.feature_importances_\n",
    "    \n",
    "    plot_feature_importances(importances, name, feature_names)\n"
   ],
   "metadata": {
    "collapsed": false,
    "ExecuteTime": {
     "end_time": "2024-02-02T22:25:54.796218200Z",
     "start_time": "2024-02-02T22:25:53.732733100Z"
    }
   },
   "id": "1c5e95a35fce494b",
   "execution_count": 365
  },
  {
   "cell_type": "markdown",
   "source": [
    "# creating objective function and hyper opts for hyperparaemters"
   ],
   "metadata": {
    "collapsed": false
   },
   "id": "13cdd496a3827382"
  },
  {
   "cell_type": "code",
   "outputs": [],
   "source": [
    "from hyperopt import hp\n",
    "import numpy as np\n",
    "# Define the hyperparameter space\n",
    "space = {\n",
    "    'iterations': hp.quniform('iterations', 100, 1000, 50),\n",
    "    'depth': hp.choice('depth', np.arange(3, 11, dtype=int)),\n",
    "    'learning_rate': hp.loguniform('learning_rate', np.log(0.01), np.log(0.2)),\n",
    "    'l2_leaf_reg': hp.uniform('l2_leaf_reg', 1, 10),\n",
    "    'bagging_temperature': hp.uniform('bagging_temperature', 0, 1),\n",
    "    'random_strength': hp.uniform('random_strength', 0, 1),\n",
    "    \n",
    "\n",
    "}\n"
   ],
   "metadata": {
    "collapsed": false,
    "ExecuteTime": {
     "end_time": "2024-02-02T22:25:54.957721100Z",
     "start_time": "2024-02-02T22:25:54.803217600Z"
    }
   },
   "id": "c45184c63a52bac",
   "execution_count": 366
  },
  {
   "cell_type": "code",
   "outputs": [],
   "source": [
    "from sklearn.model_selection import cross_val_score\n",
    "from hyperopt import STATUS_OK\n",
    "from sklearn.model_selection import StratifiedKFold\n",
    "\n",
    "\n",
    "def objective(params):\n",
    "    params['iterations'] = int(params['iterations'])\n",
    "    clf = CatBoostClassifier(**params, loss_function='MultiClass', verbose=False)\n",
    "    score = cross_val_score(clf, X_train_scaled, y_train_encoded, scoring='accuracy', cv=StratifiedKFold(5)).mean()\n",
    "    return {'loss': -score, 'status': STATUS_OK}\n",
    "\n"
   ],
   "metadata": {
    "collapsed": false,
    "ExecuteTime": {
     "end_time": "2024-02-02T22:25:54.991714100Z",
     "start_time": "2024-02-02T22:25:54.827138300Z"
    }
   },
   "id": "5217c545333449f8",
   "execution_count": 367
  },
  {
   "cell_type": "code",
   "outputs": [
    {
     "name": "stdout",
     "output_type": "stream",
     "text": [
      "100%|██████████| 10/10 [02:21<00:00, 14.12s/trial, best loss: -0.692436974789916]\n"
     ]
    }
   ],
   "source": [
    "# run the hyperparameter optimization\n",
    "from hyperopt import tpe, Trials, fmin\n",
    "\n",
    "trials = Trials()\n",
    "best = fmin(fn=objective, space=space, algo=tpe.suggest, max_evals=10, trials=trials)\n"
   ],
   "metadata": {
    "collapsed": false,
    "ExecuteTime": {
     "end_time": "2024-02-02T22:28:16.107219900Z",
     "start_time": "2024-02-02T22:25:54.882177400Z"
    }
   },
   "id": "53baa390efcb2685",
   "execution_count": 368
  },
  {
   "cell_type": "code",
   "outputs": [
    {
     "name": "stdout",
     "output_type": "stream",
     "text": [
      "              precision    recall  f1-score   support\n",
      "\n",
      "           0       0.31      0.67      0.42         6\n",
      "           1       0.00      0.00      0.00        11\n",
      "           2       0.78      0.78      0.78        27\n",
      "\n",
      "    accuracy                           0.57        44\n",
      "   macro avg       0.36      0.48      0.40        44\n",
      "weighted avg       0.52      0.57      0.53        44\n"
     ]
    }
   ],
   "source": [
    "from sklearn.metrics import classification_report\n",
    "\n",
    "best_params = {k: int(v) if k in ['iterations', 'depth'] else v for k, v in best.items()}\n",
    "final_model = CatBoostClassifier(**best_params, loss_function='MultiClass', eval_metric='Accuracy', verbose=False)\n",
    "final_model.fit(X_train_scaled, y_train_encoded)\n",
    "\n",
    "# Evaluate the model\n",
    "y_pred = final_model.predict(X_test_scaled)\n",
    "print(classification_report(y_test, y_pred, zero_division=0))"
   ],
   "metadata": {
    "collapsed": false,
    "ExecuteTime": {
     "end_time": "2024-02-02T22:28:16.424643900Z",
     "start_time": "2024-02-02T22:28:16.109216500Z"
    }
   },
   "id": "99a573068f7b01fa",
   "execution_count": 369
  },
  {
   "cell_type": "markdown",
   "source": [
    "# Xgboost with params"
   ],
   "metadata": {
    "collapsed": false
   },
   "id": "74ad34a565de1fb1"
  },
  {
   "cell_type": "code",
   "outputs": [],
   "source": [
    "# hyperparameter tuning for xgboost using hyperopt\n",
    "from hyperopt import hp\n",
    "import numpy as np\n",
    "# Define the hyperparameter space\n",
    "\n",
    "space = {\n",
    "    'n_estimators': hp.quniform('n_estimators', 100, 1000, 50),\n",
    "    'max_depth': hp.choice('max_depth', np.arange(3, 11, dtype=int)),\n",
    "    'learning_rate': hp.loguniform('learning_rate', np.log(0.01), np.log(0.2)),\n",
    "    'reg_lambda': hp.uniform('reg_lambda', 1, 10),\n",
    "    'reg_alpha': hp.uniform('reg_alpha', 1, 10),\n",
    "    'gamma': hp.uniform('gamma', 0, 1),\n",
    "    'min_child_weight': hp.uniform('min_child_weight', 0, 10)\n",
    "    \n",
    "}"
   ],
   "metadata": {
    "collapsed": false,
    "ExecuteTime": {
     "end_time": "2024-02-02T22:28:16.432256800Z",
     "start_time": "2024-02-02T22:28:16.426645200Z"
    }
   },
   "id": "1933b5eb7cbf2fa5",
   "execution_count": 370
  },
  {
   "cell_type": "code",
   "outputs": [],
   "source": [
    "from hyperopt import STATUS_OK\n",
    "from sklearn.model_selection import train_test_split, StratifiedKFold, cross_val_score\n",
    "from xgboost import XGBClassifier\n",
    "\n",
    "def objective(params):\n",
    "    params['n_estimators'] = int(params['n_estimators'])\n",
    "    clf = XGBClassifier(**params, objective='multi:softmax', num_class=3, eval_metric='mlogloss', verbosity=0)\n",
    "    score = cross_val_score(clf, X_train_scaled, y_train_encoded, scoring='accuracy', cv=StratifiedKFold(10)).mean()\n",
    "    return {'loss': -score, 'status': STATUS_OK}"
   ],
   "metadata": {
    "collapsed": false,
    "ExecuteTime": {
     "end_time": "2024-02-02T22:28:16.448451300Z",
     "start_time": "2024-02-02T22:28:16.431253Z"
    }
   },
   "id": "9034765646a2ea09",
   "execution_count": 371
  },
  {
   "cell_type": "code",
   "outputs": [
    {
     "name": "stdout",
     "output_type": "stream",
     "text": [
      "100%|██████████| 100/100 [03:50<00:00,  2.31s/trial, best loss: -0.6977124183006536]\n"
     ]
    },
    {
     "data": {
      "text/plain": "XGBClassifier(base_score=None, booster=None, callbacks=None,\n              colsample_bylevel=None, colsample_bynode=None,\n              colsample_bytree=None, device=None, early_stopping_rounds=None,\n              enable_categorical=False, eval_metric='mlogloss',\n              feature_types=None, gamma=0.01399687150286236, grow_policy=None,\n              importance_type=None, interaction_constraints=None,\n              learning_rate=0.10614312194452237, max_bin=None,\n              max_cat_threshold=None, max_cat_to_onehot=None,\n              max_delta_step=None, max_depth=6, max_leaves=None,\n              min_child_weight=4.585882963292051, missing=nan,\n              monotone_constraints=None, multi_strategy=None, n_estimators=650,\n              n_jobs=None, num_class=3, num_parallel_tree=None, ...)",
      "text/html": "<style>#sk-container-id-7 {color: black;}#sk-container-id-7 pre{padding: 0;}#sk-container-id-7 div.sk-toggleable {background-color: white;}#sk-container-id-7 label.sk-toggleable__label {cursor: pointer;display: block;width: 100%;margin-bottom: 0;padding: 0.3em;box-sizing: border-box;text-align: center;}#sk-container-id-7 label.sk-toggleable__label-arrow:before {content: \"▸\";float: left;margin-right: 0.25em;color: #696969;}#sk-container-id-7 label.sk-toggleable__label-arrow:hover:before {color: black;}#sk-container-id-7 div.sk-estimator:hover label.sk-toggleable__label-arrow:before {color: black;}#sk-container-id-7 div.sk-toggleable__content {max-height: 0;max-width: 0;overflow: hidden;text-align: left;background-color: #f0f8ff;}#sk-container-id-7 div.sk-toggleable__content pre {margin: 0.2em;color: black;border-radius: 0.25em;background-color: #f0f8ff;}#sk-container-id-7 input.sk-toggleable__control:checked~div.sk-toggleable__content {max-height: 200px;max-width: 100%;overflow: auto;}#sk-container-id-7 input.sk-toggleable__control:checked~label.sk-toggleable__label-arrow:before {content: \"▾\";}#sk-container-id-7 div.sk-estimator input.sk-toggleable__control:checked~label.sk-toggleable__label {background-color: #d4ebff;}#sk-container-id-7 div.sk-label input.sk-toggleable__control:checked~label.sk-toggleable__label {background-color: #d4ebff;}#sk-container-id-7 input.sk-hidden--visually {border: 0;clip: rect(1px 1px 1px 1px);clip: rect(1px, 1px, 1px, 1px);height: 1px;margin: -1px;overflow: hidden;padding: 0;position: absolute;width: 1px;}#sk-container-id-7 div.sk-estimator {font-family: monospace;background-color: #f0f8ff;border: 1px dotted black;border-radius: 0.25em;box-sizing: border-box;margin-bottom: 0.5em;}#sk-container-id-7 div.sk-estimator:hover {background-color: #d4ebff;}#sk-container-id-7 div.sk-parallel-item::after {content: \"\";width: 100%;border-bottom: 1px solid gray;flex-grow: 1;}#sk-container-id-7 div.sk-label:hover label.sk-toggleable__label {background-color: #d4ebff;}#sk-container-id-7 div.sk-serial::before {content: \"\";position: absolute;border-left: 1px solid gray;box-sizing: border-box;top: 0;bottom: 0;left: 50%;z-index: 0;}#sk-container-id-7 div.sk-serial {display: flex;flex-direction: column;align-items: center;background-color: white;padding-right: 0.2em;padding-left: 0.2em;position: relative;}#sk-container-id-7 div.sk-item {position: relative;z-index: 1;}#sk-container-id-7 div.sk-parallel {display: flex;align-items: stretch;justify-content: center;background-color: white;position: relative;}#sk-container-id-7 div.sk-item::before, #sk-container-id-7 div.sk-parallel-item::before {content: \"\";position: absolute;border-left: 1px solid gray;box-sizing: border-box;top: 0;bottom: 0;left: 50%;z-index: -1;}#sk-container-id-7 div.sk-parallel-item {display: flex;flex-direction: column;z-index: 1;position: relative;background-color: white;}#sk-container-id-7 div.sk-parallel-item:first-child::after {align-self: flex-end;width: 50%;}#sk-container-id-7 div.sk-parallel-item:last-child::after {align-self: flex-start;width: 50%;}#sk-container-id-7 div.sk-parallel-item:only-child::after {width: 0;}#sk-container-id-7 div.sk-dashed-wrapped {border: 1px dashed gray;margin: 0 0.4em 0.5em 0.4em;box-sizing: border-box;padding-bottom: 0.4em;background-color: white;}#sk-container-id-7 div.sk-label label {font-family: monospace;font-weight: bold;display: inline-block;line-height: 1.2em;}#sk-container-id-7 div.sk-label-container {text-align: center;}#sk-container-id-7 div.sk-container {/* jupyter's `normalize.less` sets `[hidden] { display: none; }` but bootstrap.min.css set `[hidden] { display: none !important; }` so we also need the `!important` here to be able to override the default hidden behavior on the sphinx rendered scikit-learn.org. See: https://github.com/scikit-learn/scikit-learn/issues/21755 */display: inline-block !important;position: relative;}#sk-container-id-7 div.sk-text-repr-fallback {display: none;}</style><div id=\"sk-container-id-7\" class=\"sk-top-container\"><div class=\"sk-text-repr-fallback\"><pre>XGBClassifier(base_score=None, booster=None, callbacks=None,\n              colsample_bylevel=None, colsample_bynode=None,\n              colsample_bytree=None, device=None, early_stopping_rounds=None,\n              enable_categorical=False, eval_metric=&#x27;mlogloss&#x27;,\n              feature_types=None, gamma=0.01399687150286236, grow_policy=None,\n              importance_type=None, interaction_constraints=None,\n              learning_rate=0.10614312194452237, max_bin=None,\n              max_cat_threshold=None, max_cat_to_onehot=None,\n              max_delta_step=None, max_depth=6, max_leaves=None,\n              min_child_weight=4.585882963292051, missing=nan,\n              monotone_constraints=None, multi_strategy=None, n_estimators=650,\n              n_jobs=None, num_class=3, num_parallel_tree=None, ...)</pre><b>In a Jupyter environment, please rerun this cell to show the HTML representation or trust the notebook. <br />On GitHub, the HTML representation is unable to render, please try loading this page with nbviewer.org.</b></div><div class=\"sk-container\" hidden><div class=\"sk-item\"><div class=\"sk-estimator sk-toggleable\"><input class=\"sk-toggleable__control sk-hidden--visually\" id=\"sk-estimator-id-7\" type=\"checkbox\" checked><label for=\"sk-estimator-id-7\" class=\"sk-toggleable__label sk-toggleable__label-arrow\">XGBClassifier</label><div class=\"sk-toggleable__content\"><pre>XGBClassifier(base_score=None, booster=None, callbacks=None,\n              colsample_bylevel=None, colsample_bynode=None,\n              colsample_bytree=None, device=None, early_stopping_rounds=None,\n              enable_categorical=False, eval_metric=&#x27;mlogloss&#x27;,\n              feature_types=None, gamma=0.01399687150286236, grow_policy=None,\n              importance_type=None, interaction_constraints=None,\n              learning_rate=0.10614312194452237, max_bin=None,\n              max_cat_threshold=None, max_cat_to_onehot=None,\n              max_delta_step=None, max_depth=6, max_leaves=None,\n              min_child_weight=4.585882963292051, missing=nan,\n              monotone_constraints=None, multi_strategy=None, n_estimators=650,\n              n_jobs=None, num_class=3, num_parallel_tree=None, ...)</pre></div></div></div></div></div>"
     },
     "execution_count": 372,
     "metadata": {},
     "output_type": "execute_result"
    }
   ],
   "source": [
    "# run the hyperparameter optimization\n",
    "from hyperopt import tpe, Trials, fmin\n",
    "\n",
    "trials = Trials()\n",
    "best = fmin(fn=objective, space=space, algo=tpe.suggest, max_evals=100, trials=trials)\n",
    "\n",
    "from sklearn.metrics import classification_report\n",
    "\n",
    "best_params = {k: int(v) if k in ['n_estimators', 'max_depth'] else v for k, v in best.items()}\n",
    "best_model_2 = XGBClassifier(**best_params, objective='multi:softmax', num_class=3, eval_metric='mlogloss', verbosity=0)\n",
    "best_model_2.fit(X_train_scaled, y_train_encoded)"
   ],
   "metadata": {
    "collapsed": false,
    "ExecuteTime": {
     "end_time": "2024-02-02T22:32:07.518044600Z",
     "start_time": "2024-02-02T22:28:16.443458700Z"
    }
   },
   "id": "a00c50b1f242c6a9",
   "execution_count": 372
  },
  {
   "cell_type": "code",
   "outputs": [
    {
     "name": "stdout",
     "output_type": "stream",
     "text": [
      "              precision    recall  f1-score   support\n",
      "\n",
      "           0       0.25      0.50      0.33         6\n",
      "           1       0.33      0.09      0.14        11\n",
      "           2       0.79      0.85      0.82        27\n",
      "\n",
      "    accuracy                           0.61        44\n",
      "   macro avg       0.46      0.48      0.43        44\n",
      "weighted avg       0.60      0.61      0.59        44\n"
     ]
    }
   ],
   "source": [
    "# Evaluate the model\n",
    "y_pred = best_model_2.predict(X_test_scaled)\n",
    "print(classification_report(y_test, y_pred, zero_division=0))\n",
    "\n",
    "\n",
    "      "
   ],
   "metadata": {
    "collapsed": false,
    "ExecuteTime": {
     "end_time": "2024-02-02T22:32:07.541733200Z",
     "start_time": "2024-02-02T22:32:07.517053500Z"
    }
   },
   "id": "91e7aa843f4b18c4",
   "execution_count": 373
  },
  {
   "cell_type": "code",
   "outputs": [],
   "source": [],
   "metadata": {
    "collapsed": false
   },
   "id": "ce32e0a47d95aa62"
  },
  {
   "cell_type": "code",
   "outputs": [
    {
     "name": "stdout",
     "output_type": "stream",
     "text": [
      "['Arsenal' 'Aston Villa' 'Bournemouth' 'Brentford' 'Brighton' 'Burnley'\n",
      " 'Chelsea' 'Crystal Palace' 'Everton' 'Fulham' 'Liverpool' 'Luton'\n",
      " 'Man City' 'Man United' 'Newcastle' \"Nott'm Forest\" 'Sheffield United'\n",
      " 'Tottenham' 'West Ham' 'Wolves']\n"
     ]
    }
   ],
   "source": [
    "\n",
    "from sklearn.preprocessing import LabelEncoder\n",
    "\n",
    "# Initialize the LabelEncoder\n",
    "label_encoder = LabelEncoder()\n",
    "\n",
    "# Combine all unique team names from both HomeTeam and AwayTeam columns\n",
    "all_teams = pd.concat([df['HomeTeam'], df['AwayTeam']]).unique()\n",
    "\n",
    "# Fit the LabelEncoder with all unique team names\n",
    "label_encoder.fit(all_teams)\n",
    "\n",
    "# Transform both HomeTeam and AwayTeam using the fitted LabelEncoder\n",
    "df['HomeTeam_encoded'] = label_encoder.transform(df['HomeTeam'])\n",
    "df['AwayTeam_encoded'] = label_encoder.transform(df['AwayTeam'])\n",
    "\n",
    "# # Now you can transform individual team names\n",
    "# home_team_encoded = label_encoder.transform(['St Etienne'])[0]\n",
    "# away_team_encoded = label_encoder.transform(['Laval'])[0]\n",
    "# \n",
    "# # Debugging: Print encoded values\n",
    "# print(f\"Encoded Home Team: {home_team_encoded}, Encoded Away Team: {away_team_encoded}\")\n",
    "\n",
    "print(label_encoder.classes_)\n"
   ],
   "metadata": {
    "collapsed": false,
    "ExecuteTime": {
     "end_time": "2024-02-02T22:32:07.604454500Z",
     "start_time": "2024-02-02T22:32:07.536733400Z"
    }
   },
   "id": "46326b9866c00cf4",
   "execution_count": 374
  },
  {
   "cell_type": "code",
   "outputs": [
    {
     "name": "stdout",
     "output_type": "stream",
     "text": [
      "##########################\n",
      "Today's matches\n"
     ]
    },
    {
     "data": {
      "text/plain": "           HomeTeam        AwayTeam  HomeTeamWinProbability  \\\n0           Everton       Tottenham                0.500649   \n1          Brighton  Crystal Palace                0.264101   \n2           Burnley          Fulham                0.651221   \n3         Newcastle           Luton                0.453601   \n4  Sheffield United     Aston Villa                0.368977   \n\n   AwayTeamWinProbability  DrawProbability  \n0                0.412505         0.086846  \n1                0.501273         0.234626  \n2                0.098707         0.250072  \n3                0.364712         0.181687  \n4                0.521276         0.109746  ",
      "text/html": "<div>\n<style scoped>\n    .dataframe tbody tr th:only-of-type {\n        vertical-align: middle;\n    }\n\n    .dataframe tbody tr th {\n        vertical-align: top;\n    }\n\n    .dataframe thead th {\n        text-align: right;\n    }\n</style>\n<table border=\"1\" class=\"dataframe\">\n  <thead>\n    <tr style=\"text-align: right;\">\n      <th></th>\n      <th>HomeTeam</th>\n      <th>AwayTeam</th>\n      <th>HomeTeamWinProbability</th>\n      <th>AwayTeamWinProbability</th>\n      <th>DrawProbability</th>\n    </tr>\n  </thead>\n  <tbody>\n    <tr>\n      <th>0</th>\n      <td>Everton</td>\n      <td>Tottenham</td>\n      <td>0.500649</td>\n      <td>0.412505</td>\n      <td>0.086846</td>\n    </tr>\n    <tr>\n      <th>1</th>\n      <td>Brighton</td>\n      <td>Crystal Palace</td>\n      <td>0.264101</td>\n      <td>0.501273</td>\n      <td>0.234626</td>\n    </tr>\n    <tr>\n      <th>2</th>\n      <td>Burnley</td>\n      <td>Fulham</td>\n      <td>0.651221</td>\n      <td>0.098707</td>\n      <td>0.250072</td>\n    </tr>\n    <tr>\n      <th>3</th>\n      <td>Newcastle</td>\n      <td>Luton</td>\n      <td>0.453601</td>\n      <td>0.364712</td>\n      <td>0.181687</td>\n    </tr>\n    <tr>\n      <th>4</th>\n      <td>Sheffield United</td>\n      <td>Aston Villa</td>\n      <td>0.368977</td>\n      <td>0.521276</td>\n      <td>0.109746</td>\n    </tr>\n  </tbody>\n</table>\n</div>"
     },
     "execution_count": 375,
     "metadata": {},
     "output_type": "execute_result"
    }
   ],
   "source": [
    "import pandas as pd\n",
    "\n",
    "# Create an empty list to store match results\n",
    "match_results = []\n",
    "def predict_match(home_team, away_team, xgb_model, df, label_encoder):\n",
    "     # Debugging: Check if the team names are in label_encoder's classes\n",
    "    if home_team not in label_encoder.classes_:\n",
    "        raise ValueError(f\"Home team name '{home_team}' not recognized.\")\n",
    "    if away_team not in label_encoder.classes_:\n",
    "        raise ValueError(f\"Away team name '{away_team}' not recognized.\")\n",
    "\n",
    "    # Transform team names\n",
    "    home_team_encoded = label_encoder.transform([home_team])[0]\n",
    "    away_team_encoded = label_encoder.transform([away_team])[0]\n",
    "\n",
    "    # Debugging: Print encoded values\n",
    "   # print(f\"Encoded Home Team: {home_team_encoded}, Encoded Away Team: {away_team_encoded}\")\n",
    "\n",
    "    # Prepare the match data with relevant features\n",
    "    match_data = {\n",
    "        'HomeTeam_encoded': label_encoder.transform([home_team])[0],\n",
    "        'AwayTeam_encoded': label_encoder.transform([away_team])[0],\n",
    "        'HomeTeamRecentForm': calculate_form_points(home_team, df)[0],\n",
    "        'AwayTeamRecentForm': calculate_form_points(away_team, df)[1],\n",
    "        'HomeTeamAvgGoals': df[df['HomeTeam'] == home_team]['FTHG'].mean(),\n",
    "        'AwayTeamAvgGoals': df[df['AwayTeam'] == away_team]['FTAG'].mean(),\n",
    "        'HomeTeamPoints': df[df['HomeTeam'] == home_team]['FTR_encoded'].sum() / df[df['HomeTeam'] == home_team]['FTR_encoded'].count(),\n",
    "        'AwayTeamPoints': df[df['AwayTeam'] == away_team]['FTR_encoded'].sum() / df[df['AwayTeam'] == away_team]['FTR_encoded'].count(),\n",
    "        'HomeGoalsScoredVariance': df[df['HomeTeam'] == home_team]['FTHG'].var(),\n",
    "        'AwayGoalsScoredVariance': df[df['AwayTeam'] == away_team]['FTAG'].var(),\n",
    "        'HomeGoalsScoredAvg_3': df[df['HomeTeam'] == home_team]['FTHG'].rolling(3, min_periods=1).mean().iloc[-1],\n",
    "        'AwayGoalsScoredAvg_3': df[df['AwayTeam'] == away_team]['FTAG'].rolling(3, min_periods=1).mean().iloc[-1],\n",
    "        'HomeGoalsConcededAvg_3': df[df['HomeTeam'] == home_team]['FTAG'].rolling(3, min_periods=1).mean().iloc[-1],\n",
    "        'AwayGoalsConcededAvg_3': df[df['AwayTeam'] == away_team]['FTHG'].rolling(3, min_periods=1).mean().iloc[-1],\n",
    "        'HomeGoalsScoredAvg_5': df[df['HomeTeam'] == home_team]['FTHG'].rolling(5, min_periods=1).mean().iloc[-1],\n",
    "        'AwayGoalsScoredAvg_5': df[df['AwayTeam'] == away_team]['FTAG'].rolling(5, min_periods=1).mean().iloc[-1],\n",
    "        'HomeGoalsConcededAvg_5': df[df['HomeTeam'] == home_team]['FTAG'].rolling(5, min_periods=1).mean().iloc[-1],\n",
    "        'AwayGoalsConcededAvg_5': df[df['AwayTeam'] == away_team]['FTHG'].rolling(5, min_periods=1).mean().iloc[-1],\n",
    "        'HomeTeamPosition': df[df['HomeTeam'] == home_team]['HomeTeamPosition'].iloc[-1],\n",
    "        \n",
    "        'AwayTeamPosition': df[df['AwayTeam'] == away_team]['AwayTeamPosition'].iloc[-1],\n",
    "        'HomeStandingsBeforeMatch': df[df['HomeTeam'] == home_team]['HomeTeamStandingBeforeMatch'].iloc[-1],\n",
    "        'AwayStandingsBeforeMatch': df[df['AwayTeam'] == away_team]['AwayTeamStandingBeforeMatch'].iloc[-1],\n",
    "        \n",
    "        # Add other features as required by the model, calculated or retrieved as done during training\n",
    "        # ...\n",
    "    }\n",
    "\n",
    "    match_df = pd.DataFrame([match_data])\n",
    "\n",
    "    # Make predictions\n",
    "    probabilities = xgb_model.predict_proba(match_df)[0]\n",
    "    home_team_win_prob = probabilities[0]\n",
    "    draw_prob = probabilities[1]\n",
    "    away_team_win_prob = probabilities[2]\n",
    "\n",
    "    #print(f\"{home_team} win probability: {home_team_win_prob}\")\n",
    "    #print(f\"Draw probability: {draw_prob}\")\n",
    "    #print(f\"{away_team} win probability: {away_team_win_prob}\")\n",
    "    \n",
    "    match_results.append({\n",
    "        'HomeTeam': home_team,\n",
    "        'AwayTeam': away_team,\n",
    "        'HomeTeamWinProbability': home_team_win_prob,\n",
    "        'AwayTeamWinProbability': away_team_win_prob,\n",
    "        'DrawProbability': draw_prob,\n",
    "    })\n",
    "\n",
    "    return home_team_win_prob, draw_prob, away_team_win_prob\n",
    "\n",
    "\n",
    "\n",
    "print('##########################')\n",
    "print('Today\\'s matches')\n",
    "\n",
    "\n",
    "predict_match('Everton', 'Tottenham', xgb_model, df, label_encoder)\n",
    "\n",
    "predict_match('Brighton', 'Crystal Palace', xgb_model, df, label_encoder)\n",
    "\n",
    "predict_match('Burnley', 'Fulham', xgb_model, df, label_encoder)\n",
    "\n",
    "predict_match('Newcastle', 'Luton', xgb_model, df, label_encoder)\n",
    "\n",
    "predict_match('Sheffield United', 'Aston Villa', xgb_model, df, label_encoder)\n",
    "\n",
    "# Create a DataFrame from the match results list\n",
    "match_results_df = pd.DataFrame(match_results)\n",
    "\n",
    "# Print the DataFrame\n",
    "match_results_df.head()"
   ],
   "metadata": {
    "collapsed": false,
    "ExecuteTime": {
     "end_time": "2024-02-02T22:32:07.747696400Z",
     "start_time": "2024-02-02T22:32:07.562459500Z"
    }
   },
   "id": "98a2c4cdb035af90",
   "execution_count": 375
  },
  {
   "cell_type": "markdown",
   "source": [
    "# xgboost with hyperprams predictions"
   ],
   "metadata": {
    "collapsed": false
   },
   "id": "fd05b123b79ac471"
  },
  {
   "cell_type": "code",
   "outputs": [
    {
     "name": "stdout",
     "output_type": "stream",
     "text": [
      "##########################\n",
      "Today's matches with hyperparameters\n"
     ]
    },
    {
     "data": {
      "text/plain": "           HomeTeam        AwayTeam  HomeTeamWinProbability  \\\n0           Everton       Tottenham                0.234170   \n1          Brighton  Crystal Palace                0.237164   \n2           Burnley          Fulham                0.397445   \n3         Newcastle           Luton                0.239916   \n4  Sheffield United     Aston Villa                0.233161   \n\n   AwayTeamWinProbability  DrawProbability  \n0                0.530193         0.235637  \n1                0.521045         0.241791  \n2                0.282328         0.320227  \n3                0.519165         0.240919  \n4                0.527909         0.238930  ",
      "text/html": "<div>\n<style scoped>\n    .dataframe tbody tr th:only-of-type {\n        vertical-align: middle;\n    }\n\n    .dataframe tbody tr th {\n        vertical-align: top;\n    }\n\n    .dataframe thead th {\n        text-align: right;\n    }\n</style>\n<table border=\"1\" class=\"dataframe\">\n  <thead>\n    <tr style=\"text-align: right;\">\n      <th></th>\n      <th>HomeTeam</th>\n      <th>AwayTeam</th>\n      <th>HomeTeamWinProbability</th>\n      <th>AwayTeamWinProbability</th>\n      <th>DrawProbability</th>\n    </tr>\n  </thead>\n  <tbody>\n    <tr>\n      <th>0</th>\n      <td>Everton</td>\n      <td>Tottenham</td>\n      <td>0.234170</td>\n      <td>0.530193</td>\n      <td>0.235637</td>\n    </tr>\n    <tr>\n      <th>1</th>\n      <td>Brighton</td>\n      <td>Crystal Palace</td>\n      <td>0.237164</td>\n      <td>0.521045</td>\n      <td>0.241791</td>\n    </tr>\n    <tr>\n      <th>2</th>\n      <td>Burnley</td>\n      <td>Fulham</td>\n      <td>0.397445</td>\n      <td>0.282328</td>\n      <td>0.320227</td>\n    </tr>\n    <tr>\n      <th>3</th>\n      <td>Newcastle</td>\n      <td>Luton</td>\n      <td>0.239916</td>\n      <td>0.519165</td>\n      <td>0.240919</td>\n    </tr>\n    <tr>\n      <th>4</th>\n      <td>Sheffield United</td>\n      <td>Aston Villa</td>\n      <td>0.233161</td>\n      <td>0.527909</td>\n      <td>0.238930</td>\n    </tr>\n  </tbody>\n</table>\n</div>"
     },
     "execution_count": 376,
     "metadata": {},
     "output_type": "execute_result"
    }
   ],
   "source": [
    "match_results = []\n",
    "def predict_match(home_team, away_team, best_model_2, df, label_encoder):\n",
    "     # Debugging: Check if the team names are in label_encoder's classes\n",
    "    if home_team not in label_encoder.classes_:\n",
    "        raise ValueError(f\"Home team name '{home_team}' not recognized.\")\n",
    "    if away_team not in label_encoder.classes_:\n",
    "        raise ValueError(f\"Away team name '{away_team}' not recognized.\")\n",
    "\n",
    "    # Transform team names\n",
    "    home_team_encoded = label_encoder.transform([home_team])[0]\n",
    "    away_team_encoded = label_encoder.transform([away_team])[0]\n",
    "\n",
    "    # Debugging: Print encoded values\n",
    "    #print(f\"Encoded Home Team: {home_team_encoded}, Encoded Away Team: {away_team_encoded}\")\n",
    "\n",
    "    # Prepare the match data with relevant features\n",
    "    match_data = {\n",
    "        'HomeTeam_encoded': label_encoder.transform([home_team])[0],\n",
    "        'AwayTeam_encoded': label_encoder.transform([away_team])[0],\n",
    "        'HomeTeamRecentForm': calculate_form_points(home_team, df)[0],\n",
    "        'AwayTeamRecentForm': calculate_form_points(away_team, df)[1],\n",
    "        'HomeTeamAvgGoals': df[df['HomeTeam'] == home_team]['FTHG'].mean(),\n",
    "        'AwayTeamAvgGoals': df[df['AwayTeam'] == away_team]['FTAG'].mean(),\n",
    "        'HomeTeamPoints': df[df['HomeTeam'] == home_team]['FTR_encoded'].sum() / df[df['HomeTeam'] == home_team]['FTR_encoded'].count(),\n",
    "        'AwayTeamPoints': df[df['AwayTeam'] == away_team]['FTR_encoded'].sum() / df[df['AwayTeam'] == away_team]['FTR_encoded'].count(),\n",
    "        'HomeGoalsScoredVariance': df[df['HomeTeam'] == home_team]['FTHG'].var(),\n",
    "        'AwayGoalsScoredVariance': df[df['AwayTeam'] == away_team]['FTAG'].var(),\n",
    "        'HomeGoalsScoredAvg_3': df[df['HomeTeam'] == home_team]['FTHG'].rolling(3, min_periods=1).mean().iloc[-1],\n",
    "        'AwayGoalsScoredAvg_3': df[df['AwayTeam'] == away_team]['FTAG'].rolling(3, min_periods=1).mean().iloc[-1],\n",
    "        'HomeGoalsConcededAvg_3': df[df['HomeTeam'] == home_team]['FTAG'].rolling(3, min_periods=1).mean().iloc[-1],\n",
    "        'AwayGoalsConcededAvg_3': df[df['AwayTeam'] == away_team]['FTHG'].rolling(3, min_periods=1).mean().iloc[-1],\n",
    "        'HomeGoalsScoredAvg_5': df[df['HomeTeam'] == home_team]['FTHG'].rolling(5, min_periods=1).mean().iloc[-1],\n",
    "        'AwayGoalsScoredAvg_5': df[df['AwayTeam'] == away_team]['FTAG'].rolling(5, min_periods=1).mean().iloc[-1],\n",
    "        'HomeGoalsConcededAvg_5': df[df['HomeTeam'] == home_team]['FTAG'].rolling(5, min_periods=1).mean().iloc[-1],\n",
    "        'AwayGoalsConcededAvg_5': df[df['AwayTeam'] == away_team]['FTHG'].rolling(5, min_periods=1).mean().iloc[-1],\n",
    "        'HomeTeamPosition': df[df['HomeTeam'] == home_team]['HomeTeamPosition'].iloc[-1],\n",
    "        'AwayTeamPosition': df[df['AwayTeam'] == away_team]['AwayTeamPosition'].iloc[-1],\n",
    "        'HomeStandingsBeforeMatch': df[df['HomeTeam'] == home_team]['HomeTeamStandingBeforeMatch'].iloc[-1],\n",
    "        'AwayStandingsBeforeMatch': df[df['AwayTeam'] == away_team]['AwayTeamStandingBeforeMatch'].iloc[-1],\n",
    "        \n",
    "        # Add other features as required by the model, calculated or retrieved as done during training\n",
    "        # ...\n",
    "    }\n",
    "\n",
    "    match_df = pd.DataFrame([match_data])\n",
    "    \n",
    "    # Make predictions\n",
    "    probabilities = best_model_2.predict_proba(match_df)[0]\n",
    "    home_team_win_prob = probabilities[0]\n",
    "    draw_prob = probabilities[1]\n",
    "    away_team_win_prob = probabilities[2]\n",
    "\n",
    "    #print(f\"{home_team} win probability: {home_team_win_prob}\")\n",
    "    #print(f\"Draw probability: {draw_prob}\")\n",
    "    #print(f\"{away_team} win probability: {away_team_win_prob}\")\n",
    "    \n",
    "    match_results.append({\n",
    "        'HomeTeam': home_team,\n",
    "        'AwayTeam': away_team,\n",
    "        'HomeTeamWinProbability': home_team_win_prob,\n",
    "        'AwayTeamWinProbability': away_team_win_prob,\n",
    "        'DrawProbability': draw_prob,\n",
    "    })\n",
    "    \n",
    "    return home_team_win_prob, draw_prob, away_team_win_prob\n",
    "\n",
    "\n",
    "\n",
    "print('##########################')\n",
    "print('Today\\'s matches with hyperparameters')\n",
    "\n",
    "predict_match('Everton', 'Tottenham', best_model_2, df, label_encoder)\n",
    "predict_match('Brighton', 'Crystal Palace', best_model_2, df, label_encoder)\n",
    "predict_match('Burnley', 'Fulham', best_model_2, df, label_encoder)\n",
    "predict_match('Newcastle', 'Luton', best_model_2, df, label_encoder)\n",
    "predict_match('Sheffield United', 'Aston Villa', best_model_2, df, label_encoder)\n",
    "\n",
    "# Create a DataFrame from the match results list\n",
    "match_results_dff = pd.DataFrame(match_results)\n",
    "\n",
    "# Print the DataFrame\n",
    "match_results_dff.head()"
   ],
   "metadata": {
    "collapsed": false,
    "ExecuteTime": {
     "end_time": "2024-02-02T22:32:07.987838500Z",
     "start_time": "2024-02-02T22:32:07.733697200Z"
    }
   },
   "id": "586417e8a4d7813",
   "execution_count": 376
  },
  {
   "cell_type": "markdown",
   "source": [
    "# catboost with hyperparameter"
   ],
   "metadata": {
    "collapsed": false
   },
   "id": "bb8bc92fa5201125"
  },
  {
   "cell_type": "code",
   "outputs": [
    {
     "name": "stdout",
     "output_type": "stream",
     "text": [
      "##########################\n",
      "Today's matches with hyperparameters 2\n"
     ]
    },
    {
     "data": {
      "text/plain": "           HomeTeam        AwayTeam  HomeTeamWinProbability  \\\n0           Everton       Tottenham                0.185455   \n1          Brighton  Crystal Palace                0.218615   \n2           Burnley          Fulham                0.352212   \n3         Newcastle           Luton                0.195019   \n4  Sheffield United     Aston Villa                0.253101   \n\n   AwayTeamWinProbability  DrawProbability  \n0                0.527337         0.287209  \n1                0.534941         0.246444  \n2                0.379161         0.268628  \n3                0.553646         0.251334  \n4                0.521249         0.225649  ",
      "text/html": "<div>\n<style scoped>\n    .dataframe tbody tr th:only-of-type {\n        vertical-align: middle;\n    }\n\n    .dataframe tbody tr th {\n        vertical-align: top;\n    }\n\n    .dataframe thead th {\n        text-align: right;\n    }\n</style>\n<table border=\"1\" class=\"dataframe\">\n  <thead>\n    <tr style=\"text-align: right;\">\n      <th></th>\n      <th>HomeTeam</th>\n      <th>AwayTeam</th>\n      <th>HomeTeamWinProbability</th>\n      <th>AwayTeamWinProbability</th>\n      <th>DrawProbability</th>\n    </tr>\n  </thead>\n  <tbody>\n    <tr>\n      <th>0</th>\n      <td>Everton</td>\n      <td>Tottenham</td>\n      <td>0.185455</td>\n      <td>0.527337</td>\n      <td>0.287209</td>\n    </tr>\n    <tr>\n      <th>1</th>\n      <td>Brighton</td>\n      <td>Crystal Palace</td>\n      <td>0.218615</td>\n      <td>0.534941</td>\n      <td>0.246444</td>\n    </tr>\n    <tr>\n      <th>2</th>\n      <td>Burnley</td>\n      <td>Fulham</td>\n      <td>0.352212</td>\n      <td>0.379161</td>\n      <td>0.268628</td>\n    </tr>\n    <tr>\n      <th>3</th>\n      <td>Newcastle</td>\n      <td>Luton</td>\n      <td>0.195019</td>\n      <td>0.553646</td>\n      <td>0.251334</td>\n    </tr>\n    <tr>\n      <th>4</th>\n      <td>Sheffield United</td>\n      <td>Aston Villa</td>\n      <td>0.253101</td>\n      <td>0.521249</td>\n      <td>0.225649</td>\n    </tr>\n  </tbody>\n</table>\n</div>"
     },
     "execution_count": 377,
     "metadata": {},
     "output_type": "execute_result"
    }
   ],
   "source": [
    "match_results = []\n",
    "def predict_match(home_team, away_team, final_model, df, label_encoder):\n",
    "     # Debugging: Check if the team names are in label_encoder's classes\n",
    "    if home_team not in label_encoder.classes_:\n",
    "        raise ValueError(f\"Home team name '{home_team}' not recognized.\")\n",
    "    if away_team not in label_encoder.classes_:\n",
    "        raise ValueError(f\"Away team name '{away_team}' not recognized.\")\n",
    "\n",
    "    # Transform team names\n",
    "    home_team_encoded = label_encoder.transform([home_team])[0]\n",
    "    away_team_encoded = label_encoder.transform([away_team])[0]\n",
    "\n",
    "    # Debugging: Print encoded values\n",
    "    #print(f\"Encoded Home Team: {home_team_encoded}, Encoded Away Team: {away_team_encoded}\")\n",
    "\n",
    "    # Prepare the match data with relevant features\n",
    "    match_data = {\n",
    "        'HomeTeam_encoded': label_encoder.transform([home_team])[0],\n",
    "        'AwayTeam_encoded': label_encoder.transform([away_team])[0],\n",
    "        'HomeTeamRecentForm': calculate_form_points(home_team, df)[0],\n",
    "        'AwayTeamRecentForm': calculate_form_points(away_team, df)[1],\n",
    "        'HomeTeamAvgGoals': df[df['HomeTeam'] == home_team]['FTHG'].mean(),\n",
    "        'AwayTeamAvgGoals': df[df['AwayTeam'] == away_team]['FTAG'].mean(),\n",
    "        'HomeTeamPoints': df[df['HomeTeam'] == home_team]['FTR_encoded'].sum() / df[df['HomeTeam'] == home_team]['FTR_encoded'].count(),\n",
    "        'AwayTeamPoints': df[df['AwayTeam'] == away_team]['FTR_encoded'].sum() / df[df['AwayTeam'] == away_team]['FTR_encoded'].count(),\n",
    "        'HomeGoalsScoredVariance': df[df['HomeTeam'] == home_team]['FTHG'].var(),\n",
    "        'AwayGoalsScoredVariance': df[df['AwayTeam'] == away_team]['FTAG'].var(),\n",
    "        'HomeGoalsScoredAvg_3': df[df['HomeTeam'] == home_team]['FTHG'].rolling(3, min_periods=1).mean().iloc[-1],\n",
    "        'AwayGoalsScoredAvg_3': df[df['AwayTeam'] == away_team]['FTAG'].rolling(3, min_periods=1).mean().iloc[-1],\n",
    "        'HomeGoalsConcededAvg_3': df[df['HomeTeam'] == home_team]['FTAG'].rolling(3, min_periods=1).mean().iloc[-1],\n",
    "        'AwayGoalsConcededAvg_3': df[df['AwayTeam'] == away_team]['FTHG'].rolling(3, min_periods=1).mean().iloc[-1],\n",
    "        'HomeGoalsScoredAvg_5': df[df['HomeTeam'] == home_team]['FTHG'].rolling(5, min_periods=1).mean().iloc[-1],\n",
    "        'AwayGoalsScoredAvg_5': df[df['AwayTeam'] == away_team]['FTAG'].rolling(5, min_periods=1).mean().iloc[-1],\n",
    "        'HomeGoalsConcededAvg_5': df[df['HomeTeam'] == home_team]['FTAG'].rolling(5, min_periods=1).mean().iloc[-1],\n",
    "        'AwayGoalsConcededAvg_5': df[df['AwayTeam'] == away_team]['FTHG'].rolling(5, min_periods=1).mean().iloc[-1],\n",
    "        'HomeTeamPosition': df[df['HomeTeam'] == home_team]['HomeTeamPosition'].iloc[-1],\n",
    "        \n",
    "        'AwayTeamPosition': df[df['AwayTeam'] == away_team]['AwayTeamPosition'].iloc[-1],\n",
    "        'HomeStandingsBeforeMatch': df[df['HomeTeam'] == home_team]['HomeTeamStandingBeforeMatch'].iloc[-1],\n",
    "        'AwayStandingsBeforeMatch': df[df['AwayTeam'] == away_team]['AwayTeamStandingBeforeMatch'].iloc[-1],\n",
    "        \n",
    "        # Add other features as required by the model, calculated or retrieved as done during training\n",
    "        # ...\n",
    "    }\n",
    "\n",
    "    match_df = pd.DataFrame([match_data])\n",
    "    \n",
    "    # Make predictions\n",
    "    probabilities = final_model.predict_proba(match_df)[0]\n",
    "    home_team_win_prob = probabilities[0]\n",
    "    draw_prob = probabilities[1]\n",
    "    away_team_win_prob = probabilities[2]\n",
    "    \n",
    "    #print(f\"{home_team} win probability: {home_team_win_prob}\")\n",
    "    #print(f\"Draw probability: {draw_prob}\")\n",
    "    #print(f\"{away_team} win probability: {away_team_win_prob}\")\n",
    "    \n",
    "    match_results.append({\n",
    "        'HomeTeam': home_team,\n",
    "        'AwayTeam': away_team,\n",
    "        'HomeTeamWinProbability': home_team_win_prob,\n",
    "        'AwayTeamWinProbability': away_team_win_prob,\n",
    "        'DrawProbability': draw_prob,\n",
    "    })\n",
    "    \n",
    "    return home_team_win_prob, draw_prob, away_team_win_prob\n",
    "     \n",
    "    \n",
    "\n",
    "print('##########################')\n",
    "\n",
    "print('Today\\'s matches with hyperparameters 2' )\n",
    "\n",
    "predict_match('Everton', 'Tottenham', final_model, df, label_encoder)\n",
    "predict_match('Brighton', 'Crystal Palace', final_model, df, label_encoder)\n",
    "predict_match('Burnley', 'Fulham', final_model, df, label_encoder)\n",
    "predict_match('Newcastle', 'Luton', final_model, df, label_encoder)\n",
    "predict_match('Sheffield United', 'Aston Villa', final_model, df, label_encoder)\n",
    "\n",
    "# Create a DataFrame from the match results list\n",
    "match_results_df = pd.DataFrame(match_results)\n",
    "\n",
    "# Print the DataFrame\n",
    "match_results_df.head()"
   ],
   "metadata": {
    "collapsed": false,
    "ExecuteTime": {
     "end_time": "2024-02-02T22:32:08.091836900Z",
     "start_time": "2024-02-02T22:32:07.889291600Z"
    }
   },
   "id": "f0d5227de6b197e7",
   "execution_count": 377
  },
  {
   "cell_type": "code",
   "outputs": [
    {
     "name": "stdout",
     "output_type": "stream",
     "text": [
      "##########################\n",
      "Today's matches\n"
     ]
    },
    {
     "data": {
      "text/plain": "           HomeTeam        AwayTeam  HomeTeamWinProbability  \\\n0           Everton       Tottenham                0.325424   \n1          Brighton  Crystal Palace                0.382282   \n2           Burnley          Fulham                0.508181   \n3         Newcastle           Luton                0.382314   \n4  Sheffield United     Aston Villa                0.463321   \n\n   AwayTeamWinProbability  DrawProbability  \n0                0.397236         0.277340  \n1                0.388148         0.229570  \n2                0.306752         0.185067  \n3                0.386718         0.230968  \n4                0.360708         0.175970  ",
      "text/html": "<div>\n<style scoped>\n    .dataframe tbody tr th:only-of-type {\n        vertical-align: middle;\n    }\n\n    .dataframe tbody tr th {\n        vertical-align: top;\n    }\n\n    .dataframe thead th {\n        text-align: right;\n    }\n</style>\n<table border=\"1\" class=\"dataframe\">\n  <thead>\n    <tr style=\"text-align: right;\">\n      <th></th>\n      <th>HomeTeam</th>\n      <th>AwayTeam</th>\n      <th>HomeTeamWinProbability</th>\n      <th>AwayTeamWinProbability</th>\n      <th>DrawProbability</th>\n    </tr>\n  </thead>\n  <tbody>\n    <tr>\n      <th>0</th>\n      <td>Everton</td>\n      <td>Tottenham</td>\n      <td>0.325424</td>\n      <td>0.397236</td>\n      <td>0.277340</td>\n    </tr>\n    <tr>\n      <th>1</th>\n      <td>Brighton</td>\n      <td>Crystal Palace</td>\n      <td>0.382282</td>\n      <td>0.388148</td>\n      <td>0.229570</td>\n    </tr>\n    <tr>\n      <th>2</th>\n      <td>Burnley</td>\n      <td>Fulham</td>\n      <td>0.508181</td>\n      <td>0.306752</td>\n      <td>0.185067</td>\n    </tr>\n    <tr>\n      <th>3</th>\n      <td>Newcastle</td>\n      <td>Luton</td>\n      <td>0.382314</td>\n      <td>0.386718</td>\n      <td>0.230968</td>\n    </tr>\n    <tr>\n      <th>4</th>\n      <td>Sheffield United</td>\n      <td>Aston Villa</td>\n      <td>0.463321</td>\n      <td>0.360708</td>\n      <td>0.175970</td>\n    </tr>\n  </tbody>\n</table>\n</div>"
     },
     "execution_count": 378,
     "metadata": {},
     "output_type": "execute_result"
    }
   ],
   "source": [
    "match_results = []\n",
    "def predict_match(home_team, away_team, catboost_model, df, label_encoder):\n",
    "     # Debugging: Check if the team names are in label_encoder's classes\n",
    "    if home_team not in label_encoder.classes_:\n",
    "        raise ValueError(f\"Home team name '{home_team}' not recognized.\")\n",
    "    if away_team not in label_encoder.classes_:\n",
    "        raise ValueError(f\"Away team name '{away_team}' not recognized.\")\n",
    "\n",
    "    # Transform team names\n",
    "    home_team_encoded = label_encoder.transform([home_team])[0]\n",
    "    away_team_encoded = label_encoder.transform([away_team])[0]\n",
    "\n",
    "    # Debugging: Print encoded values\n",
    "    #print(f\"Encoded Home Team: {home_team_encoded}, Encoded Away Team: {away_team_encoded}\")\n",
    "\n",
    "    # Prepare the match data with relevant features\n",
    "    match_data = {\n",
    "        'HomeTeam_encoded': label_encoder.transform([home_team])[0],\n",
    "        'AwayTeam_encoded': label_encoder.transform([away_team])[0],\n",
    "        'HomeTeamRecentForm': calculate_form_points(home_team, df)[0],\n",
    "        'AwayTeamRecentForm': calculate_form_points(away_team, df)[1],\n",
    "        'HomeTeamAvgGoals': df[df['HomeTeam'] == home_team]['FTHG'].mean(),\n",
    "        'AwayTeamAvgGoals': df[df['AwayTeam'] == away_team]['FTAG'].mean(),\n",
    "        'HomeTeamPoints': df[df['HomeTeam'] == home_team]['FTR_encoded'].sum() / df[df['HomeTeam'] == home_team]['FTR_encoded'].count(),\n",
    "        'AwayTeamPoints': df[df['AwayTeam'] == away_team]['FTR_encoded'].sum() / df[df['AwayTeam'] == away_team]['FTR_encoded'].count(),\n",
    "        'HomeGoalsScoredVariance': df[df['HomeTeam'] == home_team]['FTHG'].var(),\n",
    "        'AwayGoalsScoredVariance': df[df['AwayTeam'] == away_team]['FTAG'].var(),\n",
    "        'HomeGoalsScoredAvg_3': df[df['HomeTeam'] == home_team]['FTHG'].rolling(3, min_periods=1).mean().iloc[-1],\n",
    "        'AwayGoalsScoredAvg_3': df[df['AwayTeam'] == away_team]['FTAG'].rolling(3, min_periods=1).mean().iloc[-1],\n",
    "        'HomeGoalsConcededAvg_3': df[df['HomeTeam'] == home_team]['FTAG'].rolling(3, min_periods=1).mean().iloc[-1],\n",
    "        'AwayGoalsConcededAvg_3': df[df['AwayTeam'] == away_team]['FTHG'].rolling(3, min_periods=1).mean().iloc[-1],\n",
    "        'HomeGoalsScoredAvg_5': df[df['HomeTeam'] == home_team]['FTHG'].rolling(5, min_periods=1).mean().iloc[-1],\n",
    "        'AwayGoalsScoredAvg_5': df[df['AwayTeam'] == away_team]['FTAG'].rolling(5, min_periods=1).mean().iloc[-1],\n",
    "        'HomeGoalsConcededAvg_5': df[df['HomeTeam'] == home_team]['FTAG'].rolling(5, min_periods=1).mean().iloc[-1],\n",
    "        'AwayGoalsConcededAvg_5': df[df['AwayTeam'] == away_team]['FTHG'].rolling(5, min_periods=1).mean().iloc[-1],\n",
    "        'HomeTeamPosition': df[df['HomeTeam'] == home_team]['HomeTeamPosition'].iloc[-1],\n",
    "        'AwayTeamPosition': df[df['AwayTeam'] == away_team]['AwayTeamPosition'].iloc[-1],\n",
    "        'HomeStandingsBeforeMatch': df[df['HomeTeam'] == home_team]['HomeTeamStandingBeforeMatch'].iloc[-1],\n",
    "        'AwayStandingsBeforeMatch': df[df['AwayTeam'] == away_team]['AwayTeamStandingBeforeMatch'].iloc[-1],\n",
    "        \n",
    "        # Add other features as required by the model, calculated or retrieved as done during training\n",
    "        # ...\n",
    "    }\n",
    "\n",
    "    match_df = pd.DataFrame([match_data])\n",
    "    \n",
    "    # Make predictions\n",
    "    probabilities = catboost_model.predict_proba(match_df)[0]\n",
    "    home_team_win_prob = probabilities[0]\n",
    "    draw_prob = probabilities[1]\n",
    "    away_team_win_prob = probabilities[2]\n",
    "    \n",
    "    #print(f\"{home_team} win probability: {home_team_win_prob}\")\n",
    "    #print(f\"Draw probability: {draw_prob}\")\n",
    "    #print(f\"{away_team} win probability: {away_team_win_prob}\")\n",
    "    \n",
    "    match_results.append({\n",
    "        'HomeTeam': home_team,\n",
    "        'AwayTeam': away_team,\n",
    "        'HomeTeamWinProbability': home_team_win_prob,\n",
    "        'AwayTeamWinProbability': away_team_win_prob,\n",
    "        'DrawProbability': draw_prob,\n",
    "    })\n",
    "    \n",
    "    return home_team_win_prob, draw_prob, away_team_win_prob\n",
    "\n",
    "\n",
    "\n",
    "print('##########################')\n",
    "print('Today\\'s matches')\n",
    "\n",
    "predict_match('Everton', 'Tottenham', catboost_model, df, label_encoder)\n",
    "predict_match('Brighton', 'Crystal Palace', catboost_model, df, label_encoder)\n",
    "predict_match('Burnley', 'Fulham', catboost_model, df, label_encoder)\n",
    "predict_match('Newcastle', 'Luton', catboost_model, df, label_encoder)\n",
    "predict_match('Sheffield United', 'Aston Villa', catboost_model, df, label_encoder)\n",
    "\n",
    "# Create a DataFrame from the match results list\n",
    "match_results_df = pd.DataFrame(match_results)\n",
    "\n",
    "# Print the DataFrame\n",
    "match_results_df.head()\n"
   ],
   "metadata": {
    "collapsed": false,
    "ExecuteTime": {
     "end_time": "2024-02-02T22:32:08.300188200Z",
     "start_time": "2024-02-02T22:32:08.023856400Z"
    }
   },
   "id": "d4aaf95550397fc0",
   "execution_count": 378
  },
  {
   "cell_type": "code",
   "outputs": [],
   "source": [
    "from sklearn.impute import SimpleImputer\n",
    "import numpy as np\n",
    "\n",
    "# Initialize the imputer (you can change the strategy to 'median' or 'most_frequent' if more appropriate)\n",
    "imputer = SimpleImputer(missing_values=np.nan, strategy='mean')\n",
    "\n",
    "# Fit on the training data and transform both training and testing data\n",
    "X_train_imputed = imputer.fit_transform(X_train)\n",
    "X_test_imputed = imputer.transform(X_test)\n",
    "\n",
    "\n"
   ],
   "metadata": {
    "collapsed": false,
    "ExecuteTime": {
     "end_time": "2024-02-02T22:32:08.302187600Z",
     "start_time": "2024-02-02T22:32:08.143535100Z"
    }
   },
   "id": "5afcd0ee014014b1",
   "execution_count": 379
  },
  {
   "cell_type": "markdown",
   "source": [
    "## using random forest"
   ],
   "metadata": {
    "collapsed": false
   },
   "id": "cd674d54c6445cb0"
  },
  {
   "cell_type": "code",
   "outputs": [
    {
     "name": "stdout",
     "output_type": "stream",
     "text": [
      "              precision    recall  f1-score   support\n",
      "\n",
      "           0       0.29      0.67      0.40         6\n",
      "           1       0.00      0.00      0.00        11\n",
      "           2       0.81      0.81      0.81        27\n",
      "\n",
      "    accuracy                           0.59        44\n",
      "   macro avg       0.37      0.49      0.40        44\n",
      "weighted avg       0.54      0.59      0.55        44\n"
     ]
    }
   ],
   "source": [
    "from sklearn.metrics import classification_report\n",
    "from sklearn.ensemble import RandomForestClassifier\n",
    "from sklearn.model_selection import GridSearchCV\n",
    "\n",
    "\n",
    "\n",
    "# Then scale the imputed data\n",
    "scaler = StandardScaler()\n",
    "X_train_scaled = scaler.fit_transform(X_train_imputed)\n",
    "X_test_scaled = scaler.transform(X_test_imputed)\n",
    "\n",
    "# Hyperparameter Tuning\n",
    "model = RandomForestClassifier(random_state=42)\n",
    "param_grid = {\n",
    "    'n_estimators': [100, 200, 300],\n",
    "    'max_depth': [None, 10, 20, 30],\n",
    "    'min_samples_split': [2, 5, 10],\n",
    "    'min_samples_leaf': [1, 2, 4]\n",
    "    \n",
    "}\n",
    "grid_search = GridSearchCV(model, param_grid, cv=3, scoring='f1_macro')\n",
    "grid_search.fit(X_train_scaled, y_train_encoded)\n",
    "\n",
    "# Best Model Evaluation\n",
    "best_model = grid_search.best_estimator_\n",
    "y_pred = best_model.predict(X_test_scaled)\n",
    "print(classification_report(y_test, y_pred))"
   ],
   "metadata": {
    "collapsed": false,
    "ExecuteTime": {
     "end_time": "2024-02-02T22:33:32.268426800Z",
     "start_time": "2024-02-02T22:32:08.155891400Z"
    }
   },
   "id": "561f276f86e12a37",
   "execution_count": 380
  },
  {
   "cell_type": "code",
   "outputs": [
    {
     "name": "stdout",
     "output_type": "stream",
     "text": [
      "##########################\n",
      "Today's matches\n",
      "Encoded Home Team: 8, Encoded Away Team: 17\n",
      "Encoded Home Team: 4, Encoded Away Team: 7\n",
      "Encoded Home Team: 5, Encoded Away Team: 9\n",
      "Encoded Home Team: 14, Encoded Away Team: 11\n",
      "Encoded Home Team: 16, Encoded Away Team: 1\n"
     ]
    },
    {
     "name": "stderr",
     "output_type": "stream",
     "text": [
      "C:\\Users\\dagbo_b40tnyc\\AppData\\Local\\Programs\\Python\\Python311\\Lib\\site-packages\\sklearn\\base.py:458: UserWarning: X has feature names, but RandomForestClassifier was fitted without feature names\n",
      "  warnings.warn(\n",
      "C:\\Users\\dagbo_b40tnyc\\AppData\\Local\\Programs\\Python\\Python311\\Lib\\site-packages\\sklearn\\base.py:458: UserWarning: X has feature names, but RandomForestClassifier was fitted without feature names\n",
      "  warnings.warn(\n",
      "C:\\Users\\dagbo_b40tnyc\\AppData\\Local\\Programs\\Python\\Python311\\Lib\\site-packages\\sklearn\\base.py:458: UserWarning: X has feature names, but RandomForestClassifier was fitted without feature names\n",
      "  warnings.warn(\n",
      "C:\\Users\\dagbo_b40tnyc\\AppData\\Local\\Programs\\Python\\Python311\\Lib\\site-packages\\sklearn\\base.py:458: UserWarning: X has feature names, but RandomForestClassifier was fitted without feature names\n",
      "  warnings.warn(\n",
      "C:\\Users\\dagbo_b40tnyc\\AppData\\Local\\Programs\\Python\\Python311\\Lib\\site-packages\\sklearn\\base.py:458: UserWarning: X has feature names, but RandomForestClassifier was fitted without feature names\n",
      "  warnings.warn(\n"
     ]
    },
    {
     "data": {
      "text/plain": "           HomeTeam        AwayTeam  HomeTeamWinProbability  \\\n0           Everton       Tottenham                   0.245   \n1          Brighton  Crystal Palace                   0.260   \n2           Burnley          Fulham                   0.295   \n3         Newcastle           Luton                   0.265   \n4  Sheffield United     Aston Villa                   0.280   \n\n   AwayTeamWinProbability  DrawProbability  \n0                   0.435            0.320  \n1                   0.455            0.285  \n2                   0.395            0.310  \n3                   0.450            0.285  \n4                   0.485            0.235  ",
      "text/html": "<div>\n<style scoped>\n    .dataframe tbody tr th:only-of-type {\n        vertical-align: middle;\n    }\n\n    .dataframe tbody tr th {\n        vertical-align: top;\n    }\n\n    .dataframe thead th {\n        text-align: right;\n    }\n</style>\n<table border=\"1\" class=\"dataframe\">\n  <thead>\n    <tr style=\"text-align: right;\">\n      <th></th>\n      <th>HomeTeam</th>\n      <th>AwayTeam</th>\n      <th>HomeTeamWinProbability</th>\n      <th>AwayTeamWinProbability</th>\n      <th>DrawProbability</th>\n    </tr>\n  </thead>\n  <tbody>\n    <tr>\n      <th>0</th>\n      <td>Everton</td>\n      <td>Tottenham</td>\n      <td>0.245</td>\n      <td>0.435</td>\n      <td>0.320</td>\n    </tr>\n    <tr>\n      <th>1</th>\n      <td>Brighton</td>\n      <td>Crystal Palace</td>\n      <td>0.260</td>\n      <td>0.455</td>\n      <td>0.285</td>\n    </tr>\n    <tr>\n      <th>2</th>\n      <td>Burnley</td>\n      <td>Fulham</td>\n      <td>0.295</td>\n      <td>0.395</td>\n      <td>0.310</td>\n    </tr>\n    <tr>\n      <th>3</th>\n      <td>Newcastle</td>\n      <td>Luton</td>\n      <td>0.265</td>\n      <td>0.450</td>\n      <td>0.285</td>\n    </tr>\n    <tr>\n      <th>4</th>\n      <td>Sheffield United</td>\n      <td>Aston Villa</td>\n      <td>0.280</td>\n      <td>0.485</td>\n      <td>0.235</td>\n    </tr>\n  </tbody>\n</table>\n</div>"
     },
     "execution_count": 381,
     "metadata": {},
     "output_type": "execute_result"
    }
   ],
   "source": [
    "match_results = []\n",
    "def predict_match(home_team, away_team, best_model, df, label_encoder,scaler):\n",
    "     # Debugging: Check if the team names are in label_encoder's classes\n",
    "    if home_team not in label_encoder.classes_:\n",
    "        raise ValueError(f\"Home team name '{home_team}' not recognized.\")\n",
    "    if away_team not in label_encoder.classes_:\n",
    "        raise ValueError(f\"Away team name '{away_team}' not recognized.\")\n",
    "\n",
    "    # Transform team names\n",
    "    home_team_encoded = label_encoder.transform([home_team])[0]\n",
    "    away_team_encoded = label_encoder.transform([away_team])[0]\n",
    "\n",
    "    # Debugging: Print encoded values\n",
    "    print(f\"Encoded Home Team: {home_team_encoded}, Encoded Away Team: {away_team_encoded}\")\n",
    "\n",
    "    # Prepare the match data with relevant features\n",
    "    match_data = {\n",
    "        'HomeTeam_encoded': label_encoder.transform([home_team])[0],\n",
    "        'AwayTeam_encoded': label_encoder.transform([away_team])[0],\n",
    "        'HomeTeamRecentForm': calculate_form_points(home_team, df)[0],\n",
    "        'AwayTeamRecentForm': calculate_form_points(away_team, df)[1],\n",
    "        'HomeTeamAvgGoals': df[df['HomeTeam'] == home_team]['FTHG'].mean(),\n",
    "        'AwayTeamAvgGoals': df[df['AwayTeam'] == away_team]['FTAG'].mean(),\n",
    "        'HomeTeamPoints': df[df['HomeTeam'] == home_team]['FTR_encoded'].sum() / df[df['HomeTeam'] == home_team]['FTR_encoded'].count(),\n",
    "        'AwayTeamPoints': df[df['AwayTeam'] == away_team]['FTR_encoded'].sum() / df[df['AwayTeam'] == away_team]['FTR_encoded'].count(),\n",
    "        'HomeGoalsScoredVariance': df[df['HomeTeam'] == home_team]['FTHG'].var(),\n",
    "        'AwayGoalsScoredVariance': df[df['AwayTeam'] == away_team]['FTAG'].var(),\n",
    "        'HomeGoalsScoredAvg_3': df[df['HomeTeam'] == home_team]['FTHG'].rolling(3, min_periods=1).mean().iloc[-1],\n",
    "        'AwayGoalsScoredAvg_3': df[df['AwayTeam'] == away_team]['FTAG'].rolling(3, min_periods=1).mean().iloc[-1],\n",
    "        'HomeGoalsConcededAvg_3': df[df['HomeTeam'] == home_team]['FTAG'].rolling(3, min_periods=1).mean().iloc[-1],\n",
    "        'AwayGoalsConcededAvg_3': df[df['AwayTeam'] == away_team]['FTHG'].rolling(3, min_periods=1).mean().iloc[-1],\n",
    "        'HomeGoalsScoredAvg_5': df[df['HomeTeam'] == home_team]['FTHG'].rolling(5, min_periods=1).mean().iloc[-1],\n",
    "        'AwayGoalsScoredAvg_5': df[df['AwayTeam'] == away_team]['FTAG'].rolling(5, min_periods=1).mean().iloc[-1],\n",
    "        'HomeGoalsConcededAvg_5': df[df['HomeTeam'] == home_team]['FTAG'].rolling(5, min_periods=1).mean().iloc[-1],\n",
    "        'AwayGoalsConcededAvg_5': df[df['AwayTeam'] == away_team]['FTHG'].rolling(5, min_periods=1).mean().iloc[-1],\n",
    "        'HomeTeamPosition': df[df['HomeTeam'] == home_team]['HomeTeamPosition'].iloc[-1],\n",
    "        'AwayTeamPosition': df[df['AwayTeam'] == away_team]['AwayTeamPosition'].iloc[-1],\n",
    "        'HomeStandingsBeforeMatch': df[df['HomeTeam'] == home_team]['HomeTeamStandingBeforeMatch'].iloc[-1],\n",
    "        'AwayStandingsBeforeMatch': df[df['AwayTeam'] == away_team]['AwayTeamStandingBeforeMatch'].iloc[-1],\n",
    "        \n",
    "        # Add other features as required by the model, calculated or retrieved as done during training\n",
    "        # ...\n",
    "    }\n",
    "\n",
    "    match_df = pd.DataFrame([match_data])\n",
    "    \n",
    "    # Make predictions\n",
    "    probabilities = best_model.predict_proba(match_df)[0]\n",
    "    home_team_win_prob = probabilities[0]\n",
    "    draw_prob = probabilities[1]\n",
    "    away_team_win_prob = probabilities[2]\n",
    "    \n",
    "    #print(f\"{home_team} win probability: {home_team_win_prob}\")\n",
    "    #print(f\"Draw probability: {draw_prob}\")\n",
    "    #print(f\"{away_team} win probability: {away_team_win_prob}\")\n",
    "    \n",
    "    match_results.append({\n",
    "        'HomeTeam': home_team,\n",
    "        'AwayTeam': away_team,\n",
    "        'HomeTeamWinProbability': home_team_win_prob,\n",
    "        'AwayTeamWinProbability': away_team_win_prob,\n",
    "        'DrawProbability': draw_prob,\n",
    "    })\n",
    "    \n",
    "    return home_team_win_prob, draw_prob, away_team_win_prob\n",
    "\n",
    "\n",
    "\n",
    "print('##########################')\n",
    "print('Today\\'s matches')\n",
    "\n",
    "predict_match('Everton', 'Tottenham', best_model, df, label_encoder,scaler)\n",
    "predict_match('Brighton', 'Crystal Palace', best_model, df, label_encoder,scaler)\n",
    "predict_match('Burnley', 'Fulham', best_model, df, label_encoder,scaler)\n",
    "predict_match('Newcastle', 'Luton', best_model, df, label_encoder,scaler)\n",
    "predict_match('Sheffield United', 'Aston Villa', best_model, df, label_encoder,scaler)\n",
    "\n",
    "# Create a DataFrame from the match results list\n",
    "match_results_df = pd.DataFrame(match_results)\n",
    "\n",
    "# Print the DataFrame\n",
    "match_results_df.head()\n"
   ],
   "metadata": {
    "collapsed": false,
    "ExecuteTime": {
     "end_time": "2024-02-02T22:33:32.569506800Z",
     "start_time": "2024-02-02T22:33:32.268426800Z"
    }
   },
   "id": "c6620460d2ef2cd2",
   "execution_count": 381
  },
  {
   "cell_type": "code",
   "outputs": [],
   "source": [
    "# # save the 3 models\n",
    "# import joblib\n",
    "# \n",
    "# # Save the model as a pickle file\n",
    "# joblib.dump(best_model, 'models/best_model.pkl')\n",
    "# # joblib.dump(label_encoder, 'label_encoder.pkl')\n",
    "# # joblib.dump(scaler, 'scaler.pkl')\n",
    "#     \n",
    "# # save the xgb model\n",
    "# import pickle\n",
    "# \n",
    "# # Save the model as a pickle file\n",
    "# pickle.dump(xgb_model, open('models/xgb_model.pkl', 'wb'))\n",
    "# # pickle.dump(label_encoder, open('label_encoder.pkl', 'wb'))\n",
    "# # pickle.dump(scaler, open('scaler.pkl', 'wb'))\n",
    "# \n",
    "# # save the catboost model\n",
    "# import pickle\n",
    "# \n",
    "# # Save the model as a pickle file\n",
    "# pickle.dump(catboost_model, open('models/catboost_model.pkl', 'wb'))\n",
    "# pickle.dump(label_encoder, open('models/label_encoder.pkl', 'wb'))\n",
    "# pickle.dump(scaler, open('models/scaler.pkl', 'wb'))\n",
    "# \n"
   ],
   "metadata": {
    "collapsed": false,
    "ExecuteTime": {
     "end_time": "2024-02-02T22:33:32.603903900Z",
     "start_time": "2024-02-02T22:33:32.568490700Z"
    }
   },
   "id": "d715b9c2999b356c",
   "execution_count": 382
  }
 ],
 "metadata": {
  "kernelspec": {
   "display_name": "Python 3",
   "language": "python",
   "name": "python3"
  },
  "language_info": {
   "codemirror_mode": {
    "name": "ipython",
    "version": 2
   },
   "file_extension": ".py",
   "mimetype": "text/x-python",
   "name": "python",
   "nbconvert_exporter": "python",
   "pygments_lexer": "ipython2",
   "version": "2.7.6"
  }
 },
 "nbformat": 4,
 "nbformat_minor": 5
}
