{
 "cells": [
  {
   "cell_type": "markdown",
   "source": [
    "# Championship 2023-2024 Predictions"
   ],
   "metadata": {
    "collapsed": false
   },
   "id": "2043b1fe4e1c4d13"
  },
  {
   "cell_type": "code",
   "execution_count": 1,
   "id": "initial_id",
   "metadata": {
    "collapsed": true,
    "ExecuteTime": {
     "end_time": "2024-02-01T22:36:58.261809800Z",
     "start_time": "2024-02-01T22:36:56.054444100Z"
    }
   },
   "outputs": [
    {
     "data": {
      "text/plain": "    Div        Date   Time             HomeTeam       AwayTeam  FTHG  FTAG  \\\n177  B1  30/01/2024  19:30             Westerlo  Cercle Brugge     4     2   \n178  B1  31/01/2024  17:45            Charleroi          Eupen     1     0   \n179  B1  31/01/2024  17:45  Oud-Heverlee Leuven           Genk     2     1   \n180  B1  31/01/2024  20:00         St. Gilloise  RWD Molenbeek     3     2   \n181  B1  31/01/2024  20:00             Standard        Antwerp     0     1   \n\n    FTR  HTHG  HTAG  ... AvgC<2.5  AHCh  B365CAHH  B365CAHA  PCAHH  PCAHA  \\\n177   H     4     1  ...     2.05  0.50      1.73      2.08   1.76   2.15   \n178   H     0     0  ...     2.08 -0.50      1.80      2.05   1.81   2.08   \n179   H     0     0  ...     2.39  0.75      1.85      2.00   1.86   2.03   \n180   H     2     0  ...     2.90 -2.25      1.93      1.93   1.93   1.93   \n181   A     0     0  ...     1.73  0.25      1.80      2.05   1.83   2.08   \n\n     MaxCAHH  MaxCAHA  AvgCAHH  AvgCAHA  \n177     1.84     2.15     1.75     2.08  \n178     1.85     2.12     1.80     2.03  \n179     2.04     2.07     1.89     1.92  \n180     2.01     1.96     1.93     1.88  \n181     1.90     2.13     1.82     2.00  \n\n[5 rows x 105 columns]",
      "text/html": "<div>\n<style scoped>\n    .dataframe tbody tr th:only-of-type {\n        vertical-align: middle;\n    }\n\n    .dataframe tbody tr th {\n        vertical-align: top;\n    }\n\n    .dataframe thead th {\n        text-align: right;\n    }\n</style>\n<table border=\"1\" class=\"dataframe\">\n  <thead>\n    <tr style=\"text-align: right;\">\n      <th></th>\n      <th>Div</th>\n      <th>Date</th>\n      <th>Time</th>\n      <th>HomeTeam</th>\n      <th>AwayTeam</th>\n      <th>FTHG</th>\n      <th>FTAG</th>\n      <th>FTR</th>\n      <th>HTHG</th>\n      <th>HTAG</th>\n      <th>...</th>\n      <th>AvgC&lt;2.5</th>\n      <th>AHCh</th>\n      <th>B365CAHH</th>\n      <th>B365CAHA</th>\n      <th>PCAHH</th>\n      <th>PCAHA</th>\n      <th>MaxCAHH</th>\n      <th>MaxCAHA</th>\n      <th>AvgCAHH</th>\n      <th>AvgCAHA</th>\n    </tr>\n  </thead>\n  <tbody>\n    <tr>\n      <th>177</th>\n      <td>B1</td>\n      <td>30/01/2024</td>\n      <td>19:30</td>\n      <td>Westerlo</td>\n      <td>Cercle Brugge</td>\n      <td>4</td>\n      <td>2</td>\n      <td>H</td>\n      <td>4</td>\n      <td>1</td>\n      <td>...</td>\n      <td>2.05</td>\n      <td>0.50</td>\n      <td>1.73</td>\n      <td>2.08</td>\n      <td>1.76</td>\n      <td>2.15</td>\n      <td>1.84</td>\n      <td>2.15</td>\n      <td>1.75</td>\n      <td>2.08</td>\n    </tr>\n    <tr>\n      <th>178</th>\n      <td>B1</td>\n      <td>31/01/2024</td>\n      <td>17:45</td>\n      <td>Charleroi</td>\n      <td>Eupen</td>\n      <td>1</td>\n      <td>0</td>\n      <td>H</td>\n      <td>0</td>\n      <td>0</td>\n      <td>...</td>\n      <td>2.08</td>\n      <td>-0.50</td>\n      <td>1.80</td>\n      <td>2.05</td>\n      <td>1.81</td>\n      <td>2.08</td>\n      <td>1.85</td>\n      <td>2.12</td>\n      <td>1.80</td>\n      <td>2.03</td>\n    </tr>\n    <tr>\n      <th>179</th>\n      <td>B1</td>\n      <td>31/01/2024</td>\n      <td>17:45</td>\n      <td>Oud-Heverlee Leuven</td>\n      <td>Genk</td>\n      <td>2</td>\n      <td>1</td>\n      <td>H</td>\n      <td>0</td>\n      <td>0</td>\n      <td>...</td>\n      <td>2.39</td>\n      <td>0.75</td>\n      <td>1.85</td>\n      <td>2.00</td>\n      <td>1.86</td>\n      <td>2.03</td>\n      <td>2.04</td>\n      <td>2.07</td>\n      <td>1.89</td>\n      <td>1.92</td>\n    </tr>\n    <tr>\n      <th>180</th>\n      <td>B1</td>\n      <td>31/01/2024</td>\n      <td>20:00</td>\n      <td>St. Gilloise</td>\n      <td>RWD Molenbeek</td>\n      <td>3</td>\n      <td>2</td>\n      <td>H</td>\n      <td>2</td>\n      <td>0</td>\n      <td>...</td>\n      <td>2.90</td>\n      <td>-2.25</td>\n      <td>1.93</td>\n      <td>1.93</td>\n      <td>1.93</td>\n      <td>1.93</td>\n      <td>2.01</td>\n      <td>1.96</td>\n      <td>1.93</td>\n      <td>1.88</td>\n    </tr>\n    <tr>\n      <th>181</th>\n      <td>B1</td>\n      <td>31/01/2024</td>\n      <td>20:00</td>\n      <td>Standard</td>\n      <td>Antwerp</td>\n      <td>0</td>\n      <td>1</td>\n      <td>A</td>\n      <td>0</td>\n      <td>0</td>\n      <td>...</td>\n      <td>1.73</td>\n      <td>0.25</td>\n      <td>1.80</td>\n      <td>2.05</td>\n      <td>1.83</td>\n      <td>2.08</td>\n      <td>1.90</td>\n      <td>2.13</td>\n      <td>1.82</td>\n      <td>2.00</td>\n    </tr>\n  </tbody>\n</table>\n<p>5 rows × 105 columns</p>\n</div>"
     },
     "execution_count": 1,
     "metadata": {},
     "output_type": "execute_result"
    }
   ],
   "source": [
    "# import data\n",
    "import pandas as pd\n",
    "import numpy as np\n",
    "\n",
    "#df = pd.read_csv('F2.csv')\n",
    "#df = pd.read_csv('ligue_2.csv')\n",
    "df = pd.read_csv('scrapers/englandm/E0.csv')\n",
    "\n",
    "#df = pd.read_csv('f2_new.csv')\n",
    "df.tail()"
   ]
  },
  {
   "cell_type": "code",
   "execution_count": 2,
   "outputs": [],
   "source": [
    "## Data Cleaning"
   ],
   "metadata": {
    "collapsed": false,
    "ExecuteTime": {
     "end_time": "2024-02-01T22:36:58.273065400Z",
     "start_time": "2024-02-01T22:36:58.261809800Z"
    }
   },
   "id": "c27a39651ea01908"
  },
  {
   "cell_type": "code",
   "outputs": [
    {
     "data": {
      "text/plain": "(Div         0\n Date        0\n Time        0\n HomeTeam    0\n AwayTeam    0\n            ..\n PCAHA       0\n MaxCAHH     0\n MaxCAHA     0\n AvgCAHH     0\n AvgCAHA     0\n Length: 105, dtype: int64,\n 0)"
     },
     "execution_count": 3,
     "metadata": {},
     "output_type": "execute_result"
    }
   ],
   "source": [
    "# steps:\n",
    "# 1. Check for missing values\n",
    "missing_values = df.isnull().sum()\n",
    "\n",
    "# 2. Check for duplicates\n",
    "duplicate_rows = df.duplicated().sum()\n",
    "\n",
    "# Display the results of the checks\n",
    "missing_values, duplicate_rows"
   ],
   "metadata": {
    "collapsed": false,
    "ExecuteTime": {
     "end_time": "2024-02-01T22:36:58.334953900Z",
     "start_time": "2024-02-01T22:36:58.271061400Z"
    }
   },
   "id": "594bb92f2a11837b",
   "execution_count": 3
  },
  {
   "cell_type": "code",
   "execution_count": 4,
   "outputs": [
    {
     "data": {
      "text/plain": "(Div         0\n Date        0\n Time        0\n HomeTeam    0\n AwayTeam    0\n            ..\n PCAHA       0\n MaxCAHH     0\n MaxCAHA     0\n AvgCAHH     0\n AvgCAHA     0\n Length: 105, dtype: int64,\n FTR\n H    81\n D    53\n A    48\n Name: count, dtype: int64)"
     },
     "execution_count": 4,
     "metadata": {},
     "output_type": "execute_result"
    }
   ],
   "source": [
    "# Checking for missing values\n",
    "missing_values = df.isnull().sum()\n",
    "\n",
    "\n",
    "\n",
    "\n",
    "# Checking the balance of the target variable 'FTR'\n",
    "target_distribution = df['FTR'].value_counts()\n",
    "\n",
    "# drop the div column\n",
    "df.drop('Div', axis=1, inplace=True)\n",
    "df.drop('Time', axis=1, inplace=True)\n",
    "\n",
    "missing_values, target_distribution\n"
   ],
   "metadata": {
    "collapsed": false,
    "ExecuteTime": {
     "end_time": "2024-02-01T22:36:58.336954600Z",
     "start_time": "2024-02-01T22:36:58.303955600Z"
    }
   },
   "id": "598e531010defdf9"
  },
  {
   "cell_type": "code",
   "outputs": [],
   "source": [
    "# covert date to datetime\n",
    "df['Date'] = pd.to_datetime(df['Date'], format='%d/%m/%Y')"
   ],
   "metadata": {
    "collapsed": false,
    "ExecuteTime": {
     "end_time": "2024-02-01T22:36:58.390927700Z",
     "start_time": "2024-02-01T22:36:58.315261900Z"
    }
   },
   "id": "e670089d22767e09",
   "execution_count": 5
  },
  {
   "cell_type": "markdown",
   "source": [
    "## Feature engineering\n",
    "\n",
    "### steps:\n",
    "* Encode Team Names: Use label encoding for 'HomeTeam' and 'AwayTeam'. This will convert team names into numeric values, making them usable for the model.\n",
    "\n",
    "* Recent Form: Calculate the recent form for each team based on the last 5 matches. We'll use the 'FTR' column to determine wins (W), losses (L), and draws (D). This feature will provide insight into the current performance of the teams.\n",
    "\n",
    "* Average Goals per Game: Compute the average goals scored per game for both home and away teams. This feature helps understand the offensive strength of the teams.\n",
    "\n",
    "* Team Points: Calculate the total points accumulated by each team so far in the season. Points are awarded based on wins (3 points), draws (1 point), and losses (0 points).\n",
    "\n",
    "* Head-to-Head Statistics: Analyze the outcomes of matches between the same pairs of teams earlier in the season.\n",
    "\n",
    "* Other Statistical Features: Depending on the data available, we can include additional features like average possession, number of shots on target, defensive strength, etc."
   ],
   "metadata": {
    "collapsed": false
   },
   "id": "2d8eb8645de65cd7"
  },
  {
   "cell_type": "code",
   "execution_count": 6,
   "outputs": [],
   "source": [
    "# Reset the index of the DataFrame (if necessary)\n",
    "df.reset_index(drop=True, inplace=True)\n",
    "\n",
    "# Rolling averages for goals\n",
    "window_sizes = [3, 5]\n",
    "for window in window_sizes:\n",
    "    df[f'HomeGoalsScoredAvg_{window}'] = df.groupby('HomeTeam')['FTHG'].transform(lambda x: x.rolling(window, min_periods=1).mean())\n",
    "    df[f'AwayGoalsScoredAvg_{window}'] = df.groupby('AwayTeam')['FTAG'].transform(lambda x: x.rolling(window, min_periods=1).mean())\n",
    "    df[f'HomeGoalsConcededAvg_{window}'] = df.groupby('HomeTeam')['FTAG'].transform(lambda x: x.rolling(window, min_periods=1).mean())\n",
    "    df[f'AwayGoalsConcededAvg_{window}'] = df.groupby('AwayTeam')['FTHG'].transform(lambda x: x.rolling(window, min_periods=1).mean())\n",
    "\n"
   ],
   "metadata": {
    "collapsed": false,
    "ExecuteTime": {
     "end_time": "2024-02-01T22:36:58.488570700Z",
     "start_time": "2024-02-01T22:36:58.327956700Z"
    }
   },
   "id": "555cad6dc030dab3"
  },
  {
   "cell_type": "code",
   "outputs": [],
   "source": [
    "\n",
    "# Variance in team performance\n",
    "df['HomeGoalsScoredVariance'] = df.groupby('HomeTeam')['FTHG'].transform(lambda x: x.rolling(5, min_periods=1).var())\n",
    "df['AwayGoalsScoredVariance'] = df.groupby('AwayTeam')['FTAG'].transform(lambda x: x.rolling(5, min_periods=1).var())\n",
    "\n",
    "\n"
   ],
   "metadata": {
    "collapsed": false,
    "ExecuteTime": {
     "end_time": "2024-02-01T22:36:58.524573500Z",
     "start_time": "2024-02-01T22:36:58.371672500Z"
    }
   },
   "id": "b3bf9df58be1de92",
   "execution_count": 7
  },
  {
   "cell_type": "code",
   "outputs": [
    {
     "name": "stdout",
     "output_type": "stream",
     "text": [
      "['Anderlecht' 'Antwerp' 'Cercle Brugge' 'Charleroi' 'Club Brugge' 'Eupen'\n",
      " 'Genk' 'Gent' 'Kortrijk' 'Mechelen' 'Oud-Heverlee Leuven' 'RWD Molenbeek'\n",
      " 'St Truiden' 'St. Gilloise' 'Standard' 'Westerlo']\n"
     ]
    }
   ],
   "source": [
    "\n",
    "\n",
    "from sklearn.preprocessing import LabelEncoder\n",
    "\n",
    "# Initialize the LabelEncoder\n",
    "label_encoder = LabelEncoder()\n",
    "\n",
    "# Combine all unique team names from both HomeTeam and AwayTeam columns\n",
    "all_teams = pd.concat([df['HomeTeam'], df['AwayTeam']]).unique()\n",
    "\n",
    "# Fit the LabelEncoder with all unique team names\n",
    "label_encoder.fit(all_teams)\n",
    "\n",
    "# Transform both HomeTeam and AwayTeam using the fitted LabelEncoder\n",
    "df['HomeTeam_encoded'] = label_encoder.transform(df['HomeTeam'])\n",
    "df['AwayTeam_encoded'] = label_encoder.transform(df['AwayTeam'])\n",
    "\n",
    "# # Now you can transform individual team names\n",
    "# home_team_encoded = label_encoder.transform(['St Etienne'])[0]\n",
    "# away_team_encoded = label_encoder.transform(['Laval'])[0]\n",
    "\n",
    "# # Debugging: Print encoded values\n",
    "# print(f\"Encoded Home Team: {home_team_encoded}, Encoded Away Team: {away_team_encoded}\")\n",
    "\n",
    "print(label_encoder.classes_)\n"
   ],
   "metadata": {
    "collapsed": false,
    "ExecuteTime": {
     "end_time": "2024-02-01T22:37:07.799698500Z",
     "start_time": "2024-02-01T22:36:58.389921300Z"
    }
   },
   "id": "2b1a8cf45ea677d9",
   "execution_count": 8
  },
  {
   "cell_type": "code",
   "outputs": [
    {
     "data": {
      "text/plain": "          Date             HomeTeam       AwayTeam  FTHG  FTAG FTR  HTHG  \\\n177 2024-01-30             Westerlo  Cercle Brugge     4     2   H     4   \n178 2024-01-31            Charleroi          Eupen     1     0   H     0   \n179 2024-01-31  Oud-Heverlee Leuven           Genk     2     1   H     0   \n180 2024-01-31         St. Gilloise  RWD Molenbeek     3     2   H     2   \n181 2024-01-31             Standard        Antwerp     0     1   A     0   \n\n     HTAG HTR  HS  ...  HomeGoalsConcededAvg_3  AwayGoalsConcededAvg_3  \\\n177     1   H   9  ...                0.666667                2.333333   \n178     0   D  12  ...                1.666667                1.333333   \n179     0   D  12  ...                0.666667                1.666667   \n180     0   H  11  ...                1.000000                3.000000   \n181     0   D  15  ...                1.000000                1.333333   \n\n     HomeGoalsScoredAvg_5  AwayGoalsScoredAvg_5  HomeGoalsConcededAvg_5  \\\n177                   2.6                   1.2                     1.6   \n178                   1.8                   0.2                     2.0   \n179                   1.4                   1.2                     1.0   \n180                   2.2                   0.8                     0.8   \n181                   0.4                   1.0                     0.6   \n\n     AwayGoalsConcededAvg_5  HomeGoalsScoredVariance  AwayGoalsScoredVariance  \\\n177                     2.0                      1.3                      0.7   \n178                     1.6                      1.2                      0.2   \n179                     1.4                      1.3                      1.2   \n180                     3.0                      0.7                      0.7   \n181                     1.2                      0.3                      1.5   \n\n     HomeTeam_encoded  AwayTeam_encoded  \n177                15                 2  \n178                 3                 5  \n179                10                 6  \n180                13                11  \n181                14                 1  \n\n[5 rows x 115 columns]",
      "text/html": "<div>\n<style scoped>\n    .dataframe tbody tr th:only-of-type {\n        vertical-align: middle;\n    }\n\n    .dataframe tbody tr th {\n        vertical-align: top;\n    }\n\n    .dataframe thead th {\n        text-align: right;\n    }\n</style>\n<table border=\"1\" class=\"dataframe\">\n  <thead>\n    <tr style=\"text-align: right;\">\n      <th></th>\n      <th>Date</th>\n      <th>HomeTeam</th>\n      <th>AwayTeam</th>\n      <th>FTHG</th>\n      <th>FTAG</th>\n      <th>FTR</th>\n      <th>HTHG</th>\n      <th>HTAG</th>\n      <th>HTR</th>\n      <th>HS</th>\n      <th>...</th>\n      <th>HomeGoalsConcededAvg_3</th>\n      <th>AwayGoalsConcededAvg_3</th>\n      <th>HomeGoalsScoredAvg_5</th>\n      <th>AwayGoalsScoredAvg_5</th>\n      <th>HomeGoalsConcededAvg_5</th>\n      <th>AwayGoalsConcededAvg_5</th>\n      <th>HomeGoalsScoredVariance</th>\n      <th>AwayGoalsScoredVariance</th>\n      <th>HomeTeam_encoded</th>\n      <th>AwayTeam_encoded</th>\n    </tr>\n  </thead>\n  <tbody>\n    <tr>\n      <th>177</th>\n      <td>2024-01-30</td>\n      <td>Westerlo</td>\n      <td>Cercle Brugge</td>\n      <td>4</td>\n      <td>2</td>\n      <td>H</td>\n      <td>4</td>\n      <td>1</td>\n      <td>H</td>\n      <td>9</td>\n      <td>...</td>\n      <td>0.666667</td>\n      <td>2.333333</td>\n      <td>2.6</td>\n      <td>1.2</td>\n      <td>1.6</td>\n      <td>2.0</td>\n      <td>1.3</td>\n      <td>0.7</td>\n      <td>15</td>\n      <td>2</td>\n    </tr>\n    <tr>\n      <th>178</th>\n      <td>2024-01-31</td>\n      <td>Charleroi</td>\n      <td>Eupen</td>\n      <td>1</td>\n      <td>0</td>\n      <td>H</td>\n      <td>0</td>\n      <td>0</td>\n      <td>D</td>\n      <td>12</td>\n      <td>...</td>\n      <td>1.666667</td>\n      <td>1.333333</td>\n      <td>1.8</td>\n      <td>0.2</td>\n      <td>2.0</td>\n      <td>1.6</td>\n      <td>1.2</td>\n      <td>0.2</td>\n      <td>3</td>\n      <td>5</td>\n    </tr>\n    <tr>\n      <th>179</th>\n      <td>2024-01-31</td>\n      <td>Oud-Heverlee Leuven</td>\n      <td>Genk</td>\n      <td>2</td>\n      <td>1</td>\n      <td>H</td>\n      <td>0</td>\n      <td>0</td>\n      <td>D</td>\n      <td>12</td>\n      <td>...</td>\n      <td>0.666667</td>\n      <td>1.666667</td>\n      <td>1.4</td>\n      <td>1.2</td>\n      <td>1.0</td>\n      <td>1.4</td>\n      <td>1.3</td>\n      <td>1.2</td>\n      <td>10</td>\n      <td>6</td>\n    </tr>\n    <tr>\n      <th>180</th>\n      <td>2024-01-31</td>\n      <td>St. Gilloise</td>\n      <td>RWD Molenbeek</td>\n      <td>3</td>\n      <td>2</td>\n      <td>H</td>\n      <td>2</td>\n      <td>0</td>\n      <td>H</td>\n      <td>11</td>\n      <td>...</td>\n      <td>1.000000</td>\n      <td>3.000000</td>\n      <td>2.2</td>\n      <td>0.8</td>\n      <td>0.8</td>\n      <td>3.0</td>\n      <td>0.7</td>\n      <td>0.7</td>\n      <td>13</td>\n      <td>11</td>\n    </tr>\n    <tr>\n      <th>181</th>\n      <td>2024-01-31</td>\n      <td>Standard</td>\n      <td>Antwerp</td>\n      <td>0</td>\n      <td>1</td>\n      <td>A</td>\n      <td>0</td>\n      <td>0</td>\n      <td>D</td>\n      <td>15</td>\n      <td>...</td>\n      <td>1.000000</td>\n      <td>1.333333</td>\n      <td>0.4</td>\n      <td>1.0</td>\n      <td>0.6</td>\n      <td>1.2</td>\n      <td>0.3</td>\n      <td>1.5</td>\n      <td>14</td>\n      <td>1</td>\n    </tr>\n  </tbody>\n</table>\n<p>5 rows × 115 columns</p>\n</div>"
     },
     "execution_count": 9,
     "metadata": {},
     "output_type": "execute_result"
    }
   ],
   "source": [
    "df.tail()"
   ],
   "metadata": {
    "collapsed": false,
    "ExecuteTime": {
     "end_time": "2024-02-01T22:37:07.840838500Z",
     "start_time": "2024-02-01T22:37:07.800690700Z"
    }
   },
   "id": "68ab9522885d1ebc",
   "execution_count": 9
  },
  {
   "cell_type": "code",
   "outputs": [],
   "source": [
    "# Encoding the target variable 'FTR'\n",
    "from sklearn.preprocessing import LabelEncoder\n",
    "\n",
    "# Initialize the LabelEncoder\n",
    "label_encoder = LabelEncoder()\n",
    "\n",
    "# Fit and transform the target variable using label_encoder_y\n",
    "df['FTR_encoded'] = label_encoder.fit_transform(df['FTR'])\n",
    "\n",
    "\n"
   ],
   "metadata": {
    "collapsed": false,
    "ExecuteTime": {
     "end_time": "2024-02-01T22:37:07.842829300Z",
     "start_time": "2024-02-01T22:37:07.822849300Z"
    }
   },
   "id": "fdeeda8cbb73755a",
   "execution_count": 10
  },
  {
   "cell_type": "code",
   "outputs": [],
   "source": [
    "\n",
    "# Average points per game\n",
    "df['HomeTeamPoints'] = df.groupby('HomeTeam')['FTR_encoded'].transform(lambda x: x.expanding().sum().shift(1)) / df.groupby('HomeTeam')['FTR_encoded'].transform(lambda x: x.expanding().count().shift(1))\n",
    "df['AwayTeamPoints'] = df.groupby('AwayTeam')['FTR_encoded'].transform(lambda x: x.expanding().sum().shift(1)) / df.groupby('AwayTeam')['FTR_encoded'].transform(lambda x: x.expanding().count().shift(1))\n",
    "\n"
   ],
   "metadata": {
    "collapsed": false,
    "ExecuteTime": {
     "end_time": "2024-02-01T22:37:07.931529600Z",
     "start_time": "2024-02-01T22:37:07.829834700Z"
    }
   },
   "id": "a5308beebd3622e1",
   "execution_count": 11
  },
  {
   "cell_type": "code",
   "outputs": [],
   "source": [
    "# Average goals per game\n",
    "df['HomeTeamAvgGoals'] = df.groupby('HomeTeam')['FTHG'].transform(lambda x: x.expanding().mean().shift(1)) # Average goals scored by the home team\n",
    "df['AwayTeamAvgGoals'] = df.groupby('AwayTeam')['FTAG'].transform(lambda x: x.expanding().mean().shift(1)) # Average goals scored by the away team\n",
    "\n"
   ],
   "metadata": {
    "collapsed": false,
    "ExecuteTime": {
     "end_time": "2024-02-01T22:37:07.983674800Z",
     "start_time": "2024-02-01T22:37:07.860941500Z"
    }
   },
   "id": "a9226672bfa2d435",
   "execution_count": 12
  },
  {
   "cell_type": "code",
   "outputs": [],
   "source": [
    "# recent form\n",
    "def calculate_form_points(team, df):\n",
    "    # Get the last 5 matches of the home and away teams\n",
    "    home_matches = df[df['HomeTeam'] == team].tail(5)\n",
    "    away_matches = df[df['AwayTeam'] == team].tail(5)\n",
    "\n",
    "    # Calculate the points obtained in the last 5 matches\n",
    "    home_points = home_matches['FTR_encoded'].sum()\n",
    "    away_points = away_matches['FTR_encoded'].sum()\n",
    "\n",
    "    # Calculate the average points obtained\n",
    "    home_avg_points = home_points / 15\n",
    "    away_avg_points = away_points / 15\n",
    "\n",
    "    # Return the average points\n",
    "    return home_avg_points, away_avg_points\n",
    "\n",
    "# Calculate the average points obtained by each team in the last 5 matches\n",
    "df['HomeTeamRecentForm'], df['AwayTeamRecentForm'] = zip(*df['HomeTeam'].apply(lambda x: calculate_form_points(x, df)))\n",
    "\n"
   ],
   "metadata": {
    "collapsed": false,
    "ExecuteTime": {
     "end_time": "2024-02-01T22:37:08.129605100Z",
     "start_time": "2024-02-01T22:37:07.899530100Z"
    }
   },
   "id": "7433bf2c3ef3a5e7",
   "execution_count": 13
  },
  {
   "cell_type": "markdown",
   "source": [],
   "metadata": {
    "collapsed": false
   },
   "id": "6b8611cb69bd65f5"
  },
  {
   "cell_type": "markdown",
   "source": [
    "## League Standings"
   ],
   "metadata": {
    "collapsed": false
   },
   "id": "79c062e3818b2c0"
  },
  {
   "cell_type": "code",
   "outputs": [
    {
     "data": {
      "text/plain": "          Date             HomeTeam             AwayTeam  FTHG  FTAG FTR  \\\n162 2024-01-20             Standard             Kortrijk     0     1   A   \n163 2024-01-20          Club Brugge             Westerlo     3     0   H   \n164 2024-01-21              Antwerp            Charleroi     4     1   H   \n165 2024-01-21         St. Gilloise           St Truiden     2     1   H   \n166 2024-01-21  Oud-Heverlee Leuven           Anderlecht     1     1   D   \n167 2024-01-24        RWD Molenbeek                Eupen     0     1   A   \n168 2024-01-26        Cercle Brugge             Standard     1     1   D   \n169 2024-01-27             Kortrijk  Oud-Heverlee Leuven     0     0   D   \n170 2024-01-27            Charleroi          Club Brugge     1     4   A   \n171 2024-01-27                 Gent             Westerlo     2     2   D   \n172 2024-01-28           St Truiden                 Genk     1     1   D   \n173 2024-01-28                Eupen              Antwerp     1     0   H   \n174 2024-01-28           Anderlecht         St. Gilloise     2     2   D   \n175 2024-01-28             Mechelen        RWD Molenbeek     3     1   H   \n176 2024-01-30          Club Brugge             Kortrijk     3     3   D   \n177 2024-01-30             Westerlo        Cercle Brugge     4     2   H   \n178 2024-01-31            Charleroi                Eupen     1     0   H   \n179 2024-01-31  Oud-Heverlee Leuven                 Genk     2     1   H   \n180 2024-01-31         St. Gilloise        RWD Molenbeek     3     2   H   \n181 2024-01-31             Standard              Antwerp     0     1   A   \n\n     HTHG  HTAG HTR  HS  ...   Draw  HomePoints  AwayPoints  HomeCumPoints  \\\n162     0     1   A  20  ...  False           0           3             14   \n163     1     0   H  14  ...  False           3           0             20   \n164     2     0   H  20  ...  False           3           0             22   \n165     1     1   D  16  ...  False           3           0             25   \n166     1     0   H   8  ...   True           1           1             11   \n167     0     0   D   8  ...  False           0           3             13   \n168     0     0   D  26  ...   True           1           1             18   \n169     0     0   D  13  ...   True           1           1              8   \n170     0     3   A  14  ...  False           0           3             18   \n171     1     1   D  14  ...   True           1           1             22   \n172     0     1   A  12  ...   True           1           1             15   \n173     1     0   H   9  ...  False           3           0              8   \n174     1     2   A  11  ...   True           1           1             26   \n175     0     0   D  24  ...  False           3           0             14   \n176     1     0   H  31  ...   True           1           1             23   \n177     4     1   H   9  ...  False           3           0             10   \n178     0     0   D  12  ...  False           3           0             18   \n179     0     0   D  12  ...  False           3           0             12   \n180     2     0   H  11  ...  False           3           0             28   \n181     0     0   D  15  ...  False           0           3             14   \n\n     AwayCumPoints  HomeTeamStandingBeforeMatch  HomeTeamStandingBeforeMatch  \\\n162              2                           23                           23   \n163             11                           34                           34   \n164              3                           32                           32   \n165             12                           48                           48   \n166             16                           16                           16   \n167              7                           21                           21   \n168              9                           32                           32   \n169              5                           13                           13   \n170             14                           21                           21   \n171             11                           38                           38   \n172             17                           27                           27   \n173             10                           18                           18   \n174             23                           43                           43   \n175              8                           25                           25   \n176              5                           40                           40   \n177             14                           22                           22   \n178             10                           21                           21   \n179             18                           18                           18   \n180              8                           52                           52   \n181             10                           24                           24   \n\n     AwayTeamStandingBeforeMatch  HomeTeamStandingBeforeMatch  \\\n162                           10                           23   \n163                           21                           34   \n164                           21                           32   \n165                           27                           48   \n166                           42                           16   \n167                           15                           21   \n168                           23                           32   \n169                           17                           13   \n170                           37                           21   \n171                           21                           38   \n172                           35                           27   \n173                           35                           18   \n174                           51                           43   \n175                           21                           25   \n176                           14                           40   \n177                           33                           22   \n178                           21                           21   \n179                           36                           18   \n180                           21                           52   \n181                           35                           24   \n\n     AwayTeamStandingBeforeMatch  \n162                           10  \n163                           21  \n164                           21  \n165                           27  \n166                           42  \n167                           15  \n168                           23  \n169                           17  \n170                           37  \n171                           21  \n172                           35  \n173                           35  \n174                           51  \n175                           21  \n176                           14  \n177                           33  \n178                           21  \n179                           36  \n180                           21  \n181                           35  \n\n[20 rows x 136 columns]",
      "text/html": "<div>\n<style scoped>\n    .dataframe tbody tr th:only-of-type {\n        vertical-align: middle;\n    }\n\n    .dataframe tbody tr th {\n        vertical-align: top;\n    }\n\n    .dataframe thead th {\n        text-align: right;\n    }\n</style>\n<table border=\"1\" class=\"dataframe\">\n  <thead>\n    <tr style=\"text-align: right;\">\n      <th></th>\n      <th>Date</th>\n      <th>HomeTeam</th>\n      <th>AwayTeam</th>\n      <th>FTHG</th>\n      <th>FTAG</th>\n      <th>FTR</th>\n      <th>HTHG</th>\n      <th>HTAG</th>\n      <th>HTR</th>\n      <th>HS</th>\n      <th>...</th>\n      <th>Draw</th>\n      <th>HomePoints</th>\n      <th>AwayPoints</th>\n      <th>HomeCumPoints</th>\n      <th>AwayCumPoints</th>\n      <th>HomeTeamStandingBeforeMatch</th>\n      <th>HomeTeamStandingBeforeMatch</th>\n      <th>AwayTeamStandingBeforeMatch</th>\n      <th>HomeTeamStandingBeforeMatch</th>\n      <th>AwayTeamStandingBeforeMatch</th>\n    </tr>\n  </thead>\n  <tbody>\n    <tr>\n      <th>162</th>\n      <td>2024-01-20</td>\n      <td>Standard</td>\n      <td>Kortrijk</td>\n      <td>0</td>\n      <td>1</td>\n      <td>A</td>\n      <td>0</td>\n      <td>1</td>\n      <td>A</td>\n      <td>20</td>\n      <td>...</td>\n      <td>False</td>\n      <td>0</td>\n      <td>3</td>\n      <td>14</td>\n      <td>2</td>\n      <td>23</td>\n      <td>23</td>\n      <td>10</td>\n      <td>23</td>\n      <td>10</td>\n    </tr>\n    <tr>\n      <th>163</th>\n      <td>2024-01-20</td>\n      <td>Club Brugge</td>\n      <td>Westerlo</td>\n      <td>3</td>\n      <td>0</td>\n      <td>H</td>\n      <td>1</td>\n      <td>0</td>\n      <td>H</td>\n      <td>14</td>\n      <td>...</td>\n      <td>False</td>\n      <td>3</td>\n      <td>0</td>\n      <td>20</td>\n      <td>11</td>\n      <td>34</td>\n      <td>34</td>\n      <td>21</td>\n      <td>34</td>\n      <td>21</td>\n    </tr>\n    <tr>\n      <th>164</th>\n      <td>2024-01-21</td>\n      <td>Antwerp</td>\n      <td>Charleroi</td>\n      <td>4</td>\n      <td>1</td>\n      <td>H</td>\n      <td>2</td>\n      <td>0</td>\n      <td>H</td>\n      <td>20</td>\n      <td>...</td>\n      <td>False</td>\n      <td>3</td>\n      <td>0</td>\n      <td>22</td>\n      <td>3</td>\n      <td>32</td>\n      <td>32</td>\n      <td>21</td>\n      <td>32</td>\n      <td>21</td>\n    </tr>\n    <tr>\n      <th>165</th>\n      <td>2024-01-21</td>\n      <td>St. Gilloise</td>\n      <td>St Truiden</td>\n      <td>2</td>\n      <td>1</td>\n      <td>H</td>\n      <td>1</td>\n      <td>1</td>\n      <td>D</td>\n      <td>16</td>\n      <td>...</td>\n      <td>False</td>\n      <td>3</td>\n      <td>0</td>\n      <td>25</td>\n      <td>12</td>\n      <td>48</td>\n      <td>48</td>\n      <td>27</td>\n      <td>48</td>\n      <td>27</td>\n    </tr>\n    <tr>\n      <th>166</th>\n      <td>2024-01-21</td>\n      <td>Oud-Heverlee Leuven</td>\n      <td>Anderlecht</td>\n      <td>1</td>\n      <td>1</td>\n      <td>D</td>\n      <td>1</td>\n      <td>0</td>\n      <td>H</td>\n      <td>8</td>\n      <td>...</td>\n      <td>True</td>\n      <td>1</td>\n      <td>1</td>\n      <td>11</td>\n      <td>16</td>\n      <td>16</td>\n      <td>16</td>\n      <td>42</td>\n      <td>16</td>\n      <td>42</td>\n    </tr>\n    <tr>\n      <th>167</th>\n      <td>2024-01-24</td>\n      <td>RWD Molenbeek</td>\n      <td>Eupen</td>\n      <td>0</td>\n      <td>1</td>\n      <td>A</td>\n      <td>0</td>\n      <td>0</td>\n      <td>D</td>\n      <td>8</td>\n      <td>...</td>\n      <td>False</td>\n      <td>0</td>\n      <td>3</td>\n      <td>13</td>\n      <td>7</td>\n      <td>21</td>\n      <td>21</td>\n      <td>15</td>\n      <td>21</td>\n      <td>15</td>\n    </tr>\n    <tr>\n      <th>168</th>\n      <td>2024-01-26</td>\n      <td>Cercle Brugge</td>\n      <td>Standard</td>\n      <td>1</td>\n      <td>1</td>\n      <td>D</td>\n      <td>0</td>\n      <td>0</td>\n      <td>D</td>\n      <td>26</td>\n      <td>...</td>\n      <td>True</td>\n      <td>1</td>\n      <td>1</td>\n      <td>18</td>\n      <td>9</td>\n      <td>32</td>\n      <td>32</td>\n      <td>23</td>\n      <td>32</td>\n      <td>23</td>\n    </tr>\n    <tr>\n      <th>169</th>\n      <td>2024-01-27</td>\n      <td>Kortrijk</td>\n      <td>Oud-Heverlee Leuven</td>\n      <td>0</td>\n      <td>0</td>\n      <td>D</td>\n      <td>0</td>\n      <td>0</td>\n      <td>D</td>\n      <td>13</td>\n      <td>...</td>\n      <td>True</td>\n      <td>1</td>\n      <td>1</td>\n      <td>8</td>\n      <td>5</td>\n      <td>13</td>\n      <td>13</td>\n      <td>17</td>\n      <td>13</td>\n      <td>17</td>\n    </tr>\n    <tr>\n      <th>170</th>\n      <td>2024-01-27</td>\n      <td>Charleroi</td>\n      <td>Club Brugge</td>\n      <td>1</td>\n      <td>4</td>\n      <td>A</td>\n      <td>0</td>\n      <td>3</td>\n      <td>A</td>\n      <td>14</td>\n      <td>...</td>\n      <td>False</td>\n      <td>0</td>\n      <td>3</td>\n      <td>18</td>\n      <td>14</td>\n      <td>21</td>\n      <td>21</td>\n      <td>37</td>\n      <td>21</td>\n      <td>37</td>\n    </tr>\n    <tr>\n      <th>171</th>\n      <td>2024-01-27</td>\n      <td>Gent</td>\n      <td>Westerlo</td>\n      <td>2</td>\n      <td>2</td>\n      <td>D</td>\n      <td>1</td>\n      <td>1</td>\n      <td>D</td>\n      <td>14</td>\n      <td>...</td>\n      <td>True</td>\n      <td>1</td>\n      <td>1</td>\n      <td>22</td>\n      <td>11</td>\n      <td>38</td>\n      <td>38</td>\n      <td>21</td>\n      <td>38</td>\n      <td>21</td>\n    </tr>\n    <tr>\n      <th>172</th>\n      <td>2024-01-28</td>\n      <td>St Truiden</td>\n      <td>Genk</td>\n      <td>1</td>\n      <td>1</td>\n      <td>D</td>\n      <td>0</td>\n      <td>1</td>\n      <td>A</td>\n      <td>12</td>\n      <td>...</td>\n      <td>True</td>\n      <td>1</td>\n      <td>1</td>\n      <td>15</td>\n      <td>17</td>\n      <td>27</td>\n      <td>27</td>\n      <td>35</td>\n      <td>27</td>\n      <td>35</td>\n    </tr>\n    <tr>\n      <th>173</th>\n      <td>2024-01-28</td>\n      <td>Eupen</td>\n      <td>Antwerp</td>\n      <td>1</td>\n      <td>0</td>\n      <td>H</td>\n      <td>1</td>\n      <td>0</td>\n      <td>H</td>\n      <td>9</td>\n      <td>...</td>\n      <td>False</td>\n      <td>3</td>\n      <td>0</td>\n      <td>8</td>\n      <td>10</td>\n      <td>18</td>\n      <td>18</td>\n      <td>35</td>\n      <td>18</td>\n      <td>35</td>\n    </tr>\n    <tr>\n      <th>174</th>\n      <td>2024-01-28</td>\n      <td>Anderlecht</td>\n      <td>St. Gilloise</td>\n      <td>2</td>\n      <td>2</td>\n      <td>D</td>\n      <td>1</td>\n      <td>2</td>\n      <td>A</td>\n      <td>11</td>\n      <td>...</td>\n      <td>True</td>\n      <td>1</td>\n      <td>1</td>\n      <td>26</td>\n      <td>23</td>\n      <td>43</td>\n      <td>43</td>\n      <td>51</td>\n      <td>43</td>\n      <td>51</td>\n    </tr>\n    <tr>\n      <th>175</th>\n      <td>2024-01-28</td>\n      <td>Mechelen</td>\n      <td>RWD Molenbeek</td>\n      <td>3</td>\n      <td>1</td>\n      <td>H</td>\n      <td>0</td>\n      <td>0</td>\n      <td>D</td>\n      <td>24</td>\n      <td>...</td>\n      <td>False</td>\n      <td>3</td>\n      <td>0</td>\n      <td>14</td>\n      <td>8</td>\n      <td>25</td>\n      <td>25</td>\n      <td>21</td>\n      <td>25</td>\n      <td>21</td>\n    </tr>\n    <tr>\n      <th>176</th>\n      <td>2024-01-30</td>\n      <td>Club Brugge</td>\n      <td>Kortrijk</td>\n      <td>3</td>\n      <td>3</td>\n      <td>D</td>\n      <td>1</td>\n      <td>0</td>\n      <td>H</td>\n      <td>31</td>\n      <td>...</td>\n      <td>True</td>\n      <td>1</td>\n      <td>1</td>\n      <td>23</td>\n      <td>5</td>\n      <td>40</td>\n      <td>40</td>\n      <td>14</td>\n      <td>40</td>\n      <td>14</td>\n    </tr>\n    <tr>\n      <th>177</th>\n      <td>2024-01-30</td>\n      <td>Westerlo</td>\n      <td>Cercle Brugge</td>\n      <td>4</td>\n      <td>2</td>\n      <td>H</td>\n      <td>4</td>\n      <td>1</td>\n      <td>H</td>\n      <td>9</td>\n      <td>...</td>\n      <td>False</td>\n      <td>3</td>\n      <td>0</td>\n      <td>10</td>\n      <td>14</td>\n      <td>22</td>\n      <td>22</td>\n      <td>33</td>\n      <td>22</td>\n      <td>33</td>\n    </tr>\n    <tr>\n      <th>178</th>\n      <td>2024-01-31</td>\n      <td>Charleroi</td>\n      <td>Eupen</td>\n      <td>1</td>\n      <td>0</td>\n      <td>H</td>\n      <td>0</td>\n      <td>0</td>\n      <td>D</td>\n      <td>12</td>\n      <td>...</td>\n      <td>False</td>\n      <td>3</td>\n      <td>0</td>\n      <td>18</td>\n      <td>10</td>\n      <td>21</td>\n      <td>21</td>\n      <td>21</td>\n      <td>21</td>\n      <td>21</td>\n    </tr>\n    <tr>\n      <th>179</th>\n      <td>2024-01-31</td>\n      <td>Oud-Heverlee Leuven</td>\n      <td>Genk</td>\n      <td>2</td>\n      <td>1</td>\n      <td>H</td>\n      <td>0</td>\n      <td>0</td>\n      <td>D</td>\n      <td>12</td>\n      <td>...</td>\n      <td>False</td>\n      <td>3</td>\n      <td>0</td>\n      <td>12</td>\n      <td>18</td>\n      <td>18</td>\n      <td>18</td>\n      <td>36</td>\n      <td>18</td>\n      <td>36</td>\n    </tr>\n    <tr>\n      <th>180</th>\n      <td>2024-01-31</td>\n      <td>St. Gilloise</td>\n      <td>RWD Molenbeek</td>\n      <td>3</td>\n      <td>2</td>\n      <td>H</td>\n      <td>2</td>\n      <td>0</td>\n      <td>H</td>\n      <td>11</td>\n      <td>...</td>\n      <td>False</td>\n      <td>3</td>\n      <td>0</td>\n      <td>28</td>\n      <td>8</td>\n      <td>52</td>\n      <td>52</td>\n      <td>21</td>\n      <td>52</td>\n      <td>21</td>\n    </tr>\n    <tr>\n      <th>181</th>\n      <td>2024-01-31</td>\n      <td>Standard</td>\n      <td>Antwerp</td>\n      <td>0</td>\n      <td>1</td>\n      <td>A</td>\n      <td>0</td>\n      <td>0</td>\n      <td>D</td>\n      <td>15</td>\n      <td>...</td>\n      <td>False</td>\n      <td>0</td>\n      <td>3</td>\n      <td>14</td>\n      <td>10</td>\n      <td>24</td>\n      <td>24</td>\n      <td>35</td>\n      <td>24</td>\n      <td>35</td>\n    </tr>\n  </tbody>\n</table>\n<p>20 rows × 136 columns</p>\n</div>"
     },
     "execution_count": 44,
     "metadata": {},
     "output_type": "execute_result"
    }
   ],
   "source": [
    "# Assuming df is your DataFrame with the match data\n",
    "df['HomeWin'] = df['FTHG'] > df['FTAG']\n",
    "df['AwayWin'] = df['FTAG'] > df['FTHG']\n",
    "df['Draw'] = df['FTHG'] == df['FTAG']\n",
    "\n",
    "# Assign points based on outcomes\n",
    "df['HomePoints'] = df['HomeWin'] * 3 + df['Draw'] * 1\n",
    "df['AwayPoints'] = df['AwayWin'] * 3 + df['Draw'] * 1\n",
    "\n",
    "# Combine home and away games into a single DataFrame for point calculation\n",
    "points_df = pd.concat([\n",
    "    df[['Date', 'HomeTeam', 'HomePoints']].rename(columns={'HomeTeam': 'Team', 'HomePoints': 'Points'}),\n",
    "    df[['Date', 'AwayTeam', 'AwayPoints']].rename(columns={'AwayTeam': 'Team', 'AwayPoints': 'Points'})\n",
    "])\n",
    "\n",
    "# Sort by match date to ensure chronological order\n",
    "points_df.sort_values(by=['Date'], inplace=True)\n",
    "\n",
    "# Calculate cumulative points for each team\n",
    "points_df['CumulativePoints'] = points_df.groupby('Team')['Points'].cumsum()\n",
    "\n",
    "# Prepare for merging by shifting cumulative points to represent standings before the match\n",
    "points_df['CumulativePoints'] = points_df.groupby('Team')['CumulativePoints'].shift(fill_value=0)\n",
    "\n",
    "# Merge back into the original DataFrame to associate standings with each match\n",
    "df = df.merge(points_df[['Date', 'Team', 'CumulativePoints']], \n",
    "              left_on=['Date', 'HomeTeam'], \n",
    "              right_on=['Date', 'Team'], \n",
    "              how='left').rename(columns={'CumulativePoints': 'HomeTeamStandingBeforeMatch'}).drop('Team', axis=1)\n",
    "\n",
    "df = df.merge(points_df[['Date', 'Team', 'CumulativePoints']], \n",
    "              left_on=['Date', 'AwayTeam'], \n",
    "              right_on=['Date', 'Team'], \n",
    "              how='left').rename(columns={'CumulativePoints': 'AwayTeamStandingBeforeMatch'}).drop('Team', axis=1)\n",
    "\n",
    "# Display the updated DataFrame with team standings before each match\n",
    "\n",
    "# Display the DataFrame \n",
    "df.tail(20)\n",
    "\n",
    "# get the league standings\n",
    "\n",
    "\n"
   ],
   "metadata": {
    "collapsed": false,
    "ExecuteTime": {
     "end_time": "2024-02-02T20:30:42.256535300Z",
     "start_time": "2024-02-02T20:30:42.201030500Z"
    }
   },
   "id": "5e021638426d6750",
   "execution_count": 44
  },
  {
   "cell_type": "markdown",
   "source": [
    "### League standings"
   ],
   "metadata": {
    "collapsed": false
   },
   "id": "8f21cce905c91424"
  },
  {
   "cell_type": "code",
   "outputs": [
    {
     "name": "stdout",
     "output_type": "stream",
     "text": [
      "                   Team  TotalPoints  GoalDifference\n",
      "0          St. Gilloise           55              26\n",
      "1            Anderlecht           44              18\n",
      "2           Club Brugge           41              27\n",
      "3                  Gent           39              15\n",
      "4               Antwerp           38              20\n",
      "5                  Genk           36              20\n",
      "6         Cercle Brugge           33               1\n",
      "7              Mechelen           28              -2\n",
      "8            St Truiden           28              -7\n",
      "9              Westerlo           25              -6\n",
      "10             Standard           24             -12\n",
      "11            Charleroi           24             -14\n",
      "12  Oud-Heverlee Leuven           21             -12\n",
      "13                Eupen           21             -21\n",
      "14        RWD Molenbeek           21             -22\n",
      "15             Kortrijk           15             -31\n"
     ]
    }
   ],
   "source": [
    "# getting the league standings\n",
    "# Aggregate points for each team\n",
    "home_points = df.groupby('HomeTeam')['HomePoints'].sum().reset_index()\n",
    "away_points = df.groupby('AwayTeam')['AwayPoints'].sum().reset_index()\n",
    "\n",
    "# Merge and sum the points for total points\n",
    "points = pd.merge(home_points, away_points, left_on='HomeTeam', right_on='AwayTeam', how='outer', suffixes=('_home', '_away')).fillna(0)\n",
    "points['Team'] = points['HomeTeam'].combine_first(points['AwayTeam'])\n",
    "points['TotalPoints'] = points['HomePoints'] + points['AwayPoints']\n",
    "\n",
    "# Calculate goal difference for tiebreakers\n",
    "home_goals = df.groupby('HomeTeam').agg({'FTHG':'sum', 'FTAG':'sum'}).reset_index().rename(columns={'FTHG': 'GoalsFor_home', 'FTAG': 'GoalsAgainst_home'})\n",
    "away_goals = df.groupby('AwayTeam').agg({'FTAG':'sum', 'FTHG':'sum'}).reset_index().rename(columns={'FTAG': 'GoalsFor_away', 'FTHG': 'GoalsAgainst_away'})\n",
    "\n",
    "goals = pd.merge(home_goals, away_goals, left_on='HomeTeam', right_on='AwayTeam', how='outer', suffixes=('_home', '_away')).fillna(0)\n",
    "goals['Team'] = goals['HomeTeam'].combine_first(goals['AwayTeam'])\n",
    "goals['GoalDifference'] = (goals['GoalsFor_home'] + goals['GoalsFor_away']) - (goals['GoalsAgainst_home'] + goals['GoalsAgainst_away'])\n",
    "\n",
    "# Merge points and goals to get a complete standing\n",
    "standings = pd.merge(points[['Team', 'TotalPoints']], goals[['Team', 'GoalDifference']], on='Team')\n",
    "\n",
    "# Sort teams by Total Points and Goal Difference\n",
    "standings.sort_values(by=['TotalPoints', 'GoalDifference'], ascending=[False, False], inplace=True)\n",
    "\n",
    "# Reset index to get ranking\n",
    "standings.reset_index(drop=True, inplace=True)\n",
    "\n",
    "# Display the league standings\n",
    "print(standings.head(20))"
   ],
   "metadata": {
    "collapsed": false,
    "ExecuteTime": {
     "end_time": "2024-02-02T20:49:15.419590400Z",
     "start_time": "2024-02-02T20:49:15.381495700Z"
    }
   },
   "id": "ddae4df515f8a719",
   "execution_count": 47
  },
  {
   "cell_type": "code",
   "execution_count": 14,
   "outputs": [],
   "source": [
    "from sklearn.model_selection import train_test_split\n",
    "\n",
    "# Convert 'Date' to datetime and extract useful features\n",
    "df['Date'] = pd.to_datetime(df['Date'], format='%d/%m/%Y')\n",
    "df['DayOfWeek'] = df['Date'].dt.dayofweek  # 0: Monday, 6: Sunday\n",
    "df['IsWeekend'] = df['DayOfWeek'].isin([5, 6]).astype(int)  # 1 for weekend, 0 for weekdays\n",
    "\n"
   ],
   "metadata": {
    "collapsed": false,
    "ExecuteTime": {
     "end_time": "2024-02-01T22:37:16.129051400Z",
     "start_time": "2024-02-01T22:37:08.130616700Z"
    }
   },
   "id": "e80b6e05d39f4181"
  },
  {
   "cell_type": "code",
   "outputs": [],
   "source": [],
   "metadata": {
    "collapsed": false,
    "ExecuteTime": {
     "end_time": "2024-02-01T22:37:16.144591900Z",
     "start_time": "2024-02-01T22:37:16.130051300Z"
    }
   },
   "id": "3df868f314128140",
   "execution_count": 14
  },
  {
   "cell_type": "code",
   "outputs": [],
   "source": [
    "#select relevant columns or features and the target\n",
    "features = [\n",
    "    'HomeTeam_encoded', 'AwayTeam_encoded', 'HomeTeamRecentForm', 'AwayTeamRecentForm', \n",
    "    'HomeTeamAvgGoals', 'AwayTeamAvgGoals', 'HomeTeamPoints', 'AwayTeamPoints', 'HomeGoalsScoredVariance', 'AwayGoalsScoredVariance', 'HomeGoalsScoredAvg_3', 'AwayGoalsScoredAvg_3', 'HomeGoalsConcededAvg_3', 'AwayGoalsConcededAvg_3', 'HomeGoalsScoredAvg_5', 'AwayGoalsScoredAvg_5', 'HomeGoalsConcededAvg_5', 'AwayGoalsConcededAvg_5',\n",
    "]\n",
    "\n",
    "target = 'FTR_encoded'\n",
    "\n",
    "# Split the data into training and test sets\n",
    "X = df[features]\n",
    "y = df[target]\n",
    "\n",
    "X_train, X_test, y_train, y_test = train_test_split(X, y, test_size=0.2, random_state=42)\n",
    "train_test_split(X, y, test_size=0.2, random_state=42)\n",
    "\n",
    "# Previewing the processed features\n",
    "X_train.head(7), y_train.head(7)\n",
    "\n",
    "# encoding the categorical variables\n",
    "from sklearn.preprocessing import LabelEncoder\n",
    "\n",
    "# Initialize the LabelEncoder\n",
    "label_encoder = LabelEncoder()\n",
    "\n",
    "# Fit and transform the target variable using label_encoder_y\n",
    "y_train_encoded = label_encoder.fit_transform(y_train)\n",
    "y_test_encoded = label_encoder.transform(y_test)\n"
   ],
   "metadata": {
    "collapsed": false,
    "ExecuteTime": {
     "end_time": "2024-02-01T22:37:16.169456500Z",
     "start_time": "2024-02-01T22:37:16.144591900Z"
    }
   },
   "id": "5c1fefe366e02665",
   "execution_count": 15
  },
  {
   "cell_type": "code",
   "outputs": [],
   "source": [
    "# scaling the features\n",
    "from sklearn.preprocessing import StandardScaler\n",
    "\n",
    "# Initialize the StandardScaler\n",
    "scaler = StandardScaler()\n",
    "\n",
    "# Fit the StandardScaler\n",
    "scaler.fit(X_train)\n",
    "\n",
    "# Transform both the training and testing sets\n",
    "X_train_scaled = scaler.transform(X_train)\n",
    "X_test_scaled = scaler.transform(X_test)\n",
    "\n"
   ],
   "metadata": {
    "collapsed": false,
    "ExecuteTime": {
     "end_time": "2024-02-01T22:37:16.210275200Z",
     "start_time": "2024-02-01T22:37:16.160443500Z"
    }
   },
   "id": "474e0ec0b8de5c52",
   "execution_count": 16
  },
  {
   "cell_type": "markdown",
   "source": [
    "### Create Model\n"
   ],
   "metadata": {
    "collapsed": false
   },
   "id": "e1ad0e76308763b7"
  },
  {
   "cell_type": "code",
   "execution_count": 17,
   "outputs": [
    {
     "name": "stdout",
     "output_type": "stream",
     "text": [
      "[LightGBM] [Info] Auto-choosing col-wise multi-threading, the overhead of testing was 0.000080 seconds.\n",
      "You can set `force_col_wise=true` to remove the overhead.\n",
      "[LightGBM] [Info] Total Bins 349\n",
      "[LightGBM] [Info] Number of data points in the train set: 145, number of used features: 18\n",
      "[LightGBM] [Info] Start training from score -1.339148\n",
      "[LightGBM] [Info] Start training from score -1.263162\n",
      "[LightGBM] [Info] Start training from score -0.787079\n",
      "[LightGBM] [Warning] No further splits with positive gain, best gain: -inf\n",
      "[LightGBM] [Warning] No further splits with positive gain, best gain: -inf\n",
      "[LightGBM] [Warning] No further splits with positive gain, best gain: -inf\n",
      "[LightGBM] [Warning] No further splits with positive gain, best gain: -inf\n",
      "[LightGBM] [Warning] No further splits with positive gain, best gain: -inf\n",
      "[LightGBM] [Warning] No further splits with positive gain, best gain: -inf\n",
      "[LightGBM] [Warning] No further splits with positive gain, best gain: -inf\n",
      "[LightGBM] [Warning] No further splits with positive gain, best gain: -inf\n",
      "[LightGBM] [Warning] No further splits with positive gain, best gain: -inf\n",
      "[LightGBM] [Warning] No further splits with positive gain, best gain: -inf\n",
      "[LightGBM] [Warning] No further splits with positive gain, best gain: -inf\n",
      "[LightGBM] [Warning] No further splits with positive gain, best gain: -inf\n",
      "[LightGBM] [Warning] No further splits with positive gain, best gain: -inf\n",
      "[LightGBM] [Warning] No further splits with positive gain, best gain: -inf\n",
      "[LightGBM] [Warning] No further splits with positive gain, best gain: -inf\n",
      "[LightGBM] [Warning] No further splits with positive gain, best gain: -inf\n",
      "[LightGBM] [Warning] No further splits with positive gain, best gain: -inf\n",
      "[LightGBM] [Warning] No further splits with positive gain, best gain: -inf\n",
      "[LightGBM] [Warning] No further splits with positive gain, best gain: -inf\n",
      "[LightGBM] [Warning] No further splits with positive gain, best gain: -inf\n",
      "[LightGBM] [Warning] No further splits with positive gain, best gain: -inf\n",
      "[LightGBM] [Warning] No further splits with positive gain, best gain: -inf\n",
      "[LightGBM] [Warning] No further splits with positive gain, best gain: -inf\n",
      "[LightGBM] [Warning] No further splits with positive gain, best gain: -inf\n",
      "[LightGBM] [Warning] No further splits with positive gain, best gain: -inf\n",
      "[LightGBM] [Warning] No further splits with positive gain, best gain: -inf\n",
      "[LightGBM] [Warning] No further splits with positive gain, best gain: -inf\n",
      "[LightGBM] [Warning] No further splits with positive gain, best gain: -inf\n",
      "[LightGBM] [Warning] No further splits with positive gain, best gain: -inf\n",
      "[LightGBM] [Warning] No further splits with positive gain, best gain: -inf\n",
      "[LightGBM] [Warning] No further splits with positive gain, best gain: -inf\n",
      "[LightGBM] [Warning] No further splits with positive gain, best gain: -inf\n",
      "[LightGBM] [Warning] No further splits with positive gain, best gain: -inf\n",
      "[LightGBM] [Warning] No further splits with positive gain, best gain: -inf\n",
      "[LightGBM] [Warning] No further splits with positive gain, best gain: -inf\n",
      "[LightGBM] [Warning] No further splits with positive gain, best gain: -inf\n",
      "[LightGBM] [Warning] No further splits with positive gain, best gain: -inf\n",
      "[LightGBM] [Warning] No further splits with positive gain, best gain: -inf\n",
      "[LightGBM] [Warning] No further splits with positive gain, best gain: -inf\n",
      "[LightGBM] [Warning] No further splits with positive gain, best gain: -inf\n",
      "[LightGBM] [Warning] No further splits with positive gain, best gain: -inf\n",
      "[LightGBM] [Warning] No further splits with positive gain, best gain: -inf\n",
      "[LightGBM] [Warning] No further splits with positive gain, best gain: -inf\n",
      "[LightGBM] [Warning] No further splits with positive gain, best gain: -inf\n",
      "[LightGBM] [Warning] No further splits with positive gain, best gain: -inf\n",
      "[LightGBM] [Warning] No further splits with positive gain, best gain: -inf\n",
      "[LightGBM] [Warning] No further splits with positive gain, best gain: -inf\n",
      "[LightGBM] [Warning] No further splits with positive gain, best gain: -inf\n",
      "[LightGBM] [Warning] No further splits with positive gain, best gain: -inf\n",
      "[LightGBM] [Warning] No further splits with positive gain, best gain: -inf\n",
      "[LightGBM] [Warning] No further splits with positive gain, best gain: -inf\n",
      "[LightGBM] [Warning] No further splits with positive gain, best gain: -inf\n",
      "[LightGBM] [Warning] No further splits with positive gain, best gain: -inf\n",
      "[LightGBM] [Warning] No further splits with positive gain, best gain: -inf\n",
      "[LightGBM] [Warning] No further splits with positive gain, best gain: -inf\n",
      "[LightGBM] [Warning] No further splits with positive gain, best gain: -inf\n",
      "[LightGBM] [Warning] No further splits with positive gain, best gain: -inf\n",
      "[LightGBM] [Warning] No further splits with positive gain, best gain: -inf\n",
      "[LightGBM] [Warning] No further splits with positive gain, best gain: -inf\n",
      "[LightGBM] [Warning] No further splits with positive gain, best gain: -inf\n",
      "[LightGBM] [Warning] No further splits with positive gain, best gain: -inf\n",
      "[LightGBM] [Warning] No further splits with positive gain, best gain: -inf\n",
      "[LightGBM] [Warning] No further splits with positive gain, best gain: -inf\n",
      "[LightGBM] [Warning] No further splits with positive gain, best gain: -inf\n",
      "[LightGBM] [Warning] No further splits with positive gain, best gain: -inf\n",
      "[LightGBM] [Warning] No further splits with positive gain, best gain: -inf\n",
      "[LightGBM] [Warning] No further splits with positive gain, best gain: -inf\n",
      "[LightGBM] [Warning] No further splits with positive gain, best gain: -inf\n",
      "[LightGBM] [Warning] No further splits with positive gain, best gain: -inf\n",
      "[LightGBM] [Warning] No further splits with positive gain, best gain: -inf\n",
      "[LightGBM] [Warning] No further splits with positive gain, best gain: -inf\n",
      "[LightGBM] [Warning] No further splits with positive gain, best gain: -inf\n",
      "[LightGBM] [Warning] No further splits with positive gain, best gain: -inf\n",
      "[LightGBM] [Warning] No further splits with positive gain, best gain: -inf\n",
      "[LightGBM] [Warning] No further splits with positive gain, best gain: -inf\n",
      "[LightGBM] [Warning] No further splits with positive gain, best gain: -inf\n",
      "[LightGBM] [Warning] No further splits with positive gain, best gain: -inf\n",
      "[LightGBM] [Warning] No further splits with positive gain, best gain: -inf\n",
      "[LightGBM] [Warning] No further splits with positive gain, best gain: -inf\n",
      "[LightGBM] [Warning] No further splits with positive gain, best gain: -inf\n",
      "[LightGBM] [Warning] No further splits with positive gain, best gain: -inf\n",
      "[LightGBM] [Warning] No further splits with positive gain, best gain: -inf\n",
      "[LightGBM] [Warning] No further splits with positive gain, best gain: -inf\n",
      "[LightGBM] [Warning] No further splits with positive gain, best gain: -inf\n",
      "[LightGBM] [Warning] No further splits with positive gain, best gain: -inf\n",
      "[LightGBM] [Warning] No further splits with positive gain, best gain: -inf\n",
      "[LightGBM] [Warning] No further splits with positive gain, best gain: -inf\n",
      "[LightGBM] [Warning] No further splits with positive gain, best gain: -inf\n",
      "[LightGBM] [Warning] No further splits with positive gain, best gain: -inf\n",
      "[LightGBM] [Warning] No further splits with positive gain, best gain: -inf\n",
      "[LightGBM] [Warning] No further splits with positive gain, best gain: -inf\n",
      "[LightGBM] [Warning] No further splits with positive gain, best gain: -inf\n",
      "[LightGBM] [Warning] No further splits with positive gain, best gain: -inf\n",
      "[LightGBM] [Warning] No further splits with positive gain, best gain: -inf\n",
      "[LightGBM] [Warning] No further splits with positive gain, best gain: -inf\n",
      "[LightGBM] [Warning] No further splits with positive gain, best gain: -inf\n",
      "[LightGBM] [Warning] No further splits with positive gain, best gain: -inf\n",
      "[LightGBM] [Warning] No further splits with positive gain, best gain: -inf\n",
      "[LightGBM] [Warning] No further splits with positive gain, best gain: -inf\n",
      "[LightGBM] [Warning] No further splits with positive gain, best gain: -inf\n",
      "[LightGBM] [Warning] No further splits with positive gain, best gain: -inf\n",
      "[LightGBM] [Warning] No further splits with positive gain, best gain: -inf\n",
      "[LightGBM] [Warning] No further splits with positive gain, best gain: -inf\n",
      "[LightGBM] [Warning] No further splits with positive gain, best gain: -inf\n",
      "[LightGBM] [Warning] No further splits with positive gain, best gain: -inf\n",
      "[LightGBM] [Warning] No further splits with positive gain, best gain: -inf\n",
      "[LightGBM] [Warning] No further splits with positive gain, best gain: -inf\n",
      "[LightGBM] [Warning] No further splits with positive gain, best gain: -inf\n",
      "[LightGBM] [Warning] No further splits with positive gain, best gain: -inf\n",
      "[LightGBM] [Warning] No further splits with positive gain, best gain: -inf\n",
      "[LightGBM] [Warning] No further splits with positive gain, best gain: -inf\n",
      "[LightGBM] [Warning] No further splits with positive gain, best gain: -inf\n",
      "[LightGBM] [Warning] No further splits with positive gain, best gain: -inf\n",
      "[LightGBM] [Warning] No further splits with positive gain, best gain: -inf\n",
      "[LightGBM] [Warning] No further splits with positive gain, best gain: -inf\n",
      "[LightGBM] [Warning] No further splits with positive gain, best gain: -inf\n",
      "[LightGBM] [Warning] No further splits with positive gain, best gain: -inf\n",
      "[LightGBM] [Warning] No further splits with positive gain, best gain: -inf\n",
      "[LightGBM] [Warning] No further splits with positive gain, best gain: -inf\n",
      "[LightGBM] [Warning] No further splits with positive gain, best gain: -inf\n",
      "[LightGBM] [Warning] No further splits with positive gain, best gain: -inf\n",
      "[LightGBM] [Warning] No further splits with positive gain, best gain: -inf\n",
      "[LightGBM] [Warning] No further splits with positive gain, best gain: -inf\n",
      "[LightGBM] [Warning] No further splits with positive gain, best gain: -inf\n",
      "[LightGBM] [Warning] No further splits with positive gain, best gain: -inf\n",
      "[LightGBM] [Warning] No further splits with positive gain, best gain: -inf\n",
      "[LightGBM] [Warning] No further splits with positive gain, best gain: -inf\n",
      "[LightGBM] [Warning] No further splits with positive gain, best gain: -inf\n",
      "[LightGBM] [Warning] No further splits with positive gain, best gain: -inf\n",
      "[LightGBM] [Warning] No further splits with positive gain, best gain: -inf\n",
      "[LightGBM] [Warning] No further splits with positive gain, best gain: -inf\n",
      "[LightGBM] [Warning] No further splits with positive gain, best gain: -inf\n",
      "[LightGBM] [Warning] No further splits with positive gain, best gain: -inf\n",
      "[LightGBM] [Warning] No further splits with positive gain, best gain: -inf\n",
      "[LightGBM] [Warning] No further splits with positive gain, best gain: -inf\n",
      "[LightGBM] [Warning] No further splits with positive gain, best gain: -inf\n",
      "[LightGBM] [Warning] No further splits with positive gain, best gain: -inf\n",
      "[LightGBM] [Warning] No further splits with positive gain, best gain: -inf\n",
      "[LightGBM] [Warning] No further splits with positive gain, best gain: -inf\n",
      "[LightGBM] [Warning] No further splits with positive gain, best gain: -inf\n",
      "[LightGBM] [Warning] No further splits with positive gain, best gain: -inf\n",
      "[LightGBM] [Warning] No further splits with positive gain, best gain: -inf\n",
      "[LightGBM] [Warning] No further splits with positive gain, best gain: -inf\n",
      "[LightGBM] [Warning] No further splits with positive gain, best gain: -inf\n",
      "[LightGBM] [Warning] No further splits with positive gain, best gain: -inf\n",
      "[LightGBM] [Warning] No further splits with positive gain, best gain: -inf\n",
      "[LightGBM] [Warning] No further splits with positive gain, best gain: -inf\n",
      "[LightGBM] [Warning] No further splits with positive gain, best gain: -inf\n",
      "[LightGBM] [Warning] No further splits with positive gain, best gain: -inf\n",
      "[LightGBM] [Warning] No further splits with positive gain, best gain: -inf\n",
      "[LightGBM] [Warning] No further splits with positive gain, best gain: -inf\n",
      "[LightGBM] [Warning] No further splits with positive gain, best gain: -inf\n",
      "[LightGBM] [Warning] No further splits with positive gain, best gain: -inf\n",
      "[LightGBM] [Warning] No further splits with positive gain, best gain: -inf\n",
      "[LightGBM] [Warning] No further splits with positive gain, best gain: -inf\n",
      "[LightGBM] [Warning] No further splits with positive gain, best gain: -inf\n",
      "[LightGBM] [Warning] No further splits with positive gain, best gain: -inf\n",
      "[LightGBM] [Warning] No further splits with positive gain, best gain: -inf\n",
      "[LightGBM] [Warning] No further splits with positive gain, best gain: -inf\n",
      "[LightGBM] [Warning] No further splits with positive gain, best gain: -inf\n",
      "[LightGBM] [Warning] No further splits with positive gain, best gain: -inf\n",
      "[LightGBM] [Warning] No further splits with positive gain, best gain: -inf\n",
      "[LightGBM] [Warning] No further splits with positive gain, best gain: -inf\n",
      "[LightGBM] [Warning] No further splits with positive gain, best gain: -inf\n",
      "[LightGBM] [Warning] No further splits with positive gain, best gain: -inf\n",
      "[LightGBM] [Warning] No further splits with positive gain, best gain: -inf\n",
      "[LightGBM] [Warning] No further splits with positive gain, best gain: -inf\n",
      "[LightGBM] [Warning] No further splits with positive gain, best gain: -inf\n",
      "[LightGBM] [Warning] No further splits with positive gain, best gain: -inf\n",
      "[LightGBM] [Warning] No further splits with positive gain, best gain: -inf\n",
      "[LightGBM] [Warning] No further splits with positive gain, best gain: -inf\n",
      "[LightGBM] [Warning] No further splits with positive gain, best gain: -inf\n",
      "[LightGBM] [Warning] No further splits with positive gain, best gain: -inf\n",
      "[LightGBM] [Warning] No further splits with positive gain, best gain: -inf\n",
      "[LightGBM] [Warning] No further splits with positive gain, best gain: -inf\n",
      "[LightGBM] [Warning] No further splits with positive gain, best gain: -inf\n",
      "[LightGBM] [Warning] No further splits with positive gain, best gain: -inf\n",
      "[LightGBM] [Warning] No further splits with positive gain, best gain: -inf\n",
      "[LightGBM] [Warning] No further splits with positive gain, best gain: -inf\n",
      "[LightGBM] [Warning] No further splits with positive gain, best gain: -inf\n",
      "[LightGBM] [Warning] No further splits with positive gain, best gain: -inf\n",
      "[LightGBM] [Warning] No further splits with positive gain, best gain: -inf\n",
      "[LightGBM] [Warning] No further splits with positive gain, best gain: -inf\n",
      "[LightGBM] [Warning] No further splits with positive gain, best gain: -inf\n",
      "[LightGBM] [Warning] No further splits with positive gain, best gain: -inf\n",
      "[LightGBM] [Warning] No further splits with positive gain, best gain: -inf\n",
      "[LightGBM] [Warning] No further splits with positive gain, best gain: -inf\n",
      "[LightGBM] [Warning] No further splits with positive gain, best gain: -inf\n",
      "[LightGBM] [Warning] No further splits with positive gain, best gain: -inf\n",
      "[LightGBM] [Warning] No further splits with positive gain, best gain: -inf\n",
      "[LightGBM] [Warning] No further splits with positive gain, best gain: -inf\n",
      "[LightGBM] [Warning] No further splits with positive gain, best gain: -inf\n",
      "[LightGBM] [Warning] No further splits with positive gain, best gain: -inf\n",
      "[LightGBM] [Warning] No further splits with positive gain, best gain: -inf\n",
      "[LightGBM] [Warning] No further splits with positive gain, best gain: -inf\n",
      "[LightGBM] [Warning] No further splits with positive gain, best gain: -inf\n",
      "[LightGBM] [Warning] No further splits with positive gain, best gain: -inf\n",
      "[LightGBM] [Warning] No further splits with positive gain, best gain: -inf\n",
      "[LightGBM] [Warning] No further splits with positive gain, best gain: -inf\n",
      "[LightGBM] [Warning] No further splits with positive gain, best gain: -inf\n",
      "[LightGBM] [Warning] No further splits with positive gain, best gain: -inf\n",
      "[LightGBM] [Warning] No further splits with positive gain, best gain: -inf\n",
      "[LightGBM] [Warning] No further splits with positive gain, best gain: -inf\n",
      "[LightGBM] [Warning] No further splits with positive gain, best gain: -inf\n",
      "[LightGBM] [Warning] No further splits with positive gain, best gain: -inf\n",
      "[LightGBM] [Warning] No further splits with positive gain, best gain: -inf\n",
      "[LightGBM] [Warning] No further splits with positive gain, best gain: -inf\n",
      "[LightGBM] [Warning] No further splits with positive gain, best gain: -inf\n",
      "[LightGBM] [Warning] No further splits with positive gain, best gain: -inf\n",
      "[LightGBM] [Warning] No further splits with positive gain, best gain: -inf\n",
      "[LightGBM] [Warning] No further splits with positive gain, best gain: -inf\n",
      "[LightGBM] [Warning] No further splits with positive gain, best gain: -inf\n",
      "[LightGBM] [Warning] No further splits with positive gain, best gain: -inf\n",
      "[LightGBM] [Warning] No further splits with positive gain, best gain: -inf\n",
      "[LightGBM] [Warning] No further splits with positive gain, best gain: -inf\n",
      "[LightGBM] [Warning] No further splits with positive gain, best gain: -inf\n",
      "[LightGBM] [Warning] No further splits with positive gain, best gain: -inf\n",
      "[LightGBM] [Warning] No further splits with positive gain, best gain: -inf\n",
      "[LightGBM] [Warning] No further splits with positive gain, best gain: -inf\n",
      "[LightGBM] [Warning] No further splits with positive gain, best gain: -inf\n",
      "[LightGBM] [Warning] No further splits with positive gain, best gain: -inf\n",
      "[LightGBM] [Warning] No further splits with positive gain, best gain: -inf\n",
      "[LightGBM] [Warning] No further splits with positive gain, best gain: -inf\n",
      "[LightGBM] [Warning] No further splits with positive gain, best gain: -inf\n",
      "[LightGBM] [Warning] No further splits with positive gain, best gain: -inf\n",
      "[LightGBM] [Warning] No further splits with positive gain, best gain: -inf\n",
      "[LightGBM] [Warning] No further splits with positive gain, best gain: -inf\n",
      "[LightGBM] [Warning] No further splits with positive gain, best gain: -inf\n",
      "[LightGBM] [Warning] No further splits with positive gain, best gain: -inf\n",
      "[LightGBM] [Warning] No further splits with positive gain, best gain: -inf\n",
      "[LightGBM] [Warning] No further splits with positive gain, best gain: -inf\n",
      "[LightGBM] [Warning] No further splits with positive gain, best gain: -inf\n",
      "[LightGBM] [Warning] No further splits with positive gain, best gain: -inf\n",
      "[LightGBM] [Warning] No further splits with positive gain, best gain: -inf\n",
      "[LightGBM] [Warning] No further splits with positive gain, best gain: -inf\n",
      "[LightGBM] [Warning] No further splits with positive gain, best gain: -inf\n",
      "[LightGBM] [Warning] No further splits with positive gain, best gain: -inf\n",
      "[LightGBM] [Warning] No further splits with positive gain, best gain: -inf\n",
      "[LightGBM] [Warning] No further splits with positive gain, best gain: -inf\n",
      "[LightGBM] [Warning] No further splits with positive gain, best gain: -inf\n",
      "[LightGBM] [Warning] No further splits with positive gain, best gain: -inf\n",
      "[LightGBM] [Warning] No further splits with positive gain, best gain: -inf\n",
      "[LightGBM] [Warning] No further splits with positive gain, best gain: -inf\n",
      "[LightGBM] [Warning] No further splits with positive gain, best gain: -inf\n",
      "[LightGBM] [Warning] No further splits with positive gain, best gain: -inf\n",
      "[LightGBM] [Warning] No further splits with positive gain, best gain: -inf\n",
      "[LightGBM] [Warning] No further splits with positive gain, best gain: -inf\n",
      "[LightGBM] [Warning] No further splits with positive gain, best gain: -inf\n",
      "[LightGBM] [Warning] No further splits with positive gain, best gain: -inf\n",
      "[LightGBM] [Warning] No further splits with positive gain, best gain: -inf\n",
      "[LightGBM] [Warning] No further splits with positive gain, best gain: -inf\n",
      "[LightGBM] [Warning] No further splits with positive gain, best gain: -inf\n",
      "[LightGBM] [Warning] No further splits with positive gain, best gain: -inf\n",
      "[LightGBM] [Warning] No further splits with positive gain, best gain: -inf\n",
      "[LightGBM] [Warning] No further splits with positive gain, best gain: -inf\n",
      "[LightGBM] [Warning] No further splits with positive gain, best gain: -inf\n",
      "[LightGBM] [Warning] No further splits with positive gain, best gain: -inf\n",
      "[LightGBM] [Warning] No further splits with positive gain, best gain: -inf\n",
      "[LightGBM] [Warning] No further splits with positive gain, best gain: -inf\n",
      "[LightGBM] [Warning] No further splits with positive gain, best gain: -inf\n",
      "[LightGBM] [Warning] No further splits with positive gain, best gain: -inf\n",
      "[LightGBM] [Warning] No further splits with positive gain, best gain: -inf\n",
      "[LightGBM] [Warning] No further splits with positive gain, best gain: -inf\n",
      "[LightGBM] [Warning] No further splits with positive gain, best gain: -inf\n",
      "[LightGBM] [Warning] No further splits with positive gain, best gain: -inf\n",
      "[LightGBM] [Warning] No further splits with positive gain, best gain: -inf\n",
      "[LightGBM] [Warning] No further splits with positive gain, best gain: -inf\n",
      "[LightGBM] [Warning] No further splits with positive gain, best gain: -inf\n",
      "[LightGBM] [Warning] No further splits with positive gain, best gain: -inf\n",
      "[LightGBM] [Warning] No further splits with positive gain, best gain: -inf\n",
      "[LightGBM] [Warning] No further splits with positive gain, best gain: -inf\n",
      "[LightGBM] [Warning] No further splits with positive gain, best gain: -inf\n",
      "[LightGBM] [Warning] No further splits with positive gain, best gain: -inf\n",
      "[LightGBM] [Warning] No further splits with positive gain, best gain: -inf\n",
      "[LightGBM] [Warning] No further splits with positive gain, best gain: -inf\n",
      "[LightGBM] [Warning] No further splits with positive gain, best gain: -inf\n",
      "[LightGBM] [Warning] No further splits with positive gain, best gain: -inf\n",
      "[LightGBM] [Warning] No further splits with positive gain, best gain: -inf\n",
      "[LightGBM] [Warning] No further splits with positive gain, best gain: -inf\n",
      "[LightGBM] [Warning] No further splits with positive gain, best gain: -inf\n",
      "[LightGBM] [Warning] No further splits with positive gain, best gain: -inf\n",
      "[LightGBM] [Warning] No further splits with positive gain, best gain: -inf\n",
      "[LightGBM] [Warning] No further splits with positive gain, best gain: -inf\n",
      "[LightGBM] [Warning] No further splits with positive gain, best gain: -inf\n",
      "[LightGBM] [Warning] No further splits with positive gain, best gain: -inf\n",
      "[LightGBM] [Warning] No further splits with positive gain, best gain: -inf\n",
      "[LightGBM] [Warning] No further splits with positive gain, best gain: -inf\n",
      "[LightGBM] [Warning] No further splits with positive gain, best gain: -inf\n",
      "[LightGBM] [Warning] No further splits with positive gain, best gain: -inf\n",
      "[LightGBM] [Warning] No further splits with positive gain, best gain: -inf\n",
      "[LightGBM] [Warning] No further splits with positive gain, best gain: -inf\n",
      "[LightGBM] [Warning] No further splits with positive gain, best gain: -inf\n",
      "[LightGBM] [Warning] No further splits with positive gain, best gain: -inf\n",
      "[LightGBM] [Warning] No further splits with positive gain, best gain: -inf\n",
      "[LightGBM] [Warning] No further splits with positive gain, best gain: -inf\n",
      "[LightGBM] [Warning] No further splits with positive gain, best gain: -inf\n",
      "[LightGBM] [Warning] No further splits with positive gain, best gain: -inf\n",
      "[LightGBM] [Warning] No further splits with positive gain, best gain: -inf\n",
      "[LightGBM] [Warning] No further splits with positive gain, best gain: -inf\n",
      "[LightGBM] [Warning] No further splits with positive gain, best gain: -inf\n"
     ]
    },
    {
     "data": {
      "text/plain": "<catboost.core.CatBoostClassifier at 0x26aeb2170d0>"
     },
     "execution_count": 17,
     "metadata": {},
     "output_type": "execute_result"
    }
   ],
   "source": [
    "from sklearn.ensemble import RandomForestClassifier, AdaBoostClassifier\n",
    "from xgboost import XGBClassifier\n",
    "from lightgbm import LGBMClassifier\n",
    "from catboost import CatBoostClassifier\n",
    "from sklearn.metrics import accuracy_score, precision_score, recall_score, f1_score\n",
    "\n",
    "# Initialize the models\n",
    "rf_model = RandomForestClassifier(random_state=42)\n",
    "xgb_model = XGBClassifier(random_state=42, use_label_encoder=False, eval_metric='mlogloss')\n",
    "lgbm_model = LGBMClassifier(random_state=42)   \n",
    "catboost_model = CatBoostClassifier(random_state=42, verbose=False)\n",
    "\n",
    "\n",
    "# Train the models\n",
    "#rf_model.fit(X_train, y_train_encoded)\n",
    "xgb_model.fit(X_train_scaled, y_train_encoded)\n",
    "lgbm_model.fit(X_train_scaled, y_train_encoded)\n",
    "catboost_model.fit(X_train_scaled, y_train_encoded)\n",
    "\n",
    "\n",
    "\n",
    "\n",
    "\n"
   ],
   "metadata": {
    "collapsed": false,
    "ExecuteTime": {
     "end_time": "2024-02-01T22:37:19.523351100Z",
     "start_time": "2024-02-01T22:37:16.205275900Z"
    }
   },
   "id": "8b40589ac3bdd675"
  },
  {
   "cell_type": "code",
   "outputs": [
    {
     "name": "stdout",
     "output_type": "stream",
     "text": [
      "XGBoost Model Metrics\n",
      "Accuracy: 0.35135135135135137\n",
      "Precision: 0.3920940170940171\n",
      "Recall: 0.31666666666666665\n",
      "F1 Score: 0.298499061913696\n",
      "\n",
      "\n",
      "LightGBM Model Metrics\n",
      "Accuracy: 0.3783783783783784\n",
      "Precision: 0.3757936507936508\n",
      "Recall: 0.41111111111111104\n",
      "F1 Score: 0.3761872909698997\n",
      "\n",
      "\n",
      "CatBoost Model Metrics\n",
      "Accuracy: 0.32432432432432434\n",
      "Precision: 0.1111111111111111\n",
      "Recall: 0.3333333333333333\n",
      "F1 Score: 0.16666666666666666\n",
      "\n"
     ]
    }
   ],
   "source": [
    "from sklearn.metrics import roc_auc_score\n",
    "\n",
    "#evaluate the models using the metrics\n",
    "models = [ xgb_model, lgbm_model, catboost_model]\n",
    "model_names = [ 'XGBoost', 'LightGBM', 'CatBoost', 'AdaBoost']\n",
    "\n",
    "for model, name in zip(models, model_names):\n",
    "    y_pred = model.predict(X_test)\n",
    "    accuracy = accuracy_score(y_test, y_pred)\n",
    "    precision = precision_score(y_test, y_pred, average='macro', zero_division=0)\n",
    "    recall = recall_score(y_test, y_pred, average='macro', zero_division=0)\n",
    "    f1 = f1_score(y_test, y_pred, average='macro', zero_division=0)\n",
    "    print(f\"{name} Model Metrics\")\n",
    "    print(f\"Accuracy: {accuracy}\")\n",
    "    print(f\"Precision: {precision}\")\n",
    "    print(f\"Recall: {recall}\")\n",
    "    print(f\"F1 Score: {f1}\")\n",
    "    print(\"\\n\")\n",
    "    \n",
    "    "
   ],
   "metadata": {
    "collapsed": false,
    "ExecuteTime": {
     "end_time": "2024-02-01T22:37:19.560829Z",
     "start_time": "2024-02-01T22:37:19.526345700Z"
    }
   },
   "id": "70ee9938150d56d0",
   "execution_count": 18
  },
  {
   "cell_type": "markdown",
   "source": [
    "# creating objective function and hyper opts for hyperparaemters"
   ],
   "metadata": {
    "collapsed": false
   },
   "id": "13cdd496a3827382"
  },
  {
   "cell_type": "code",
   "outputs": [],
   "source": [
    "from hyperopt import hp\n",
    "import numpy as np\n",
    "# Define the hyperparameter space\n",
    "space = {\n",
    "    'iterations': hp.quniform('iterations', 100, 1000, 50),\n",
    "    'depth': hp.choice('depth', np.arange(3, 11, dtype=int)),\n",
    "    'learning_rate': hp.loguniform('learning_rate', np.log(0.01), np.log(0.2)),\n",
    "    'l2_leaf_reg': hp.uniform('l2_leaf_reg', 1, 10),\n",
    "    'bagging_temperature': hp.uniform('bagging_temperature', 0, 1),\n",
    "    'random_strength': hp.uniform('random_strength', 0, 1),\n",
    "    \n",
    "\n",
    "}\n"
   ],
   "metadata": {
    "collapsed": false,
    "ExecuteTime": {
     "end_time": "2024-02-01T22:37:20.411679100Z",
     "start_time": "2024-02-01T22:37:19.560829Z"
    }
   },
   "id": "c45184c63a52bac",
   "execution_count": 19
  },
  {
   "cell_type": "code",
   "outputs": [],
   "source": [
    "from sklearn.model_selection import cross_val_score\n",
    "from hyperopt import STATUS_OK\n",
    "from sklearn.model_selection import StratifiedKFold\n",
    "\n",
    "\n",
    "def objective(params):\n",
    "    params['iterations'] = int(params['iterations'])\n",
    "    clf = CatBoostClassifier(**params, loss_function='MultiClass', verbose=False)\n",
    "    score = cross_val_score(clf, X_train_scaled, y_train_encoded, scoring='accuracy', cv=StratifiedKFold(5)).mean()\n",
    "    return {'loss': -score, 'status': STATUS_OK}\n",
    "\n"
   ],
   "metadata": {
    "collapsed": false,
    "ExecuteTime": {
     "end_time": "2024-02-01T22:37:20.418304400Z",
     "start_time": "2024-02-01T22:37:20.412686400Z"
    }
   },
   "id": "5217c545333449f8",
   "execution_count": 20
  },
  {
   "cell_type": "code",
   "outputs": [
    {
     "name": "stdout",
     "output_type": "stream",
     "text": [
      "100%|██████████| 10/10 [02:04<00:00, 12.46s/trial, best loss: -0.6413793103448275]\n"
     ]
    }
   ],
   "source": [
    "# run the hyperparameter optimization\n",
    "from hyperopt import tpe, Trials, fmin\n",
    "\n",
    "trials = Trials()\n",
    "best = fmin(fn=objective, space=space, algo=tpe.suggest, max_evals=10, trials=trials)\n"
   ],
   "metadata": {
    "collapsed": false,
    "ExecuteTime": {
     "end_time": "2024-02-01T22:39:25.055360400Z",
     "start_time": "2024-02-01T22:37:20.420301500Z"
    }
   },
   "id": "53baa390efcb2685",
   "execution_count": 21
  },
  {
   "cell_type": "code",
   "outputs": [
    {
     "name": "stdout",
     "output_type": "stream",
     "text": [
      "              precision    recall  f1-score   support\n",
      "\n",
      "           0       1.00      0.40      0.57        10\n",
      "           1       0.57      0.33      0.42        12\n",
      "           2       0.58      1.00      0.73        15\n",
      "\n",
      "    accuracy                           0.62        37\n",
      "   macro avg       0.72      0.58      0.57        37\n",
      "weighted avg       0.69      0.62      0.59        37\n"
     ]
    }
   ],
   "source": [
    "from sklearn.metrics import classification_report\n",
    "\n",
    "best_params = {k: int(v) if k in ['iterations', 'depth'] else v for k, v in best.items()}\n",
    "final_model = CatBoostClassifier(**best_params, loss_function='MultiClass', eval_metric='Accuracy', verbose=False)\n",
    "final_model.fit(X_train_scaled, y_train_encoded)\n",
    "\n",
    "# Evaluate the model\n",
    "y_pred = final_model.predict(X_test_scaled)\n",
    "print(classification_report(y_test, y_pred, zero_division=0))"
   ],
   "metadata": {
    "collapsed": false,
    "ExecuteTime": {
     "end_time": "2024-02-01T22:39:26.707891700Z",
     "start_time": "2024-02-01T22:39:25.055360400Z"
    }
   },
   "id": "99a573068f7b01fa",
   "execution_count": 22
  },
  {
   "cell_type": "markdown",
   "source": [
    "# Xgboost with params"
   ],
   "metadata": {
    "collapsed": false
   },
   "id": "74ad34a565de1fb1"
  },
  {
   "cell_type": "code",
   "outputs": [],
   "source": [
    "# hyperparameter tuning for xgboost using hyperopt\n",
    "from hyperopt import hp\n",
    "import numpy as np\n",
    "# Define the hyperparameter space\n",
    "\n",
    "space = {\n",
    "    'n_estimators': hp.quniform('n_estimators', 100, 1000, 50),\n",
    "    'max_depth': hp.choice('max_depth', np.arange(3, 11, dtype=int)),\n",
    "    'learning_rate': hp.loguniform('learning_rate', np.log(0.01), np.log(0.2)),\n",
    "    'reg_lambda': hp.uniform('reg_lambda', 1, 10),\n",
    "    'reg_alpha': hp.uniform('reg_alpha', 1, 10),\n",
    "    'gamma': hp.uniform('gamma', 0, 1),\n",
    "    'min_child_weight': hp.uniform('min_child_weight', 0, 10)\n",
    "    \n",
    "}"
   ],
   "metadata": {
    "collapsed": false,
    "ExecuteTime": {
     "end_time": "2024-02-01T22:39:26.714283800Z",
     "start_time": "2024-02-01T22:39:26.709895900Z"
    }
   },
   "id": "1933b5eb7cbf2fa5",
   "execution_count": 23
  },
  {
   "cell_type": "code",
   "outputs": [],
   "source": [
    "from hyperopt import STATUS_OK\n",
    "from sklearn.model_selection import train_test_split, StratifiedKFold, cross_val_score\n",
    "from xgboost import XGBClassifier\n",
    "\n",
    "def objective(params):\n",
    "    params['n_estimators'] = int(params['n_estimators'])\n",
    "    clf = XGBClassifier(**params, objective='multi:softmax', num_class=3, eval_metric='mlogloss', verbosity=0)\n",
    "    score = cross_val_score(clf, X_train_scaled, y_train_encoded, scoring='accuracy', cv=StratifiedKFold(10)).mean()\n",
    "    return {'loss': -score, 'status': STATUS_OK}"
   ],
   "metadata": {
    "collapsed": false,
    "ExecuteTime": {
     "end_time": "2024-02-01T22:39:26.729795900Z",
     "start_time": "2024-02-01T22:39:26.714283800Z"
    }
   },
   "id": "9034765646a2ea09",
   "execution_count": 24
  },
  {
   "cell_type": "code",
   "outputs": [
    {
     "name": "stdout",
     "output_type": "stream",
     "text": [
      "100%|██████████| 100/100 [02:56<00:00,  1.77s/trial, best loss: -0.6614285714285715]\n"
     ]
    },
    {
     "data": {
      "text/plain": "XGBClassifier(base_score=None, booster=None, callbacks=None,\n              colsample_bylevel=None, colsample_bynode=None,\n              colsample_bytree=None, device=None, early_stopping_rounds=None,\n              enable_categorical=False, eval_metric='mlogloss',\n              feature_types=None, gamma=0.21141011991469866, grow_policy=None,\n              importance_type=None, interaction_constraints=None,\n              learning_rate=0.18042152725343116, max_bin=None,\n              max_cat_threshold=None, max_cat_to_onehot=None,\n              max_delta_step=None, max_depth=1, max_leaves=None,\n              min_child_weight=1.0806280383335234, missing=nan,\n              monotone_constraints=None, multi_strategy=None, n_estimators=450,\n              n_jobs=None, num_class=3, num_parallel_tree=None, ...)",
      "text/html": "<style>#sk-container-id-1 {color: black;}#sk-container-id-1 pre{padding: 0;}#sk-container-id-1 div.sk-toggleable {background-color: white;}#sk-container-id-1 label.sk-toggleable__label {cursor: pointer;display: block;width: 100%;margin-bottom: 0;padding: 0.3em;box-sizing: border-box;text-align: center;}#sk-container-id-1 label.sk-toggleable__label-arrow:before {content: \"▸\";float: left;margin-right: 0.25em;color: #696969;}#sk-container-id-1 label.sk-toggleable__label-arrow:hover:before {color: black;}#sk-container-id-1 div.sk-estimator:hover label.sk-toggleable__label-arrow:before {color: black;}#sk-container-id-1 div.sk-toggleable__content {max-height: 0;max-width: 0;overflow: hidden;text-align: left;background-color: #f0f8ff;}#sk-container-id-1 div.sk-toggleable__content pre {margin: 0.2em;color: black;border-radius: 0.25em;background-color: #f0f8ff;}#sk-container-id-1 input.sk-toggleable__control:checked~div.sk-toggleable__content {max-height: 200px;max-width: 100%;overflow: auto;}#sk-container-id-1 input.sk-toggleable__control:checked~label.sk-toggleable__label-arrow:before {content: \"▾\";}#sk-container-id-1 div.sk-estimator input.sk-toggleable__control:checked~label.sk-toggleable__label {background-color: #d4ebff;}#sk-container-id-1 div.sk-label input.sk-toggleable__control:checked~label.sk-toggleable__label {background-color: #d4ebff;}#sk-container-id-1 input.sk-hidden--visually {border: 0;clip: rect(1px 1px 1px 1px);clip: rect(1px, 1px, 1px, 1px);height: 1px;margin: -1px;overflow: hidden;padding: 0;position: absolute;width: 1px;}#sk-container-id-1 div.sk-estimator {font-family: monospace;background-color: #f0f8ff;border: 1px dotted black;border-radius: 0.25em;box-sizing: border-box;margin-bottom: 0.5em;}#sk-container-id-1 div.sk-estimator:hover {background-color: #d4ebff;}#sk-container-id-1 div.sk-parallel-item::after {content: \"\";width: 100%;border-bottom: 1px solid gray;flex-grow: 1;}#sk-container-id-1 div.sk-label:hover label.sk-toggleable__label {background-color: #d4ebff;}#sk-container-id-1 div.sk-serial::before {content: \"\";position: absolute;border-left: 1px solid gray;box-sizing: border-box;top: 0;bottom: 0;left: 50%;z-index: 0;}#sk-container-id-1 div.sk-serial {display: flex;flex-direction: column;align-items: center;background-color: white;padding-right: 0.2em;padding-left: 0.2em;position: relative;}#sk-container-id-1 div.sk-item {position: relative;z-index: 1;}#sk-container-id-1 div.sk-parallel {display: flex;align-items: stretch;justify-content: center;background-color: white;position: relative;}#sk-container-id-1 div.sk-item::before, #sk-container-id-1 div.sk-parallel-item::before {content: \"\";position: absolute;border-left: 1px solid gray;box-sizing: border-box;top: 0;bottom: 0;left: 50%;z-index: -1;}#sk-container-id-1 div.sk-parallel-item {display: flex;flex-direction: column;z-index: 1;position: relative;background-color: white;}#sk-container-id-1 div.sk-parallel-item:first-child::after {align-self: flex-end;width: 50%;}#sk-container-id-1 div.sk-parallel-item:last-child::after {align-self: flex-start;width: 50%;}#sk-container-id-1 div.sk-parallel-item:only-child::after {width: 0;}#sk-container-id-1 div.sk-dashed-wrapped {border: 1px dashed gray;margin: 0 0.4em 0.5em 0.4em;box-sizing: border-box;padding-bottom: 0.4em;background-color: white;}#sk-container-id-1 div.sk-label label {font-family: monospace;font-weight: bold;display: inline-block;line-height: 1.2em;}#sk-container-id-1 div.sk-label-container {text-align: center;}#sk-container-id-1 div.sk-container {/* jupyter's `normalize.less` sets `[hidden] { display: none; }` but bootstrap.min.css set `[hidden] { display: none !important; }` so we also need the `!important` here to be able to override the default hidden behavior on the sphinx rendered scikit-learn.org. See: https://github.com/scikit-learn/scikit-learn/issues/21755 */display: inline-block !important;position: relative;}#sk-container-id-1 div.sk-text-repr-fallback {display: none;}</style><div id=\"sk-container-id-1\" class=\"sk-top-container\"><div class=\"sk-text-repr-fallback\"><pre>XGBClassifier(base_score=None, booster=None, callbacks=None,\n              colsample_bylevel=None, colsample_bynode=None,\n              colsample_bytree=None, device=None, early_stopping_rounds=None,\n              enable_categorical=False, eval_metric=&#x27;mlogloss&#x27;,\n              feature_types=None, gamma=0.21141011991469866, grow_policy=None,\n              importance_type=None, interaction_constraints=None,\n              learning_rate=0.18042152725343116, max_bin=None,\n              max_cat_threshold=None, max_cat_to_onehot=None,\n              max_delta_step=None, max_depth=1, max_leaves=None,\n              min_child_weight=1.0806280383335234, missing=nan,\n              monotone_constraints=None, multi_strategy=None, n_estimators=450,\n              n_jobs=None, num_class=3, num_parallel_tree=None, ...)</pre><b>In a Jupyter environment, please rerun this cell to show the HTML representation or trust the notebook. <br />On GitHub, the HTML representation is unable to render, please try loading this page with nbviewer.org.</b></div><div class=\"sk-container\" hidden><div class=\"sk-item\"><div class=\"sk-estimator sk-toggleable\"><input class=\"sk-toggleable__control sk-hidden--visually\" id=\"sk-estimator-id-1\" type=\"checkbox\" checked><label for=\"sk-estimator-id-1\" class=\"sk-toggleable__label sk-toggleable__label-arrow\">XGBClassifier</label><div class=\"sk-toggleable__content\"><pre>XGBClassifier(base_score=None, booster=None, callbacks=None,\n              colsample_bylevel=None, colsample_bynode=None,\n              colsample_bytree=None, device=None, early_stopping_rounds=None,\n              enable_categorical=False, eval_metric=&#x27;mlogloss&#x27;,\n              feature_types=None, gamma=0.21141011991469866, grow_policy=None,\n              importance_type=None, interaction_constraints=None,\n              learning_rate=0.18042152725343116, max_bin=None,\n              max_cat_threshold=None, max_cat_to_onehot=None,\n              max_delta_step=None, max_depth=1, max_leaves=None,\n              min_child_weight=1.0806280383335234, missing=nan,\n              monotone_constraints=None, multi_strategy=None, n_estimators=450,\n              n_jobs=None, num_class=3, num_parallel_tree=None, ...)</pre></div></div></div></div></div>"
     },
     "execution_count": 25,
     "metadata": {},
     "output_type": "execute_result"
    }
   ],
   "source": [
    "# run the hyperparameter optimization\n",
    "from hyperopt import tpe, Trials, fmin\n",
    "\n",
    "trials = Trials()\n",
    "best = fmin(fn=objective, space=space, algo=tpe.suggest, max_evals=100, trials=trials)\n",
    "\n",
    "from sklearn.metrics import classification_report\n",
    "\n",
    "best_params = {k: int(v) if k in ['n_estimators', 'max_depth'] else v for k, v in best.items()}\n",
    "best_model_2 = XGBClassifier(**best_params, objective='multi:softmax', num_class=3, eval_metric='mlogloss', verbosity=0)\n",
    "best_model_2.fit(X_train_scaled, y_train_encoded)"
   ],
   "metadata": {
    "collapsed": false,
    "ExecuteTime": {
     "end_time": "2024-02-01T22:42:23.776170Z",
     "start_time": "2024-02-01T22:39:26.725797200Z"
    }
   },
   "id": "a00c50b1f242c6a9",
   "execution_count": 25
  },
  {
   "cell_type": "code",
   "outputs": [
    {
     "name": "stdout",
     "output_type": "stream",
     "text": [
      "              precision    recall  f1-score   support\n",
      "\n",
      "           0       1.00      0.50      0.67        10\n",
      "           1       0.43      0.25      0.32        12\n",
      "           2       0.56      0.93      0.70        15\n",
      "\n",
      "    accuracy                           0.59        37\n",
      "   macro avg       0.66      0.56      0.56        37\n",
      "weighted avg       0.64      0.59      0.57        37\n"
     ]
    }
   ],
   "source": [
    "# Evaluate the model\n",
    "y_pred = best_model_2.predict(X_test_scaled)\n",
    "print(classification_report(y_test, y_pred, zero_division=0))\n",
    "\n",
    "\n",
    "      "
   ],
   "metadata": {
    "collapsed": false,
    "ExecuteTime": {
     "end_time": "2024-02-01T22:42:23.854523400Z",
     "start_time": "2024-02-01T22:42:23.775180Z"
    }
   },
   "id": "91e7aa843f4b18c4",
   "execution_count": 26
  },
  {
   "cell_type": "code",
   "outputs": [
    {
     "name": "stdout",
     "output_type": "stream",
     "text": [
      "['Anderlecht' 'Antwerp' 'Cercle Brugge' 'Charleroi' 'Club Brugge' 'Eupen'\n",
      " 'Genk' 'Gent' 'Kortrijk' 'Mechelen' 'Oud-Heverlee Leuven' 'RWD Molenbeek'\n",
      " 'St Truiden' 'St. Gilloise' 'Standard' 'Westerlo']\n"
     ]
    }
   ],
   "source": [
    "\n",
    "from sklearn.preprocessing import LabelEncoder\n",
    "\n",
    "# Initialize the LabelEncoder\n",
    "label_encoder = LabelEncoder()\n",
    "\n",
    "# Combine all unique team names from both HomeTeam and AwayTeam columns\n",
    "all_teams = pd.concat([df['HomeTeam'], df['AwayTeam']]).unique()\n",
    "\n",
    "# Fit the LabelEncoder with all unique team names\n",
    "label_encoder.fit(all_teams)\n",
    "\n",
    "# Transform both HomeTeam and AwayTeam using the fitted LabelEncoder\n",
    "df['HomeTeam_encoded'] = label_encoder.transform(df['HomeTeam'])\n",
    "df['AwayTeam_encoded'] = label_encoder.transform(df['AwayTeam'])\n",
    "\n",
    "# # Now you can transform individual team names\n",
    "# home_team_encoded = label_encoder.transform(['St Etienne'])[0]\n",
    "# away_team_encoded = label_encoder.transform(['Laval'])[0]\n",
    "# \n",
    "# # Debugging: Print encoded values\n",
    "# print(f\"Encoded Home Team: {home_team_encoded}, Encoded Away Team: {away_team_encoded}\")\n",
    "\n",
    "print(label_encoder.classes_)\n"
   ],
   "metadata": {
    "collapsed": false,
    "ExecuteTime": {
     "end_time": "2024-02-01T22:42:23.882526500Z",
     "start_time": "2024-02-01T22:42:23.793700700Z"
    }
   },
   "id": "46326b9866c00cf4",
   "execution_count": 27
  },
  {
   "cell_type": "code",
   "outputs": [
    {
     "name": "stdout",
     "output_type": "stream",
     "text": [
      "##########################\n",
      "Today's matches\n"
     ]
    },
    {
     "data": {
      "text/plain": "     HomeTeam    AwayTeam  HomeTeamWinProbability  AwayTeamWinProbability  \\\n0    Mechelen  Anderlecht                0.062796                0.636924   \n1  St Truiden        Gent                0.137343                0.589409   \n\n   DrawProbability  \n0         0.300279  \n1         0.273248  ",
      "text/html": "<div>\n<style scoped>\n    .dataframe tbody tr th:only-of-type {\n        vertical-align: middle;\n    }\n\n    .dataframe tbody tr th {\n        vertical-align: top;\n    }\n\n    .dataframe thead th {\n        text-align: right;\n    }\n</style>\n<table border=\"1\" class=\"dataframe\">\n  <thead>\n    <tr style=\"text-align: right;\">\n      <th></th>\n      <th>HomeTeam</th>\n      <th>AwayTeam</th>\n      <th>HomeTeamWinProbability</th>\n      <th>AwayTeamWinProbability</th>\n      <th>DrawProbability</th>\n    </tr>\n  </thead>\n  <tbody>\n    <tr>\n      <th>0</th>\n      <td>Mechelen</td>\n      <td>Anderlecht</td>\n      <td>0.062796</td>\n      <td>0.636924</td>\n      <td>0.300279</td>\n    </tr>\n    <tr>\n      <th>1</th>\n      <td>St Truiden</td>\n      <td>Gent</td>\n      <td>0.137343</td>\n      <td>0.589409</td>\n      <td>0.273248</td>\n    </tr>\n  </tbody>\n</table>\n</div>"
     },
     "execution_count": 28,
     "metadata": {},
     "output_type": "execute_result"
    }
   ],
   "source": [
    "import pandas as pd\n",
    "\n",
    "# Create an empty list to store match results\n",
    "match_results = []\n",
    "def predict_match(home_team, away_team, xgb_model, df, label_encoder):\n",
    "     # Debugging: Check if the team names are in label_encoder's classes\n",
    "    if home_team not in label_encoder.classes_:\n",
    "        raise ValueError(f\"Home team name '{home_team}' not recognized.\")\n",
    "    if away_team not in label_encoder.classes_:\n",
    "        raise ValueError(f\"Away team name '{away_team}' not recognized.\")\n",
    "\n",
    "    # Transform team names\n",
    "    home_team_encoded = label_encoder.transform([home_team])[0]\n",
    "    away_team_encoded = label_encoder.transform([away_team])[0]\n",
    "\n",
    "    # Debugging: Print encoded values\n",
    "   # print(f\"Encoded Home Team: {home_team_encoded}, Encoded Away Team: {away_team_encoded}\")\n",
    "\n",
    "    # Prepare the match data with relevant features\n",
    "    match_data = {\n",
    "        'HomeTeam_encoded': label_encoder.transform([home_team])[0],\n",
    "        'AwayTeam_encoded': label_encoder.transform([away_team])[0],\n",
    "        'HomeTeamRecentForm': calculate_form_points(home_team, df)[0],\n",
    "        'AwayTeamRecentForm': calculate_form_points(away_team, df)[1],\n",
    "        'HomeTeamAvgGoals': df[df['HomeTeam'] == home_team]['FTHG'].mean(),\n",
    "        'AwayTeamAvgGoals': df[df['AwayTeam'] == away_team]['FTAG'].mean(),\n",
    "        'HomeTeamPoints': df[df['HomeTeam'] == home_team]['FTR_encoded'].sum() / df[df['HomeTeam'] == home_team]['FTR_encoded'].count(),\n",
    "        'AwayTeamPoints': df[df['AwayTeam'] == away_team]['FTR_encoded'].sum() / df[df['AwayTeam'] == away_team]['FTR_encoded'].count(),\n",
    "        'HomeGoalsScoredVariance': df[df['HomeTeam'] == home_team]['FTHG'].var(),\n",
    "        'AwayGoalsScoredVariance': df[df['AwayTeam'] == away_team]['FTAG'].var(),\n",
    "        'HomeGoalsScoredAvg_3': df[df['HomeTeam'] == home_team]['FTHG'].rolling(3, min_periods=1).mean().iloc[-1],\n",
    "        'AwayGoalsScoredAvg_3': df[df['AwayTeam'] == away_team]['FTAG'].rolling(3, min_periods=1).mean().iloc[-1],\n",
    "        'HomeGoalsConcededAvg_3': df[df['HomeTeam'] == home_team]['FTAG'].rolling(3, min_periods=1).mean().iloc[-1],\n",
    "        'AwayGoalsConcededAvg_3': df[df['AwayTeam'] == away_team]['FTHG'].rolling(3, min_periods=1).mean().iloc[-1],\n",
    "        'HomeGoalsScoredAvg_5': df[df['HomeTeam'] == home_team]['FTHG'].rolling(5, min_periods=1).mean().iloc[-1],\n",
    "        'AwayGoalsScoredAvg_5': df[df['AwayTeam'] == away_team]['FTAG'].rolling(5, min_periods=1).mean().iloc[-1],\n",
    "        'HomeGoalsConcededAvg_5': df[df['HomeTeam'] == home_team]['FTAG'].rolling(5, min_periods=1).mean().iloc[-1],\n",
    "        'AwayGoalsConcededAvg_5': df[df['AwayTeam'] == away_team]['FTHG'].rolling(5, min_periods=1).mean().iloc[-1],\n",
    "        \n",
    "        # Add other features as required by the model, calculated or retrieved as done during training\n",
    "        # ...\n",
    "    }\n",
    "\n",
    "    match_df = pd.DataFrame([match_data])\n",
    "\n",
    "    # Make predictions\n",
    "    probabilities = xgb_model.predict_proba(match_df)[0]\n",
    "    home_team_win_prob = probabilities[0]\n",
    "    draw_prob = probabilities[1]\n",
    "    away_team_win_prob = probabilities[2]\n",
    "\n",
    "    #print(f\"{home_team} win probability: {home_team_win_prob}\")\n",
    "    #print(f\"Draw probability: {draw_prob}\")\n",
    "    #print(f\"{away_team} win probability: {away_team_win_prob}\")\n",
    "    \n",
    "    match_results.append({\n",
    "        'HomeTeam': home_team,\n",
    "        'AwayTeam': away_team,\n",
    "        'HomeTeamWinProbability': home_team_win_prob,\n",
    "        'AwayTeamWinProbability': away_team_win_prob,\n",
    "        'DrawProbability': draw_prob,\n",
    "    })\n",
    "\n",
    "    return home_team_win_prob, draw_prob, away_team_win_prob\n",
    "\n",
    "\n",
    "\n",
    "print('##########################')\n",
    "print('Today\\'s matches')\n",
    "\n",
    "\n",
    "predict_match('Mechelen', 'Anderlecht', xgb_model, df, label_encoder)\n",
    "\n",
    "predict_match('St Truiden', \"Gent\", xgb_model, df, label_encoder)\n",
    "\n",
    "# Create a DataFrame from the match results list\n",
    "match_results_df = pd.DataFrame(match_results)\n",
    "\n",
    "# Print the DataFrame\n",
    "match_results_df.head()"
   ],
   "metadata": {
    "collapsed": false,
    "ExecuteTime": {
     "end_time": "2024-02-01T22:42:23.974277300Z",
     "start_time": "2024-02-01T22:42:23.808003500Z"
    }
   },
   "id": "98a2c4cdb035af90",
   "execution_count": 28
  },
  {
   "cell_type": "code",
   "outputs": [],
   "source": [
    "\n",
    "#"
   ],
   "metadata": {
    "collapsed": false,
    "ExecuteTime": {
     "end_time": "2024-02-01T22:42:23.975280700Z",
     "start_time": "2024-02-01T22:42:23.903081900Z"
    }
   },
   "id": "db3529682964257a",
   "execution_count": 29
  },
  {
   "cell_type": "markdown",
   "source": [
    "# xgboost with hyperprams predictions"
   ],
   "metadata": {
    "collapsed": false
   },
   "id": "fd05b123b79ac471"
  },
  {
   "cell_type": "code",
   "outputs": [
    {
     "name": "stdout",
     "output_type": "stream",
     "text": [
      "##########################\n",
      "Today's matches\n",
      "Encoded Home Team: 9, Encoded Away Team: 0\n",
      "Mechelen win probability: 0.12479749321937561\n",
      "Draw probability: 0.284352570772171\n",
      "Anderlecht win probability: 0.5908498764038086\n",
      "Encoded Home Team: 12, Encoded Away Team: 7\n",
      "St Truiden win probability: 0.1592721939086914\n",
      "Draw probability: 0.23598389327526093\n",
      "Gent win probability: 0.6047438979148865\n"
     ]
    },
    {
     "data": {
      "text/plain": "(0.1592722, 0.2359839, 0.6047439)"
     },
     "execution_count": 30,
     "metadata": {},
     "output_type": "execute_result"
    }
   ],
   "source": [
    "\n",
    "def predict_match(home_team, away_team, best_model_2, df, label_encoder):\n",
    "     # Debugging: Check if the team names are in label_encoder's classes\n",
    "    if home_team not in label_encoder.classes_:\n",
    "        raise ValueError(f\"Home team name '{home_team}' not recognized.\")\n",
    "    if away_team not in label_encoder.classes_:\n",
    "        raise ValueError(f\"Away team name '{away_team}' not recognized.\")\n",
    "\n",
    "    # Transform team names\n",
    "    home_team_encoded = label_encoder.transform([home_team])[0]\n",
    "    away_team_encoded = label_encoder.transform([away_team])[0]\n",
    "\n",
    "    # Debugging: Print encoded values\n",
    "    print(f\"Encoded Home Team: {home_team_encoded}, Encoded Away Team: {away_team_encoded}\")\n",
    "\n",
    "    # Prepare the match data with relevant features\n",
    "    match_data = {\n",
    "        'HomeTeam_encoded': label_encoder.transform([home_team])[0],\n",
    "        'AwayTeam_encoded': label_encoder.transform([away_team])[0],\n",
    "        'HomeTeamRecentForm': calculate_form_points(home_team, df)[0],\n",
    "        'AwayTeamRecentForm': calculate_form_points(away_team, df)[1],\n",
    "        'HomeTeamAvgGoals': df[df['HomeTeam'] == home_team]['FTHG'].mean(),\n",
    "        'AwayTeamAvgGoals': df[df['AwayTeam'] == away_team]['FTAG'].mean(),\n",
    "        'HomeTeamPoints': df[df['HomeTeam'] == home_team]['FTR_encoded'].sum() / df[df['HomeTeam'] == home_team]['FTR_encoded'].count(),\n",
    "        'AwayTeamPoints': df[df['AwayTeam'] == away_team]['FTR_encoded'].sum() / df[df['AwayTeam'] == away_team]['FTR_encoded'].count(),\n",
    "        'HomeGoalsScoredVariance': df[df['HomeTeam'] == home_team]['FTHG'].var(),\n",
    "        'AwayGoalsScoredVariance': df[df['AwayTeam'] == away_team]['FTAG'].var(),\n",
    "        'HomeGoalsScoredAvg_3': df[df['HomeTeam'] == home_team]['FTHG'].rolling(3, min_periods=1).mean().iloc[-1],\n",
    "        'AwayGoalsScoredAvg_3': df[df['AwayTeam'] == away_team]['FTAG'].rolling(3, min_periods=1).mean().iloc[-1],\n",
    "        'HomeGoalsConcededAvg_3': df[df['HomeTeam'] == home_team]['FTAG'].rolling(3, min_periods=1).mean().iloc[-1],\n",
    "        'AwayGoalsConcededAvg_3': df[df['AwayTeam'] == away_team]['FTHG'].rolling(3, min_periods=1).mean().iloc[-1],\n",
    "        'HomeGoalsScoredAvg_5': df[df['HomeTeam'] == home_team]['FTHG'].rolling(5, min_periods=1).mean().iloc[-1],\n",
    "        'AwayGoalsScoredAvg_5': df[df['AwayTeam'] == away_team]['FTAG'].rolling(5, min_periods=1).mean().iloc[-1],\n",
    "        'HomeGoalsConcededAvg_5': df[df['HomeTeam'] == home_team]['FTAG'].rolling(5, min_periods=1).mean().iloc[-1],\n",
    "        'AwayGoalsConcededAvg_5': df[df['AwayTeam'] == away_team]['FTHG'].rolling(5, min_periods=1).mean().iloc[-1],\n",
    "        \n",
    "        # Add other features as required by the model, calculated or retrieved as done during training\n",
    "        # ...\n",
    "    }\n",
    "\n",
    "    match_df = pd.DataFrame([match_data])\n",
    "\n",
    "    # Make predictions\n",
    "    probabilities = best_model_2.predict_proba(match_df)[0]\n",
    "    home_team_win_prob = probabilities[0]\n",
    "    draw_prob = probabilities[1]\n",
    "    away_team_win_prob = probabilities[2]\n",
    "\n",
    "    print(f\"{home_team} win probability: {home_team_win_prob}\")\n",
    "    print(f\"Draw probability: {draw_prob}\")\n",
    "    print(f\"{away_team} win probability: {away_team_win_prob}\")\n",
    "     \n",
    "     # put the predictions in a dataframe\n",
    "     \n",
    "    #pd.DataFrame({'home_team': home_team, 'away_team': away_team, 'home_team_win_prob': home_team_win_prob, 'draw_prob': draw_prob, 'away_team_win_prob': away_team_win_prob})\n",
    "\n",
    "    return home_team_win_prob, draw_prob, away_team_win_prob\n",
    "\n",
    "\n",
    "\n",
    "print('##########################')\n",
    "print('Today\\'s matches')\n",
    "\n",
    "predict_match('Mechelen', 'Anderlecht', best_model_2, df, label_encoder)\n",
    "\n",
    "predict_match('St Truiden', \"Gent\", best_model_2, df, label_encoder)"
   ],
   "metadata": {
    "collapsed": false,
    "ExecuteTime": {
     "end_time": "2024-02-01T22:42:24.060892100Z",
     "start_time": "2024-02-01T22:42:23.911044800Z"
    }
   },
   "id": "586417e8a4d7813",
   "execution_count": 30
  },
  {
   "cell_type": "markdown",
   "source": [
    "# catboost with hyperparameter"
   ],
   "metadata": {
    "collapsed": false
   },
   "id": "bb8bc92fa5201125"
  },
  {
   "cell_type": "code",
   "outputs": [
    {
     "name": "stdout",
     "output_type": "stream",
     "text": [
      "Today's matches\n",
      "Encoded Home Team: 9, Encoded Away Team: 0\n",
      "Mechelen win probability: 0.09577716007527402\n",
      "Draw probability: 0.2327348715891032\n",
      "Anderlecht win probability: 0.6714879683356229\n",
      "Encoded Home Team: 12, Encoded Away Team: 7\n",
      "St Truiden win probability: 0.1434450214536715\n",
      "Draw probability: 0.47630570534734273\n",
      "Gent win probability: 0.38024927319898566\n"
     ]
    },
    {
     "data": {
      "text/plain": "(0.1434450214536715, 0.47630570534734273, 0.38024927319898566)"
     },
     "execution_count": 31,
     "metadata": {},
     "output_type": "execute_result"
    }
   ],
   "source": [
    "def predict_match(home_team, away_team, final_model, df, label_encoder):\n",
    "     # Debugging: Check if the team names are in label_encoder's classes\n",
    "    if home_team not in label_encoder.classes_:\n",
    "        raise ValueError(f\"Home team name '{home_team}' not recognized.\")\n",
    "    if away_team not in label_encoder.classes_:\n",
    "        raise ValueError(f\"Away team name '{away_team}' not recognized.\")\n",
    "\n",
    "    # Transform team names\n",
    "    home_team_encoded = label_encoder.transform([home_team])[0]\n",
    "    away_team_encoded = label_encoder.transform([away_team])[0]\n",
    "\n",
    "    # Debugging: Print encoded values\n",
    "    print(f\"Encoded Home Team: {home_team_encoded}, Encoded Away Team: {away_team_encoded}\")\n",
    "\n",
    "    # Prepare the match data with relevant features\n",
    "    match_data = {\n",
    "        'HomeTeam_encoded': label_encoder.transform([home_team])[0],\n",
    "        'AwayTeam_encoded': label_encoder.transform([away_team])[0],\n",
    "        'HomeTeamRecentForm': calculate_form_points(home_team, df)[0],\n",
    "        'AwayTeamRecentForm': calculate_form_points(away_team, df)[1],\n",
    "        'HomeTeamAvgGoals': df[df['HomeTeam'] == home_team]['FTHG'].mean(),\n",
    "        'AwayTeamAvgGoals': df[df['AwayTeam'] == away_team]['FTAG'].mean(),\n",
    "        'HomeTeamPoints': df[df['HomeTeam'] == home_team]['FTR_encoded'].sum() / df[df['HomeTeam'] == home_team]['FTR_encoded'].count(),\n",
    "        'AwayTeamPoints': df[df['AwayTeam'] == away_team]['FTR_encoded'].sum() / df[df['AwayTeam'] == away_team]['FTR_encoded'].count(),\n",
    "        'HomeGoalsScoredVariance': df[df['HomeTeam'] == home_team]['FTHG'].var(),\n",
    "        'AwayGoalsScoredVariance': df[df['AwayTeam'] == away_team]['FTAG'].var(),\n",
    "        'HomeGoalsScoredAvg_3': df[df['HomeTeam'] == home_team]['FTHG'].rolling(3, min_periods=1).mean().iloc[-1],\n",
    "        'AwayGoalsScoredAvg_3': df[df['AwayTeam'] == away_team]['FTAG'].rolling(3, min_periods=1).mean().iloc[-1],\n",
    "        'HomeGoalsConcededAvg_3': df[df['HomeTeam'] == home_team]['FTAG'].rolling(3, min_periods=1).mean().iloc[-1],\n",
    "        'AwayGoalsConcededAvg_3': df[df['AwayTeam'] == away_team]['FTHG'].rolling(3, min_periods=1).mean().iloc[-1],\n",
    "        'HomeGoalsScoredAvg_5': df[df['HomeTeam'] == home_team]['FTHG'].rolling(5, min_periods=1).mean().iloc[-1],\n",
    "        'AwayGoalsScoredAvg_5': df[df['AwayTeam'] == away_team]['FTAG'].rolling(5, min_periods=1).mean().iloc[-1],\n",
    "        'HomeGoalsConcededAvg_5': df[df['HomeTeam'] == home_team]['FTAG'].rolling(5, min_periods=1).mean().iloc[-1],\n",
    "        'AwayGoalsConcededAvg_5': df[df['AwayTeam'] == away_team]['FTHG'].rolling(5, min_periods=1).mean().iloc[-1],\n",
    "        \n",
    "        # Add other features as required by the model, calculated or retrieved as done during training\n",
    "        # ...\n",
    "    }\n",
    "\n",
    "    match_df = pd.DataFrame([match_data])\n",
    "\n",
    "    # Make predictions\n",
    "    probabilities = final_model.predict_proba(match_df)[0]\n",
    "    home_team_win_prob = probabilities[0]\n",
    "    draw_prob = probabilities[1]\n",
    "    away_team_win_prob = probabilities[2]\n",
    "\n",
    "    print(f\"{home_team} win probability: {home_team_win_prob}\")\n",
    "    print(f\"Draw probability: {draw_prob}\")\n",
    "    print(f\"{away_team} win probability: {away_team_win_prob}\")\n",
    "     \n",
    "    \n",
    "\n",
    "    return home_team_win_prob, draw_prob, away_team_win_prob\n",
    "\n",
    "print('Today\\'s matches')\n",
    "\n",
    "predict_match('Mechelen', 'Anderlecht', final_model, df, label_encoder)\n",
    "\n",
    "predict_match('St Truiden', \"Gent\", final_model, df, label_encoder)"
   ],
   "metadata": {
    "collapsed": false,
    "ExecuteTime": {
     "end_time": "2024-02-01T22:42:24.111724100Z",
     "start_time": "2024-02-01T22:42:23.975280700Z"
    }
   },
   "id": "f0d5227de6b197e7",
   "execution_count": 31
  },
  {
   "cell_type": "code",
   "outputs": [
    {
     "name": "stdout",
     "output_type": "stream",
     "text": [
      "##########################\n",
      "Today's matches\n",
      "Encoded Home Team: 9, Encoded Away Team: 0\n",
      "Mechelen win probability: 0.096129436751518\n",
      "Draw probability: 0.21086885681921316\n",
      "Anderlecht win probability: 0.6930017064292688\n",
      "Encoded Home Team: 12, Encoded Away Team: 7\n",
      "St Truiden win probability: 0.10641426472190156\n",
      "Draw probability: 0.6200067888978263\n",
      "Gent win probability: 0.2735789463802721\n"
     ]
    },
    {
     "data": {
      "text/plain": "(0.10641426472190156, 0.6200067888978263, 0.2735789463802721)"
     },
     "execution_count": 32,
     "metadata": {},
     "output_type": "execute_result"
    }
   ],
   "source": [
    "\n",
    "def predict_match(home_team, away_team, catboost_model, df, label_encoder):\n",
    "     # Debugging: Check if the team names are in label_encoder's classes\n",
    "    if home_team not in label_encoder.classes_:\n",
    "        raise ValueError(f\"Home team name '{home_team}' not recognized.\")\n",
    "    if away_team not in label_encoder.classes_:\n",
    "        raise ValueError(f\"Away team name '{away_team}' not recognized.\")\n",
    "\n",
    "    # Transform team names\n",
    "    home_team_encoded = label_encoder.transform([home_team])[0]\n",
    "    away_team_encoded = label_encoder.transform([away_team])[0]\n",
    "\n",
    "    # Debugging: Print encoded values\n",
    "    print(f\"Encoded Home Team: {home_team_encoded}, Encoded Away Team: {away_team_encoded}\")\n",
    "\n",
    "    # Prepare the match data with relevant features\n",
    "    match_data = {\n",
    "        'HomeTeam_encoded': label_encoder.transform([home_team])[0],\n",
    "        'AwayTeam_encoded': label_encoder.transform([away_team])[0],\n",
    "        'HomeTeamRecentForm': calculate_form_points(home_team, df)[0],\n",
    "        'AwayTeamRecentForm': calculate_form_points(away_team, df)[1],\n",
    "        'HomeTeamAvgGoals': df[df['HomeTeam'] == home_team]['FTHG'].mean(),\n",
    "        'AwayTeamAvgGoals': df[df['AwayTeam'] == away_team]['FTAG'].mean(),\n",
    "        'HomeTeamPoints': df[df['HomeTeam'] == home_team]['FTR_encoded'].sum() / df[df['HomeTeam'] == home_team]['FTR_encoded'].count(),\n",
    "        'AwayTeamPoints': df[df['AwayTeam'] == away_team]['FTR_encoded'].sum() / df[df['AwayTeam'] == away_team]['FTR_encoded'].count(),\n",
    "        'HomeGoalsScoredVariance': df[df['HomeTeam'] == home_team]['FTHG'].var(),\n",
    "        'AwayGoalsScoredVariance': df[df['AwayTeam'] == away_team]['FTAG'].var(),\n",
    "        'HomeGoalsScoredAvg_3': df[df['HomeTeam'] == home_team]['FTHG'].rolling(3, min_periods=1).mean().iloc[-1],\n",
    "        'AwayGoalsScoredAvg_3': df[df['AwayTeam'] == away_team]['FTAG'].rolling(3, min_periods=1).mean().iloc[-1],\n",
    "        'HomeGoalsConcededAvg_3': df[df['HomeTeam'] == home_team]['FTAG'].rolling(3, min_periods=1).mean().iloc[-1],\n",
    "        'AwayGoalsConcededAvg_3': df[df['AwayTeam'] == away_team]['FTHG'].rolling(3, min_periods=1).mean().iloc[-1],\n",
    "        'HomeGoalsScoredAvg_5': df[df['HomeTeam'] == home_team]['FTHG'].rolling(5, min_periods=1).mean().iloc[-1],\n",
    "        'AwayGoalsScoredAvg_5': df[df['AwayTeam'] == away_team]['FTAG'].rolling(5, min_periods=1).mean().iloc[-1],\n",
    "        'HomeGoalsConcededAvg_5': df[df['HomeTeam'] == home_team]['FTAG'].rolling(5, min_periods=1).mean().iloc[-1],\n",
    "        'AwayGoalsConcededAvg_5': df[df['AwayTeam'] == away_team]['FTHG'].rolling(5, min_periods=1).mean().iloc[-1],\n",
    "        \n",
    "        # Add other features as required by the model, calculated or retrieved as done during training\n",
    "        # ...\n",
    "    }\n",
    "\n",
    "    match_df = pd.DataFrame([match_data])\n",
    "\n",
    "    # Make predictions\n",
    "    probabilities = catboost_model.predict_proba(match_df)[0]\n",
    "    home_team_win_prob = probabilities[0]\n",
    "    draw_prob = probabilities[1]\n",
    "    away_team_win_prob = probabilities[2]\n",
    "\n",
    "    print(f\"{home_team} win probability: {home_team_win_prob}\")\n",
    "    print(f\"Draw probability: {draw_prob}\")\n",
    "    print(f\"{away_team} win probability: {away_team_win_prob}\")\n",
    "     \n",
    "    pd.DataFrame({'home_team': home_team, 'away_team': away_team, 'home_team_win_prob': home_team_win_prob, 'draw_prob': draw_prob, 'away_team_win_prob': away_team_win_prob}, index=[0])\n",
    "\n",
    "    return home_team_win_prob, draw_prob, away_team_win_prob\n",
    "\n",
    "\n",
    "\n",
    "print('##########################')\n",
    "print('Today\\'s matches')\n",
    "\n",
    "predict_match('Mechelen', 'Anderlecht', catboost_model, df, label_encoder)\n",
    "\n",
    "predict_match('St Truiden', \"Gent\", catboost_model, df, label_encoder)"
   ],
   "metadata": {
    "collapsed": false,
    "ExecuteTime": {
     "end_time": "2024-02-01T22:42:24.314213300Z",
     "start_time": "2024-02-01T22:42:24.038893300Z"
    }
   },
   "id": "d4aaf95550397fc0",
   "execution_count": 32
  },
  {
   "cell_type": "code",
   "outputs": [],
   "source": [
    "from sklearn.impute import SimpleImputer\n",
    "import numpy as np\n",
    "\n",
    "# Initialize the imputer (you can change the strategy to 'median' or 'most_frequent' if more appropriate)\n",
    "imputer = SimpleImputer(missing_values=np.nan, strategy='mean')\n",
    "\n",
    "# Fit on the training data and transform both training and testing data\n",
    "X_train_imputed = imputer.fit_transform(X_train)\n",
    "X_test_imputed = imputer.transform(X_test)\n",
    "\n",
    "\n"
   ],
   "metadata": {
    "collapsed": false,
    "ExecuteTime": {
     "end_time": "2024-02-01T22:42:24.325573800Z",
     "start_time": "2024-02-01T22:42:24.107724500Z"
    }
   },
   "id": "5afcd0ee014014b1",
   "execution_count": 33
  },
  {
   "cell_type": "markdown",
   "source": [
    "## using random forest"
   ],
   "metadata": {
    "collapsed": false
   },
   "id": "cd674d54c6445cb0"
  },
  {
   "cell_type": "code",
   "outputs": [
    {
     "name": "stdout",
     "output_type": "stream",
     "text": [
      "              precision    recall  f1-score   support\n",
      "\n",
      "           0       0.83      0.50      0.62        10\n",
      "           1       0.56      0.42      0.48        12\n",
      "           2       0.64      0.93      0.76        15\n",
      "\n",
      "    accuracy                           0.65        37\n",
      "   macro avg       0.68      0.62      0.62        37\n",
      "weighted avg       0.66      0.65      0.63        37\n"
     ]
    }
   ],
   "source": [
    "from sklearn.metrics import classification_report\n",
    "from sklearn.ensemble import RandomForestClassifier\n",
    "from sklearn.model_selection import GridSearchCV\n",
    "\n",
    "\n",
    "\n",
    "# Then scale the imputed data\n",
    "scaler = StandardScaler()\n",
    "X_train_scaled = scaler.fit_transform(X_train_imputed)\n",
    "X_test_scaled = scaler.transform(X_test_imputed)\n",
    "\n",
    "# Hyperparameter Tuning\n",
    "model = RandomForestClassifier(random_state=42)\n",
    "param_grid = {\n",
    "    'n_estimators': [100, 200, 300],\n",
    "    'max_depth': [None, 10, 20, 30],\n",
    "    'min_samples_split': [2, 5, 10],\n",
    "    'min_samples_leaf': [1, 2, 4]\n",
    "    \n",
    "}\n",
    "grid_search = GridSearchCV(model, param_grid, cv=3, scoring='f1_macro')\n",
    "grid_search.fit(X_train_scaled, y_train_encoded)\n",
    "\n",
    "# Best Model Evaluation\n",
    "best_model = grid_search.best_estimator_\n",
    "y_pred = best_model.predict(X_test_scaled)\n",
    "print(classification_report(y_test, y_pred))"
   ],
   "metadata": {
    "collapsed": false,
    "ExecuteTime": {
     "end_time": "2024-02-01T22:43:59.825772100Z",
     "start_time": "2024-02-01T22:42:24.128819100Z"
    }
   },
   "id": "561f276f86e12a37",
   "execution_count": 34
  },
  {
   "cell_type": "code",
   "outputs": [
    {
     "name": "stdout",
     "output_type": "stream",
     "text": [
      "##########################\n",
      "Today's matches\n",
      "Encoded Home Team: 9, Encoded Away Team: 0\n",
      "Mechelen win probability: 0.065\n",
      "Anderlecht win probability: 0.42916666666666664\n",
      "Draw probability: 0.5058333333333334\n",
      "Encoded Home Team: 12, Encoded Away Team: 7\n",
      "St Truiden win probability: 0.145\n",
      "Gent win probability: 0.5557936507936507\n",
      "Draw probability: 0.2992063492063492\n"
     ]
    },
    {
     "name": "stderr",
     "output_type": "stream",
     "text": [
      "C:\\Users\\dagbo_b40tnyc\\AppData\\Local\\Programs\\Python\\Python311\\Lib\\site-packages\\sklearn\\base.py:458: UserWarning: X has feature names, but StandardScaler was fitted without feature names\n",
      "  warnings.warn(\n",
      "C:\\Users\\dagbo_b40tnyc\\AppData\\Local\\Programs\\Python\\Python311\\Lib\\site-packages\\sklearn\\base.py:458: UserWarning: X has feature names, but StandardScaler was fitted without feature names\n",
      "  warnings.warn(\n"
     ]
    },
    {
     "data": {
      "text/plain": "(0.145, 0.5557936507936507, 0.2992063492063492)"
     },
     "execution_count": 35,
     "metadata": {},
     "output_type": "execute_result"
    }
   ],
   "source": [
    "\n",
    "def predict_match(home_team, away_team, best_model, df, label_encoder,scaler):\n",
    "     # Debugging: Check if the team names are in label_encoder's classes\n",
    "    if home_team not in label_encoder.classes_:\n",
    "        raise ValueError(f\"Home team name '{home_team}' not recognized.\")\n",
    "    if away_team not in label_encoder.classes_:\n",
    "        raise ValueError(f\"Away team name '{away_team}' not recognized.\")\n",
    "\n",
    "    # Transform team names\n",
    "    home_team_encoded = label_encoder.transform([home_team])[0]\n",
    "    away_team_encoded = label_encoder.transform([away_team])[0]\n",
    "\n",
    "    # Debugging: Print encoded values\n",
    "    print(f\"Encoded Home Team: {home_team_encoded}, Encoded Away Team: {away_team_encoded}\")\n",
    "\n",
    "    # Prepare the match data with relevant features\n",
    "    match_data = {\n",
    "        'HomeTeam_encoded': label_encoder.transform([home_team])[0],\n",
    "        'AwayTeam_encoded': label_encoder.transform([away_team])[0],\n",
    "        'HomeTeamRecentForm': calculate_form_points(home_team, df)[0],\n",
    "        'AwayTeamRecentForm': calculate_form_points(away_team, df)[1],\n",
    "        'HomeTeamAvgGoals': df[df['HomeTeam'] == home_team]['FTHG'].mean(),\n",
    "        'AwayTeamAvgGoals': df[df['AwayTeam'] == away_team]['FTAG'].mean(),\n",
    "        'HomeTeamPoints': df[df['HomeTeam'] == home_team]['FTR_encoded'].sum() / df[df['HomeTeam'] == home_team]['FTR_encoded'].count(),\n",
    "        'AwayTeamPoints': df[df['AwayTeam'] == away_team]['FTR_encoded'].sum() / df[df['AwayTeam'] == away_team]['FTR_encoded'].count(),\n",
    "        'HomeGoalsScoredVariance': df[df['HomeTeam'] == home_team]['FTHG'].var(),\n",
    "        'AwayGoalsScoredVariance': df[df['AwayTeam'] == away_team]['FTAG'].var(),\n",
    "        'HomeGoalsScoredAvg_3': df[df['HomeTeam'] == home_team]['FTHG'].rolling(3, min_periods=1).mean().iloc[-1],\n",
    "        'AwayGoalsScoredAvg_3': df[df['AwayTeam'] == away_team]['FTAG'].rolling(3, min_periods=1).mean().iloc[-1],\n",
    "        'HomeGoalsConcededAvg_3': df[df['HomeTeam'] == home_team]['FTAG'].rolling(3, min_periods=1).mean().iloc[-1],\n",
    "        'AwayGoalsConcededAvg_3': df[df['AwayTeam'] == away_team]['FTHG'].rolling(3, min_periods=1).mean().iloc[-1],\n",
    "        'HomeGoalsScoredAvg_5': df[df['HomeTeam'] == home_team]['FTHG'].rolling(5, min_periods=1).mean().iloc[-1],\n",
    "        'AwayGoalsScoredAvg_5': df[df['AwayTeam'] == away_team]['FTAG'].rolling(5, min_periods=1).mean().iloc[-1],\n",
    "        'HomeGoalsConcededAvg_5': df[df['HomeTeam'] == home_team]['FTAG'].rolling(5, min_periods=1).mean().iloc[-1],\n",
    "        'AwayGoalsConcededAvg_5': df[df['AwayTeam'] == away_team]['FTHG'].rolling(5, min_periods=1).mean().iloc[-1],\n",
    "        \n",
    "        # Add other features as required by the model, calculated or retrieved as done during training\n",
    "        # ...\n",
    "    }\n",
    "\n",
    "    match_df = pd.DataFrame([match_data])\n",
    "    match_scaled = scaler.transform(match_df)\n",
    "    # Make predictions\n",
    "    home_team_win_prob = best_model.predict_proba(match_scaled)[0][0]\n",
    "    away_team_win_prob = best_model.predict_proba(match_scaled)[0][2]\n",
    "    draw_prob = best_model.predict_proba(match_scaled)[0][1]\n",
    "    # Print the results\n",
    "    print(f\"{home_team} win probability: {home_team_win_prob}\")\n",
    "    print(f\"{away_team} win probability: {away_team_win_prob}\")\n",
    "    print(f\"Draw probability: {draw_prob}\")\n",
    "    #pd.DataFrame({'home_team': home_team, 'away_team': away_team, 'home_team_win_prob': home_team_win_prob, 'draw_prob': draw_prob, 'away_team_win_prob': away_team_win_prob})\n",
    "    \n",
    "    return home_team_win_prob, away_team_win_prob, draw_prob\n",
    "\n",
    "\n",
    "\n",
    "print('##########################')\n",
    "print('Today\\'s matches')\n",
    "\n",
    "predict_match('Mechelen', 'Anderlecht', best_model, df, label_encoder,scaler)\n",
    "\n",
    "predict_match('St Truiden', \"Gent\", best_model, df, label_encoder,scaler)"
   ],
   "metadata": {
    "collapsed": false,
    "ExecuteTime": {
     "end_time": "2024-02-01T22:43:59.932031800Z",
     "start_time": "2024-02-01T22:43:59.832775Z"
    }
   },
   "id": "c6620460d2ef2cd2",
   "execution_count": 35
  },
  {
   "cell_type": "code",
   "outputs": [],
   "source": [
    "# # save the 3 models\n",
    "# import joblib\n",
    "# \n",
    "# # Save the model as a pickle file\n",
    "# joblib.dump(best_model, 'models/best_model.pkl')\n",
    "# # joblib.dump(label_encoder, 'label_encoder.pkl')\n",
    "# # joblib.dump(scaler, 'scaler.pkl')\n",
    "#     \n",
    "# # save the xgb model\n",
    "# import pickle\n",
    "# \n",
    "# # Save the model as a pickle file\n",
    "# pickle.dump(xgb_model, open('models/xgb_model.pkl', 'wb'))\n",
    "# # pickle.dump(label_encoder, open('label_encoder.pkl', 'wb'))\n",
    "# # pickle.dump(scaler, open('scaler.pkl', 'wb'))\n",
    "# \n",
    "# # save the catboost model\n",
    "# import pickle\n",
    "# \n",
    "# # Save the model as a pickle file\n",
    "# pickle.dump(catboost_model, open('models/catboost_model.pkl', 'wb'))\n",
    "# pickle.dump(label_encoder, open('models/label_encoder.pkl', 'wb'))\n",
    "# pickle.dump(scaler, open('models/scaler.pkl', 'wb'))\n",
    "# \n"
   ],
   "metadata": {
    "collapsed": false,
    "ExecuteTime": {
     "end_time": "2024-02-01T22:43:59.933153900Z",
     "start_time": "2024-02-01T22:43:59.919874400Z"
    }
   },
   "id": "d715b9c2999b356c",
   "execution_count": 36
  }
 ],
 "metadata": {
  "kernelspec": {
   "display_name": "Python 3",
   "language": "python",
   "name": "python3"
  },
  "language_info": {
   "codemirror_mode": {
    "name": "ipython",
    "version": 2
   },
   "file_extension": ".py",
   "mimetype": "text/x-python",
   "name": "python",
   "nbconvert_exporter": "python",
   "pygments_lexer": "ipython2",
   "version": "2.7.6"
  }
 },
 "nbformat": 4,
 "nbformat_minor": 5
}
