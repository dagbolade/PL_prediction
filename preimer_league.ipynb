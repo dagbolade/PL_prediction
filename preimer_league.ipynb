{
 "cells": [
  {
   "cell_type": "markdown",
   "source": [
    "# Premier League 2023-2024 prediction"
   ],
   "metadata": {
    "collapsed": false
   },
   "id": "69178bb516e1d6d3"
  },
  {
   "cell_type": "markdown",
   "source": [
    "## Importing libraries"
   ],
   "metadata": {
    "collapsed": false
   },
   "id": "93e4c314e429ce32"
  },
  {
   "cell_type": "code",
   "execution_count": null,
   "id": "initial_id",
   "metadata": {
    "collapsed": true
   },
   "outputs": [],
   "source": [
    "import pandas as pd\n",
    "import openpyxl"
   ]
  },
  {
   "cell_type": "code",
   "execution_count": null,
   "outputs": [],
   "source": [
    "# Importing the dataset and creating a dataframe\n",
    "df =  pd.read_excel('all-euro-data-2023-2024.xlsx', sheet_name='E0' )\n",
    "df.head()"
   ],
   "metadata": {
    "collapsed": false
   },
   "id": "3645d634c5813470"
  },
  {
   "cell_type": "code",
   "execution_count": null,
   "outputs": [],
   "source": [
    "# convert the dataframe to csv file\n",
    "df.to_csv('premier_league.csv')\n",
    "df_new = pd.read_csv('premier_league.csv')\n",
    "df_new.head()"
   ],
   "metadata": {
    "collapsed": false
   },
   "id": "b9720e92d7afb151"
  },
  {
   "cell_type": "code",
   "execution_count": null,
   "outputs": [],
   "source": [
    "# removing the first column\n",
    "df_new.drop(df_new.columns[0], axis=1, inplace=True)\n",
    "df_new.head()"
   ],
   "metadata": {
    "collapsed": false
   },
   "id": "e12588df19ee2296"
  },
  {
   "cell_type": "code",
   "execution_count": null,
   "outputs": [],
   "source": [
    "# save the new dataframe to csv file \n",
    "df_new.to_csv('premier_league.csv')\n",
    "df_new"
   ],
   "metadata": {
    "collapsed": false
   },
   "id": "d9cfa92b7850716a"
  },
  {
   "cell_type": "markdown",
   "source": [
    "## Data Preprocessing"
   ],
   "metadata": {
    "collapsed": false
   },
   "id": "db37ef466ab4489d"
  },
  {
   "cell_type": "code",
   "execution_count": null,
   "outputs": [],
   "source": [
    "# checking for missing values\n",
    "df_new.isnull().sum()\n"
   ],
   "metadata": {
    "collapsed": false
   },
   "id": "b00d6e40ebbadbd8"
  },
  {
   "cell_type": "code",
   "execution_count": null,
   "outputs": [],
   "source": [
    "# checking for duplicates\n",
    "df_new.duplicated().sum()\n"
   ],
   "metadata": {
    "collapsed": false
   },
   "id": "21ea8c731cb01e69"
  },
  {
   "cell_type": "code",
   "execution_count": null,
   "outputs": [],
   "source": [
    "# checking for outliers\n",
    "import matplotlib.pyplot as plt\n",
    "df_new.boxplot(figsize=(12,8))\n"
   ],
   "metadata": {
    "collapsed": false
   },
   "id": "f41dbf77108e3cb5"
  },
  {
   "cell_type": "markdown",
   "source": [
    "## Performing Exploratory Data Analysis"
   ],
   "metadata": {
    "collapsed": false
   },
   "id": "da1a69d61131ea30"
  },
  {
   "cell_type": "code",
   "execution_count": null,
   "outputs": [],
   "source": [
    "# checking the total matches played\n",
    "total_matches = df_new.shape[0]\n",
    "print('Total matches played:', total_matches)\n",
    "\n",
    "#checking the list of all teams involved\n",
    "teams = df_new['HomeTeam'].unique()\n",
    "print('Teams involved:', teams)\n",
    "\n",
    "# checking the total number of goals scored\n",
    "total_goals = df_new['FTHG'].sum() + df_new['FTAG'].sum()\n",
    "print('Total goals scored so far:', total_goals)\n",
    "\n",
    "# checking the total number of home wins for chelsea\n",
    "chelsea_home_wins = df_new[(df_new['HomeTeam'] == 'Chelsea') & (df_new['FTR'] == 'H')].shape[0]\n",
    "print('Total number of home wins for Chelsea:', chelsea_home_wins)\n",
    "\n",
    "# checking the total number of home losses for manchester united\n",
    "man_united_home_losses = df_new[(df_new['HomeTeam'] == 'Man United') & (df_new['FTR'] == 'A')].shape[0]\n",
    "print('Total number of home losses for this shitty man utd team is: ', man_united_home_losses)"
   ],
   "metadata": {
    "collapsed": false
   },
   "id": "8ddd3d84c9793c7"
  },
  {
   "cell_type": "code",
   "execution_count": null,
   "outputs": [],
   "source": [
    "# get the current position and calculate points for chelsea and the rest of the teams\n",
    "def calculate_points_goals(row):\n",
    "    home_points, away_points = 0, 0\n",
    "    home_goal_diff = row['FTHG'] - row['FTAG']\n",
    "    away_goal_diff = row['FTAG'] - row['FTHG']\n",
    "\n",
    "    if row['FTR'] == 'H':\n",
    "        home_points = 3\n",
    "    elif row['FTR'] == 'A':\n",
    "        away_points = 3\n",
    "    else:\n",
    "        home_points = away_points = 1\n",
    "\n",
    "    return pd.Series([home_points, away_points, home_goal_diff, away_goal_diff, row['FTHG'], row['FTAG']])\n",
    "\n",
    "# Applying the function to the dataset\n",
    "df_new[['HomePoints', 'AwayPoints', 'HomeGoalDiff', 'AwayGoalDiff', 'HomeGoals', 'AwayGoals']] = df_new.apply(calculate_points_goals, axis=1)\n",
    "\n",
    "# Summarizing the data for each team\n",
    "team_stats = pd.DataFrame(index=teams)\n",
    "\n",
    "# Calculating total points, goal difference, and goals scored for each team\n",
    "team_stats['Points'] = df_new.groupby('HomeTeam')['HomePoints'].sum() + df_new.groupby('AwayTeam')['AwayPoints'].sum()\n",
    "team_stats['GoalDiff'] = df_new.groupby('HomeTeam')['HomeGoalDiff'].sum() + df_new.groupby('AwayTeam')['AwayGoalDiff'].sum()\n",
    "team_stats['GoalsScored'] = df_new.groupby('HomeTeam')['HomeGoals'].sum() + df_new.groupby('AwayTeam')['AwayGoals'].sum()\n",
    "\n",
    "# Sorting the teams based on Points, Goal Difference, and Goals Scored\n",
    "sorted_teams = team_stats.sort_values(by=['Points', 'GoalDiff', 'GoalsScored'], ascending=[False, False, False])\n",
    "\n",
    "# Finding Chelsea's position\n",
    "chelsea_position_updated = sorted_teams.index.get_loc('Chelsea') + 1\n",
    "print('Chelsea is currently in position:', chelsea_position_updated)\n",
    "sorted_teams.head(), chelsea_position_updated\n",
    "\n",
    "\n",
    "   "
   ],
   "metadata": {
    "collapsed": false
   },
   "id": "435d3e8d6c882933"
  },
  {
   "cell_type": "markdown",
   "source": [
    "### Analysing Chelsea's performance"
   ],
   "metadata": {
    "collapsed": false
   },
   "id": "67d8b118fc7f9eb9"
  },
  {
   "cell_type": "code",
   "execution_count": null,
   "outputs": [],
   "source": [
    "# team performance overview\n",
    "Total_matches = df_new[(df_new['HomeTeam'] == 'Chelsea') | (df_new['AwayTeam'] == 'Chelsea')].shape[0]\n",
    "Total_matches\n",
    "\n",
    "# total number of goals scored by chelsea\n",
    "Total_goals_scored = df_new[(df_new['HomeTeam']== 'Chelsea')]['FTHG'].sum() + df_new[(df_new['HomeTeam'] == 'Chelsea')]['FTAG'].sum()\n",
    "Total_goals_scored\n",
    "\n",
    "# total number of goals conceded by chelsea\n",
    "Total_goals_conceded = df_new[(df_new['HomeTeam'] == 'Chelsea')]['FTAG'].sum() + df_new[(df_new['AwayTeam'] == 'Chelsea')]['FTHG'].sum()\n",
    "Total_goals_conceded\n",
    "\n",
    "# total number of home wins for chelsea\n",
    "Total_home_wins = df_new[(df_new['HomeTeam'] == 'Chelsea') & (df_new['FTR'] == 'H')].shape[0]\n",
    "\n",
    "# total number of home losses for chelsea\n",
    "Total_home_losses = df_new[(df_new['HomeTeam'] == 'Chelsea') & (df_new['FTR'] == 'A')].shape[0]\n",
    "\n",
    "# total number of away wins for chelsea\n",
    "Total_away_wins = df_new[(df_new['AwayTeam'] == 'Chelsea') & (df_new['FTR'] == 'A')].shape[0]\n",
    "\n",
    "# total number of away losses for chelsea\n",
    "Total_away_losses = df_new[(df_new['AwayTeam'] == 'Chelsea') & (df_new['FTR'] == 'H')].shape[0]\n",
    "\n",
    "# total number of home draws for chelsea\n",
    "Total_home_draws = df_new[(df_new['HomeTeam'] == 'Chelsea') & (df_new['FTR'] == 'D')].shape[0]\n",
    "\n",
    "# total number of away draws for chelsea\n",
    "Total_away_draws = df_new[(df_new['AwayTeam'] == 'Chelsea') & (df_new['FTR'] == 'D')].shape[0]\n",
    "\n",
    "print(f'Chelsea has played a total of {Total_matches} matches so far in the 2023-2024 season')\n",
    "print(f'Chelsea has scored a total of {Total_goals_scored} goals so far in the 2023-2024 season')\n",
    "print(f'Chelsea has conceded a total of {Total_goals_conceded} goals so far in the 2023-2024 season')\n",
    "print(f'Chelsea has won a total of {Total_home_wins} home matches so far in the 2023-2024 season')\n",
    "print(f'Chelsea has lost a total of {Total_home_losses} home matches so far in the 2023-2024 season')\n",
    "print(f'Chelsea has won a total of {Total_away_wins} away matches so far in the 2023-2024 season')\n",
    "print(f'Chelsea has lost a total of {Total_away_losses} away matches so far in the 2023-2024 season')\n",
    "print(f'Chelsea has drawn a total of {Total_home_draws} home matches so far in the 2023-2024 season')\n",
    "print(f'Chelsea has drawn a total of {Total_away_draws} away matches so far in the 2023-2024 season')\n",
    "\n"
   ],
   "metadata": {
    "collapsed": false
   },
   "id": "5cdb7d73038ce869"
  },
  {
   "cell_type": "markdown",
   "source": [
    "### Analysing the top 6 teams"
   ],
   "metadata": {
    "collapsed": false
   },
   "id": "8b669370999585bb"
  },
  {
   "cell_type": "code",
   "execution_count": null,
   "outputs": [],
   "source": [
    "# top 6 teams\n",
    "top_6_teams = sorted_teams.head(6)\n",
    "top_6_teams"
   ],
   "metadata": {
    "collapsed": false
   },
   "id": "dd888eeb26c09346"
  },
  {
   "cell_type": "markdown",
   "source": [
    "### feature engineering"
   ],
   "metadata": {
    "collapsed": false
   },
   "id": "3b8e274bb242e32c"
  },
  {
   "cell_type": "code",
   "execution_count": null,
   "outputs": [],
   "source": [
    "# selecting the features for the model\n",
    "import pandas as pd\n",
    "from sklearn.preprocessing import LabelEncoder\n",
    "\n",
    "# Encoding Team Names\n",
    "label_encoder = LabelEncoder()\n",
    "df_new['HomeTeamEncoded'] = label_encoder.fit_transform(df_new['HomeTeam'])\n",
    "df_new['AwayTeamEncoded'] = label_encoder.transform(df_new['AwayTeam'])\n",
    "\n",
    "# Calculate Team's Average Goals Scored and Conceded per Match\n",
    "# Replace 'FTHG' and 'FTAG' with your actual column names for goals\n",
    "average_goals_scored_home = df_new.groupby('HomeTeam')['FTHG'].mean()\n",
    "average_goals_scored_away = df_new.groupby('AwayTeam')['FTAG'].mean()\n",
    "\n",
    "# Mapping these averages to the main DataFrame\n",
    "df_new['HomeTeamAvgGoals'] = df_new['HomeTeam'].map(average_goals_scored_home)\n",
    "df_new['AwayTeamAvgGoals'] = df_new['AwayTeam'].map(average_goals_scored_away)\n",
    "\n",
    "# Viewing the modified DataFrame\n",
    "print(df_new.head())\n"
   ],
   "metadata": {
    "collapsed": false
   },
   "id": "594faf549ec6833f"
  },
  {
   "cell_type": "code",
   "execution_count": null,
   "outputs": [],
   "source": [
    "# Calculate Home Team Win Percentage\n",
    "home_team_wins = df_new[df_new['FTR'] == 'H'].groupby('HomeTeam').size()\n",
    "total_home_matches = df_new.groupby('HomeTeam').size()\n",
    "home_team_win_percentage = home_team_wins / total_home_matches\n",
    "\n",
    "# Calculate Away Team Win Percentage\n",
    "away_team_wins = df_new[df_new['FTR'] == 'A'].groupby('AwayTeam').size()\n",
    "total_away_matches = df_new.groupby('AwayTeam').size()\n",
    "away_team_win_percentage = away_team_wins / total_away_matches\n",
    "\n",
    "# Create mappings for win percentages\n",
    "home_team_win_percentage_map = home_team_win_percentage.to_dict()\n",
    "away_team_win_percentage_map = away_team_win_percentage.to_dict()\n",
    "\n",
    "# Map the win percentages to the original DataFrame\n",
    "df_new['HomeTeamWinPercentage'] = df_new['HomeTeam'].map(home_team_win_percentage_map).fillna(0)\n",
    "df_new['AwayTeamWinPercentage'] = df_new['AwayTeam'].map(away_team_win_percentage_map).fillna(0)\n",
    "\n",
    "# Check the first few rows to confirm the new features\n",
    "print(df_new[['HomeTeam', 'HomeTeamWinPercentage', 'AwayTeam', 'AwayTeamWinPercentage']].head())\n"
   ],
   "metadata": {
    "collapsed": false
   },
   "id": "57ebec12b7a216fb"
  },
  {
   "cell_type": "code",
   "execution_count": 108,
   "outputs": [
    {
     "data": {
      "text/plain": "          Date       HomeTeam  HomeTeamPoints  HomeTeamRecentForm  \\\n159 2023-12-10      Tottenham              15                   9   \n160 2023-12-15  Nott'm Forest               9                   6   \n161 2023-12-16        Chelsea              12                   5   \n162 2023-12-16       Man City              18                  14   \n163 2023-12-16      Newcastle              24                  18   \n164 2023-12-16        Burnley               3                   3   \n165 2023-12-17        Arsenal              23                  16   \n166 2023-12-17      Brentford              12                  10   \n167 2023-12-17       West Ham              14                   8   \n168 2023-12-17      Liverpool              22                  18   \n\n             AwayTeam  AwayTeamPoints  AwayTeamRecentForm  \n159         Newcastle               5                   5  \n160         Tottenham              18                  11  \n161  Sheffield United               1                   1  \n162    Crystal Palace              12                   7  \n163            Fulham               6                   2  \n164           Everton              16                  13  \n165          Brighton              10                   7  \n166       Aston Villa              14                   8  \n167            Wolves               7                   4  \n168        Man United              13                  12  ",
      "text/html": "<div>\n<style scoped>\n    .dataframe tbody tr th:only-of-type {\n        vertical-align: middle;\n    }\n\n    .dataframe tbody tr th {\n        vertical-align: top;\n    }\n\n    .dataframe thead th {\n        text-align: right;\n    }\n</style>\n<table border=\"1\" class=\"dataframe\">\n  <thead>\n    <tr style=\"text-align: right;\">\n      <th></th>\n      <th>Date</th>\n      <th>HomeTeam</th>\n      <th>HomeTeamPoints</th>\n      <th>HomeTeamRecentForm</th>\n      <th>AwayTeam</th>\n      <th>AwayTeamPoints</th>\n      <th>AwayTeamRecentForm</th>\n    </tr>\n  </thead>\n  <tbody>\n    <tr>\n      <th>159</th>\n      <td>2023-12-10</td>\n      <td>Tottenham</td>\n      <td>15</td>\n      <td>9</td>\n      <td>Newcastle</td>\n      <td>5</td>\n      <td>5</td>\n    </tr>\n    <tr>\n      <th>160</th>\n      <td>2023-12-15</td>\n      <td>Nott'm Forest</td>\n      <td>9</td>\n      <td>6</td>\n      <td>Tottenham</td>\n      <td>18</td>\n      <td>11</td>\n    </tr>\n    <tr>\n      <th>161</th>\n      <td>2023-12-16</td>\n      <td>Chelsea</td>\n      <td>12</td>\n      <td>5</td>\n      <td>Sheffield United</td>\n      <td>1</td>\n      <td>1</td>\n    </tr>\n    <tr>\n      <th>162</th>\n      <td>2023-12-16</td>\n      <td>Man City</td>\n      <td>18</td>\n      <td>14</td>\n      <td>Crystal Palace</td>\n      <td>12</td>\n      <td>7</td>\n    </tr>\n    <tr>\n      <th>163</th>\n      <td>2023-12-16</td>\n      <td>Newcastle</td>\n      <td>24</td>\n      <td>18</td>\n      <td>Fulham</td>\n      <td>6</td>\n      <td>2</td>\n    </tr>\n    <tr>\n      <th>164</th>\n      <td>2023-12-16</td>\n      <td>Burnley</td>\n      <td>3</td>\n      <td>3</td>\n      <td>Everton</td>\n      <td>16</td>\n      <td>13</td>\n    </tr>\n    <tr>\n      <th>165</th>\n      <td>2023-12-17</td>\n      <td>Arsenal</td>\n      <td>23</td>\n      <td>16</td>\n      <td>Brighton</td>\n      <td>10</td>\n      <td>7</td>\n    </tr>\n    <tr>\n      <th>166</th>\n      <td>2023-12-17</td>\n      <td>Brentford</td>\n      <td>12</td>\n      <td>10</td>\n      <td>Aston Villa</td>\n      <td>14</td>\n      <td>8</td>\n    </tr>\n    <tr>\n      <th>167</th>\n      <td>2023-12-17</td>\n      <td>West Ham</td>\n      <td>14</td>\n      <td>8</td>\n      <td>Wolves</td>\n      <td>7</td>\n      <td>4</td>\n    </tr>\n    <tr>\n      <th>168</th>\n      <td>2023-12-17</td>\n      <td>Liverpool</td>\n      <td>22</td>\n      <td>18</td>\n      <td>Man United</td>\n      <td>13</td>\n      <td>12</td>\n    </tr>\n  </tbody>\n</table>\n</div>"
     },
     "execution_count": 108,
     "metadata": {},
     "output_type": "execute_result"
    }
   ],
   "source": [
    "# Ensure the DataFrame is sorted by date\n",
    "df_new.sort_values('Date', inplace=True)\n",
    "\n",
    "# Initialize columns for points and form\n",
    "df_new['HomeTeamPoints'] = 0\n",
    "df_new['AwayTeamPoints'] = 0\n",
    "df_new['HomeTeamRecentForm'] = 0\n",
    "df_new['AwayTeamRecentForm'] = 0\n",
    "\n",
    "# Calculate points for each team\n",
    "for team in df_new['HomeTeam'].unique():\n",
    "    # Calculate points for the home team\n",
    "    home_points = df_new[df_new['HomeTeam'] == team]['FTR'].apply(lambda x: 3 if x == 'H' else 1 if x == 'D' else 0).cumsum()\n",
    "    away_points = df_new[df_new['AwayTeam'] == team]['FTR'].apply(lambda x: 3 if x == 'A' else 1 if x == 'D' else 0).cumsum()\n",
    "\n",
    "    # Assign the points to the team's home and away matches\n",
    "    df_new.loc[df_new['HomeTeam'] == team, 'HomeTeamPoints'] = home_points\n",
    "    df_new.loc[df_new['AwayTeam'] == team, 'AwayTeamPoints'] = away_points\n",
    "\n",
    "# Calculate recent form for each team\n",
    "for team in df_new['HomeTeam'].unique():\n",
    "    # Get indices of the team's home and away games\n",
    "    home_indices = df_new[df_new['HomeTeam'] == team].index\n",
    "    away_indices = df_new[df_new['AwayTeam'] == team].index\n",
    "    \n",
    "    # Calculate the form for the last 5 games, excluding the current match\n",
    "    df_new.loc[home_indices, 'HomeTeamRecentForm'] = df_new.loc[home_indices, 'HomeTeamPoints'].diff().fillna(0).rolling(window=6, min_periods=1).sum().shift(fill_value=0)\n",
    "    df_new.loc[away_indices, 'AwayTeamRecentForm'] = df_new.loc[away_indices, 'AwayTeamPoints'].diff().fillna(0).rolling(window=6, min_periods=1).sum().shift(fill_value=0)\n",
    "\n",
    "# Display the head of the dataframe to verify\n",
    "df_new[['Date', 'HomeTeam', 'HomeTeamPoints', 'HomeTeamRecentForm', 'AwayTeam', 'AwayTeamPoints', 'AwayTeamRecentForm']].tail(10)\n",
    "\n"
   ],
   "metadata": {
    "collapsed": false,
    "ExecuteTime": {
     "end_time": "2023-12-19T17:42:59.343048200Z",
     "start_time": "2023-12-19T17:42:59.225770100Z"
    }
   },
   "id": "d8213f2396de7d7e"
  },
  {
   "cell_type": "code",
   "execution_count": 109,
   "outputs": [
    {
     "name": "stdout",
     "output_type": "stream",
     "text": [
      "              precision    recall  f1-score   support\n",
      "\n",
      "           A       0.43      0.77      0.56        13\n",
      "           D       0.60      0.43      0.50        14\n",
      "           H       0.89      0.67      0.76        24\n",
      "\n",
      "    accuracy                           0.63        51\n",
      "   macro avg       0.64      0.62      0.61        51\n",
      "weighted avg       0.69      0.63      0.64        51\n"
     ]
    }
   ],
   "source": [
    "from sklearn.model_selection import train_test_split, GridSearchCV, cross_val_score\n",
    "from sklearn.ensemble import RandomForestClassifier\n",
    "from sklearn.metrics import classification_report, make_scorer, f1_score\n",
    "from sklearn.preprocessing import StandardScaler\n",
    "from imblearn.over_sampling import SMOTE\n",
    "\n",
    "# Selecting features and target\n",
    "X = df_new[['HomeTeamEncoded', 'AwayTeamEncoded', 'HomeTeamAvgGoals', 'AwayTeamAvgGoals', 'HomeTeamPoints', 'AwayTeamPoints', 'HomeTeamRecentForm', 'AwayTeamRecentForm',\n",
    "    'HomeTeamWinPercentage', 'AwayTeamWinPercentage']]\n",
    "y = df_new['FTR']\n",
    "\n",
    "# Splitting the dataset\n",
    "X_train, X_test, y_train, y_test = train_test_split(X, y, test_size=0.3, random_state=42)\n",
    "\n",
    "# Addressing Class Imbalance\n",
    "smote = SMOTE(random_state=42)\n",
    "X_train_smote, y_train_smote = smote.fit_resample(X_train, y_train)\n",
    "\n",
    "# Scaling the features\n",
    "scaler = StandardScaler()\n",
    "X_train_scaled = scaler.fit_transform(X_train_smote)\n",
    "X_test_scaled = scaler.transform(X_test)\n",
    "\n",
    "# Hyperparameter Tuning\n",
    "model = RandomForestClassifier(random_state=42)\n",
    "param_grid = {\n",
    "    'n_estimators': [100, 200, 300],\n",
    "    'max_depth': [None, 10, 20, 30],\n",
    "    'min_samples_split': [2, 5, 10],\n",
    "    'min_samples_leaf': [1, 2, 4]\n",
    "    \n",
    "}\n",
    "grid_search = GridSearchCV(model, param_grid, cv=3, scoring='f1_macro')\n",
    "grid_search.fit(X_train_scaled, y_train_smote)\n",
    "\n",
    "# Best Model Evaluation\n",
    "best_model = grid_search.best_estimator_\n",
    "y_pred = best_model.predict(X_test_scaled)\n",
    "print(classification_report(y_test, y_pred))\n"
   ],
   "metadata": {
    "collapsed": false,
    "ExecuteTime": {
     "end_time": "2023-12-19T17:50:57.083084400Z",
     "start_time": "2023-12-19T17:49:43.268894200Z"
    }
   },
   "id": "67b825783be054c3"
  },
  {
   "cell_type": "code",
   "execution_count": null,
   "outputs": [],
   "source": [
    "from sklearn.linear_model import LogisticRegression\n",
    "from sklearn.tree import DecisionTreeClassifier\n",
    "from sklearn.svm import SVC\n",
    "from sklearn.neighbors import KNeighborsClassifier\n",
    "from sklearn.ensemble import GradientBoostingClassifier\n",
    "\n",
    "# Define a list with models to evaluate\n",
    "models = [\n",
    "    ('Logistic Regression', LogisticRegression(random_state=42)),\n",
    "    ('Decision Tree', DecisionTreeClassifier(random_state=42)),\n",
    "    ('Support Vector Machine', SVC(random_state=42)),\n",
    "    ('K-Nearest Neighbors', KNeighborsClassifier()),\n",
    "    ('Random Forest', RandomForestClassifier(random_state=42)),\n",
    "    ('Gradient Boosting', GradientBoostingClassifier(random_state=42))\n",
    "]\n",
    "\n",
    "# Record model performance\n",
    "model_performance = {}\n",
    "\n",
    "# Loop through models\n",
    "for name, model in models:\n",
    "    # Train the model\n",
    "    model.fit(X_train_scaled, y_train_smote)\n",
    "    \n",
    "    # Make predictions\n",
    "    y_pred = model.predict(X_test_scaled)\n",
    "    \n",
    "    # Record performance\n",
    "    model_performance[name] = classification_report(y_test, y_pred, output_dict=True)\n",
    "\n",
    "# Print the performance for each model\n",
    "for name, performance in model_performance.items():\n",
    "    print(f\"Model: {name}\")\n",
    "    print(pd.DataFrame(performance).transpose())\n"
   ],
   "metadata": {
    "collapsed": false
   },
   "id": "b4131bd69bc7612"
  },
  {
   "cell_type": "code",
   "execution_count": null,
   "outputs": [],
   "source": [
    "import pandas as pd\n",
    "from sklearn.ensemble import RandomForestClassifier\n",
    "from sklearn.model_selection import train_test_split\n",
    "from sklearn.feature_selection import SelectFromModel\n",
    "\n",
    "\n",
    "\n",
    "# Assuming that the necessary preprocessing steps have been done and\n",
    "# 'HomeTeamEncoded', 'AwayTeamEncoded', 'HomeTeamAvgGoals', 'AwayTeamAvgGoals' are the engineered features\n",
    "X = df_new[['HomeTeamEncoded', 'AwayTeamEncoded', 'HomeTeamAvgGoals', 'AwayTeamAvgGoals']]\n",
    "y = df_new['FTR']  # Target variable\n",
    "\n",
    "# Split the dataset\n",
    "X_train, X_test, y_train, y_test = train_test_split(X, y, test_size=0.3, random_state=42)\n",
    "\n",
    "# Feature selection using RandomForestClassifier\n",
    "sel = SelectFromModel(RandomForestClassifier(n_estimators=100, random_state=42))\n",
    "sel.fit(X_train, y_train)\n",
    "\n",
    "# Get the features considered important by the model\n",
    "selected_feat = X_train.columns[(sel.get_support())]\n",
    "print('Selected features:', selected_feat)\n",
    "\n",
    "# Now let's train a model using only the selected features\n",
    "X_train_selected = sel.transform(X_train)\n",
    "X_test_selected = sel.transform(X_test)\n",
    "\n",
    "# Train the model\n",
    "model = RandomForestClassifier(n_estimators=100, random_state=42)\n",
    "model.fit(X_train_selected, y_train)\n",
    "\n",
    "# Evaluate the model (using the selected features)\n",
    "y_pred = model.predict(X_test_selected)\n",
    "print(classification_report(y_test, y_pred))\n",
    "\n"
   ],
   "metadata": {
    "collapsed": false
   },
   "id": "4ebaeaa0fb5a8b1d"
  },
  {
   "cell_type": "code",
   "execution_count": null,
   "outputs": [],
   "source": [],
   "metadata": {
    "collapsed": false
   },
   "id": "7c20a7013ef98159"
  }
 ],
 "metadata": {
  "kernelspec": {
   "display_name": "Python 3",
   "language": "python",
   "name": "python3"
  },
  "language_info": {
   "codemirror_mode": {
    "name": "ipython",
    "version": 2
   },
   "file_extension": ".py",
   "mimetype": "text/x-python",
   "name": "python",
   "nbconvert_exporter": "python",
   "pygments_lexer": "ipython2",
   "version": "2.7.6"
  }
 },
 "nbformat": 4,
 "nbformat_minor": 5
}
