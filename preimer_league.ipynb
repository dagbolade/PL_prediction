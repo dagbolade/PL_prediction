{
 "cells": [
  {
   "cell_type": "markdown",
   "source": [
    "# Premier League 2023-2024 prediction"
   ],
   "metadata": {
    "collapsed": false
   },
   "id": "69178bb516e1d6d3"
  },
  {
   "cell_type": "markdown",
   "source": [
    "## Importing libraries"
   ],
   "metadata": {
    "collapsed": false
   },
   "id": "93e4c314e429ce32"
  },
  {
   "cell_type": "code",
   "execution_count": 1,
   "id": "initial_id",
   "metadata": {
    "collapsed": true,
    "ExecuteTime": {
     "end_time": "2023-12-19T12:52:14.255117400Z",
     "start_time": "2023-12-19T12:52:03.112625500Z"
    }
   },
   "outputs": [],
   "source": [
    "import pandas as pd"
   ]
  },
  {
   "cell_type": "code",
   "execution_count": null,
   "outputs": [],
   "source": [
    "# Importing the dataset and creating a dataframe\n",
    "df =  pd.read_excel('')"
   ],
   "metadata": {
    "collapsed": false
   },
   "id": "3645d634c5813470"
  }
 ],
 "metadata": {
  "kernelspec": {
   "display_name": "Python 3",
   "language": "python",
   "name": "python3"
  },
  "language_info": {
   "codemirror_mode": {
    "name": "ipython",
    "version": 2
   },
   "file_extension": ".py",
   "mimetype": "text/x-python",
   "name": "python",
   "nbconvert_exporter": "python",
   "pygments_lexer": "ipython2",
   "version": "2.7.6"
  }
 },
 "nbformat": 4,
 "nbformat_minor": 5
}
