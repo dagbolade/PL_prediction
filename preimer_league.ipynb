{
 "cells": [
  {
   "cell_type": "markdown",
   "source": [
    "# Premier League 2023-2024 prediction"
   ],
   "metadata": {
    "collapsed": false
   },
   "id": "69178bb516e1d6d3"
  },
  {
   "cell_type": "markdown",
   "source": [
    "## Importing libraries"
   ],
   "metadata": {
    "collapsed": false
   },
   "id": "93e4c314e429ce32"
  },
  {
   "cell_type": "code",
   "execution_count": 130,
   "id": "initial_id",
   "metadata": {
    "collapsed": true,
    "ExecuteTime": {
     "end_time": "2023-12-21T15:02:02.167881600Z",
     "start_time": "2023-12-21T15:02:02.040567Z"
    }
   },
   "outputs": [],
   "source": [
    "import pandas as pd\n",
    "import openpyxl"
   ]
  },
  {
   "cell_type": "code",
   "execution_count": 131,
   "outputs": [
    {
     "data": {
      "text/plain": "  Div       Date      Time     HomeTeam       AwayTeam  FTHG  FTAG FTR  HTHG  \\\n0  E0 2023-08-11  20:00:00      Burnley       Man City     0     3   A     0   \n1  E0 2023-08-12  12:30:00      Arsenal  Nott'm Forest     2     1   H     2   \n2  E0 2023-08-12  15:00:00  Bournemouth       West Ham     1     1   D     0   \n3  E0 2023-08-12  15:00:00     Brighton          Luton     4     1   H     1   \n4  E0 2023-08-12  15:00:00      Everton         Fulham     0     1   A     0   \n\n   HTAG  ... AvgC<2.5  AHCh  B365CAHH  B365CAHA  PCAHH  PCAHA  MaxCAHH  \\\n0     2  ...     2.28  1.50      1.95      1.98   1.95   1.97      NaN   \n1     0  ...     2.63 -2.00      1.95      1.98   1.93   1.97     2.01   \n2     0  ...     2.12  0.00      2.02      1.91   2.01   1.92     2.06   \n3     0  ...     2.48 -1.75      2.01      1.92   2.00   1.91     2.14   \n4     0  ...     1.71 -0.25      2.06      1.87   2.04   1.88     2.08   \n\n   MaxCAHA  AvgCAHH  AvgCAHA  \n0      NaN     1.92     1.95  \n1     2.09     1.95     1.92  \n2     1.96     1.96     1.91  \n3     1.93     2.00     1.86  \n4     1.99     1.98     1.88  \n\n[5 rows x 106 columns]",
      "text/html": "<div>\n<style scoped>\n    .dataframe tbody tr th:only-of-type {\n        vertical-align: middle;\n    }\n\n    .dataframe tbody tr th {\n        vertical-align: top;\n    }\n\n    .dataframe thead th {\n        text-align: right;\n    }\n</style>\n<table border=\"1\" class=\"dataframe\">\n  <thead>\n    <tr style=\"text-align: right;\">\n      <th></th>\n      <th>Div</th>\n      <th>Date</th>\n      <th>Time</th>\n      <th>HomeTeam</th>\n      <th>AwayTeam</th>\n      <th>FTHG</th>\n      <th>FTAG</th>\n      <th>FTR</th>\n      <th>HTHG</th>\n      <th>HTAG</th>\n      <th>...</th>\n      <th>AvgC&lt;2.5</th>\n      <th>AHCh</th>\n      <th>B365CAHH</th>\n      <th>B365CAHA</th>\n      <th>PCAHH</th>\n      <th>PCAHA</th>\n      <th>MaxCAHH</th>\n      <th>MaxCAHA</th>\n      <th>AvgCAHH</th>\n      <th>AvgCAHA</th>\n    </tr>\n  </thead>\n  <tbody>\n    <tr>\n      <th>0</th>\n      <td>E0</td>\n      <td>2023-08-11</td>\n      <td>20:00:00</td>\n      <td>Burnley</td>\n      <td>Man City</td>\n      <td>0</td>\n      <td>3</td>\n      <td>A</td>\n      <td>0</td>\n      <td>2</td>\n      <td>...</td>\n      <td>2.28</td>\n      <td>1.50</td>\n      <td>1.95</td>\n      <td>1.98</td>\n      <td>1.95</td>\n      <td>1.97</td>\n      <td>NaN</td>\n      <td>NaN</td>\n      <td>1.92</td>\n      <td>1.95</td>\n    </tr>\n    <tr>\n      <th>1</th>\n      <td>E0</td>\n      <td>2023-08-12</td>\n      <td>12:30:00</td>\n      <td>Arsenal</td>\n      <td>Nott'm Forest</td>\n      <td>2</td>\n      <td>1</td>\n      <td>H</td>\n      <td>2</td>\n      <td>0</td>\n      <td>...</td>\n      <td>2.63</td>\n      <td>-2.00</td>\n      <td>1.95</td>\n      <td>1.98</td>\n      <td>1.93</td>\n      <td>1.97</td>\n      <td>2.01</td>\n      <td>2.09</td>\n      <td>1.95</td>\n      <td>1.92</td>\n    </tr>\n    <tr>\n      <th>2</th>\n      <td>E0</td>\n      <td>2023-08-12</td>\n      <td>15:00:00</td>\n      <td>Bournemouth</td>\n      <td>West Ham</td>\n      <td>1</td>\n      <td>1</td>\n      <td>D</td>\n      <td>0</td>\n      <td>0</td>\n      <td>...</td>\n      <td>2.12</td>\n      <td>0.00</td>\n      <td>2.02</td>\n      <td>1.91</td>\n      <td>2.01</td>\n      <td>1.92</td>\n      <td>2.06</td>\n      <td>1.96</td>\n      <td>1.96</td>\n      <td>1.91</td>\n    </tr>\n    <tr>\n      <th>3</th>\n      <td>E0</td>\n      <td>2023-08-12</td>\n      <td>15:00:00</td>\n      <td>Brighton</td>\n      <td>Luton</td>\n      <td>4</td>\n      <td>1</td>\n      <td>H</td>\n      <td>1</td>\n      <td>0</td>\n      <td>...</td>\n      <td>2.48</td>\n      <td>-1.75</td>\n      <td>2.01</td>\n      <td>1.92</td>\n      <td>2.00</td>\n      <td>1.91</td>\n      <td>2.14</td>\n      <td>1.93</td>\n      <td>2.00</td>\n      <td>1.86</td>\n    </tr>\n    <tr>\n      <th>4</th>\n      <td>E0</td>\n      <td>2023-08-12</td>\n      <td>15:00:00</td>\n      <td>Everton</td>\n      <td>Fulham</td>\n      <td>0</td>\n      <td>1</td>\n      <td>A</td>\n      <td>0</td>\n      <td>0</td>\n      <td>...</td>\n      <td>1.71</td>\n      <td>-0.25</td>\n      <td>2.06</td>\n      <td>1.87</td>\n      <td>2.04</td>\n      <td>1.88</td>\n      <td>2.08</td>\n      <td>1.99</td>\n      <td>1.98</td>\n      <td>1.88</td>\n    </tr>\n  </tbody>\n</table>\n<p>5 rows × 106 columns</p>\n</div>"
     },
     "execution_count": 131,
     "metadata": {},
     "output_type": "execute_result"
    }
   ],
   "source": [
    "# Importing the dataset and creating a dataframe\n",
    "df =  pd.read_excel('all-euro-data-2023-2024.xlsx', sheet_name='E0' )\n",
    "df.head()"
   ],
   "metadata": {
    "collapsed": false,
    "ExecuteTime": {
     "end_time": "2023-12-21T15:02:02.428899400Z",
     "start_time": "2023-12-21T15:02:02.172577700Z"
    }
   },
   "id": "3645d634c5813470"
  },
  {
   "cell_type": "code",
   "execution_count": 132,
   "outputs": [
    {
     "data": {
      "text/plain": "   Unnamed: 0 Div        Date      Time     HomeTeam       AwayTeam  FTHG  \\\n0           0  E0  2023-08-11  20:00:00      Burnley       Man City     0   \n1           1  E0  2023-08-12  12:30:00      Arsenal  Nott'm Forest     2   \n2           2  E0  2023-08-12  15:00:00  Bournemouth       West Ham     1   \n3           3  E0  2023-08-12  15:00:00     Brighton          Luton     4   \n4           4  E0  2023-08-12  15:00:00      Everton         Fulham     0   \n\n   FTAG FTR  HTHG  ...  AvgC<2.5  AHCh B365CAHH  B365CAHA  PCAHH  PCAHA  \\\n0     3   A     0  ...      2.28  1.50     1.95      1.98   1.95   1.97   \n1     1   H     2  ...      2.63 -2.00     1.95      1.98   1.93   1.97   \n2     1   D     0  ...      2.12  0.00     2.02      1.91   2.01   1.92   \n3     1   H     1  ...      2.48 -1.75     2.01      1.92   2.00   1.91   \n4     1   A     0  ...      1.71 -0.25     2.06      1.87   2.04   1.88   \n\n   MaxCAHH  MaxCAHA  AvgCAHH  AvgCAHA  \n0      NaN      NaN     1.92     1.95  \n1     2.01     2.09     1.95     1.92  \n2     2.06     1.96     1.96     1.91  \n3     2.14     1.93     2.00     1.86  \n4     2.08     1.99     1.98     1.88  \n\n[5 rows x 107 columns]",
      "text/html": "<div>\n<style scoped>\n    .dataframe tbody tr th:only-of-type {\n        vertical-align: middle;\n    }\n\n    .dataframe tbody tr th {\n        vertical-align: top;\n    }\n\n    .dataframe thead th {\n        text-align: right;\n    }\n</style>\n<table border=\"1\" class=\"dataframe\">\n  <thead>\n    <tr style=\"text-align: right;\">\n      <th></th>\n      <th>Unnamed: 0</th>\n      <th>Div</th>\n      <th>Date</th>\n      <th>Time</th>\n      <th>HomeTeam</th>\n      <th>AwayTeam</th>\n      <th>FTHG</th>\n      <th>FTAG</th>\n      <th>FTR</th>\n      <th>HTHG</th>\n      <th>...</th>\n      <th>AvgC&lt;2.5</th>\n      <th>AHCh</th>\n      <th>B365CAHH</th>\n      <th>B365CAHA</th>\n      <th>PCAHH</th>\n      <th>PCAHA</th>\n      <th>MaxCAHH</th>\n      <th>MaxCAHA</th>\n      <th>AvgCAHH</th>\n      <th>AvgCAHA</th>\n    </tr>\n  </thead>\n  <tbody>\n    <tr>\n      <th>0</th>\n      <td>0</td>\n      <td>E0</td>\n      <td>2023-08-11</td>\n      <td>20:00:00</td>\n      <td>Burnley</td>\n      <td>Man City</td>\n      <td>0</td>\n      <td>3</td>\n      <td>A</td>\n      <td>0</td>\n      <td>...</td>\n      <td>2.28</td>\n      <td>1.50</td>\n      <td>1.95</td>\n      <td>1.98</td>\n      <td>1.95</td>\n      <td>1.97</td>\n      <td>NaN</td>\n      <td>NaN</td>\n      <td>1.92</td>\n      <td>1.95</td>\n    </tr>\n    <tr>\n      <th>1</th>\n      <td>1</td>\n      <td>E0</td>\n      <td>2023-08-12</td>\n      <td>12:30:00</td>\n      <td>Arsenal</td>\n      <td>Nott'm Forest</td>\n      <td>2</td>\n      <td>1</td>\n      <td>H</td>\n      <td>2</td>\n      <td>...</td>\n      <td>2.63</td>\n      <td>-2.00</td>\n      <td>1.95</td>\n      <td>1.98</td>\n      <td>1.93</td>\n      <td>1.97</td>\n      <td>2.01</td>\n      <td>2.09</td>\n      <td>1.95</td>\n      <td>1.92</td>\n    </tr>\n    <tr>\n      <th>2</th>\n      <td>2</td>\n      <td>E0</td>\n      <td>2023-08-12</td>\n      <td>15:00:00</td>\n      <td>Bournemouth</td>\n      <td>West Ham</td>\n      <td>1</td>\n      <td>1</td>\n      <td>D</td>\n      <td>0</td>\n      <td>...</td>\n      <td>2.12</td>\n      <td>0.00</td>\n      <td>2.02</td>\n      <td>1.91</td>\n      <td>2.01</td>\n      <td>1.92</td>\n      <td>2.06</td>\n      <td>1.96</td>\n      <td>1.96</td>\n      <td>1.91</td>\n    </tr>\n    <tr>\n      <th>3</th>\n      <td>3</td>\n      <td>E0</td>\n      <td>2023-08-12</td>\n      <td>15:00:00</td>\n      <td>Brighton</td>\n      <td>Luton</td>\n      <td>4</td>\n      <td>1</td>\n      <td>H</td>\n      <td>1</td>\n      <td>...</td>\n      <td>2.48</td>\n      <td>-1.75</td>\n      <td>2.01</td>\n      <td>1.92</td>\n      <td>2.00</td>\n      <td>1.91</td>\n      <td>2.14</td>\n      <td>1.93</td>\n      <td>2.00</td>\n      <td>1.86</td>\n    </tr>\n    <tr>\n      <th>4</th>\n      <td>4</td>\n      <td>E0</td>\n      <td>2023-08-12</td>\n      <td>15:00:00</td>\n      <td>Everton</td>\n      <td>Fulham</td>\n      <td>0</td>\n      <td>1</td>\n      <td>A</td>\n      <td>0</td>\n      <td>...</td>\n      <td>1.71</td>\n      <td>-0.25</td>\n      <td>2.06</td>\n      <td>1.87</td>\n      <td>2.04</td>\n      <td>1.88</td>\n      <td>2.08</td>\n      <td>1.99</td>\n      <td>1.98</td>\n      <td>1.88</td>\n    </tr>\n  </tbody>\n</table>\n<p>5 rows × 107 columns</p>\n</div>"
     },
     "execution_count": 132,
     "metadata": {},
     "output_type": "execute_result"
    }
   ],
   "source": [
    "# convert the dataframe to csv file\n",
    "df.to_csv('premier_league.csv')\n",
    "df_new = pd.read_csv('premier_league.csv')\n",
    "df_new.head()"
   ],
   "metadata": {
    "collapsed": false,
    "ExecuteTime": {
     "end_time": "2023-12-21T15:02:02.506063300Z",
     "start_time": "2023-12-21T15:02:02.423507700Z"
    }
   },
   "id": "b9720e92d7afb151"
  },
  {
   "cell_type": "code",
   "execution_count": 133,
   "outputs": [
    {
     "data": {
      "text/plain": "  Div        Date      Time     HomeTeam       AwayTeam  FTHG  FTAG FTR  HTHG  \\\n0  E0  2023-08-11  20:00:00      Burnley       Man City     0     3   A     0   \n1  E0  2023-08-12  12:30:00      Arsenal  Nott'm Forest     2     1   H     2   \n2  E0  2023-08-12  15:00:00  Bournemouth       West Ham     1     1   D     0   \n3  E0  2023-08-12  15:00:00     Brighton          Luton     4     1   H     1   \n4  E0  2023-08-12  15:00:00      Everton         Fulham     0     1   A     0   \n\n   HTAG  ... AvgC<2.5  AHCh  B365CAHH  B365CAHA  PCAHH  PCAHA  MaxCAHH  \\\n0     2  ...     2.28  1.50      1.95      1.98   1.95   1.97      NaN   \n1     0  ...     2.63 -2.00      1.95      1.98   1.93   1.97     2.01   \n2     0  ...     2.12  0.00      2.02      1.91   2.01   1.92     2.06   \n3     0  ...     2.48 -1.75      2.01      1.92   2.00   1.91     2.14   \n4     0  ...     1.71 -0.25      2.06      1.87   2.04   1.88     2.08   \n\n   MaxCAHA  AvgCAHH  AvgCAHA  \n0      NaN     1.92     1.95  \n1     2.09     1.95     1.92  \n2     1.96     1.96     1.91  \n3     1.93     2.00     1.86  \n4     1.99     1.98     1.88  \n\n[5 rows x 106 columns]",
      "text/html": "<div>\n<style scoped>\n    .dataframe tbody tr th:only-of-type {\n        vertical-align: middle;\n    }\n\n    .dataframe tbody tr th {\n        vertical-align: top;\n    }\n\n    .dataframe thead th {\n        text-align: right;\n    }\n</style>\n<table border=\"1\" class=\"dataframe\">\n  <thead>\n    <tr style=\"text-align: right;\">\n      <th></th>\n      <th>Div</th>\n      <th>Date</th>\n      <th>Time</th>\n      <th>HomeTeam</th>\n      <th>AwayTeam</th>\n      <th>FTHG</th>\n      <th>FTAG</th>\n      <th>FTR</th>\n      <th>HTHG</th>\n      <th>HTAG</th>\n      <th>...</th>\n      <th>AvgC&lt;2.5</th>\n      <th>AHCh</th>\n      <th>B365CAHH</th>\n      <th>B365CAHA</th>\n      <th>PCAHH</th>\n      <th>PCAHA</th>\n      <th>MaxCAHH</th>\n      <th>MaxCAHA</th>\n      <th>AvgCAHH</th>\n      <th>AvgCAHA</th>\n    </tr>\n  </thead>\n  <tbody>\n    <tr>\n      <th>0</th>\n      <td>E0</td>\n      <td>2023-08-11</td>\n      <td>20:00:00</td>\n      <td>Burnley</td>\n      <td>Man City</td>\n      <td>0</td>\n      <td>3</td>\n      <td>A</td>\n      <td>0</td>\n      <td>2</td>\n      <td>...</td>\n      <td>2.28</td>\n      <td>1.50</td>\n      <td>1.95</td>\n      <td>1.98</td>\n      <td>1.95</td>\n      <td>1.97</td>\n      <td>NaN</td>\n      <td>NaN</td>\n      <td>1.92</td>\n      <td>1.95</td>\n    </tr>\n    <tr>\n      <th>1</th>\n      <td>E0</td>\n      <td>2023-08-12</td>\n      <td>12:30:00</td>\n      <td>Arsenal</td>\n      <td>Nott'm Forest</td>\n      <td>2</td>\n      <td>1</td>\n      <td>H</td>\n      <td>2</td>\n      <td>0</td>\n      <td>...</td>\n      <td>2.63</td>\n      <td>-2.00</td>\n      <td>1.95</td>\n      <td>1.98</td>\n      <td>1.93</td>\n      <td>1.97</td>\n      <td>2.01</td>\n      <td>2.09</td>\n      <td>1.95</td>\n      <td>1.92</td>\n    </tr>\n    <tr>\n      <th>2</th>\n      <td>E0</td>\n      <td>2023-08-12</td>\n      <td>15:00:00</td>\n      <td>Bournemouth</td>\n      <td>West Ham</td>\n      <td>1</td>\n      <td>1</td>\n      <td>D</td>\n      <td>0</td>\n      <td>0</td>\n      <td>...</td>\n      <td>2.12</td>\n      <td>0.00</td>\n      <td>2.02</td>\n      <td>1.91</td>\n      <td>2.01</td>\n      <td>1.92</td>\n      <td>2.06</td>\n      <td>1.96</td>\n      <td>1.96</td>\n      <td>1.91</td>\n    </tr>\n    <tr>\n      <th>3</th>\n      <td>E0</td>\n      <td>2023-08-12</td>\n      <td>15:00:00</td>\n      <td>Brighton</td>\n      <td>Luton</td>\n      <td>4</td>\n      <td>1</td>\n      <td>H</td>\n      <td>1</td>\n      <td>0</td>\n      <td>...</td>\n      <td>2.48</td>\n      <td>-1.75</td>\n      <td>2.01</td>\n      <td>1.92</td>\n      <td>2.00</td>\n      <td>1.91</td>\n      <td>2.14</td>\n      <td>1.93</td>\n      <td>2.00</td>\n      <td>1.86</td>\n    </tr>\n    <tr>\n      <th>4</th>\n      <td>E0</td>\n      <td>2023-08-12</td>\n      <td>15:00:00</td>\n      <td>Everton</td>\n      <td>Fulham</td>\n      <td>0</td>\n      <td>1</td>\n      <td>A</td>\n      <td>0</td>\n      <td>0</td>\n      <td>...</td>\n      <td>1.71</td>\n      <td>-0.25</td>\n      <td>2.06</td>\n      <td>1.87</td>\n      <td>2.04</td>\n      <td>1.88</td>\n      <td>2.08</td>\n      <td>1.99</td>\n      <td>1.98</td>\n      <td>1.88</td>\n    </tr>\n  </tbody>\n</table>\n<p>5 rows × 106 columns</p>\n</div>"
     },
     "execution_count": 133,
     "metadata": {},
     "output_type": "execute_result"
    }
   ],
   "source": [
    "# removing the first column\n",
    "df_new.drop(df_new.columns[0], axis=1, inplace=True)\n",
    "df_new.head()"
   ],
   "metadata": {
    "collapsed": false,
    "ExecuteTime": {
     "end_time": "2023-12-21T15:02:02.508132Z",
     "start_time": "2023-12-21T15:02:02.464155700Z"
    }
   },
   "id": "e12588df19ee2296"
  },
  {
   "cell_type": "code",
   "execution_count": 134,
   "outputs": [
    {
     "data": {
      "text/plain": "    Div        Date      Time     HomeTeam       AwayTeam  FTHG  FTAG FTR  \\\n0    E0  2023-08-11  20:00:00      Burnley       Man City     0     3   A   \n1    E0  2023-08-12  12:30:00      Arsenal  Nott'm Forest     2     1   H   \n2    E0  2023-08-12  15:00:00  Bournemouth       West Ham     1     1   D   \n3    E0  2023-08-12  15:00:00     Brighton          Luton     4     1   H   \n4    E0  2023-08-12  15:00:00      Everton         Fulham     0     1   A   \n..   ..         ...       ...          ...            ...   ...   ...  ..   \n164  E0  2023-12-16  17:30:00      Burnley        Everton     0     2   A   \n165  E0  2023-12-17  14:00:00      Arsenal       Brighton     2     0   H   \n166  E0  2023-12-17  14:00:00    Brentford    Aston Villa     1     2   A   \n167  E0  2023-12-17  14:00:00     West Ham         Wolves     3     0   H   \n168  E0  2023-12-17  16:30:00    Liverpool     Man United     0     0   D   \n\n     HTHG  HTAG  ... AvgC<2.5  AHCh  B365CAHH  B365CAHA  PCAHH  PCAHA  \\\n0       0     2  ...     2.28  1.50      1.95      1.98   1.95   1.97   \n1       2     0  ...     2.63 -2.00      1.95      1.98   1.93   1.97   \n2       0     0  ...     2.12  0.00      2.02      1.91   2.01   1.92   \n3       1     0  ...     2.48 -1.75      2.01      1.92   2.00   1.91   \n4       0     0  ...     1.71 -0.25      2.06      1.87   2.04   1.88   \n..    ...   ...  ...      ...   ...       ...       ...    ...    ...   \n164     0     2  ...     1.89  0.25      1.95      1.98   1.96   1.96   \n165     0     0  ...     2.30 -1.25      2.06      1.87   2.04   1.88   \n166     1     0  ...     1.92  0.25      1.88      2.05   1.89   2.04   \n167     2     0  ...     1.87 -0.50      1.93      2.00   1.91   2.01   \n168     0     0  ...     3.02 -1.50      1.90      2.03   1.88   2.04   \n\n     MaxCAHH  MaxCAHA  AvgCAHH  AvgCAHA  \n0        NaN      NaN     1.92     1.95  \n1       2.01     2.09     1.95     1.92  \n2       2.06     1.96     1.96     1.91  \n3       2.14     1.93     2.00     1.86  \n4       2.08     1.99     1.98     1.88  \n..       ...      ...      ...      ...  \n164     2.03     1.98     1.94     1.90  \n165     2.13     1.94     2.03     1.85  \n166     1.98     2.05     1.89     1.97  \n167     1.99     2.01     1.94     1.94  \n168     2.00     2.07     1.91     1.97  \n\n[169 rows x 106 columns]",
      "text/html": "<div>\n<style scoped>\n    .dataframe tbody tr th:only-of-type {\n        vertical-align: middle;\n    }\n\n    .dataframe tbody tr th {\n        vertical-align: top;\n    }\n\n    .dataframe thead th {\n        text-align: right;\n    }\n</style>\n<table border=\"1\" class=\"dataframe\">\n  <thead>\n    <tr style=\"text-align: right;\">\n      <th></th>\n      <th>Div</th>\n      <th>Date</th>\n      <th>Time</th>\n      <th>HomeTeam</th>\n      <th>AwayTeam</th>\n      <th>FTHG</th>\n      <th>FTAG</th>\n      <th>FTR</th>\n      <th>HTHG</th>\n      <th>HTAG</th>\n      <th>...</th>\n      <th>AvgC&lt;2.5</th>\n      <th>AHCh</th>\n      <th>B365CAHH</th>\n      <th>B365CAHA</th>\n      <th>PCAHH</th>\n      <th>PCAHA</th>\n      <th>MaxCAHH</th>\n      <th>MaxCAHA</th>\n      <th>AvgCAHH</th>\n      <th>AvgCAHA</th>\n    </tr>\n  </thead>\n  <tbody>\n    <tr>\n      <th>0</th>\n      <td>E0</td>\n      <td>2023-08-11</td>\n      <td>20:00:00</td>\n      <td>Burnley</td>\n      <td>Man City</td>\n      <td>0</td>\n      <td>3</td>\n      <td>A</td>\n      <td>0</td>\n      <td>2</td>\n      <td>...</td>\n      <td>2.28</td>\n      <td>1.50</td>\n      <td>1.95</td>\n      <td>1.98</td>\n      <td>1.95</td>\n      <td>1.97</td>\n      <td>NaN</td>\n      <td>NaN</td>\n      <td>1.92</td>\n      <td>1.95</td>\n    </tr>\n    <tr>\n      <th>1</th>\n      <td>E0</td>\n      <td>2023-08-12</td>\n      <td>12:30:00</td>\n      <td>Arsenal</td>\n      <td>Nott'm Forest</td>\n      <td>2</td>\n      <td>1</td>\n      <td>H</td>\n      <td>2</td>\n      <td>0</td>\n      <td>...</td>\n      <td>2.63</td>\n      <td>-2.00</td>\n      <td>1.95</td>\n      <td>1.98</td>\n      <td>1.93</td>\n      <td>1.97</td>\n      <td>2.01</td>\n      <td>2.09</td>\n      <td>1.95</td>\n      <td>1.92</td>\n    </tr>\n    <tr>\n      <th>2</th>\n      <td>E0</td>\n      <td>2023-08-12</td>\n      <td>15:00:00</td>\n      <td>Bournemouth</td>\n      <td>West Ham</td>\n      <td>1</td>\n      <td>1</td>\n      <td>D</td>\n      <td>0</td>\n      <td>0</td>\n      <td>...</td>\n      <td>2.12</td>\n      <td>0.00</td>\n      <td>2.02</td>\n      <td>1.91</td>\n      <td>2.01</td>\n      <td>1.92</td>\n      <td>2.06</td>\n      <td>1.96</td>\n      <td>1.96</td>\n      <td>1.91</td>\n    </tr>\n    <tr>\n      <th>3</th>\n      <td>E0</td>\n      <td>2023-08-12</td>\n      <td>15:00:00</td>\n      <td>Brighton</td>\n      <td>Luton</td>\n      <td>4</td>\n      <td>1</td>\n      <td>H</td>\n      <td>1</td>\n      <td>0</td>\n      <td>...</td>\n      <td>2.48</td>\n      <td>-1.75</td>\n      <td>2.01</td>\n      <td>1.92</td>\n      <td>2.00</td>\n      <td>1.91</td>\n      <td>2.14</td>\n      <td>1.93</td>\n      <td>2.00</td>\n      <td>1.86</td>\n    </tr>\n    <tr>\n      <th>4</th>\n      <td>E0</td>\n      <td>2023-08-12</td>\n      <td>15:00:00</td>\n      <td>Everton</td>\n      <td>Fulham</td>\n      <td>0</td>\n      <td>1</td>\n      <td>A</td>\n      <td>0</td>\n      <td>0</td>\n      <td>...</td>\n      <td>1.71</td>\n      <td>-0.25</td>\n      <td>2.06</td>\n      <td>1.87</td>\n      <td>2.04</td>\n      <td>1.88</td>\n      <td>2.08</td>\n      <td>1.99</td>\n      <td>1.98</td>\n      <td>1.88</td>\n    </tr>\n    <tr>\n      <th>...</th>\n      <td>...</td>\n      <td>...</td>\n      <td>...</td>\n      <td>...</td>\n      <td>...</td>\n      <td>...</td>\n      <td>...</td>\n      <td>...</td>\n      <td>...</td>\n      <td>...</td>\n      <td>...</td>\n      <td>...</td>\n      <td>...</td>\n      <td>...</td>\n      <td>...</td>\n      <td>...</td>\n      <td>...</td>\n      <td>...</td>\n      <td>...</td>\n      <td>...</td>\n      <td>...</td>\n    </tr>\n    <tr>\n      <th>164</th>\n      <td>E0</td>\n      <td>2023-12-16</td>\n      <td>17:30:00</td>\n      <td>Burnley</td>\n      <td>Everton</td>\n      <td>0</td>\n      <td>2</td>\n      <td>A</td>\n      <td>0</td>\n      <td>2</td>\n      <td>...</td>\n      <td>1.89</td>\n      <td>0.25</td>\n      <td>1.95</td>\n      <td>1.98</td>\n      <td>1.96</td>\n      <td>1.96</td>\n      <td>2.03</td>\n      <td>1.98</td>\n      <td>1.94</td>\n      <td>1.90</td>\n    </tr>\n    <tr>\n      <th>165</th>\n      <td>E0</td>\n      <td>2023-12-17</td>\n      <td>14:00:00</td>\n      <td>Arsenal</td>\n      <td>Brighton</td>\n      <td>2</td>\n      <td>0</td>\n      <td>H</td>\n      <td>0</td>\n      <td>0</td>\n      <td>...</td>\n      <td>2.30</td>\n      <td>-1.25</td>\n      <td>2.06</td>\n      <td>1.87</td>\n      <td>2.04</td>\n      <td>1.88</td>\n      <td>2.13</td>\n      <td>1.94</td>\n      <td>2.03</td>\n      <td>1.85</td>\n    </tr>\n    <tr>\n      <th>166</th>\n      <td>E0</td>\n      <td>2023-12-17</td>\n      <td>14:00:00</td>\n      <td>Brentford</td>\n      <td>Aston Villa</td>\n      <td>1</td>\n      <td>2</td>\n      <td>A</td>\n      <td>1</td>\n      <td>0</td>\n      <td>...</td>\n      <td>1.92</td>\n      <td>0.25</td>\n      <td>1.88</td>\n      <td>2.05</td>\n      <td>1.89</td>\n      <td>2.04</td>\n      <td>1.98</td>\n      <td>2.05</td>\n      <td>1.89</td>\n      <td>1.97</td>\n    </tr>\n    <tr>\n      <th>167</th>\n      <td>E0</td>\n      <td>2023-12-17</td>\n      <td>14:00:00</td>\n      <td>West Ham</td>\n      <td>Wolves</td>\n      <td>3</td>\n      <td>0</td>\n      <td>H</td>\n      <td>2</td>\n      <td>0</td>\n      <td>...</td>\n      <td>1.87</td>\n      <td>-0.50</td>\n      <td>1.93</td>\n      <td>2.00</td>\n      <td>1.91</td>\n      <td>2.01</td>\n      <td>1.99</td>\n      <td>2.01</td>\n      <td>1.94</td>\n      <td>1.94</td>\n    </tr>\n    <tr>\n      <th>168</th>\n      <td>E0</td>\n      <td>2023-12-17</td>\n      <td>16:30:00</td>\n      <td>Liverpool</td>\n      <td>Man United</td>\n      <td>0</td>\n      <td>0</td>\n      <td>D</td>\n      <td>0</td>\n      <td>0</td>\n      <td>...</td>\n      <td>3.02</td>\n      <td>-1.50</td>\n      <td>1.90</td>\n      <td>2.03</td>\n      <td>1.88</td>\n      <td>2.04</td>\n      <td>2.00</td>\n      <td>2.07</td>\n      <td>1.91</td>\n      <td>1.97</td>\n    </tr>\n  </tbody>\n</table>\n<p>169 rows × 106 columns</p>\n</div>"
     },
     "execution_count": 134,
     "metadata": {},
     "output_type": "execute_result"
    }
   ],
   "source": [
    "# save the new dataframe to csv file \n",
    "df_new.to_csv('premier_league.csv')\n",
    "df_new"
   ],
   "metadata": {
    "collapsed": false,
    "ExecuteTime": {
     "end_time": "2023-12-21T15:02:02.589862900Z",
     "start_time": "2023-12-21T15:02:02.481528100Z"
    }
   },
   "id": "d9cfa92b7850716a"
  },
  {
   "cell_type": "markdown",
   "source": [
    "## Data Preprocessing"
   ],
   "metadata": {
    "collapsed": false
   },
   "id": "db37ef466ab4489d"
  },
  {
   "cell_type": "code",
   "execution_count": 135,
   "outputs": [
    {
     "data": {
      "text/plain": "Div         0\nDate        0\nTime        0\nHomeTeam    0\nAwayTeam    0\n           ..\nPCAHA       0\nMaxCAHH     1\nMaxCAHA     1\nAvgCAHH     0\nAvgCAHA     0\nLength: 106, dtype: int64"
     },
     "execution_count": 135,
     "metadata": {},
     "output_type": "execute_result"
    }
   ],
   "source": [
    "# checking for missing values\n",
    "df_new.isnull().sum()\n"
   ],
   "metadata": {
    "collapsed": false,
    "ExecuteTime": {
     "end_time": "2023-12-21T15:02:02.629046600Z",
     "start_time": "2023-12-21T15:02:02.512076500Z"
    }
   },
   "id": "b00d6e40ebbadbd8"
  },
  {
   "cell_type": "code",
   "execution_count": 136,
   "outputs": [
    {
     "data": {
      "text/plain": "0"
     },
     "execution_count": 136,
     "metadata": {},
     "output_type": "execute_result"
    }
   ],
   "source": [
    "# checking for duplicates\n",
    "df_new.duplicated().sum()\n"
   ],
   "metadata": {
    "collapsed": false,
    "ExecuteTime": {
     "end_time": "2023-12-21T15:02:02.693115500Z",
     "start_time": "2023-12-21T15:02:02.522389Z"
    }
   },
   "id": "21ea8c731cb01e69"
  },
  {
   "cell_type": "code",
   "execution_count": 137,
   "outputs": [
    {
     "data": {
      "text/plain": "<Axes: >"
     },
     "execution_count": 137,
     "metadata": {},
     "output_type": "execute_result"
    }
   ],
   "source": [
    "# checking for outliers\n",
    "import matplotlib.pyplot as plt\n",
    "df_new.boxplot(figsize=(12,8))\n"
   ],
   "metadata": {
    "collapsed": false,
    "ExecuteTime": {
     "end_time": "2023-12-21T15:02:02.893438100Z",
     "start_time": "2023-12-21T15:02:02.538296Z"
    }
   },
   "id": "f41dbf77108e3cb5"
  },
  {
   "cell_type": "markdown",
   "source": [
    "## Performing Exploratory Data Analysis"
   ],
   "metadata": {
    "collapsed": false
   },
   "id": "da1a69d61131ea30"
  },
  {
   "cell_type": "code",
   "execution_count": 138,
   "outputs": [
    {
     "name": "stdout",
     "output_type": "stream",
     "text": [
      "Total matches played: 169\n",
      "Teams involved: ['Burnley' 'Arsenal' 'Bournemouth' 'Brighton' 'Everton' 'Sheffield United'\n",
      " 'Newcastle' 'Brentford' 'Chelsea' 'Man United' \"Nott'm Forest\" 'Fulham'\n",
      " 'Liverpool' 'Wolves' 'Tottenham' 'Man City' 'Aston Villa' 'West Ham'\n",
      " 'Crystal Palace' 'Luton']\n",
      "Total goals scored so far: 520\n",
      "Total number of home wins for Chelsea: 3\n",
      "Total number of home losses for this shitty man utd team is:  4\n"
     ]
    }
   ],
   "source": [
    "# checking the total matches played\n",
    "total_matches = df_new.shape[0]\n",
    "print('Total matches played:', total_matches)\n",
    "\n",
    "#checking the list of all teams involved\n",
    "teams = df_new['HomeTeam'].unique()\n",
    "print('Teams involved:', teams)\n",
    "\n",
    "# checking the total number of goals scored\n",
    "total_goals = df_new['FTHG'].sum() + df_new['FTAG'].sum()\n",
    "print('Total goals scored so far:', total_goals)\n",
    "\n",
    "# checking the total number of home wins for chelsea\n",
    "chelsea_home_wins = df_new[(df_new['HomeTeam'] == 'Chelsea') & (df_new['FTR'] == 'H')].shape[0]\n",
    "print('Total number of home wins for Chelsea:', chelsea_home_wins)\n",
    "\n",
    "# checking the total number of home losses for manchester united\n",
    "man_united_home_losses = df_new[(df_new['HomeTeam'] == 'Man United') & (df_new['FTR'] == 'A')].shape[0]\n",
    "print('Total number of home losses for this shitty man utd team is: ', man_united_home_losses)"
   ],
   "metadata": {
    "collapsed": false,
    "ExecuteTime": {
     "end_time": "2023-12-21T15:02:02.895556300Z",
     "start_time": "2023-12-21T15:02:02.864089300Z"
    }
   },
   "id": "8ddd3d84c9793c7"
  },
  {
   "cell_type": "code",
   "execution_count": 139,
   "outputs": [
    {
     "name": "stdout",
     "output_type": "stream",
     "text": [
      "Chelsea is currently in position: 11\n"
     ]
    },
    {
     "data": {
      "text/plain": "(             Points  GoalDiff  GoalsScored\n Arsenal          39        20           35\n Liverpool        38        21           36\n Aston Villa      38        16           37\n Man City         34        20           40\n Tottenham        33        12           35,\n 11)"
     },
     "execution_count": 139,
     "metadata": {},
     "output_type": "execute_result"
    }
   ],
   "source": [
    "# get the current position and calculate points for chelsea and the rest of the teams\n",
    "def calculate_points_goals(row):\n",
    "    home_points, away_points = 0, 0\n",
    "    home_goal_diff = row['FTHG'] - row['FTAG']\n",
    "    away_goal_diff = row['FTAG'] - row['FTHG']\n",
    "\n",
    "    if row['FTR'] == 'H':\n",
    "        home_points = 3\n",
    "    elif row['FTR'] == 'A':\n",
    "        away_points = 3\n",
    "    else:\n",
    "        home_points = away_points = 1\n",
    "\n",
    "    return pd.Series([home_points, away_points, home_goal_diff, away_goal_diff, row['FTHG'], row['FTAG']])\n",
    "\n",
    "# Applying the function to the dataset\n",
    "df_new[['HomePoints', 'AwayPoints', 'HomeGoalDiff', 'AwayGoalDiff', 'HomeGoals', 'AwayGoals']] = df_new.apply(calculate_points_goals, axis=1)\n",
    "\n",
    "# Summarizing the data for each team\n",
    "team_stats = pd.DataFrame(index=teams)\n",
    "\n",
    "# Calculating total points, goal difference, and goals scored for each team\n",
    "team_stats['Points'] = df_new.groupby('HomeTeam')['HomePoints'].sum() + df_new.groupby('AwayTeam')['AwayPoints'].sum()\n",
    "team_stats['GoalDiff'] = df_new.groupby('HomeTeam')['HomeGoalDiff'].sum() + df_new.groupby('AwayTeam')['AwayGoalDiff'].sum()\n",
    "team_stats['GoalsScored'] = df_new.groupby('HomeTeam')['HomeGoals'].sum() + df_new.groupby('AwayTeam')['AwayGoals'].sum()\n",
    "\n",
    "# Sorting the teams based on Points, Goal Difference, and Goals Scored\n",
    "sorted_teams = team_stats.sort_values(by=['Points', 'GoalDiff', 'GoalsScored'], ascending=[False, False, False])\n",
    "\n",
    "# Finding Chelsea's position\n",
    "chelsea_position_updated = sorted_teams.index.get_loc('Chelsea') + 1\n",
    "print('Chelsea is currently in position:', chelsea_position_updated)\n",
    "sorted_teams.head(), chelsea_position_updated\n",
    "\n",
    "\n",
    "   "
   ],
   "metadata": {
    "collapsed": false,
    "ExecuteTime": {
     "end_time": "2023-12-21T15:02:02.994646500Z",
     "start_time": "2023-12-21T15:02:02.872960700Z"
    }
   },
   "id": "435d3e8d6c882933"
  },
  {
   "cell_type": "markdown",
   "source": [
    "### Analysing Chelsea's performance"
   ],
   "metadata": {
    "collapsed": false
   },
   "id": "67d8b118fc7f9eb9"
  },
  {
   "cell_type": "code",
   "execution_count": 140,
   "outputs": [
    {
     "name": "stdout",
     "output_type": "stream",
     "text": [
      "Chelsea has played a total of 17 matches so far in the 2023-2024 season\n",
      "Chelsea has scored a total of 28 goals so far in the 2023-2024 season\n",
      "Chelsea has conceded a total of 26 goals so far in the 2023-2024 season\n",
      "Chelsea has won a total of 3 home matches so far in the 2023-2024 season\n",
      "Chelsea has lost a total of 3 home matches so far in the 2023-2024 season\n",
      "Chelsea has won a total of 3 away matches so far in the 2023-2024 season\n",
      "Chelsea has lost a total of 4 away matches so far in the 2023-2024 season\n",
      "Chelsea has drawn a total of 3 home matches so far in the 2023-2024 season\n",
      "Chelsea has drawn a total of 1 away matches so far in the 2023-2024 season\n"
     ]
    }
   ],
   "source": [
    "# team performance overview\n",
    "Total_matches = df_new[(df_new['HomeTeam'] == 'Chelsea') | (df_new['AwayTeam'] == 'Chelsea')].shape[0]\n",
    "Total_matches\n",
    "\n",
    "# total number of goals scored by chelsea\n",
    "Total_goals_scored = df_new[(df_new['HomeTeam']== 'Chelsea')]['FTHG'].sum() + df_new[(df_new['HomeTeam'] == 'Chelsea')]['FTAG'].sum()\n",
    "Total_goals_scored\n",
    "\n",
    "# total number of goals conceded by chelsea\n",
    "Total_goals_conceded = df_new[(df_new['HomeTeam'] == 'Chelsea')]['FTAG'].sum() + df_new[(df_new['AwayTeam'] == 'Chelsea')]['FTHG'].sum()\n",
    "Total_goals_conceded\n",
    "\n",
    "# total number of home wins for chelsea\n",
    "Total_home_wins = df_new[(df_new['HomeTeam'] == 'Chelsea') & (df_new['FTR'] == 'H')].shape[0]\n",
    "\n",
    "# total number of home losses for chelsea\n",
    "Total_home_losses = df_new[(df_new['HomeTeam'] == 'Chelsea') & (df_new['FTR'] == 'A')].shape[0]\n",
    "\n",
    "# total number of away wins for chelsea\n",
    "Total_away_wins = df_new[(df_new['AwayTeam'] == 'Chelsea') & (df_new['FTR'] == 'A')].shape[0]\n",
    "\n",
    "# total number of away losses for chelsea\n",
    "Total_away_losses = df_new[(df_new['AwayTeam'] == 'Chelsea') & (df_new['FTR'] == 'H')].shape[0]\n",
    "\n",
    "# total number of home draws for chelsea\n",
    "Total_home_draws = df_new[(df_new['HomeTeam'] == 'Chelsea') & (df_new['FTR'] == 'D')].shape[0]\n",
    "\n",
    "# total number of away draws for chelsea\n",
    "Total_away_draws = df_new[(df_new['AwayTeam'] == 'Chelsea') & (df_new['FTR'] == 'D')].shape[0]\n",
    "\n",
    "print(f'Chelsea has played a total of {Total_matches} matches so far in the 2023-2024 season')\n",
    "print(f'Chelsea has scored a total of {Total_goals_scored} goals so far in the 2023-2024 season')\n",
    "print(f'Chelsea has conceded a total of {Total_goals_conceded} goals so far in the 2023-2024 season')\n",
    "print(f'Chelsea has won a total of {Total_home_wins} home matches so far in the 2023-2024 season')\n",
    "print(f'Chelsea has lost a total of {Total_home_losses} home matches so far in the 2023-2024 season')\n",
    "print(f'Chelsea has won a total of {Total_away_wins} away matches so far in the 2023-2024 season')\n",
    "print(f'Chelsea has lost a total of {Total_away_losses} away matches so far in the 2023-2024 season')\n",
    "print(f'Chelsea has drawn a total of {Total_home_draws} home matches so far in the 2023-2024 season')\n",
    "print(f'Chelsea has drawn a total of {Total_away_draws} away matches so far in the 2023-2024 season')\n",
    "\n"
   ],
   "metadata": {
    "collapsed": false,
    "ExecuteTime": {
     "end_time": "2023-12-21T15:02:02.996646700Z",
     "start_time": "2023-12-21T15:02:02.926119700Z"
    }
   },
   "id": "5cdb7d73038ce869"
  },
  {
   "cell_type": "markdown",
   "source": [
    "### Analysing the top 6 teams"
   ],
   "metadata": {
    "collapsed": false
   },
   "id": "8b669370999585bb"
  },
  {
   "cell_type": "code",
   "execution_count": 141,
   "outputs": [
    {
     "data": {
      "text/plain": "             Points  GoalDiff  GoalsScored\nArsenal          39        20           35\nLiverpool        38        21           36\nAston Villa      38        16           37\nMan City         34        20           40\nTottenham        33        12           35\nNewcastle        29        15           36",
      "text/html": "<div>\n<style scoped>\n    .dataframe tbody tr th:only-of-type {\n        vertical-align: middle;\n    }\n\n    .dataframe tbody tr th {\n        vertical-align: top;\n    }\n\n    .dataframe thead th {\n        text-align: right;\n    }\n</style>\n<table border=\"1\" class=\"dataframe\">\n  <thead>\n    <tr style=\"text-align: right;\">\n      <th></th>\n      <th>Points</th>\n      <th>GoalDiff</th>\n      <th>GoalsScored</th>\n    </tr>\n  </thead>\n  <tbody>\n    <tr>\n      <th>Arsenal</th>\n      <td>39</td>\n      <td>20</td>\n      <td>35</td>\n    </tr>\n    <tr>\n      <th>Liverpool</th>\n      <td>38</td>\n      <td>21</td>\n      <td>36</td>\n    </tr>\n    <tr>\n      <th>Aston Villa</th>\n      <td>38</td>\n      <td>16</td>\n      <td>37</td>\n    </tr>\n    <tr>\n      <th>Man City</th>\n      <td>34</td>\n      <td>20</td>\n      <td>40</td>\n    </tr>\n    <tr>\n      <th>Tottenham</th>\n      <td>33</td>\n      <td>12</td>\n      <td>35</td>\n    </tr>\n    <tr>\n      <th>Newcastle</th>\n      <td>29</td>\n      <td>15</td>\n      <td>36</td>\n    </tr>\n  </tbody>\n</table>\n</div>"
     },
     "execution_count": 141,
     "metadata": {},
     "output_type": "execute_result"
    }
   ],
   "source": [
    "# top 6 teams\n",
    "top_6_teams = sorted_teams.head(6)\n",
    "top_6_teams"
   ],
   "metadata": {
    "collapsed": false,
    "ExecuteTime": {
     "end_time": "2023-12-21T15:02:02.998646700Z",
     "start_time": "2023-12-21T15:02:02.936942600Z"
    }
   },
   "id": "dd888eeb26c09346"
  },
  {
   "cell_type": "markdown",
   "source": [
    "### feature engineering"
   ],
   "metadata": {
    "collapsed": false
   },
   "id": "3b8e274bb242e32c"
  },
  {
   "cell_type": "code",
   "execution_count": 142,
   "outputs": [
    {
     "name": "stdout",
     "output_type": "stream",
     "text": [
      "  Div        Date      Time     HomeTeam       AwayTeam  FTHG  FTAG FTR  HTHG  \\\n",
      "0  E0  2023-08-11  20:00:00      Burnley       Man City     0     3   A     0   \n",
      "1  E0  2023-08-12  12:30:00      Arsenal  Nott'm Forest     2     1   H     2   \n",
      "2  E0  2023-08-12  15:00:00  Bournemouth       West Ham     1     1   D     0   \n",
      "3  E0  2023-08-12  15:00:00     Brighton          Luton     4     1   H     1   \n",
      "4  E0  2023-08-12  15:00:00      Everton         Fulham     0     1   A     0   \n",
      "\n",
      "   HTAG  ... HomePoints AwayPoints  HomeGoalDiff  AwayGoalDiff  HomeGoals  \\\n",
      "0     2  ...          0          3            -3             3          0   \n",
      "1     0  ...          3          0             1            -1          2   \n",
      "2     0  ...          1          1             0             0          1   \n",
      "3     0  ...          3          0             3            -3          4   \n",
      "4     0  ...          0          3            -1             1          0   \n",
      "\n",
      "   AwayGoals  HomeTeamEncoded  AwayTeamEncoded  HomeTeamAvgGoals  \\\n",
      "0          3                5               12          1.111111   \n",
      "1          1                0               15          2.444444   \n",
      "2          1                2               18          1.000000   \n",
      "3          1                4               11          2.000000   \n",
      "4          1                8                9          1.111111   \n",
      "\n",
      "   AwayTeamAvgGoals  \n",
      "0          2.000000  \n",
      "1          0.777778  \n",
      "2          1.555556  \n",
      "3          0.875000  \n",
      "4          1.000000  \n",
      "\n",
      "[5 rows x 116 columns]\n"
     ]
    }
   ],
   "source": [
    "# selecting the features for the model\n",
    "import pandas as pd\n",
    "from sklearn.preprocessing import LabelEncoder\n",
    "\n",
    "# Encoding Team Names\n",
    "label_encoder = LabelEncoder()\n",
    "df_new['HomeTeamEncoded'] = label_encoder.fit_transform(df_new['HomeTeam'])\n",
    "df_new['AwayTeamEncoded'] = label_encoder.transform(df_new['AwayTeam'])\n",
    "\n",
    "# Calculate Team's Average Goals Scored and Conceded per Match\n",
    "# Replace 'FTHG' and 'FTAG' with your actual column names for goals\n",
    "average_goals_scored_home = df_new.groupby('HomeTeam')['FTHG'].mean()\n",
    "average_goals_scored_away = df_new.groupby('AwayTeam')['FTAG'].mean()\n",
    "\n",
    "# Mapping these averages to the main DataFrame\n",
    "df_new['HomeTeamAvgGoals'] = df_new['HomeTeam'].map(average_goals_scored_home)\n",
    "df_new['AwayTeamAvgGoals'] = df_new['AwayTeam'].map(average_goals_scored_away)\n",
    "\n",
    "# Viewing the modified DataFrame\n",
    "print(df_new.head())\n"
   ],
   "metadata": {
    "collapsed": false,
    "ExecuteTime": {
     "end_time": "2023-12-21T15:02:03.079276800Z",
     "start_time": "2023-12-21T15:02:02.946072600Z"
    }
   },
   "id": "594faf549ec6833f"
  },
  {
   "cell_type": "code",
   "execution_count": 143,
   "outputs": [
    {
     "name": "stdout",
     "output_type": "stream",
     "text": [
      "      HomeTeam  HomeTeamWinPercentage       AwayTeam  AwayTeamWinPercentage\n",
      "0      Burnley               0.111111       Man City               0.555556\n",
      "1      Arsenal               0.777778  Nott'm Forest               0.111111\n",
      "2  Bournemouth               0.250000       West Ham               0.444444\n",
      "3     Brighton               0.444444          Luton               0.125000\n",
      "4      Everton               0.333333         Fulham               0.111111\n"
     ]
    }
   ],
   "source": [
    "# Calculate Home Team Win Percentage\n",
    "home_team_wins = df_new[df_new['FTR'] == 'H'].groupby('HomeTeam').size()\n",
    "total_home_matches = df_new.groupby('HomeTeam').size()\n",
    "home_team_win_percentage = home_team_wins / total_home_matches\n",
    "\n",
    "# Calculate Away Team Win Percentage\n",
    "away_team_wins = df_new[df_new['FTR'] == 'A'].groupby('AwayTeam').size()\n",
    "total_away_matches = df_new.groupby('AwayTeam').size()\n",
    "away_team_win_percentage = away_team_wins / total_away_matches\n",
    "\n",
    "# Create mappings for win percentages\n",
    "home_team_win_percentage_map = home_team_win_percentage.to_dict()\n",
    "away_team_win_percentage_map = away_team_win_percentage.to_dict()\n",
    "\n",
    "# Map the win percentages to the original DataFrame\n",
    "df_new['HomeTeamWinPercentage'] = df_new['HomeTeam'].map(home_team_win_percentage_map).fillna(0)\n",
    "df_new['AwayTeamWinPercentage'] = df_new['AwayTeam'].map(away_team_win_percentage_map).fillna(0)\n",
    "\n",
    "# Check the first few rows to confirm the new features\n",
    "print(df_new[['HomeTeam', 'HomeTeamWinPercentage', 'AwayTeam', 'AwayTeamWinPercentage']].head())\n"
   ],
   "metadata": {
    "collapsed": false,
    "ExecuteTime": {
     "end_time": "2023-12-21T15:02:03.099880600Z",
     "start_time": "2023-12-21T15:02:02.975931800Z"
    }
   },
   "id": "57ebec12b7a216fb"
  },
  {
   "cell_type": "code",
   "execution_count": 144,
   "outputs": [
    {
     "data": {
      "text/plain": "           Date       HomeTeam  HomeTeamPoints  HomeTeamRecentForm  \\\n159  2023-12-10      Tottenham              15                   9   \n160  2023-12-15  Nott'm Forest               9                   6   \n163  2023-12-16      Newcastle              24                  18   \n164  2023-12-16        Burnley               3                   3   \n161  2023-12-16        Chelsea              12                   5   \n162  2023-12-16       Man City              18                  14   \n166  2023-12-17      Brentford              12                  10   \n167  2023-12-17       West Ham              14                   8   \n165  2023-12-17        Arsenal              23                  16   \n168  2023-12-17      Liverpool              22                  18   \n\n             AwayTeam  AwayTeamPoints  AwayTeamRecentForm  \n159         Newcastle               5                   5  \n160         Tottenham              18                  11  \n163            Fulham               6                   2  \n164           Everton              16                  13  \n161  Sheffield United               1                   1  \n162    Crystal Palace              12                   7  \n166       Aston Villa              14                   8  \n167            Wolves               7                   4  \n165          Brighton              10                   7  \n168        Man United              13                  12  ",
      "text/html": "<div>\n<style scoped>\n    .dataframe tbody tr th:only-of-type {\n        vertical-align: middle;\n    }\n\n    .dataframe tbody tr th {\n        vertical-align: top;\n    }\n\n    .dataframe thead th {\n        text-align: right;\n    }\n</style>\n<table border=\"1\" class=\"dataframe\">\n  <thead>\n    <tr style=\"text-align: right;\">\n      <th></th>\n      <th>Date</th>\n      <th>HomeTeam</th>\n      <th>HomeTeamPoints</th>\n      <th>HomeTeamRecentForm</th>\n      <th>AwayTeam</th>\n      <th>AwayTeamPoints</th>\n      <th>AwayTeamRecentForm</th>\n    </tr>\n  </thead>\n  <tbody>\n    <tr>\n      <th>159</th>\n      <td>2023-12-10</td>\n      <td>Tottenham</td>\n      <td>15</td>\n      <td>9</td>\n      <td>Newcastle</td>\n      <td>5</td>\n      <td>5</td>\n    </tr>\n    <tr>\n      <th>160</th>\n      <td>2023-12-15</td>\n      <td>Nott'm Forest</td>\n      <td>9</td>\n      <td>6</td>\n      <td>Tottenham</td>\n      <td>18</td>\n      <td>11</td>\n    </tr>\n    <tr>\n      <th>163</th>\n      <td>2023-12-16</td>\n      <td>Newcastle</td>\n      <td>24</td>\n      <td>18</td>\n      <td>Fulham</td>\n      <td>6</td>\n      <td>2</td>\n    </tr>\n    <tr>\n      <th>164</th>\n      <td>2023-12-16</td>\n      <td>Burnley</td>\n      <td>3</td>\n      <td>3</td>\n      <td>Everton</td>\n      <td>16</td>\n      <td>13</td>\n    </tr>\n    <tr>\n      <th>161</th>\n      <td>2023-12-16</td>\n      <td>Chelsea</td>\n      <td>12</td>\n      <td>5</td>\n      <td>Sheffield United</td>\n      <td>1</td>\n      <td>1</td>\n    </tr>\n    <tr>\n      <th>162</th>\n      <td>2023-12-16</td>\n      <td>Man City</td>\n      <td>18</td>\n      <td>14</td>\n      <td>Crystal Palace</td>\n      <td>12</td>\n      <td>7</td>\n    </tr>\n    <tr>\n      <th>166</th>\n      <td>2023-12-17</td>\n      <td>Brentford</td>\n      <td>12</td>\n      <td>10</td>\n      <td>Aston Villa</td>\n      <td>14</td>\n      <td>8</td>\n    </tr>\n    <tr>\n      <th>167</th>\n      <td>2023-12-17</td>\n      <td>West Ham</td>\n      <td>14</td>\n      <td>8</td>\n      <td>Wolves</td>\n      <td>7</td>\n      <td>4</td>\n    </tr>\n    <tr>\n      <th>165</th>\n      <td>2023-12-17</td>\n      <td>Arsenal</td>\n      <td>23</td>\n      <td>16</td>\n      <td>Brighton</td>\n      <td>10</td>\n      <td>7</td>\n    </tr>\n    <tr>\n      <th>168</th>\n      <td>2023-12-17</td>\n      <td>Liverpool</td>\n      <td>22</td>\n      <td>18</td>\n      <td>Man United</td>\n      <td>13</td>\n      <td>12</td>\n    </tr>\n  </tbody>\n</table>\n</div>"
     },
     "execution_count": 144,
     "metadata": {},
     "output_type": "execute_result"
    }
   ],
   "source": [
    "# Ensure the DataFrame is sorted by date\n",
    "df_new.sort_values('Date', inplace=True)\n",
    "\n",
    "# Initialize columns for points and form\n",
    "df_new['HomeTeamPoints'] = 0\n",
    "df_new['AwayTeamPoints'] = 0\n",
    "df_new['HomeTeamRecentForm'] = 0\n",
    "df_new['AwayTeamRecentForm'] = 0\n",
    "\n",
    "# Calculate points for each team\n",
    "for team in df_new['HomeTeam'].unique():\n",
    "    # Calculate points for the home team\n",
    "    home_points = df_new[df_new['HomeTeam'] == team]['FTR'].apply(lambda x: 3 if x == 'H' else 1 if x == 'D' else 0).cumsum()\n",
    "    away_points = df_new[df_new['AwayTeam'] == team]['FTR'].apply(lambda x: 3 if x == 'A' else 1 if x == 'D' else 0).cumsum()\n",
    "\n",
    "    # Assign the points to the team's home and away matches\n",
    "    df_new.loc[df_new['HomeTeam'] == team, 'HomeTeamPoints'] = home_points\n",
    "    df_new.loc[df_new['AwayTeam'] == team, 'AwayTeamPoints'] = away_points\n",
    "\n",
    "# Calculate recent form for each team\n",
    "for team in df_new['HomeTeam'].unique():\n",
    "    # Get indices of the team's home and away games\n",
    "    home_indices = df_new[df_new['HomeTeam'] == team].index\n",
    "    away_indices = df_new[df_new['AwayTeam'] == team].index\n",
    "    \n",
    "    # Calculate the form for the last 5 games, excluding the current match\n",
    "    df_new.loc[home_indices, 'HomeTeamRecentForm'] = df_new.loc[home_indices, 'HomeTeamPoints'].diff().fillna(0).rolling(window=6, min_periods=1).sum().shift(fill_value=0)\n",
    "    df_new.loc[away_indices, 'AwayTeamRecentForm'] = df_new.loc[away_indices, 'AwayTeamPoints'].diff().fillna(0).rolling(window=6, min_periods=1).sum().shift(fill_value=0)\n",
    "\n",
    "# Display the head of the dataframe to verify\n",
    "df_new[['Date', 'HomeTeam', 'HomeTeamPoints', 'HomeTeamRecentForm', 'AwayTeam', 'AwayTeamPoints', 'AwayTeamRecentForm']].tail(10)\n",
    "\n"
   ],
   "metadata": {
    "collapsed": false,
    "ExecuteTime": {
     "end_time": "2023-12-21T15:02:03.214061600Z",
     "start_time": "2023-12-21T15:02:02.996646700Z"
    }
   },
   "id": "d8213f2396de7d7e"
  },
  {
   "cell_type": "code",
   "execution_count": 145,
   "outputs": [
    {
     "name": "stdout",
     "output_type": "stream",
     "text": [
      "              precision    recall  f1-score   support\n",
      "\n",
      "           A       0.65      0.65      0.65        17\n",
      "           D       0.27      0.27      0.27        11\n",
      "           H       0.70      0.70      0.70        23\n",
      "\n",
      "    accuracy                           0.59        51\n",
      "   macro avg       0.54      0.54      0.54        51\n",
      "weighted avg       0.59      0.59      0.59        51\n"
     ]
    }
   ],
   "source": [
    "from sklearn.model_selection import train_test_split, GridSearchCV, cross_val_score\n",
    "from sklearn.ensemble import RandomForestClassifier\n",
    "from sklearn.metrics import classification_report, make_scorer, f1_score\n",
    "from sklearn.preprocessing import StandardScaler\n",
    "from imblearn.over_sampling import SMOTE\n",
    "\n",
    "# Selecting features and target\n",
    "features = ['HomeTeamEncoded', 'AwayTeamEncoded', 'HomeTeamAvgGoals', 'AwayTeamAvgGoals', 'HomeTeamPoints', 'AwayTeamPoints', 'HomeTeamRecentForm', 'AwayTeamRecentForm',\n",
    "    'HomeTeamWinPercentage', 'AwayTeamWinPercentage']\n",
    "X = df_new[features]\n",
    "y = df_new['FTR']\n",
    "\n",
    "# Splitting the dataset\n",
    "X_train, X_test, y_train, y_test = train_test_split(X, y, test_size=0.3, random_state=42)\n",
    "\n",
    "# Addressing Class Imbalance\n",
    "smote = SMOTE(random_state=42)\n",
    "X_train_smote, y_train_smote = smote.fit_resample(X_train, y_train)\n",
    "\n",
    "# Scaling the features\n",
    "scaler = StandardScaler()\n",
    "X_train_scaled = scaler.fit_transform(X_train_smote)\n",
    "X_test_scaled = scaler.transform(X_test)\n",
    "\n",
    "# Hyperparameter Tuning\n",
    "model = RandomForestClassifier(random_state=42)\n",
    "param_grid = {\n",
    "    'n_estimators': [100, 200, 300],\n",
    "    'max_depth': [None, 10, 20, 30],\n",
    "    'min_samples_split': [2, 5, 10],\n",
    "    'min_samples_leaf': [1, 2, 4]\n",
    "    \n",
    "}\n",
    "grid_search = GridSearchCV(model, param_grid, cv=3, scoring='f1_macro')\n",
    "grid_search.fit(X_train_scaled, y_train_smote)\n",
    "\n",
    "# Best Model Evaluation\n",
    "best_model = grid_search.best_estimator_\n",
    "y_pred = best_model.predict(X_test_scaled)\n",
    "print(classification_report(y_test, y_pred))\n"
   ],
   "metadata": {
    "collapsed": false,
    "ExecuteTime": {
     "end_time": "2023-12-21T15:03:22.548413600Z",
     "start_time": "2023-12-21T15:02:03.130507400Z"
    }
   },
   "id": "67b825783be054c3"
  },
  {
   "cell_type": "code",
   "execution_count": 146,
   "outputs": [],
   "source": [
    "# Convert odds to implied probabilities\n",
    "for bookmaker in ['B365', 'BW', 'IW', 'WH']:\n",
    "    for outcome in ['H', 'D', 'A']:\n",
    "        odds_col = f'{bookmaker}{outcome}'\n",
    "        prob_col = f'ImpliedProb{bookmaker}{outcome}'\n",
    "        df_new[prob_col] = 1 / df_new[odds_col]\n",
    "\n",
    "# Normalize implied probabilities\n",
    "for bookmaker in ['B365', 'BW', 'IW', 'WH']:\n",
    "    prob_cols = [f'ImpliedProb{bookmaker}{outcome}' for outcome in ['H', 'D', 'A']]\n",
    "    df_new[prob_cols] = df_new[prob_cols].div(df_new[prob_cols].sum(axis=1), axis=0)\n",
    "\n",
    "# Include Asian Handicap odds\n",
    "df_new['AsianHandicapHome'] = df_new['B365AHH']  # Example for Bet365 Asian Handicap Home\n",
    "df_new['AsianHandicapAway'] = df_new['B365AHA']  # Example for Bet365 Asian Handicap Away\n",
    "\n",
    "# Include match statistics as features\n",
    "match_stats_features = ['HS', 'AS', 'HST', 'AST', 'HC', 'AC', 'HF', 'AF', 'HY', 'AY', 'HR', 'AR']\n",
    "df_new[match_stats_features] = df_new[match_stats_features].fillna(df_new[match_stats_features].median())\n",
    "\n",
    "# Your features now include odds, Asian handicaps, and match statistics\n",
    "features.extend([f'ImpliedProb{bookmaker}{outcome}' for bookmaker in ['B365', 'BW', 'IW', 'WH'] for outcome in ['H', 'D', 'A']])\n",
    "features.extend(['AsianHandicapHome', 'AsianHandicapAway'])\n",
    "features.extend(match_stats_features)\n",
    "\n",
    "# Now use these features in your model training and evaluation\n",
    "# ...\n"
   ],
   "metadata": {
    "collapsed": false,
    "ExecuteTime": {
     "end_time": "2023-12-21T15:03:22.570156Z",
     "start_time": "2023-12-21T15:03:22.553417700Z"
    }
   },
   "id": "3f7377861a47ccb7"
  },
  {
   "cell_type": "markdown",
   "source": [],
   "metadata": {
    "collapsed": false
   },
   "id": "1f9cf34a96ba28d3"
  },
  {
   "cell_type": "code",
   "execution_count": 147,
   "outputs": [
    {
     "name": "stdout",
     "output_type": "stream",
     "text": [
      "Model: Logistic Regression\n",
      "              precision    recall  f1-score    support\n",
      "A              0.687500  0.647059  0.666667  17.000000\n",
      "D              0.400000  0.545455  0.461538  11.000000\n",
      "H              0.850000  0.739130  0.790698  23.000000\n",
      "accuracy       0.666667  0.666667  0.666667   0.666667\n",
      "macro avg      0.645833  0.643881  0.639634  51.000000\n",
      "weighted avg   0.698775  0.666667  0.678359  51.000000\n",
      "Model: Decision Tree\n",
      "              precision    recall  f1-score    support\n",
      "A              0.571429  0.470588  0.516129  17.000000\n",
      "D              0.400000  0.363636  0.380952  11.000000\n",
      "H              0.518519  0.608696  0.560000  23.000000\n",
      "accuracy       0.509804  0.509804  0.509804   0.509804\n",
      "macro avg      0.496649  0.480973  0.485694  51.000000\n",
      "weighted avg   0.510592  0.509804  0.506758  51.000000\n",
      "Model: Support Vector Machine\n",
      "              precision    recall  f1-score   support\n",
      "A              0.500000  0.647059  0.564103  17.00000\n",
      "D              0.181818  0.181818  0.181818  11.00000\n",
      "H              0.833333  0.652174  0.731707  23.00000\n",
      "accuracy       0.549020  0.549020  0.549020   0.54902\n",
      "macro avg      0.505051  0.493684  0.492543  51.00000\n",
      "weighted avg   0.581699  0.549020  0.557236  51.00000\n",
      "Model: K-Nearest Neighbors\n",
      "              precision    recall  f1-score    support\n",
      "A              0.500000  0.705882  0.585366  17.000000\n",
      "D              0.176471  0.272727  0.214286  11.000000\n",
      "H              0.900000  0.391304  0.545455  23.000000\n",
      "accuracy       0.470588  0.470588  0.470588   0.470588\n",
      "macro avg      0.525490  0.456638  0.448369  51.000000\n",
      "weighted avg   0.610611  0.470588  0.487330  51.000000\n",
      "Model: Random Forest\n",
      "              precision    recall  f1-score    support\n",
      "A              0.611111  0.647059  0.628571  17.000000\n",
      "D              0.272727  0.272727  0.272727  11.000000\n",
      "H              0.727273  0.695652  0.711111  23.000000\n",
      "accuracy       0.588235  0.588235  0.588235   0.588235\n",
      "macro avg      0.537037  0.538479  0.537470  51.000000\n",
      "weighted avg   0.590513  0.588235  0.589045  51.000000\n",
      "Model: Gradient Boosting\n",
      "              precision    recall  f1-score    support\n",
      "A              0.647059  0.647059  0.647059  17.000000\n",
      "D              0.300000  0.272727  0.285714  11.000000\n",
      "H              0.750000  0.782609  0.765957  23.000000\n",
      "accuracy       0.627451  0.627451  0.627451   0.627451\n",
      "macro avg      0.565686  0.567465  0.566244  51.000000\n",
      "weighted avg   0.618627  0.627451  0.622743  51.000000\n"
     ]
    }
   ],
   "source": [
    "from sklearn.linear_model import LogisticRegression\n",
    "from sklearn.tree import DecisionTreeClassifier\n",
    "from sklearn.svm import SVC\n",
    "from sklearn.neighbors import KNeighborsClassifier\n",
    "from sklearn.ensemble import GradientBoostingClassifier\n",
    "\n",
    "# Define a list with models to evaluate\n",
    "models = [\n",
    "    ('Logistic Regression', LogisticRegression(random_state=42)),\n",
    "    ('Decision Tree', DecisionTreeClassifier(random_state=42)),\n",
    "    ('Support Vector Machine', SVC(random_state=42)),\n",
    "    ('K-Nearest Neighbors', KNeighborsClassifier()),\n",
    "    ('Random Forest', RandomForestClassifier(random_state=42)),\n",
    "    ('Gradient Boosting', GradientBoostingClassifier(random_state=42))\n",
    "]\n",
    "\n",
    "# Record model performance\n",
    "model_performance = {}\n",
    "\n",
    "# Loop through models\n",
    "for name, model in models:\n",
    "    # Train the model\n",
    "    model.fit(X_train_scaled, y_train_smote)\n",
    "    \n",
    "    # Make predictions\n",
    "    y_pred = model.predict(X_test_scaled)\n",
    "    \n",
    "    # Record performance\n",
    "    model_performance[name] = classification_report(y_test, y_pred, output_dict=True)\n",
    "\n",
    "# Print the performance for each model\n",
    "for name, performance in model_performance.items():\n",
    "    print(f\"Model: {name}\")\n",
    "    print(pd.DataFrame(performance).transpose())\n"
   ],
   "metadata": {
    "collapsed": false,
    "ExecuteTime": {
     "end_time": "2023-12-21T15:03:23.071635300Z",
     "start_time": "2023-12-21T15:03:22.570156Z"
    }
   },
   "id": "b4131bd69bc7612"
  },
  {
   "cell_type": "markdown",
   "source": [
    "#### Model using xgboost, lightgbm and catboost"
   ],
   "metadata": {
    "collapsed": false
   },
   "id": "91c360297ddea660"
  },
  {
   "cell_type": "code",
   "execution_count": 148,
   "outputs": [
    {
     "name": "stdout",
     "output_type": "stream",
     "text": [
      "Classifier: XGBoost\n",
      "              precision    recall  f1-score    support\n",
      "0              0.642857  0.529412  0.580645  17.000000\n",
      "1              0.250000  0.272727  0.260870  11.000000\n",
      "2              0.760000  0.826087  0.791667  23.000000\n",
      "accuracy       0.607843  0.607843  0.607843   0.607843\n",
      "macro avg      0.550952  0.542742  0.544394  51.000000\n",
      "weighted avg   0.610952  0.607843  0.606841  51.000000\n",
      "\n",
      "\n",
      "Classifier: LightGBM\n",
      "              precision    recall  f1-score   support\n",
      "0              0.600000  0.529412  0.562500  17.00000\n",
      "1              0.230769  0.272727  0.250000  11.00000\n",
      "2              0.695652  0.695652  0.695652  23.00000\n",
      "accuracy       0.549020  0.549020  0.549020   0.54902\n",
      "macro avg      0.508807  0.499264  0.502717  51.00000\n",
      "weighted avg   0.563499  0.549020  0.555147  51.00000\n",
      "\n",
      "\n",
      "Classifier: CatBoost\n",
      "              precision    recall  f1-score    support\n",
      "0              0.647059  0.647059  0.647059  17.000000\n",
      "1              0.375000  0.272727  0.315789  11.000000\n",
      "2              0.769231  0.869565  0.816327  23.000000\n",
      "accuracy       0.666667  0.666667  0.666667   0.666667\n",
      "macro avg      0.597097  0.596450  0.593058  51.000000\n",
      "weighted avg   0.643477  0.666667  0.651945  51.000000\n",
      "\n"
     ]
    }
   ],
   "source": [
    "from catboost import CatBoostClassifier\n",
    "from lightgbm import LGBMClassifier\n",
    "from xgboost import XGBClassifier\n",
    "from sklearn.preprocessing import LabelEncoder\n",
    "\n",
    "# Initialize label encoder\n",
    "label_encoder = LabelEncoder()\n",
    "\n",
    "# Fit label encoder and return encoded labels\n",
    "y_encoded = label_encoder.fit_transform(y)\n",
    "\n",
    "# Split the dataset into training and testing sets with the encoded target\n",
    "X_train, X_test, y_train, y_test = train_test_split(X, y_encoded, test_size=0.3, random_state=42)\n",
    "\n",
    "# Now continue with training and evaluating the models as before\n",
    "classifiers = {\n",
    "    \"XGBoost\": XGBClassifier(n_estimators=100, max_depth=6, learning_rate=0.1, verbosity=1, objective='multi:softprob'),\n",
    "    \"LightGBM\": LGBMClassifier(n_estimators=100, max_depth=6, learning_rate=0.1, verbose=-1),\n",
    "    \"CatBoost\": CatBoostClassifier(iterations=1000, learning_rate=0.1, depth=6, loss_function='MultiClass', verbose=False)\n",
    "}\n",
    "\n",
    "evaluation_results = {}\n",
    "\n",
    "for classifier_name, classifier in classifiers.items():\n",
    "    classifier.fit(X_train, y_train)\n",
    "    y_pred = classifier.predict(X_test)\n",
    "    report = classification_report(y_test, y_pred, output_dict=True)\n",
    "    evaluation_results[classifier_name] = report\n",
    "\n",
    "# Display the results\n",
    "for classifier_name, report in evaluation_results.items():\n",
    "    print(f\"Classifier: {classifier_name}\")\n",
    "    print(pd.DataFrame(report).transpose())\n",
    "    print(\"\\n\")\n"
   ],
   "metadata": {
    "collapsed": false,
    "ExecuteTime": {
     "end_time": "2023-12-21T15:03:23.849346Z",
     "start_time": "2023-12-21T15:03:23.071635300Z"
    }
   },
   "id": "a74a7b967d9eb287"
  },
  {
   "cell_type": "markdown",
   "source": [
    "### ensemble model with voting classifier"
   ],
   "metadata": {
    "collapsed": false
   },
   "id": "84a7a7b1e6dd7b2d"
  },
  {
   "cell_type": "code",
   "execution_count": 149,
   "outputs": [],
   "source": [
    "# from sklearn.ensemble import VotingClassifier\n",
    "# from sklearn.metrics import classification_report\n",
    "# \n",
    "# # Initialize the models\n",
    "# log_reg = LogisticRegression(random_state=42)\n",
    "# dec_tree = DecisionTreeClassifier(random_state=42)\n",
    "# svc = SVC(probability=True, random_state=42)\n",
    "# knn = KNeighborsClassifier()\n",
    "# rand_forest = RandomForestClassifier(random_state=42)\n",
    "# grad_boost = GradientBoostingClassifier(random_state=42)\n",
    "# xgb = XGBClassifier(n_estimators=100, max_depth=6, learning_rate=0.1, verbosity=1, objective='multi:softprob')\n",
    "# lgbm = LGBMClassifier(n_estimators=100, max_depth=6, learning_rate=0.1, verbose=-1)\n",
    "# cat_boost = CatBoostClassifier(iterations=1000, learning_rate=0.1, depth=6, loss_function='MultiClass', verbose=False)\n",
    "# \n",
    "# # Define a list called `estimators` containing tuples of the form (name, model)\n",
    "# estimators = [\n",
    "#     ('Logistic Regression', log_reg),\n",
    "#     ('Decision Tree', dec_tree),\n",
    "#     ('Support Vector Machine', svc),\n",
    "#     ('K-Nearest Neighbors', knn),\n",
    "#     ('Random Forest', rand_forest),\n",
    "#     ('Gradient Boosting', grad_boost),\n",
    "#     ('XGBoost', xgb),\n",
    "#     ('LightGBM', lgbm),\n",
    "#     ('CatBoost', cat_boost)\n",
    "# ]\n",
    "# \n",
    "# label_encoder = LabelEncoder()\n",
    "# y_train_smote_encoded = label_encoder.fit_transform(y_train_smote)\n",
    "# y_test_encoded = label_encoder.transform(y_test)\n",
    "# \n",
    "# # Initialize voting classifier with 'soft' voting\n",
    "# voting_clf = VotingClassifier(estimators=estimators, voting='soft')\n",
    "# \n",
    "# # Fit the model on the TRAINING data that has been resampled and scaled\n",
    "# voting_clf.fit(X_train_scaled, y_train_smote)\n",
    "# \n",
    "# # Evaluate the model on the ORIGINAL TEST data (which has been scaled but not resampled)\n",
    "# y_pred = voting_clf.predict(X_test_scaled)\n",
    "# print(classification_report(y_test, y_pred))"
   ],
   "metadata": {
    "collapsed": false,
    "ExecuteTime": {
     "end_time": "2023-12-21T15:03:23.857194500Z",
     "start_time": "2023-12-21T15:03:23.849346Z"
    }
   },
   "id": "262f6102bee16711"
  },
  {
   "cell_type": "code",
   "execution_count": 150,
   "outputs": [],
   "source": [
    "# print(\"X_train_scaled shape:\", X_train_scaled.shape)\n",
    "# print(\"y_train_encoded shape:\", y_train_encoded.shape)\n",
    "# print(\"X_test_scaled shape:\", X_test_scaled.shape)\n",
    "# print(\"y_test_encoded shape:\", y_test_encoded.shape)\n",
    "# \n"
   ],
   "metadata": {
    "collapsed": false,
    "ExecuteTime": {
     "end_time": "2023-12-21T15:03:23.866635700Z",
     "start_time": "2023-12-21T15:03:23.854116400Z"
    }
   },
   "id": "cfd8eedda2b5f7f"
  },
  {
   "cell_type": "code",
   "execution_count": 151,
   "outputs": [],
   "source": [
    "# from sklearn.preprocessing import LabelEncoder\n",
    "# \n",
    "# # Initialize the label encoder\n",
    "# label_encoder = LabelEncoder()\n",
    "# \n",
    "# # Apply label encoding to the training and testing target variables separately\n",
    "# y_train_encoded = label_encoder.fit_transform(y_train)\n",
    "# y_test_encoded = label_encoder.transform(y_test)\n",
    "# \n",
    "# # Now verify the shapes again\n",
    "# print(\"X_train_scaled shape:\", X_train_scaled.shape)\n",
    "# print(\"y_train_encoded shape:\", y_train_encoded.shape)\n",
    "# print(\"X_test_scaled shape:\", X_test_scaled.shape)\n",
    "# print(\"y_test_encoded shape:\", y_test_encoded.shape)\n",
    "# \n",
    "# # If the shapes now match, you can proceed with training the voting classifier\n",
    "# if X_train_scaled.shape[0] == y_train_encoded.shape[0] and X_test_scaled.shape[0] == y_test_encoded.shape[0]:\n",
    "#     voting_clf.fit(X_train_scaled, y_train_encoded)\n",
    "#     y_pred = voting_clf.predict(X_test_scaled)\n",
    "#     print(classification_report(y_test_encoded, y_pred))\n",
    "# else:\n",
    "#     print(\"Mismatch in dataset dimensions, please check data preprocessing steps.\")\n"
   ],
   "metadata": {
    "collapsed": false,
    "ExecuteTime": {
     "end_time": "2023-12-21T15:03:23.875270700Z",
     "start_time": "2023-12-21T15:03:23.864570800Z"
    }
   },
   "id": "d58cec3a0653c032"
  },
  {
   "cell_type": "code",
   "execution_count": 152,
   "outputs": [
    {
     "data": {
      "text/plain": "  Div        Date      Time     HomeTeam       AwayTeam  FTHG  FTAG FTR  HTHG  \\\n0  E0  2023-08-11  20:00:00      Burnley       Man City     0     3   A     0   \n1  E0  2023-08-12  12:30:00      Arsenal  Nott'm Forest     2     1   H     2   \n2  E0  2023-08-12  15:00:00  Bournemouth       West Ham     1     1   D     0   \n3  E0  2023-08-12  15:00:00     Brighton          Luton     4     1   H     1   \n4  E0  2023-08-12  15:00:00      Everton         Fulham     0     1   A     0   \n\n   HTAG  ... ImpliedProbBWD ImpliedProbBWA  ImpliedProbIWH  ImpliedProbIWD  \\\n0     2  ...       0.181228       0.710035        0.119325        0.173564   \n1     0  ...       0.126676       0.061295        0.799213        0.132283   \n2     0  ...       0.276522       0.368696        0.354475        0.277416   \n3     0  ...       0.173077       0.105769        0.706231        0.181602   \n4     0  ...       0.278427       0.291277        0.424796        0.281115   \n\n   ImpliedProbIWA  ImpliedProbWHH  ImpliedProbWHD  ImpliedProbWHA  \\\n0        0.707111        0.111111        0.177778        0.711111   \n1        0.068504        0.790113        0.136143        0.073744   \n2        0.368109        0.338080        0.276803        0.385117   \n3        0.112166        0.704822        0.191528        0.103650   \n4        0.294089        0.424403        0.278515        0.297082   \n\n   AsianHandicapHome  AsianHandicapAway  \n0               1.86               2.07  \n1               1.88               2.02  \n2               1.95               1.95  \n3               1.95               1.95  \n4               1.93               1.97  \n\n[5 rows x 136 columns]",
      "text/html": "<div>\n<style scoped>\n    .dataframe tbody tr th:only-of-type {\n        vertical-align: middle;\n    }\n\n    .dataframe tbody tr th {\n        vertical-align: top;\n    }\n\n    .dataframe thead th {\n        text-align: right;\n    }\n</style>\n<table border=\"1\" class=\"dataframe\">\n  <thead>\n    <tr style=\"text-align: right;\">\n      <th></th>\n      <th>Div</th>\n      <th>Date</th>\n      <th>Time</th>\n      <th>HomeTeam</th>\n      <th>AwayTeam</th>\n      <th>FTHG</th>\n      <th>FTAG</th>\n      <th>FTR</th>\n      <th>HTHG</th>\n      <th>HTAG</th>\n      <th>...</th>\n      <th>ImpliedProbBWD</th>\n      <th>ImpliedProbBWA</th>\n      <th>ImpliedProbIWH</th>\n      <th>ImpliedProbIWD</th>\n      <th>ImpliedProbIWA</th>\n      <th>ImpliedProbWHH</th>\n      <th>ImpliedProbWHD</th>\n      <th>ImpliedProbWHA</th>\n      <th>AsianHandicapHome</th>\n      <th>AsianHandicapAway</th>\n    </tr>\n  </thead>\n  <tbody>\n    <tr>\n      <th>0</th>\n      <td>E0</td>\n      <td>2023-08-11</td>\n      <td>20:00:00</td>\n      <td>Burnley</td>\n      <td>Man City</td>\n      <td>0</td>\n      <td>3</td>\n      <td>A</td>\n      <td>0</td>\n      <td>2</td>\n      <td>...</td>\n      <td>0.181228</td>\n      <td>0.710035</td>\n      <td>0.119325</td>\n      <td>0.173564</td>\n      <td>0.707111</td>\n      <td>0.111111</td>\n      <td>0.177778</td>\n      <td>0.711111</td>\n      <td>1.86</td>\n      <td>2.07</td>\n    </tr>\n    <tr>\n      <th>1</th>\n      <td>E0</td>\n      <td>2023-08-12</td>\n      <td>12:30:00</td>\n      <td>Arsenal</td>\n      <td>Nott'm Forest</td>\n      <td>2</td>\n      <td>1</td>\n      <td>H</td>\n      <td>2</td>\n      <td>0</td>\n      <td>...</td>\n      <td>0.126676</td>\n      <td>0.061295</td>\n      <td>0.799213</td>\n      <td>0.132283</td>\n      <td>0.068504</td>\n      <td>0.790113</td>\n      <td>0.136143</td>\n      <td>0.073744</td>\n      <td>1.88</td>\n      <td>2.02</td>\n    </tr>\n    <tr>\n      <th>2</th>\n      <td>E0</td>\n      <td>2023-08-12</td>\n      <td>15:00:00</td>\n      <td>Bournemouth</td>\n      <td>West Ham</td>\n      <td>1</td>\n      <td>1</td>\n      <td>D</td>\n      <td>0</td>\n      <td>0</td>\n      <td>...</td>\n      <td>0.276522</td>\n      <td>0.368696</td>\n      <td>0.354475</td>\n      <td>0.277416</td>\n      <td>0.368109</td>\n      <td>0.338080</td>\n      <td>0.276803</td>\n      <td>0.385117</td>\n      <td>1.95</td>\n      <td>1.95</td>\n    </tr>\n    <tr>\n      <th>3</th>\n      <td>E0</td>\n      <td>2023-08-12</td>\n      <td>15:00:00</td>\n      <td>Brighton</td>\n      <td>Luton</td>\n      <td>4</td>\n      <td>1</td>\n      <td>H</td>\n      <td>1</td>\n      <td>0</td>\n      <td>...</td>\n      <td>0.173077</td>\n      <td>0.105769</td>\n      <td>0.706231</td>\n      <td>0.181602</td>\n      <td>0.112166</td>\n      <td>0.704822</td>\n      <td>0.191528</td>\n      <td>0.103650</td>\n      <td>1.95</td>\n      <td>1.95</td>\n    </tr>\n    <tr>\n      <th>4</th>\n      <td>E0</td>\n      <td>2023-08-12</td>\n      <td>15:00:00</td>\n      <td>Everton</td>\n      <td>Fulham</td>\n      <td>0</td>\n      <td>1</td>\n      <td>A</td>\n      <td>0</td>\n      <td>0</td>\n      <td>...</td>\n      <td>0.278427</td>\n      <td>0.291277</td>\n      <td>0.424796</td>\n      <td>0.281115</td>\n      <td>0.294089</td>\n      <td>0.424403</td>\n      <td>0.278515</td>\n      <td>0.297082</td>\n      <td>1.93</td>\n      <td>1.97</td>\n    </tr>\n  </tbody>\n</table>\n<p>5 rows × 136 columns</p>\n</div>"
     },
     "execution_count": 152,
     "metadata": {},
     "output_type": "execute_result"
    }
   ],
   "source": [
    "df_new.head()"
   ],
   "metadata": {
    "collapsed": false,
    "ExecuteTime": {
     "end_time": "2023-12-21T15:03:23.903231100Z",
     "start_time": "2023-12-21T15:03:23.872869100Z"
    }
   },
   "id": "83885c5ce6e5ce31"
  },
  {
   "cell_type": "code",
   "execution_count": 153,
   "outputs": [
    {
     "name": "stdout",
     "output_type": "stream",
     "text": [
      "100%|██████████| 10/10 [00:23<00:00,  2.37s/trial, best loss: -0.6959033613445378]\n",
      "Best parameters: {'colsample_bytree': 0.9131889248485059, 'learning_rate': 0.05550384768101995, 'max_depth': 7, 'min_child_weight': 7.0, 'n_estimators': 700, 'subsample': 0.8497380245016294}\n",
      "              precision    recall  f1-score   support\n",
      "\n",
      "           0       0.56      0.53      0.55        17\n",
      "           1       0.27      0.27      0.27        11\n",
      "           2       0.75      0.78      0.77        23\n",
      "\n",
      "    accuracy                           0.59        51\n",
      "   macro avg       0.53      0.53      0.53        51\n",
      "weighted avg       0.58      0.59      0.59        51\n",
      "\n",
      "ROC AUC: 0.7429663937186127\n",
      "Accuracy: 0.5882352941176471\n",
      "Precision: 0.5284090909090909\n",
      "Recall: 0.5282492443617763\n",
      "F1 Score: 0.528046421663443\n",
      "ROC AUC: 0.720375106564365\n"
     ]
    }
   ],
   "source": [
    "from hyperopt import hp, tpe, Trials, fmin, STATUS_OK,space_eval\n",
    "from sklearn.model_selection import train_test_split, StratifiedKFold, cross_val_score\n",
    "from sklearn.metrics import classification_report, accuracy_score, precision_score, recall_score, f1_score, roc_auc_score, confusion_matrix\n",
    "from sklearn.preprocessing import StandardScaler\n",
    "from xgboost import XGBClassifier\n",
    "import numpy as np\n",
    "\n",
    "# Feature Engineering\n",
    "# Ensure that this step is already done and df_new contains the engineered features\n",
    "\n",
    "\n",
    "# Assuming 'df_new' is your DataFrame and 'E0' is in the 'Div'      \n",
    "pd.get_dummies(df_new, columns=['Div'], drop_first=True)\n",
    "\n",
    "\n",
    "# Hyperparameter Space\n",
    "space = {\n",
    "    'n_estimators': hp.quniform('n_estimators', 100, 1000, 50),\n",
    "    'max_depth': hp.choice('max_depth', np.arange(3, 11, dtype=int)),\n",
    "    'min_child_weight': hp.quniform('min_child_weight', 1, 9, 1),\n",
    "    'learning_rate': hp.loguniform('learning_rate', np.log(0.01), np.log(0.2)),\n",
    "    'subsample': hp.uniform('subsample', 0.7, 1),\n",
    "    'colsample_bytree': hp.uniform('colsample_bytree', 0.7, 1),\n",
    "}\n",
    "\n",
    "# Objective Function\n",
    "def objective(params):\n",
    "     # Convert float to int for 'n_estimators'\n",
    "    params['n_estimators'] = int(params['n_estimators'])\n",
    "    clf = XGBClassifier(**params, use_label_encoder=False, objective='multi:softprob', eval_metric='mlogloss')\n",
    "    score = cross_val_score(clf, X_train_scaled, y_train_encoded, scoring='accuracy', cv=StratifiedKFold(n_splits=7)).mean()\n",
    "    return {'loss': -score, 'status': STATUS_OK}\n",
    "\n",
    "# List of categorical column names\n",
    "categorical_cols = ['HomeTeam', 'AwayTeam']  # Add all your categorical columns here\n",
    "\n",
    "# Apply label encoding to each categorical column\n",
    "for col in categorical_cols:\n",
    "    df_new[col] = label_encoder.fit_transform(df_new[col])\n",
    "\n",
    "\n",
    "# Encoding target variable\n",
    "label_encoder = LabelEncoder()\n",
    "y_train_encoded = label_encoder.fit_transform(y_train)\n",
    "y_test_encoded = label_encoder.transform(y_test)\n",
    "\n",
    "# Scaling features\n",
    "scaler = StandardScaler()\n",
    "X_train_scaled = scaler.fit_transform(X_train)\n",
    "X_test_scaled = scaler.transform(X_test)\n",
    "\n",
    "# Run Hyperparameter Optimization\n",
    "trials = Trials()\n",
    "best = fmin(fn=objective, space=space, algo=tpe.suggest, max_evals=10, trials=trials)\n",
    "\n",
    "# Best hyperparameters\n",
    "best_params = space_eval(space, best)\n",
    "best_params['n_estimators'] = int(best_params['n_estimators'])\n",
    "print(f\"Best parameters: {best_params}\")\n",
    "\n",
    "# Initialize model with best parameters\n",
    "model = XGBClassifier(**best_params, use_label_encoder=False, objective='multi:softprob', eval_metric='mlogloss')\n",
    "model.fit(X_train_scaled, y_train_encoded)\n",
    "\n",
    "# Prediction and Evaluation\n",
    "y_pred = model.predict(X_test_scaled)\n",
    "y_pred_proba = model.predict_proba(X_test_scaled)\n",
    "print(classification_report(y_test_encoded, y_pred))\n",
    "\n",
    "\n",
    "# Calculate ROC AUC Score\n",
    "try:\n",
    "    roc_auc = roc_auc_score(y_test_encoded, y_pred_proba, multi_class='ovr')\n",
    "    print(f\"ROC AUC: {roc_auc}\")\n",
    "except ValueError as e:\n",
    "    print(\"Error calculating ROC AUC:\", e)\n",
    "\n",
    "# Other metrics\n",
    "accuracy = accuracy_score(y_test_encoded, y_pred)\n",
    "precision = precision_score(y_test_encoded, y_pred, average='macro')\n",
    "recall = recall_score(y_test_encoded, y_pred, average='macro')\n",
    "f1 = f1_score(y_test_encoded, y_pred, average='macro')\n",
    "roc_auc = roc_auc_score(y_test_encoded, y_pred_proba, multi_class='ovo')\n",
    "\n",
    "print(f\"Accuracy: {accuracy}\")\n",
    "print(f\"Precision: {precision}\")\n",
    "print(f\"Recall: {recall}\")\n",
    "print(f\"F1 Score: {f1}\")\n",
    "print(f\"ROC AUC: {roc_auc}\")\n"
   ],
   "metadata": {
    "collapsed": false,
    "ExecuteTime": {
     "end_time": "2023-12-21T15:03:47.802313300Z",
     "start_time": "2023-12-21T15:03:23.895726200Z"
    }
   },
   "id": "a036067d71a1760"
  },
  {
   "cell_type": "code",
   "execution_count": 166,
   "outputs": [
    {
     "name": "stdout",
     "output_type": "stream",
     "text": [
      "100%|██████████| 10/10 [01:07<00:00,  6.75s/trial, best loss: -0.7043478260869565]\n",
      "              precision    recall  f1-score   support\n",
      "\n",
      "           0       0.68      0.76      0.72        17\n",
      "           1       0.29      0.18      0.22        11\n",
      "           2       0.80      0.87      0.83        23\n",
      "\n",
      "    accuracy                           0.69        51\n",
      "   macro avg       0.59      0.61      0.59        51\n",
      "weighted avg       0.65      0.69      0.66        51\n",
      "\n",
      "ROC AUC: 0.8394195506614643\n",
      "Accuracy: 0.6862745098039216\n",
      "Precision: 0.5899749373433584\n",
      "Recall: 0.6053630938541424\n",
      "F1 Score: 0.5925925925925926\n",
      "ROC AUC: 0.8221343873517787\n"
     ]
    }
   ],
   "source": [
    "# catboost hyperparameter tuning\n",
    "from hyperopt import hp, tpe, Trials, fmin, STATUS_OK,space_eval\n",
    "from sklearn.model_selection import train_test_split, StratifiedKFold, cross_val_score\n",
    "from sklearn.metrics import classification_report, accuracy_score, precision_score, recall_score, f1_score, roc_auc_score, confusion_matrix\n",
    "from sklearn.preprocessing import StandardScaler\n",
    "from catboost import CatBoostClassifier\n",
    "import numpy as np\n",
    "\n",
    "# Feature Engineering\n",
    "# Ensure that this step is already done and df_new contains the engineered features\n",
    "\n",
    "# Define hyperparameter space\n",
    "space = {\n",
    "    'iterations': hp.quniform('iterations', 100, 1000, 50),\n",
    "    'depth': hp.choice('depth', np.arange(3, 11, dtype=int)),\n",
    "    'learning_rate': hp.loguniform('learning_rate', np.log(0.01), np.log(0.2)),\n",
    "    'l2_leaf_reg': hp.uniform('l2_leaf_reg', 1, 10),\n",
    "    'bagging_temperature': hp.uniform('bagging_temperature', 0, 1),\n",
    "    'border_count': hp.choice('border_count', np.arange(1, 255, dtype=int)),\n",
    "    \n",
    "    'grow_policy': hp.choice('grow_policy', ['SymmetricTree', 'Depthwise', 'Lossguide']),\n",
    "    \n",
    "    'random_strength': hp.uniform('random_strength', 0, 1),\n",
    "    # Add 'n_estimators' if you want to tune it\n",
    "    # 'n_estimators': hp.quniform('n_estimators', 100, 500, 50),\n",
    "}\n",
    "\n",
    "def objective(params):\n",
    "    params['iterations'] = int(params['iterations'])\n",
    "    # Handle 'n_estimators' if included in the space\n",
    "    if 'n_estimators' in params:\n",
    "        params['n_estimators'] = int(params['n_estimators'])\n",
    "    clf = CatBoostClassifier(**params, loss_function='MultiClass', eval_metric='MultiClass', verbose=False)\n",
    "    \n",
    "    score = cross_val_score(clf, X_train, y_train, scoring='accuracy', cv=StratifiedKFold(n_splits=5)).mean()\n",
    "    return {'loss': -score, 'status': STATUS_OK}\n",
    "\n",
    "# Run hyperparameter tuning\n",
    "trials = Trials()\n",
    "best = fmin(fn=objective, space=space, algo=tpe.suggest, max_evals=10, trials=trials)\n",
    "\n",
    "# Get best hyperparameters\n",
    "best_params = space_eval(space, best)\n",
    "\n",
    "# Initialize model with best parameters\n",
    "model = CatBoostClassifier(**best_params, loss_function='MultiClass', eval_metric='MultiClass', verbose=False)\n",
    "\n",
    "# Fit the model\n",
    "model.fit(X_train_scaled, y_train_encoded)\n",
    "\n",
    "# Prediction and Evaluation\n",
    "y_pred = model.predict(X_test_scaled)\n",
    "y_pred_proba = model.predict_proba(X_test_scaled)\n",
    "print(classification_report(y_test_encoded, y_pred))\n",
    "\n",
    "# Calculate ROC AUC Score\n",
    "try:\n",
    "    roc_auc = roc_auc_score(y_test_encoded, y_pred_proba, multi_class='ovr')\n",
    "    print(f\"ROC AUC: {roc_auc}\")\n",
    "except ValueError as e:\n",
    "    print(\"Error calculating ROC AUC:\", e)\n",
    "\n",
    "# Other metrics\n",
    "accuracy = accuracy_score(y_test_encoded, y_pred)\n",
    "precision = precision_score(y_test_encoded, y_pred, average='macro')\n",
    "recall = recall_score(y_test_encoded, y_pred, average='macro')\n",
    "f1 = f1_score(y_test_encoded, y_pred, average='macro')\n",
    "roc_auc = roc_auc_score(y_test_encoded, y_pred_proba, multi_class='ovo')\n",
    "\n",
    "print(f\"Accuracy: {accuracy}\")\n",
    "print(f\"Precision: {precision}\")\n",
    "print(f\"Recall: {recall}\")\n",
    "print(f\"F1 Score: {f1}\")\n",
    "print(f\"ROC AUC: {roc_auc}\")\n",
    "\n"
   ],
   "metadata": {
    "collapsed": false,
    "ExecuteTime": {
     "end_time": "2023-12-21T15:58:01.191665300Z",
     "start_time": "2023-12-21T15:56:52.875618800Z"
    }
   },
   "id": "bc04e9c361caa1ef"
  },
  {
   "cell_type": "code",
   "execution_count": null,
   "outputs": [],
   "source": [
    "# compare both models\n",
    "from sklearn.metrics import classification_report, accuracy_score, precision_score, recall_score, f1_score, roc_auc_score, confusion_matrix\n",
    "from sklearn.preprocessing import StandardScaler\n",
    "\n"
   ],
   "metadata": {
    "collapsed": false
   },
   "id": "24ac14bb30f906e3"
  }
 ],
 "metadata": {
  "kernelspec": {
   "display_name": "Python 3",
   "language": "python",
   "name": "python3"
  },
  "language_info": {
   "codemirror_mode": {
    "name": "ipython",
    "version": 2
   },
   "file_extension": ".py",
   "mimetype": "text/x-python",
   "name": "python",
   "nbconvert_exporter": "python",
   "pygments_lexer": "ipython2",
   "version": "2.7.6"
  }
 },
 "nbformat": 4,
 "nbformat_minor": 5
}
