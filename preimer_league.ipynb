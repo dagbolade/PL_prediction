{
 "cells": [
  {
   "cell_type": "markdown",
   "source": [
    "# Premier League 2023-2024 prediction"
   ],
   "metadata": {
    "collapsed": false
   },
   "id": "69178bb516e1d6d3"
  },
  {
   "cell_type": "markdown",
   "source": [
    "## Importing libraries"
   ],
   "metadata": {
    "collapsed": false
   },
   "id": "93e4c314e429ce32"
  },
  {
   "cell_type": "code",
   "execution_count": null,
   "id": "initial_id",
   "metadata": {
    "collapsed": true
   },
   "outputs": [],
   "source": [
    "import pandas as pd\n",
    "import openpyxl"
   ]
  },
  {
   "cell_type": "code",
   "execution_count": null,
   "outputs": [],
   "source": [
    "# Importing the dataset and creating a dataframe\n",
    "df =  pd.read_excel('all-euro-data-2023-2024.xlsx', sheet_name='E0' )\n",
    "df.head()"
   ],
   "metadata": {
    "collapsed": false
   },
   "id": "3645d634c5813470"
  },
  {
   "cell_type": "code",
   "execution_count": null,
   "outputs": [],
   "source": [
    "# convert the dataframe to csv file\n",
    "df.to_csv('premier_league.csv')\n",
    "df_new = pd.read_csv('premier_league.csv')\n",
    "df_new.head()"
   ],
   "metadata": {
    "collapsed": false
   },
   "id": "b9720e92d7afb151"
  },
  {
   "cell_type": "code",
   "execution_count": null,
   "outputs": [],
   "source": [
    "# removing the first column\n",
    "df_new.drop(df_new.columns[0], axis=1, inplace=True)\n",
    "df_new.head()"
   ],
   "metadata": {
    "collapsed": false
   },
   "id": "e12588df19ee2296"
  },
  {
   "cell_type": "code",
   "execution_count": null,
   "outputs": [],
   "source": [
    "# save the new dataframe to csv file \n",
    "df_new.to_csv('premier_league.csv')\n",
    "df_new"
   ],
   "metadata": {
    "collapsed": false
   },
   "id": "d9cfa92b7850716a"
  },
  {
   "cell_type": "markdown",
   "source": [
    "## Data Preprocessing"
   ],
   "metadata": {
    "collapsed": false
   },
   "id": "db37ef466ab4489d"
  },
  {
   "cell_type": "code",
   "execution_count": null,
   "outputs": [],
   "source": [
    "# checking for missing values\n",
    "df_new.isnull().sum()\n"
   ],
   "metadata": {
    "collapsed": false
   },
   "id": "b00d6e40ebbadbd8"
  },
  {
   "cell_type": "code",
   "execution_count": null,
   "outputs": [],
   "source": [
    "# checking for duplicates\n",
    "df_new.duplicated().sum()\n"
   ],
   "metadata": {
    "collapsed": false
   },
   "id": "21ea8c731cb01e69"
  },
  {
   "cell_type": "code",
   "execution_count": null,
   "outputs": [],
   "source": [
    "# checking for outliers\n",
    "import matplotlib.pyplot as plt\n",
    "df_new.boxplot(figsize=(12,8))\n"
   ],
   "metadata": {
    "collapsed": false
   },
   "id": "f41dbf77108e3cb5"
  },
  {
   "cell_type": "markdown",
   "source": [
    "## Performing Exploratory Data Analysis"
   ],
   "metadata": {
    "collapsed": false
   },
   "id": "da1a69d61131ea30"
  },
  {
   "cell_type": "code",
   "execution_count": 46,
   "outputs": [
    {
     "name": "stdout",
     "output_type": "stream",
     "text": [
      "Total matches played: 169\n",
      "Teams involved: ['Burnley' 'Arsenal' 'Bournemouth' 'Brighton' 'Everton' 'Sheffield United'\n",
      " 'Newcastle' 'Brentford' 'Chelsea' 'Man United' \"Nott'm Forest\" 'Fulham'\n",
      " 'Liverpool' 'Wolves' 'Tottenham' 'Man City' 'Aston Villa' 'West Ham'\n",
      " 'Crystal Palace' 'Luton']\n"
     ]
    }
   ],
   "source": [
    "# checking the total matches played\n",
    "total_matches = df_new.shape[0]\n",
    "print('Total matches played:', total_matches)\n",
    "\n",
    "#checking the list of all teams involved\n",
    "teams = df_new['HomeTeam'].unique()\n",
    "print('Teams involved:', teams)\n"
   ],
   "metadata": {
    "collapsed": false,
    "ExecuteTime": {
     "end_time": "2023-12-19T13:53:46.320522700Z",
     "start_time": "2023-12-19T13:53:46.299366800Z"
    }
   },
   "id": "8ddd3d84c9793c7"
  },
  {
   "cell_type": "code",
   "execution_count": null,
   "outputs": [],
   "source": [],
   "metadata": {
    "collapsed": false
   },
   "id": "435d3e8d6c882933"
  }
 ],
 "metadata": {
  "kernelspec": {
   "display_name": "Python 3",
   "language": "python",
   "name": "python3"
  },
  "language_info": {
   "codemirror_mode": {
    "name": "ipython",
    "version": 2
   },
   "file_extension": ".py",
   "mimetype": "text/x-python",
   "name": "python",
   "nbconvert_exporter": "python",
   "pygments_lexer": "ipython2",
   "version": "2.7.6"
  }
 },
 "nbformat": 4,
 "nbformat_minor": 5
}
