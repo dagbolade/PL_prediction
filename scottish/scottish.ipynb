{
 "cells": [
  {
   "cell_type": "markdown",
   "source": [
    "# Scottish Premier League 2023/24"
   ],
   "metadata": {
    "collapsed": false
   },
   "id": "a71e028cb81707c9"
  },
  {
   "cell_type": "code",
   "execution_count": 2,
   "id": "initial_id",
   "metadata": {
    "collapsed": true,
    "ExecuteTime": {
     "end_time": "2023-12-27T17:51:57.100355Z",
     "start_time": "2023-12-27T17:51:56.959052400Z"
    }
   },
   "outputs": [
    {
     "data": {
      "text/plain": "     Div        Date   Time    HomeTeam      AwayTeam  FTHG  FTAG FTR  HTHG  \\\n104  SC0  23/12/2023  15:00      Celtic    Livingston     2     0   H     0   \n105  SC0  23/12/2023  15:00      Hearts     St Mirren     2     0   H     1   \n106  SC0  23/12/2023  15:00  Kilmarnock  St Johnstone     2     1   H     2   \n107  SC0  24/12/2023  12:00  Motherwell       Rangers     0     2   A     0   \n108  SC0  26/12/2023  15:00      Dundee        Celtic     0     3   A     0   \n\n     HTAG  ... AvgC<2.5  AHCh  B365CAHH  B365CAHA  PCAHH  PCAHA  MaxCAHH  \\\n104     0  ...     3.32 -2.75      1.95      1.90   1.93   1.93     2.03   \n105     0  ...     1.70 -0.50      1.88      1.98   1.90   2.01     1.94   \n106     0  ...     1.73 -0.75      1.83      2.03   1.88   2.03     1.90   \n107     2  ...     2.34  1.50      2.03      1.83   2.07   1.85     2.11   \n108     0  ...     2.65  1.75      1.88      1.98   1.90   1.99     1.92   \n\n     MaxCAHA  AvgCAHH  AvgCAHA  \n104     1.95     1.93     1.88  \n105     2.02     1.87     1.94  \n106     2.08     1.82     1.99  \n107     1.89     2.03     1.80  \n108     2.02     1.86     1.95  \n\n[5 rows x 106 columns]",
      "text/html": "<div>\n<style scoped>\n    .dataframe tbody tr th:only-of-type {\n        vertical-align: middle;\n    }\n\n    .dataframe tbody tr th {\n        vertical-align: top;\n    }\n\n    .dataframe thead th {\n        text-align: right;\n    }\n</style>\n<table border=\"1\" class=\"dataframe\">\n  <thead>\n    <tr style=\"text-align: right;\">\n      <th></th>\n      <th>Div</th>\n      <th>Date</th>\n      <th>Time</th>\n      <th>HomeTeam</th>\n      <th>AwayTeam</th>\n      <th>FTHG</th>\n      <th>FTAG</th>\n      <th>FTR</th>\n      <th>HTHG</th>\n      <th>HTAG</th>\n      <th>...</th>\n      <th>AvgC&lt;2.5</th>\n      <th>AHCh</th>\n      <th>B365CAHH</th>\n      <th>B365CAHA</th>\n      <th>PCAHH</th>\n      <th>PCAHA</th>\n      <th>MaxCAHH</th>\n      <th>MaxCAHA</th>\n      <th>AvgCAHH</th>\n      <th>AvgCAHA</th>\n    </tr>\n  </thead>\n  <tbody>\n    <tr>\n      <th>104</th>\n      <td>SC0</td>\n      <td>23/12/2023</td>\n      <td>15:00</td>\n      <td>Celtic</td>\n      <td>Livingston</td>\n      <td>2</td>\n      <td>0</td>\n      <td>H</td>\n      <td>0</td>\n      <td>0</td>\n      <td>...</td>\n      <td>3.32</td>\n      <td>-2.75</td>\n      <td>1.95</td>\n      <td>1.90</td>\n      <td>1.93</td>\n      <td>1.93</td>\n      <td>2.03</td>\n      <td>1.95</td>\n      <td>1.93</td>\n      <td>1.88</td>\n    </tr>\n    <tr>\n      <th>105</th>\n      <td>SC0</td>\n      <td>23/12/2023</td>\n      <td>15:00</td>\n      <td>Hearts</td>\n      <td>St Mirren</td>\n      <td>2</td>\n      <td>0</td>\n      <td>H</td>\n      <td>1</td>\n      <td>0</td>\n      <td>...</td>\n      <td>1.70</td>\n      <td>-0.50</td>\n      <td>1.88</td>\n      <td>1.98</td>\n      <td>1.90</td>\n      <td>2.01</td>\n      <td>1.94</td>\n      <td>2.02</td>\n      <td>1.87</td>\n      <td>1.94</td>\n    </tr>\n    <tr>\n      <th>106</th>\n      <td>SC0</td>\n      <td>23/12/2023</td>\n      <td>15:00</td>\n      <td>Kilmarnock</td>\n      <td>St Johnstone</td>\n      <td>2</td>\n      <td>1</td>\n      <td>H</td>\n      <td>2</td>\n      <td>0</td>\n      <td>...</td>\n      <td>1.73</td>\n      <td>-0.75</td>\n      <td>1.83</td>\n      <td>2.03</td>\n      <td>1.88</td>\n      <td>2.03</td>\n      <td>1.90</td>\n      <td>2.08</td>\n      <td>1.82</td>\n      <td>1.99</td>\n    </tr>\n    <tr>\n      <th>107</th>\n      <td>SC0</td>\n      <td>24/12/2023</td>\n      <td>12:00</td>\n      <td>Motherwell</td>\n      <td>Rangers</td>\n      <td>0</td>\n      <td>2</td>\n      <td>A</td>\n      <td>0</td>\n      <td>2</td>\n      <td>...</td>\n      <td>2.34</td>\n      <td>1.50</td>\n      <td>2.03</td>\n      <td>1.83</td>\n      <td>2.07</td>\n      <td>1.85</td>\n      <td>2.11</td>\n      <td>1.89</td>\n      <td>2.03</td>\n      <td>1.80</td>\n    </tr>\n    <tr>\n      <th>108</th>\n      <td>SC0</td>\n      <td>26/12/2023</td>\n      <td>15:00</td>\n      <td>Dundee</td>\n      <td>Celtic</td>\n      <td>0</td>\n      <td>3</td>\n      <td>A</td>\n      <td>0</td>\n      <td>0</td>\n      <td>...</td>\n      <td>2.65</td>\n      <td>1.75</td>\n      <td>1.88</td>\n      <td>1.98</td>\n      <td>1.90</td>\n      <td>1.99</td>\n      <td>1.92</td>\n      <td>2.02</td>\n      <td>1.86</td>\n      <td>1.95</td>\n    </tr>\n  </tbody>\n</table>\n<p>5 rows × 106 columns</p>\n</div>"
     },
     "execution_count": 2,
     "metadata": {},
     "output_type": "execute_result"
    }
   ],
   "source": [
    "import pandas as pd\n",
    "\n",
    "# Load the dataset from the excel file\n",
    "#file_path = 'all-euro-data-2023-2024.xlsx'\n",
    "#df = pd.read_excel(file_path, sheet_name='E0')\n",
    "\n",
    "# updating the dataset with the recent games played\n",
    "df = pd.read_csv('SC0.csv')\n",
    "\n",
    "# Display the first few rows of the dataset\n",
    "df.tail()"
   ]
  },
  {
   "cell_type": "code",
   "execution_count": 2,
   "outputs": [],
   "source": [],
   "metadata": {
    "collapsed": false,
    "ExecuteTime": {
     "end_time": "2023-12-27T17:51:57.103557200Z",
     "start_time": "2023-12-27T17:51:57.065148500Z"
    }
   },
   "id": "ab466b4e39ce4135"
  }
 ],
 "metadata": {
  "kernelspec": {
   "display_name": "Python 3",
   "language": "python",
   "name": "python3"
  },
  "language_info": {
   "codemirror_mode": {
    "name": "ipython",
    "version": 2
   },
   "file_extension": ".py",
   "mimetype": "text/x-python",
   "name": "python",
   "nbconvert_exporter": "python",
   "pygments_lexer": "ipython2",
   "version": "2.7.6"
  }
 },
 "nbformat": 4,
 "nbformat_minor": 5
}
