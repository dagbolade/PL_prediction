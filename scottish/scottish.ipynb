{
 "cells": [
  {
   "cell_type": "markdown",
   "source": [
    "# Scottish Premier League 2023/24"
   ],
   "metadata": {
    "collapsed": false
   },
   "id": "a71e028cb81707c9"
  },
  {
   "cell_type": "code",
   "execution_count": 38,
   "id": "initial_id",
   "metadata": {
    "collapsed": true,
    "ExecuteTime": {
     "end_time": "2023-12-27T19:40:35.217418900Z",
     "start_time": "2023-12-27T19:40:35.136516600Z"
    }
   },
   "outputs": [
    {
     "data": {
      "text/plain": "     Div        Date   Time    HomeTeam      AwayTeam  FTHG  FTAG FTR  HTHG  \\\n104  SC0  23/12/2023  15:00      Celtic    Livingston     2     0   H     0   \n105  SC0  23/12/2023  15:00      Hearts     St Mirren     2     0   H     1   \n106  SC0  23/12/2023  15:00  Kilmarnock  St Johnstone     2     1   H     2   \n107  SC0  24/12/2023  12:00  Motherwell       Rangers     0     2   A     0   \n108  SC0  26/12/2023  15:00      Dundee        Celtic     0     3   A     0   \n\n     HTAG  ... AvgC<2.5  AHCh  B365CAHH  B365CAHA  PCAHH  PCAHA  MaxCAHH  \\\n104     0  ...     3.32 -2.75      1.95      1.90   1.93   1.93     2.03   \n105     0  ...     1.70 -0.50      1.88      1.98   1.90   2.01     1.94   \n106     0  ...     1.73 -0.75      1.83      2.03   1.88   2.03     1.90   \n107     2  ...     2.34  1.50      2.03      1.83   2.07   1.85     2.11   \n108     0  ...     2.65  1.75      1.88      1.98   1.90   1.99     1.92   \n\n     MaxCAHA  AvgCAHH  AvgCAHA  \n104     1.95     1.93     1.88  \n105     2.02     1.87     1.94  \n106     2.08     1.82     1.99  \n107     1.89     2.03     1.80  \n108     2.02     1.86     1.95  \n\n[5 rows x 106 columns]",
      "text/html": "<div>\n<style scoped>\n    .dataframe tbody tr th:only-of-type {\n        vertical-align: middle;\n    }\n\n    .dataframe tbody tr th {\n        vertical-align: top;\n    }\n\n    .dataframe thead th {\n        text-align: right;\n    }\n</style>\n<table border=\"1\" class=\"dataframe\">\n  <thead>\n    <tr style=\"text-align: right;\">\n      <th></th>\n      <th>Div</th>\n      <th>Date</th>\n      <th>Time</th>\n      <th>HomeTeam</th>\n      <th>AwayTeam</th>\n      <th>FTHG</th>\n      <th>FTAG</th>\n      <th>FTR</th>\n      <th>HTHG</th>\n      <th>HTAG</th>\n      <th>...</th>\n      <th>AvgC&lt;2.5</th>\n      <th>AHCh</th>\n      <th>B365CAHH</th>\n      <th>B365CAHA</th>\n      <th>PCAHH</th>\n      <th>PCAHA</th>\n      <th>MaxCAHH</th>\n      <th>MaxCAHA</th>\n      <th>AvgCAHH</th>\n      <th>AvgCAHA</th>\n    </tr>\n  </thead>\n  <tbody>\n    <tr>\n      <th>104</th>\n      <td>SC0</td>\n      <td>23/12/2023</td>\n      <td>15:00</td>\n      <td>Celtic</td>\n      <td>Livingston</td>\n      <td>2</td>\n      <td>0</td>\n      <td>H</td>\n      <td>0</td>\n      <td>0</td>\n      <td>...</td>\n      <td>3.32</td>\n      <td>-2.75</td>\n      <td>1.95</td>\n      <td>1.90</td>\n      <td>1.93</td>\n      <td>1.93</td>\n      <td>2.03</td>\n      <td>1.95</td>\n      <td>1.93</td>\n      <td>1.88</td>\n    </tr>\n    <tr>\n      <th>105</th>\n      <td>SC0</td>\n      <td>23/12/2023</td>\n      <td>15:00</td>\n      <td>Hearts</td>\n      <td>St Mirren</td>\n      <td>2</td>\n      <td>0</td>\n      <td>H</td>\n      <td>1</td>\n      <td>0</td>\n      <td>...</td>\n      <td>1.70</td>\n      <td>-0.50</td>\n      <td>1.88</td>\n      <td>1.98</td>\n      <td>1.90</td>\n      <td>2.01</td>\n      <td>1.94</td>\n      <td>2.02</td>\n      <td>1.87</td>\n      <td>1.94</td>\n    </tr>\n    <tr>\n      <th>106</th>\n      <td>SC0</td>\n      <td>23/12/2023</td>\n      <td>15:00</td>\n      <td>Kilmarnock</td>\n      <td>St Johnstone</td>\n      <td>2</td>\n      <td>1</td>\n      <td>H</td>\n      <td>2</td>\n      <td>0</td>\n      <td>...</td>\n      <td>1.73</td>\n      <td>-0.75</td>\n      <td>1.83</td>\n      <td>2.03</td>\n      <td>1.88</td>\n      <td>2.03</td>\n      <td>1.90</td>\n      <td>2.08</td>\n      <td>1.82</td>\n      <td>1.99</td>\n    </tr>\n    <tr>\n      <th>107</th>\n      <td>SC0</td>\n      <td>24/12/2023</td>\n      <td>12:00</td>\n      <td>Motherwell</td>\n      <td>Rangers</td>\n      <td>0</td>\n      <td>2</td>\n      <td>A</td>\n      <td>0</td>\n      <td>2</td>\n      <td>...</td>\n      <td>2.34</td>\n      <td>1.50</td>\n      <td>2.03</td>\n      <td>1.83</td>\n      <td>2.07</td>\n      <td>1.85</td>\n      <td>2.11</td>\n      <td>1.89</td>\n      <td>2.03</td>\n      <td>1.80</td>\n    </tr>\n    <tr>\n      <th>108</th>\n      <td>SC0</td>\n      <td>26/12/2023</td>\n      <td>15:00</td>\n      <td>Dundee</td>\n      <td>Celtic</td>\n      <td>0</td>\n      <td>3</td>\n      <td>A</td>\n      <td>0</td>\n      <td>0</td>\n      <td>...</td>\n      <td>2.65</td>\n      <td>1.75</td>\n      <td>1.88</td>\n      <td>1.98</td>\n      <td>1.90</td>\n      <td>1.99</td>\n      <td>1.92</td>\n      <td>2.02</td>\n      <td>1.86</td>\n      <td>1.95</td>\n    </tr>\n  </tbody>\n</table>\n<p>5 rows × 106 columns</p>\n</div>"
     },
     "execution_count": 38,
     "metadata": {},
     "output_type": "execute_result"
    }
   ],
   "source": [
    "import pandas as pd\n",
    "\n",
    "# Load the dataset from the excel file\n",
    "#file_path = 'all-euro-data-2023-2024.xlsx'\n",
    "#df = pd.read_excel(file_path, sheet_name='E0')\n",
    "\n",
    "# updating the dataset with the recent games played\n",
    "df = pd.read_csv('SC0.csv')\n",
    "\n",
    "# Display the first few rows of the dataset\n",
    "df.tail()"
   ]
  },
  {
   "cell_type": "markdown",
   "source": [
    "## Data Preprocessing"
   ],
   "metadata": {
    "collapsed": false
   },
   "id": "a1ea0a3dec83337e"
  },
  {
   "cell_type": "code",
   "execution_count": 39,
   "outputs": [
    {
     "data": {
      "text/plain": "Div         0\nDate        0\nTime        0\nHomeTeam    0\nAwayTeam    0\n           ..\nPCAHA       0\nMaxCAHH     0\nMaxCAHA     0\nAvgCAHH     0\nAvgCAHA     0\nLength: 106, dtype: int64"
     },
     "execution_count": 39,
     "metadata": {},
     "output_type": "execute_result"
    }
   ],
   "source": [
    "# check for missing values\n",
    "df.isnull().sum()\n",
    "\n"
   ],
   "metadata": {
    "collapsed": false,
    "ExecuteTime": {
     "end_time": "2023-12-27T19:40:35.238564200Z",
     "start_time": "2023-12-27T19:40:35.223348900Z"
    }
   },
   "id": "3efeb76f3b1dfc0d"
  },
  {
   "cell_type": "code",
   "execution_count": 40,
   "outputs": [
    {
     "name": "stdout",
     "output_type": "stream",
     "text": [
      "<class 'pandas.core.frame.DataFrame'>\n",
      "RangeIndex: 109 entries, 0 to 108\n",
      "Columns: 106 entries, Div to AvgCAHA\n",
      "dtypes: datetime64[ns](1), float64(82), int64(16), object(7)\n",
      "memory usage: 90.4+ KB\n"
     ]
    },
    {
     "data": {
      "text/plain": "   Div       Date   Time      HomeTeam     AwayTeam  FTHG  FTAG FTR  HTHG  \\\n0  SC0 2023-08-05  12:30        Celtic  Ross County     4     2   H     3   \n1  SC0 2023-08-05  15:00        Dundee   Motherwell     1     1   D     0   \n2  SC0 2023-08-05  15:00    Livingston     Aberdeen     0     0   D     0   \n3  SC0 2023-08-05  15:00  St Johnstone       Hearts     0     2   A     0   \n4  SC0 2023-08-05  17:15    Kilmarnock      Rangers     1     0   H     0   \n\n   HTAG  ... AvgC<2.5  AHCh  B365CAHH  B365CAHA  PCAHH  PCAHA  MaxCAHH  \\\n0     0  ...     4.18 -3.00      1.93      1.93   1.96   1.91     2.19   \n1     1  ...     1.66 -0.25      1.98      1.88   2.04   1.88     2.07   \n2     0  ...     1.69  0.00      1.95      1.90   2.03   1.88     2.04   \n3     0  ...     1.73  0.25      2.03      1.83   2.03   1.88     2.11   \n4     0  ...     2.21  1.25      2.03      1.83   2.04   1.87     2.09   \n\n   MaxCAHA  AvgCAHH  AvgCAHA  \n0     1.95     1.97     1.84  \n1     1.93     1.97     1.85  \n2     1.95     1.97     1.85  \n3     1.88     2.01     1.80  \n4     1.90     1.97     1.84  \n\n[5 rows x 106 columns]",
      "text/html": "<div>\n<style scoped>\n    .dataframe tbody tr th:only-of-type {\n        vertical-align: middle;\n    }\n\n    .dataframe tbody tr th {\n        vertical-align: top;\n    }\n\n    .dataframe thead th {\n        text-align: right;\n    }\n</style>\n<table border=\"1\" class=\"dataframe\">\n  <thead>\n    <tr style=\"text-align: right;\">\n      <th></th>\n      <th>Div</th>\n      <th>Date</th>\n      <th>Time</th>\n      <th>HomeTeam</th>\n      <th>AwayTeam</th>\n      <th>FTHG</th>\n      <th>FTAG</th>\n      <th>FTR</th>\n      <th>HTHG</th>\n      <th>HTAG</th>\n      <th>...</th>\n      <th>AvgC&lt;2.5</th>\n      <th>AHCh</th>\n      <th>B365CAHH</th>\n      <th>B365CAHA</th>\n      <th>PCAHH</th>\n      <th>PCAHA</th>\n      <th>MaxCAHH</th>\n      <th>MaxCAHA</th>\n      <th>AvgCAHH</th>\n      <th>AvgCAHA</th>\n    </tr>\n  </thead>\n  <tbody>\n    <tr>\n      <th>0</th>\n      <td>SC0</td>\n      <td>2023-08-05</td>\n      <td>12:30</td>\n      <td>Celtic</td>\n      <td>Ross County</td>\n      <td>4</td>\n      <td>2</td>\n      <td>H</td>\n      <td>3</td>\n      <td>0</td>\n      <td>...</td>\n      <td>4.18</td>\n      <td>-3.00</td>\n      <td>1.93</td>\n      <td>1.93</td>\n      <td>1.96</td>\n      <td>1.91</td>\n      <td>2.19</td>\n      <td>1.95</td>\n      <td>1.97</td>\n      <td>1.84</td>\n    </tr>\n    <tr>\n      <th>1</th>\n      <td>SC0</td>\n      <td>2023-08-05</td>\n      <td>15:00</td>\n      <td>Dundee</td>\n      <td>Motherwell</td>\n      <td>1</td>\n      <td>1</td>\n      <td>D</td>\n      <td>0</td>\n      <td>1</td>\n      <td>...</td>\n      <td>1.66</td>\n      <td>-0.25</td>\n      <td>1.98</td>\n      <td>1.88</td>\n      <td>2.04</td>\n      <td>1.88</td>\n      <td>2.07</td>\n      <td>1.93</td>\n      <td>1.97</td>\n      <td>1.85</td>\n    </tr>\n    <tr>\n      <th>2</th>\n      <td>SC0</td>\n      <td>2023-08-05</td>\n      <td>15:00</td>\n      <td>Livingston</td>\n      <td>Aberdeen</td>\n      <td>0</td>\n      <td>0</td>\n      <td>D</td>\n      <td>0</td>\n      <td>0</td>\n      <td>...</td>\n      <td>1.69</td>\n      <td>0.00</td>\n      <td>1.95</td>\n      <td>1.90</td>\n      <td>2.03</td>\n      <td>1.88</td>\n      <td>2.04</td>\n      <td>1.95</td>\n      <td>1.97</td>\n      <td>1.85</td>\n    </tr>\n    <tr>\n      <th>3</th>\n      <td>SC0</td>\n      <td>2023-08-05</td>\n      <td>15:00</td>\n      <td>St Johnstone</td>\n      <td>Hearts</td>\n      <td>0</td>\n      <td>2</td>\n      <td>A</td>\n      <td>0</td>\n      <td>0</td>\n      <td>...</td>\n      <td>1.73</td>\n      <td>0.25</td>\n      <td>2.03</td>\n      <td>1.83</td>\n      <td>2.03</td>\n      <td>1.88</td>\n      <td>2.11</td>\n      <td>1.88</td>\n      <td>2.01</td>\n      <td>1.80</td>\n    </tr>\n    <tr>\n      <th>4</th>\n      <td>SC0</td>\n      <td>2023-08-05</td>\n      <td>17:15</td>\n      <td>Kilmarnock</td>\n      <td>Rangers</td>\n      <td>1</td>\n      <td>0</td>\n      <td>H</td>\n      <td>0</td>\n      <td>0</td>\n      <td>...</td>\n      <td>2.21</td>\n      <td>1.25</td>\n      <td>2.03</td>\n      <td>1.83</td>\n      <td>2.04</td>\n      <td>1.87</td>\n      <td>2.09</td>\n      <td>1.90</td>\n      <td>1.97</td>\n      <td>1.84</td>\n    </tr>\n  </tbody>\n</table>\n<p>5 rows × 106 columns</p>\n</div>"
     },
     "execution_count": 40,
     "metadata": {},
     "output_type": "execute_result"
    }
   ],
   "source": [
    "# Dropping columns with a high number of missing values or irrelevant to our analysis\n",
    "irrelevant_columns = df.columns[df.isnull().sum() > (0.5 * len(df))]  # Columns with more than 50% missing values\n",
    "df_cleaned = df.drop(columns=irrelevant_columns)\n",
    "\n",
    "# Convert 'Date' to datetime\n",
    "df_cleaned['Date'] = pd.to_datetime(df_cleaned['Date'], format='%d/%m/%Y')\n",
    "\n",
    "# Fill missing values in other relevant columns with appropriate values (like median or mode)\n",
    "# For numerical columns, we use median and for categorical, we use mode\n",
    "for column in df_cleaned.columns:\n",
    "    if df_cleaned[column].dtype == 'object':\n",
    "        df_cleaned[column].fillna(df_cleaned[column].mode()[0], inplace=True)\n",
    "    else:\n",
    "        df_cleaned[column].fillna(df_cleaned[column].median(), inplace=True)\n",
    "\n",
    "# Recheck for missing values\n",
    "remaining_missing_values = df_cleaned.isnull().sum().sum()\n",
    "\n",
    "# Basic information after cleaning\n",
    "remaining_missing_values, df_cleaned.info()\n",
    "\n",
    "df_cleaned.head()\n"
   ],
   "metadata": {
    "collapsed": false,
    "ExecuteTime": {
     "end_time": "2023-12-27T19:40:35.335537900Z",
     "start_time": "2023-12-27T19:40:35.230346500Z"
    }
   },
   "id": "d66bf440e76f6ce9"
  },
  {
   "cell_type": "code",
   "execution_count": 41,
   "outputs": [],
   "source": [
    "# Feature Engineering"
   ],
   "metadata": {
    "collapsed": false,
    "ExecuteTime": {
     "end_time": "2023-12-27T19:40:35.336540200Z",
     "start_time": "2023-12-27T19:40:35.282536200Z"
    }
   },
   "id": "d14e640b05b96fbb"
  },
  {
   "cell_type": "code",
   "execution_count": 42,
   "outputs": [],
   "source": [
    "# recent form\n",
    "# function to calculate recent form\n",
    "def calculate_form_points(team, df_cleaned, num_matches=5):\n",
    "    # Filter the matches for the team\n",
    "    team_matches = df_cleaned[(df_cleaned['HomeTeam'] == team) | (df_cleaned['AwayTeam'] == team)]\n",
    "    # Sort by date to get the most recent matches\n",
    "    team_matches = team_matches.sort_values(by='Date', ascending=False)\n",
    "    # Get the last 'num_matches' matches\n",
    "    recent_matches = team_matches.head(num_matches)\n",
    "    # Calculate form points\n",
    "    form_points = 0\n",
    "    for _, row in recent_matches.iterrows():\n",
    "        if row['HomeTeam'] == team and row['FTR'] == 'H':\n",
    "            form_points += 3\n",
    "        elif row['AwayTeam'] == team and row['FTR'] == 'A':\n",
    "            form_points += 3\n",
    "        elif row['FTR'] == 'D':\n",
    "            form_points += 1\n",
    "    return form_points\n",
    "\n",
    "# Apply the function to get recent form for each team in each match\n",
    "df_cleaned['HomeTeamRecentForm'] = df_cleaned.apply(lambda x: calculate_form_points(x['HomeTeam'], df_cleaned), axis=1)\n",
    "df_cleaned['AwayTeamRecentForm'] = df_cleaned.apply(lambda x: calculate_form_points(x['AwayTeam'], df_cleaned), axis=1)\n",
    "\n",
    "# Average Goals per Game\n",
    "df_cleaned['HomeTeamAvgGoals'] = df_cleaned.groupby('HomeTeam')['FTHG'].transform('mean')\n",
    "df_cleaned['AwayTeamAvgGoals'] = df_cleaned.groupby('AwayTeam')['FTAG'].transform('mean')\n",
    "\n",
    "# half time average goals\n",
    "df_cleaned['HomeTeamAvgGoalsHT'] = df_cleaned.groupby('HomeTeam')['HTHG'].transform('mean')\n",
    "df_cleaned['AwayTeamAvgGoalsHT'] = df_cleaned.groupby('AwayTeam')['HTAG'].transform('mean')"
   ],
   "metadata": {
    "collapsed": false,
    "ExecuteTime": {
     "end_time": "2023-12-27T19:40:35.573351200Z",
     "start_time": "2023-12-27T19:40:35.289653800Z"
    }
   },
   "id": "c45569405d654571"
  },
  {
   "cell_type": "code",
   "execution_count": 43,
   "outputs": [],
   "source": [
    "# average goals conceded\n",
    "def average_goals_conceded(df, team, home_or_away):\n",
    "    if home_or_away == 'home':\n",
    "        # Goals conceded at home = Full Time Away Goals when this team is home\n",
    "        goals_conceded = df[df['HomeTeam'] == team]['FTAG'].mean()\n",
    "    else:\n",
    "        # Goals conceded away = Full Time Home Goals when this team is away\n",
    "        goals_conceded = df[df['AwayTeam'] == team]['FTHG'].mean()\n",
    "    return goals_conceded\n",
    "\n",
    "df_cleaned['HomeTeamAvgGoalsConceded'] = df_cleaned['HomeTeam'].apply(lambda x: average_goals_conceded(df_cleaned, x, 'home'))\n",
    "df_cleaned['AwayTeamAvgGoalsConceded'] = df_cleaned['AwayTeam'].apply(lambda x: average_goals_conceded(df_cleaned, x, 'away'))\n"
   ],
   "metadata": {
    "collapsed": false,
    "ExecuteTime": {
     "end_time": "2023-12-27T19:40:35.683850400Z",
     "start_time": "2023-12-27T19:40:35.574353200Z"
    }
   },
   "id": "852395ab8858c114"
  },
  {
   "cell_type": "code",
   "execution_count": null,
   "outputs": [],
   "source": [
    "print(df_cleaned.head())"
   ],
   "metadata": {
    "collapsed": false
   },
   "id": "b64519be7d9be5a2"
  },
  {
   "cell_type": "code",
   "execution_count": 49,
   "outputs": [
    {
     "data": {
      "text/plain": "              Points  GoalDiff  GoalsScored\nCeltic            48        34           48\nRangers           43        29           37\nHearts            29         4           19\nKilmarnock        27         2           20\nSt Mirren         26        -3           21\nHibernian         24        -2           24\nDundee            21        -6           20\nAberdeen          19        -7           19\nSt Johnstone      18       -14           13\nRoss County       17        -9           15\nMotherwell        16       -11           20\nLivingston        11       -17           10",
      "text/html": "<div>\n<style scoped>\n    .dataframe tbody tr th:only-of-type {\n        vertical-align: middle;\n    }\n\n    .dataframe tbody tr th {\n        vertical-align: top;\n    }\n\n    .dataframe thead th {\n        text-align: right;\n    }\n</style>\n<table border=\"1\" class=\"dataframe\">\n  <thead>\n    <tr style=\"text-align: right;\">\n      <th></th>\n      <th>Points</th>\n      <th>GoalDiff</th>\n      <th>GoalsScored</th>\n    </tr>\n  </thead>\n  <tbody>\n    <tr>\n      <th>Celtic</th>\n      <td>48</td>\n      <td>34</td>\n      <td>48</td>\n    </tr>\n    <tr>\n      <th>Rangers</th>\n      <td>43</td>\n      <td>29</td>\n      <td>37</td>\n    </tr>\n    <tr>\n      <th>Hearts</th>\n      <td>29</td>\n      <td>4</td>\n      <td>19</td>\n    </tr>\n    <tr>\n      <th>Kilmarnock</th>\n      <td>27</td>\n      <td>2</td>\n      <td>20</td>\n    </tr>\n    <tr>\n      <th>St Mirren</th>\n      <td>26</td>\n      <td>-3</td>\n      <td>21</td>\n    </tr>\n    <tr>\n      <th>Hibernian</th>\n      <td>24</td>\n      <td>-2</td>\n      <td>24</td>\n    </tr>\n    <tr>\n      <th>Dundee</th>\n      <td>21</td>\n      <td>-6</td>\n      <td>20</td>\n    </tr>\n    <tr>\n      <th>Aberdeen</th>\n      <td>19</td>\n      <td>-7</td>\n      <td>19</td>\n    </tr>\n    <tr>\n      <th>St Johnstone</th>\n      <td>18</td>\n      <td>-14</td>\n      <td>13</td>\n    </tr>\n    <tr>\n      <th>Ross County</th>\n      <td>17</td>\n      <td>-9</td>\n      <td>15</td>\n    </tr>\n    <tr>\n      <th>Motherwell</th>\n      <td>16</td>\n      <td>-11</td>\n      <td>20</td>\n    </tr>\n    <tr>\n      <th>Livingston</th>\n      <td>11</td>\n      <td>-17</td>\n      <td>10</td>\n    </tr>\n  </tbody>\n</table>\n</div>"
     },
     "execution_count": 49,
     "metadata": {},
     "output_type": "execute_result"
    }
   ],
   "source": [
    "# get the current league table\n",
    "def calculate_points_goals(row):\n",
    "    home_points, away_points = 0, 0\n",
    "    home_goal_diff = row['FTHG'] - row['FTAG']\n",
    "    away_goal_diff = row['FTAG'] - row['FTHG']\n",
    "\n",
    "    if row['FTR'] == 'H':\n",
    "        home_points = 3\n",
    "    elif row['FTR'] == 'A':\n",
    "        away_points = 3\n",
    "    else:\n",
    "        home_points = away_points = 1\n",
    "\n",
    "    return pd.Series([home_points, away_points, home_goal_diff, away_goal_diff, row['FTHG'], row['FTAG']])\n",
    "\n",
    "# List of teams\n",
    "teams = df_cleaned['HomeTeam'].unique()\n",
    "\n",
    "# Applying the function to the dataset\n",
    "df_cleaned[['HomePoints', 'AwayPoints', 'HomeGoalDiff', 'AwayGoalDiff', 'HomeGoals', 'AwayGoals']] = df_cleaned.apply(calculate_points_goals, axis=1)\n",
    "\n",
    "# Summarizing the data for each team\n",
    "team_stats = pd.DataFrame(index=teams)\n",
    "\n",
    "# Calculating total points, goal difference, and goals scored for each team\n",
    "team_stats['Points'] = df_cleaned.groupby('HomeTeam')['HomePoints'].sum() + df_cleaned.groupby('AwayTeam')['AwayPoints'].sum()\n",
    "team_stats['GoalDiff'] = df_cleaned.groupby('HomeTeam')['HomeGoalDiff'].sum() + df_cleaned.groupby('AwayTeam')['AwayGoalDiff'].sum()\n",
    "team_stats['GoalsScored'] = df_cleaned.groupby('HomeTeam')['HomeGoals'].sum() + df_cleaned.groupby('AwayTeam')['AwayGoals'].sum()\n",
    "\n",
    "# Sorting the teams based on Points, Goal Difference, and Goals Scored\n",
    "sorted_teams = team_stats.sort_values(by=['Points', 'GoalDiff', 'GoalsScored'], ascending=[False, False, False])\n",
    "\n",
    "sorted_teams.head(12)"
   ],
   "metadata": {
    "collapsed": false,
    "ExecuteTime": {
     "end_time": "2023-12-27T21:28:11.692229300Z",
     "start_time": "2023-12-27T21:28:11.507249300Z"
    }
   },
   "id": "ffed0370b65233bd"
  },
  {
   "cell_type": "code",
   "execution_count": 50,
   "outputs": [],
   "source": [
    "# fit the label encoder\n",
    "from sklearn.preprocessing import LabelEncoder\n",
    "le = LabelEncoder()\n",
    "df_cleaned['HomeTeam'] = le.fit_transform(df_cleaned['HomeTeam'])\n",
    "df_cleaned['AwayTeam'] = le.transform(df_cleaned['AwayTeam'])\n"
   ],
   "metadata": {
    "collapsed": false,
    "ExecuteTime": {
     "end_time": "2023-12-28T14:13:09.650857900Z",
     "start_time": "2023-12-28T14:13:09.600519600Z"
    }
   },
   "id": "377208f415cd363d"
  },
  {
   "cell_type": "markdown",
   "source": [
    "### Data Preprocessing"
   ],
   "metadata": {
    "collapsed": false
   },
   "id": "99f18bf1dd203b0"
  },
  {
   "cell_type": "code",
   "execution_count": null,
   "outputs": [],
   "source": [
    "from sklearn.model_selection import train_test_split\n",
    "from sklearn.preprocessing import StandardScaler\n",
    "from imblearn.over_sampling import SMOTE\n",
    "\n",
    "# select the features and target\n",
    "features = ['HomeTeam', 'AwayTeam', 'HomeTeamRecentForm', 'AwayTeamRecentForm', 'HomeTeamAvgGoals', 'AwayTeamAvgGoals', 'HomeTeamAvgGoalsHT', 'AwayTeamAvgGoalsHT', 'HomeTeamAvgGoalsConceded', 'AwayTeamAvgGoalsConceded']\n",
    "target = 'FTR'\n",
    "\n",
    "# split the data into train and test sets\n",
    "X_train, X_test, y_train, y_test = train_test_split(df_cleaned[features], df_cleaned[target], test_size=0.2, random_state=42)"
   ],
   "metadata": {
    "collapsed": false
   },
   "id": "868d2af0c83229fc"
  }
 ],
 "metadata": {
  "kernelspec": {
   "display_name": "Python 3",
   "language": "python",
   "name": "python3"
  },
  "language_info": {
   "codemirror_mode": {
    "name": "ipython",
    "version": 2
   },
   "file_extension": ".py",
   "mimetype": "text/x-python",
   "name": "python",
   "nbconvert_exporter": "python",
   "pygments_lexer": "ipython2",
   "version": "2.7.6"
  }
 },
 "nbformat": 4,
 "nbformat_minor": 5
}
