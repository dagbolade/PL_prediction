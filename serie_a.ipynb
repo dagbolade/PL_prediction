{
 "cells": [
  {
   "cell_type": "markdown",
   "source": [
    "# Championship 2023-2024 Predictions"
   ],
   "metadata": {
    "collapsed": false
   },
   "id": "2043b1fe4e1c4d13"
  },
  {
   "cell_type": "code",
   "execution_count": 114,
   "id": "initial_id",
   "metadata": {
    "collapsed": true,
    "ExecuteTime": {
     "end_time": "2023-12-29T00:09:20.776650700Z",
     "start_time": "2023-12-29T00:09:20.586359800Z"
    }
   },
   "outputs": [
    {
     "data": {
      "text/plain": "    Div        Date   Time     HomeTeam      AwayTeam  FTHG  FTAG FTR  HTHG  \\\n283  E1  26/12/2023  15:00  Southampton       Swansea     5     0   H     1   \n284  E1  26/12/2023  15:00      Watford  Bristol City     1     4   A     0   \n285  E1  26/12/2023  15:00    West Brom       Norwich     1     0   H     0   \n286  E1  26/12/2023  17:15   Birmingham         Stoke     1     3   A     0   \n287  E1  26/12/2023  19:45      Ipswich     Leicester     1     1   D     0   \n\n     HTAG  ... AvgC<2.5  AHCh  B365CAHH  B365CAHA  PCAHH  PCAHA  MaxCAHH  \\\n283     0  ...     2.37 -1.25      1.95      1.95   1.94   1.96     2.09   \n284     2  ...     1.78 -0.50      1.95      1.95   1.97   1.93     1.98   \n285     0  ...     1.86 -0.50      1.92      1.98   1.93   1.97     1.95   \n286     2  ...     1.84  0.00      2.04      1.86   2.07   1.85     2.07   \n287     1  ...     2.01  0.25      1.87      2.03   1.88   2.00     1.97   \n\n     MaxCAHA  AvgCAHH  AvgCAHA  \n283     1.98     1.97     1.87  \n284     1.97     1.94     1.90  \n285     2.00     1.91     1.92  \n286     1.90     2.01     1.84  \n287     2.04     1.87     1.96  \n\n[5 rows x 106 columns]",
      "text/html": "<div>\n<style scoped>\n    .dataframe tbody tr th:only-of-type {\n        vertical-align: middle;\n    }\n\n    .dataframe tbody tr th {\n        vertical-align: top;\n    }\n\n    .dataframe thead th {\n        text-align: right;\n    }\n</style>\n<table border=\"1\" class=\"dataframe\">\n  <thead>\n    <tr style=\"text-align: right;\">\n      <th></th>\n      <th>Div</th>\n      <th>Date</th>\n      <th>Time</th>\n      <th>HomeTeam</th>\n      <th>AwayTeam</th>\n      <th>FTHG</th>\n      <th>FTAG</th>\n      <th>FTR</th>\n      <th>HTHG</th>\n      <th>HTAG</th>\n      <th>...</th>\n      <th>AvgC&lt;2.5</th>\n      <th>AHCh</th>\n      <th>B365CAHH</th>\n      <th>B365CAHA</th>\n      <th>PCAHH</th>\n      <th>PCAHA</th>\n      <th>MaxCAHH</th>\n      <th>MaxCAHA</th>\n      <th>AvgCAHH</th>\n      <th>AvgCAHA</th>\n    </tr>\n  </thead>\n  <tbody>\n    <tr>\n      <th>283</th>\n      <td>E1</td>\n      <td>26/12/2023</td>\n      <td>15:00</td>\n      <td>Southampton</td>\n      <td>Swansea</td>\n      <td>5</td>\n      <td>0</td>\n      <td>H</td>\n      <td>1</td>\n      <td>0</td>\n      <td>...</td>\n      <td>2.37</td>\n      <td>-1.25</td>\n      <td>1.95</td>\n      <td>1.95</td>\n      <td>1.94</td>\n      <td>1.96</td>\n      <td>2.09</td>\n      <td>1.98</td>\n      <td>1.97</td>\n      <td>1.87</td>\n    </tr>\n    <tr>\n      <th>284</th>\n      <td>E1</td>\n      <td>26/12/2023</td>\n      <td>15:00</td>\n      <td>Watford</td>\n      <td>Bristol City</td>\n      <td>1</td>\n      <td>4</td>\n      <td>A</td>\n      <td>0</td>\n      <td>2</td>\n      <td>...</td>\n      <td>1.78</td>\n      <td>-0.50</td>\n      <td>1.95</td>\n      <td>1.95</td>\n      <td>1.97</td>\n      <td>1.93</td>\n      <td>1.98</td>\n      <td>1.97</td>\n      <td>1.94</td>\n      <td>1.90</td>\n    </tr>\n    <tr>\n      <th>285</th>\n      <td>E1</td>\n      <td>26/12/2023</td>\n      <td>15:00</td>\n      <td>West Brom</td>\n      <td>Norwich</td>\n      <td>1</td>\n      <td>0</td>\n      <td>H</td>\n      <td>0</td>\n      <td>0</td>\n      <td>...</td>\n      <td>1.86</td>\n      <td>-0.50</td>\n      <td>1.92</td>\n      <td>1.98</td>\n      <td>1.93</td>\n      <td>1.97</td>\n      <td>1.95</td>\n      <td>2.00</td>\n      <td>1.91</td>\n      <td>1.92</td>\n    </tr>\n    <tr>\n      <th>286</th>\n      <td>E1</td>\n      <td>26/12/2023</td>\n      <td>17:15</td>\n      <td>Birmingham</td>\n      <td>Stoke</td>\n      <td>1</td>\n      <td>3</td>\n      <td>A</td>\n      <td>0</td>\n      <td>2</td>\n      <td>...</td>\n      <td>1.84</td>\n      <td>0.00</td>\n      <td>2.04</td>\n      <td>1.86</td>\n      <td>2.07</td>\n      <td>1.85</td>\n      <td>2.07</td>\n      <td>1.90</td>\n      <td>2.01</td>\n      <td>1.84</td>\n    </tr>\n    <tr>\n      <th>287</th>\n      <td>E1</td>\n      <td>26/12/2023</td>\n      <td>19:45</td>\n      <td>Ipswich</td>\n      <td>Leicester</td>\n      <td>1</td>\n      <td>1</td>\n      <td>D</td>\n      <td>0</td>\n      <td>1</td>\n      <td>...</td>\n      <td>2.01</td>\n      <td>0.25</td>\n      <td>1.87</td>\n      <td>2.03</td>\n      <td>1.88</td>\n      <td>2.00</td>\n      <td>1.97</td>\n      <td>2.04</td>\n      <td>1.87</td>\n      <td>1.96</td>\n    </tr>\n  </tbody>\n</table>\n<p>5 rows × 106 columns</p>\n</div>"
     },
     "execution_count": 114,
     "metadata": {},
     "output_type": "execute_result"
    }
   ],
   "source": [
    "# import data\n",
    "import pandas as pd\n",
    "import numpy as np\n",
    "\n",
    "df = pd.read_csv('E1.csv')\n",
    "df.tail()"
   ]
  },
  {
   "cell_type": "code",
   "execution_count": 115,
   "outputs": [],
   "source": [
    "## Data Cleaning"
   ],
   "metadata": {
    "collapsed": false,
    "ExecuteTime": {
     "end_time": "2023-12-29T00:09:20.819686300Z",
     "start_time": "2023-12-29T00:09:20.763926300Z"
    }
   },
   "id": "c27a39651ea01908"
  },
  {
   "cell_type": "code",
   "execution_count": 116,
   "outputs": [
    {
     "data": {
      "text/plain": "(Div         0\n Date        0\n Time        0\n HomeTeam    0\n AwayTeam    0\n            ..\n PCAHA       0\n MaxCAHH     0\n MaxCAHA     0\n AvgCAHH     0\n AvgCAHA     0\n Length: 106, dtype: int64,\n 0)"
     },
     "execution_count": 116,
     "metadata": {},
     "output_type": "execute_result"
    }
   ],
   "source": [
    "# steps:\n",
    "# 1. Check for missing values\n",
    "missing_values = df.isnull().sum()\n",
    "\n",
    "# 2. Check for duplicates\n",
    "duplicate_rows = df.duplicated().sum()\n",
    "\n",
    "# Display the results of the checks\n",
    "missing_values, duplicate_rows"
   ],
   "metadata": {
    "collapsed": false,
    "ExecuteTime": {
     "end_time": "2023-12-29T00:09:20.857927700Z",
     "start_time": "2023-12-29T00:09:20.795418400Z"
    }
   },
   "id": "594bb92f2a11837b"
  },
  {
   "cell_type": "code",
   "execution_count": 117,
   "outputs": [
    {
     "name": "stdout",
     "output_type": "stream",
     "text": [
      "<class 'pandas.core.frame.DataFrame'>\n",
      "RangeIndex: 288 entries, 0 to 287\n",
      "Columns: 106 entries, Div to AvgCAHA\n",
      "dtypes: float64(82), int64(16), object(8)\n",
      "memory usage: 238.6+ KB\n"
     ]
    },
    {
     "data": {
      "text/plain": "  Div        Date   Time        HomeTeam     AwayTeam  FTHG  FTAG FTR  HTHG  \\\n0  E1  04/08/2023  20:00  Sheffield Weds  Southampton     1     2   A     0   \n1  E1  05/08/2023  15:00       Blackburn    West Brom     2     1   H     2   \n2  E1  05/08/2023  15:00    Bristol City      Preston     1     1   D     0   \n3  E1  05/08/2023  15:00   Middlesbrough     Millwall     0     1   A     0   \n4  E1  05/08/2023  15:00         Norwich         Hull     2     1   H     1   \n\n   HTAG  ... AvgC<2.5  AHCh  B365CAHH  B365CAHA  PCAHH  PCAHA  MaxCAHH  \\\n0     1  ...     1.83  0.25      1.91      1.99   1.93   2.00     1.97   \n1     0  ...     1.70  0.00      2.05      1.85   2.07   1.85     2.10   \n2     0  ...     1.68 -0.25      1.82      2.08   1.84   2.08     1.88   \n3     0  ...     1.77 -0.25      1.80      2.10   1.83   2.10     1.91   \n4     1  ...     1.92 -0.75      2.06      1.84   2.05   1.86     2.10   \n\n   MaxCAHA  AvgCAHH  AvgCAHA  \n0     2.00     1.88     1.95  \n1     1.88     2.03     1.82  \n2     2.15     1.80     2.04  \n3     2.14     1.85     1.99  \n4     1.91     2.01     1.83  \n\n[5 rows x 106 columns]",
      "text/html": "<div>\n<style scoped>\n    .dataframe tbody tr th:only-of-type {\n        vertical-align: middle;\n    }\n\n    .dataframe tbody tr th {\n        vertical-align: top;\n    }\n\n    .dataframe thead th {\n        text-align: right;\n    }\n</style>\n<table border=\"1\" class=\"dataframe\">\n  <thead>\n    <tr style=\"text-align: right;\">\n      <th></th>\n      <th>Div</th>\n      <th>Date</th>\n      <th>Time</th>\n      <th>HomeTeam</th>\n      <th>AwayTeam</th>\n      <th>FTHG</th>\n      <th>FTAG</th>\n      <th>FTR</th>\n      <th>HTHG</th>\n      <th>HTAG</th>\n      <th>...</th>\n      <th>AvgC&lt;2.5</th>\n      <th>AHCh</th>\n      <th>B365CAHH</th>\n      <th>B365CAHA</th>\n      <th>PCAHH</th>\n      <th>PCAHA</th>\n      <th>MaxCAHH</th>\n      <th>MaxCAHA</th>\n      <th>AvgCAHH</th>\n      <th>AvgCAHA</th>\n    </tr>\n  </thead>\n  <tbody>\n    <tr>\n      <th>0</th>\n      <td>E1</td>\n      <td>04/08/2023</td>\n      <td>20:00</td>\n      <td>Sheffield Weds</td>\n      <td>Southampton</td>\n      <td>1</td>\n      <td>2</td>\n      <td>A</td>\n      <td>0</td>\n      <td>1</td>\n      <td>...</td>\n      <td>1.83</td>\n      <td>0.25</td>\n      <td>1.91</td>\n      <td>1.99</td>\n      <td>1.93</td>\n      <td>2.00</td>\n      <td>1.97</td>\n      <td>2.00</td>\n      <td>1.88</td>\n      <td>1.95</td>\n    </tr>\n    <tr>\n      <th>1</th>\n      <td>E1</td>\n      <td>05/08/2023</td>\n      <td>15:00</td>\n      <td>Blackburn</td>\n      <td>West Brom</td>\n      <td>2</td>\n      <td>1</td>\n      <td>H</td>\n      <td>2</td>\n      <td>0</td>\n      <td>...</td>\n      <td>1.70</td>\n      <td>0.00</td>\n      <td>2.05</td>\n      <td>1.85</td>\n      <td>2.07</td>\n      <td>1.85</td>\n      <td>2.10</td>\n      <td>1.88</td>\n      <td>2.03</td>\n      <td>1.82</td>\n    </tr>\n    <tr>\n      <th>2</th>\n      <td>E1</td>\n      <td>05/08/2023</td>\n      <td>15:00</td>\n      <td>Bristol City</td>\n      <td>Preston</td>\n      <td>1</td>\n      <td>1</td>\n      <td>D</td>\n      <td>0</td>\n      <td>0</td>\n      <td>...</td>\n      <td>1.68</td>\n      <td>-0.25</td>\n      <td>1.82</td>\n      <td>2.08</td>\n      <td>1.84</td>\n      <td>2.08</td>\n      <td>1.88</td>\n      <td>2.15</td>\n      <td>1.80</td>\n      <td>2.04</td>\n    </tr>\n    <tr>\n      <th>3</th>\n      <td>E1</td>\n      <td>05/08/2023</td>\n      <td>15:00</td>\n      <td>Middlesbrough</td>\n      <td>Millwall</td>\n      <td>0</td>\n      <td>1</td>\n      <td>A</td>\n      <td>0</td>\n      <td>0</td>\n      <td>...</td>\n      <td>1.77</td>\n      <td>-0.25</td>\n      <td>1.80</td>\n      <td>2.10</td>\n      <td>1.83</td>\n      <td>2.10</td>\n      <td>1.91</td>\n      <td>2.14</td>\n      <td>1.85</td>\n      <td>1.99</td>\n    </tr>\n    <tr>\n      <th>4</th>\n      <td>E1</td>\n      <td>05/08/2023</td>\n      <td>15:00</td>\n      <td>Norwich</td>\n      <td>Hull</td>\n      <td>2</td>\n      <td>1</td>\n      <td>H</td>\n      <td>1</td>\n      <td>1</td>\n      <td>...</td>\n      <td>1.92</td>\n      <td>-0.75</td>\n      <td>2.06</td>\n      <td>1.84</td>\n      <td>2.05</td>\n      <td>1.86</td>\n      <td>2.10</td>\n      <td>1.91</td>\n      <td>2.01</td>\n      <td>1.83</td>\n    </tr>\n  </tbody>\n</table>\n<p>5 rows × 106 columns</p>\n</div>"
     },
     "execution_count": 117,
     "metadata": {},
     "output_type": "execute_result"
    }
   ],
   "source": [
    "# Dropping columns with a high number of missing values or irrelevant to our analysis\n",
    "irrelevant_columns = df.columns[df.isnull().sum() > (0.5 * len(df))]  # Columns with more than 50% missing values\n",
    "df_cleaned = df.drop(columns=irrelevant_columns)\n",
    "\n",
    "# Convert 'Date' to datetime\n",
    "#df_cleaned['Date'] = pd.to_datetime(df_cleaned['Date'], format='%d/%m/%Y')\n",
    "\n",
    "# Fill missing values in other relevant columns with appropriate values (like median or mode)\n",
    "# For numerical columns, we use median and for categorical, we use mode\n",
    "for column in df_cleaned.columns:\n",
    "    if df_cleaned[column].dtype == 'object':\n",
    "        df_cleaned[column].fillna(df_cleaned[column].mode()[0], inplace=True)\n",
    "    else:\n",
    "        df_cleaned[column].fillna(df_cleaned[column].median(), inplace=True)\n",
    "\n",
    "# Recheck for missing values\n",
    "remaining_missing_values = df_cleaned.isnull().sum().sum()\n",
    "\n",
    "# Basic information after cleaning\n",
    "remaining_missing_values, df_cleaned.info()\n",
    "\n",
    "df_cleaned.head()\n"
   ],
   "metadata": {
    "collapsed": false,
    "ExecuteTime": {
     "end_time": "2023-12-29T00:09:21.136370800Z",
     "start_time": "2023-12-29T00:09:20.861102100Z"
    }
   },
   "id": "598e531010defdf9"
  },
  {
   "cell_type": "markdown",
   "source": [
    "## Feature engineering\n",
    "\n",
    "### steps:\n",
    "* Encode Team Names: Use label encoding for 'HomeTeam' and 'AwayTeam'. This will convert team names into numeric values, making them usable for the model.\n",
    "\n",
    "* Recent Form: Calculate the recent form for each team based on the last 5 matches. We'll use the 'FTR' column to determine wins (W), losses (L), and draws (D). This feature will provide insight into the current performance of the teams.\n",
    "\n",
    "* Average Goals per Game: Compute the average goals scored per game for both home and away teams. This feature helps understand the offensive strength of the teams.\n",
    "\n",
    "* Team Points: Calculate the total points accumulated by each team so far in the season. Points are awarded based on wins (3 points), draws (1 point), and losses (0 points).\n",
    "\n",
    "* Head-to-Head Statistics: Analyze the outcomes of matches between the same pairs of teams earlier in the season.\n",
    "\n",
    "* Other Statistical Features: Depending on the data available, we can include additional features like average possession, number of shots on target, defensive strength, etc."
   ],
   "metadata": {
    "collapsed": false
   },
   "id": "2d8eb8645de65cd7"
  },
  {
   "cell_type": "code",
   "execution_count": 118,
   "outputs": [],
   "source": [
    "# Import the LabelEncoder class from the sklearn library\n",
    "from sklearn.preprocessing import LabelEncoder\n",
    "\n",
    "# Encode the team names\n",
    "label_encoder = LabelEncoder()\n",
    "df_cleaned['HomeTeamEncoded'] = label_encoder.fit_transform(df_cleaned['HomeTeam'])\n",
    "df_cleaned['AwayTeamEncoded'] = label_encoder.transform(df_cleaned['AwayTeam'])\n"
   ],
   "metadata": {
    "collapsed": false,
    "ExecuteTime": {
     "end_time": "2023-12-29T00:09:21.140646600Z",
     "start_time": "2023-12-29T00:09:20.969394100Z"
    }
   },
   "id": "555cad6dc030dab3"
  },
  {
   "cell_type": "markdown",
   "source": [
    "### Recent Form"
   ],
   "metadata": {
    "collapsed": false
   },
   "id": "8f21cce905c91424"
  },
  {
   "cell_type": "code",
   "execution_count": 119,
   "outputs": [],
   "source": [
    "# function to calculate recent form\n",
    "def calculate_form_points(team, df_cleaned, num_matches=5):\n",
    "    # Filter the matches for the team\n",
    "    team_matches = df_cleaned[(df_cleaned['HomeTeam'] == team) | (df_cleaned['AwayTeam'] == team)]\n",
    "    # Sort by date to get the most recent matches\n",
    "    team_matches = team_matches.sort_values(by='Date', ascending=False)\n",
    "    # Get the last 'num_matches' matches\n",
    "    recent_matches = team_matches.head(num_matches)\n",
    "    # Calculate form points\n",
    "    form_points = 0\n",
    "    for _, row in recent_matches.iterrows():\n",
    "        if row['HomeTeam'] == team and row['FTR'] == 'H':\n",
    "            form_points += 3\n",
    "        elif row['AwayTeam'] == team and row['FTR'] == 'A':\n",
    "            form_points += 3\n",
    "        elif row['FTR'] == 'D':\n",
    "            form_points += 1\n",
    "    return form_points\n",
    "\n",
    "# Apply the function to get recent form for each team in each match\n",
    "df_cleaned['HomeTeamRecentForm'] = df_cleaned.apply(lambda x: calculate_form_points(x['HomeTeam'], df_cleaned), axis=1)\n",
    "df_cleaned['AwayTeamRecentForm'] = df_cleaned.apply(lambda x: calculate_form_points(x['AwayTeam'], df_cleaned), axis=1)\n",
    "\n",
    "# Average Goals per Game\n",
    "df_cleaned['HomeTeamAvgGoals'] = df_cleaned.groupby('HomeTeam')['FTHG'].transform('mean')\n",
    "df_cleaned['AwayTeamAvgGoals'] = df_cleaned.groupby('AwayTeam')['FTAG'].transform('mean')\n",
    "\n",
    "# half time average goals\n",
    "df_cleaned['HomeTeamAvgGoalsHT'] = df_cleaned.groupby('HomeTeam')['HTHG'].transform('mean')\n",
    "df_cleaned['AwayTeamAvgGoalsHT'] = df_cleaned.groupby('AwayTeam')['HTAG'].transform('mean')\n"
   ],
   "metadata": {
    "collapsed": false,
    "ExecuteTime": {
     "end_time": "2023-12-29T00:09:22.104702300Z",
     "start_time": "2023-12-29T00:09:21.147846700Z"
    }
   },
   "id": "e80b6e05d39f4181"
  },
  {
   "cell_type": "markdown",
   "source": [
    "### Team Points"
   ],
   "metadata": {
    "collapsed": false
   },
   "id": "e1ad0e76308763b7"
  },
  {
   "cell_type": "code",
   "execution_count": 120,
   "outputs": [],
   "source": [
    "# Points will be calculated similar to form but for the whole season\n",
    "def calculate_team_points(team, df_cleaned):\n",
    "    team_matches = df_cleaned[(df_cleaned['HomeTeam'] == team) | (df_cleaned['AwayTeam'] == team)]\n",
    "    points = 0\n",
    "    for _, row in team_matches.iterrows():\n",
    "        if row['HomeTeam'] == team and row['FTR'] == 'H':\n",
    "            points += 3\n",
    "        elif row['AwayTeam'] == team and row['FTR'] == 'A':\n",
    "            points += 3\n",
    "        elif row['FTR'] == 'D':\n",
    "            points += 1\n",
    "    return points\n",
    "\n",
    "df_cleaned['HomeTeamPoints'] = df_cleaned.apply(lambda x: calculate_team_points(x['HomeTeam'], df_cleaned), axis=1)\n",
    "df_cleaned['AwayTeamPoints'] = df_cleaned.apply(lambda x: calculate_team_points(x['AwayTeam'], df_cleaned), axis=1)\n",
    "\n"
   ],
   "metadata": {
    "collapsed": false,
    "ExecuteTime": {
     "end_time": "2023-12-29T00:09:28.208272700Z",
     "start_time": "2023-12-29T00:09:22.108745600Z"
    }
   },
   "id": "8b40589ac3bdd675"
  },
  {
   "cell_type": "markdown",
   "source": [
    "### Head-to-Head Statistics"
   ],
   "metadata": {
    "collapsed": false
   },
   "id": "57af236918f2f896"
  },
  {
   "cell_type": "code",
   "execution_count": 121,
   "outputs": [],
   "source": [
    "# Head-to-Head Statistics\n",
    "# For simplicity, we can count the number of wins, draws, and losses in matches between the same teams\n",
    "# Note: This implementation is simplified for demonstration purposes\n",
    "def head_to_head_stats(home_team, away_team, df_cleaned):\n",
    "    head_to_head_matches = df_cleaned[(df_cleaned['HomeTeam'] == home_team) & (df['AwayTeam'] == away_team)]\n",
    "    wins = len(head_to_head_matches[head_to_head_matches['FTR'] == 'H'])\n",
    "    draws = len(head_to_head_matches[head_to_head_matches['FTR'] == 'D'])\n",
    "    losses = len(head_to_head_matches[head_to_head_matches['FTR'] == 'A'])\n",
    "    return wins, draws, losses\n",
    "\n",
    "# Apply the head-to-head stats function\n",
    "df_cleaned['HeadToHeadWins'], df_cleaned['HeadToHeadDraws'], df_cleaned['HeadToHeadLosses'] = zip(*df_cleaned.apply(lambda x: head_to_head_stats(x['HomeTeam'], x['AwayTeam'], df_cleaned), axis=1))"
   ],
   "metadata": {
    "collapsed": false,
    "ExecuteTime": {
     "end_time": "2023-12-29T00:09:29.798206Z",
     "start_time": "2023-12-29T00:09:28.125440500Z"
    }
   },
   "id": "3a0101ebf2f84ad"
  },
  {
   "cell_type": "code",
   "execution_count": 122,
   "outputs": [
    {
     "name": "stdout",
     "output_type": "stream",
     "text": [
      "         HomeTeam  HomeTeamWinPercentage     AwayTeam  AwayTeamWinPercentage  \\\n",
      "0  Sheffield Weds               0.250000  Southampton               0.500000   \n",
      "1       Blackburn               0.416667    West Brom               0.333333   \n",
      "2    Bristol City               0.500000      Preston               0.333333   \n",
      "3   Middlesbrough               0.500000     Millwall               0.250000   \n",
      "4         Norwich               0.583333         Hull               0.416667   \n",
      "\n",
      "   HomeTeamAvgShotsOnTarget  AwayTeamAvgShotsOnTarget  HomeTeamAvgGoalsHT  \\\n",
      "0                  3.250000                  4.916667            0.416667   \n",
      "1                  4.333333                  2.583333            0.583333   \n",
      "2                  4.333333                  2.833333            0.916667   \n",
      "3                  5.750000                  3.250000            0.500000   \n",
      "4                  4.416667                  5.083333            0.583333   \n",
      "\n",
      "   AwayTeamAvgGoalsHT  \n",
      "0            0.583333  \n",
      "1            0.500000  \n",
      "2            0.416667  \n",
      "3            0.500000  \n",
      "4            0.833333  \n"
     ]
    }
   ],
   "source": [
    "# Calculate Home Team Win Percentage\n",
    "home_team_wins = df_cleaned[df_cleaned['FTR'] == 'H'].groupby('HomeTeam').size()\n",
    "total_home_matches = df_cleaned.groupby('HomeTeam').size()\n",
    "home_team_win_percentage = home_team_wins / total_home_matches\n",
    "# \n",
    "# Calculate Away Team Win Percentage\n",
    "away_team_wins = df_cleaned[df_cleaned['FTR'] == 'A'].groupby('AwayTeam').size()\n",
    "total_away_matches = df_cleaned.groupby('AwayTeam').size()\n",
    "away_team_win_percentage = away_team_wins / total_away_matches\n",
    "# \n",
    "# Create mappings for win percentages\n",
    "home_team_win_percentage_map = home_team_win_percentage.to_dict()\n",
    "away_team_win_percentage_map = away_team_win_percentage.to_dict()\n",
    "# \n",
    "# Map the win percentages to the original DataFrame\n",
    "df_cleaned['HomeTeamWinPercentage'] = df_cleaned['HomeTeam'].map(home_team_win_percentage_map).fillna(0)\n",
    "df_cleaned['AwayTeamWinPercentage'] = df_cleaned['AwayTeam'].map(away_team_win_percentage_map).fillna(0)\n",
    "\n",
    "# calculate the average shots on target for home and away teams\n",
    "df_cleaned['HomeTeamAvgShotsOnTarget'] = df_cleaned.groupby('HomeTeam')['HST'].transform('mean')\n",
    "df_cleaned['AwayTeamAvgShotsOnTarget'] = df_cleaned.groupby('AwayTeam')['AST'].transform('mean')\n",
    "\n",
    " \n",
    "# Check the first few rows to confirm the new features\n",
    "print(df_cleaned[['HomeTeam', 'HomeTeamWinPercentage', 'AwayTeam', 'AwayTeamWinPercentage','HomeTeamAvgShotsOnTarget','AwayTeamAvgShotsOnTarget', 'HomeTeamAvgGoalsHT', 'AwayTeamAvgGoalsHT']].head())"
   ],
   "metadata": {
    "collapsed": false,
    "ExecuteTime": {
     "end_time": "2023-12-29T00:09:29.819149Z",
     "start_time": "2023-12-29T00:09:29.723535600Z"
    }
   },
   "id": "963205374a6277f8"
  },
  {
   "cell_type": "code",
   "execution_count": 123,
   "outputs": [
    {
     "data": {
      "text/plain": "  Div        Date   Time        HomeTeam     AwayTeam  FTHG  FTAG FTR  HTHG  \\\n0  E1  04/08/2023  20:00  Sheffield Weds  Southampton     1     2   A     0   \n1  E1  05/08/2023  15:00       Blackburn    West Brom     2     1   H     2   \n2  E1  05/08/2023  15:00    Bristol City      Preston     1     1   D     0   \n3  E1  05/08/2023  15:00   Middlesbrough     Millwall     0     1   A     0   \n4  E1  05/08/2023  15:00         Norwich         Hull     2     1   H     1   \n\n   HTAG  ... AwayTeamAvgGoalsHT HomeTeamPoints  AwayTeamPoints  \\\n0     1  ...           0.583333             16              48   \n1     0  ...           0.500000             31              39   \n2     0  ...           0.416667             35              35   \n3     0  ...           0.500000             33              26   \n4     1  ...           0.833333             34              36   \n\n   HeadToHeadWins  HeadToHeadDraws  HeadToHeadLosses  HomeTeamWinPercentage  \\\n0               0                0                 1               0.250000   \n1               1                0                 0               0.416667   \n2               0                1                 0               0.500000   \n3               0                0                 1               0.500000   \n4               1                0                 0               0.583333   \n\n   AwayTeamWinPercentage  HomeTeamAvgShotsOnTarget  AwayTeamAvgShotsOnTarget  \n0               0.500000                  3.250000                  4.916667  \n1               0.333333                  4.333333                  2.583333  \n2               0.333333                  4.333333                  2.833333  \n3               0.250000                  5.750000                  3.250000  \n4               0.416667                  4.416667                  5.083333  \n\n[5 rows x 123 columns]",
      "text/html": "<div>\n<style scoped>\n    .dataframe tbody tr th:only-of-type {\n        vertical-align: middle;\n    }\n\n    .dataframe tbody tr th {\n        vertical-align: top;\n    }\n\n    .dataframe thead th {\n        text-align: right;\n    }\n</style>\n<table border=\"1\" class=\"dataframe\">\n  <thead>\n    <tr style=\"text-align: right;\">\n      <th></th>\n      <th>Div</th>\n      <th>Date</th>\n      <th>Time</th>\n      <th>HomeTeam</th>\n      <th>AwayTeam</th>\n      <th>FTHG</th>\n      <th>FTAG</th>\n      <th>FTR</th>\n      <th>HTHG</th>\n      <th>HTAG</th>\n      <th>...</th>\n      <th>AwayTeamAvgGoalsHT</th>\n      <th>HomeTeamPoints</th>\n      <th>AwayTeamPoints</th>\n      <th>HeadToHeadWins</th>\n      <th>HeadToHeadDraws</th>\n      <th>HeadToHeadLosses</th>\n      <th>HomeTeamWinPercentage</th>\n      <th>AwayTeamWinPercentage</th>\n      <th>HomeTeamAvgShotsOnTarget</th>\n      <th>AwayTeamAvgShotsOnTarget</th>\n    </tr>\n  </thead>\n  <tbody>\n    <tr>\n      <th>0</th>\n      <td>E1</td>\n      <td>04/08/2023</td>\n      <td>20:00</td>\n      <td>Sheffield Weds</td>\n      <td>Southampton</td>\n      <td>1</td>\n      <td>2</td>\n      <td>A</td>\n      <td>0</td>\n      <td>1</td>\n      <td>...</td>\n      <td>0.583333</td>\n      <td>16</td>\n      <td>48</td>\n      <td>0</td>\n      <td>0</td>\n      <td>1</td>\n      <td>0.250000</td>\n      <td>0.500000</td>\n      <td>3.250000</td>\n      <td>4.916667</td>\n    </tr>\n    <tr>\n      <th>1</th>\n      <td>E1</td>\n      <td>05/08/2023</td>\n      <td>15:00</td>\n      <td>Blackburn</td>\n      <td>West Brom</td>\n      <td>2</td>\n      <td>1</td>\n      <td>H</td>\n      <td>2</td>\n      <td>0</td>\n      <td>...</td>\n      <td>0.500000</td>\n      <td>31</td>\n      <td>39</td>\n      <td>1</td>\n      <td>0</td>\n      <td>0</td>\n      <td>0.416667</td>\n      <td>0.333333</td>\n      <td>4.333333</td>\n      <td>2.583333</td>\n    </tr>\n    <tr>\n      <th>2</th>\n      <td>E1</td>\n      <td>05/08/2023</td>\n      <td>15:00</td>\n      <td>Bristol City</td>\n      <td>Preston</td>\n      <td>1</td>\n      <td>1</td>\n      <td>D</td>\n      <td>0</td>\n      <td>0</td>\n      <td>...</td>\n      <td>0.416667</td>\n      <td>35</td>\n      <td>35</td>\n      <td>0</td>\n      <td>1</td>\n      <td>0</td>\n      <td>0.500000</td>\n      <td>0.333333</td>\n      <td>4.333333</td>\n      <td>2.833333</td>\n    </tr>\n    <tr>\n      <th>3</th>\n      <td>E1</td>\n      <td>05/08/2023</td>\n      <td>15:00</td>\n      <td>Middlesbrough</td>\n      <td>Millwall</td>\n      <td>0</td>\n      <td>1</td>\n      <td>A</td>\n      <td>0</td>\n      <td>0</td>\n      <td>...</td>\n      <td>0.500000</td>\n      <td>33</td>\n      <td>26</td>\n      <td>0</td>\n      <td>0</td>\n      <td>1</td>\n      <td>0.500000</td>\n      <td>0.250000</td>\n      <td>5.750000</td>\n      <td>3.250000</td>\n    </tr>\n    <tr>\n      <th>4</th>\n      <td>E1</td>\n      <td>05/08/2023</td>\n      <td>15:00</td>\n      <td>Norwich</td>\n      <td>Hull</td>\n      <td>2</td>\n      <td>1</td>\n      <td>H</td>\n      <td>1</td>\n      <td>1</td>\n      <td>...</td>\n      <td>0.833333</td>\n      <td>34</td>\n      <td>36</td>\n      <td>1</td>\n      <td>0</td>\n      <td>0</td>\n      <td>0.583333</td>\n      <td>0.416667</td>\n      <td>4.416667</td>\n      <td>5.083333</td>\n    </tr>\n  </tbody>\n</table>\n<p>5 rows × 123 columns</p>\n</div>"
     },
     "execution_count": 123,
     "metadata": {},
     "output_type": "execute_result"
    }
   ],
   "source": [
    "df_cleaned.head()"
   ],
   "metadata": {
    "collapsed": false,
    "ExecuteTime": {
     "end_time": "2023-12-29T00:09:29.821150900Z",
     "start_time": "2023-12-29T00:09:29.781932400Z"
    }
   },
   "id": "83a669c72c30b0b3"
  },
  {
   "cell_type": "code",
   "execution_count": 124,
   "outputs": [
    {
     "data": {
      "text/plain": "                Points  GoalDiff  GoalsScored\nLeicester           59        31           48\nIpswich             53        15           48\nSouthampton         48        14           43\nLeeds               45        18           42\nWest Brom           39        12           35\nSunderland          36         6           33\nHull                36         5           36\nBristol City        35         3           30\nPreston             35       -10           31\nWatford             34         6           38\nCardiff             34         2           32\nNorwich             34         1           41\nCoventry            33         8           33\nMiddlesbrough       33         0           35\nBlackburn           31        -8           35\nPlymouth            28        -1           39\nSwansea             28        -5           32\nStoke               27        -7           24\nBirmingham          27        -8           30\nMillwall            26        -5           26\nHuddersfield        25       -14           24\nQPR                 20       -15           20\nSheffield Weds      16       -22           17\nRotherham           16       -26           21",
      "text/html": "<div>\n<style scoped>\n    .dataframe tbody tr th:only-of-type {\n        vertical-align: middle;\n    }\n\n    .dataframe tbody tr th {\n        vertical-align: top;\n    }\n\n    .dataframe thead th {\n        text-align: right;\n    }\n</style>\n<table border=\"1\" class=\"dataframe\">\n  <thead>\n    <tr style=\"text-align: right;\">\n      <th></th>\n      <th>Points</th>\n      <th>GoalDiff</th>\n      <th>GoalsScored</th>\n    </tr>\n  </thead>\n  <tbody>\n    <tr>\n      <th>Leicester</th>\n      <td>59</td>\n      <td>31</td>\n      <td>48</td>\n    </tr>\n    <tr>\n      <th>Ipswich</th>\n      <td>53</td>\n      <td>15</td>\n      <td>48</td>\n    </tr>\n    <tr>\n      <th>Southampton</th>\n      <td>48</td>\n      <td>14</td>\n      <td>43</td>\n    </tr>\n    <tr>\n      <th>Leeds</th>\n      <td>45</td>\n      <td>18</td>\n      <td>42</td>\n    </tr>\n    <tr>\n      <th>West Brom</th>\n      <td>39</td>\n      <td>12</td>\n      <td>35</td>\n    </tr>\n    <tr>\n      <th>Sunderland</th>\n      <td>36</td>\n      <td>6</td>\n      <td>33</td>\n    </tr>\n    <tr>\n      <th>Hull</th>\n      <td>36</td>\n      <td>5</td>\n      <td>36</td>\n    </tr>\n    <tr>\n      <th>Bristol City</th>\n      <td>35</td>\n      <td>3</td>\n      <td>30</td>\n    </tr>\n    <tr>\n      <th>Preston</th>\n      <td>35</td>\n      <td>-10</td>\n      <td>31</td>\n    </tr>\n    <tr>\n      <th>Watford</th>\n      <td>34</td>\n      <td>6</td>\n      <td>38</td>\n    </tr>\n    <tr>\n      <th>Cardiff</th>\n      <td>34</td>\n      <td>2</td>\n      <td>32</td>\n    </tr>\n    <tr>\n      <th>Norwich</th>\n      <td>34</td>\n      <td>1</td>\n      <td>41</td>\n    </tr>\n    <tr>\n      <th>Coventry</th>\n      <td>33</td>\n      <td>8</td>\n      <td>33</td>\n    </tr>\n    <tr>\n      <th>Middlesbrough</th>\n      <td>33</td>\n      <td>0</td>\n      <td>35</td>\n    </tr>\n    <tr>\n      <th>Blackburn</th>\n      <td>31</td>\n      <td>-8</td>\n      <td>35</td>\n    </tr>\n    <tr>\n      <th>Plymouth</th>\n      <td>28</td>\n      <td>-1</td>\n      <td>39</td>\n    </tr>\n    <tr>\n      <th>Swansea</th>\n      <td>28</td>\n      <td>-5</td>\n      <td>32</td>\n    </tr>\n    <tr>\n      <th>Stoke</th>\n      <td>27</td>\n      <td>-7</td>\n      <td>24</td>\n    </tr>\n    <tr>\n      <th>Birmingham</th>\n      <td>27</td>\n      <td>-8</td>\n      <td>30</td>\n    </tr>\n    <tr>\n      <th>Millwall</th>\n      <td>26</td>\n      <td>-5</td>\n      <td>26</td>\n    </tr>\n    <tr>\n      <th>Huddersfield</th>\n      <td>25</td>\n      <td>-14</td>\n      <td>24</td>\n    </tr>\n    <tr>\n      <th>QPR</th>\n      <td>20</td>\n      <td>-15</td>\n      <td>20</td>\n    </tr>\n    <tr>\n      <th>Sheffield Weds</th>\n      <td>16</td>\n      <td>-22</td>\n      <td>17</td>\n    </tr>\n    <tr>\n      <th>Rotherham</th>\n      <td>16</td>\n      <td>-26</td>\n      <td>21</td>\n    </tr>\n  </tbody>\n</table>\n</div>"
     },
     "execution_count": 124,
     "metadata": {},
     "output_type": "execute_result"
    }
   ],
   "source": [
    "# get the current position and calculate points for chelsea and the rest of the teams\n",
    "def calculate_points_goals(row):\n",
    "    home_points, away_points = 0, 0\n",
    "    home_goal_diff = row['FTHG'] - row['FTAG']\n",
    "    away_goal_diff = row['FTAG'] - row['FTHG']\n",
    "\n",
    "    if row['FTR'] == 'H':\n",
    "        home_points = 3\n",
    "    elif row['FTR'] == 'A':\n",
    "        away_points = 3\n",
    "    else:\n",
    "        home_points = away_points = 1\n",
    "\n",
    "    return pd.Series([home_points, away_points, home_goal_diff, away_goal_diff, row['FTHG'], row['FTAG']])\n",
    "\n",
    "# List of teams\n",
    "teams = df_cleaned['HomeTeam'].unique()\n",
    "\n",
    "# Applying the function to the dataset\n",
    "df_cleaned[['HomePoints', 'AwayPoints', 'HomeGoalDiff', 'AwayGoalDiff', 'HomeGoals', 'AwayGoals']] = df_cleaned.apply(calculate_points_goals, axis=1)\n",
    "\n",
    "# Summarizing the data for each team\n",
    "team_stats = pd.DataFrame(index=teams)\n",
    "\n",
    "# Calculating total points, goal difference, and goals scored for each team\n",
    "team_stats['Points'] = df_cleaned.groupby('HomeTeam')['HomePoints'].sum() + df_cleaned.groupby('AwayTeam')['AwayPoints'].sum()\n",
    "team_stats['GoalDiff'] = df_cleaned.groupby('HomeTeam')['HomeGoalDiff'].sum() + df_cleaned.groupby('AwayTeam')['AwayGoalDiff'].sum()\n",
    "team_stats['GoalsScored'] = df_cleaned.groupby('HomeTeam')['HomeGoals'].sum() + df_cleaned.groupby('AwayTeam')['AwayGoals'].sum()\n",
    "\n",
    "\n",
    "# Sorting the teams based on Points, Goal Difference, and Goals Scored\n",
    "sorted_teams = team_stats.sort_values(by=['Points', 'GoalDiff', 'GoalsScored'], ascending=[False, False, False])\n",
    "\n",
    "\n",
    "sorted_teams.head(24)\n"
   ],
   "metadata": {
    "collapsed": false,
    "ExecuteTime": {
     "end_time": "2023-12-29T00:09:29.881069Z",
     "start_time": "2023-12-29T00:09:29.800310500Z"
    }
   },
   "id": "461924b794dcdc5f"
  },
  {
   "cell_type": "markdown",
   "source": [
    "## Data Preprocessing"
   ],
   "metadata": {
    "collapsed": false
   },
   "id": "d59e451ed914c5aa"
  },
  {
   "cell_type": "markdown",
   "source": [
    "## Data Preprocessing\n",
    "### steps:\n",
    "* Scaling Numeric Features: We'll scale features like recent form, average goals, and points using StandardScaler.\n",
    "* Handling Categorical Variables: We have already encoded team names. We'll ensure other categorical features, if any, are properly encoded.\n",
    "* Splitting the Data: We'll split the data into training and test sets. We'll use the training set to train the model and the test set to evaluate the model's performance on unseen data."
   ],
   "metadata": {
    "collapsed": false
   },
   "id": "1f9016c9f3866d6a"
  },
  {
   "cell_type": "code",
   "execution_count": 125,
   "outputs": [],
   "source": [
    "from sklearn.preprocessing import StandardScaler\n",
    "from sklearn.model_selection import train_test_split\n",
    "from imblearn.over_sampling import SMOTE\n",
    "\n",
    "# select relevant columns or features\n",
    "features = ['HomeTeamEncoded', 'AwayTeamEncoded', 'HomeTeamRecentForm', 'AwayTeamRecentForm', 'HomeTeamAvgGoals', 'AwayTeamAvgGoals', 'HomeTeamPoints', 'AwayTeamPoints', 'HomeTeamWinPercentage', 'AwayTeamWinPercentage', 'HomeTeamAvgShotsOnTarget', 'AwayTeamAvgShotsOnTarget', 'HomeTeamAvgGoalsHT', 'AwayTeamAvgGoalsHT']\n",
    "target = 'FTR'\n",
    "\n",
    "# Split the data into training and test sets\n",
    "X = df_cleaned[features]\n",
    "y = df_cleaned[target]\n",
    "X_train, X_test, y_train, y_test = train_test_split(X, y, test_size=0.2, random_state=42)\n",
    "\n",
    "# Addressing Class Imbalance\n",
    "smote = SMOTE(random_state=42)\n",
    "X_train_smote, y_train_smote = smote.fit_resample(X_train, y_train)\n",
    "\n",
    "# Scaling the features\n",
    "scaler = StandardScaler()\n",
    "X_train_scaled = scaler.fit_transform(X_train_smote)\n",
    "X_test_scaled = scaler.transform(X_test)"
   ],
   "metadata": {
    "collapsed": false,
    "ExecuteTime": {
     "end_time": "2023-12-29T00:09:29.908369300Z",
     "start_time": "2023-12-29T00:09:29.855841300Z"
    }
   },
   "id": "7e96c1090ce0b20f"
  },
  {
   "cell_type": "markdown",
   "source": [
    "## Hyperparameter Tuning"
   ],
   "metadata": {
    "collapsed": false
   },
   "id": "cd674d54c6445cb0"
  },
  {
   "cell_type": "code",
   "execution_count": 126,
   "outputs": [],
   "source": [
    "from hyperopt import hp\n",
    "import numpy as np\n",
    "# Define the hyperparameter space\n",
    "space = {\n",
    "    'iterations': hp.quniform('iterations', 100, 1000, 50),\n",
    "    'depth': hp.choice('depth', np.arange(3, 11, dtype=int)),\n",
    "    'learning_rate': hp.loguniform('learning_rate', np.log(0.01), np.log(0.2)),\n",
    "    'l2_leaf_reg': hp.uniform('l2_leaf_reg', 1, 10),\n",
    "    'bagging_temperature': hp.uniform('bagging_temperature', 0, 1),\n",
    "    'random_strength': hp.uniform('random_strength', 0, 1)\n",
    "    \n",
    "}\n"
   ],
   "metadata": {
    "collapsed": false,
    "ExecuteTime": {
     "end_time": "2023-12-29T00:09:29.909369500Z",
     "start_time": "2023-12-29T00:09:29.875673600Z"
    }
   },
   "id": "a12593cf369807c2"
  },
  {
   "cell_type": "markdown",
   "source": [
    "## Creating the Objective Function so that we can use it in the hyperparameter optimization\n"
   ],
   "metadata": {
    "collapsed": false
   },
   "id": "3f57f1cfc4052e07"
  },
  {
   "cell_type": "code",
   "execution_count": 127,
   "outputs": [],
   "source": [
    "from hyperopt import STATUS_OK\n",
    "from sklearn.model_selection import train_test_split, StratifiedKFold, cross_val_score\n",
    "from catboost import CatBoostClassifier\n",
    "\n",
    "def objective(params):\n",
    "    params['iterations'] = int(params['iterations'])\n",
    "    clf = CatBoostClassifier(**params, loss_function='MultiClass', verbose=False)\n",
    "    score = cross_val_score(clf, X_train_scaled, y_train_smote, scoring='accuracy', cv=StratifiedKFold(10)).mean()\n",
    "    return {'loss': -score, 'status': STATUS_OK}\n",
    "\n"
   ],
   "metadata": {
    "collapsed": false,
    "ExecuteTime": {
     "end_time": "2023-12-29T00:09:29.974581400Z",
     "start_time": "2023-12-29T00:09:29.881069Z"
    }
   },
   "id": "9dfbab99a51f5aa3"
  },
  {
   "cell_type": "code",
   "execution_count": 128,
   "outputs": [
    {
     "name": "stdout",
     "output_type": "stream",
     "text": [
      "100%|██████████| 10/10 [03:39<00:00, 21.91s/trial, best loss: -0.6475806451612903]\n"
     ]
    }
   ],
   "source": [
    "# run the hyperparameter optimization\n",
    "from hyperopt import tpe, Trials, fmin\n",
    "\n",
    "trials = Trials()\n",
    "best = fmin(fn=objective, space=space, algo=tpe.suggest, max_evals=10, trials=trials)"
   ],
   "metadata": {
    "collapsed": false,
    "ExecuteTime": {
     "end_time": "2023-12-29T00:13:09.007311300Z",
     "start_time": "2023-12-29T00:09:29.891335900Z"
    }
   },
   "id": "de338388260330ca"
  },
  {
   "cell_type": "code",
   "execution_count": 129,
   "outputs": [
    {
     "name": "stdout",
     "output_type": "stream",
     "text": [
      "              precision    recall  f1-score   support\n",
      "\n",
      "           A       0.24      0.45      0.31        11\n",
      "           D       0.31      0.22      0.26        18\n",
      "           H       0.71      0.59      0.64        29\n",
      "\n",
      "    accuracy                           0.45        58\n",
      "   macro avg       0.42      0.42      0.40        58\n",
      "weighted avg       0.49      0.45      0.46        58\n",
      "\n",
      "Training Accuracy: 0.7788461538461539\n"
     ]
    }
   ],
   "source": [
    "from sklearn.metrics import classification_report, accuracy_score\n",
    "\n",
    "best_params = {k: int(v) if k in ['iterations', 'depth'] else v for k, v in best.items()}\n",
    "final_model = CatBoostClassifier(**best_params, loss_function='MultiClass', eval_metric='Accuracy', verbose=False)\n",
    "# add early stopping to prevent overfitting, traning will stop if the validation accuracy does not improve for 50 rounds\n",
    "final_model.fit(X_train_scaled, y_train_smote, eval_set=(X_test_scaled, y_test), early_stopping_rounds=10)  # early stopping to prevent overfitting\n",
    "\n",
    "# Evaluate the model\n",
    "y_pred = final_model.predict(X_test_scaled)\n",
    "print(classification_report(y_test, y_pred, zero_division=0))\n",
    "\n",
    "# Calculate Training Accuracy\n",
    "y_train_pred = final_model.predict(X_train_scaled)\n",
    "training_accuracy = accuracy_score(y_train_smote, y_train_pred)\n",
    "print(f\"Training Accuracy: {training_accuracy}\")"
   ],
   "metadata": {
    "collapsed": false,
    "ExecuteTime": {
     "end_time": "2023-12-29T00:13:09.116679100Z",
     "start_time": "2023-12-29T00:13:09.008311700Z"
    }
   },
   "id": "aabeceba28053ac8"
  },
  {
   "cell_type": "markdown",
   "source": [
    "## Check for overfitting"
   ],
   "metadata": {
    "collapsed": false
   },
   "id": "3c462e5d5e49bad3"
  },
  {
   "cell_type": "code",
   "execution_count": 130,
   "outputs": [
    {
     "name": "stdout",
     "output_type": "stream",
     "text": [
      "Average Cross-Validation Score: 0.625\n",
      "The model might be overfitting.\n"
     ]
    }
   ],
   "source": [
    "# check for overfitting\n",
    "from sklearn.model_selection import cross_val_score\n",
    "\n",
    "# Perform cross-validation\n",
    "cv_scores = cross_val_score(final_model, X_train_scaled, y_train_smote, cv=6)\n",
    "\n",
    "# Print the average score\n",
    "print(f\"Average Cross-Validation Score: {cv_scores.mean()}\")\n",
    "\n",
    "# Compare Training and Cross-Validation Accuracies\n",
    "if training_accuracy > cv_scores.mean():\n",
    "    print(\"The model might be overfitting.\")\n",
    "else:\n",
    "    print(\"The model does not appear to be overfitting.\")"
   ],
   "metadata": {
    "collapsed": false,
    "ExecuteTime": {
     "end_time": "2023-12-29T00:13:13.155411900Z",
     "start_time": "2023-12-29T00:13:09.119800100Z"
    }
   },
   "id": "67b496de77bf0717"
  },
  {
   "cell_type": "code",
   "execution_count": 131,
   "outputs": [
    {
     "data": {
      "text/plain": "<Figure size 1000x600 with 1 Axes>",
      "image/png": "[encoded data removed]"
     },
     "metadata": {},
     "output_type": "display_data"
    }
   ],
   "source": [
    "import matplotlib.pyplot as plt\n",
    "\n",
    "# Get feature importances\n",
    "feature_importances = final_model.get_feature_importance()\n",
    "\n",
    "# Create a bar plot\n",
    "plt.figure(figsize=(10, 6))\n",
    "plt.barh(features, feature_importances)\n",
    "plt.xlabel('Importance')\n",
    "plt.ylabel('Feature')\n",
    "plt.title('Feature Importance')\n",
    "plt.show()\n"
   ],
   "metadata": {
    "collapsed": false,
    "ExecuteTime": {
     "end_time": "2023-12-29T00:13:13.322983200Z",
     "start_time": "2023-12-29T00:13:13.157992400Z"
    }
   },
   "id": "a5d54a5012d0961f"
  },
  {
   "cell_type": "code",
   "execution_count": 132,
   "outputs": [
    {
     "name": "stdout",
     "output_type": "stream",
     "text": [
      "Southampton win probability: 0.09281624470687609\n",
      "Plymouth win probability: 0.29486613519161303\n",
      "Draw probability: 0.6123176201015109\n",
      "Birmingham win probability: 0.20068252896813227\n",
      "Bristol City win probability: 0.2392426116050578\n",
      "Draw probability: 0.56007485942681\n"
     ]
    },
    {
     "data": {
      "text/plain": "(0.20068252896813227, 0.2392426116050578, 0.56007485942681)"
     },
     "execution_count": 132,
     "metadata": {},
     "output_type": "execute_result"
    }
   ],
   "source": [
    "# make predictions for the 2023/24 season\n",
    "def predict_match(home_team, away_team, final_model, scaler):\n",
    "    # Create a dataframe with the appropriate format\n",
    "    match = pd.DataFrame(columns=['HomeTeamEncoded', 'AwayTeamEncoded', 'HomeTeamRecentForm', 'AwayTeamRecentForm', 'HomeTeamAvgGoals', 'AwayTeamAvgGoals', 'HomeTeamPoints', 'AwayTeamPoints', 'HomeTeamWinPercentage', 'AwayTeamWinPercentage', 'HomeTeamAvgShotsOnTarget', 'AwayTeamAvgShotsOnTarget', 'HomeTeamAvgGoalsHT', 'AwayTeamAvgGoalsHT'])\n",
    "    match.loc[0] = [label_encoder.transform([home_team])[0], label_encoder.transform([away_team])[0], calculate_form_points(home_team, df_cleaned), calculate_form_points(away_team, df_cleaned), df_cleaned[df_cleaned['HomeTeam'] == home_team]['HomeTeamAvgGoals'].values[0], df_cleaned[df_cleaned['AwayTeam'] == away_team]['AwayTeamAvgGoals'].values[0], calculate_team_points(home_team, df_cleaned), calculate_team_points(away_team, df_cleaned), home_team_win_percentage[home_team], away_team_win_percentage[away_team], df_cleaned[df_cleaned['HomeTeam'] == home_team]['HomeTeamAvgShotsOnTarget'].values[0], df_cleaned[df_cleaned['AwayTeam'] == away_team]['AwayTeamAvgShotsOnTarget'].values[0], df_cleaned[df_cleaned['HomeTeam'] == home_team]['HomeTeamAvgGoalsHT'].values[0], df_cleaned[df_cleaned['AwayTeam'] == away_team]['AwayTeamAvgGoalsHT'].values[0]]\n",
    "    # Scale the features\n",
    "    match_scaled = scaler.transform(match)\n",
    "    # Make predictions\n",
    "    home_team_win_prob = final_model.predict_proba(match_scaled)[0][0]\n",
    "    away_team_win_prob = final_model.predict_proba(match_scaled)[0][2]\n",
    "    draw_prob = final_model.predict_proba(match_scaled)[0][1]\n",
    "    # Print the results\n",
    "    print(f\"{home_team} win probability: {home_team_win_prob}\")\n",
    "    print(f\"{away_team} win probability: {away_team_win_prob}\")\n",
    "    print(f\"Draw probability: {draw_prob}\")\n",
    "    \n",
    "    return home_team_win_prob, away_team_win_prob, draw_prob\n",
    "\n",
    "predict_match('Southampton', 'Plymouth', final_model, scaler)\n",
    "\n",
    "predict_match('Birmingham', 'Bristol City', final_model, scaler)\n",
    "\n"
   ],
   "metadata": {
    "collapsed": false,
    "ExecuteTime": {
     "end_time": "2023-12-29T00:13:13.481040600Z",
     "start_time": "2023-12-29T00:13:13.327339700Z"
    }
   },
   "id": "4f462d23e29aa2fc"
  },
  {
   "cell_type": "markdown",
   "source": [
    "## Random Forest Classifier"
   ],
   "metadata": {
    "collapsed": false
   },
   "id": "637d152343ca7415"
  },
  {
   "cell_type": "code",
   "execution_count": null,
   "outputs": [],
   "source": [
    "from sklearn.ensemble import RandomForestClassifier\n",
    "from imblearn.over_sampling import SMOTE\n",
    "from sklearn.model_selection import GridSearchCV\n",
    "\n",
    "# Addressing Class Imbalance\n",
    "smote = SMOTE(random_state=42)\n",
    "X_train_smote, y_train_smote = smote.fit_resample(X_train, y_train)\n",
    "\n",
    "# Scaling the features\n",
    "scaler = StandardScaler()\n",
    "X_train_scaled = scaler.fit_transform(X_train_smote)\n",
    "X_test_scaled = scaler.transform(X_test)\n",
    "\n",
    "# Hyperparameter Tuning\n",
    "model = RandomForestClassifier(random_state=42)\n",
    "param_grid = {\n",
    "    'n_estimators': [100, 200, 300],\n",
    "    'max_depth': [None, 10, 20, 30],\n",
    "    'min_samples_split': [2, 5, 10],\n",
    "    'min_samples_leaf': [1, 2, 4]\n",
    "    \n",
    "}\n",
    "grid_search = GridSearchCV(model, param_grid, cv=3, scoring='f1_macro', return_train_score=True) # use f1_macro to account for class imbalance\n",
    "grid_search.fit(X_train_scaled, y_train_smote)\n",
    "\n",
    "# Accessing cross-validation results\n",
    "cv_results = grid_search.cv_results_\n",
    "print(\"Best Parameters:\", grid_search.best_params_)\n",
    "print(\"Best Cross-Validation Score:\", grid_search.best_score_)\n",
    "\n",
    "# Best Model Evaluation\n",
    "best_model = grid_search.best_estimator_\n",
    "y_pred = best_model.predict(X_test_scaled)\n",
    "print(classification_report(y_test, y_pred))\n",
    "\n"
   ],
   "metadata": {
    "collapsed": false,
    "is_executing": true,
    "ExecuteTime": {
     "start_time": "2023-12-29T00:13:13.375925Z"
    }
   },
   "id": "97857b4fc23ad2d7"
  },
  {
   "cell_type": "code",
   "execution_count": null,
   "outputs": [],
   "source": [
    "# check for overfitting\n",
    "from sklearn.model_selection import cross_val_score\n",
    "\n",
    "# Perform cross-validation\n",
    "cv_scores = cross_val_score(best_model, X_train_scaled, y_train_smote, cv=6)\n",
    "\n",
    "# Print the average score\n",
    "print(f\"Average Cross-Validation Score: {cv_scores.mean()}\")\n"
   ],
   "metadata": {
    "collapsed": false,
    "is_executing": true
   },
   "id": "d0f0f7e3a64c65b4"
  },
  {
   "cell_type": "code",
   "execution_count": null,
   "outputs": [],
   "source": [
    "# Get feature importances\n",
    "feature_importances = best_model.feature_importances_\n",
    "\n",
    "# Create a bar plot\n",
    "plt.figure(figsize=(10, 6))\n",
    "plt.barh(features, feature_importances)\n",
    "plt.xlabel('Importance')\n",
    "plt.ylabel('Feature')\n",
    "plt.title('Feature Importance')\n",
    "plt.show()"
   ],
   "metadata": {
    "collapsed": false,
    "is_executing": true
   },
   "id": "46802ca78ffe219a"
  },
  {
   "cell_type": "code",
   "execution_count": null,
   "outputs": [],
   "source": [
    "from sklearn.impute import SimpleImputer\n",
    "\n",
    "\n",
    "# make predictions for the 2023/24 season\n",
    "def predict_match(home_team, away_team, best_model, scaler):\n",
    "    # Create a dataframe with the appropriate format\n",
    "    match = pd.DataFrame(columns=['HomeTeamEncoded', 'AwayTeamEncoded', 'HomeTeamRecentForm', 'AwayTeamRecentForm', 'HomeTeamAvgGoals', 'AwayTeamAvgGoals', 'HomeTeamPoints', 'AwayTeamPoints', 'HomeTeamWinPercentage', 'AwayTeamWinPercentage', 'HomeTeamAvgShotsOnTarget', 'AwayTeamAvgShotsOnTarget', 'HomeTeamAvgGoalsHT', 'AwayTeamAvgGoalsHT',])\n",
    "    match.loc[0] = [label_encoder.transform([home_team])[0], label_encoder.transform([away_team])[0], calculate_form_points(home_team, df_cleaned), calculate_form_points(away_team, df_cleaned), df_cleaned[df_cleaned['HomeTeam'] == home_team]['HomeTeamAvgGoals'].values[0], df_cleaned[df_cleaned['AwayTeam'] == away_team]['AwayTeamAvgGoals'].values[0], calculate_team_points(home_team, df_cleaned), calculate_team_points(away_team, df_cleaned), home_team_win_percentage[home_team], away_team_win_percentage[away_team], df_cleaned[df_cleaned['HomeTeam'] == home_team]['HomeTeamAvgShotsOnTarget'].values[0], df_cleaned[df_cleaned['AwayTeam'] == away_team]['AwayTeamAvgShotsOnTarget'].values[0], df_cleaned[df_cleaned['HomeTeam'] == home_team]['HomeTeamAvgGoalsHT'].values[0], df_cleaned[df_cleaned['AwayTeam'] == away_team]['AwayTeamAvgGoalsHT'].values[0]]\n",
    "    # Check for NaN values and handle them\n",
    "    imputer = SimpleImputer(strategy='mean') # or choose an appropriate strategy\n",
    "    match_imputed = imputer.fit_transform(match)\n",
    "\n",
    "    # Scale the features\n",
    "    match_scaled = scaler.transform(match_imputed)\n",
    "\n",
    "    # Make predictions\n",
    "    probabilities = best_model.predict_proba(match_scaled)[0]\n",
    "    home_team_win_prob, draw_prob, away_team_win_prob = probabilities\n",
    "\n",
    "    # Print the results\n",
    "    print(f\"{home_team} win probability: {home_team_win_prob:.2f}\")\n",
    "    print(f\"{away_team} win probability: {away_team_win_prob:.2f}\")\n",
    "    print(f\"Draw probability: {draw_prob:.2f}\")\n",
    "    \n",
    "    return home_team_win_prob, away_team_win_prob, draw_prob\n",
    "\n",
    "predict_match('Southampton', 'Plymouth', best_model, scaler)\n",
    "\n",
    "predict_match('Birmingham', 'Bristol City', best_model, scaler)\n"
   ],
   "metadata": {
    "collapsed": false,
    "is_executing": true
   },
   "id": "a6b3ba5a99932591"
  },
  {
   "cell_type": "code",
   "execution_count": null,
   "outputs": [],
   "source": [],
   "metadata": {
    "collapsed": false,
    "is_executing": true
   },
   "id": "5edc9411e290677a"
  }
 ],
 "metadata": {
  "kernelspec": {
   "display_name": "Python 3",
   "language": "python",
   "name": "python3"
  },
  "language_info": {
   "codemirror_mode": {
    "name": "ipython",
    "version": 2
   },
   "file_extension": ".py",
   "mimetype": "text/x-python",
   "name": "python",
   "nbconvert_exporter": "python",
   "pygments_lexer": "ipython2",
   "version": "2.7.6"
  }
 },
 "nbformat": 4,
 "nbformat_minor": 5
}
