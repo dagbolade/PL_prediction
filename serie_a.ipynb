{
 "cells": [
  {
   "cell_type": "markdown",
   "source": [
    "# Championship 2023-2024 Predictions"
   ],
   "metadata": {
    "collapsed": false
   },
   "id": "2043b1fe4e1c4d13"
  },
  {
   "cell_type": "code",
   "execution_count": 384,
   "id": "initial_id",
   "metadata": {
    "collapsed": true,
    "ExecuteTime": {
     "end_time": "2023-12-29T13:22:18.593450300Z",
     "start_time": "2023-12-29T13:22:18.133538500Z"
    }
   },
   "outputs": [
    {
     "data": {
      "text/plain": "    Div        Date   Time     HomeTeam      AwayTeam  FTHG  FTAG FTR  HTHG  \\\n283  E1  26/12/2023  15:00  Southampton       Swansea     5     0   H     1   \n284  E1  26/12/2023  15:00      Watford  Bristol City     1     4   A     0   \n285  E1  26/12/2023  15:00    West Brom       Norwich     1     0   H     0   \n286  E1  26/12/2023  17:15   Birmingham         Stoke     1     3   A     0   \n287  E1  26/12/2023  19:45      Ipswich     Leicester     1     1   D     0   \n\n     HTAG  ... AvgC<2.5  AHCh  B365CAHH  B365CAHA  PCAHH  PCAHA  MaxCAHH  \\\n283     0  ...     2.37 -1.25      1.95      1.95   1.94   1.96     2.09   \n284     2  ...     1.78 -0.50      1.95      1.95   1.97   1.93     1.98   \n285     0  ...     1.86 -0.50      1.92      1.98   1.93   1.97     1.95   \n286     2  ...     1.84  0.00      2.04      1.86   2.07   1.85     2.07   \n287     1  ...     2.01  0.25      1.87      2.03   1.88   2.00     1.97   \n\n     MaxCAHA  AvgCAHH  AvgCAHA  \n283     1.98     1.97     1.87  \n284     1.97     1.94     1.90  \n285     2.00     1.91     1.92  \n286     1.90     2.01     1.84  \n287     2.04     1.87     1.96  \n\n[5 rows x 106 columns]",
      "text/html": "<div>\n<style scoped>\n    .dataframe tbody tr th:only-of-type {\n        vertical-align: middle;\n    }\n\n    .dataframe tbody tr th {\n        vertical-align: top;\n    }\n\n    .dataframe thead th {\n        text-align: right;\n    }\n</style>\n<table border=\"1\" class=\"dataframe\">\n  <thead>\n    <tr style=\"text-align: right;\">\n      <th></th>\n      <th>Div</th>\n      <th>Date</th>\n      <th>Time</th>\n      <th>HomeTeam</th>\n      <th>AwayTeam</th>\n      <th>FTHG</th>\n      <th>FTAG</th>\n      <th>FTR</th>\n      <th>HTHG</th>\n      <th>HTAG</th>\n      <th>...</th>\n      <th>AvgC&lt;2.5</th>\n      <th>AHCh</th>\n      <th>B365CAHH</th>\n      <th>B365CAHA</th>\n      <th>PCAHH</th>\n      <th>PCAHA</th>\n      <th>MaxCAHH</th>\n      <th>MaxCAHA</th>\n      <th>AvgCAHH</th>\n      <th>AvgCAHA</th>\n    </tr>\n  </thead>\n  <tbody>\n    <tr>\n      <th>283</th>\n      <td>E1</td>\n      <td>26/12/2023</td>\n      <td>15:00</td>\n      <td>Southampton</td>\n      <td>Swansea</td>\n      <td>5</td>\n      <td>0</td>\n      <td>H</td>\n      <td>1</td>\n      <td>0</td>\n      <td>...</td>\n      <td>2.37</td>\n      <td>-1.25</td>\n      <td>1.95</td>\n      <td>1.95</td>\n      <td>1.94</td>\n      <td>1.96</td>\n      <td>2.09</td>\n      <td>1.98</td>\n      <td>1.97</td>\n      <td>1.87</td>\n    </tr>\n    <tr>\n      <th>284</th>\n      <td>E1</td>\n      <td>26/12/2023</td>\n      <td>15:00</td>\n      <td>Watford</td>\n      <td>Bristol City</td>\n      <td>1</td>\n      <td>4</td>\n      <td>A</td>\n      <td>0</td>\n      <td>2</td>\n      <td>...</td>\n      <td>1.78</td>\n      <td>-0.50</td>\n      <td>1.95</td>\n      <td>1.95</td>\n      <td>1.97</td>\n      <td>1.93</td>\n      <td>1.98</td>\n      <td>1.97</td>\n      <td>1.94</td>\n      <td>1.90</td>\n    </tr>\n    <tr>\n      <th>285</th>\n      <td>E1</td>\n      <td>26/12/2023</td>\n      <td>15:00</td>\n      <td>West Brom</td>\n      <td>Norwich</td>\n      <td>1</td>\n      <td>0</td>\n      <td>H</td>\n      <td>0</td>\n      <td>0</td>\n      <td>...</td>\n      <td>1.86</td>\n      <td>-0.50</td>\n      <td>1.92</td>\n      <td>1.98</td>\n      <td>1.93</td>\n      <td>1.97</td>\n      <td>1.95</td>\n      <td>2.00</td>\n      <td>1.91</td>\n      <td>1.92</td>\n    </tr>\n    <tr>\n      <th>286</th>\n      <td>E1</td>\n      <td>26/12/2023</td>\n      <td>17:15</td>\n      <td>Birmingham</td>\n      <td>Stoke</td>\n      <td>1</td>\n      <td>3</td>\n      <td>A</td>\n      <td>0</td>\n      <td>2</td>\n      <td>...</td>\n      <td>1.84</td>\n      <td>0.00</td>\n      <td>2.04</td>\n      <td>1.86</td>\n      <td>2.07</td>\n      <td>1.85</td>\n      <td>2.07</td>\n      <td>1.90</td>\n      <td>2.01</td>\n      <td>1.84</td>\n    </tr>\n    <tr>\n      <th>287</th>\n      <td>E1</td>\n      <td>26/12/2023</td>\n      <td>19:45</td>\n      <td>Ipswich</td>\n      <td>Leicester</td>\n      <td>1</td>\n      <td>1</td>\n      <td>D</td>\n      <td>0</td>\n      <td>1</td>\n      <td>...</td>\n      <td>2.01</td>\n      <td>0.25</td>\n      <td>1.87</td>\n      <td>2.03</td>\n      <td>1.88</td>\n      <td>2.00</td>\n      <td>1.97</td>\n      <td>2.04</td>\n      <td>1.87</td>\n      <td>1.96</td>\n    </tr>\n  </tbody>\n</table>\n<p>5 rows × 106 columns</p>\n</div>"
     },
     "execution_count": 384,
     "metadata": {},
     "output_type": "execute_result"
    }
   ],
   "source": [
    "# import data\n",
    "import pandas as pd\n",
    "import numpy as np\n",
    "\n",
    "df = pd.read_csv('E1.csv')\n",
    "df.tail()"
   ]
  },
  {
   "cell_type": "code",
   "execution_count": 385,
   "outputs": [],
   "source": [
    "## Data Cleaning"
   ],
   "metadata": {
    "collapsed": false,
    "ExecuteTime": {
     "end_time": "2023-12-29T13:22:18.664313700Z",
     "start_time": "2023-12-29T13:22:18.594583100Z"
    }
   },
   "id": "c27a39651ea01908"
  },
  {
   "cell_type": "code",
   "execution_count": 386,
   "outputs": [
    {
     "data": {
      "text/plain": "(Div         0\n Date        0\n Time        0\n HomeTeam    0\n AwayTeam    0\n            ..\n PCAHA       0\n MaxCAHH     0\n MaxCAHA     0\n AvgCAHH     0\n AvgCAHA     0\n Length: 106, dtype: int64,\n 0)"
     },
     "execution_count": 386,
     "metadata": {},
     "output_type": "execute_result"
    }
   ],
   "source": [
    "# steps:\n",
    "# 1. Check for missing values\n",
    "missing_values = df.isnull().sum()\n",
    "\n",
    "# 2. Check for duplicates\n",
    "duplicate_rows = df.duplicated().sum()\n",
    "\n",
    "# Display the results of the checks\n",
    "missing_values, duplicate_rows"
   ],
   "metadata": {
    "collapsed": false,
    "ExecuteTime": {
     "end_time": "2023-12-29T13:22:18.736150300Z",
     "start_time": "2023-12-29T13:22:18.640903600Z"
    }
   },
   "id": "594bb92f2a11837b"
  },
  {
   "cell_type": "code",
   "execution_count": 387,
   "outputs": [
    {
     "name": "stdout",
     "output_type": "stream",
     "text": [
      "<class 'pandas.core.frame.DataFrame'>\n",
      "RangeIndex: 288 entries, 0 to 287\n",
      "Columns: 106 entries, Div to AvgCAHA\n",
      "dtypes: float64(82), int64(16), object(8)\n",
      "memory usage: 238.6+ KB\n"
     ]
    },
    {
     "data": {
      "text/plain": "  Div        Date   Time        HomeTeam     AwayTeam  FTHG  FTAG FTR  HTHG  \\\n0  E1  04/08/2023  20:00  Sheffield Weds  Southampton     1     2   A     0   \n1  E1  05/08/2023  15:00       Blackburn    West Brom     2     1   H     2   \n2  E1  05/08/2023  15:00    Bristol City      Preston     1     1   D     0   \n3  E1  05/08/2023  15:00   Middlesbrough     Millwall     0     1   A     0   \n4  E1  05/08/2023  15:00         Norwich         Hull     2     1   H     1   \n\n   HTAG  ... AvgC<2.5  AHCh  B365CAHH  B365CAHA  PCAHH  PCAHA  MaxCAHH  \\\n0     1  ...     1.83  0.25      1.91      1.99   1.93   2.00     1.97   \n1     0  ...     1.70  0.00      2.05      1.85   2.07   1.85     2.10   \n2     0  ...     1.68 -0.25      1.82      2.08   1.84   2.08     1.88   \n3     0  ...     1.77 -0.25      1.80      2.10   1.83   2.10     1.91   \n4     1  ...     1.92 -0.75      2.06      1.84   2.05   1.86     2.10   \n\n   MaxCAHA  AvgCAHH  AvgCAHA  \n0     2.00     1.88     1.95  \n1     1.88     2.03     1.82  \n2     2.15     1.80     2.04  \n3     2.14     1.85     1.99  \n4     1.91     2.01     1.83  \n\n[5 rows x 106 columns]",
      "text/html": "<div>\n<style scoped>\n    .dataframe tbody tr th:only-of-type {\n        vertical-align: middle;\n    }\n\n    .dataframe tbody tr th {\n        vertical-align: top;\n    }\n\n    .dataframe thead th {\n        text-align: right;\n    }\n</style>\n<table border=\"1\" class=\"dataframe\">\n  <thead>\n    <tr style=\"text-align: right;\">\n      <th></th>\n      <th>Div</th>\n      <th>Date</th>\n      <th>Time</th>\n      <th>HomeTeam</th>\n      <th>AwayTeam</th>\n      <th>FTHG</th>\n      <th>FTAG</th>\n      <th>FTR</th>\n      <th>HTHG</th>\n      <th>HTAG</th>\n      <th>...</th>\n      <th>AvgC&lt;2.5</th>\n      <th>AHCh</th>\n      <th>B365CAHH</th>\n      <th>B365CAHA</th>\n      <th>PCAHH</th>\n      <th>PCAHA</th>\n      <th>MaxCAHH</th>\n      <th>MaxCAHA</th>\n      <th>AvgCAHH</th>\n      <th>AvgCAHA</th>\n    </tr>\n  </thead>\n  <tbody>\n    <tr>\n      <th>0</th>\n      <td>E1</td>\n      <td>04/08/2023</td>\n      <td>20:00</td>\n      <td>Sheffield Weds</td>\n      <td>Southampton</td>\n      <td>1</td>\n      <td>2</td>\n      <td>A</td>\n      <td>0</td>\n      <td>1</td>\n      <td>...</td>\n      <td>1.83</td>\n      <td>0.25</td>\n      <td>1.91</td>\n      <td>1.99</td>\n      <td>1.93</td>\n      <td>2.00</td>\n      <td>1.97</td>\n      <td>2.00</td>\n      <td>1.88</td>\n      <td>1.95</td>\n    </tr>\n    <tr>\n      <th>1</th>\n      <td>E1</td>\n      <td>05/08/2023</td>\n      <td>15:00</td>\n      <td>Blackburn</td>\n      <td>West Brom</td>\n      <td>2</td>\n      <td>1</td>\n      <td>H</td>\n      <td>2</td>\n      <td>0</td>\n      <td>...</td>\n      <td>1.70</td>\n      <td>0.00</td>\n      <td>2.05</td>\n      <td>1.85</td>\n      <td>2.07</td>\n      <td>1.85</td>\n      <td>2.10</td>\n      <td>1.88</td>\n      <td>2.03</td>\n      <td>1.82</td>\n    </tr>\n    <tr>\n      <th>2</th>\n      <td>E1</td>\n      <td>05/08/2023</td>\n      <td>15:00</td>\n      <td>Bristol City</td>\n      <td>Preston</td>\n      <td>1</td>\n      <td>1</td>\n      <td>D</td>\n      <td>0</td>\n      <td>0</td>\n      <td>...</td>\n      <td>1.68</td>\n      <td>-0.25</td>\n      <td>1.82</td>\n      <td>2.08</td>\n      <td>1.84</td>\n      <td>2.08</td>\n      <td>1.88</td>\n      <td>2.15</td>\n      <td>1.80</td>\n      <td>2.04</td>\n    </tr>\n    <tr>\n      <th>3</th>\n      <td>E1</td>\n      <td>05/08/2023</td>\n      <td>15:00</td>\n      <td>Middlesbrough</td>\n      <td>Millwall</td>\n      <td>0</td>\n      <td>1</td>\n      <td>A</td>\n      <td>0</td>\n      <td>0</td>\n      <td>...</td>\n      <td>1.77</td>\n      <td>-0.25</td>\n      <td>1.80</td>\n      <td>2.10</td>\n      <td>1.83</td>\n      <td>2.10</td>\n      <td>1.91</td>\n      <td>2.14</td>\n      <td>1.85</td>\n      <td>1.99</td>\n    </tr>\n    <tr>\n      <th>4</th>\n      <td>E1</td>\n      <td>05/08/2023</td>\n      <td>15:00</td>\n      <td>Norwich</td>\n      <td>Hull</td>\n      <td>2</td>\n      <td>1</td>\n      <td>H</td>\n      <td>1</td>\n      <td>1</td>\n      <td>...</td>\n      <td>1.92</td>\n      <td>-0.75</td>\n      <td>2.06</td>\n      <td>1.84</td>\n      <td>2.05</td>\n      <td>1.86</td>\n      <td>2.10</td>\n      <td>1.91</td>\n      <td>2.01</td>\n      <td>1.83</td>\n    </tr>\n  </tbody>\n</table>\n<p>5 rows × 106 columns</p>\n</div>"
     },
     "execution_count": 387,
     "metadata": {},
     "output_type": "execute_result"
    }
   ],
   "source": [
    "# Dropping columns with a high number of missing values or irrelevant to our analysis\n",
    "irrelevant_columns = df.columns[df.isnull().sum() > (0.5 * len(df))]  # Columns with more than 50% missing values\n",
    "df_cleaned = df.drop(columns=irrelevant_columns)\n",
    "\n",
    "# Convert 'Date' to datetime\n",
    "#df_cleaned['Date'] = pd.to_datetime(df_cleaned['Date'], format='%d/%m/%Y')\n",
    "\n",
    "# Fill missing values in other relevant columns with appropriate values (like median or mode)\n",
    "# For numerical columns, we use median and for categorical, we use mode\n",
    "for column in df_cleaned.columns:\n",
    "    if df_cleaned[column].dtype == 'object':\n",
    "        df_cleaned[column].fillna(df_cleaned[column].mode()[0], inplace=True)\n",
    "    else:\n",
    "        df_cleaned[column].fillna(df_cleaned[column].median(), inplace=True)\n",
    "\n",
    "# Recheck for missing values\n",
    "remaining_missing_values = df_cleaned.isnull().sum().sum()\n",
    "\n",
    "# Basic information after cleaning\n",
    "remaining_missing_values, df_cleaned.info()\n",
    "\n",
    "df_cleaned.head()\n"
   ],
   "metadata": {
    "collapsed": false,
    "ExecuteTime": {
     "end_time": "2023-12-29T13:22:18.995528800Z",
     "start_time": "2023-12-29T13:22:18.740564100Z"
    }
   },
   "id": "598e531010defdf9"
  },
  {
   "cell_type": "markdown",
   "source": [
    "## Feature engineering\n",
    "\n",
    "### steps:\n",
    "* Encode Team Names: Use label encoding for 'HomeTeam' and 'AwayTeam'. This will convert team names into numeric values, making them usable for the model.\n",
    "\n",
    "* Recent Form: Calculate the recent form for each team based on the last 5 matches. We'll use the 'FTR' column to determine wins (W), losses (L), and draws (D). This feature will provide insight into the current performance of the teams.\n",
    "\n",
    "* Average Goals per Game: Compute the average goals scored per game for both home and away teams. This feature helps understand the offensive strength of the teams.\n",
    "\n",
    "* Team Points: Calculate the total points accumulated by each team so far in the season. Points are awarded based on wins (3 points), draws (1 point), and losses (0 points).\n",
    "\n",
    "* Head-to-Head Statistics: Analyze the outcomes of matches between the same pairs of teams earlier in the season.\n",
    "\n",
    "* Other Statistical Features: Depending on the data available, we can include additional features like average possession, number of shots on target, defensive strength, etc."
   ],
   "metadata": {
    "collapsed": false
   },
   "id": "2d8eb8645de65cd7"
  },
  {
   "cell_type": "code",
   "execution_count": 388,
   "outputs": [],
   "source": [
    "# Import the LabelEncoder class from the sklearn library\n",
    "from sklearn.preprocessing import LabelEncoder\n",
    "\n",
    "# Encode the team names\n",
    "label_encoder = LabelEncoder()\n",
    "df_cleaned['HomeTeamEncoded'] = label_encoder.fit_transform(df_cleaned['HomeTeam'])\n",
    "df_cleaned['AwayTeamEncoded'] = label_encoder.transform(df_cleaned['AwayTeam'])\n"
   ],
   "metadata": {
    "collapsed": false,
    "ExecuteTime": {
     "end_time": "2023-12-29T13:22:19.009736600Z",
     "start_time": "2023-12-29T13:22:18.833475200Z"
    }
   },
   "id": "555cad6dc030dab3"
  },
  {
   "cell_type": "markdown",
   "source": [
    "### Recent Form"
   ],
   "metadata": {
    "collapsed": false
   },
   "id": "8f21cce905c91424"
  },
  {
   "cell_type": "code",
   "execution_count": 389,
   "outputs": [],
   "source": [
    "# function to calculate recent form\n",
    "def calculate_form_points(team, df_cleaned, num_matches=5):\n",
    "    # Filter the matches for the team\n",
    "    team_matches = df_cleaned[(df_cleaned['HomeTeam'] == team) | (df_cleaned['AwayTeam'] == team)]\n",
    "    # Sort by date to get the most recent matches\n",
    "    team_matches = team_matches.sort_values(by='Date', ascending=False)\n",
    "    # Get the last 'num_matches' matches\n",
    "    recent_matches = team_matches.head(num_matches)\n",
    "    # Calculate form points\n",
    "    form_points = 0\n",
    "    for _, row in recent_matches.iterrows():\n",
    "        if row['HomeTeam'] == team and row['FTR'] == 'H':\n",
    "            form_points += 3\n",
    "        elif row['AwayTeam'] == team and row['FTR'] == 'A':\n",
    "            form_points += 3\n",
    "        elif row['FTR'] == 'D':\n",
    "            form_points += 1\n",
    "    return form_points\n",
    "\n",
    "# Apply the function to get recent form for each team in each match\n",
    "df_cleaned['HomeTeamRecentForm'] = df_cleaned.apply(lambda x: calculate_form_points(x['HomeTeam'], df_cleaned), axis=1)\n",
    "df_cleaned['AwayTeamRecentForm'] = df_cleaned.apply(lambda x: calculate_form_points(x['AwayTeam'], df_cleaned), axis=1)\n",
    "\n",
    "# Average Goals per Game\n",
    "df_cleaned['HomeTeamAvgGoals'] = df_cleaned.groupby('HomeTeam')['FTHG'].transform('mean')\n",
    "df_cleaned['AwayTeamAvgGoals'] = df_cleaned.groupby('AwayTeam')['FTAG'].transform('mean')\n",
    "\n",
    "# half time average goals\n",
    "df_cleaned['HomeTeamAvgGoalsHT'] = df_cleaned.groupby('HomeTeam')['HTHG'].transform('mean')\n",
    "df_cleaned['AwayTeamAvgGoalsHT'] = df_cleaned.groupby('AwayTeam')['HTAG'].transform('mean')\n",
    "\n",
    "\n"
   ],
   "metadata": {
    "collapsed": false,
    "ExecuteTime": {
     "end_time": "2023-12-29T13:22:19.944326500Z",
     "start_time": "2023-12-29T13:22:19.016740200Z"
    }
   },
   "id": "e80b6e05d39f4181"
  },
  {
   "cell_type": "markdown",
   "source": [
    "### Team Points"
   ],
   "metadata": {
    "collapsed": false
   },
   "id": "e1ad0e76308763b7"
  },
  {
   "cell_type": "code",
   "execution_count": 390,
   "outputs": [],
   "source": [
    "# Points will be calculated similar to form but for the whole season\n",
    "def calculate_team_points(team, df_cleaned):\n",
    "    team_matches = df_cleaned[(df_cleaned['HomeTeam'] == team) | (df_cleaned['AwayTeam'] == team)]\n",
    "    points = 0\n",
    "    for _, row in team_matches.iterrows():\n",
    "        if row['HomeTeam'] == team and row['FTR'] == 'H':\n",
    "            points += 3\n",
    "        elif row['AwayTeam'] == team and row['FTR'] == 'A':\n",
    "            points += 3\n",
    "        elif row['FTR'] == 'D':\n",
    "            points += 1\n",
    "    return points\n",
    "\n",
    "df_cleaned['HomeTeamPoints'] = df_cleaned.apply(lambda x: calculate_team_points(x['HomeTeam'], df_cleaned), axis=1)\n",
    "df_cleaned['AwayTeamPoints'] = df_cleaned.apply(lambda x: calculate_team_points(x['AwayTeam'], df_cleaned), axis=1)\n",
    "\n",
    "\n"
   ],
   "metadata": {
    "collapsed": false,
    "ExecuteTime": {
     "end_time": "2023-12-29T13:22:22.580611600Z",
     "start_time": "2023-12-29T13:22:19.944326500Z"
    }
   },
   "id": "8b40589ac3bdd675"
  },
  {
   "cell_type": "markdown",
   "source": [
    "### Head-to-Head Statistics"
   ],
   "metadata": {
    "collapsed": false
   },
   "id": "57af236918f2f896"
  },
  {
   "cell_type": "code",
   "execution_count": 391,
   "outputs": [],
   "source": [
    "# Head-to-Head Statistics\n",
    "# For simplicity, we can count the number of wins, draws, and losses in matches between the same teams\n",
    "# Note: This implementation is simplified for demonstration purposes\n",
    "def head_to_head_stats(home_team, away_team, df_cleaned):\n",
    "    head_to_head_matches = df_cleaned[(df_cleaned['HomeTeam'] == home_team) & (df['AwayTeam'] == away_team)]\n",
    "    wins = len(head_to_head_matches[head_to_head_matches['FTR'] == 'H'])\n",
    "    draws = len(head_to_head_matches[head_to_head_matches['FTR'] == 'D'])\n",
    "    losses = len(head_to_head_matches[head_to_head_matches['FTR'] == 'A'])\n",
    "    return wins, draws, losses\n",
    "\n",
    "# Apply the head-to-head stats function\n",
    "df_cleaned['HeadToHeadWins'], df_cleaned['HeadToHeadDraws'], df_cleaned['HeadToHeadLosses'] = zip(*df_cleaned.apply(lambda x: head_to_head_stats(x['HomeTeam'], x['AwayTeam'], df_cleaned), axis=1))"
   ],
   "metadata": {
    "collapsed": false,
    "ExecuteTime": {
     "end_time": "2023-12-29T13:22:24.200063700Z",
     "start_time": "2023-12-29T13:22:22.549185200Z"
    }
   },
   "id": "3a0101ebf2f84ad"
  },
  {
   "cell_type": "code",
   "execution_count": 392,
   "outputs": [
    {
     "name": "stdout",
     "output_type": "stream",
     "text": [
      "         HomeTeam  HomeTeamWinPercentage     AwayTeam  AwayTeamWinPercentage  \\\n",
      "0  Sheffield Weds               0.250000  Southampton               0.500000   \n",
      "1       Blackburn               0.416667    West Brom               0.333333   \n",
      "2    Bristol City               0.500000      Preston               0.333333   \n",
      "3   Middlesbrough               0.500000     Millwall               0.250000   \n",
      "4         Norwich               0.583333         Hull               0.416667   \n",
      "\n",
      "   HomeTeamAvgShotsOnTarget  AwayTeamAvgShotsOnTarget  HomeTeamAvgGoalsHT  \\\n",
      "0                  3.250000                  4.916667            0.416667   \n",
      "1                  4.333333                  2.583333            0.583333   \n",
      "2                  4.333333                  2.833333            0.916667   \n",
      "3                  5.750000                  3.250000            0.500000   \n",
      "4                  4.416667                  5.083333            0.583333   \n",
      "\n",
      "   AwayTeamAvgGoalsHT  \n",
      "0            0.583333  \n",
      "1            0.500000  \n",
      "2            0.416667  \n",
      "3            0.500000  \n",
      "4            0.833333  \n"
     ]
    }
   ],
   "source": [
    "# Calculate Home Team Win Percentage\n",
    "home_team_wins = df_cleaned[df_cleaned['FTR'] == 'H'].groupby('HomeTeam').size()\n",
    "total_home_matches = df_cleaned.groupby('HomeTeam').size()\n",
    "home_team_win_percentage = home_team_wins / total_home_matches\n",
    "# \n",
    "# Calculate Away Team Win Percentage\n",
    "away_team_wins = df_cleaned[df_cleaned['FTR'] == 'A'].groupby('AwayTeam').size()\n",
    "total_away_matches = df_cleaned.groupby('AwayTeam').size()\n",
    "away_team_win_percentage = away_team_wins / total_away_matches\n",
    "# \n",
    "# Create mappings for win percentages\n",
    "home_team_win_percentage_map = home_team_win_percentage.to_dict()\n",
    "away_team_win_percentage_map = away_team_win_percentage.to_dict()\n",
    "# \n",
    "# Map the win percentages to the original DataFrame\n",
    "df_cleaned['HomeTeamWinPercentage'] = df_cleaned['HomeTeam'].map(home_team_win_percentage_map).fillna(0)\n",
    "df_cleaned['AwayTeamWinPercentage'] = df_cleaned['AwayTeam'].map(away_team_win_percentage_map).fillna(0)\n",
    "\n",
    "# calculate the average shots on target for home and away teams\n",
    "df_cleaned['HomeTeamAvgShotsOnTarget'] = df_cleaned.groupby('HomeTeam')['HST'].transform('mean')\n",
    "df_cleaned['AwayTeamAvgShotsOnTarget'] = df_cleaned.groupby('AwayTeam')['AST'].transform('mean')\n",
    "\n",
    " \n",
    "# Check the first few rows to confirm the new features\n",
    "print(df_cleaned[['HomeTeam', 'HomeTeamWinPercentage', 'AwayTeam', 'AwayTeamWinPercentage','HomeTeamAvgShotsOnTarget','AwayTeamAvgShotsOnTarget', 'HomeTeamAvgGoalsHT', 'AwayTeamAvgGoalsHT']].head())\n"
   ],
   "metadata": {
    "collapsed": false,
    "ExecuteTime": {
     "end_time": "2023-12-29T13:22:24.202256Z",
     "start_time": "2023-12-29T13:22:24.119286300Z"
    }
   },
   "id": "963205374a6277f8"
  },
  {
   "cell_type": "code",
   "execution_count": 393,
   "outputs": [
    {
     "data": {
      "text/plain": "0"
     },
     "execution_count": 393,
     "metadata": {},
     "output_type": "execute_result"
    }
   ],
   "source": [
    "df_cleaned.head()\n",
    "\n",
    "# check for missing values\n",
    "df_cleaned.isnull().sum().sum() "
   ],
   "metadata": {
    "collapsed": false,
    "ExecuteTime": {
     "end_time": "2023-12-29T13:22:24.203370500Z",
     "start_time": "2023-12-29T13:22:24.132871800Z"
    }
   },
   "id": "83a669c72c30b0b3"
  },
  {
   "cell_type": "code",
   "execution_count": 394,
   "outputs": [
    {
     "data": {
      "text/plain": "                Points  GoalDiff  GoalsScored\nLeicester           59        31           48\nIpswich             53        15           48\nSouthampton         48        14           43\nLeeds               45        18           42\nWest Brom           39        12           35\nSunderland          36         6           33\nHull                36         5           36\nBristol City        35         3           30\nPreston             35       -10           31\nWatford             34         6           38\nCardiff             34         2           32\nNorwich             34         1           41\nCoventry            33         8           33\nMiddlesbrough       33         0           35\nBlackburn           31        -8           35\nPlymouth            28        -1           39\nSwansea             28        -5           32\nStoke               27        -7           24\nBirmingham          27        -8           30\nMillwall            26        -5           26\nHuddersfield        25       -14           24\nQPR                 20       -15           20\nSheffield Weds      16       -22           17\nRotherham           16       -26           21",
      "text/html": "<div>\n<style scoped>\n    .dataframe tbody tr th:only-of-type {\n        vertical-align: middle;\n    }\n\n    .dataframe tbody tr th {\n        vertical-align: top;\n    }\n\n    .dataframe thead th {\n        text-align: right;\n    }\n</style>\n<table border=\"1\" class=\"dataframe\">\n  <thead>\n    <tr style=\"text-align: right;\">\n      <th></th>\n      <th>Points</th>\n      <th>GoalDiff</th>\n      <th>GoalsScored</th>\n    </tr>\n  </thead>\n  <tbody>\n    <tr>\n      <th>Leicester</th>\n      <td>59</td>\n      <td>31</td>\n      <td>48</td>\n    </tr>\n    <tr>\n      <th>Ipswich</th>\n      <td>53</td>\n      <td>15</td>\n      <td>48</td>\n    </tr>\n    <tr>\n      <th>Southampton</th>\n      <td>48</td>\n      <td>14</td>\n      <td>43</td>\n    </tr>\n    <tr>\n      <th>Leeds</th>\n      <td>45</td>\n      <td>18</td>\n      <td>42</td>\n    </tr>\n    <tr>\n      <th>West Brom</th>\n      <td>39</td>\n      <td>12</td>\n      <td>35</td>\n    </tr>\n    <tr>\n      <th>Sunderland</th>\n      <td>36</td>\n      <td>6</td>\n      <td>33</td>\n    </tr>\n    <tr>\n      <th>Hull</th>\n      <td>36</td>\n      <td>5</td>\n      <td>36</td>\n    </tr>\n    <tr>\n      <th>Bristol City</th>\n      <td>35</td>\n      <td>3</td>\n      <td>30</td>\n    </tr>\n    <tr>\n      <th>Preston</th>\n      <td>35</td>\n      <td>-10</td>\n      <td>31</td>\n    </tr>\n    <tr>\n      <th>Watford</th>\n      <td>34</td>\n      <td>6</td>\n      <td>38</td>\n    </tr>\n    <tr>\n      <th>Cardiff</th>\n      <td>34</td>\n      <td>2</td>\n      <td>32</td>\n    </tr>\n    <tr>\n      <th>Norwich</th>\n      <td>34</td>\n      <td>1</td>\n      <td>41</td>\n    </tr>\n    <tr>\n      <th>Coventry</th>\n      <td>33</td>\n      <td>8</td>\n      <td>33</td>\n    </tr>\n    <tr>\n      <th>Middlesbrough</th>\n      <td>33</td>\n      <td>0</td>\n      <td>35</td>\n    </tr>\n    <tr>\n      <th>Blackburn</th>\n      <td>31</td>\n      <td>-8</td>\n      <td>35</td>\n    </tr>\n    <tr>\n      <th>Plymouth</th>\n      <td>28</td>\n      <td>-1</td>\n      <td>39</td>\n    </tr>\n    <tr>\n      <th>Swansea</th>\n      <td>28</td>\n      <td>-5</td>\n      <td>32</td>\n    </tr>\n    <tr>\n      <th>Stoke</th>\n      <td>27</td>\n      <td>-7</td>\n      <td>24</td>\n    </tr>\n    <tr>\n      <th>Birmingham</th>\n      <td>27</td>\n      <td>-8</td>\n      <td>30</td>\n    </tr>\n    <tr>\n      <th>Millwall</th>\n      <td>26</td>\n      <td>-5</td>\n      <td>26</td>\n    </tr>\n    <tr>\n      <th>Huddersfield</th>\n      <td>25</td>\n      <td>-14</td>\n      <td>24</td>\n    </tr>\n    <tr>\n      <th>QPR</th>\n      <td>20</td>\n      <td>-15</td>\n      <td>20</td>\n    </tr>\n    <tr>\n      <th>Sheffield Weds</th>\n      <td>16</td>\n      <td>-22</td>\n      <td>17</td>\n    </tr>\n    <tr>\n      <th>Rotherham</th>\n      <td>16</td>\n      <td>-26</td>\n      <td>21</td>\n    </tr>\n  </tbody>\n</table>\n</div>"
     },
     "execution_count": 394,
     "metadata": {},
     "output_type": "execute_result"
    }
   ],
   "source": [
    "# get the current position and calculate points for chelsea and the rest of the teams\n",
    "def calculate_points_goals(row):\n",
    "    home_points, away_points = 0, 0\n",
    "    home_goal_diff = row['FTHG'] - row['FTAG']\n",
    "    away_goal_diff = row['FTAG'] - row['FTHG']\n",
    "\n",
    "    if row['FTR'] == 'H':\n",
    "        home_points = 3\n",
    "    elif row['FTR'] == 'A':\n",
    "        away_points = 3\n",
    "    else:\n",
    "        home_points = away_points = 1\n",
    "\n",
    "    return pd.Series([home_points, away_points, home_goal_diff, away_goal_diff, row['FTHG'], row['FTAG']])\n",
    "\n",
    "# List of teams\n",
    "teams = df_cleaned['HomeTeam'].unique()\n",
    "\n",
    "# Applying the function to the dataset\n",
    "df_cleaned[['HomePoints', 'AwayPoints', 'HomeGoalDiff', 'AwayGoalDiff', 'HomeGoals', 'AwayGoals']] = df_cleaned.apply(calculate_points_goals, axis=1)\n",
    "\n",
    "# Summarizing the data for each team\n",
    "team_stats = pd.DataFrame(index=teams)\n",
    "\n",
    "# Calculating total points, goal difference, and goals scored for each team\n",
    "team_stats['Points'] = df_cleaned.groupby('HomeTeam')['HomePoints'].sum() + df_cleaned.groupby('AwayTeam')['AwayPoints'].sum()\n",
    "team_stats['GoalDiff'] = df_cleaned.groupby('HomeTeam')['HomeGoalDiff'].sum() + df_cleaned.groupby('AwayTeam')['AwayGoalDiff'].sum()\n",
    "team_stats['GoalsScored'] = df_cleaned.groupby('HomeTeam')['HomeGoals'].sum() + df_cleaned.groupby('AwayTeam')['AwayGoals'].sum()\n",
    "\n",
    "\n",
    "\n",
    "# Sorting the teams based on Points, Goal Difference, and Goals Scored\n",
    "sorted_teams = team_stats.sort_values(by=['Points', 'GoalDiff', 'GoalsScored'], ascending=[False, False, False])\n",
    "\n",
    "\n",
    "sorted_teams.head(24)\n"
   ],
   "metadata": {
    "collapsed": false,
    "ExecuteTime": {
     "end_time": "2023-12-29T13:22:24.269974800Z",
     "start_time": "2023-12-29T13:22:24.139326500Z"
    }
   },
   "id": "461924b794dcdc5f"
  },
  {
   "cell_type": "code",
   "execution_count": 395,
   "outputs": [
    {
     "data": {
      "text/plain": "  Div        Date   Time        HomeTeam     AwayTeam  FTHG  FTAG FTR  HTHG  \\\n0  E1  04/08/2023  20:00  Sheffield Weds  Southampton     1     2   A     0   \n1  E1  05/08/2023  15:00       Blackburn    West Brom     2     1   H     2   \n2  E1  05/08/2023  15:00    Bristol City      Preston     1     1   D     0   \n3  E1  05/08/2023  15:00   Middlesbrough     Millwall     0     1   A     0   \n4  E1  05/08/2023  15:00         Norwich         Hull     2     1   H     1   \n\n   HTAG  ... HomeTeamWinPercentage AwayTeamWinPercentage  \\\n0     1  ...              0.250000              0.500000   \n1     0  ...              0.416667              0.333333   \n2     0  ...              0.500000              0.333333   \n3     0  ...              0.500000              0.250000   \n4     1  ...              0.583333              0.416667   \n\n   HomeTeamAvgShotsOnTarget  AwayTeamAvgShotsOnTarget  HomePoints  AwayPoints  \\\n0                  3.250000                  4.916667           0           3   \n1                  4.333333                  2.583333           3           0   \n2                  4.333333                  2.833333           1           1   \n3                  5.750000                  3.250000           0           3   \n4                  4.416667                  5.083333           3           0   \n\n   HomeGoalDiff  AwayGoalDiff  HomeGoals  AwayGoals  \n0            -1             1          1          2  \n1             1            -1          2          1  \n2             0             0          1          1  \n3            -1             1          0          1  \n4             1            -1          2          1  \n\n[5 rows x 129 columns]",
      "text/html": "<div>\n<style scoped>\n    .dataframe tbody tr th:only-of-type {\n        vertical-align: middle;\n    }\n\n    .dataframe tbody tr th {\n        vertical-align: top;\n    }\n\n    .dataframe thead th {\n        text-align: right;\n    }\n</style>\n<table border=\"1\" class=\"dataframe\">\n  <thead>\n    <tr style=\"text-align: right;\">\n      <th></th>\n      <th>Div</th>\n      <th>Date</th>\n      <th>Time</th>\n      <th>HomeTeam</th>\n      <th>AwayTeam</th>\n      <th>FTHG</th>\n      <th>FTAG</th>\n      <th>FTR</th>\n      <th>HTHG</th>\n      <th>HTAG</th>\n      <th>...</th>\n      <th>HomeTeamWinPercentage</th>\n      <th>AwayTeamWinPercentage</th>\n      <th>HomeTeamAvgShotsOnTarget</th>\n      <th>AwayTeamAvgShotsOnTarget</th>\n      <th>HomePoints</th>\n      <th>AwayPoints</th>\n      <th>HomeGoalDiff</th>\n      <th>AwayGoalDiff</th>\n      <th>HomeGoals</th>\n      <th>AwayGoals</th>\n    </tr>\n  </thead>\n  <tbody>\n    <tr>\n      <th>0</th>\n      <td>E1</td>\n      <td>04/08/2023</td>\n      <td>20:00</td>\n      <td>Sheffield Weds</td>\n      <td>Southampton</td>\n      <td>1</td>\n      <td>2</td>\n      <td>A</td>\n      <td>0</td>\n      <td>1</td>\n      <td>...</td>\n      <td>0.250000</td>\n      <td>0.500000</td>\n      <td>3.250000</td>\n      <td>4.916667</td>\n      <td>0</td>\n      <td>3</td>\n      <td>-1</td>\n      <td>1</td>\n      <td>1</td>\n      <td>2</td>\n    </tr>\n    <tr>\n      <th>1</th>\n      <td>E1</td>\n      <td>05/08/2023</td>\n      <td>15:00</td>\n      <td>Blackburn</td>\n      <td>West Brom</td>\n      <td>2</td>\n      <td>1</td>\n      <td>H</td>\n      <td>2</td>\n      <td>0</td>\n      <td>...</td>\n      <td>0.416667</td>\n      <td>0.333333</td>\n      <td>4.333333</td>\n      <td>2.583333</td>\n      <td>3</td>\n      <td>0</td>\n      <td>1</td>\n      <td>-1</td>\n      <td>2</td>\n      <td>1</td>\n    </tr>\n    <tr>\n      <th>2</th>\n      <td>E1</td>\n      <td>05/08/2023</td>\n      <td>15:00</td>\n      <td>Bristol City</td>\n      <td>Preston</td>\n      <td>1</td>\n      <td>1</td>\n      <td>D</td>\n      <td>0</td>\n      <td>0</td>\n      <td>...</td>\n      <td>0.500000</td>\n      <td>0.333333</td>\n      <td>4.333333</td>\n      <td>2.833333</td>\n      <td>1</td>\n      <td>1</td>\n      <td>0</td>\n      <td>0</td>\n      <td>1</td>\n      <td>1</td>\n    </tr>\n    <tr>\n      <th>3</th>\n      <td>E1</td>\n      <td>05/08/2023</td>\n      <td>15:00</td>\n      <td>Middlesbrough</td>\n      <td>Millwall</td>\n      <td>0</td>\n      <td>1</td>\n      <td>A</td>\n      <td>0</td>\n      <td>0</td>\n      <td>...</td>\n      <td>0.500000</td>\n      <td>0.250000</td>\n      <td>5.750000</td>\n      <td>3.250000</td>\n      <td>0</td>\n      <td>3</td>\n      <td>-1</td>\n      <td>1</td>\n      <td>0</td>\n      <td>1</td>\n    </tr>\n    <tr>\n      <th>4</th>\n      <td>E1</td>\n      <td>05/08/2023</td>\n      <td>15:00</td>\n      <td>Norwich</td>\n      <td>Hull</td>\n      <td>2</td>\n      <td>1</td>\n      <td>H</td>\n      <td>1</td>\n      <td>1</td>\n      <td>...</td>\n      <td>0.583333</td>\n      <td>0.416667</td>\n      <td>4.416667</td>\n      <td>5.083333</td>\n      <td>3</td>\n      <td>0</td>\n      <td>1</td>\n      <td>-1</td>\n      <td>2</td>\n      <td>1</td>\n    </tr>\n  </tbody>\n</table>\n<p>5 rows × 129 columns</p>\n</div>"
     },
     "execution_count": 395,
     "metadata": {},
     "output_type": "execute_result"
    }
   ],
   "source": [
    "df_cleaned.head()"
   ],
   "metadata": {
    "collapsed": false,
    "ExecuteTime": {
     "end_time": "2023-12-29T13:22:24.289103600Z",
     "start_time": "2023-12-29T13:22:24.252771500Z"
    }
   },
   "id": "a504499f3d003fff"
  },
  {
   "cell_type": "markdown",
   "source": [
    "## Data Preprocessing"
   ],
   "metadata": {
    "collapsed": false
   },
   "id": "d59e451ed914c5aa"
  },
  {
   "cell_type": "markdown",
   "source": [
    "## Data Preprocessing\n",
    "### steps:\n",
    "* Scaling Numeric Features: We'll scale features like recent form, average goals, and points using StandardScaler.\n",
    "* Handling Categorical Variables: We have already encoded team names. We'll ensure other categorical features, if any, are properly encoded.\n",
    "* Splitting the Data: We'll split the data into training and test sets. We'll use the training set to train the model and the test set to evaluate the model's performance on unseen data."
   ],
   "metadata": {
    "collapsed": false
   },
   "id": "1f9016c9f3866d6a"
  },
  {
   "cell_type": "code",
   "execution_count": 396,
   "outputs": [],
   "source": [
    "from sklearn.preprocessing import StandardScaler\n",
    "from sklearn.model_selection import train_test_split\n",
    "from imblearn.over_sampling import SMOTE\n",
    "\n",
    "# select relevant columns or features\n",
    "features = ['HomeTeamEncoded', 'AwayTeamEncoded', 'HomeTeamRecentForm', 'AwayTeamRecentForm', 'HomeTeamAvgGoals', 'AwayTeamAvgGoals', 'HomeTeamPoints', 'AwayTeamPoints', 'HomeTeamWinPercentage', 'AwayTeamWinPercentage', 'HomeTeamAvgShotsOnTarget', 'AwayTeamAvgShotsOnTarget', 'HomeTeamAvgGoalsHT', 'AwayTeamAvgGoalsHT']\n",
    "target = 'FTR'\n",
    "\n",
    "# Split the data into training and test sets\n",
    "X = df_cleaned[features]\n",
    "y = df_cleaned[target]\n",
    "X_train, X_test, y_train, y_test = train_test_split(X, y, test_size=0.2, random_state=42)\n",
    "\n",
    "# Addressing Class Imbalance\n",
    "smote = SMOTE(random_state=42)\n",
    "X_train_smote, y_train_smote = smote.fit_resample(X_train, y_train)\n",
    "\n",
    "# Scaling the features\n",
    "scaler = StandardScaler()\n",
    "X_train_scaled = scaler.fit_transform(X_train_smote)\n",
    "X_test_scaled = scaler.transform(X_test)"
   ],
   "metadata": {
    "collapsed": false,
    "ExecuteTime": {
     "end_time": "2023-12-29T13:22:24.351650900Z",
     "start_time": "2023-12-29T13:22:24.273242800Z"
    }
   },
   "id": "7e96c1090ce0b20f"
  },
  {
   "cell_type": "markdown",
   "source": [
    "## Hyperparameter Tuning"
   ],
   "metadata": {
    "collapsed": false
   },
   "id": "cd674d54c6445cb0"
  },
  {
   "cell_type": "code",
   "execution_count": 397,
   "outputs": [],
   "source": [
    "from hyperopt import hp\n",
    "import numpy as np\n",
    "# Define the hyperparameter space\n",
    "space = {\n",
    "    'iterations': hp.quniform('iterations', 100, 1000, 50),\n",
    "    'depth': hp.choice('depth', np.arange(3, 11, dtype=int)),\n",
    "    'learning_rate': hp.loguniform('learning_rate', np.log(0.01), np.log(0.2)),\n",
    "    'l2_leaf_reg': hp.uniform('l2_leaf_reg', 1, 10),\n",
    "    'bagging_temperature': hp.uniform('bagging_temperature', 0, 1),\n",
    "    'random_strength': hp.uniform('random_strength', 0, 1)\n",
    "    \n",
    "}\n"
   ],
   "metadata": {
    "collapsed": false,
    "ExecuteTime": {
     "end_time": "2023-12-29T13:22:24.353847900Z",
     "start_time": "2023-12-29T13:22:24.301648700Z"
    }
   },
   "id": "a12593cf369807c2"
  },
  {
   "cell_type": "markdown",
   "source": [
    "## Creating the Objective Function so that we can use it in the hyperparameter optimization\n"
   ],
   "metadata": {
    "collapsed": false
   },
   "id": "3f57f1cfc4052e07"
  },
  {
   "cell_type": "code",
   "execution_count": 398,
   "outputs": [],
   "source": [
    "from hyperopt import STATUS_OK\n",
    "from sklearn.model_selection import train_test_split, StratifiedKFold, cross_val_score\n",
    "from catboost import CatBoostClassifier\n",
    "\n",
    "def objective(params):\n",
    "    params['iterations'] = int(params['iterations'])\n",
    "    clf = CatBoostClassifier(**params, loss_function='MultiClass', verbose=False)\n",
    "    score = cross_val_score(clf, X_train_scaled, y_train_smote, scoring='accuracy', cv=StratifiedKFold(10)).mean()\n",
    "    return {'loss': -score, 'status': STATUS_OK}\n",
    "\n"
   ],
   "metadata": {
    "collapsed": false,
    "ExecuteTime": {
     "end_time": "2023-12-29T13:22:24.396305900Z",
     "start_time": "2023-12-29T13:22:24.314829600Z"
    }
   },
   "id": "9dfbab99a51f5aa3"
  },
  {
   "cell_type": "code",
   "execution_count": 399,
   "outputs": [
    {
     "name": "stdout",
     "output_type": "stream",
     "text": [
      "100%|██████████| 10/10 [04:27<00:00, 26.74s/trial, best loss: -0.6475806451612903]\n"
     ]
    }
   ],
   "source": [
    "# run the hyperparameter optimization\n",
    "from hyperopt import tpe, Trials, fmin\n",
    "\n",
    "trials = Trials()\n",
    "best = fmin(fn=objective, space=space, algo=tpe.suggest, max_evals=10, trials=trials)"
   ],
   "metadata": {
    "collapsed": false,
    "ExecuteTime": {
     "end_time": "2023-12-29T13:26:51.789082200Z",
     "start_time": "2023-12-29T13:22:24.323021300Z"
    }
   },
   "id": "de338388260330ca"
  },
  {
   "cell_type": "code",
   "execution_count": 400,
   "outputs": [
    {
     "name": "stdout",
     "output_type": "stream",
     "text": [
      "Best hyperparameters: {'bagging_temperature': 0.6364763408110247, 'depth': 6, 'iterations': 400, 'l2_leaf_reg': 8.599126083224103, 'learning_rate': 0.07913495587122336, 'random_strength': 0.9024923769287154}\n",
      "              precision    recall  f1-score   support\n",
      "\n",
      "           A       0.26      0.55      0.35        11\n",
      "           D       0.45      0.28      0.34        18\n",
      "           H       0.71      0.59      0.64        29\n",
      "\n",
      "    accuracy                           0.48        58\n",
      "   macro avg       0.47      0.47      0.45        58\n",
      "weighted avg       0.54      0.48      0.49        58\n",
      "\n",
      "Training Accuracy: 0.8044871794871795\n"
     ]
    }
   ],
   "source": [
    "from sklearn.metrics import classification_report, accuracy_score\n",
    "\n",
    "best_params = {k: int(v) if k in ['iterations', 'depth'] else v for k, v in best.items()}\n",
    "final_model = CatBoostClassifier(**best_params, loss_function='MultiClass', eval_metric='Accuracy', verbose=False)\n",
    "# add early stopping to prevent overfitting, traning will stop if the validation accuracy does not improve for 50 rounds\n",
    "final_model.fit(X_train_scaled, y_train_smote, eval_set=(X_test_scaled, y_test), early_stopping_rounds=50)  # early stopping to prevent overfitting\n",
    "\n",
    "print(\"Best hyperparameters:\", best_params)\n",
    "\n",
    "# Evaluate the model\n",
    "y_pred = final_model.predict(X_test_scaled)\n",
    "print(classification_report(y_test, y_pred, zero_division=0))\n",
    "\n",
    "# Calculate Training Accuracy\n",
    "y_train_pred = final_model.predict(X_train_scaled)\n",
    "training_accuracy = accuracy_score(y_train_smote, y_train_pred)\n",
    "print(f\"Training Accuracy: {training_accuracy}\")"
   ],
   "metadata": {
    "collapsed": false,
    "ExecuteTime": {
     "end_time": "2023-12-29T13:26:52.084543200Z",
     "start_time": "2023-12-29T13:26:51.789082200Z"
    }
   },
   "id": "aabeceba28053ac8"
  },
  {
   "cell_type": "markdown",
   "source": [
    "## Check for overfitting"
   ],
   "metadata": {
    "collapsed": false
   },
   "id": "3c462e5d5e49bad3"
  },
  {
   "cell_type": "code",
   "execution_count": 401,
   "outputs": [
    {
     "name": "stdout",
     "output_type": "stream",
     "text": [
      "Average Cross-Validation Score: 0.6314102564102564\n",
      "The model might be overfitting.\n"
     ]
    }
   ],
   "source": [
    "# check for overfitting\n",
    "from sklearn.model_selection import cross_val_score\n",
    "\n",
    "# Perform cross-validation\n",
    "cv_scores = cross_val_score(final_model, X_train_scaled, y_train_smote, cv=6)\n",
    "\n",
    "# Print the average score\n",
    "print(f\"Average Cross-Validation Score: {cv_scores.mean()}\")\n",
    "\n",
    "# Compare Training and Cross-Validation Accuracies\n",
    "if training_accuracy > cv_scores.mean():\n",
    "    print(\"The model might be overfitting.\")\n",
    "else:\n",
    "    print(\"The model does not appear to be overfitting.\")"
   ],
   "metadata": {
    "collapsed": false,
    "ExecuteTime": {
     "end_time": "2023-12-29T13:26:55.602329400Z",
     "start_time": "2023-12-29T13:26:52.085542300Z"
    }
   },
   "id": "67b496de77bf0717"
  },
  {
   "cell_type": "code",
   "execution_count": 402,
   "outputs": [
    {
     "data": {
      "text/plain": "<Figure size 1000x600 with 1 Axes>",
      "image/png": "[encoded data removed]"
     },
     "metadata": {},
     "output_type": "display_data"
    }
   ],
   "source": [
    "import matplotlib.pyplot as plt\n",
    "\n",
    "# Get feature importances\n",
    "feature_importances = final_model.get_feature_importance()\n",
    "\n",
    "# Create a bar plot\n",
    "plt.figure(figsize=(10, 6))\n",
    "plt.barh(features, feature_importances)\n",
    "plt.xlabel('Importance')\n",
    "plt.ylabel('Feature')\n",
    "plt.title('Feature Importance')\n",
    "plt.show()\n"
   ],
   "metadata": {
    "collapsed": false,
    "ExecuteTime": {
     "end_time": "2023-12-29T13:26:55.783752900Z",
     "start_time": "2023-12-29T13:26:55.602329400Z"
    }
   },
   "id": "a5d54a5012d0961f"
  },
  {
   "cell_type": "code",
   "execution_count": 403,
   "outputs": [
    {
     "name": "stdout",
     "output_type": "stream",
     "text": [
      "Southampton win probability: 0.09742577546588808\n",
      "Plymouth win probability: 0.4146636182199949\n",
      "Draw probability: 0.487910606314117\n",
      "Birmingham win probability: 0.294595373333159\n",
      "Bristol City win probability: 0.2800961307346112\n",
      "Draw probability: 0.4253084959322298\n"
     ]
    },
    {
     "data": {
      "text/plain": "(0.294595373333159, 0.2800961307346112, 0.4253084959322298)"
     },
     "execution_count": 403,
     "metadata": {},
     "output_type": "execute_result"
    }
   ],
   "source": [
    "# make predictions for the 2023/24 season\n",
    "def predict_match(home_team, away_team, final_model, scaler):\n",
    "    # Create a dataframe with the appropriate format\n",
    "    match = pd.DataFrame(columns=['HomeTeamEncoded', 'AwayTeamEncoded', 'HomeTeamRecentForm', 'AwayTeamRecentForm', 'HomeTeamAvgGoals', 'AwayTeamAvgGoals', 'HomeTeamPoints', 'AwayTeamPoints', 'HomeTeamWinPercentage', 'AwayTeamWinPercentage', 'HomeTeamAvgShotsOnTarget', 'AwayTeamAvgShotsOnTarget', 'HomeTeamAvgGoalsHT', 'AwayTeamAvgGoalsHT'])\n",
    "    match.loc[0] = [label_encoder.transform([home_team])[0], label_encoder.transform([away_team])[0], calculate_form_points(home_team, df_cleaned), calculate_form_points(away_team, df_cleaned), df_cleaned[df_cleaned['HomeTeam'] == home_team]['HomeTeamAvgGoals'].values[0], df_cleaned[df_cleaned['AwayTeam'] == away_team]['AwayTeamAvgGoals'].values[0], calculate_team_points(home_team, df_cleaned), calculate_team_points(away_team, df_cleaned), home_team_win_percentage[home_team], away_team_win_percentage[away_team], df_cleaned[df_cleaned['HomeTeam'] == home_team]['HomeTeamAvgShotsOnTarget'].values[0], df_cleaned[df_cleaned['AwayTeam'] == away_team]['AwayTeamAvgShotsOnTarget'].values[0], df_cleaned[df_cleaned['HomeTeam'] == home_team]['HomeTeamAvgGoalsHT'].values[0], df_cleaned[df_cleaned['AwayTeam'] == away_team]['AwayTeamAvgGoalsHT'].values[0]]\n",
    "    # Scale the features\n",
    "    match_scaled = scaler.transform(match)\n",
    "    # Make predictions\n",
    "    home_team_win_prob = final_model.predict_proba(match_scaled)[0][0]\n",
    "    away_team_win_prob = final_model.predict_proba(match_scaled)[0][2]\n",
    "    draw_prob = final_model.predict_proba(match_scaled)[0][1]\n",
    "    # Print the results\n",
    "    print(f\"{home_team} win probability: {home_team_win_prob}\")\n",
    "    print(f\"{away_team} win probability: {away_team_win_prob}\")\n",
    "    print(f\"Draw probability: {draw_prob}\")\n",
    "    \n",
    "    return home_team_win_prob, away_team_win_prob, draw_prob\n",
    "\n",
    "predict_match('Southampton', 'Plymouth', final_model, scaler)\n",
    "\n",
    "predict_match('Birmingham', 'Bristol City', final_model, scaler)\n",
    "\n"
   ],
   "metadata": {
    "collapsed": false,
    "ExecuteTime": {
     "end_time": "2023-12-29T13:26:55.916705200Z",
     "start_time": "2023-12-29T13:26:55.787031Z"
    }
   },
   "id": "4f462d23e29aa2fc"
  },
  {
   "cell_type": "code",
   "execution_count": 404,
   "outputs": [
    {
     "data": {
      "text/plain": "0"
     },
     "execution_count": 404,
     "metadata": {},
     "output_type": "execute_result"
    }
   ],
   "source": [
    "df_cleaned.isnull().sum().sum()"
   ],
   "metadata": {
    "collapsed": false,
    "ExecuteTime": {
     "end_time": "2023-12-29T13:26:55.917821300Z",
     "start_time": "2023-12-29T13:26:55.834618400Z"
    }
   },
   "id": "f99db5634ec38249"
  },
  {
   "cell_type": "markdown",
   "source": [
    "## Random Forest Classifier"
   ],
   "metadata": {
    "collapsed": false
   },
   "id": "637d152343ca7415"
  },
  {
   "cell_type": "code",
   "execution_count": 405,
   "outputs": [
    {
     "name": "stdout",
     "output_type": "stream",
     "text": [
      "Best Parameters: {'max_depth': 10, 'min_samples_leaf': 1, 'min_samples_split': 2, 'n_estimators': 300}\n",
      "Best Cross-Validation Score: 0.6238048284831911\n",
      "              precision    recall  f1-score   support\n",
      "\n",
      "           A       0.26      0.55      0.35        11\n",
      "           D       0.45      0.28      0.34        18\n",
      "           H       0.71      0.59      0.64        29\n",
      "\n",
      "    accuracy                           0.48        58\n",
      "   macro avg       0.47      0.47      0.45        58\n",
      "weighted avg       0.54      0.48      0.49        58\n"
     ]
    }
   ],
   "source": [
    "from sklearn.ensemble import RandomForestClassifier\n",
    "from imblearn.over_sampling import SMOTE\n",
    "from sklearn.model_selection import GridSearchCV\n",
    "from sklearn.model_selection import train_test_split\n",
    "from sklearn.impute import SimpleImputer\n",
    "\n",
    "# Assuming X and y are already defined\n",
    "X_train, X_test, y_train, y_test = train_test_split(X, y, test_size=0.2, random_state=42)\n",
    "\n",
    "# Addressing Class Imbalance\n",
    "smote = SMOTE(random_state=42)\n",
    "X_train_smote, y_train_smote = smote.fit_resample(X_train, y_train)\n",
    "\n",
    "imputer = SimpleImputer(missing_values=np.nan, strategy='median')\n",
    "\n",
    "# Fit and transform the training data\n",
    "X_train_imputed = imputer.fit_transform(X_train_smote)\n",
    "\n",
    "# Transform the test data\n",
    "X_test_imputed = imputer.transform(X_test)\n",
    "\n",
    "scaler = StandardScaler()\n",
    "\n",
    "# Scale the imputed training data\n",
    "X_train_scaled = scaler.fit_transform(X_train_imputed)\n",
    "\n",
    "# Scale the imputed test data\n",
    "X_test_scaled = scaler.transform(X_test_imputed)\n",
    "\n",
    "\n",
    "# Hyperparameter Tuning\n",
    "model = RandomForestClassifier(random_state=42)\n",
    "param_grid = {\n",
    "    'n_estimators': [100, 200, 300],\n",
    "    'max_depth': [None, 10, 20, 30],\n",
    "    'min_samples_split': [2, 5, 10],\n",
    "    'min_samples_leaf': [1, 2, 4]\n",
    "}\n",
    "\n",
    "grid_search = GridSearchCV(model, param_grid, cv=3, scoring='f1_macro', return_train_score=True)\n",
    "grid_search.fit(X_train_scaled, y_train_smote)\n",
    "\n",
    "# Accessing cross-validation results\n",
    "cv_results = grid_search.cv_results_\n",
    "print(\"Best Parameters:\", grid_search.best_params_)\n",
    "print(\"Best Cross-Validation Score:\", grid_search.best_score_)\n",
    "\n",
    "# Best Model Evaluation\n",
    "best_model = grid_search.best_estimator_\n",
    "y_pred = best_model.predict(X_test_scaled)\n",
    "print(classification_report(y_test, y_pred))\n",
    "\n"
   ],
   "metadata": {
    "collapsed": false,
    "ExecuteTime": {
     "end_time": "2023-12-29T13:28:29.414735300Z",
     "start_time": "2023-12-29T13:26:55.842979400Z"
    }
   },
   "id": "97857b4fc23ad2d7"
  },
  {
   "cell_type": "code",
   "execution_count": 406,
   "outputs": [
    {
     "name": "stdout",
     "output_type": "stream",
     "text": [
      "Average Cross-Validation Score: 0.6089743589743589\n"
     ]
    }
   ],
   "source": [
    "# check for overfitting\n",
    "from sklearn.model_selection import cross_val_score\n",
    "\n",
    "# Perform cross-validation\n",
    "cv_scores = cross_val_score(best_model, X_train_scaled, y_train_smote, cv=6)\n",
    "\n",
    "# Print the average score\n",
    "print(f\"Average Cross-Validation Score: {cv_scores.mean()}\")\n"
   ],
   "metadata": {
    "collapsed": false,
    "ExecuteTime": {
     "end_time": "2023-12-29T13:28:32.377238600Z",
     "start_time": "2023-12-29T13:28:29.407498800Z"
    }
   },
   "id": "d0f0f7e3a64c65b4"
  },
  {
   "cell_type": "code",
   "execution_count": 407,
   "outputs": [
    {
     "data": {
      "text/plain": "<Figure size 1000x600 with 1 Axes>",
      "image/png": "[encoded data removed]"
     },
     "metadata": {},
     "output_type": "display_data"
    }
   ],
   "source": [
    "# Get feature importances\n",
    "feature_importances = best_model.feature_importances_\n",
    "\n",
    "# Create a bar plot\n",
    "plt.figure(figsize=(10, 6))\n",
    "plt.barh(features, feature_importances)\n",
    "plt.xlabel('Importance')\n",
    "plt.ylabel('Feature')\n",
    "plt.title('Feature Importance')\n",
    "plt.show()"
   ],
   "metadata": {
    "collapsed": false,
    "ExecuteTime": {
     "end_time": "2023-12-29T13:28:32.576433600Z",
     "start_time": "2023-12-29T13:28:32.377140800Z"
    }
   },
   "id": "46802ca78ffe219a"
  },
  {
   "cell_type": "code",
   "execution_count": 408,
   "outputs": [
    {
     "data": {
      "text/plain": "0"
     },
     "execution_count": 408,
     "metadata": {},
     "output_type": "execute_result"
    }
   ],
   "source": [
    "# sum of missing values or nan values\n",
    "df_cleaned.isnull().sum().sum()"
   ],
   "metadata": {
    "collapsed": false,
    "ExecuteTime": {
     "end_time": "2023-12-29T13:28:32.589337100Z",
     "start_time": "2023-12-29T13:28:32.576433600Z"
    }
   },
   "id": "c5da2ad1f359f014"
  },
  {
   "cell_type": "code",
   "execution_count": 409,
   "outputs": [
    {
     "name": "stdout",
     "output_type": "stream",
     "text": [
      "Southampton win probability: 0.04125000000000001\n",
      "Plymouth win probability: 0.6758055555555554\n",
      "Draw probability: 0.28294444444444444\n",
      "Birmingham win probability: 0.2401981267605405\n",
      "Bristol City win probability: 0.4253719514521768\n",
      "Draw probability: 0.3344299217872829\n"
     ]
    },
    {
     "data": {
      "text/plain": "(0.2401981267605405, 0.4253719514521768, 0.3344299217872829)"
     },
     "execution_count": 409,
     "metadata": {},
     "output_type": "execute_result"
    }
   ],
   "source": [
    "from sklearn.impute import SimpleImputer\n",
    "\n",
    "\n",
    "def predict_match(home_team, away_team, model, scaler):\n",
    "    # Ensure that the teams are in the dataset\n",
    "    if home_team not in df_cleaned['HomeTeam'].unique() or away_team not in df_cleaned['AwayTeam'].unique():\n",
    "        return f\"Error: '{home_team}' or '{away_team}' not found in the dataset.\"\n",
    "\n",
    "    # Create a dataframe with the appropriate format\n",
    "    match = pd.DataFrame(columns=['HomeTeamEncoded', 'AwayTeamEncoded', 'HomeTeamRecentForm', 'AwayTeamRecentForm', 'HomeTeamAvgGoals', 'AwayTeamAvgGoals', 'HomeTeamPoints', 'AwayTeamPoints', 'HomeTeamWinPercentage', 'AwayTeamWinPercentage', 'HomeTeamAvgShotsOnTarget', 'AwayTeamAvgShotsOnTarget', 'HomeTeamAvgGoalsHT', 'AwayTeamAvgGoalsHT'])\n",
    "    \n",
    "    # Populate the match dataframe with values from the cleaned dataset\n",
    "    match.loc[0] = [\n",
    "        label_encoder.transform([home_team])[0], \n",
    "        label_encoder.transform([away_team])[0], \n",
    "        calculate_form_points(home_team, df_cleaned), \n",
    "        calculate_form_points(away_team, df_cleaned), \n",
    "        df_cleaned[df_cleaned['HomeTeam'] == home_team]['HomeTeamAvgGoals'].mean(), \n",
    "        df_cleaned[df_cleaned['AwayTeam'] == away_team]['AwayTeamAvgGoals'].mean(), \n",
    "        calculate_team_points(home_team, df_cleaned), \n",
    "        calculate_team_points(away_team, df_cleaned), \n",
    "        home_team_win_percentage[home_team], \n",
    "        away_team_win_percentage[away_team], \n",
    "        df_cleaned[df_cleaned['HomeTeam'] == home_team]['HomeTeamAvgShotsOnTarget'].mean(), \n",
    "        df_cleaned[df_cleaned['AwayTeam'] == away_team]['AwayTeamAvgShotsOnTarget'].mean(), \n",
    "        df_cleaned[df_cleaned['HomeTeam'] == home_team]['HomeTeamAvgGoalsHT'].mean(), \n",
    "        df_cleaned[df_cleaned['AwayTeam'] == away_team]['AwayTeamAvgGoalsHT'].mean()\n",
    "    ]\n",
    "\n",
    "    # Check for NaN values and handle them with imputer\n",
    "    match_imputed = imputer.transform(match)\n",
    "\n",
    "    # Scale the features\n",
    "    match_scaled = scaler.transform(match_imputed)\n",
    "\n",
    "    # Make predictions\n",
    "    probabilities = model.predict_proba(match_scaled)[0]\n",
    "    home_team_win_prob, draw_prob, away_team_win_prob = probabilities\n",
    "\n",
    "     # Print the results\n",
    "    print(f\"{home_team} win probability: {home_team_win_prob}\")\n",
    "    print(f\"{away_team} win probability: {away_team_win_prob}\")\n",
    "    print(f\"Draw probability: {draw_prob}\")\n",
    "    \n",
    "    return home_team_win_prob, away_team_win_prob, draw_prob\n",
    "\n",
    "\n",
    "\n",
    "predict_match('Southampton', 'Plymouth', best_model, scaler)\n",
    "\n",
    "predict_match('Birmingham', 'Bristol City', best_model, scaler)\n"
   ],
   "metadata": {
    "collapsed": false,
    "ExecuteTime": {
     "end_time": "2023-12-29T13:28:32.714999500Z",
     "start_time": "2023-12-29T13:28:32.584887800Z"
    }
   },
   "id": "a6b3ba5a99932591"
  },
  {
   "cell_type": "markdown",
   "source": [
    "## withou"
   ],
   "metadata": {
    "collapsed": false
   },
   "id": "73da970f6fbc3a61"
  },
  {
   "cell_type": "code",
   "execution_count": 410,
   "outputs": [],
   "source": [
    "# now using xgb classifier\n",
    "from hyperopt import hp\n",
    "\n",
    "# Define the hyperparameter space\n",
    "space = {\n",
    "    'n_estimators': hp.quniform('n_estimators', 100, 1000, 50),\n",
    "    'max_depth': hp.choice('max_depth', np.arange(3, 11, dtype=int)),\n",
    "    'learning_rate': hp.loguniform('learning_rate', np.log(0.01), np.log(0.2)),\n",
    "    'reg_lambda': hp.uniform('reg_lambda', 1, 10),\n",
    "    'reg_alpha': hp.uniform('reg_alpha', 1, 10),\n",
    "    'gamma': hp.uniform('gamma', 0, 1),\n",
    "    'min_child_weight': hp.uniform('min_child_weight', 0, 10)\n",
    "}\n"
   ],
   "metadata": {
    "collapsed": false,
    "ExecuteTime": {
     "end_time": "2023-12-29T13:28:32.717077300Z",
     "start_time": "2023-12-29T13:28:32.662155700Z"
    }
   },
   "id": "5edc9411e290677a"
  },
  {
   "cell_type": "code",
   "execution_count": 411,
   "outputs": [],
   "source": [
    "from sklearn.preprocessing import LabelEncoder\n",
    "\n",
    "# Initialize the LabelEncoder\n",
    "label_encoder_y = LabelEncoder()\n",
    "\n",
    "# Fit and transform the target variable using label_encoder_y\n",
    "y_train_encoded = label_encoder_y.fit_transform(y_train_smote)\n",
    "y_test_encoded = label_encoder_y.transform(y_test)\n"
   ],
   "metadata": {
    "collapsed": false,
    "ExecuteTime": {
     "end_time": "2023-12-29T13:28:32.718180600Z",
     "start_time": "2023-12-29T13:28:32.669423900Z"
    }
   },
   "id": "ffc381d78a46ec27"
  },
  {
   "cell_type": "code",
   "execution_count": 412,
   "outputs": [],
   "source": [
    "from hyperopt import STATUS_OK\n",
    "from sklearn.metrics import accuracy_score\n",
    "import xgboost as xgb\n",
    "\n",
    "def objective(params):\n",
    "    params['n_estimators'] = int(params['n_estimators'])\n",
    "    params['max_depth'] = int(params['max_depth'])\n",
    "\n",
    "    clf = xgb.XGBClassifier(**params, use_label_encoder=False, eval_metric='mlogloss', random_state=42, early_stopping_rounds=50)\n",
    "\n",
    "    clf.fit(X_train_scaled, y_train_encoded, eval_set=[(X_test_scaled, y_test_encoded)], verbose=False)\n",
    "\n",
    "    y_pred = clf.predict(X_test_scaled)\n",
    "    accuracy = accuracy_score(y_test_encoded, y_pred)\n",
    "    return {'loss': -accuracy, 'status': STATUS_OK}\n",
    "\n"
   ],
   "metadata": {
    "collapsed": false,
    "ExecuteTime": {
     "end_time": "2023-12-29T13:28:32.782814Z",
     "start_time": "2023-12-29T13:28:32.678382700Z"
    }
   },
   "id": "1625a0f87146f6d9"
  },
  {
   "cell_type": "code",
   "execution_count": 413,
   "outputs": [
    {
     "name": "stdout",
     "output_type": "stream",
     "text": [
      "100%|██████████| 10/10 [00:00<00:00, 11.34trial/s, best loss: -0.5172413793103449]\n",
      "Best hyperparameters: {'gamma': 0.30972150834660883, 'learning_rate': 0.011818395001284813, 'max_depth': 5, 'min_child_weight': 2.175070916048387, 'n_estimators': 600.0, 'reg_alpha': 9.095283899534742, 'reg_lambda': 2.619901464568734}\n"
     ]
    }
   ],
   "source": [
    "# Trials object to store details of each iteration\n",
    "trials = Trials()\n",
    "\n",
    "# Run the hyperparameter search using the tpe algorithm\n",
    "best = fmin(fn=objective, space=space, algo=tpe.suggest, max_evals=10, trials=trials)\n",
    "\n",
    "print(\"Best hyperparameters:\", best)\n"
   ],
   "metadata": {
    "collapsed": false,
    "ExecuteTime": {
     "end_time": "2023-12-29T13:28:33.583232100Z",
     "start_time": "2023-12-29T13:28:32.685053800Z"
    }
   },
   "id": "ff6bfa4639afcfff"
  },
  {
   "cell_type": "code",
   "execution_count": 414,
   "outputs": [
    {
     "name": "stdout",
     "output_type": "stream",
     "text": [
      "{'gamma': 0.30972150834660883, 'learning_rate': 0.011818395001284813, 'max_depth': 5, 'min_child_weight': 2.175070916048387, 'n_estimators': 600, 'reg_alpha': 9.095283899534742, 'reg_lambda': 2.619901464568734}\n"
     ]
    }
   ],
   "source": [
    "from sklearn.metrics import classification_report\n",
    "\n",
    "# Get the best parameters\n",
    "best_params = {k: int(v) if k in ['n_estimators', 'max_depth'] else v for k, v in best.items()}\n",
    "print(best_params)\n"
   ],
   "metadata": {
    "collapsed": false,
    "ExecuteTime": {
     "end_time": "2023-12-29T13:28:33.588444700Z",
     "start_time": "2023-12-29T13:28:33.580151300Z"
    }
   },
   "id": "b26c143455869c26"
  },
  {
   "cell_type": "code",
   "execution_count": 415,
   "outputs": [
    {
     "data": {
      "text/plain": "XGBClassifier(base_score=None, booster=None, callbacks=None,\n              colsample_bylevel=None, colsample_bynode=None,\n              colsample_bytree=None, device=None, early_stopping_rounds=None,\n              enable_categorical=False, eval_metric='mlogloss',\n              feature_types=None, gamma=0.30972150834660883, grow_policy=None,\n              importance_type=None, interaction_constraints=None,\n              learning_rate=0.011818395001284813, max_bin=None,\n              max_cat_threshold=None, max_cat_to_onehot=None,\n              max_delta_step=None, max_depth=5, max_leaves=None,\n              min_child_weight=2.175070916048387, missing=nan,\n              monotone_constraints=None, multi_strategy=None, n_estimators=600,\n              n_jobs=None, num_parallel_tree=None, objective='multi:softprob', ...)",
      "text/html": "<style>#sk-container-id-4 {color: black;}#sk-container-id-4 pre{padding: 0;}#sk-container-id-4 div.sk-toggleable {background-color: white;}#sk-container-id-4 label.sk-toggleable__label {cursor: pointer;display: block;width: 100%;margin-bottom: 0;padding: 0.3em;box-sizing: border-box;text-align: center;}#sk-container-id-4 label.sk-toggleable__label-arrow:before {content: \"▸\";float: left;margin-right: 0.25em;color: #696969;}#sk-container-id-4 label.sk-toggleable__label-arrow:hover:before {color: black;}#sk-container-id-4 div.sk-estimator:hover label.sk-toggleable__label-arrow:before {color: black;}#sk-container-id-4 div.sk-toggleable__content {max-height: 0;max-width: 0;overflow: hidden;text-align: left;background-color: #f0f8ff;}#sk-container-id-4 div.sk-toggleable__content pre {margin: 0.2em;color: black;border-radius: 0.25em;background-color: #f0f8ff;}#sk-container-id-4 input.sk-toggleable__control:checked~div.sk-toggleable__content {max-height: 200px;max-width: 100%;overflow: auto;}#sk-container-id-4 input.sk-toggleable__control:checked~label.sk-toggleable__label-arrow:before {content: \"▾\";}#sk-container-id-4 div.sk-estimator input.sk-toggleable__control:checked~label.sk-toggleable__label {background-color: #d4ebff;}#sk-container-id-4 div.sk-label input.sk-toggleable__control:checked~label.sk-toggleable__label {background-color: #d4ebff;}#sk-container-id-4 input.sk-hidden--visually {border: 0;clip: rect(1px 1px 1px 1px);clip: rect(1px, 1px, 1px, 1px);height: 1px;margin: -1px;overflow: hidden;padding: 0;position: absolute;width: 1px;}#sk-container-id-4 div.sk-estimator {font-family: monospace;background-color: #f0f8ff;border: 1px dotted black;border-radius: 0.25em;box-sizing: border-box;margin-bottom: 0.5em;}#sk-container-id-4 div.sk-estimator:hover {background-color: #d4ebff;}#sk-container-id-4 div.sk-parallel-item::after {content: \"\";width: 100%;border-bottom: 1px solid gray;flex-grow: 1;}#sk-container-id-4 div.sk-label:hover label.sk-toggleable__label {background-color: #d4ebff;}#sk-container-id-4 div.sk-serial::before {content: \"\";position: absolute;border-left: 1px solid gray;box-sizing: border-box;top: 0;bottom: 0;left: 50%;z-index: 0;}#sk-container-id-4 div.sk-serial {display: flex;flex-direction: column;align-items: center;background-color: white;padding-right: 0.2em;padding-left: 0.2em;position: relative;}#sk-container-id-4 div.sk-item {position: relative;z-index: 1;}#sk-container-id-4 div.sk-parallel {display: flex;align-items: stretch;justify-content: center;background-color: white;position: relative;}#sk-container-id-4 div.sk-item::before, #sk-container-id-4 div.sk-parallel-item::before {content: \"\";position: absolute;border-left: 1px solid gray;box-sizing: border-box;top: 0;bottom: 0;left: 50%;z-index: -1;}#sk-container-id-4 div.sk-parallel-item {display: flex;flex-direction: column;z-index: 1;position: relative;background-color: white;}#sk-container-id-4 div.sk-parallel-item:first-child::after {align-self: flex-end;width: 50%;}#sk-container-id-4 div.sk-parallel-item:last-child::after {align-self: flex-start;width: 50%;}#sk-container-id-4 div.sk-parallel-item:only-child::after {width: 0;}#sk-container-id-4 div.sk-dashed-wrapped {border: 1px dashed gray;margin: 0 0.4em 0.5em 0.4em;box-sizing: border-box;padding-bottom: 0.4em;background-color: white;}#sk-container-id-4 div.sk-label label {font-family: monospace;font-weight: bold;display: inline-block;line-height: 1.2em;}#sk-container-id-4 div.sk-label-container {text-align: center;}#sk-container-id-4 div.sk-container {/* jupyter's `normalize.less` sets `[hidden] { display: none; }` but bootstrap.min.css set `[hidden] { display: none !important; }` so we also need the `!important` here to be able to override the default hidden behavior on the sphinx rendered scikit-learn.org. See: https://github.com/scikit-learn/scikit-learn/issues/21755 */display: inline-block !important;position: relative;}#sk-container-id-4 div.sk-text-repr-fallback {display: none;}</style><div id=\"sk-container-id-4\" class=\"sk-top-container\"><div class=\"sk-text-repr-fallback\"><pre>XGBClassifier(base_score=None, booster=None, callbacks=None,\n              colsample_bylevel=None, colsample_bynode=None,\n              colsample_bytree=None, device=None, early_stopping_rounds=None,\n              enable_categorical=False, eval_metric=&#x27;mlogloss&#x27;,\n              feature_types=None, gamma=0.30972150834660883, grow_policy=None,\n              importance_type=None, interaction_constraints=None,\n              learning_rate=0.011818395001284813, max_bin=None,\n              max_cat_threshold=None, max_cat_to_onehot=None,\n              max_delta_step=None, max_depth=5, max_leaves=None,\n              min_child_weight=2.175070916048387, missing=nan,\n              monotone_constraints=None, multi_strategy=None, n_estimators=600,\n              n_jobs=None, num_parallel_tree=None, objective=&#x27;multi:softprob&#x27;, ...)</pre><b>In a Jupyter environment, please rerun this cell to show the HTML representation or trust the notebook. <br />On GitHub, the HTML representation is unable to render, please try loading this page with nbviewer.org.</b></div><div class=\"sk-container\" hidden><div class=\"sk-item\"><div class=\"sk-estimator sk-toggleable\"><input class=\"sk-toggleable__control sk-hidden--visually\" id=\"sk-estimator-id-4\" type=\"checkbox\" checked><label for=\"sk-estimator-id-4\" class=\"sk-toggleable__label sk-toggleable__label-arrow\">XGBClassifier</label><div class=\"sk-toggleable__content\"><pre>XGBClassifier(base_score=None, booster=None, callbacks=None,\n              colsample_bylevel=None, colsample_bynode=None,\n              colsample_bytree=None, device=None, early_stopping_rounds=None,\n              enable_categorical=False, eval_metric=&#x27;mlogloss&#x27;,\n              feature_types=None, gamma=0.30972150834660883, grow_policy=None,\n              importance_type=None, interaction_constraints=None,\n              learning_rate=0.011818395001284813, max_bin=None,\n              max_cat_threshold=None, max_cat_to_onehot=None,\n              max_delta_step=None, max_depth=5, max_leaves=None,\n              min_child_weight=2.175070916048387, missing=nan,\n              monotone_constraints=None, multi_strategy=None, n_estimators=600,\n              n_jobs=None, num_parallel_tree=None, objective=&#x27;multi:softprob&#x27;, ...)</pre></div></div></div></div></div>"
     },
     "execution_count": 415,
     "metadata": {},
     "output_type": "execute_result"
    }
   ],
   "source": [
    "# Train the model with best parameters\n",
    "xg_model = xgb.XGBClassifier(**best_params, use_label_encoder=False, eval_metric='mlogloss', random_state=42)\n",
    "xg_model.fit(X_train_scaled, y_train_encoded)\n",
    "\n"
   ],
   "metadata": {
    "collapsed": false,
    "ExecuteTime": {
     "end_time": "2023-12-29T13:28:33.830418200Z",
     "start_time": "2023-12-29T13:28:33.587941600Z"
    }
   },
   "id": "2ef7fbac276a02ab"
  },
  {
   "cell_type": "code",
   "execution_count": 416,
   "outputs": [
    {
     "name": "stdout",
     "output_type": "stream",
     "text": [
      "              precision    recall  f1-score   support\n",
      "\n",
      "           0       0.27      0.64      0.38        11\n",
      "           1       0.56      0.28      0.37        18\n",
      "           2       0.74      0.59      0.65        29\n",
      "\n",
      "    accuracy                           0.50        58\n",
      "   macro avg       0.52      0.50      0.47        58\n",
      "weighted avg       0.59      0.50      0.51        58\n"
     ]
    }
   ],
   "source": [
    "# Evaluate the model\n",
    "y_pred = xg_model.predict(X_test_scaled)\n",
    "print(classification_report(y_test_encoded, y_pred, zero_division=0))\n"
   ],
   "metadata": {
    "collapsed": false,
    "ExecuteTime": {
     "end_time": "2023-12-29T13:28:33.846446300Z",
     "start_time": "2023-12-29T13:28:33.830418200Z"
    }
   },
   "id": "1fb6cfb9fdd8d2d2"
  },
  {
   "cell_type": "code",
   "execution_count": 417,
   "outputs": [
    {
     "name": "stdout",
     "output_type": "stream",
     "text": [
      "Southampton win probability: 0.33169132471084595\n",
      "Plymouth win probability: 0.3526787757873535\n",
      "Draw probability: 0.31562989950180054\n",
      "Birmingham win probability: 0.32339245080947876\n",
      "Bristol City win probability: 0.32355478405952454\n",
      "Draw probability: 0.3530527949333191\n"
     ]
    },
    {
     "name": "stderr",
     "output_type": "stream",
     "text": [
      "C:\\Users\\dagbo_b40tnyc\\AppData\\Local\\Programs\\Python\\Python311\\Lib\\site-packages\\sklearn\\base.py:458: UserWarning: X has feature names, but StandardScaler was fitted without feature names\n",
      "  warnings.warn(\n",
      "C:\\Users\\dagbo_b40tnyc\\AppData\\Local\\Programs\\Python\\Python311\\Lib\\site-packages\\sklearn\\base.py:458: UserWarning: X has feature names, but StandardScaler was fitted without feature names\n",
      "  warnings.warn(\n"
     ]
    },
    {
     "data": {
      "text/plain": "(0.32339245, 0.32355478, 0.3530528)"
     },
     "execution_count": 417,
     "metadata": {},
     "output_type": "execute_result"
    }
   ],
   "source": [
    "# make predictions for the 2023/24 season\n",
    "def predict_match(home_team, away_team, xg_model, scaler):\n",
    "    # Create a dataframe with the appropriate format\n",
    "    match = pd.DataFrame(columns=['HomeTeamEncoded', 'AwayTeamEncoded', 'HomeTeamRecentForm', 'AwayTeamRecentForm', 'HomeTeamAvgGoals', 'AwayTeamAvgGoals', 'HomeTeamPoints', 'AwayTeamPoints', 'HomeTeamWinPercentage', 'AwayTeamWinPercentage', 'HomeTeamAvgShotsOnTarget', 'AwayTeamAvgShotsOnTarget', 'HomeTeamAvgGoalsHT', 'AwayTeamAvgGoalsHT'])\n",
    "    match.loc[0] = [label_encoder.transform([home_team])[0], label_encoder.transform([away_team])[0], calculate_form_points(home_team, df_cleaned), calculate_form_points(away_team, df_cleaned), df_cleaned[df_cleaned['HomeTeam'] == home_team]['HomeTeamAvgGoals'].values[0], df_cleaned[df_cleaned['AwayTeam'] == away_team]['AwayTeamAvgGoals'].values[0], calculate_team_points(home_team, df_cleaned), calculate_team_points(away_team, df_cleaned), home_team_win_percentage[home_team], away_team_win_percentage[away_team], df_cleaned[df_cleaned['HomeTeam'] == home_team]['HomeTeamAvgShotsOnTarget'].values[0], df_cleaned[df_cleaned['AwayTeam'] == away_team]['AwayTeamAvgShotsOnTarget'].values[0], df_cleaned[df_cleaned['HomeTeam'] == home_team]['HomeTeamAvgGoalsHT'].values[0], df_cleaned[df_cleaned['AwayTeam'] == away_team]['AwayTeamAvgGoalsHT'].values[0]]\n",
    "    # Scale the features\n",
    "    match_scaled = scaler.transform(match)\n",
    "    # Make predictions\n",
    "    home_team_win_prob = xg_model.predict_proba(match_scaled)[0][0]\n",
    "    away_team_win_prob = xg_model.predict_proba(match_scaled)[0][2]\n",
    "    draw_prob = xg_model.predict_proba(match_scaled)[0][1]\n",
    "    # Print the results\n",
    "    print(f\"{home_team} win probability: {home_team_win_prob}\")\n",
    "    print(f\"{away_team} win probability: {away_team_win_prob}\")\n",
    "    print(f\"Draw probability: {draw_prob}\")\n",
    "    \n",
    "    return home_team_win_prob, away_team_win_prob, draw_prob\n",
    "\n",
    "predict_match('Southampton', 'Plymouth', xg_model, scaler)\n",
    "\n",
    "predict_match('Birmingham', 'Bristol City', xg_model, scaler)\n",
    "\n"
   ],
   "metadata": {
    "collapsed": false,
    "ExecuteTime": {
     "end_time": "2023-12-29T13:28:33.893204600Z",
     "start_time": "2023-12-29T13:28:33.842188100Z"
    }
   },
   "id": "e404783912cc3dc7"
  },
  {
   "cell_type": "markdown",
   "source": [
    "without using smote"
   ],
   "metadata": {
    "collapsed": false
   },
   "id": "e65473ccfb1be03a"
  },
  {
   "cell_type": "code",
   "execution_count": 418,
   "outputs": [
    {
     "name": "stdout",
     "output_type": "stream",
     "text": [
      "100%|██████████| 10/10 [00:00<00:00, 14.26trial/s, best loss: -0.5172413793103449]\n",
      "Best hyperparameters: {'gamma': 0.32769691215406527, 'learning_rate': 0.012812069047736982, 'max_depth': 2, 'min_child_weight': 8.127045890347661, 'n_estimators': 300.0, 'reg_alpha': 8.820732939019539, 'reg_lambda': 2.21639303341886}\n"
     ]
    }
   ],
   "source": [
    "from sklearn.model_selection import train_test_split\n",
    "from sklearn.preprocessing import LabelEncoder\n",
    "from sklearn.metrics import accuracy_score\n",
    "from hyperopt import hp, fmin, tpe, Trials, STATUS_OK\n",
    "import xgboost as xgb\n",
    "import numpy as np\n",
    "\n",
    "\n",
    "\n",
    "# Select relevant columns or features and the target\n",
    "features = [\n",
    "    'HomeTeamEncoded', 'AwayTeamEncoded', 'HomeTeamRecentForm', 'AwayTeamRecentForm', \n",
    "    'HomeTeamAvgGoals', 'AwayTeamAvgGoals', 'HomeTeamPoints', 'AwayTeamPoints', \n",
    "    'HomeTeamWinPercentage', 'AwayTeamWinPercentage', 'HomeTeamAvgShotsOnTarget', \n",
    "    'AwayTeamAvgShotsOnTarget', 'HomeTeamAvgGoalsHT', 'AwayTeamAvgGoalsHT'\n",
    "]\n",
    "target = 'FTR'\n",
    "\n",
    "# Split the data into training and test sets\n",
    "X = df_cleaned[features]\n",
    "y = df_cleaned[target]\n",
    "X_train, X_test, y_train, y_test = train_test_split(X, y, test_size=0.2, random_state=42)\n",
    "\n",
    "# Scaling the features\n",
    "scaler = StandardScaler()\n",
    "X_train_scaled = scaler.fit_transform(X_train)\n",
    "X_test_scaled = scaler.transform(X_test)\n",
    "\n",
    "# Initialize the LabelEncoder\n",
    "label_encoder_y = LabelEncoder()\n",
    "\n",
    "# Fit and transform the target variable using label_encoder_y\n",
    "y_train_encoded = label_encoder_y.fit_transform(y_train)\n",
    "y_test_encoded = label_encoder_y.transform(y_test)\n",
    "\n",
    "# Define the hyperparameter space\n",
    "space = {\n",
    "    'n_estimators': hp.quniform('n_estimators', 100, 1000, 50),\n",
    "    'max_depth': hp.choice('max_depth', np.arange(3, 11, dtype=int)),\n",
    "    'learning_rate': hp.loguniform('learning_rate', np.log(0.01), np.log(0.2)),\n",
    "    'reg_lambda': hp.uniform('reg_lambda', 1, 10),\n",
    "    'reg_alpha': hp.uniform('reg_alpha', 1, 10),\n",
    "    'gamma': hp.uniform('gamma', 0, 1),\n",
    "    'min_child_weight': hp.uniform('min_child_weight', 0, 10)\n",
    "}\n",
    "\n",
    "def objective(params):\n",
    "    params['n_estimators'] = int(params['n_estimators'])\n",
    "    params['max_depth'] = int(params['max_depth'])\n",
    "\n",
    "    clf = xgb.XGBClassifier(**params, use_label_encoder=False, eval_metric='mlogloss', random_state=42, early_stopping_rounds=10,)\n",
    "\n",
    "    clf.fit(X_train_scaled, y_train_encoded, eval_set=[(X_test_scaled, y_test_encoded)], verbose=False)\n",
    "\n",
    "    y_pred = clf.predict(X_test_scaled)\n",
    "    accuracy = accuracy_score(y_test_encoded, y_pred)\n",
    "    return {'loss': -accuracy, 'status': STATUS_OK}\n",
    "\n",
    "# Trials object to store details of each iteration\n",
    "trials = Trials()\n",
    "\n",
    "# Run the hyperparameter search using the tpe algorithm\n",
    "best = fmin(fn=objective, space=space, algo=tpe.suggest, max_evals=10, trials=trials)\n",
    "\n",
    "print(\"Best hyperparameters:\", best)\n"
   ],
   "metadata": {
    "collapsed": false,
    "ExecuteTime": {
     "end_time": "2023-12-29T13:28:34.627361700Z",
     "start_time": "2023-12-29T13:28:33.898573600Z"
    }
   },
   "id": "ef8b9c4251984808"
  },
  {
   "cell_type": "code",
   "execution_count": 419,
   "outputs": [
    {
     "name": "stdout",
     "output_type": "stream",
     "text": [
      "{'gamma': 0.32769691215406527, 'learning_rate': 0.012812069047736982, 'max_depth': 2, 'min_child_weight': 8.127045890347661, 'n_estimators': 300, 'reg_alpha': 8.820732939019539, 'reg_lambda': 2.21639303341886}\n",
      "              precision    recall  f1-score   support\n",
      "\n",
      "           0       0.29      0.36      0.32        11\n",
      "           1       0.00      0.00      0.00        18\n",
      "           2       0.59      0.90      0.71        29\n",
      "\n",
      "    accuracy                           0.52        58\n",
      "   macro avg       0.29      0.42      0.34        58\n",
      "weighted avg       0.35      0.52      0.42        58\n"
     ]
    }
   ],
   "source": [
    "# evaluate the model\n",
    "from sklearn.metrics import classification_report\n",
    "\n",
    "# Get the best parameters\n",
    "best_params = {k: int(v) if k in ['n_estimators', 'max_depth'] else v for k, v in best.items()}\n",
    "print(best_params)\n",
    "\n",
    "# Train the model with best parameters\n",
    "xg_model = xgb.XGBClassifier(**best_params, use_label_encoder=False, eval_metric='mlogloss', random_state=42)\n",
    "\n",
    "xg_model.fit(X_train_scaled, y_train_encoded)\n",
    "\n",
    "# Evaluate the model\n",
    "y_pred = xg_model.predict(X_test_scaled)\n",
    "\n",
    "print(classification_report(y_test_encoded, y_pred, zero_division=0))"
   ],
   "metadata": {
    "collapsed": false,
    "ExecuteTime": {
     "end_time": "2023-12-29T13:28:34.722470800Z",
     "start_time": "2023-12-29T13:28:34.618818900Z"
    }
   },
   "id": "c10f6d2a1f5a6158"
  },
  {
   "cell_type": "code",
   "execution_count": 420,
   "outputs": [
    {
     "name": "stdout",
     "output_type": "stream",
     "text": [
      "Southampton win probability: 0.2728903293609619\n",
      "Plymouth win probability: 0.5182079076766968\n",
      "Draw probability: 0.2089017778635025\n",
      "Birmingham win probability: 0.32534369826316833\n",
      "Bristol City win probability: 0.42001253366470337\n",
      "Draw probability: 0.2546437978744507\n"
     ]
    },
    {
     "data": {
      "text/plain": "(0.3253437, 0.42001253, 0.2546438)"
     },
     "execution_count": 420,
     "metadata": {},
     "output_type": "execute_result"
    }
   ],
   "source": [
    "# make predictions for the 2023/24 season\n",
    "def predict_match(home_team, away_team, xg_model, scaler):\n",
    "    # Create a dataframe with the appropriate format\n",
    "    match = pd.DataFrame(columns=['HomeTeamEncoded', 'AwayTeamEncoded', 'HomeTeamRecentForm', 'AwayTeamRecentForm', 'HomeTeamAvgGoals', 'AwayTeamAvgGoals', 'HomeTeamPoints', 'AwayTeamPoints', 'HomeTeamWinPercentage', 'AwayTeamWinPercentage', 'HomeTeamAvgShotsOnTarget', 'AwayTeamAvgShotsOnTarget', 'HomeTeamAvgGoalsHT', 'AwayTeamAvgGoalsHT'])\n",
    "    match.loc[0] = [label_encoder.transform([home_team])[0], label_encoder.transform([away_team])[0], calculate_form_points(home_team, df_cleaned), calculate_form_points(away_team, df_cleaned), df_cleaned[df_cleaned['HomeTeam'] == home_team]['HomeTeamAvgGoals'].values[0], df_cleaned[df_cleaned['AwayTeam'] == away_team]['AwayTeamAvgGoals'].values[0], calculate_team_points(home_team, df_cleaned), calculate_team_points(away_team, df_cleaned), home_team_win_percentage[home_team], away_team_win_percentage[away_team], df_cleaned[df_cleaned['HomeTeam'] == home_team]['HomeTeamAvgShotsOnTarget'].values[0], df_cleaned[df_cleaned['AwayTeam'] == away_team]['AwayTeamAvgShotsOnTarget'].values[0], df_cleaned[df_cleaned['HomeTeam'] == home_team]['HomeTeamAvgGoalsHT'].values[0], df_cleaned[df_cleaned['AwayTeam'] == away_team]['AwayTeamAvgGoalsHT'].values[0]]\n",
    "    # Scale the features\n",
    "    match_scaled = scaler.transform(match)\n",
    "    # Make predictions\n",
    "    home_team_win_prob = xg_model.predict_proba(match_scaled)[0][0]\n",
    "    away_team_win_prob = xg_model.predict_proba(match_scaled)[0][2]\n",
    "    draw_prob = xg_model.predict_proba(match_scaled)[0][1]\n",
    "    # Print the results\n",
    "    print(f\"{home_team} win probability: {home_team_win_prob}\")\n",
    "    print(f\"{away_team} win probability: {away_team_win_prob}\")\n",
    "    print(f\"Draw probability: {draw_prob}\")\n",
    "    \n",
    "    return home_team_win_prob, away_team_win_prob, draw_prob\n",
    "\n",
    "predict_match('Southampton', 'Plymouth', xg_model, scaler)\n",
    "\n",
    "predict_match('Birmingham', 'Bristol City', xg_model, scaler)\n",
    "\n"
   ],
   "metadata": {
    "collapsed": false,
    "ExecuteTime": {
     "end_time": "2023-12-29T13:28:34.765125400Z",
     "start_time": "2023-12-29T13:28:34.722470800Z"
    }
   },
   "id": "eda04660ab070914"
  },
  {
   "cell_type": "code",
   "execution_count": 425,
   "outputs": [
    {
     "name": "stdout",
     "output_type": "stream",
     "text": [
      "              precision    recall  f1-score   support\n",
      "\n",
      "           A       0.29      0.55      0.37        11\n",
      "           D       0.00      0.00      0.00        18\n",
      "           H       0.59      0.76      0.67        29\n",
      "\n",
      "    accuracy                           0.48        58\n",
      "   macro avg       0.29      0.43      0.35        58\n",
      "weighted avg       0.35      0.48      0.40        58\n"
     ]
    }
   ],
   "source": [
    "from catboost import CatBoostClassifier\n",
    "from sklearn.metrics import classification_report\n",
    "\n",
    "# Using the best parameters obtained from hyperparameter tuning\n",
    "best_params_catboost = {\n",
    "    'iterations': 400,\n",
    "    'depth': 6,\n",
    "    'learning_rate': 0.07913495587122336,\n",
    "    'l2_leaf_reg': 8.599126083224103,\n",
    "    'bagging_temperature': 0.6364763408110247,\n",
    "    'random_strength': 0.9024923769287154\n",
    "}\n",
    "\n",
    "# Initialize CatBoost Classifier with the best parameters\n",
    "catboost_model = CatBoostClassifier(**best_params_catboost, loss_function='MultiClass', eval_metric='Accuracy', verbose=False)\n",
    "\n",
    "# Train the model on the original dataset (without SMOTE)\n",
    "catboost_model.fit(X_train_scaled, y_train, eval_set=(X_test_scaled, y_test), early_stopping_rounds=50)\n",
    "\n",
    "# Predict on the test set\n",
    "y_pred_catboost = catboost_model.predict(X_test_scaled)\n",
    "\n",
    "# Classification report\n",
    "print(classification_report(y_test, y_pred_catboost, zero_division=0))\n"
   ],
   "metadata": {
    "collapsed": false,
    "ExecuteTime": {
     "end_time": "2023-12-29T13:40:12.982320200Z",
     "start_time": "2023-12-29T13:40:12.801833300Z"
    }
   },
   "id": "20650a2a578cc9bb"
  },
  {
   "cell_type": "code",
   "execution_count": 426,
   "outputs": [
    {
     "name": "stdout",
     "output_type": "stream",
     "text": [
      "              precision    recall  f1-score   support\n",
      "\n",
      "           A       0.17      0.36      0.23        11\n",
      "           D       0.60      0.17      0.26        18\n",
      "           H       0.59      0.59      0.59        29\n",
      "\n",
      "    accuracy                           0.41        58\n",
      "   macro avg       0.45      0.37      0.36        58\n",
      "weighted avg       0.51      0.41      0.42        58\n"
     ]
    }
   ],
   "source": [
    "from sklearn.ensemble import RandomForestClassifier\n",
    "from sklearn.metrics import classification_report\n",
    "\n",
    "# Use the best parameters previously obtained\n",
    "best_params_rf = {\n",
    "    'n_estimators': 300,  # Example value\n",
    "    'max_depth': 10,      # Example value\n",
    "    'min_samples_split': 2,  # Example value\n",
    "    'min_samples_leaf': 1  # Example value\n",
    "}\n",
    "\n",
    "# Initialize RandomForest Classifier with the best parameters\n",
    "rf_model = RandomForestClassifier(**best_params_rf, random_state=42)\n",
    "\n",
    "# Train the model on the original dataset (without SMOTE)\n",
    "rf_model.fit(X_train_scaled, y_train)\n",
    "\n",
    "# Predict on the test set\n",
    "y_pred_rf = rf_model.predict(X_test_scaled)\n",
    "\n",
    "# Classification report\n",
    "print(classification_report(y_test, y_pred_rf))\n"
   ],
   "metadata": {
    "collapsed": false,
    "ExecuteTime": {
     "end_time": "2023-12-29T13:40:46.369867Z",
     "start_time": "2023-12-29T13:40:45.436550Z"
    }
   },
   "id": "ac3768aedd84bd80"
  },
  {
   "cell_type": "code",
   "execution_count": 431,
   "outputs": [
    {
     "name": "stdout",
     "output_type": "stream",
     "text": [
      "VotingClassifier(estimators=[('catboost',\n",
      "                              <catboost.core.CatBoostClassifier object at 0x00000152216250D0>),\n",
      "                             ('xg',\n",
      "                              XGBClassifier(base_score=None, booster=None,\n",
      "                                            callbacks=None,\n",
      "                                            colsample_bylevel=None,\n",
      "                                            colsample_bynode=None,\n",
      "                                            colsample_bytree=None, device=None,\n",
      "                                            early_stopping_rounds=None,\n",
      "                                            enable_categorical=False,\n",
      "                                            eval_metric='mlogloss',\n",
      "                                            feature_types=None,\n",
      "                                            gamma=0.32...\n",
      "                                            interaction_constraints=None,\n",
      "                                            learning_rate=0.012812069047736982,\n",
      "                                            max_bin=None,\n",
      "                                            max_cat_threshold=None,\n",
      "                                            max_cat_to_onehot=None,\n",
      "                                            max_delta_step=None, max_depth=2,\n",
      "                                            max_leaves=None,\n",
      "                                            min_child_weight=8.127045890347661,\n",
      "                                            missing=nan,\n",
      "                                            monotone_constraints=None,\n",
      "                                            multi_strategy=None,\n",
      "                                            n_estimators=300, n_jobs=None,\n",
      "                                            num_parallel_tree=None,\n",
      "                                            objective='multi:softprob', ...))],\n",
      "                 voting='soft')\n",
      "              precision    recall  f1-score   support\n",
      "\n",
      "           A       0.16      0.27      0.20        11\n",
      "           D       0.67      0.11      0.19        18\n",
      "           H       0.61      0.76      0.68        29\n",
      "\n",
      "    accuracy                           0.47        58\n",
      "   macro avg       0.48      0.38      0.36        58\n",
      "weighted avg       0.54      0.47      0.44        58\n"
     ]
    }
   ],
   "source": [
    "from sklearn.ensemble import VotingClassifier\n",
    "from sklearn.metrics import classification_report\n",
    "\n",
    "# Initialize the VotingClassifier\n",
    "voting_clf = VotingClassifier(estimators=[('catboost', catboost_model), ('xg', xg_model)], voting='soft')\n",
    "\n",
    "print(voting_clf)\n",
    "# Train the voting classifier on the original dataset (without SMOTE)\n",
    "voting_clf.fit(X_train_scaled, y_train)\n",
    "\n",
    "# Predict on the test set\n",
    "y_pred_voting = voting_clf.predict(X_test_scaled)\n",
    "\n",
    "# Classification report\n",
    "print(classification_report(y_test, y_pred_voting))\n",
    "\n"
   ],
   "metadata": {
    "collapsed": false,
    "ExecuteTime": {
     "end_time": "2023-12-29T13:48:55.227907200Z",
     "start_time": "2023-12-29T13:48:41.927811900Z"
    }
   },
   "id": "8c8f37a19a6072cd"
  },
  {
   "cell_type": "code",
   "execution_count": 432,
   "outputs": [
    {
     "name": "stdout",
     "output_type": "stream",
     "text": [
      "Southampton win probability: 0.16264999750259024\n",
      "Plymouth win probability: 0.6022062462375779\n",
      "Draw probability: 0.2351437637104124\n",
      "Birmingham win probability: 0.26071737046879717\n",
      "Bristol City win probability: 0.45939635357455155\n",
      "Draw probability: 0.2798862908578124\n"
     ]
    },
    {
     "data": {
      "text/plain": "(0.26071737046879717, 0.45939635357455155, 0.2798862908578124)"
     },
     "execution_count": 432,
     "metadata": {},
     "output_type": "execute_result"
    }
   ],
   "source": [
    "# make predictions for the 2023/24 season\n",
    "def predict_match(home_team, away_team, voting_clf, scaler):\n",
    "    # Create a dataframe with the appropriate format\n",
    "    match = pd.DataFrame(columns=['HomeTeamEncoded', 'AwayTeamEncoded', 'HomeTeamRecentForm', 'AwayTeamRecentForm', 'HomeTeamAvgGoals', 'AwayTeamAvgGoals', 'HomeTeamPoints', 'AwayTeamPoints', 'HomeTeamWinPercentage', 'AwayTeamWinPercentage', 'HomeTeamAvgShotsOnTarget', 'AwayTeamAvgShotsOnTarget', 'HomeTeamAvgGoalsHT', 'AwayTeamAvgGoalsHT'])\n",
    "    \n",
    "    # Populate the match dataframe with values from the cleaned dataset\n",
    "    match.loc[0] = [\n",
    "        label_encoder.transform([home_team])[0], \n",
    "        label_encoder.transform([away_team])[0], \n",
    "        calculate_form_points(home_team, df_cleaned), \n",
    "        calculate_form_points(away_team, df_cleaned), \n",
    "        df_cleaned[df_cleaned['HomeTeam'] == home_team]['HomeTeamAvgGoals'].mean(), \n",
    "        df_cleaned[df_cleaned['AwayTeam'] == away_team]['AwayTeamAvgGoals'].mean(), \n",
    "        calculate_team_points(home_team, df_cleaned), \n",
    "        calculate_team_points(away_team, df_cleaned), \n",
    "        home_team_win_percentage[home_team], \n",
    "        away_team_win_percentage[away_team], \n",
    "        df_cleaned[df_cleaned['HomeTeam'] == home_team]['HomeTeamAvgShotsOnTarget'].mean(), \n",
    "        df_cleaned[df_cleaned['AwayTeam'] == away_team]['AwayTeamAvgShotsOnTarget'].mean(), \n",
    "        df_cleaned[df_cleaned['HomeTeam'] == home_team]['HomeTeamAvgGoalsHT'].mean(), \n",
    "        df_cleaned[df_cleaned['AwayTeam'] == away_team]['AwayTeamAvgGoalsHT'].mean()\n",
    "    ]\n",
    "    \n",
    "    # Check for NaN values and handle them with imputer\n",
    "    match_imputed = imputer.transform(match)\n",
    "    \n",
    "    # Scale the features\n",
    "    match_scaled = scaler.transform(match)\n",
    "    \n",
    "    # Make predictions\n",
    "    home_team_win_prob = voting_clf.predict_proba(match_scaled)[0][0]\n",
    "    away_team_win_prob = voting_clf.predict_proba(match_scaled)[0][2]\n",
    "    draw_prob = voting_clf.predict_proba(match_scaled)[0][1]\n",
    "    \n",
    "    # Print the results\n",
    "    print(f\"{home_team} win probability: {home_team_win_prob}\")\n",
    "    print(f\"{away_team} win probability: {away_team_win_prob}\")\n",
    "    print(f\"Draw probability: {draw_prob}\")\n",
    "    \n",
    "    return home_team_win_prob, away_team_win_prob, draw_prob\n",
    "\n",
    "predict_match('Southampton', 'Plymouth', voting_clf, scaler)\n",
    "\n",
    "predict_match('Birmingham', 'Bristol City', voting_clf, scaler)\n"
   ],
   "metadata": {
    "collapsed": false,
    "ExecuteTime": {
     "end_time": "2023-12-29T13:49:27.136746500Z",
     "start_time": "2023-12-29T13:49:27.023600300Z"
    }
   },
   "id": "38612f5e6c1318d1"
  },
  {
   "cell_type": "code",
   "execution_count": null,
   "outputs": [],
   "source": [],
   "metadata": {
    "collapsed": false
   },
   "id": "e72d8fc1bf5e570c"
  }
 ],
 "metadata": {
  "kernelspec": {
   "display_name": "Python 3",
   "language": "python",
   "name": "python3"
  },
  "language_info": {
   "codemirror_mode": {
    "name": "ipython",
    "version": 2
   },
   "file_extension": ".py",
   "mimetype": "text/x-python",
   "name": "python",
   "nbconvert_exporter": "python",
   "pygments_lexer": "ipython2",
   "version": "2.7.6"
  }
 },
 "nbformat": 4,
 "nbformat_minor": 5
}
